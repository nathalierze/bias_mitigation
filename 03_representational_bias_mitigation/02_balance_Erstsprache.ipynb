{
 "cells": [
  {
   "cell_type": "code",
   "execution_count": null,
   "metadata": {},
   "outputs": [],
   "source": [
    "path = \"c:/Users/Nathalie/Nextcloud/LADi/Orthografie Trainer/Code/04_bias_mitigation/\"\n",
    "\n",
    "import sys\n",
    "\n",
    "sys.path.insert(1, path + \"classes\")\n",
    "\n",
    "from DecisionTree_insession import in_session_decision_tree\n",
    "from KNN_insession import in_session_KNN\n",
    "from MLP_insession import in_session_MLP\n",
    "from MetricsClass import Evaluation\n",
    "from Plotting import Plots\n",
    "\n",
    "import pandas as pd\n",
    "import seaborn as sns\n",
    "import pickle"
   ]
  },
  {
   "attachments": {},
   "cell_type": "markdown",
   "metadata": {},
   "source": [
    "Representational Bias Mitigation: Balance out dataset"
   ]
  },
  {
   "cell_type": "code",
   "execution_count": null,
   "metadata": {},
   "outputs": [],
   "source": [
    "## define feature cols\n",
    "feature_cols = [\n",
    "    \"Erstloesung\",\n",
    "    \"Schussel\",\n",
    "    \"Erfolg\",\n",
    "    \"Schwierigkeit\",\n",
    "    \"ist_Schulzeit\",\n",
    "    \"MehrfachFalsch\",\n",
    "    \"vorher_abgebrochen\",\n",
    "    \"Fehler\",\n",
    "    \"Klassenstufe\",\n",
    "    \"Jahredabei\",\n",
    "    \"AnzahlAufgaben\",\n",
    "    \"Sex__m\",\n",
    "    \"Sex__w\",\n",
    "    \"Testposition__pruefung\",\n",
    "    \"Testposition__training\",\n",
    "    \"Testposition__version\",\n",
    "    \"Art__GK\",\n",
    "    \"Art__GR\",\n",
    "    \"Art__GZ\",\n",
    "    \"Art__K\",\n",
    "    \"Art__LB\",\n",
    "    \"UserAttribut\",\n",
    "    \"OrderNumber\",\n",
    "    \"steps\",\n",
    "]"
   ]
  },
  {
   "attachments": {},
   "cell_type": "markdown",
   "metadata": {},
   "source": [
    "Decision Tree Classifier"
   ]
  },
  {
   "cell_type": "code",
   "execution_count": null,
   "metadata": {},
   "outputs": [],
   "source": [
    "DTE = in_session_decision_tree()\n",
    "DTE.set_range(2, 61) \n",
    "DTE.set_majority_group(\"eigSprache\")\n",
    "DTE.set_demographic_category(\"eigSprache\")\n",
    "\n",
    "DTE.load_matrices(\n",
    "    \"03_representational_bias_mitigation/eigSprache_allsessions/matrix\", \".pkl\", True\n",
    ")\n",
    "\n",
    "DTE.set_feature_cols(\n",
    "    feature_cols\n",
    ")\n",
    "\n",
    "DTE.set_majority_group(\"deutsch\")\n",
    "DTE.set_minority_group(\"migration\")\n",
    "\n",
    "metrics_DTE = DTE.loop_matrices(\"eigSprache_allsessions/matrix\",5,1,2)"
   ]
  },
  {
   "attachments": {},
   "cell_type": "markdown",
   "metadata": {},
   "source": [
    "KNN"
   ]
  },
  {
   "cell_type": "code",
   "execution_count": null,
   "metadata": {},
   "outputs": [],
   "source": [
    "KNN = in_session_KNN()\n",
    "KNN.set_range(2,61)  \n",
    "\n",
    "KNN.set_majority_group(\"eigSprache\")\n",
    "KNN.set_demographic_category(\"eigSprache\")\n",
    "\n",
    "KNN.load_matrices(\n",
    "    \"03_representational_bias_mitigation/eigSprache_allsessions/matrix\", \".pkl\", True\n",
    ")\n",
    "\n",
    "KNN.set_feature_cols(\n",
    "    feature_cols\n",
    ")\n",
    "\n",
    "KNN.set_majority_group(\"deutsch\")\n",
    "KNN.set_minority_group(\"migration\")\n",
    "metrics_KNN = KNN.loop_matrices(\"eigSprache_allsessions/matrix\",2,'uniform')"
   ]
  },
  {
   "attachments": {},
   "cell_type": "markdown",
   "metadata": {},
   "source": [
    "MLP"
   ]
  },
  {
   "cell_type": "code",
   "execution_count": null,
   "metadata": {},
   "outputs": [],
   "source": [
    "MLP = in_session_MLP()\n",
    "MLP.set_range(2, 61)  \n",
    "\n",
    "MLP.set_majority_group(\"eigSprache\")\n",
    "MLP.set_demographic_category(\"eigSprache\")\n",
    "\n",
    "MLP.load_matrices(\n",
    "    \"03_representational_bias_mitigation/eigSprache_allsessions/matrix\", \".pkl\", True\n",
    ")\n",
    "\n",
    "MLP.set_feature_cols(\n",
    "    feature_cols\n",
    ")\n",
    "\n",
    "MLP.set_majority_group(\"deutsch\")\n",
    "MLP.set_minority_group(\"migration\")\n",
    "metrics_MLP = MLP.loop_matrices(\"eigSprache_allsessions/matrix\",'Adam','binary_crossentropy','accuracy',24,24)"
   ]
  },
  {
   "cell_type": "code",
   "execution_count": null,
   "metadata": {},
   "outputs": [],
   "source": [
    "## construct dfs for all groups from metric df\n",
    "metrics = pd.concat([metrics_DTE, metrics_KNN, metrics_MLP])\n",
    "grouped = metrics.groupby(metrics.group)\n",
    "df_all = grouped.get_group(\"all\")"
   ]
  },
  {
   "cell_type": "code",
   "execution_count": null,
   "metadata": {},
   "outputs": [],
   "source": [
    "## plot accuracy by n and model\n",
    "ax = sns.lineplot(data=df_all, x=\"Sentence\", y=\"Accuracy\", hue=\"model\")"
   ]
  },
  {
   "cell_type": "code",
   "execution_count": null,
   "metadata": {},
   "outputs": [],
   "source": [
    "## plot count of sentences by n and model\n",
    "ax = sns.lineplot(data=df_all, x=\"Sentence\", y=\"Length\", hue=\"model\")"
   ]
  },
  {
   "cell_type": "markdown",
   "metadata": {},
   "source": [
    "Evaluate"
   ]
  },
  {
   "cell_type": "code",
   "execution_count": null,
   "metadata": {},
   "outputs": [],
   "source": [
    "# evaluate metrics for fairness\n",
    "evaluation_obj = Evaluation(metrics)\n",
    "evaluation_obj.set_demographic_category(\"eigSprache\")\n",
    "evaluation_obj.set_minority_group(\"migration\")\n",
    "evaluation_obj.set_majority_group(\"deutsch\")\n",
    "df_language = evaluation_obj.evaluate()"
   ]
  },
  {
   "cell_type": "code",
   "execution_count": null,
   "metadata": {},
   "outputs": [],
   "source": [
    "# show table\n",
    "table = evaluation_obj.showTable(df_language)\n",
    "table"
   ]
  },
  {
   "cell_type": "code",
   "execution_count": null,
   "metadata": {},
   "outputs": [],
   "source": [
    "## save results\n",
    "writer = pd.ExcelWriter(\"df_eigSprache.xlsx\", engine=\"xlsxwriter\")\n",
    "df_language.to_excel(writer, sheet_name=\"Erstsprache\")\n",
    "writer.save()"
   ]
  }
 ],
 "metadata": {
  "kernelspec": {
   "display_name": "Python 3.10.2 64-bit",
   "language": "python",
   "name": "python3"
  },
  "language_info": {
   "codemirror_mode": {
    "name": "ipython",
    "version": 3
   },
   "file_extension": ".py",
   "mimetype": "text/x-python",
   "name": "python",
   "nbconvert_exporter": "python",
   "pygments_lexer": "ipython3",
   "version": "3.10.2"
  },
  "orig_nbformat": 4,
  "vscode": {
   "interpreter": {
    "hash": "369f2c481f4da34e4445cda3fffd2e751bd1c4d706f27375911949ba6bb62e1c"
   }
  }
 },
 "nbformat": 4,
 "nbformat_minor": 2
}
