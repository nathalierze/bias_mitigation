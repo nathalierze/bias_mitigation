{
 "cells": [
  {
   "cell_type": "code",
   "execution_count": 7,
   "metadata": {},
   "outputs": [],
   "source": [
    "import pandas as pd\n",
    "import pickle\n",
    "import seaborn as sns\n",
    "import matplotlib.pyplot as plt\n",
    "import numpy as np\n",
    "from sklearn.model_selection import KFold , cross_val_score\n",
    "from sklearn import metrics \n",
    "from matplotlib import pyplot as plt\n",
    "from numpy import mean\n",
    "from numpy import absolute\n",
    "import openpyxl\n",
    "from sklearn.linear_model import LogisticRegression\n",
    "from sklearn.metrics import precision_recall_curve\n",
    "from sklearn.metrics import auc\n",
    "from sklearn.metrics import log_loss, roc_auc_score, recall_score, precision_score, accuracy_score, plot_roc_curve, plot_confusion_matrix, roc_curve, confusion_matrix\n",
    "from matplotlib import pyplot\n",
    "from tensorflow.keras.models import load_model\n",
    "from sklearn.metrics import log_loss, roc_auc_score, recall_score, precision_score, average_precision_score, f1_score, classification_report, accuracy_score, plot_roc_curve, plot_precision_recall_curve, plot_confusion_matrix"
   ]
  },
  {
   "cell_type": "code",
   "execution_count": 8,
   "metadata": {},
   "outputs": [],
   "source": [
    "# Import feature list\n",
    "infile = open('../04_predictionUserHistory/01_data/FINALsmallSampleSet_3months_without_duplicates.pkl','rb')\n",
    "import_file = pickle.load(infile)\n",
    "infile.close()\n",
    "df = import_file\n",
    "feature_cols = list(df.columns)"
   ]
  },
  {
   "cell_type": "code",
   "execution_count": 9,
   "metadata": {},
   "outputs": [],
   "source": [
    "def get_metrics(clf,X,y):\n",
    "    pred = clf.predict(X)\n",
    "    a = accuracy_score(y,pred)\n",
    "    p = precision_score(y,pred)\n",
    "    r = recall_score(y,pred)\n",
    "    roc_auc = roc_auc_score(y,pred)\n",
    "    tn, fp, fn, tp = confusion_matrix(y, pred).ravel()\n",
    "    fpr = fp/(fp+tn)\n",
    "\n",
    "    return a,p,r,roc_auc,fpr"
   ]
  },
  {
   "cell_type": "code",
   "execution_count": 10,
   "metadata": {},
   "outputs": [],
   "source": [
    "# list subgroups\n",
    "fair_metrics = pd.DataFrame(columns=['model', 'group', 'subgroup', 'Accuracy', 'Precision', 'Recall', 'AUC', 'FPR'])\n",
    "matrice = ['double_df_abi','double_df_keinAbi','double_df_boys','double_df_girls','double_df_deutsch','double_df_migration','double_df_buch0','double_df_buch1']\n",
    "group = ['abiEltern', 'abiEltern', 'gender', 'gender', 'erstsprache', 'erstsprache', 'buecher', 'buecher']\n",
    "subgroup = ['abi', 'keinAbi', 'boys', 'girls', 'deutsch', 'migration', 'buch0', 'buch1']"
   ]
  },
  {
   "cell_type": "code",
   "execution_count": null,
   "metadata": {},
   "outputs": [],
   "source": [
    "# DECISION TREE\n",
    "DTE_model = pickle.load(open('../04_predictionUserHistory/02_decisionTreeNoGender/DecisionTreemodel_3months.pkl', 'rb'))\n",
    "\n",
    "for (group, subgroup, matrice) in zip(group, subgroup, matrice):\n",
    "    print(matrice)\n",
    "    path= matrice+'.pkl'\n",
    "    infile = open(path,'rb')\n",
    "    df = pickle.load(infile)\n",
    "    infile.close()\n",
    "\n",
    "    dataset= df[df.columns[df.columns.isin(feature_cols)]]\n",
    "    #X_new = X.loc[~X.set_index(list(X.columns)).index.isin(trainX.set_index(list(trainX.columns)).index)]\n",
    "\n",
    "    y = dataset['Erfolg']\n",
    "    X = dataset.drop(columns=['Erfolg','Sex__m','Sex__w'])\n",
    "    a,p,r,roc_auc,fpr = get_metrics(DTE_model,X,y)\n",
    "    fair_metrics = fair_metrics.append({'model':'DTE','group':group,'subgroup':subgroup,'Accuracy':a,'Precision': p, 'Recall':r, 'AUC':roc_auc, 'FPR':fpr}, ignore_index=True)"
   ]
  },
  {
   "cell_type": "code",
   "execution_count": 12,
   "metadata": {},
   "outputs": [],
   "source": [
    "df = fair_metrics"
   ]
  },
  {
   "cell_type": "code",
   "execution_count": 13,
   "metadata": {},
   "outputs": [],
   "source": [
    "grouped = df.groupby(df.group)\n",
    "# df_abiEltern = grouped.get_group(\"abiEltern\")\n",
    "df_gender = grouped.get_group(\"gender\")\n",
    "# df_erstsprache = grouped.get_group(\"erstsprache\")\n",
    "# df_buecher = grouped.get_group(\"buecher\")"
   ]
  },
  {
   "cell_type": "code",
   "execution_count": 15,
   "metadata": {},
   "outputs": [],
   "source": [
    "df_gender = df_gender.drop(columns=['group', 'Accuracy'])#'Unnamed: 0',\n",
    "df_gender = pd.pivot_table(df_gender, values=[\"Precision\",\"Recall\",\"AUC\",\"FPR\"], index=[\"model\"], columns=[\"subgroup\"])\n",
    "df_gender['PP'] = df_gender.Precision.girls-df_gender.Precision.boys\n",
    "df_gender['EO'] = df_gender.Recall.boys-df_gender.Recall.girls\n",
    "df_gender['SA'] = df_gender.AUC.girls-df_gender.AUC.boys\n",
    "df_gender['PE'] = df_gender.FPR.boys-df_gender.FPR.girls\n",
    "\n",
    "# df_erstsprache = df_erstsprache.drop(columns=['group', 'Unnamed: 0', 'Accuracy'])\n",
    "# df_erstsprache = pd.pivot_table(df_erstsprache, values=[\"Precision\",\"Recall\",\"AUC\",\"FPR\"], index=[\"model\"], columns=[\"subgroup\"])\n",
    "# df_erstsprache['PP'] = df_erstsprache.Precision.deutsch-df_erstsprache.Precision.migration\n",
    "# df_erstsprache['EO'] = df_erstsprache.Recall.migration-df_erstsprache.Recall.deutsch\n",
    "# df_erstsprache['SA'] = df_erstsprache.AUC.deutsch-df_erstsprache.AUC.migration\n",
    "# df_erstsprache['PE'] = df_erstsprache.FPR.migration-df_erstsprache.FPR.deutsch\n",
    "\n",
    "\n",
    "# df_buecher = df_buecher.drop(columns=['group', 'Unnamed: 0', 'Accuracy'])\n",
    "# df_buecher = pd.pivot_table(df_buecher, values=[\"Precision\",\"Recall\",\"AUC\",\"FPR\"], index=[\"model\"], columns=[\"subgroup\"])\n",
    "# df_buecher['PP'] = df_buecher.Precision.buch1-df_buecher.Precision.buch0\n",
    "# df_buecher['EO'] = df_buecher.Recall.buch0-df_buecher.Recall.buch1\n",
    "# df_buecher['SA'] = df_buecher.AUC.buch1-df_buecher.AUC.buch0\n",
    "# df_buecher['PE'] = df_buecher.FPR.buch0-df_buecher.FPR.buch1\n",
    "\n",
    "# df_abiEltern = df_abiEltern.drop(columns=['group', 'Unnamed: 0', 'Accuracy'])\n",
    "# df_abiEltern = pd.pivot_table(df_abiEltern, values=[\"Precision\",\"Recall\",\"AUC\",\"FPR\"], index=[\"model\"], columns=[\"subgroup\"])\n",
    "# df_abiEltern['PP'] = df_abiEltern.Precision.abi-df_abiEltern.Precision.keinAbi\n",
    "# df_abiEltern['EO'] = df_abiEltern.Recall.keinAbi-df_abiEltern.Recall.abi\n",
    "# df_abiEltern['SA'] = df_abiEltern.AUC.abi-df_abiEltern.AUC.keinAbi\n",
    "# df_abiEltern['PE'] = df_abiEltern.FPR.keinAbi-df_abiEltern.FPR.abi\n",
    "\n",
    "#df_buecher = df_buecher.drop(columns=['AUC','Precision','Recall','FPR'])\n",
    "#df_erstsprache = df_erstsprache.drop(columns=['AUC','Precision','Recall','FPR'])\n",
    "df_gender = df_gender.drop(columns=['AUC','Precision','Recall','FPR'])\n",
    "#df_abiEltern = df_abiEltern.drop(columns=['AUC','Precision','Recall','FPR'])\n",
    "\n",
    "#df_buecher.columns = df_buecher.columns.droplevel(1)\n",
    "#df_erstsprache.columns = df_erstsprache.columns.droplevel(1)\n",
    "df_gender.columns = df_gender.columns.droplevel(1)\n",
    "#df_abiEltern.columns = df_abiEltern.columns.droplevel(1)\n",
    "\n",
    "#df_buecher = pd.pivot_table(df_buecher, values=[\"PP\",\"EO\",\"SA\",\"PE\"],  columns=[\"model\"])\n",
    "df_gender = pd.pivot_table(df_gender, values=[\"PP\",\"EO\",\"SA\",\"PE\"], columns=[\"model\"])\n",
    "#df_erstsprache = pd.pivot_table(df_erstsprache, values=[\"PP\",\"EO\",\"SA\",\"PE\"], columns=[\"model\"])\n",
    "#df_abiEltern = pd.pivot_table(df_abiEltern, values=[\"PP\",\"EO\",\"SA\",\"PE\"], columns=[\"model\"])"
   ]
  },
  {
   "cell_type": "code",
   "execution_count": 16,
   "metadata": {},
   "outputs": [],
   "source": [
    "#format result\n",
    "\n",
    "def threshold001(v, props=''):\n",
    "    return props if (v > 0.02) or (v < -0.02) else None\n",
    "\n",
    "def threshold005(v, props=''):\n",
    "    return props if (v > 0.05) or (v < -0.05) else None\n",
    "\n",
    "def negativeValue(v, props=''):\n",
    "    return props if (v < 0) else None\n",
    "\n",
    "def showTable(df):\n",
    "    styled = df.style.set_properties(color=\"black\", align=\"right\")\\\n",
    "        .set_properties(**{'background-color': 'white'})\\\n",
    "        .applymap(threshold001, props='color:orange;')\\\n",
    "        .applymap(threshold005, props='color:red;')\\\n",
    "        .applymap(negativeValue, props='font-weight:bold;')\n",
    "    return styled"
   ]
  },
  {
   "cell_type": "code",
   "execution_count": 17,
   "metadata": {},
   "outputs": [
    {
     "data": {
      "text/html": [
       "<style type=\"text/css\">\n",
       "#T_e6e5c_row0_col0 {\n",
       "  color: black;\n",
       "  align: right;\n",
       "  background-color: white;\n",
       "}\n",
       "#T_e6e5c_row1_col0, #T_e6e5c_row2_col0, #T_e6e5c_row3_col0 {\n",
       "  color: black;\n",
       "  align: right;\n",
       "  background-color: white;\n",
       "  font-weight: bold;\n",
       "}\n",
       "</style>\n",
       "<table id=\"T_e6e5c\">\n",
       "  <thead>\n",
       "    <tr>\n",
       "      <th class=\"index_name level0\" >model</th>\n",
       "      <th id=\"T_e6e5c_level0_col0\" class=\"col_heading level0 col0\" >DTE</th>\n",
       "    </tr>\n",
       "  </thead>\n",
       "  <tbody>\n",
       "    <tr>\n",
       "      <th id=\"T_e6e5c_level0_row0\" class=\"row_heading level0 row0\" >EO</th>\n",
       "      <td id=\"T_e6e5c_row0_col0\" class=\"data row0 col0\" >0.001797</td>\n",
       "    </tr>\n",
       "    <tr>\n",
       "      <th id=\"T_e6e5c_level0_row1\" class=\"row_heading level0 row1\" >PE</th>\n",
       "      <td id=\"T_e6e5c_row1_col0\" class=\"data row1 col0\" >-0.001389</td>\n",
       "    </tr>\n",
       "    <tr>\n",
       "      <th id=\"T_e6e5c_level0_row2\" class=\"row_heading level0 row2\" >PP</th>\n",
       "      <td id=\"T_e6e5c_row2_col0\" class=\"data row2 col0\" >-0.000037</td>\n",
       "    </tr>\n",
       "    <tr>\n",
       "      <th id=\"T_e6e5c_level0_row3\" class=\"row_heading level0 row3\" >SA</th>\n",
       "      <td id=\"T_e6e5c_row3_col0\" class=\"data row3 col0\" >-0.001593</td>\n",
       "    </tr>\n",
       "  </tbody>\n",
       "</table>\n"
      ],
      "text/plain": [
       "<pandas.io.formats.style.Styler at 0x1a781069e40>"
      ]
     },
     "execution_count": 17,
     "metadata": {},
     "output_type": "execute_result"
    }
   ],
   "source": [
    "s = showTable(df_gender)\n",
    "s"
   ]
  }
 ],
 "metadata": {
  "kernelspec": {
   "display_name": "Python 3.10.2 64-bit",
   "language": "python",
   "name": "python3"
  },
  "language_info": {
   "codemirror_mode": {
    "name": "ipython",
    "version": 3
   },
   "file_extension": ".py",
   "mimetype": "text/x-python",
   "name": "python",
   "nbconvert_exporter": "python",
   "pygments_lexer": "ipython3",
   "version": "3.10.2 (tags/v3.10.2:a58ebcc, Jan 17 2022, 14:12:15) [MSC v.1929 64 bit (AMD64)]"
  },
  "orig_nbformat": 4,
  "vscode": {
   "interpreter": {
    "hash": "369f2c481f4da34e4445cda3fffd2e751bd1c4d706f27375911949ba6bb62e1c"
   }
  }
 },
 "nbformat": 4,
 "nbformat_minor": 2
}
