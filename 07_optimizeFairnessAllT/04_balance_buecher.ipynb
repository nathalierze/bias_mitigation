{
 "cells": [
  {
   "cell_type": "code",
   "execution_count": 2,
   "metadata": {},
   "outputs": [],
   "source": [
    "import pandas as pd\n",
    "import pickle\n",
    "import seaborn as sns\n",
    "import numpy as np\n",
    "from sklearn.tree import DecisionTreeClassifier\n",
    "from sklearn.model_selection import train_test_split \n",
    "from sklearn.neighbors import KNeighborsClassifier\n",
    "from sklearn import tree\n",
    "from matplotlib import pyplot as plt\n",
    "from sklearn.model_selection import cross_val_score, KFold, StratifiedKFold\n",
    "from sklearn.preprocessing import StandardScaler\n",
    "from sklearn.model_selection import train_test_split\n",
    "from sklearn.metrics import log_loss, roc_auc_score, recall_score, precision_score, accuracy_score, plot_roc_curve, plot_confusion_matrix, roc_curve, confusion_matrix\n",
    "import itertools\n",
    "from tensorflow.keras.initializers import Constant, TruncatedNormal\n",
    "from tensorflow.keras.layers import Activation, Dense\n",
    "from tensorflow.keras.models import Sequential\n",
    "from tensorflow.keras.optimizers import Adam\n",
    "from tensorflow.keras.utils import to_categorical\n",
    "from tensorflow.keras.wrappers.scikit_learn import KerasClassifier\n",
    "from sklearn.preprocessing import LabelEncoder\n",
    "from numpy import mean, absolute"
   ]
  },
  {
   "cell_type": "markdown",
   "metadata": {},
   "source": [
    "Balance Out Dataset"
   ]
  },
  {
   "cell_type": "code",
   "execution_count": 3,
   "metadata": {},
   "outputs": [],
   "source": [
    "infile = open('../01_prognosemodell/06_newtry/fairness_ready.pkl','rb')\n",
    "df = pickle.load(infile)\n",
    "infile.close()"
   ]
  },
  {
   "cell_type": "code",
   "execution_count": 4,
   "metadata": {},
   "outputs": [],
   "source": [
    "df_grouped = df.groupby('UebungsID').agg({'Buecher':'first','ID':'count','Erstloesung': 'sum', 'Schussel': 'sum', 'Erfolg': 'sum', 'Schwierigkeit': 'mean', 'ist_Schulzeit': 'first', 'MehrfachFalsch':'first', 'vorher_abgebrochen':'first', 'y':'first','UserAttribut':'first',\n",
    "'Klassenstufe':'first', 'Jahredabei':'first', 'AnzahlAufgaben':'first', 'Art__GK':'first', 'Art__GR':'first', 'Art__GZ':'first',\n",
    "       'Art__K':'first', 'Art__LB':'first', 'HA__HA':'first', 'HA__Self':'first', 'HA__nt':'first', 'HA__vt':'first', 'HA__zt':'first',\n",
    "       'Sex__m':'first', 'Sex__w':'first', 'Testposition__pruefung':'sum', 'Testposition__training':'sum','Testposition__version':'sum', 'OrderNumber':'max', 'steps':'max'})\n",
    "\n",
    "df_grouped['Fehler'] = df_grouped['ID'] - df_grouped['Erfolg']\n",
    "df_grouped = df_grouped.reset_index()"
   ]
  },
  {
   "cell_type": "code",
   "execution_count": 5,
   "metadata": {},
   "outputs": [
    {
     "name": "stdout",
     "output_type": "stream",
     "text": [
      "7528\n",
      "40578\n"
     ]
    },
    {
     "name": "stderr",
     "output_type": "stream",
     "text": [
      "C:\\Users\\Nathalie\\AppData\\Local\\Temp\\ipykernel_5844\\1688392349.py:9: FutureWarning: The frame.append method is deprecated and will be removed from pandas in a future version. Use pandas.concat instead.\n",
      "  df_grouped = df_grouped_1.append(df_grouped_0)\n"
     ]
    }
   ],
   "source": [
    "#balance out dataset y\n",
    "df_grouped_1 = df_grouped[df_grouped.y == 1]\n",
    "df_grouped_0 = df_grouped[df_grouped.y == 0]\n",
    "\n",
    "print(len(df_grouped_0))\n",
    "print(len(df_grouped_1))\n",
    "\n",
    "df_grouped_1 = df_grouped_1.sample(n=7528)\n",
    "df_grouped = df_grouped_1.append(df_grouped_0)\n",
    "ids = df_grouped[['UebungsID']]\n",
    "df = pd.merge(df, ids, on='UebungsID')"
   ]
  },
  {
   "cell_type": "code",
   "execution_count": 6,
   "metadata": {},
   "outputs": [
    {
     "name": "stdout",
     "output_type": "stream",
     "text": [
      "6729\n",
      "68558\n"
     ]
    }
   ],
   "source": [
    "#balance out dataset buecher\n",
    "df['BedeutungNoten'] = df['BedeutungNoten'].replace(['1'],0)\n",
    "df['BedeutungNoten'] = df['BedeutungNoten'].replace(['4'],1)\n",
    "df_grouped_0 = df[df.BedeutungNoten == 0]\n",
    "df_grouped_1 = df[df.BedeutungNoten ==1]\n",
    "\n",
    "print(len(df_grouped_0))\n",
    "print(len(df_grouped_1))\n",
    "\n"
   ]
  },
  {
   "cell_type": "code",
   "execution_count": 7,
   "metadata": {},
   "outputs": [
    {
     "name": "stderr",
     "output_type": "stream",
     "text": [
      "C:\\Users\\Nathalie\\AppData\\Local\\Temp\\ipykernel_5844\\4144948476.py:2: FutureWarning: The frame.append method is deprecated and will be removed from pandas in a future version. Use pandas.concat instead.\n",
      "  df_grouped = df_grouped_1.append(df_grouped_0)\n"
     ]
    }
   ],
   "source": [
    "df_grouped_1 = df_grouped_1.sample(n=6755)\n",
    "df_grouped = df_grouped_1.append(df_grouped_0)\n",
    "df = df_grouped"
   ]
  },
  {
   "cell_type": "code",
   "execution_count": 8,
   "metadata": {},
   "outputs": [],
   "source": [
    "df_1 = df.loc[df['OrderNumber'] ==1]\n",
    "df_1.to_pickle('buecher_allsessions/matrix1.pkl')\n",
    "\n",
    "n = [2,3,4,5,6,7,8,9,10,11,12,13,14,15,16,17,18,19,20,21,22,23,24,25,26,27,28,29,30,31,32,33,34,35,36,37,38,39,40,41,42,43,44,45,46,47,48,49,50,51,52,53,54,55,56,57,58,59,60]\n",
    "\n",
    "for x in n:\n",
    "    df_x = df.loc[df['OrderNumber'] < (x+1)]\n",
    "    df_x = df_x.groupby('UebungsID').agg({'ID':'count','Erstloesung': 'sum', 'Schussel': 'sum', 'Erfolg': 'sum', 'Schwierigkeit': 'mean', 'ist_Schulzeit': 'first', 'MehrfachFalsch':'first', 'vorher_abgebrochen':'first', 'y':'first','UserAttribut':'first', 'Fehler':'first', \n",
    "'Klassenstufe':'first', 'Jahredabei':'first', 'AnzahlAufgaben':'first', 'Art__GK':'first', 'Art__GR':'first', 'Art__GZ':'first',\n",
    "       'Art__K':'first', 'Art__LB':'first', 'HA__HA':'first', 'HA__Self':'first', 'HA__nt':'first', 'HA__vt':'first', 'HA__zt':'first',\n",
    "       'Sex__m':'first', 'Sex__w':'first', 'Testposition__pruefung':'sum', 'Testposition__training':'sum','Testposition__version':'sum', 'OrderNumber':'max', 'steps':'max'})\n",
    "\n",
    "    df_x = df_x.loc[df_x['ID'] ==x]     \n",
    "    path = 'buecher_allsessions/matrix'+ str(x) +'.pkl'\n",
    "    df_x.to_pickle(path)"
   ]
  },
  {
   "cell_type": "markdown",
   "metadata": {},
   "source": [
    "Models"
   ]
  },
  {
   "cell_type": "code",
   "execution_count": 9,
   "metadata": {},
   "outputs": [],
   "source": [
    "metrics = pd.DataFrame(columns=['model', 'group', 'subgroup', 'Sentence', 'Accuracy', 'Precision', 'Recall', 'AUC', 'FPR'])"
   ]
  },
  {
   "cell_type": "code",
   "execution_count": 10,
   "metadata": {},
   "outputs": [],
   "source": [
    "def get_metrics(clf,X,y,cv,pred):\n",
    "    a = accuracy_score(y,pred)\n",
    "    p = precision_score(y,pred)\n",
    "    r = recall_score(y,pred)\n",
    "    roc_auc = roc_auc_score(y,pred)\n",
    "    tn, fp, fn, tp = confusion_matrix(y, pred).ravel()\n",
    "    fpr = fp/(fp+tn)\n",
    "\n",
    "    return a,p,r,roc_auc,fpr"
   ]
  },
  {
   "cell_type": "code",
   "execution_count": 11,
   "metadata": {},
   "outputs": [
    {
     "name": "stderr",
     "output_type": "stream",
     "text": [
      "C:\\Users\\Nathalie\\AppData\\Local\\Temp\\ipykernel_5844\\2849402174.py:25: FutureWarning: The frame.append method is deprecated and will be removed from pandas in a future version. Use pandas.concat instead.\n",
      "  metrics = metrics.append({'model':'DTE','group':'all','subgroup':'all','Sentence': i, 'Accuracy':a,'Precision': p, 'Recall':r, 'AUC':roc_auc, 'FPR':fpr}, ignore_index=True)\n",
      "C:\\Users\\Nathalie\\AppData\\Local\\Temp\\ipykernel_5844\\2849402174.py:43: FutureWarning: The frame.append method is deprecated and will be removed from pandas in a future version. Use pandas.concat instead.\n",
      "  metrics = metrics.append({'model':'DTE','group':group,'subgroup':subgroup,'Sentence': i, 'Accuracy':a,'Precision': p, 'Recall':r, 'AUC':roc_auc, 'FPR':fpr}, ignore_index=True)\n",
      "C:\\Users\\Nathalie\\AppData\\Local\\Temp\\ipykernel_5844\\2849402174.py:43: FutureWarning: The frame.append method is deprecated and will be removed from pandas in a future version. Use pandas.concat instead.\n",
      "  metrics = metrics.append({'model':'DTE','group':group,'subgroup':subgroup,'Sentence': i, 'Accuracy':a,'Precision': p, 'Recall':r, 'AUC':roc_auc, 'FPR':fpr}, ignore_index=True)\n",
      "C:\\Users\\Nathalie\\AppData\\Local\\Temp\\ipykernel_5844\\2849402174.py:25: FutureWarning: The frame.append method is deprecated and will be removed from pandas in a future version. Use pandas.concat instead.\n",
      "  metrics = metrics.append({'model':'DTE','group':'all','subgroup':'all','Sentence': i, 'Accuracy':a,'Precision': p, 'Recall':r, 'AUC':roc_auc, 'FPR':fpr}, ignore_index=True)\n",
      "C:\\Users\\Nathalie\\AppData\\Local\\Temp\\ipykernel_5844\\2849402174.py:43: FutureWarning: The frame.append method is deprecated and will be removed from pandas in a future version. Use pandas.concat instead.\n",
      "  metrics = metrics.append({'model':'DTE','group':group,'subgroup':subgroup,'Sentence': i, 'Accuracy':a,'Precision': p, 'Recall':r, 'AUC':roc_auc, 'FPR':fpr}, ignore_index=True)\n",
      "C:\\Users\\Nathalie\\AppData\\Local\\Temp\\ipykernel_5844\\2849402174.py:43: FutureWarning: The frame.append method is deprecated and will be removed from pandas in a future version. Use pandas.concat instead.\n",
      "  metrics = metrics.append({'model':'DTE','group':group,'subgroup':subgroup,'Sentence': i, 'Accuracy':a,'Precision': p, 'Recall':r, 'AUC':roc_auc, 'FPR':fpr}, ignore_index=True)\n",
      "C:\\Users\\Nathalie\\AppData\\Local\\Temp\\ipykernel_5844\\2849402174.py:25: FutureWarning: The frame.append method is deprecated and will be removed from pandas in a future version. Use pandas.concat instead.\n",
      "  metrics = metrics.append({'model':'DTE','group':'all','subgroup':'all','Sentence': i, 'Accuracy':a,'Precision': p, 'Recall':r, 'AUC':roc_auc, 'FPR':fpr}, ignore_index=True)\n",
      "C:\\Users\\Nathalie\\AppData\\Local\\Temp\\ipykernel_5844\\2849402174.py:43: FutureWarning: The frame.append method is deprecated and will be removed from pandas in a future version. Use pandas.concat instead.\n",
      "  metrics = metrics.append({'model':'DTE','group':group,'subgroup':subgroup,'Sentence': i, 'Accuracy':a,'Precision': p, 'Recall':r, 'AUC':roc_auc, 'FPR':fpr}, ignore_index=True)\n",
      "C:\\Users\\Nathalie\\AppData\\Local\\Temp\\ipykernel_5844\\2849402174.py:43: FutureWarning: The frame.append method is deprecated and will be removed from pandas in a future version. Use pandas.concat instead.\n",
      "  metrics = metrics.append({'model':'DTE','group':group,'subgroup':subgroup,'Sentence': i, 'Accuracy':a,'Precision': p, 'Recall':r, 'AUC':roc_auc, 'FPR':fpr}, ignore_index=True)\n",
      "C:\\Users\\Nathalie\\AppData\\Local\\Temp\\ipykernel_5844\\2849402174.py:25: FutureWarning: The frame.append method is deprecated and will be removed from pandas in a future version. Use pandas.concat instead.\n",
      "  metrics = metrics.append({'model':'DTE','group':'all','subgroup':'all','Sentence': i, 'Accuracy':a,'Precision': p, 'Recall':r, 'AUC':roc_auc, 'FPR':fpr}, ignore_index=True)\n",
      "C:\\Users\\Nathalie\\AppData\\Local\\Temp\\ipykernel_5844\\2849402174.py:43: FutureWarning: The frame.append method is deprecated and will be removed from pandas in a future version. Use pandas.concat instead.\n",
      "  metrics = metrics.append({'model':'DTE','group':group,'subgroup':subgroup,'Sentence': i, 'Accuracy':a,'Precision': p, 'Recall':r, 'AUC':roc_auc, 'FPR':fpr}, ignore_index=True)\n",
      "C:\\Users\\Nathalie\\AppData\\Local\\Temp\\ipykernel_5844\\2849402174.py:43: FutureWarning: The frame.append method is deprecated and will be removed from pandas in a future version. Use pandas.concat instead.\n",
      "  metrics = metrics.append({'model':'DTE','group':group,'subgroup':subgroup,'Sentence': i, 'Accuracy':a,'Precision': p, 'Recall':r, 'AUC':roc_auc, 'FPR':fpr}, ignore_index=True)\n",
      "C:\\Users\\Nathalie\\AppData\\Local\\Temp\\ipykernel_5844\\2849402174.py:25: FutureWarning: The frame.append method is deprecated and will be removed from pandas in a future version. Use pandas.concat instead.\n",
      "  metrics = metrics.append({'model':'DTE','group':'all','subgroup':'all','Sentence': i, 'Accuracy':a,'Precision': p, 'Recall':r, 'AUC':roc_auc, 'FPR':fpr}, ignore_index=True)\n",
      "C:\\Users\\Nathalie\\AppData\\Local\\Temp\\ipykernel_5844\\2849402174.py:43: FutureWarning: The frame.append method is deprecated and will be removed from pandas in a future version. Use pandas.concat instead.\n",
      "  metrics = metrics.append({'model':'DTE','group':group,'subgroup':subgroup,'Sentence': i, 'Accuracy':a,'Precision': p, 'Recall':r, 'AUC':roc_auc, 'FPR':fpr}, ignore_index=True)\n",
      "C:\\Users\\Nathalie\\AppData\\Local\\Temp\\ipykernel_5844\\2849402174.py:43: FutureWarning: The frame.append method is deprecated and will be removed from pandas in a future version. Use pandas.concat instead.\n",
      "  metrics = metrics.append({'model':'DTE','group':group,'subgroup':subgroup,'Sentence': i, 'Accuracy':a,'Precision': p, 'Recall':r, 'AUC':roc_auc, 'FPR':fpr}, ignore_index=True)\n",
      "C:\\Users\\Nathalie\\AppData\\Local\\Temp\\ipykernel_5844\\2849402174.py:25: FutureWarning: The frame.append method is deprecated and will be removed from pandas in a future version. Use pandas.concat instead.\n",
      "  metrics = metrics.append({'model':'DTE','group':'all','subgroup':'all','Sentence': i, 'Accuracy':a,'Precision': p, 'Recall':r, 'AUC':roc_auc, 'FPR':fpr}, ignore_index=True)\n",
      "C:\\Users\\Nathalie\\AppData\\Local\\Temp\\ipykernel_5844\\2849402174.py:43: FutureWarning: The frame.append method is deprecated and will be removed from pandas in a future version. Use pandas.concat instead.\n",
      "  metrics = metrics.append({'model':'DTE','group':group,'subgroup':subgroup,'Sentence': i, 'Accuracy':a,'Precision': p, 'Recall':r, 'AUC':roc_auc, 'FPR':fpr}, ignore_index=True)\n",
      "C:\\Users\\Nathalie\\AppData\\Local\\Temp\\ipykernel_5844\\2849402174.py:43: FutureWarning: The frame.append method is deprecated and will be removed from pandas in a future version. Use pandas.concat instead.\n",
      "  metrics = metrics.append({'model':'DTE','group':group,'subgroup':subgroup,'Sentence': i, 'Accuracy':a,'Precision': p, 'Recall':r, 'AUC':roc_auc, 'FPR':fpr}, ignore_index=True)\n",
      "C:\\Users\\Nathalie\\AppData\\Local\\Temp\\ipykernel_5844\\2849402174.py:25: FutureWarning: The frame.append method is deprecated and will be removed from pandas in a future version. Use pandas.concat instead.\n",
      "  metrics = metrics.append({'model':'DTE','group':'all','subgroup':'all','Sentence': i, 'Accuracy':a,'Precision': p, 'Recall':r, 'AUC':roc_auc, 'FPR':fpr}, ignore_index=True)\n",
      "C:\\Users\\Nathalie\\AppData\\Local\\Temp\\ipykernel_5844\\2849402174.py:43: FutureWarning: The frame.append method is deprecated and will be removed from pandas in a future version. Use pandas.concat instead.\n",
      "  metrics = metrics.append({'model':'DTE','group':group,'subgroup':subgroup,'Sentence': i, 'Accuracy':a,'Precision': p, 'Recall':r, 'AUC':roc_auc, 'FPR':fpr}, ignore_index=True)\n",
      "C:\\Users\\Nathalie\\AppData\\Local\\Temp\\ipykernel_5844\\2849402174.py:43: FutureWarning: The frame.append method is deprecated and will be removed from pandas in a future version. Use pandas.concat instead.\n",
      "  metrics = metrics.append({'model':'DTE','group':group,'subgroup':subgroup,'Sentence': i, 'Accuracy':a,'Precision': p, 'Recall':r, 'AUC':roc_auc, 'FPR':fpr}, ignore_index=True)\n",
      "C:\\Users\\Nathalie\\AppData\\Local\\Temp\\ipykernel_5844\\2849402174.py:25: FutureWarning: The frame.append method is deprecated and will be removed from pandas in a future version. Use pandas.concat instead.\n",
      "  metrics = metrics.append({'model':'DTE','group':'all','subgroup':'all','Sentence': i, 'Accuracy':a,'Precision': p, 'Recall':r, 'AUC':roc_auc, 'FPR':fpr}, ignore_index=True)\n",
      "C:\\Users\\Nathalie\\AppData\\Local\\Temp\\ipykernel_5844\\2849402174.py:43: FutureWarning: The frame.append method is deprecated and will be removed from pandas in a future version. Use pandas.concat instead.\n",
      "  metrics = metrics.append({'model':'DTE','group':group,'subgroup':subgroup,'Sentence': i, 'Accuracy':a,'Precision': p, 'Recall':r, 'AUC':roc_auc, 'FPR':fpr}, ignore_index=True)\n",
      "C:\\Users\\Nathalie\\AppData\\Local\\Temp\\ipykernel_5844\\2849402174.py:43: FutureWarning: The frame.append method is deprecated and will be removed from pandas in a future version. Use pandas.concat instead.\n",
      "  metrics = metrics.append({'model':'DTE','group':group,'subgroup':subgroup,'Sentence': i, 'Accuracy':a,'Precision': p, 'Recall':r, 'AUC':roc_auc, 'FPR':fpr}, ignore_index=True)\n",
      "C:\\Users\\Nathalie\\AppData\\Local\\Temp\\ipykernel_5844\\2849402174.py:25: FutureWarning: The frame.append method is deprecated and will be removed from pandas in a future version. Use pandas.concat instead.\n",
      "  metrics = metrics.append({'model':'DTE','group':'all','subgroup':'all','Sentence': i, 'Accuracy':a,'Precision': p, 'Recall':r, 'AUC':roc_auc, 'FPR':fpr}, ignore_index=True)\n",
      "C:\\Users\\Nathalie\\AppData\\Local\\Temp\\ipykernel_5844\\2849402174.py:43: FutureWarning: The frame.append method is deprecated and will be removed from pandas in a future version. Use pandas.concat instead.\n",
      "  metrics = metrics.append({'model':'DTE','group':group,'subgroup':subgroup,'Sentence': i, 'Accuracy':a,'Precision': p, 'Recall':r, 'AUC':roc_auc, 'FPR':fpr}, ignore_index=True)\n",
      "C:\\Users\\Nathalie\\AppData\\Local\\Temp\\ipykernel_5844\\2849402174.py:43: FutureWarning: The frame.append method is deprecated and will be removed from pandas in a future version. Use pandas.concat instead.\n",
      "  metrics = metrics.append({'model':'DTE','group':group,'subgroup':subgroup,'Sentence': i, 'Accuracy':a,'Precision': p, 'Recall':r, 'AUC':roc_auc, 'FPR':fpr}, ignore_index=True)\n",
      "C:\\Users\\Nathalie\\AppData\\Local\\Temp\\ipykernel_5844\\2849402174.py:25: FutureWarning: The frame.append method is deprecated and will be removed from pandas in a future version. Use pandas.concat instead.\n",
      "  metrics = metrics.append({'model':'DTE','group':'all','subgroup':'all','Sentence': i, 'Accuracy':a,'Precision': p, 'Recall':r, 'AUC':roc_auc, 'FPR':fpr}, ignore_index=True)\n",
      "C:\\Users\\Nathalie\\AppData\\Local\\Temp\\ipykernel_5844\\2849402174.py:43: FutureWarning: The frame.append method is deprecated and will be removed from pandas in a future version. Use pandas.concat instead.\n",
      "  metrics = metrics.append({'model':'DTE','group':group,'subgroup':subgroup,'Sentence': i, 'Accuracy':a,'Precision': p, 'Recall':r, 'AUC':roc_auc, 'FPR':fpr}, ignore_index=True)\n",
      "C:\\Users\\Nathalie\\AppData\\Local\\Temp\\ipykernel_5844\\2849402174.py:43: FutureWarning: The frame.append method is deprecated and will be removed from pandas in a future version. Use pandas.concat instead.\n",
      "  metrics = metrics.append({'model':'DTE','group':group,'subgroup':subgroup,'Sentence': i, 'Accuracy':a,'Precision': p, 'Recall':r, 'AUC':roc_auc, 'FPR':fpr}, ignore_index=True)\n",
      "C:\\Users\\Nathalie\\AppData\\Local\\Temp\\ipykernel_5844\\2849402174.py:25: FutureWarning: The frame.append method is deprecated and will be removed from pandas in a future version. Use pandas.concat instead.\n",
      "  metrics = metrics.append({'model':'DTE','group':'all','subgroup':'all','Sentence': i, 'Accuracy':a,'Precision': p, 'Recall':r, 'AUC':roc_auc, 'FPR':fpr}, ignore_index=True)\n",
      "C:\\Users\\Nathalie\\AppData\\Local\\Temp\\ipykernel_5844\\2849402174.py:43: FutureWarning: The frame.append method is deprecated and will be removed from pandas in a future version. Use pandas.concat instead.\n",
      "  metrics = metrics.append({'model':'DTE','group':group,'subgroup':subgroup,'Sentence': i, 'Accuracy':a,'Precision': p, 'Recall':r, 'AUC':roc_auc, 'FPR':fpr}, ignore_index=True)\n",
      "C:\\Users\\Nathalie\\AppData\\Local\\Temp\\ipykernel_5844\\2849402174.py:43: FutureWarning: The frame.append method is deprecated and will be removed from pandas in a future version. Use pandas.concat instead.\n",
      "  metrics = metrics.append({'model':'DTE','group':group,'subgroup':subgroup,'Sentence': i, 'Accuracy':a,'Precision': p, 'Recall':r, 'AUC':roc_auc, 'FPR':fpr}, ignore_index=True)\n",
      "C:\\Users\\Nathalie\\AppData\\Local\\Temp\\ipykernel_5844\\2849402174.py:25: FutureWarning: The frame.append method is deprecated and will be removed from pandas in a future version. Use pandas.concat instead.\n",
      "  metrics = metrics.append({'model':'DTE','group':'all','subgroup':'all','Sentence': i, 'Accuracy':a,'Precision': p, 'Recall':r, 'AUC':roc_auc, 'FPR':fpr}, ignore_index=True)\n",
      "C:\\Users\\Nathalie\\AppData\\Local\\Temp\\ipykernel_5844\\2849402174.py:43: FutureWarning: The frame.append method is deprecated and will be removed from pandas in a future version. Use pandas.concat instead.\n",
      "  metrics = metrics.append({'model':'DTE','group':group,'subgroup':subgroup,'Sentence': i, 'Accuracy':a,'Precision': p, 'Recall':r, 'AUC':roc_auc, 'FPR':fpr}, ignore_index=True)\n",
      "C:\\Users\\Nathalie\\AppData\\Local\\Temp\\ipykernel_5844\\2849402174.py:43: FutureWarning: The frame.append method is deprecated and will be removed from pandas in a future version. Use pandas.concat instead.\n",
      "  metrics = metrics.append({'model':'DTE','group':group,'subgroup':subgroup,'Sentence': i, 'Accuracy':a,'Precision': p, 'Recall':r, 'AUC':roc_auc, 'FPR':fpr}, ignore_index=True)\n",
      "C:\\Users\\Nathalie\\AppData\\Local\\Temp\\ipykernel_5844\\2849402174.py:25: FutureWarning: The frame.append method is deprecated and will be removed from pandas in a future version. Use pandas.concat instead.\n",
      "  metrics = metrics.append({'model':'DTE','group':'all','subgroup':'all','Sentence': i, 'Accuracy':a,'Precision': p, 'Recall':r, 'AUC':roc_auc, 'FPR':fpr}, ignore_index=True)\n",
      "C:\\Users\\Nathalie\\AppData\\Local\\Temp\\ipykernel_5844\\2849402174.py:43: FutureWarning: The frame.append method is deprecated and will be removed from pandas in a future version. Use pandas.concat instead.\n",
      "  metrics = metrics.append({'model':'DTE','group':group,'subgroup':subgroup,'Sentence': i, 'Accuracy':a,'Precision': p, 'Recall':r, 'AUC':roc_auc, 'FPR':fpr}, ignore_index=True)\n",
      "C:\\Users\\Nathalie\\AppData\\Local\\Temp\\ipykernel_5844\\2849402174.py:43: FutureWarning: The frame.append method is deprecated and will be removed from pandas in a future version. Use pandas.concat instead.\n",
      "  metrics = metrics.append({'model':'DTE','group':group,'subgroup':subgroup,'Sentence': i, 'Accuracy':a,'Precision': p, 'Recall':r, 'AUC':roc_auc, 'FPR':fpr}, ignore_index=True)\n",
      "C:\\Users\\Nathalie\\AppData\\Local\\Temp\\ipykernel_5844\\2849402174.py:25: FutureWarning: The frame.append method is deprecated and will be removed from pandas in a future version. Use pandas.concat instead.\n",
      "  metrics = metrics.append({'model':'DTE','group':'all','subgroup':'all','Sentence': i, 'Accuracy':a,'Precision': p, 'Recall':r, 'AUC':roc_auc, 'FPR':fpr}, ignore_index=True)\n",
      "C:\\Users\\Nathalie\\AppData\\Local\\Temp\\ipykernel_5844\\2849402174.py:43: FutureWarning: The frame.append method is deprecated and will be removed from pandas in a future version. Use pandas.concat instead.\n",
      "  metrics = metrics.append({'model':'DTE','group':group,'subgroup':subgroup,'Sentence': i, 'Accuracy':a,'Precision': p, 'Recall':r, 'AUC':roc_auc, 'FPR':fpr}, ignore_index=True)\n",
      "C:\\Users\\Nathalie\\AppData\\Local\\Temp\\ipykernel_5844\\2849402174.py:43: FutureWarning: The frame.append method is deprecated and will be removed from pandas in a future version. Use pandas.concat instead.\n",
      "  metrics = metrics.append({'model':'DTE','group':group,'subgroup':subgroup,'Sentence': i, 'Accuracy':a,'Precision': p, 'Recall':r, 'AUC':roc_auc, 'FPR':fpr}, ignore_index=True)\n",
      "C:\\Users\\Nathalie\\AppData\\Local\\Temp\\ipykernel_5844\\2849402174.py:25: FutureWarning: The frame.append method is deprecated and will be removed from pandas in a future version. Use pandas.concat instead.\n",
      "  metrics = metrics.append({'model':'DTE','group':'all','subgroup':'all','Sentence': i, 'Accuracy':a,'Precision': p, 'Recall':r, 'AUC':roc_auc, 'FPR':fpr}, ignore_index=True)\n",
      "C:\\Users\\Nathalie\\AppData\\Local\\Temp\\ipykernel_5844\\2849402174.py:43: FutureWarning: The frame.append method is deprecated and will be removed from pandas in a future version. Use pandas.concat instead.\n",
      "  metrics = metrics.append({'model':'DTE','group':group,'subgroup':subgroup,'Sentence': i, 'Accuracy':a,'Precision': p, 'Recall':r, 'AUC':roc_auc, 'FPR':fpr}, ignore_index=True)\n",
      "C:\\Users\\Nathalie\\AppData\\Local\\Temp\\ipykernel_5844\\2849402174.py:43: FutureWarning: The frame.append method is deprecated and will be removed from pandas in a future version. Use pandas.concat instead.\n",
      "  metrics = metrics.append({'model':'DTE','group':group,'subgroup':subgroup,'Sentence': i, 'Accuracy':a,'Precision': p, 'Recall':r, 'AUC':roc_auc, 'FPR':fpr}, ignore_index=True)\n",
      "C:\\Users\\Nathalie\\AppData\\Local\\Temp\\ipykernel_5844\\2849402174.py:25: FutureWarning: The frame.append method is deprecated and will be removed from pandas in a future version. Use pandas.concat instead.\n",
      "  metrics = metrics.append({'model':'DTE','group':'all','subgroup':'all','Sentence': i, 'Accuracy':a,'Precision': p, 'Recall':r, 'AUC':roc_auc, 'FPR':fpr}, ignore_index=True)\n",
      "C:\\Users\\Nathalie\\AppData\\Local\\Temp\\ipykernel_5844\\2849402174.py:43: FutureWarning: The frame.append method is deprecated and will be removed from pandas in a future version. Use pandas.concat instead.\n",
      "  metrics = metrics.append({'model':'DTE','group':group,'subgroup':subgroup,'Sentence': i, 'Accuracy':a,'Precision': p, 'Recall':r, 'AUC':roc_auc, 'FPR':fpr}, ignore_index=True)\n",
      "C:\\Users\\Nathalie\\AppData\\Local\\Temp\\ipykernel_5844\\2849402174.py:43: FutureWarning: The frame.append method is deprecated and will be removed from pandas in a future version. Use pandas.concat instead.\n",
      "  metrics = metrics.append({'model':'DTE','group':group,'subgroup':subgroup,'Sentence': i, 'Accuracy':a,'Precision': p, 'Recall':r, 'AUC':roc_auc, 'FPR':fpr}, ignore_index=True)\n",
      "C:\\Users\\Nathalie\\AppData\\Local\\Temp\\ipykernel_5844\\2849402174.py:25: FutureWarning: The frame.append method is deprecated and will be removed from pandas in a future version. Use pandas.concat instead.\n",
      "  metrics = metrics.append({'model':'DTE','group':'all','subgroup':'all','Sentence': i, 'Accuracy':a,'Precision': p, 'Recall':r, 'AUC':roc_auc, 'FPR':fpr}, ignore_index=True)\n",
      "C:\\Users\\Nathalie\\AppData\\Local\\Temp\\ipykernel_5844\\2849402174.py:43: FutureWarning: The frame.append method is deprecated and will be removed from pandas in a future version. Use pandas.concat instead.\n",
      "  metrics = metrics.append({'model':'DTE','group':group,'subgroup':subgroup,'Sentence': i, 'Accuracy':a,'Precision': p, 'Recall':r, 'AUC':roc_auc, 'FPR':fpr}, ignore_index=True)\n",
      "C:\\Users\\Nathalie\\AppData\\Local\\Temp\\ipykernel_5844\\2849402174.py:43: FutureWarning: The frame.append method is deprecated and will be removed from pandas in a future version. Use pandas.concat instead.\n",
      "  metrics = metrics.append({'model':'DTE','group':group,'subgroup':subgroup,'Sentence': i, 'Accuracy':a,'Precision': p, 'Recall':r, 'AUC':roc_auc, 'FPR':fpr}, ignore_index=True)\n",
      "C:\\Users\\Nathalie\\AppData\\Local\\Temp\\ipykernel_5844\\2849402174.py:25: FutureWarning: The frame.append method is deprecated and will be removed from pandas in a future version. Use pandas.concat instead.\n",
      "  metrics = metrics.append({'model':'DTE','group':'all','subgroup':'all','Sentence': i, 'Accuracy':a,'Precision': p, 'Recall':r, 'AUC':roc_auc, 'FPR':fpr}, ignore_index=True)\n",
      "C:\\Users\\Nathalie\\AppData\\Local\\Temp\\ipykernel_5844\\2849402174.py:43: FutureWarning: The frame.append method is deprecated and will be removed from pandas in a future version. Use pandas.concat instead.\n",
      "  metrics = metrics.append({'model':'DTE','group':group,'subgroup':subgroup,'Sentence': i, 'Accuracy':a,'Precision': p, 'Recall':r, 'AUC':roc_auc, 'FPR':fpr}, ignore_index=True)\n",
      "C:\\Users\\Nathalie\\AppData\\Local\\Temp\\ipykernel_5844\\2849402174.py:43: FutureWarning: The frame.append method is deprecated and will be removed from pandas in a future version. Use pandas.concat instead.\n",
      "  metrics = metrics.append({'model':'DTE','group':group,'subgroup':subgroup,'Sentence': i, 'Accuracy':a,'Precision': p, 'Recall':r, 'AUC':roc_auc, 'FPR':fpr}, ignore_index=True)\n",
      "C:\\Users\\Nathalie\\AppData\\Local\\Temp\\ipykernel_5844\\2849402174.py:25: FutureWarning: The frame.append method is deprecated and will be removed from pandas in a future version. Use pandas.concat instead.\n",
      "  metrics = metrics.append({'model':'DTE','group':'all','subgroup':'all','Sentence': i, 'Accuracy':a,'Precision': p, 'Recall':r, 'AUC':roc_auc, 'FPR':fpr}, ignore_index=True)\n",
      "C:\\Users\\Nathalie\\AppData\\Local\\Temp\\ipykernel_5844\\2849402174.py:43: FutureWarning: The frame.append method is deprecated and will be removed from pandas in a future version. Use pandas.concat instead.\n",
      "  metrics = metrics.append({'model':'DTE','group':group,'subgroup':subgroup,'Sentence': i, 'Accuracy':a,'Precision': p, 'Recall':r, 'AUC':roc_auc, 'FPR':fpr}, ignore_index=True)\n",
      "C:\\Users\\Nathalie\\AppData\\Local\\Temp\\ipykernel_5844\\2849402174.py:43: FutureWarning: The frame.append method is deprecated and will be removed from pandas in a future version. Use pandas.concat instead.\n",
      "  metrics = metrics.append({'model':'DTE','group':group,'subgroup':subgroup,'Sentence': i, 'Accuracy':a,'Precision': p, 'Recall':r, 'AUC':roc_auc, 'FPR':fpr}, ignore_index=True)\n",
      "C:\\Users\\Nathalie\\AppData\\Local\\Temp\\ipykernel_5844\\2849402174.py:25: FutureWarning: The frame.append method is deprecated and will be removed from pandas in a future version. Use pandas.concat instead.\n",
      "  metrics = metrics.append({'model':'DTE','group':'all','subgroup':'all','Sentence': i, 'Accuracy':a,'Precision': p, 'Recall':r, 'AUC':roc_auc, 'FPR':fpr}, ignore_index=True)\n",
      "C:\\Users\\Nathalie\\AppData\\Local\\Temp\\ipykernel_5844\\2849402174.py:43: FutureWarning: The frame.append method is deprecated and will be removed from pandas in a future version. Use pandas.concat instead.\n",
      "  metrics = metrics.append({'model':'DTE','group':group,'subgroup':subgroup,'Sentence': i, 'Accuracy':a,'Precision': p, 'Recall':r, 'AUC':roc_auc, 'FPR':fpr}, ignore_index=True)\n",
      "C:\\Users\\Nathalie\\AppData\\Local\\Temp\\ipykernel_5844\\2849402174.py:43: FutureWarning: The frame.append method is deprecated and will be removed from pandas in a future version. Use pandas.concat instead.\n",
      "  metrics = metrics.append({'model':'DTE','group':group,'subgroup':subgroup,'Sentence': i, 'Accuracy':a,'Precision': p, 'Recall':r, 'AUC':roc_auc, 'FPR':fpr}, ignore_index=True)\n",
      "C:\\Users\\Nathalie\\AppData\\Local\\Temp\\ipykernel_5844\\2849402174.py:25: FutureWarning: The frame.append method is deprecated and will be removed from pandas in a future version. Use pandas.concat instead.\n",
      "  metrics = metrics.append({'model':'DTE','group':'all','subgroup':'all','Sentence': i, 'Accuracy':a,'Precision': p, 'Recall':r, 'AUC':roc_auc, 'FPR':fpr}, ignore_index=True)\n",
      "C:\\Users\\Nathalie\\AppData\\Local\\Temp\\ipykernel_5844\\2849402174.py:43: FutureWarning: The frame.append method is deprecated and will be removed from pandas in a future version. Use pandas.concat instead.\n",
      "  metrics = metrics.append({'model':'DTE','group':group,'subgroup':subgroup,'Sentence': i, 'Accuracy':a,'Precision': p, 'Recall':r, 'AUC':roc_auc, 'FPR':fpr}, ignore_index=True)\n",
      "C:\\Users\\Nathalie\\AppData\\Local\\Temp\\ipykernel_5844\\2849402174.py:43: FutureWarning: The frame.append method is deprecated and will be removed from pandas in a future version. Use pandas.concat instead.\n",
      "  metrics = metrics.append({'model':'DTE','group':group,'subgroup':subgroup,'Sentence': i, 'Accuracy':a,'Precision': p, 'Recall':r, 'AUC':roc_auc, 'FPR':fpr}, ignore_index=True)\n",
      "C:\\Users\\Nathalie\\AppData\\Local\\Temp\\ipykernel_5844\\2849402174.py:25: FutureWarning: The frame.append method is deprecated and will be removed from pandas in a future version. Use pandas.concat instead.\n",
      "  metrics = metrics.append({'model':'DTE','group':'all','subgroup':'all','Sentence': i, 'Accuracy':a,'Precision': p, 'Recall':r, 'AUC':roc_auc, 'FPR':fpr}, ignore_index=True)\n",
      "C:\\Users\\Nathalie\\AppData\\Local\\Temp\\ipykernel_5844\\2849402174.py:43: FutureWarning: The frame.append method is deprecated and will be removed from pandas in a future version. Use pandas.concat instead.\n",
      "  metrics = metrics.append({'model':'DTE','group':group,'subgroup':subgroup,'Sentence': i, 'Accuracy':a,'Precision': p, 'Recall':r, 'AUC':roc_auc, 'FPR':fpr}, ignore_index=True)\n",
      "C:\\Users\\Nathalie\\AppData\\Local\\Temp\\ipykernel_5844\\2849402174.py:43: FutureWarning: The frame.append method is deprecated and will be removed from pandas in a future version. Use pandas.concat instead.\n",
      "  metrics = metrics.append({'model':'DTE','group':group,'subgroup':subgroup,'Sentence': i, 'Accuracy':a,'Precision': p, 'Recall':r, 'AUC':roc_auc, 'FPR':fpr}, ignore_index=True)\n",
      "C:\\Users\\Nathalie\\AppData\\Local\\Temp\\ipykernel_5844\\2849402174.py:25: FutureWarning: The frame.append method is deprecated and will be removed from pandas in a future version. Use pandas.concat instead.\n",
      "  metrics = metrics.append({'model':'DTE','group':'all','subgroup':'all','Sentence': i, 'Accuracy':a,'Precision': p, 'Recall':r, 'AUC':roc_auc, 'FPR':fpr}, ignore_index=True)\n",
      "C:\\Users\\Nathalie\\AppData\\Local\\Temp\\ipykernel_5844\\2849402174.py:43: FutureWarning: The frame.append method is deprecated and will be removed from pandas in a future version. Use pandas.concat instead.\n",
      "  metrics = metrics.append({'model':'DTE','group':group,'subgroup':subgroup,'Sentence': i, 'Accuracy':a,'Precision': p, 'Recall':r, 'AUC':roc_auc, 'FPR':fpr}, ignore_index=True)\n",
      "C:\\Users\\Nathalie\\AppData\\Local\\Temp\\ipykernel_5844\\2849402174.py:43: FutureWarning: The frame.append method is deprecated and will be removed from pandas in a future version. Use pandas.concat instead.\n",
      "  metrics = metrics.append({'model':'DTE','group':group,'subgroup':subgroup,'Sentence': i, 'Accuracy':a,'Precision': p, 'Recall':r, 'AUC':roc_auc, 'FPR':fpr}, ignore_index=True)\n",
      "C:\\Users\\Nathalie\\AppData\\Local\\Temp\\ipykernel_5844\\2849402174.py:25: FutureWarning: The frame.append method is deprecated and will be removed from pandas in a future version. Use pandas.concat instead.\n",
      "  metrics = metrics.append({'model':'DTE','group':'all','subgroup':'all','Sentence': i, 'Accuracy':a,'Precision': p, 'Recall':r, 'AUC':roc_auc, 'FPR':fpr}, ignore_index=True)\n",
      "C:\\Users\\Nathalie\\AppData\\Local\\Temp\\ipykernel_5844\\2849402174.py:43: FutureWarning: The frame.append method is deprecated and will be removed from pandas in a future version. Use pandas.concat instead.\n",
      "  metrics = metrics.append({'model':'DTE','group':group,'subgroup':subgroup,'Sentence': i, 'Accuracy':a,'Precision': p, 'Recall':r, 'AUC':roc_auc, 'FPR':fpr}, ignore_index=True)\n",
      "C:\\Users\\Nathalie\\AppData\\Local\\Temp\\ipykernel_5844\\2849402174.py:43: FutureWarning: The frame.append method is deprecated and will be removed from pandas in a future version. Use pandas.concat instead.\n",
      "  metrics = metrics.append({'model':'DTE','group':group,'subgroup':subgroup,'Sentence': i, 'Accuracy':a,'Precision': p, 'Recall':r, 'AUC':roc_auc, 'FPR':fpr}, ignore_index=True)\n",
      "C:\\Users\\Nathalie\\AppData\\Local\\Temp\\ipykernel_5844\\2849402174.py:25: FutureWarning: The frame.append method is deprecated and will be removed from pandas in a future version. Use pandas.concat instead.\n",
      "  metrics = metrics.append({'model':'DTE','group':'all','subgroup':'all','Sentence': i, 'Accuracy':a,'Precision': p, 'Recall':r, 'AUC':roc_auc, 'FPR':fpr}, ignore_index=True)\n",
      "C:\\Users\\Nathalie\\AppData\\Local\\Temp\\ipykernel_5844\\2849402174.py:43: FutureWarning: The frame.append method is deprecated and will be removed from pandas in a future version. Use pandas.concat instead.\n",
      "  metrics = metrics.append({'model':'DTE','group':group,'subgroup':subgroup,'Sentence': i, 'Accuracy':a,'Precision': p, 'Recall':r, 'AUC':roc_auc, 'FPR':fpr}, ignore_index=True)\n",
      "C:\\Users\\Nathalie\\AppData\\Local\\Temp\\ipykernel_5844\\2849402174.py:43: FutureWarning: The frame.append method is deprecated and will be removed from pandas in a future version. Use pandas.concat instead.\n",
      "  metrics = metrics.append({'model':'DTE','group':group,'subgroup':subgroup,'Sentence': i, 'Accuracy':a,'Precision': p, 'Recall':r, 'AUC':roc_auc, 'FPR':fpr}, ignore_index=True)\n",
      "C:\\Users\\Nathalie\\AppData\\Local\\Temp\\ipykernel_5844\\2849402174.py:25: FutureWarning: The frame.append method is deprecated and will be removed from pandas in a future version. Use pandas.concat instead.\n",
      "  metrics = metrics.append({'model':'DTE','group':'all','subgroup':'all','Sentence': i, 'Accuracy':a,'Precision': p, 'Recall':r, 'AUC':roc_auc, 'FPR':fpr}, ignore_index=True)\n",
      "C:\\Users\\Nathalie\\AppData\\Local\\Temp\\ipykernel_5844\\2849402174.py:43: FutureWarning: The frame.append method is deprecated and will be removed from pandas in a future version. Use pandas.concat instead.\n",
      "  metrics = metrics.append({'model':'DTE','group':group,'subgroup':subgroup,'Sentence': i, 'Accuracy':a,'Precision': p, 'Recall':r, 'AUC':roc_auc, 'FPR':fpr}, ignore_index=True)\n",
      "C:\\Users\\Nathalie\\AppData\\Local\\Temp\\ipykernel_5844\\2849402174.py:43: FutureWarning: The frame.append method is deprecated and will be removed from pandas in a future version. Use pandas.concat instead.\n",
      "  metrics = metrics.append({'model':'DTE','group':group,'subgroup':subgroup,'Sentence': i, 'Accuracy':a,'Precision': p, 'Recall':r, 'AUC':roc_auc, 'FPR':fpr}, ignore_index=True)\n",
      "C:\\Users\\Nathalie\\AppData\\Local\\Temp\\ipykernel_5844\\2849402174.py:25: FutureWarning: The frame.append method is deprecated and will be removed from pandas in a future version. Use pandas.concat instead.\n",
      "  metrics = metrics.append({'model':'DTE','group':'all','subgroup':'all','Sentence': i, 'Accuracy':a,'Precision': p, 'Recall':r, 'AUC':roc_auc, 'FPR':fpr}, ignore_index=True)\n",
      "C:\\Users\\Nathalie\\AppData\\Local\\Temp\\ipykernel_5844\\2849402174.py:43: FutureWarning: The frame.append method is deprecated and will be removed from pandas in a future version. Use pandas.concat instead.\n",
      "  metrics = metrics.append({'model':'DTE','group':group,'subgroup':subgroup,'Sentence': i, 'Accuracy':a,'Precision': p, 'Recall':r, 'AUC':roc_auc, 'FPR':fpr}, ignore_index=True)\n",
      "C:\\Users\\Nathalie\\AppData\\Local\\Temp\\ipykernel_5844\\2849402174.py:43: FutureWarning: The frame.append method is deprecated and will be removed from pandas in a future version. Use pandas.concat instead.\n",
      "  metrics = metrics.append({'model':'DTE','group':group,'subgroup':subgroup,'Sentence': i, 'Accuracy':a,'Precision': p, 'Recall':r, 'AUC':roc_auc, 'FPR':fpr}, ignore_index=True)\n",
      "C:\\Users\\Nathalie\\AppData\\Local\\Temp\\ipykernel_5844\\2849402174.py:25: FutureWarning: The frame.append method is deprecated and will be removed from pandas in a future version. Use pandas.concat instead.\n",
      "  metrics = metrics.append({'model':'DTE','group':'all','subgroup':'all','Sentence': i, 'Accuracy':a,'Precision': p, 'Recall':r, 'AUC':roc_auc, 'FPR':fpr}, ignore_index=True)\n",
      "C:\\Users\\Nathalie\\AppData\\Local\\Temp\\ipykernel_5844\\2849402174.py:43: FutureWarning: The frame.append method is deprecated and will be removed from pandas in a future version. Use pandas.concat instead.\n",
      "  metrics = metrics.append({'model':'DTE','group':group,'subgroup':subgroup,'Sentence': i, 'Accuracy':a,'Precision': p, 'Recall':r, 'AUC':roc_auc, 'FPR':fpr}, ignore_index=True)\n",
      "C:\\Users\\Nathalie\\AppData\\Local\\Temp\\ipykernel_5844\\2849402174.py:43: FutureWarning: The frame.append method is deprecated and will be removed from pandas in a future version. Use pandas.concat instead.\n",
      "  metrics = metrics.append({'model':'DTE','group':group,'subgroup':subgroup,'Sentence': i, 'Accuracy':a,'Precision': p, 'Recall':r, 'AUC':roc_auc, 'FPR':fpr}, ignore_index=True)\n",
      "C:\\Users\\Nathalie\\AppData\\Local\\Temp\\ipykernel_5844\\2849402174.py:25: FutureWarning: The frame.append method is deprecated and will be removed from pandas in a future version. Use pandas.concat instead.\n",
      "  metrics = metrics.append({'model':'DTE','group':'all','subgroup':'all','Sentence': i, 'Accuracy':a,'Precision': p, 'Recall':r, 'AUC':roc_auc, 'FPR':fpr}, ignore_index=True)\n",
      "C:\\Users\\Nathalie\\AppData\\Local\\Temp\\ipykernel_5844\\2849402174.py:43: FutureWarning: The frame.append method is deprecated and will be removed from pandas in a future version. Use pandas.concat instead.\n",
      "  metrics = metrics.append({'model':'DTE','group':group,'subgroup':subgroup,'Sentence': i, 'Accuracy':a,'Precision': p, 'Recall':r, 'AUC':roc_auc, 'FPR':fpr}, ignore_index=True)\n",
      "C:\\Users\\Nathalie\\AppData\\Local\\Temp\\ipykernel_5844\\2849402174.py:43: FutureWarning: The frame.append method is deprecated and will be removed from pandas in a future version. Use pandas.concat instead.\n",
      "  metrics = metrics.append({'model':'DTE','group':group,'subgroup':subgroup,'Sentence': i, 'Accuracy':a,'Precision': p, 'Recall':r, 'AUC':roc_auc, 'FPR':fpr}, ignore_index=True)\n",
      "C:\\Users\\Nathalie\\AppData\\Local\\Temp\\ipykernel_5844\\2849402174.py:25: FutureWarning: The frame.append method is deprecated and will be removed from pandas in a future version. Use pandas.concat instead.\n",
      "  metrics = metrics.append({'model':'DTE','group':'all','subgroup':'all','Sentence': i, 'Accuracy':a,'Precision': p, 'Recall':r, 'AUC':roc_auc, 'FPR':fpr}, ignore_index=True)\n",
      "C:\\Users\\Nathalie\\AppData\\Local\\Temp\\ipykernel_5844\\2849402174.py:43: FutureWarning: The frame.append method is deprecated and will be removed from pandas in a future version. Use pandas.concat instead.\n",
      "  metrics = metrics.append({'model':'DTE','group':group,'subgroup':subgroup,'Sentence': i, 'Accuracy':a,'Precision': p, 'Recall':r, 'AUC':roc_auc, 'FPR':fpr}, ignore_index=True)\n",
      "C:\\Users\\Nathalie\\AppData\\Local\\Temp\\ipykernel_5844\\2849402174.py:43: FutureWarning: The frame.append method is deprecated and will be removed from pandas in a future version. Use pandas.concat instead.\n",
      "  metrics = metrics.append({'model':'DTE','group':group,'subgroup':subgroup,'Sentence': i, 'Accuracy':a,'Precision': p, 'Recall':r, 'AUC':roc_auc, 'FPR':fpr}, ignore_index=True)\n",
      "C:\\Users\\Nathalie\\AppData\\Local\\Temp\\ipykernel_5844\\2849402174.py:25: FutureWarning: The frame.append method is deprecated and will be removed from pandas in a future version. Use pandas.concat instead.\n",
      "  metrics = metrics.append({'model':'DTE','group':'all','subgroup':'all','Sentence': i, 'Accuracy':a,'Precision': p, 'Recall':r, 'AUC':roc_auc, 'FPR':fpr}, ignore_index=True)\n",
      "C:\\Users\\Nathalie\\AppData\\Local\\Temp\\ipykernel_5844\\2849402174.py:43: FutureWarning: The frame.append method is deprecated and will be removed from pandas in a future version. Use pandas.concat instead.\n",
      "  metrics = metrics.append({'model':'DTE','group':group,'subgroup':subgroup,'Sentence': i, 'Accuracy':a,'Precision': p, 'Recall':r, 'AUC':roc_auc, 'FPR':fpr}, ignore_index=True)\n",
      "C:\\Users\\Nathalie\\AppData\\Local\\Temp\\ipykernel_5844\\2849402174.py:43: FutureWarning: The frame.append method is deprecated and will be removed from pandas in a future version. Use pandas.concat instead.\n",
      "  metrics = metrics.append({'model':'DTE','group':group,'subgroup':subgroup,'Sentence': i, 'Accuracy':a,'Precision': p, 'Recall':r, 'AUC':roc_auc, 'FPR':fpr}, ignore_index=True)\n",
      "C:\\Users\\Nathalie\\AppData\\Local\\Temp\\ipykernel_5844\\2849402174.py:25: FutureWarning: The frame.append method is deprecated and will be removed from pandas in a future version. Use pandas.concat instead.\n",
      "  metrics = metrics.append({'model':'DTE','group':'all','subgroup':'all','Sentence': i, 'Accuracy':a,'Precision': p, 'Recall':r, 'AUC':roc_auc, 'FPR':fpr}, ignore_index=True)\n",
      "C:\\Users\\Nathalie\\AppData\\Local\\Temp\\ipykernel_5844\\2849402174.py:43: FutureWarning: The frame.append method is deprecated and will be removed from pandas in a future version. Use pandas.concat instead.\n",
      "  metrics = metrics.append({'model':'DTE','group':group,'subgroup':subgroup,'Sentence': i, 'Accuracy':a,'Precision': p, 'Recall':r, 'AUC':roc_auc, 'FPR':fpr}, ignore_index=True)\n",
      "C:\\Users\\Nathalie\\AppData\\Local\\Temp\\ipykernel_5844\\2849402174.py:43: FutureWarning: The frame.append method is deprecated and will be removed from pandas in a future version. Use pandas.concat instead.\n",
      "  metrics = metrics.append({'model':'DTE','group':group,'subgroup':subgroup,'Sentence': i, 'Accuracy':a,'Precision': p, 'Recall':r, 'AUC':roc_auc, 'FPR':fpr}, ignore_index=True)\n",
      "C:\\Users\\Nathalie\\AppData\\Local\\Temp\\ipykernel_5844\\2849402174.py:25: FutureWarning: The frame.append method is deprecated and will be removed from pandas in a future version. Use pandas.concat instead.\n",
      "  metrics = metrics.append({'model':'DTE','group':'all','subgroup':'all','Sentence': i, 'Accuracy':a,'Precision': p, 'Recall':r, 'AUC':roc_auc, 'FPR':fpr}, ignore_index=True)\n",
      "C:\\Users\\Nathalie\\AppData\\Local\\Temp\\ipykernel_5844\\2849402174.py:43: FutureWarning: The frame.append method is deprecated and will be removed from pandas in a future version. Use pandas.concat instead.\n",
      "  metrics = metrics.append({'model':'DTE','group':group,'subgroup':subgroup,'Sentence': i, 'Accuracy':a,'Precision': p, 'Recall':r, 'AUC':roc_auc, 'FPR':fpr}, ignore_index=True)\n",
      "C:\\Users\\Nathalie\\AppData\\Local\\Temp\\ipykernel_5844\\2849402174.py:43: FutureWarning: The frame.append method is deprecated and will be removed from pandas in a future version. Use pandas.concat instead.\n",
      "  metrics = metrics.append({'model':'DTE','group':group,'subgroup':subgroup,'Sentence': i, 'Accuracy':a,'Precision': p, 'Recall':r, 'AUC':roc_auc, 'FPR':fpr}, ignore_index=True)\n",
      "C:\\Users\\Nathalie\\AppData\\Local\\Temp\\ipykernel_5844\\2849402174.py:25: FutureWarning: The frame.append method is deprecated and will be removed from pandas in a future version. Use pandas.concat instead.\n",
      "  metrics = metrics.append({'model':'DTE','group':'all','subgroup':'all','Sentence': i, 'Accuracy':a,'Precision': p, 'Recall':r, 'AUC':roc_auc, 'FPR':fpr}, ignore_index=True)\n",
      "C:\\Users\\Nathalie\\AppData\\Local\\Temp\\ipykernel_5844\\2849402174.py:43: FutureWarning: The frame.append method is deprecated and will be removed from pandas in a future version. Use pandas.concat instead.\n",
      "  metrics = metrics.append({'model':'DTE','group':group,'subgroup':subgroup,'Sentence': i, 'Accuracy':a,'Precision': p, 'Recall':r, 'AUC':roc_auc, 'FPR':fpr}, ignore_index=True)\n",
      "C:\\Users\\Nathalie\\AppData\\Local\\Temp\\ipykernel_5844\\2849402174.py:43: FutureWarning: The frame.append method is deprecated and will be removed from pandas in a future version. Use pandas.concat instead.\n",
      "  metrics = metrics.append({'model':'DTE','group':group,'subgroup':subgroup,'Sentence': i, 'Accuracy':a,'Precision': p, 'Recall':r, 'AUC':roc_auc, 'FPR':fpr}, ignore_index=True)\n",
      "C:\\Users\\Nathalie\\AppData\\Local\\Temp\\ipykernel_5844\\2849402174.py:25: FutureWarning: The frame.append method is deprecated and will be removed from pandas in a future version. Use pandas.concat instead.\n",
      "  metrics = metrics.append({'model':'DTE','group':'all','subgroup':'all','Sentence': i, 'Accuracy':a,'Precision': p, 'Recall':r, 'AUC':roc_auc, 'FPR':fpr}, ignore_index=True)\n",
      "C:\\Users\\Nathalie\\AppData\\Local\\Temp\\ipykernel_5844\\2849402174.py:43: FutureWarning: The frame.append method is deprecated and will be removed from pandas in a future version. Use pandas.concat instead.\n",
      "  metrics = metrics.append({'model':'DTE','group':group,'subgroup':subgroup,'Sentence': i, 'Accuracy':a,'Precision': p, 'Recall':r, 'AUC':roc_auc, 'FPR':fpr}, ignore_index=True)\n",
      "C:\\Users\\Nathalie\\AppData\\Local\\Temp\\ipykernel_5844\\2849402174.py:43: FutureWarning: The frame.append method is deprecated and will be removed from pandas in a future version. Use pandas.concat instead.\n",
      "  metrics = metrics.append({'model':'DTE','group':group,'subgroup':subgroup,'Sentence': i, 'Accuracy':a,'Precision': p, 'Recall':r, 'AUC':roc_auc, 'FPR':fpr}, ignore_index=True)\n",
      "C:\\Users\\Nathalie\\AppData\\Local\\Temp\\ipykernel_5844\\2849402174.py:25: FutureWarning: The frame.append method is deprecated and will be removed from pandas in a future version. Use pandas.concat instead.\n",
      "  metrics = metrics.append({'model':'DTE','group':'all','subgroup':'all','Sentence': i, 'Accuracy':a,'Precision': p, 'Recall':r, 'AUC':roc_auc, 'FPR':fpr}, ignore_index=True)\n",
      "C:\\Users\\Nathalie\\AppData\\Local\\Temp\\ipykernel_5844\\2849402174.py:43: FutureWarning: The frame.append method is deprecated and will be removed from pandas in a future version. Use pandas.concat instead.\n",
      "  metrics = metrics.append({'model':'DTE','group':group,'subgroup':subgroup,'Sentence': i, 'Accuracy':a,'Precision': p, 'Recall':r, 'AUC':roc_auc, 'FPR':fpr}, ignore_index=True)\n",
      "C:\\Users\\Nathalie\\AppData\\Local\\Temp\\ipykernel_5844\\2849402174.py:43: FutureWarning: The frame.append method is deprecated and will be removed from pandas in a future version. Use pandas.concat instead.\n",
      "  metrics = metrics.append({'model':'DTE','group':group,'subgroup':subgroup,'Sentence': i, 'Accuracy':a,'Precision': p, 'Recall':r, 'AUC':roc_auc, 'FPR':fpr}, ignore_index=True)\n",
      "C:\\Users\\Nathalie\\AppData\\Local\\Temp\\ipykernel_5844\\2849402174.py:25: FutureWarning: The frame.append method is deprecated and will be removed from pandas in a future version. Use pandas.concat instead.\n",
      "  metrics = metrics.append({'model':'DTE','group':'all','subgroup':'all','Sentence': i, 'Accuracy':a,'Precision': p, 'Recall':r, 'AUC':roc_auc, 'FPR':fpr}, ignore_index=True)\n",
      "C:\\Users\\Nathalie\\AppData\\Local\\Temp\\ipykernel_5844\\2849402174.py:43: FutureWarning: The frame.append method is deprecated and will be removed from pandas in a future version. Use pandas.concat instead.\n",
      "  metrics = metrics.append({'model':'DTE','group':group,'subgroup':subgroup,'Sentence': i, 'Accuracy':a,'Precision': p, 'Recall':r, 'AUC':roc_auc, 'FPR':fpr}, ignore_index=True)\n",
      "C:\\Users\\Nathalie\\AppData\\Local\\Temp\\ipykernel_5844\\2849402174.py:43: FutureWarning: The frame.append method is deprecated and will be removed from pandas in a future version. Use pandas.concat instead.\n",
      "  metrics = metrics.append({'model':'DTE','group':group,'subgroup':subgroup,'Sentence': i, 'Accuracy':a,'Precision': p, 'Recall':r, 'AUC':roc_auc, 'FPR':fpr}, ignore_index=True)\n",
      "C:\\Users\\Nathalie\\AppData\\Local\\Temp\\ipykernel_5844\\2849402174.py:25: FutureWarning: The frame.append method is deprecated and will be removed from pandas in a future version. Use pandas.concat instead.\n",
      "  metrics = metrics.append({'model':'DTE','group':'all','subgroup':'all','Sentence': i, 'Accuracy':a,'Precision': p, 'Recall':r, 'AUC':roc_auc, 'FPR':fpr}, ignore_index=True)\n",
      "C:\\Users\\Nathalie\\AppData\\Local\\Temp\\ipykernel_5844\\2849402174.py:43: FutureWarning: The frame.append method is deprecated and will be removed from pandas in a future version. Use pandas.concat instead.\n",
      "  metrics = metrics.append({'model':'DTE','group':group,'subgroup':subgroup,'Sentence': i, 'Accuracy':a,'Precision': p, 'Recall':r, 'AUC':roc_auc, 'FPR':fpr}, ignore_index=True)\n",
      "C:\\Users\\Nathalie\\AppData\\Local\\Temp\\ipykernel_5844\\2849402174.py:43: FutureWarning: The frame.append method is deprecated and will be removed from pandas in a future version. Use pandas.concat instead.\n",
      "  metrics = metrics.append({'model':'DTE','group':group,'subgroup':subgroup,'Sentence': i, 'Accuracy':a,'Precision': p, 'Recall':r, 'AUC':roc_auc, 'FPR':fpr}, ignore_index=True)\n",
      "C:\\Users\\Nathalie\\AppData\\Local\\Temp\\ipykernel_5844\\2849402174.py:25: FutureWarning: The frame.append method is deprecated and will be removed from pandas in a future version. Use pandas.concat instead.\n",
      "  metrics = metrics.append({'model':'DTE','group':'all','subgroup':'all','Sentence': i, 'Accuracy':a,'Precision': p, 'Recall':r, 'AUC':roc_auc, 'FPR':fpr}, ignore_index=True)\n",
      "C:\\Users\\Nathalie\\AppData\\Local\\Temp\\ipykernel_5844\\2849402174.py:43: FutureWarning: The frame.append method is deprecated and will be removed from pandas in a future version. Use pandas.concat instead.\n",
      "  metrics = metrics.append({'model':'DTE','group':group,'subgroup':subgroup,'Sentence': i, 'Accuracy':a,'Precision': p, 'Recall':r, 'AUC':roc_auc, 'FPR':fpr}, ignore_index=True)\n",
      "C:\\Users\\Nathalie\\AppData\\Local\\Temp\\ipykernel_5844\\2849402174.py:43: FutureWarning: The frame.append method is deprecated and will be removed from pandas in a future version. Use pandas.concat instead.\n",
      "  metrics = metrics.append({'model':'DTE','group':group,'subgroup':subgroup,'Sentence': i, 'Accuracy':a,'Precision': p, 'Recall':r, 'AUC':roc_auc, 'FPR':fpr}, ignore_index=True)\n",
      "C:\\Users\\Nathalie\\AppData\\Local\\Temp\\ipykernel_5844\\2849402174.py:25: FutureWarning: The frame.append method is deprecated and will be removed from pandas in a future version. Use pandas.concat instead.\n",
      "  metrics = metrics.append({'model':'DTE','group':'all','subgroup':'all','Sentence': i, 'Accuracy':a,'Precision': p, 'Recall':r, 'AUC':roc_auc, 'FPR':fpr}, ignore_index=True)\n",
      "C:\\Users\\Nathalie\\AppData\\Local\\Temp\\ipykernel_5844\\2849402174.py:43: FutureWarning: The frame.append method is deprecated and will be removed from pandas in a future version. Use pandas.concat instead.\n",
      "  metrics = metrics.append({'model':'DTE','group':group,'subgroup':subgroup,'Sentence': i, 'Accuracy':a,'Precision': p, 'Recall':r, 'AUC':roc_auc, 'FPR':fpr}, ignore_index=True)\n",
      "C:\\Users\\Nathalie\\AppData\\Local\\Temp\\ipykernel_5844\\2849402174.py:43: FutureWarning: The frame.append method is deprecated and will be removed from pandas in a future version. Use pandas.concat instead.\n",
      "  metrics = metrics.append({'model':'DTE','group':group,'subgroup':subgroup,'Sentence': i, 'Accuracy':a,'Precision': p, 'Recall':r, 'AUC':roc_auc, 'FPR':fpr}, ignore_index=True)\n",
      "C:\\Users\\Nathalie\\AppData\\Local\\Temp\\ipykernel_5844\\2849402174.py:25: FutureWarning: The frame.append method is deprecated and will be removed from pandas in a future version. Use pandas.concat instead.\n",
      "  metrics = metrics.append({'model':'DTE','group':'all','subgroup':'all','Sentence': i, 'Accuracy':a,'Precision': p, 'Recall':r, 'AUC':roc_auc, 'FPR':fpr}, ignore_index=True)\n",
      "C:\\Users\\Nathalie\\AppData\\Local\\Temp\\ipykernel_5844\\2849402174.py:43: FutureWarning: The frame.append method is deprecated and will be removed from pandas in a future version. Use pandas.concat instead.\n",
      "  metrics = metrics.append({'model':'DTE','group':group,'subgroup':subgroup,'Sentence': i, 'Accuracy':a,'Precision': p, 'Recall':r, 'AUC':roc_auc, 'FPR':fpr}, ignore_index=True)\n",
      "C:\\Users\\Nathalie\\AppData\\Local\\Temp\\ipykernel_5844\\2849402174.py:43: FutureWarning: The frame.append method is deprecated and will be removed from pandas in a future version. Use pandas.concat instead.\n",
      "  metrics = metrics.append({'model':'DTE','group':group,'subgroup':subgroup,'Sentence': i, 'Accuracy':a,'Precision': p, 'Recall':r, 'AUC':roc_auc, 'FPR':fpr}, ignore_index=True)\n",
      "C:\\Users\\Nathalie\\AppData\\Local\\Temp\\ipykernel_5844\\2849402174.py:25: FutureWarning: The frame.append method is deprecated and will be removed from pandas in a future version. Use pandas.concat instead.\n",
      "  metrics = metrics.append({'model':'DTE','group':'all','subgroup':'all','Sentence': i, 'Accuracy':a,'Precision': p, 'Recall':r, 'AUC':roc_auc, 'FPR':fpr}, ignore_index=True)\n",
      "C:\\Users\\Nathalie\\AppData\\Local\\Temp\\ipykernel_5844\\2849402174.py:43: FutureWarning: The frame.append method is deprecated and will be removed from pandas in a future version. Use pandas.concat instead.\n",
      "  metrics = metrics.append({'model':'DTE','group':group,'subgroup':subgroup,'Sentence': i, 'Accuracy':a,'Precision': p, 'Recall':r, 'AUC':roc_auc, 'FPR':fpr}, ignore_index=True)\n",
      "C:\\Users\\Nathalie\\AppData\\Local\\Temp\\ipykernel_5844\\2849402174.py:43: FutureWarning: The frame.append method is deprecated and will be removed from pandas in a future version. Use pandas.concat instead.\n",
      "  metrics = metrics.append({'model':'DTE','group':group,'subgroup':subgroup,'Sentence': i, 'Accuracy':a,'Precision': p, 'Recall':r, 'AUC':roc_auc, 'FPR':fpr}, ignore_index=True)\n",
      "C:\\Users\\Nathalie\\AppData\\Local\\Temp\\ipykernel_5844\\2849402174.py:25: FutureWarning: The frame.append method is deprecated and will be removed from pandas in a future version. Use pandas.concat instead.\n",
      "  metrics = metrics.append({'model':'DTE','group':'all','subgroup':'all','Sentence': i, 'Accuracy':a,'Precision': p, 'Recall':r, 'AUC':roc_auc, 'FPR':fpr}, ignore_index=True)\n",
      "C:\\Users\\Nathalie\\AppData\\Local\\Temp\\ipykernel_5844\\2849402174.py:43: FutureWarning: The frame.append method is deprecated and will be removed from pandas in a future version. Use pandas.concat instead.\n",
      "  metrics = metrics.append({'model':'DTE','group':group,'subgroup':subgroup,'Sentence': i, 'Accuracy':a,'Precision': p, 'Recall':r, 'AUC':roc_auc, 'FPR':fpr}, ignore_index=True)\n",
      "C:\\Users\\Nathalie\\AppData\\Local\\Temp\\ipykernel_5844\\2849402174.py:43: FutureWarning: The frame.append method is deprecated and will be removed from pandas in a future version. Use pandas.concat instead.\n",
      "  metrics = metrics.append({'model':'DTE','group':group,'subgroup':subgroup,'Sentence': i, 'Accuracy':a,'Precision': p, 'Recall':r, 'AUC':roc_auc, 'FPR':fpr}, ignore_index=True)\n",
      "C:\\Users\\Nathalie\\AppData\\Local\\Temp\\ipykernel_5844\\2849402174.py:25: FutureWarning: The frame.append method is deprecated and will be removed from pandas in a future version. Use pandas.concat instead.\n",
      "  metrics = metrics.append({'model':'DTE','group':'all','subgroup':'all','Sentence': i, 'Accuracy':a,'Precision': p, 'Recall':r, 'AUC':roc_auc, 'FPR':fpr}, ignore_index=True)\n",
      "C:\\Users\\Nathalie\\AppData\\Local\\Temp\\ipykernel_5844\\2849402174.py:43: FutureWarning: The frame.append method is deprecated and will be removed from pandas in a future version. Use pandas.concat instead.\n",
      "  metrics = metrics.append({'model':'DTE','group':group,'subgroup':subgroup,'Sentence': i, 'Accuracy':a,'Precision': p, 'Recall':r, 'AUC':roc_auc, 'FPR':fpr}, ignore_index=True)\n",
      "C:\\Users\\Nathalie\\AppData\\Local\\Temp\\ipykernel_5844\\2849402174.py:43: FutureWarning: The frame.append method is deprecated and will be removed from pandas in a future version. Use pandas.concat instead.\n",
      "  metrics = metrics.append({'model':'DTE','group':group,'subgroup':subgroup,'Sentence': i, 'Accuracy':a,'Precision': p, 'Recall':r, 'AUC':roc_auc, 'FPR':fpr}, ignore_index=True)\n",
      "C:\\Users\\Nathalie\\AppData\\Local\\Temp\\ipykernel_5844\\2849402174.py:25: FutureWarning: The frame.append method is deprecated and will be removed from pandas in a future version. Use pandas.concat instead.\n",
      "  metrics = metrics.append({'model':'DTE','group':'all','subgroup':'all','Sentence': i, 'Accuracy':a,'Precision': p, 'Recall':r, 'AUC':roc_auc, 'FPR':fpr}, ignore_index=True)\n",
      "C:\\Users\\Nathalie\\AppData\\Local\\Temp\\ipykernel_5844\\2849402174.py:43: FutureWarning: The frame.append method is deprecated and will be removed from pandas in a future version. Use pandas.concat instead.\n",
      "  metrics = metrics.append({'model':'DTE','group':group,'subgroup':subgroup,'Sentence': i, 'Accuracy':a,'Precision': p, 'Recall':r, 'AUC':roc_auc, 'FPR':fpr}, ignore_index=True)\n",
      "C:\\Users\\Nathalie\\AppData\\Local\\Temp\\ipykernel_5844\\2849402174.py:43: FutureWarning: The frame.append method is deprecated and will be removed from pandas in a future version. Use pandas.concat instead.\n",
      "  metrics = metrics.append({'model':'DTE','group':group,'subgroup':subgroup,'Sentence': i, 'Accuracy':a,'Precision': p, 'Recall':r, 'AUC':roc_auc, 'FPR':fpr}, ignore_index=True)\n",
      "C:\\Users\\Nathalie\\AppData\\Local\\Temp\\ipykernel_5844\\2849402174.py:25: FutureWarning: The frame.append method is deprecated and will be removed from pandas in a future version. Use pandas.concat instead.\n",
      "  metrics = metrics.append({'model':'DTE','group':'all','subgroup':'all','Sentence': i, 'Accuracy':a,'Precision': p, 'Recall':r, 'AUC':roc_auc, 'FPR':fpr}, ignore_index=True)\n",
      "C:\\Users\\Nathalie\\AppData\\Local\\Temp\\ipykernel_5844\\2849402174.py:43: FutureWarning: The frame.append method is deprecated and will be removed from pandas in a future version. Use pandas.concat instead.\n",
      "  metrics = metrics.append({'model':'DTE','group':group,'subgroup':subgroup,'Sentence': i, 'Accuracy':a,'Precision': p, 'Recall':r, 'AUC':roc_auc, 'FPR':fpr}, ignore_index=True)\n",
      "C:\\Users\\Nathalie\\AppData\\Local\\Temp\\ipykernel_5844\\2849402174.py:43: FutureWarning: The frame.append method is deprecated and will be removed from pandas in a future version. Use pandas.concat instead.\n",
      "  metrics = metrics.append({'model':'DTE','group':group,'subgroup':subgroup,'Sentence': i, 'Accuracy':a,'Precision': p, 'Recall':r, 'AUC':roc_auc, 'FPR':fpr}, ignore_index=True)\n",
      "C:\\Users\\Nathalie\\AppData\\Local\\Temp\\ipykernel_5844\\2849402174.py:25: FutureWarning: The frame.append method is deprecated and will be removed from pandas in a future version. Use pandas.concat instead.\n",
      "  metrics = metrics.append({'model':'DTE','group':'all','subgroup':'all','Sentence': i, 'Accuracy':a,'Precision': p, 'Recall':r, 'AUC':roc_auc, 'FPR':fpr}, ignore_index=True)\n",
      "C:\\Users\\Nathalie\\AppData\\Local\\Temp\\ipykernel_5844\\2849402174.py:43: FutureWarning: The frame.append method is deprecated and will be removed from pandas in a future version. Use pandas.concat instead.\n",
      "  metrics = metrics.append({'model':'DTE','group':group,'subgroup':subgroup,'Sentence': i, 'Accuracy':a,'Precision': p, 'Recall':r, 'AUC':roc_auc, 'FPR':fpr}, ignore_index=True)\n",
      "C:\\Users\\Nathalie\\AppData\\Local\\Temp\\ipykernel_5844\\2849402174.py:43: FutureWarning: The frame.append method is deprecated and will be removed from pandas in a future version. Use pandas.concat instead.\n",
      "  metrics = metrics.append({'model':'DTE','group':group,'subgroup':subgroup,'Sentence': i, 'Accuracy':a,'Precision': p, 'Recall':r, 'AUC':roc_auc, 'FPR':fpr}, ignore_index=True)\n",
      "C:\\Users\\Nathalie\\AppData\\Local\\Temp\\ipykernel_5844\\2849402174.py:25: FutureWarning: The frame.append method is deprecated and will be removed from pandas in a future version. Use pandas.concat instead.\n",
      "  metrics = metrics.append({'model':'DTE','group':'all','subgroup':'all','Sentence': i, 'Accuracy':a,'Precision': p, 'Recall':r, 'AUC':roc_auc, 'FPR':fpr}, ignore_index=True)\n",
      "C:\\Users\\Nathalie\\AppData\\Local\\Temp\\ipykernel_5844\\2849402174.py:43: FutureWarning: The frame.append method is deprecated and will be removed from pandas in a future version. Use pandas.concat instead.\n",
      "  metrics = metrics.append({'model':'DTE','group':group,'subgroup':subgroup,'Sentence': i, 'Accuracy':a,'Precision': p, 'Recall':r, 'AUC':roc_auc, 'FPR':fpr}, ignore_index=True)\n",
      "C:\\Users\\Nathalie\\AppData\\Local\\Temp\\ipykernel_5844\\2849402174.py:43: FutureWarning: The frame.append method is deprecated and will be removed from pandas in a future version. Use pandas.concat instead.\n",
      "  metrics = metrics.append({'model':'DTE','group':group,'subgroup':subgroup,'Sentence': i, 'Accuracy':a,'Precision': p, 'Recall':r, 'AUC':roc_auc, 'FPR':fpr}, ignore_index=True)\n",
      "C:\\Users\\Nathalie\\AppData\\Local\\Temp\\ipykernel_5844\\2849402174.py:25: FutureWarning: The frame.append method is deprecated and will be removed from pandas in a future version. Use pandas.concat instead.\n",
      "  metrics = metrics.append({'model':'DTE','group':'all','subgroup':'all','Sentence': i, 'Accuracy':a,'Precision': p, 'Recall':r, 'AUC':roc_auc, 'FPR':fpr}, ignore_index=True)\n",
      "C:\\Users\\Nathalie\\AppData\\Local\\Temp\\ipykernel_5844\\2849402174.py:43: FutureWarning: The frame.append method is deprecated and will be removed from pandas in a future version. Use pandas.concat instead.\n",
      "  metrics = metrics.append({'model':'DTE','group':group,'subgroup':subgroup,'Sentence': i, 'Accuracy':a,'Precision': p, 'Recall':r, 'AUC':roc_auc, 'FPR':fpr}, ignore_index=True)\n",
      "C:\\Users\\Nathalie\\AppData\\Local\\Temp\\ipykernel_5844\\2849402174.py:43: FutureWarning: The frame.append method is deprecated and will be removed from pandas in a future version. Use pandas.concat instead.\n",
      "  metrics = metrics.append({'model':'DTE','group':group,'subgroup':subgroup,'Sentence': i, 'Accuracy':a,'Precision': p, 'Recall':r, 'AUC':roc_auc, 'FPR':fpr}, ignore_index=True)\n",
      "C:\\Users\\Nathalie\\AppData\\Local\\Temp\\ipykernel_5844\\2849402174.py:25: FutureWarning: The frame.append method is deprecated and will be removed from pandas in a future version. Use pandas.concat instead.\n",
      "  metrics = metrics.append({'model':'DTE','group':'all','subgroup':'all','Sentence': i, 'Accuracy':a,'Precision': p, 'Recall':r, 'AUC':roc_auc, 'FPR':fpr}, ignore_index=True)\n",
      "C:\\Users\\Nathalie\\AppData\\Local\\Temp\\ipykernel_5844\\2849402174.py:43: FutureWarning: The frame.append method is deprecated and will be removed from pandas in a future version. Use pandas.concat instead.\n",
      "  metrics = metrics.append({'model':'DTE','group':group,'subgroup':subgroup,'Sentence': i, 'Accuracy':a,'Precision': p, 'Recall':r, 'AUC':roc_auc, 'FPR':fpr}, ignore_index=True)\n",
      "C:\\Users\\Nathalie\\AppData\\Local\\Temp\\ipykernel_5844\\2849402174.py:43: FutureWarning: The frame.append method is deprecated and will be removed from pandas in a future version. Use pandas.concat instead.\n",
      "  metrics = metrics.append({'model':'DTE','group':group,'subgroup':subgroup,'Sentence': i, 'Accuracy':a,'Precision': p, 'Recall':r, 'AUC':roc_auc, 'FPR':fpr}, ignore_index=True)\n",
      "C:\\Users\\Nathalie\\AppData\\Local\\Temp\\ipykernel_5844\\2849402174.py:25: FutureWarning: The frame.append method is deprecated and will be removed from pandas in a future version. Use pandas.concat instead.\n",
      "  metrics = metrics.append({'model':'DTE','group':'all','subgroup':'all','Sentence': i, 'Accuracy':a,'Precision': p, 'Recall':r, 'AUC':roc_auc, 'FPR':fpr}, ignore_index=True)\n",
      "C:\\Users\\Nathalie\\AppData\\Local\\Temp\\ipykernel_5844\\2849402174.py:43: FutureWarning: The frame.append method is deprecated and will be removed from pandas in a future version. Use pandas.concat instead.\n",
      "  metrics = metrics.append({'model':'DTE','group':group,'subgroup':subgroup,'Sentence': i, 'Accuracy':a,'Precision': p, 'Recall':r, 'AUC':roc_auc, 'FPR':fpr}, ignore_index=True)\n",
      "C:\\Users\\Nathalie\\AppData\\Local\\Temp\\ipykernel_5844\\2849402174.py:43: FutureWarning: The frame.append method is deprecated and will be removed from pandas in a future version. Use pandas.concat instead.\n",
      "  metrics = metrics.append({'model':'DTE','group':group,'subgroup':subgroup,'Sentence': i, 'Accuracy':a,'Precision': p, 'Recall':r, 'AUC':roc_auc, 'FPR':fpr}, ignore_index=True)\n",
      "C:\\Users\\Nathalie\\AppData\\Local\\Temp\\ipykernel_5844\\2849402174.py:25: FutureWarning: The frame.append method is deprecated and will be removed from pandas in a future version. Use pandas.concat instead.\n",
      "  metrics = metrics.append({'model':'DTE','group':'all','subgroup':'all','Sentence': i, 'Accuracy':a,'Precision': p, 'Recall':r, 'AUC':roc_auc, 'FPR':fpr}, ignore_index=True)\n",
      "C:\\Users\\Nathalie\\AppData\\Local\\Temp\\ipykernel_5844\\2849402174.py:43: FutureWarning: The frame.append method is deprecated and will be removed from pandas in a future version. Use pandas.concat instead.\n",
      "  metrics = metrics.append({'model':'DTE','group':group,'subgroup':subgroup,'Sentence': i, 'Accuracy':a,'Precision': p, 'Recall':r, 'AUC':roc_auc, 'FPR':fpr}, ignore_index=True)\n",
      "C:\\Users\\Nathalie\\AppData\\Local\\Temp\\ipykernel_5844\\2849402174.py:43: FutureWarning: The frame.append method is deprecated and will be removed from pandas in a future version. Use pandas.concat instead.\n",
      "  metrics = metrics.append({'model':'DTE','group':group,'subgroup':subgroup,'Sentence': i, 'Accuracy':a,'Precision': p, 'Recall':r, 'AUC':roc_auc, 'FPR':fpr}, ignore_index=True)\n",
      "C:\\Users\\Nathalie\\AppData\\Local\\Temp\\ipykernel_5844\\2849402174.py:25: FutureWarning: The frame.append method is deprecated and will be removed from pandas in a future version. Use pandas.concat instead.\n",
      "  metrics = metrics.append({'model':'DTE','group':'all','subgroup':'all','Sentence': i, 'Accuracy':a,'Precision': p, 'Recall':r, 'AUC':roc_auc, 'FPR':fpr}, ignore_index=True)\n",
      "C:\\Users\\Nathalie\\AppData\\Local\\Temp\\ipykernel_5844\\2849402174.py:43: FutureWarning: The frame.append method is deprecated and will be removed from pandas in a future version. Use pandas.concat instead.\n",
      "  metrics = metrics.append({'model':'DTE','group':group,'subgroup':subgroup,'Sentence': i, 'Accuracy':a,'Precision': p, 'Recall':r, 'AUC':roc_auc, 'FPR':fpr}, ignore_index=True)\n",
      "C:\\Users\\Nathalie\\AppData\\Local\\Temp\\ipykernel_5844\\2849402174.py:43: FutureWarning: The frame.append method is deprecated and will be removed from pandas in a future version. Use pandas.concat instead.\n",
      "  metrics = metrics.append({'model':'DTE','group':group,'subgroup':subgroup,'Sentence': i, 'Accuracy':a,'Precision': p, 'Recall':r, 'AUC':roc_auc, 'FPR':fpr}, ignore_index=True)\n",
      "C:\\Users\\Nathalie\\AppData\\Local\\Temp\\ipykernel_5844\\2849402174.py:25: FutureWarning: The frame.append method is deprecated and will be removed from pandas in a future version. Use pandas.concat instead.\n",
      "  metrics = metrics.append({'model':'DTE','group':'all','subgroup':'all','Sentence': i, 'Accuracy':a,'Precision': p, 'Recall':r, 'AUC':roc_auc, 'FPR':fpr}, ignore_index=True)\n",
      "C:\\Users\\Nathalie\\AppData\\Local\\Temp\\ipykernel_5844\\2849402174.py:43: FutureWarning: The frame.append method is deprecated and will be removed from pandas in a future version. Use pandas.concat instead.\n",
      "  metrics = metrics.append({'model':'DTE','group':group,'subgroup':subgroup,'Sentence': i, 'Accuracy':a,'Precision': p, 'Recall':r, 'AUC':roc_auc, 'FPR':fpr}, ignore_index=True)\n",
      "C:\\Users\\Nathalie\\AppData\\Local\\Temp\\ipykernel_5844\\2849402174.py:43: FutureWarning: The frame.append method is deprecated and will be removed from pandas in a future version. Use pandas.concat instead.\n",
      "  metrics = metrics.append({'model':'DTE','group':group,'subgroup':subgroup,'Sentence': i, 'Accuracy':a,'Precision': p, 'Recall':r, 'AUC':roc_auc, 'FPR':fpr}, ignore_index=True)\n",
      "C:\\Users\\Nathalie\\AppData\\Local\\Temp\\ipykernel_5844\\2849402174.py:25: FutureWarning: The frame.append method is deprecated and will be removed from pandas in a future version. Use pandas.concat instead.\n",
      "  metrics = metrics.append({'model':'DTE','group':'all','subgroup':'all','Sentence': i, 'Accuracy':a,'Precision': p, 'Recall':r, 'AUC':roc_auc, 'FPR':fpr}, ignore_index=True)\n",
      "C:\\Users\\Nathalie\\AppData\\Local\\Temp\\ipykernel_5844\\2849402174.py:43: FutureWarning: The frame.append method is deprecated and will be removed from pandas in a future version. Use pandas.concat instead.\n",
      "  metrics = metrics.append({'model':'DTE','group':group,'subgroup':subgroup,'Sentence': i, 'Accuracy':a,'Precision': p, 'Recall':r, 'AUC':roc_auc, 'FPR':fpr}, ignore_index=True)\n",
      "C:\\Users\\Nathalie\\AppData\\Local\\Temp\\ipykernel_5844\\2849402174.py:43: FutureWarning: The frame.append method is deprecated and will be removed from pandas in a future version. Use pandas.concat instead.\n",
      "  metrics = metrics.append({'model':'DTE','group':group,'subgroup':subgroup,'Sentence': i, 'Accuracy':a,'Precision': p, 'Recall':r, 'AUC':roc_auc, 'FPR':fpr}, ignore_index=True)\n",
      "C:\\Users\\Nathalie\\AppData\\Local\\Temp\\ipykernel_5844\\2849402174.py:25: FutureWarning: The frame.append method is deprecated and will be removed from pandas in a future version. Use pandas.concat instead.\n",
      "  metrics = metrics.append({'model':'DTE','group':'all','subgroup':'all','Sentence': i, 'Accuracy':a,'Precision': p, 'Recall':r, 'AUC':roc_auc, 'FPR':fpr}, ignore_index=True)\n",
      "C:\\Users\\Nathalie\\AppData\\Local\\Temp\\ipykernel_5844\\2849402174.py:43: FutureWarning: The frame.append method is deprecated and will be removed from pandas in a future version. Use pandas.concat instead.\n",
      "  metrics = metrics.append({'model':'DTE','group':group,'subgroup':subgroup,'Sentence': i, 'Accuracy':a,'Precision': p, 'Recall':r, 'AUC':roc_auc, 'FPR':fpr}, ignore_index=True)\n",
      "C:\\Users\\Nathalie\\AppData\\Local\\Temp\\ipykernel_5844\\2849402174.py:43: FutureWarning: The frame.append method is deprecated and will be removed from pandas in a future version. Use pandas.concat instead.\n",
      "  metrics = metrics.append({'model':'DTE','group':group,'subgroup':subgroup,'Sentence': i, 'Accuracy':a,'Precision': p, 'Recall':r, 'AUC':roc_auc, 'FPR':fpr}, ignore_index=True)\n",
      "C:\\Users\\Nathalie\\AppData\\Local\\Temp\\ipykernel_5844\\2849402174.py:25: FutureWarning: The frame.append method is deprecated and will be removed from pandas in a future version. Use pandas.concat instead.\n",
      "  metrics = metrics.append({'model':'DTE','group':'all','subgroup':'all','Sentence': i, 'Accuracy':a,'Precision': p, 'Recall':r, 'AUC':roc_auc, 'FPR':fpr}, ignore_index=True)\n",
      "C:\\Users\\Nathalie\\AppData\\Local\\Temp\\ipykernel_5844\\2849402174.py:43: FutureWarning: The frame.append method is deprecated and will be removed from pandas in a future version. Use pandas.concat instead.\n",
      "  metrics = metrics.append({'model':'DTE','group':group,'subgroup':subgroup,'Sentence': i, 'Accuracy':a,'Precision': p, 'Recall':r, 'AUC':roc_auc, 'FPR':fpr}, ignore_index=True)\n",
      "C:\\Users\\Nathalie\\AppData\\Local\\Temp\\ipykernel_5844\\2849402174.py:43: FutureWarning: The frame.append method is deprecated and will be removed from pandas in a future version. Use pandas.concat instead.\n",
      "  metrics = metrics.append({'model':'DTE','group':group,'subgroup':subgroup,'Sentence': i, 'Accuracy':a,'Precision': p, 'Recall':r, 'AUC':roc_auc, 'FPR':fpr}, ignore_index=True)\n",
      "C:\\Users\\Nathalie\\AppData\\Local\\Temp\\ipykernel_5844\\2849402174.py:25: FutureWarning: The frame.append method is deprecated and will be removed from pandas in a future version. Use pandas.concat instead.\n",
      "  metrics = metrics.append({'model':'DTE','group':'all','subgroup':'all','Sentence': i, 'Accuracy':a,'Precision': p, 'Recall':r, 'AUC':roc_auc, 'FPR':fpr}, ignore_index=True)\n",
      "C:\\Users\\Nathalie\\AppData\\Local\\Temp\\ipykernel_5844\\2849402174.py:43: FutureWarning: The frame.append method is deprecated and will be removed from pandas in a future version. Use pandas.concat instead.\n",
      "  metrics = metrics.append({'model':'DTE','group':group,'subgroup':subgroup,'Sentence': i, 'Accuracy':a,'Precision': p, 'Recall':r, 'AUC':roc_auc, 'FPR':fpr}, ignore_index=True)\n",
      "C:\\Users\\Nathalie\\AppData\\Local\\Temp\\ipykernel_5844\\2849402174.py:43: FutureWarning: The frame.append method is deprecated and will be removed from pandas in a future version. Use pandas.concat instead.\n",
      "  metrics = metrics.append({'model':'DTE','group':group,'subgroup':subgroup,'Sentence': i, 'Accuracy':a,'Precision': p, 'Recall':r, 'AUC':roc_auc, 'FPR':fpr}, ignore_index=True)\n",
      "C:\\Users\\Nathalie\\AppData\\Local\\Temp\\ipykernel_5844\\2849402174.py:25: FutureWarning: The frame.append method is deprecated and will be removed from pandas in a future version. Use pandas.concat instead.\n",
      "  metrics = metrics.append({'model':'DTE','group':'all','subgroup':'all','Sentence': i, 'Accuracy':a,'Precision': p, 'Recall':r, 'AUC':roc_auc, 'FPR':fpr}, ignore_index=True)\n",
      "C:\\Users\\Nathalie\\AppData\\Local\\Temp\\ipykernel_5844\\2849402174.py:43: FutureWarning: The frame.append method is deprecated and will be removed from pandas in a future version. Use pandas.concat instead.\n",
      "  metrics = metrics.append({'model':'DTE','group':group,'subgroup':subgroup,'Sentence': i, 'Accuracy':a,'Precision': p, 'Recall':r, 'AUC':roc_auc, 'FPR':fpr}, ignore_index=True)\n",
      "C:\\Users\\Nathalie\\AppData\\Local\\Temp\\ipykernel_5844\\2849402174.py:43: FutureWarning: The frame.append method is deprecated and will be removed from pandas in a future version. Use pandas.concat instead.\n",
      "  metrics = metrics.append({'model':'DTE','group':group,'subgroup':subgroup,'Sentence': i, 'Accuracy':a,'Precision': p, 'Recall':r, 'AUC':roc_auc, 'FPR':fpr}, ignore_index=True)\n"
     ]
    }
   ],
   "source": [
    "n = [2,3,4,5,6,7,8,9,10,11,12,13,14,15,16,17,18,19,20,21,22,23,24,25,26,27,28,29,30,31,32,33,34,35,36,37,38,39,40,41,42,43,44,45,46,47,48,49,50,51,52,53,54,55,56,57,58,59,60]\n",
    "feature_cols = ['Erstloesung','Schussel','Erfolg', 'Schwierigkeit', 'ist_Schulzeit', 'MehrfachFalsch', 'vorher_abgebrochen','Fehler', 'Klassenstufe', 'Jahredabei', 'AnzahlAufgaben', 'Sex__m', 'Sex__w', 'Testposition__pruefung', 'Testposition__training','Testposition__version', 'Art__GK', 'Art__GR', 'Art__GZ', 'Art__K', 'Art__LB','UserAttribut', 'OrderNumber', 'steps']\n",
    "\n",
    "for i in n:\n",
    "    #build models\n",
    "    path='buecher_allsessions/matrix'+str(i)+'.pkl'\n",
    "    infile = open(path,'rb')\n",
    "    df = pickle.load(infile)\n",
    "    infile.close()\n",
    "    df=df.reset_index()\n",
    "    X = df[feature_cols]\n",
    "    y = df.y\n",
    "    y= y.astype('int')\n",
    "    X_train, X_test, y_train, y_test = train_test_split(X, y, test_size=0.3, random_state=1)\n",
    "    k = 5\n",
    "    cv = KFold(n_splits=k, random_state=None)\n",
    "\n",
    "    #DTE\n",
    "    clf = DecisionTreeClassifier(criterion=\"entropy\", max_depth=5)\n",
    "    clf = clf.fit(X_train,y_train)\n",
    "    pred = clf.predict(X_test)\n",
    "\n",
    "    a,p,r,roc_auc,fpr = get_metrics(clf,X_test,y_test,cv,pred)\n",
    "\n",
    "    metrics = metrics.append({'model':'DTE','group':'all','subgroup':'all','Sentence': i, 'Accuracy':a,'Precision': p, 'Recall':r, 'AUC':roc_auc, 'FPR':fpr}, ignore_index=True)\n",
    "\n",
    "    group = ['buecher', 'buecher']\n",
    "    subgroup = ['buch0', 'buch1']\n",
    "    matrice = ['matrices_buecher_0', 'matrices_buecher_1']\n",
    "\n",
    "    for (group, subgroup, matrix) in zip(group, subgroup, matrice):\n",
    "        path= '../01_prognosemodell/06_newtry/'+matrix+'/matrix'+str(i)+'.pkl'\n",
    "        infile = open(path,'rb')\n",
    "        df = pickle.load(infile)\n",
    "        infile.close()\n",
    "        df=df.reset_index()\n",
    "        X = df[feature_cols]\n",
    "        y = df.y\n",
    "        y= y.astype('int')\n",
    "        pred = clf.predict(X)\n",
    "        \n",
    "        a,p,r,roc_auc,fpr = get_metrics(clf,X,y,cv,pred)\n",
    "        metrics = metrics.append({'model':'DTE','group':group,'subgroup':subgroup,'Sentence': i, 'Accuracy':a,'Precision': p, 'Recall':r, 'AUC':roc_auc, 'FPR':fpr}, ignore_index=True)"
   ]
  },
  {
   "cell_type": "code",
   "execution_count": 12,
   "metadata": {},
   "outputs": [
    {
     "name": "stderr",
     "output_type": "stream",
     "text": [
      "C:\\Users\\Nathalie\\AppData\\Local\\Temp\\ipykernel_5844\\2591937328.py:24: FutureWarning: The frame.append method is deprecated and will be removed from pandas in a future version. Use pandas.concat instead.\n",
      "  metrics = metrics.append({'model':'KNN','group':'all','subgroup':'all','Sentence': i, 'Accuracy':a,'Precision': p, 'Recall':r, 'AUC':roc_auc, 'FPR':fpr}, ignore_index=True)\n",
      "C:\\Users\\Nathalie\\AppData\\Local\\Temp\\ipykernel_5844\\2591937328.py:42: FutureWarning: The frame.append method is deprecated and will be removed from pandas in a future version. Use pandas.concat instead.\n",
      "  metrics = metrics.append({'model':'KNN','group':group,'subgroup':subgroup,'Sentence': i, 'Accuracy':a,'Precision': p, 'Recall':r, 'AUC':roc_auc, 'FPR':fpr}, ignore_index=True)\n",
      "C:\\Users\\Nathalie\\AppData\\Local\\Temp\\ipykernel_5844\\2591937328.py:42: FutureWarning: The frame.append method is deprecated and will be removed from pandas in a future version. Use pandas.concat instead.\n",
      "  metrics = metrics.append({'model':'KNN','group':group,'subgroup':subgroup,'Sentence': i, 'Accuracy':a,'Precision': p, 'Recall':r, 'AUC':roc_auc, 'FPR':fpr}, ignore_index=True)\n",
      "C:\\Users\\Nathalie\\AppData\\Local\\Temp\\ipykernel_5844\\2591937328.py:24: FutureWarning: The frame.append method is deprecated and will be removed from pandas in a future version. Use pandas.concat instead.\n",
      "  metrics = metrics.append({'model':'KNN','group':'all','subgroup':'all','Sentence': i, 'Accuracy':a,'Precision': p, 'Recall':r, 'AUC':roc_auc, 'FPR':fpr}, ignore_index=True)\n",
      "C:\\Users\\Nathalie\\AppData\\Local\\Temp\\ipykernel_5844\\2591937328.py:42: FutureWarning: The frame.append method is deprecated and will be removed from pandas in a future version. Use pandas.concat instead.\n",
      "  metrics = metrics.append({'model':'KNN','group':group,'subgroup':subgroup,'Sentence': i, 'Accuracy':a,'Precision': p, 'Recall':r, 'AUC':roc_auc, 'FPR':fpr}, ignore_index=True)\n",
      "C:\\Users\\Nathalie\\AppData\\Local\\Temp\\ipykernel_5844\\2591937328.py:42: FutureWarning: The frame.append method is deprecated and will be removed from pandas in a future version. Use pandas.concat instead.\n",
      "  metrics = metrics.append({'model':'KNN','group':group,'subgroup':subgroup,'Sentence': i, 'Accuracy':a,'Precision': p, 'Recall':r, 'AUC':roc_auc, 'FPR':fpr}, ignore_index=True)\n",
      "C:\\Users\\Nathalie\\AppData\\Local\\Temp\\ipykernel_5844\\2591937328.py:24: FutureWarning: The frame.append method is deprecated and will be removed from pandas in a future version. Use pandas.concat instead.\n",
      "  metrics = metrics.append({'model':'KNN','group':'all','subgroup':'all','Sentence': i, 'Accuracy':a,'Precision': p, 'Recall':r, 'AUC':roc_auc, 'FPR':fpr}, ignore_index=True)\n",
      "C:\\Users\\Nathalie\\AppData\\Local\\Temp\\ipykernel_5844\\2591937328.py:42: FutureWarning: The frame.append method is deprecated and will be removed from pandas in a future version. Use pandas.concat instead.\n",
      "  metrics = metrics.append({'model':'KNN','group':group,'subgroup':subgroup,'Sentence': i, 'Accuracy':a,'Precision': p, 'Recall':r, 'AUC':roc_auc, 'FPR':fpr}, ignore_index=True)\n",
      "C:\\Users\\Nathalie\\AppData\\Local\\Temp\\ipykernel_5844\\2591937328.py:42: FutureWarning: The frame.append method is deprecated and will be removed from pandas in a future version. Use pandas.concat instead.\n",
      "  metrics = metrics.append({'model':'KNN','group':group,'subgroup':subgroup,'Sentence': i, 'Accuracy':a,'Precision': p, 'Recall':r, 'AUC':roc_auc, 'FPR':fpr}, ignore_index=True)\n",
      "C:\\Users\\Nathalie\\AppData\\Local\\Temp\\ipykernel_5844\\2591937328.py:24: FutureWarning: The frame.append method is deprecated and will be removed from pandas in a future version. Use pandas.concat instead.\n",
      "  metrics = metrics.append({'model':'KNN','group':'all','subgroup':'all','Sentence': i, 'Accuracy':a,'Precision': p, 'Recall':r, 'AUC':roc_auc, 'FPR':fpr}, ignore_index=True)\n",
      "C:\\Users\\Nathalie\\AppData\\Local\\Temp\\ipykernel_5844\\2591937328.py:42: FutureWarning: The frame.append method is deprecated and will be removed from pandas in a future version. Use pandas.concat instead.\n",
      "  metrics = metrics.append({'model':'KNN','group':group,'subgroup':subgroup,'Sentence': i, 'Accuracy':a,'Precision': p, 'Recall':r, 'AUC':roc_auc, 'FPR':fpr}, ignore_index=True)\n",
      "C:\\Users\\Nathalie\\AppData\\Local\\Temp\\ipykernel_5844\\2591937328.py:42: FutureWarning: The frame.append method is deprecated and will be removed from pandas in a future version. Use pandas.concat instead.\n",
      "  metrics = metrics.append({'model':'KNN','group':group,'subgroup':subgroup,'Sentence': i, 'Accuracy':a,'Precision': p, 'Recall':r, 'AUC':roc_auc, 'FPR':fpr}, ignore_index=True)\n",
      "C:\\Users\\Nathalie\\AppData\\Local\\Temp\\ipykernel_5844\\2591937328.py:24: FutureWarning: The frame.append method is deprecated and will be removed from pandas in a future version. Use pandas.concat instead.\n",
      "  metrics = metrics.append({'model':'KNN','group':'all','subgroup':'all','Sentence': i, 'Accuracy':a,'Precision': p, 'Recall':r, 'AUC':roc_auc, 'FPR':fpr}, ignore_index=True)\n",
      "C:\\Users\\Nathalie\\AppData\\Local\\Temp\\ipykernel_5844\\2591937328.py:42: FutureWarning: The frame.append method is deprecated and will be removed from pandas in a future version. Use pandas.concat instead.\n",
      "  metrics = metrics.append({'model':'KNN','group':group,'subgroup':subgroup,'Sentence': i, 'Accuracy':a,'Precision': p, 'Recall':r, 'AUC':roc_auc, 'FPR':fpr}, ignore_index=True)\n",
      "C:\\Users\\Nathalie\\AppData\\Local\\Temp\\ipykernel_5844\\2591937328.py:42: FutureWarning: The frame.append method is deprecated and will be removed from pandas in a future version. Use pandas.concat instead.\n",
      "  metrics = metrics.append({'model':'KNN','group':group,'subgroup':subgroup,'Sentence': i, 'Accuracy':a,'Precision': p, 'Recall':r, 'AUC':roc_auc, 'FPR':fpr}, ignore_index=True)\n",
      "C:\\Users\\Nathalie\\AppData\\Local\\Temp\\ipykernel_5844\\2591937328.py:24: FutureWarning: The frame.append method is deprecated and will be removed from pandas in a future version. Use pandas.concat instead.\n",
      "  metrics = metrics.append({'model':'KNN','group':'all','subgroup':'all','Sentence': i, 'Accuracy':a,'Precision': p, 'Recall':r, 'AUC':roc_auc, 'FPR':fpr}, ignore_index=True)\n",
      "C:\\Users\\Nathalie\\AppData\\Local\\Temp\\ipykernel_5844\\2591937328.py:42: FutureWarning: The frame.append method is deprecated and will be removed from pandas in a future version. Use pandas.concat instead.\n",
      "  metrics = metrics.append({'model':'KNN','group':group,'subgroup':subgroup,'Sentence': i, 'Accuracy':a,'Precision': p, 'Recall':r, 'AUC':roc_auc, 'FPR':fpr}, ignore_index=True)\n",
      "C:\\Users\\Nathalie\\AppData\\Local\\Temp\\ipykernel_5844\\2591937328.py:42: FutureWarning: The frame.append method is deprecated and will be removed from pandas in a future version. Use pandas.concat instead.\n",
      "  metrics = metrics.append({'model':'KNN','group':group,'subgroup':subgroup,'Sentence': i, 'Accuracy':a,'Precision': p, 'Recall':r, 'AUC':roc_auc, 'FPR':fpr}, ignore_index=True)\n",
      "C:\\Users\\Nathalie\\AppData\\Local\\Temp\\ipykernel_5844\\2591937328.py:24: FutureWarning: The frame.append method is deprecated and will be removed from pandas in a future version. Use pandas.concat instead.\n",
      "  metrics = metrics.append({'model':'KNN','group':'all','subgroup':'all','Sentence': i, 'Accuracy':a,'Precision': p, 'Recall':r, 'AUC':roc_auc, 'FPR':fpr}, ignore_index=True)\n",
      "C:\\Users\\Nathalie\\AppData\\Local\\Temp\\ipykernel_5844\\2591937328.py:42: FutureWarning: The frame.append method is deprecated and will be removed from pandas in a future version. Use pandas.concat instead.\n",
      "  metrics = metrics.append({'model':'KNN','group':group,'subgroup':subgroup,'Sentence': i, 'Accuracy':a,'Precision': p, 'Recall':r, 'AUC':roc_auc, 'FPR':fpr}, ignore_index=True)\n",
      "C:\\Users\\Nathalie\\AppData\\Local\\Temp\\ipykernel_5844\\2591937328.py:42: FutureWarning: The frame.append method is deprecated and will be removed from pandas in a future version. Use pandas.concat instead.\n",
      "  metrics = metrics.append({'model':'KNN','group':group,'subgroup':subgroup,'Sentence': i, 'Accuracy':a,'Precision': p, 'Recall':r, 'AUC':roc_auc, 'FPR':fpr}, ignore_index=True)\n",
      "C:\\Users\\Nathalie\\AppData\\Local\\Temp\\ipykernel_5844\\2591937328.py:24: FutureWarning: The frame.append method is deprecated and will be removed from pandas in a future version. Use pandas.concat instead.\n",
      "  metrics = metrics.append({'model':'KNN','group':'all','subgroup':'all','Sentence': i, 'Accuracy':a,'Precision': p, 'Recall':r, 'AUC':roc_auc, 'FPR':fpr}, ignore_index=True)\n",
      "C:\\Users\\Nathalie\\AppData\\Local\\Temp\\ipykernel_5844\\2591937328.py:42: FutureWarning: The frame.append method is deprecated and will be removed from pandas in a future version. Use pandas.concat instead.\n",
      "  metrics = metrics.append({'model':'KNN','group':group,'subgroup':subgroup,'Sentence': i, 'Accuracy':a,'Precision': p, 'Recall':r, 'AUC':roc_auc, 'FPR':fpr}, ignore_index=True)\n",
      "C:\\Users\\Nathalie\\AppData\\Local\\Temp\\ipykernel_5844\\2591937328.py:42: FutureWarning: The frame.append method is deprecated and will be removed from pandas in a future version. Use pandas.concat instead.\n",
      "  metrics = metrics.append({'model':'KNN','group':group,'subgroup':subgroup,'Sentence': i, 'Accuracy':a,'Precision': p, 'Recall':r, 'AUC':roc_auc, 'FPR':fpr}, ignore_index=True)\n",
      "C:\\Users\\Nathalie\\AppData\\Local\\Temp\\ipykernel_5844\\2591937328.py:24: FutureWarning: The frame.append method is deprecated and will be removed from pandas in a future version. Use pandas.concat instead.\n",
      "  metrics = metrics.append({'model':'KNN','group':'all','subgroup':'all','Sentence': i, 'Accuracy':a,'Precision': p, 'Recall':r, 'AUC':roc_auc, 'FPR':fpr}, ignore_index=True)\n",
      "C:\\Users\\Nathalie\\AppData\\Local\\Temp\\ipykernel_5844\\2591937328.py:42: FutureWarning: The frame.append method is deprecated and will be removed from pandas in a future version. Use pandas.concat instead.\n",
      "  metrics = metrics.append({'model':'KNN','group':group,'subgroup':subgroup,'Sentence': i, 'Accuracy':a,'Precision': p, 'Recall':r, 'AUC':roc_auc, 'FPR':fpr}, ignore_index=True)\n",
      "C:\\Users\\Nathalie\\AppData\\Local\\Temp\\ipykernel_5844\\2591937328.py:42: FutureWarning: The frame.append method is deprecated and will be removed from pandas in a future version. Use pandas.concat instead.\n",
      "  metrics = metrics.append({'model':'KNN','group':group,'subgroup':subgroup,'Sentence': i, 'Accuracy':a,'Precision': p, 'Recall':r, 'AUC':roc_auc, 'FPR':fpr}, ignore_index=True)\n",
      "C:\\Users\\Nathalie\\AppData\\Local\\Temp\\ipykernel_5844\\2591937328.py:24: FutureWarning: The frame.append method is deprecated and will be removed from pandas in a future version. Use pandas.concat instead.\n",
      "  metrics = metrics.append({'model':'KNN','group':'all','subgroup':'all','Sentence': i, 'Accuracy':a,'Precision': p, 'Recall':r, 'AUC':roc_auc, 'FPR':fpr}, ignore_index=True)\n",
      "C:\\Users\\Nathalie\\AppData\\Local\\Temp\\ipykernel_5844\\2591937328.py:42: FutureWarning: The frame.append method is deprecated and will be removed from pandas in a future version. Use pandas.concat instead.\n",
      "  metrics = metrics.append({'model':'KNN','group':group,'subgroup':subgroup,'Sentence': i, 'Accuracy':a,'Precision': p, 'Recall':r, 'AUC':roc_auc, 'FPR':fpr}, ignore_index=True)\n",
      "C:\\Users\\Nathalie\\AppData\\Local\\Temp\\ipykernel_5844\\2591937328.py:42: FutureWarning: The frame.append method is deprecated and will be removed from pandas in a future version. Use pandas.concat instead.\n",
      "  metrics = metrics.append({'model':'KNN','group':group,'subgroup':subgroup,'Sentence': i, 'Accuracy':a,'Precision': p, 'Recall':r, 'AUC':roc_auc, 'FPR':fpr}, ignore_index=True)\n",
      "C:\\Users\\Nathalie\\AppData\\Local\\Temp\\ipykernel_5844\\2591937328.py:24: FutureWarning: The frame.append method is deprecated and will be removed from pandas in a future version. Use pandas.concat instead.\n",
      "  metrics = metrics.append({'model':'KNN','group':'all','subgroup':'all','Sentence': i, 'Accuracy':a,'Precision': p, 'Recall':r, 'AUC':roc_auc, 'FPR':fpr}, ignore_index=True)\n",
      "C:\\Users\\Nathalie\\AppData\\Local\\Temp\\ipykernel_5844\\2591937328.py:42: FutureWarning: The frame.append method is deprecated and will be removed from pandas in a future version. Use pandas.concat instead.\n",
      "  metrics = metrics.append({'model':'KNN','group':group,'subgroup':subgroup,'Sentence': i, 'Accuracy':a,'Precision': p, 'Recall':r, 'AUC':roc_auc, 'FPR':fpr}, ignore_index=True)\n",
      "C:\\Users\\Nathalie\\AppData\\Local\\Temp\\ipykernel_5844\\2591937328.py:42: FutureWarning: The frame.append method is deprecated and will be removed from pandas in a future version. Use pandas.concat instead.\n",
      "  metrics = metrics.append({'model':'KNN','group':group,'subgroup':subgroup,'Sentence': i, 'Accuracy':a,'Precision': p, 'Recall':r, 'AUC':roc_auc, 'FPR':fpr}, ignore_index=True)\n",
      "C:\\Users\\Nathalie\\AppData\\Local\\Temp\\ipykernel_5844\\2591937328.py:24: FutureWarning: The frame.append method is deprecated and will be removed from pandas in a future version. Use pandas.concat instead.\n",
      "  metrics = metrics.append({'model':'KNN','group':'all','subgroup':'all','Sentence': i, 'Accuracy':a,'Precision': p, 'Recall':r, 'AUC':roc_auc, 'FPR':fpr}, ignore_index=True)\n",
      "C:\\Users\\Nathalie\\AppData\\Local\\Temp\\ipykernel_5844\\2591937328.py:42: FutureWarning: The frame.append method is deprecated and will be removed from pandas in a future version. Use pandas.concat instead.\n",
      "  metrics = metrics.append({'model':'KNN','group':group,'subgroup':subgroup,'Sentence': i, 'Accuracy':a,'Precision': p, 'Recall':r, 'AUC':roc_auc, 'FPR':fpr}, ignore_index=True)\n",
      "C:\\Users\\Nathalie\\AppData\\Local\\Temp\\ipykernel_5844\\2591937328.py:42: FutureWarning: The frame.append method is deprecated and will be removed from pandas in a future version. Use pandas.concat instead.\n",
      "  metrics = metrics.append({'model':'KNN','group':group,'subgroup':subgroup,'Sentence': i, 'Accuracy':a,'Precision': p, 'Recall':r, 'AUC':roc_auc, 'FPR':fpr}, ignore_index=True)\n",
      "C:\\Users\\Nathalie\\AppData\\Local\\Temp\\ipykernel_5844\\2591937328.py:24: FutureWarning: The frame.append method is deprecated and will be removed from pandas in a future version. Use pandas.concat instead.\n",
      "  metrics = metrics.append({'model':'KNN','group':'all','subgroup':'all','Sentence': i, 'Accuracy':a,'Precision': p, 'Recall':r, 'AUC':roc_auc, 'FPR':fpr}, ignore_index=True)\n",
      "C:\\Users\\Nathalie\\AppData\\Local\\Temp\\ipykernel_5844\\2591937328.py:42: FutureWarning: The frame.append method is deprecated and will be removed from pandas in a future version. Use pandas.concat instead.\n",
      "  metrics = metrics.append({'model':'KNN','group':group,'subgroup':subgroup,'Sentence': i, 'Accuracy':a,'Precision': p, 'Recall':r, 'AUC':roc_auc, 'FPR':fpr}, ignore_index=True)\n",
      "C:\\Users\\Nathalie\\AppData\\Local\\Temp\\ipykernel_5844\\2591937328.py:42: FutureWarning: The frame.append method is deprecated and will be removed from pandas in a future version. Use pandas.concat instead.\n",
      "  metrics = metrics.append({'model':'KNN','group':group,'subgroup':subgroup,'Sentence': i, 'Accuracy':a,'Precision': p, 'Recall':r, 'AUC':roc_auc, 'FPR':fpr}, ignore_index=True)\n",
      "C:\\Users\\Nathalie\\AppData\\Local\\Temp\\ipykernel_5844\\2591937328.py:24: FutureWarning: The frame.append method is deprecated and will be removed from pandas in a future version. Use pandas.concat instead.\n",
      "  metrics = metrics.append({'model':'KNN','group':'all','subgroup':'all','Sentence': i, 'Accuracy':a,'Precision': p, 'Recall':r, 'AUC':roc_auc, 'FPR':fpr}, ignore_index=True)\n",
      "C:\\Users\\Nathalie\\AppData\\Local\\Temp\\ipykernel_5844\\2591937328.py:42: FutureWarning: The frame.append method is deprecated and will be removed from pandas in a future version. Use pandas.concat instead.\n",
      "  metrics = metrics.append({'model':'KNN','group':group,'subgroup':subgroup,'Sentence': i, 'Accuracy':a,'Precision': p, 'Recall':r, 'AUC':roc_auc, 'FPR':fpr}, ignore_index=True)\n",
      "C:\\Users\\Nathalie\\AppData\\Local\\Temp\\ipykernel_5844\\2591937328.py:42: FutureWarning: The frame.append method is deprecated and will be removed from pandas in a future version. Use pandas.concat instead.\n",
      "  metrics = metrics.append({'model':'KNN','group':group,'subgroup':subgroup,'Sentence': i, 'Accuracy':a,'Precision': p, 'Recall':r, 'AUC':roc_auc, 'FPR':fpr}, ignore_index=True)\n",
      "C:\\Users\\Nathalie\\AppData\\Local\\Temp\\ipykernel_5844\\2591937328.py:24: FutureWarning: The frame.append method is deprecated and will be removed from pandas in a future version. Use pandas.concat instead.\n",
      "  metrics = metrics.append({'model':'KNN','group':'all','subgroup':'all','Sentence': i, 'Accuracy':a,'Precision': p, 'Recall':r, 'AUC':roc_auc, 'FPR':fpr}, ignore_index=True)\n",
      "C:\\Users\\Nathalie\\AppData\\Local\\Temp\\ipykernel_5844\\2591937328.py:42: FutureWarning: The frame.append method is deprecated and will be removed from pandas in a future version. Use pandas.concat instead.\n",
      "  metrics = metrics.append({'model':'KNN','group':group,'subgroup':subgroup,'Sentence': i, 'Accuracy':a,'Precision': p, 'Recall':r, 'AUC':roc_auc, 'FPR':fpr}, ignore_index=True)\n",
      "C:\\Users\\Nathalie\\AppData\\Local\\Temp\\ipykernel_5844\\2591937328.py:42: FutureWarning: The frame.append method is deprecated and will be removed from pandas in a future version. Use pandas.concat instead.\n",
      "  metrics = metrics.append({'model':'KNN','group':group,'subgroup':subgroup,'Sentence': i, 'Accuracy':a,'Precision': p, 'Recall':r, 'AUC':roc_auc, 'FPR':fpr}, ignore_index=True)\n",
      "C:\\Users\\Nathalie\\AppData\\Local\\Temp\\ipykernel_5844\\2591937328.py:24: FutureWarning: The frame.append method is deprecated and will be removed from pandas in a future version. Use pandas.concat instead.\n",
      "  metrics = metrics.append({'model':'KNN','group':'all','subgroup':'all','Sentence': i, 'Accuracy':a,'Precision': p, 'Recall':r, 'AUC':roc_auc, 'FPR':fpr}, ignore_index=True)\n",
      "C:\\Users\\Nathalie\\AppData\\Local\\Temp\\ipykernel_5844\\2591937328.py:42: FutureWarning: The frame.append method is deprecated and will be removed from pandas in a future version. Use pandas.concat instead.\n",
      "  metrics = metrics.append({'model':'KNN','group':group,'subgroup':subgroup,'Sentence': i, 'Accuracy':a,'Precision': p, 'Recall':r, 'AUC':roc_auc, 'FPR':fpr}, ignore_index=True)\n",
      "C:\\Users\\Nathalie\\AppData\\Local\\Temp\\ipykernel_5844\\2591937328.py:42: FutureWarning: The frame.append method is deprecated and will be removed from pandas in a future version. Use pandas.concat instead.\n",
      "  metrics = metrics.append({'model':'KNN','group':group,'subgroup':subgroup,'Sentence': i, 'Accuracy':a,'Precision': p, 'Recall':r, 'AUC':roc_auc, 'FPR':fpr}, ignore_index=True)\n",
      "C:\\Users\\Nathalie\\AppData\\Local\\Temp\\ipykernel_5844\\2591937328.py:24: FutureWarning: The frame.append method is deprecated and will be removed from pandas in a future version. Use pandas.concat instead.\n",
      "  metrics = metrics.append({'model':'KNN','group':'all','subgroup':'all','Sentence': i, 'Accuracy':a,'Precision': p, 'Recall':r, 'AUC':roc_auc, 'FPR':fpr}, ignore_index=True)\n",
      "C:\\Users\\Nathalie\\AppData\\Local\\Temp\\ipykernel_5844\\2591937328.py:42: FutureWarning: The frame.append method is deprecated and will be removed from pandas in a future version. Use pandas.concat instead.\n",
      "  metrics = metrics.append({'model':'KNN','group':group,'subgroup':subgroup,'Sentence': i, 'Accuracy':a,'Precision': p, 'Recall':r, 'AUC':roc_auc, 'FPR':fpr}, ignore_index=True)\n",
      "C:\\Users\\Nathalie\\AppData\\Local\\Temp\\ipykernel_5844\\2591937328.py:42: FutureWarning: The frame.append method is deprecated and will be removed from pandas in a future version. Use pandas.concat instead.\n",
      "  metrics = metrics.append({'model':'KNN','group':group,'subgroup':subgroup,'Sentence': i, 'Accuracy':a,'Precision': p, 'Recall':r, 'AUC':roc_auc, 'FPR':fpr}, ignore_index=True)\n",
      "C:\\Users\\Nathalie\\AppData\\Local\\Temp\\ipykernel_5844\\2591937328.py:24: FutureWarning: The frame.append method is deprecated and will be removed from pandas in a future version. Use pandas.concat instead.\n",
      "  metrics = metrics.append({'model':'KNN','group':'all','subgroup':'all','Sentence': i, 'Accuracy':a,'Precision': p, 'Recall':r, 'AUC':roc_auc, 'FPR':fpr}, ignore_index=True)\n",
      "C:\\Users\\Nathalie\\AppData\\Local\\Temp\\ipykernel_5844\\2591937328.py:42: FutureWarning: The frame.append method is deprecated and will be removed from pandas in a future version. Use pandas.concat instead.\n",
      "  metrics = metrics.append({'model':'KNN','group':group,'subgroup':subgroup,'Sentence': i, 'Accuracy':a,'Precision': p, 'Recall':r, 'AUC':roc_auc, 'FPR':fpr}, ignore_index=True)\n",
      "C:\\Users\\Nathalie\\AppData\\Local\\Temp\\ipykernel_5844\\2591937328.py:42: FutureWarning: The frame.append method is deprecated and will be removed from pandas in a future version. Use pandas.concat instead.\n",
      "  metrics = metrics.append({'model':'KNN','group':group,'subgroup':subgroup,'Sentence': i, 'Accuracy':a,'Precision': p, 'Recall':r, 'AUC':roc_auc, 'FPR':fpr}, ignore_index=True)\n",
      "C:\\Users\\Nathalie\\AppData\\Local\\Temp\\ipykernel_5844\\2591937328.py:24: FutureWarning: The frame.append method is deprecated and will be removed from pandas in a future version. Use pandas.concat instead.\n",
      "  metrics = metrics.append({'model':'KNN','group':'all','subgroup':'all','Sentence': i, 'Accuracy':a,'Precision': p, 'Recall':r, 'AUC':roc_auc, 'FPR':fpr}, ignore_index=True)\n",
      "C:\\Users\\Nathalie\\AppData\\Local\\Temp\\ipykernel_5844\\2591937328.py:42: FutureWarning: The frame.append method is deprecated and will be removed from pandas in a future version. Use pandas.concat instead.\n",
      "  metrics = metrics.append({'model':'KNN','group':group,'subgroup':subgroup,'Sentence': i, 'Accuracy':a,'Precision': p, 'Recall':r, 'AUC':roc_auc, 'FPR':fpr}, ignore_index=True)\n",
      "C:\\Users\\Nathalie\\AppData\\Local\\Temp\\ipykernel_5844\\2591937328.py:42: FutureWarning: The frame.append method is deprecated and will be removed from pandas in a future version. Use pandas.concat instead.\n",
      "  metrics = metrics.append({'model':'KNN','group':group,'subgroup':subgroup,'Sentence': i, 'Accuracy':a,'Precision': p, 'Recall':r, 'AUC':roc_auc, 'FPR':fpr}, ignore_index=True)\n",
      "C:\\Users\\Nathalie\\AppData\\Local\\Temp\\ipykernel_5844\\2591937328.py:24: FutureWarning: The frame.append method is deprecated and will be removed from pandas in a future version. Use pandas.concat instead.\n",
      "  metrics = metrics.append({'model':'KNN','group':'all','subgroup':'all','Sentence': i, 'Accuracy':a,'Precision': p, 'Recall':r, 'AUC':roc_auc, 'FPR':fpr}, ignore_index=True)\n",
      "C:\\Users\\Nathalie\\AppData\\Local\\Temp\\ipykernel_5844\\2591937328.py:42: FutureWarning: The frame.append method is deprecated and will be removed from pandas in a future version. Use pandas.concat instead.\n",
      "  metrics = metrics.append({'model':'KNN','group':group,'subgroup':subgroup,'Sentence': i, 'Accuracy':a,'Precision': p, 'Recall':r, 'AUC':roc_auc, 'FPR':fpr}, ignore_index=True)\n",
      "C:\\Users\\Nathalie\\AppData\\Local\\Temp\\ipykernel_5844\\2591937328.py:42: FutureWarning: The frame.append method is deprecated and will be removed from pandas in a future version. Use pandas.concat instead.\n",
      "  metrics = metrics.append({'model':'KNN','group':group,'subgroup':subgroup,'Sentence': i, 'Accuracy':a,'Precision': p, 'Recall':r, 'AUC':roc_auc, 'FPR':fpr}, ignore_index=True)\n",
      "C:\\Users\\Nathalie\\AppData\\Local\\Temp\\ipykernel_5844\\2591937328.py:24: FutureWarning: The frame.append method is deprecated and will be removed from pandas in a future version. Use pandas.concat instead.\n",
      "  metrics = metrics.append({'model':'KNN','group':'all','subgroup':'all','Sentence': i, 'Accuracy':a,'Precision': p, 'Recall':r, 'AUC':roc_auc, 'FPR':fpr}, ignore_index=True)\n",
      "C:\\Users\\Nathalie\\AppData\\Local\\Temp\\ipykernel_5844\\2591937328.py:42: FutureWarning: The frame.append method is deprecated and will be removed from pandas in a future version. Use pandas.concat instead.\n",
      "  metrics = metrics.append({'model':'KNN','group':group,'subgroup':subgroup,'Sentence': i, 'Accuracy':a,'Precision': p, 'Recall':r, 'AUC':roc_auc, 'FPR':fpr}, ignore_index=True)\n",
      "C:\\Users\\Nathalie\\AppData\\Local\\Temp\\ipykernel_5844\\2591937328.py:42: FutureWarning: The frame.append method is deprecated and will be removed from pandas in a future version. Use pandas.concat instead.\n",
      "  metrics = metrics.append({'model':'KNN','group':group,'subgroup':subgroup,'Sentence': i, 'Accuracy':a,'Precision': p, 'Recall':r, 'AUC':roc_auc, 'FPR':fpr}, ignore_index=True)\n",
      "C:\\Users\\Nathalie\\AppData\\Local\\Temp\\ipykernel_5844\\2591937328.py:24: FutureWarning: The frame.append method is deprecated and will be removed from pandas in a future version. Use pandas.concat instead.\n",
      "  metrics = metrics.append({'model':'KNN','group':'all','subgroup':'all','Sentence': i, 'Accuracy':a,'Precision': p, 'Recall':r, 'AUC':roc_auc, 'FPR':fpr}, ignore_index=True)\n",
      "C:\\Users\\Nathalie\\AppData\\Local\\Temp\\ipykernel_5844\\2591937328.py:42: FutureWarning: The frame.append method is deprecated and will be removed from pandas in a future version. Use pandas.concat instead.\n",
      "  metrics = metrics.append({'model':'KNN','group':group,'subgroup':subgroup,'Sentence': i, 'Accuracy':a,'Precision': p, 'Recall':r, 'AUC':roc_auc, 'FPR':fpr}, ignore_index=True)\n",
      "C:\\Users\\Nathalie\\AppData\\Local\\Temp\\ipykernel_5844\\2591937328.py:42: FutureWarning: The frame.append method is deprecated and will be removed from pandas in a future version. Use pandas.concat instead.\n",
      "  metrics = metrics.append({'model':'KNN','group':group,'subgroup':subgroup,'Sentence': i, 'Accuracy':a,'Precision': p, 'Recall':r, 'AUC':roc_auc, 'FPR':fpr}, ignore_index=True)\n",
      "C:\\Users\\Nathalie\\AppData\\Local\\Temp\\ipykernel_5844\\2591937328.py:24: FutureWarning: The frame.append method is deprecated and will be removed from pandas in a future version. Use pandas.concat instead.\n",
      "  metrics = metrics.append({'model':'KNN','group':'all','subgroup':'all','Sentence': i, 'Accuracy':a,'Precision': p, 'Recall':r, 'AUC':roc_auc, 'FPR':fpr}, ignore_index=True)\n",
      "C:\\Users\\Nathalie\\AppData\\Local\\Temp\\ipykernel_5844\\2591937328.py:42: FutureWarning: The frame.append method is deprecated and will be removed from pandas in a future version. Use pandas.concat instead.\n",
      "  metrics = metrics.append({'model':'KNN','group':group,'subgroup':subgroup,'Sentence': i, 'Accuracy':a,'Precision': p, 'Recall':r, 'AUC':roc_auc, 'FPR':fpr}, ignore_index=True)\n",
      "C:\\Users\\Nathalie\\AppData\\Local\\Temp\\ipykernel_5844\\2591937328.py:42: FutureWarning: The frame.append method is deprecated and will be removed from pandas in a future version. Use pandas.concat instead.\n",
      "  metrics = metrics.append({'model':'KNN','group':group,'subgroup':subgroup,'Sentence': i, 'Accuracy':a,'Precision': p, 'Recall':r, 'AUC':roc_auc, 'FPR':fpr}, ignore_index=True)\n",
      "C:\\Users\\Nathalie\\AppData\\Local\\Temp\\ipykernel_5844\\2591937328.py:24: FutureWarning: The frame.append method is deprecated and will be removed from pandas in a future version. Use pandas.concat instead.\n",
      "  metrics = metrics.append({'model':'KNN','group':'all','subgroup':'all','Sentence': i, 'Accuracy':a,'Precision': p, 'Recall':r, 'AUC':roc_auc, 'FPR':fpr}, ignore_index=True)\n",
      "C:\\Users\\Nathalie\\AppData\\Local\\Temp\\ipykernel_5844\\2591937328.py:42: FutureWarning: The frame.append method is deprecated and will be removed from pandas in a future version. Use pandas.concat instead.\n",
      "  metrics = metrics.append({'model':'KNN','group':group,'subgroup':subgroup,'Sentence': i, 'Accuracy':a,'Precision': p, 'Recall':r, 'AUC':roc_auc, 'FPR':fpr}, ignore_index=True)\n",
      "C:\\Users\\Nathalie\\AppData\\Local\\Temp\\ipykernel_5844\\2591937328.py:42: FutureWarning: The frame.append method is deprecated and will be removed from pandas in a future version. Use pandas.concat instead.\n",
      "  metrics = metrics.append({'model':'KNN','group':group,'subgroup':subgroup,'Sentence': i, 'Accuracy':a,'Precision': p, 'Recall':r, 'AUC':roc_auc, 'FPR':fpr}, ignore_index=True)\n",
      "C:\\Users\\Nathalie\\AppData\\Local\\Temp\\ipykernel_5844\\2591937328.py:24: FutureWarning: The frame.append method is deprecated and will be removed from pandas in a future version. Use pandas.concat instead.\n",
      "  metrics = metrics.append({'model':'KNN','group':'all','subgroup':'all','Sentence': i, 'Accuracy':a,'Precision': p, 'Recall':r, 'AUC':roc_auc, 'FPR':fpr}, ignore_index=True)\n",
      "C:\\Users\\Nathalie\\AppData\\Local\\Temp\\ipykernel_5844\\2591937328.py:42: FutureWarning: The frame.append method is deprecated and will be removed from pandas in a future version. Use pandas.concat instead.\n",
      "  metrics = metrics.append({'model':'KNN','group':group,'subgroup':subgroup,'Sentence': i, 'Accuracy':a,'Precision': p, 'Recall':r, 'AUC':roc_auc, 'FPR':fpr}, ignore_index=True)\n",
      "C:\\Users\\Nathalie\\AppData\\Local\\Temp\\ipykernel_5844\\2591937328.py:42: FutureWarning: The frame.append method is deprecated and will be removed from pandas in a future version. Use pandas.concat instead.\n",
      "  metrics = metrics.append({'model':'KNN','group':group,'subgroup':subgroup,'Sentence': i, 'Accuracy':a,'Precision': p, 'Recall':r, 'AUC':roc_auc, 'FPR':fpr}, ignore_index=True)\n",
      "C:\\Users\\Nathalie\\AppData\\Local\\Temp\\ipykernel_5844\\2591937328.py:24: FutureWarning: The frame.append method is deprecated and will be removed from pandas in a future version. Use pandas.concat instead.\n",
      "  metrics = metrics.append({'model':'KNN','group':'all','subgroup':'all','Sentence': i, 'Accuracy':a,'Precision': p, 'Recall':r, 'AUC':roc_auc, 'FPR':fpr}, ignore_index=True)\n",
      "C:\\Users\\Nathalie\\AppData\\Local\\Temp\\ipykernel_5844\\2591937328.py:42: FutureWarning: The frame.append method is deprecated and will be removed from pandas in a future version. Use pandas.concat instead.\n",
      "  metrics = metrics.append({'model':'KNN','group':group,'subgroup':subgroup,'Sentence': i, 'Accuracy':a,'Precision': p, 'Recall':r, 'AUC':roc_auc, 'FPR':fpr}, ignore_index=True)\n",
      "C:\\Users\\Nathalie\\AppData\\Local\\Temp\\ipykernel_5844\\2591937328.py:42: FutureWarning: The frame.append method is deprecated and will be removed from pandas in a future version. Use pandas.concat instead.\n",
      "  metrics = metrics.append({'model':'KNN','group':group,'subgroup':subgroup,'Sentence': i, 'Accuracy':a,'Precision': p, 'Recall':r, 'AUC':roc_auc, 'FPR':fpr}, ignore_index=True)\n",
      "C:\\Users\\Nathalie\\AppData\\Local\\Temp\\ipykernel_5844\\2591937328.py:24: FutureWarning: The frame.append method is deprecated and will be removed from pandas in a future version. Use pandas.concat instead.\n",
      "  metrics = metrics.append({'model':'KNN','group':'all','subgroup':'all','Sentence': i, 'Accuracy':a,'Precision': p, 'Recall':r, 'AUC':roc_auc, 'FPR':fpr}, ignore_index=True)\n",
      "C:\\Users\\Nathalie\\AppData\\Local\\Temp\\ipykernel_5844\\2591937328.py:42: FutureWarning: The frame.append method is deprecated and will be removed from pandas in a future version. Use pandas.concat instead.\n",
      "  metrics = metrics.append({'model':'KNN','group':group,'subgroup':subgroup,'Sentence': i, 'Accuracy':a,'Precision': p, 'Recall':r, 'AUC':roc_auc, 'FPR':fpr}, ignore_index=True)\n",
      "C:\\Users\\Nathalie\\AppData\\Local\\Temp\\ipykernel_5844\\2591937328.py:42: FutureWarning: The frame.append method is deprecated and will be removed from pandas in a future version. Use pandas.concat instead.\n",
      "  metrics = metrics.append({'model':'KNN','group':group,'subgroup':subgroup,'Sentence': i, 'Accuracy':a,'Precision': p, 'Recall':r, 'AUC':roc_auc, 'FPR':fpr}, ignore_index=True)\n",
      "C:\\Users\\Nathalie\\AppData\\Local\\Temp\\ipykernel_5844\\2591937328.py:24: FutureWarning: The frame.append method is deprecated and will be removed from pandas in a future version. Use pandas.concat instead.\n",
      "  metrics = metrics.append({'model':'KNN','group':'all','subgroup':'all','Sentence': i, 'Accuracy':a,'Precision': p, 'Recall':r, 'AUC':roc_auc, 'FPR':fpr}, ignore_index=True)\n",
      "C:\\Users\\Nathalie\\AppData\\Local\\Temp\\ipykernel_5844\\2591937328.py:42: FutureWarning: The frame.append method is deprecated and will be removed from pandas in a future version. Use pandas.concat instead.\n",
      "  metrics = metrics.append({'model':'KNN','group':group,'subgroup':subgroup,'Sentence': i, 'Accuracy':a,'Precision': p, 'Recall':r, 'AUC':roc_auc, 'FPR':fpr}, ignore_index=True)\n",
      "C:\\Users\\Nathalie\\AppData\\Local\\Temp\\ipykernel_5844\\2591937328.py:42: FutureWarning: The frame.append method is deprecated and will be removed from pandas in a future version. Use pandas.concat instead.\n",
      "  metrics = metrics.append({'model':'KNN','group':group,'subgroup':subgroup,'Sentence': i, 'Accuracy':a,'Precision': p, 'Recall':r, 'AUC':roc_auc, 'FPR':fpr}, ignore_index=True)\n",
      "C:\\Users\\Nathalie\\AppData\\Local\\Temp\\ipykernel_5844\\2591937328.py:24: FutureWarning: The frame.append method is deprecated and will be removed from pandas in a future version. Use pandas.concat instead.\n",
      "  metrics = metrics.append({'model':'KNN','group':'all','subgroup':'all','Sentence': i, 'Accuracy':a,'Precision': p, 'Recall':r, 'AUC':roc_auc, 'FPR':fpr}, ignore_index=True)\n",
      "C:\\Users\\Nathalie\\AppData\\Local\\Temp\\ipykernel_5844\\2591937328.py:42: FutureWarning: The frame.append method is deprecated and will be removed from pandas in a future version. Use pandas.concat instead.\n",
      "  metrics = metrics.append({'model':'KNN','group':group,'subgroup':subgroup,'Sentence': i, 'Accuracy':a,'Precision': p, 'Recall':r, 'AUC':roc_auc, 'FPR':fpr}, ignore_index=True)\n",
      "C:\\Users\\Nathalie\\AppData\\Local\\Temp\\ipykernel_5844\\2591937328.py:42: FutureWarning: The frame.append method is deprecated and will be removed from pandas in a future version. Use pandas.concat instead.\n",
      "  metrics = metrics.append({'model':'KNN','group':group,'subgroup':subgroup,'Sentence': i, 'Accuracy':a,'Precision': p, 'Recall':r, 'AUC':roc_auc, 'FPR':fpr}, ignore_index=True)\n",
      "C:\\Users\\Nathalie\\AppData\\Local\\Temp\\ipykernel_5844\\2591937328.py:24: FutureWarning: The frame.append method is deprecated and will be removed from pandas in a future version. Use pandas.concat instead.\n",
      "  metrics = metrics.append({'model':'KNN','group':'all','subgroup':'all','Sentence': i, 'Accuracy':a,'Precision': p, 'Recall':r, 'AUC':roc_auc, 'FPR':fpr}, ignore_index=True)\n",
      "C:\\Users\\Nathalie\\AppData\\Local\\Temp\\ipykernel_5844\\2591937328.py:42: FutureWarning: The frame.append method is deprecated and will be removed from pandas in a future version. Use pandas.concat instead.\n",
      "  metrics = metrics.append({'model':'KNN','group':group,'subgroup':subgroup,'Sentence': i, 'Accuracy':a,'Precision': p, 'Recall':r, 'AUC':roc_auc, 'FPR':fpr}, ignore_index=True)\n",
      "C:\\Users\\Nathalie\\AppData\\Local\\Temp\\ipykernel_5844\\2591937328.py:42: FutureWarning: The frame.append method is deprecated and will be removed from pandas in a future version. Use pandas.concat instead.\n",
      "  metrics = metrics.append({'model':'KNN','group':group,'subgroup':subgroup,'Sentence': i, 'Accuracy':a,'Precision': p, 'Recall':r, 'AUC':roc_auc, 'FPR':fpr}, ignore_index=True)\n",
      "C:\\Users\\Nathalie\\AppData\\Local\\Temp\\ipykernel_5844\\2591937328.py:24: FutureWarning: The frame.append method is deprecated and will be removed from pandas in a future version. Use pandas.concat instead.\n",
      "  metrics = metrics.append({'model':'KNN','group':'all','subgroup':'all','Sentence': i, 'Accuracy':a,'Precision': p, 'Recall':r, 'AUC':roc_auc, 'FPR':fpr}, ignore_index=True)\n",
      "C:\\Users\\Nathalie\\AppData\\Local\\Temp\\ipykernel_5844\\2591937328.py:42: FutureWarning: The frame.append method is deprecated and will be removed from pandas in a future version. Use pandas.concat instead.\n",
      "  metrics = metrics.append({'model':'KNN','group':group,'subgroup':subgroup,'Sentence': i, 'Accuracy':a,'Precision': p, 'Recall':r, 'AUC':roc_auc, 'FPR':fpr}, ignore_index=True)\n",
      "C:\\Users\\Nathalie\\AppData\\Local\\Temp\\ipykernel_5844\\2591937328.py:42: FutureWarning: The frame.append method is deprecated and will be removed from pandas in a future version. Use pandas.concat instead.\n",
      "  metrics = metrics.append({'model':'KNN','group':group,'subgroup':subgroup,'Sentence': i, 'Accuracy':a,'Precision': p, 'Recall':r, 'AUC':roc_auc, 'FPR':fpr}, ignore_index=True)\n",
      "C:\\Users\\Nathalie\\AppData\\Local\\Temp\\ipykernel_5844\\2591937328.py:24: FutureWarning: The frame.append method is deprecated and will be removed from pandas in a future version. Use pandas.concat instead.\n",
      "  metrics = metrics.append({'model':'KNN','group':'all','subgroup':'all','Sentence': i, 'Accuracy':a,'Precision': p, 'Recall':r, 'AUC':roc_auc, 'FPR':fpr}, ignore_index=True)\n",
      "C:\\Users\\Nathalie\\AppData\\Local\\Temp\\ipykernel_5844\\2591937328.py:42: FutureWarning: The frame.append method is deprecated and will be removed from pandas in a future version. Use pandas.concat instead.\n",
      "  metrics = metrics.append({'model':'KNN','group':group,'subgroup':subgroup,'Sentence': i, 'Accuracy':a,'Precision': p, 'Recall':r, 'AUC':roc_auc, 'FPR':fpr}, ignore_index=True)\n",
      "C:\\Users\\Nathalie\\AppData\\Local\\Temp\\ipykernel_5844\\2591937328.py:42: FutureWarning: The frame.append method is deprecated and will be removed from pandas in a future version. Use pandas.concat instead.\n",
      "  metrics = metrics.append({'model':'KNN','group':group,'subgroup':subgroup,'Sentence': i, 'Accuracy':a,'Precision': p, 'Recall':r, 'AUC':roc_auc, 'FPR':fpr}, ignore_index=True)\n",
      "C:\\Users\\Nathalie\\AppData\\Local\\Temp\\ipykernel_5844\\2591937328.py:24: FutureWarning: The frame.append method is deprecated and will be removed from pandas in a future version. Use pandas.concat instead.\n",
      "  metrics = metrics.append({'model':'KNN','group':'all','subgroup':'all','Sentence': i, 'Accuracy':a,'Precision': p, 'Recall':r, 'AUC':roc_auc, 'FPR':fpr}, ignore_index=True)\n",
      "C:\\Users\\Nathalie\\AppData\\Local\\Temp\\ipykernel_5844\\2591937328.py:42: FutureWarning: The frame.append method is deprecated and will be removed from pandas in a future version. Use pandas.concat instead.\n",
      "  metrics = metrics.append({'model':'KNN','group':group,'subgroup':subgroup,'Sentence': i, 'Accuracy':a,'Precision': p, 'Recall':r, 'AUC':roc_auc, 'FPR':fpr}, ignore_index=True)\n",
      "C:\\Users\\Nathalie\\AppData\\Local\\Temp\\ipykernel_5844\\2591937328.py:42: FutureWarning: The frame.append method is deprecated and will be removed from pandas in a future version. Use pandas.concat instead.\n",
      "  metrics = metrics.append({'model':'KNN','group':group,'subgroup':subgroup,'Sentence': i, 'Accuracy':a,'Precision': p, 'Recall':r, 'AUC':roc_auc, 'FPR':fpr}, ignore_index=True)\n",
      "C:\\Users\\Nathalie\\AppData\\Local\\Temp\\ipykernel_5844\\2591937328.py:24: FutureWarning: The frame.append method is deprecated and will be removed from pandas in a future version. Use pandas.concat instead.\n",
      "  metrics = metrics.append({'model':'KNN','group':'all','subgroup':'all','Sentence': i, 'Accuracy':a,'Precision': p, 'Recall':r, 'AUC':roc_auc, 'FPR':fpr}, ignore_index=True)\n",
      "C:\\Users\\Nathalie\\AppData\\Local\\Temp\\ipykernel_5844\\2591937328.py:42: FutureWarning: The frame.append method is deprecated and will be removed from pandas in a future version. Use pandas.concat instead.\n",
      "  metrics = metrics.append({'model':'KNN','group':group,'subgroup':subgroup,'Sentence': i, 'Accuracy':a,'Precision': p, 'Recall':r, 'AUC':roc_auc, 'FPR':fpr}, ignore_index=True)\n",
      "C:\\Users\\Nathalie\\AppData\\Local\\Temp\\ipykernel_5844\\2591937328.py:42: FutureWarning: The frame.append method is deprecated and will be removed from pandas in a future version. Use pandas.concat instead.\n",
      "  metrics = metrics.append({'model':'KNN','group':group,'subgroup':subgroup,'Sentence': i, 'Accuracy':a,'Precision': p, 'Recall':r, 'AUC':roc_auc, 'FPR':fpr}, ignore_index=True)\n",
      "C:\\Users\\Nathalie\\AppData\\Local\\Temp\\ipykernel_5844\\2591937328.py:24: FutureWarning: The frame.append method is deprecated and will be removed from pandas in a future version. Use pandas.concat instead.\n",
      "  metrics = metrics.append({'model':'KNN','group':'all','subgroup':'all','Sentence': i, 'Accuracy':a,'Precision': p, 'Recall':r, 'AUC':roc_auc, 'FPR':fpr}, ignore_index=True)\n",
      "C:\\Users\\Nathalie\\AppData\\Local\\Temp\\ipykernel_5844\\2591937328.py:42: FutureWarning: The frame.append method is deprecated and will be removed from pandas in a future version. Use pandas.concat instead.\n",
      "  metrics = metrics.append({'model':'KNN','group':group,'subgroup':subgroup,'Sentence': i, 'Accuracy':a,'Precision': p, 'Recall':r, 'AUC':roc_auc, 'FPR':fpr}, ignore_index=True)\n",
      "C:\\Users\\Nathalie\\AppData\\Local\\Temp\\ipykernel_5844\\2591937328.py:42: FutureWarning: The frame.append method is deprecated and will be removed from pandas in a future version. Use pandas.concat instead.\n",
      "  metrics = metrics.append({'model':'KNN','group':group,'subgroup':subgroup,'Sentence': i, 'Accuracy':a,'Precision': p, 'Recall':r, 'AUC':roc_auc, 'FPR':fpr}, ignore_index=True)\n",
      "C:\\Users\\Nathalie\\AppData\\Local\\Temp\\ipykernel_5844\\2591937328.py:24: FutureWarning: The frame.append method is deprecated and will be removed from pandas in a future version. Use pandas.concat instead.\n",
      "  metrics = metrics.append({'model':'KNN','group':'all','subgroup':'all','Sentence': i, 'Accuracy':a,'Precision': p, 'Recall':r, 'AUC':roc_auc, 'FPR':fpr}, ignore_index=True)\n",
      "C:\\Users\\Nathalie\\AppData\\Local\\Temp\\ipykernel_5844\\2591937328.py:42: FutureWarning: The frame.append method is deprecated and will be removed from pandas in a future version. Use pandas.concat instead.\n",
      "  metrics = metrics.append({'model':'KNN','group':group,'subgroup':subgroup,'Sentence': i, 'Accuracy':a,'Precision': p, 'Recall':r, 'AUC':roc_auc, 'FPR':fpr}, ignore_index=True)\n",
      "C:\\Users\\Nathalie\\AppData\\Local\\Temp\\ipykernel_5844\\2591937328.py:42: FutureWarning: The frame.append method is deprecated and will be removed from pandas in a future version. Use pandas.concat instead.\n",
      "  metrics = metrics.append({'model':'KNN','group':group,'subgroup':subgroup,'Sentence': i, 'Accuracy':a,'Precision': p, 'Recall':r, 'AUC':roc_auc, 'FPR':fpr}, ignore_index=True)\n",
      "C:\\Users\\Nathalie\\AppData\\Local\\Temp\\ipykernel_5844\\2591937328.py:24: FutureWarning: The frame.append method is deprecated and will be removed from pandas in a future version. Use pandas.concat instead.\n",
      "  metrics = metrics.append({'model':'KNN','group':'all','subgroup':'all','Sentence': i, 'Accuracy':a,'Precision': p, 'Recall':r, 'AUC':roc_auc, 'FPR':fpr}, ignore_index=True)\n",
      "C:\\Users\\Nathalie\\AppData\\Local\\Temp\\ipykernel_5844\\2591937328.py:42: FutureWarning: The frame.append method is deprecated and will be removed from pandas in a future version. Use pandas.concat instead.\n",
      "  metrics = metrics.append({'model':'KNN','group':group,'subgroup':subgroup,'Sentence': i, 'Accuracy':a,'Precision': p, 'Recall':r, 'AUC':roc_auc, 'FPR':fpr}, ignore_index=True)\n",
      "C:\\Users\\Nathalie\\AppData\\Local\\Temp\\ipykernel_5844\\2591937328.py:42: FutureWarning: The frame.append method is deprecated and will be removed from pandas in a future version. Use pandas.concat instead.\n",
      "  metrics = metrics.append({'model':'KNN','group':group,'subgroup':subgroup,'Sentence': i, 'Accuracy':a,'Precision': p, 'Recall':r, 'AUC':roc_auc, 'FPR':fpr}, ignore_index=True)\n",
      "C:\\Users\\Nathalie\\AppData\\Local\\Temp\\ipykernel_5844\\2591937328.py:24: FutureWarning: The frame.append method is deprecated and will be removed from pandas in a future version. Use pandas.concat instead.\n",
      "  metrics = metrics.append({'model':'KNN','group':'all','subgroup':'all','Sentence': i, 'Accuracy':a,'Precision': p, 'Recall':r, 'AUC':roc_auc, 'FPR':fpr}, ignore_index=True)\n",
      "C:\\Users\\Nathalie\\AppData\\Local\\Temp\\ipykernel_5844\\2591937328.py:42: FutureWarning: The frame.append method is deprecated and will be removed from pandas in a future version. Use pandas.concat instead.\n",
      "  metrics = metrics.append({'model':'KNN','group':group,'subgroup':subgroup,'Sentence': i, 'Accuracy':a,'Precision': p, 'Recall':r, 'AUC':roc_auc, 'FPR':fpr}, ignore_index=True)\n",
      "C:\\Users\\Nathalie\\AppData\\Local\\Temp\\ipykernel_5844\\2591937328.py:42: FutureWarning: The frame.append method is deprecated and will be removed from pandas in a future version. Use pandas.concat instead.\n",
      "  metrics = metrics.append({'model':'KNN','group':group,'subgroup':subgroup,'Sentence': i, 'Accuracy':a,'Precision': p, 'Recall':r, 'AUC':roc_auc, 'FPR':fpr}, ignore_index=True)\n",
      "C:\\Users\\Nathalie\\AppData\\Local\\Temp\\ipykernel_5844\\2591937328.py:24: FutureWarning: The frame.append method is deprecated and will be removed from pandas in a future version. Use pandas.concat instead.\n",
      "  metrics = metrics.append({'model':'KNN','group':'all','subgroup':'all','Sentence': i, 'Accuracy':a,'Precision': p, 'Recall':r, 'AUC':roc_auc, 'FPR':fpr}, ignore_index=True)\n",
      "C:\\Users\\Nathalie\\AppData\\Local\\Temp\\ipykernel_5844\\2591937328.py:42: FutureWarning: The frame.append method is deprecated and will be removed from pandas in a future version. Use pandas.concat instead.\n",
      "  metrics = metrics.append({'model':'KNN','group':group,'subgroup':subgroup,'Sentence': i, 'Accuracy':a,'Precision': p, 'Recall':r, 'AUC':roc_auc, 'FPR':fpr}, ignore_index=True)\n",
      "C:\\Users\\Nathalie\\AppData\\Local\\Temp\\ipykernel_5844\\2591937328.py:42: FutureWarning: The frame.append method is deprecated and will be removed from pandas in a future version. Use pandas.concat instead.\n",
      "  metrics = metrics.append({'model':'KNN','group':group,'subgroup':subgroup,'Sentence': i, 'Accuracy':a,'Precision': p, 'Recall':r, 'AUC':roc_auc, 'FPR':fpr}, ignore_index=True)\n",
      "C:\\Users\\Nathalie\\AppData\\Local\\Temp\\ipykernel_5844\\2591937328.py:24: FutureWarning: The frame.append method is deprecated and will be removed from pandas in a future version. Use pandas.concat instead.\n",
      "  metrics = metrics.append({'model':'KNN','group':'all','subgroup':'all','Sentence': i, 'Accuracy':a,'Precision': p, 'Recall':r, 'AUC':roc_auc, 'FPR':fpr}, ignore_index=True)\n",
      "C:\\Users\\Nathalie\\AppData\\Local\\Temp\\ipykernel_5844\\2591937328.py:42: FutureWarning: The frame.append method is deprecated and will be removed from pandas in a future version. Use pandas.concat instead.\n",
      "  metrics = metrics.append({'model':'KNN','group':group,'subgroup':subgroup,'Sentence': i, 'Accuracy':a,'Precision': p, 'Recall':r, 'AUC':roc_auc, 'FPR':fpr}, ignore_index=True)\n",
      "C:\\Users\\Nathalie\\AppData\\Local\\Temp\\ipykernel_5844\\2591937328.py:42: FutureWarning: The frame.append method is deprecated and will be removed from pandas in a future version. Use pandas.concat instead.\n",
      "  metrics = metrics.append({'model':'KNN','group':group,'subgroup':subgroup,'Sentence': i, 'Accuracy':a,'Precision': p, 'Recall':r, 'AUC':roc_auc, 'FPR':fpr}, ignore_index=True)\n",
      "C:\\Users\\Nathalie\\AppData\\Local\\Temp\\ipykernel_5844\\2591937328.py:24: FutureWarning: The frame.append method is deprecated and will be removed from pandas in a future version. Use pandas.concat instead.\n",
      "  metrics = metrics.append({'model':'KNN','group':'all','subgroup':'all','Sentence': i, 'Accuracy':a,'Precision': p, 'Recall':r, 'AUC':roc_auc, 'FPR':fpr}, ignore_index=True)\n",
      "C:\\Users\\Nathalie\\AppData\\Local\\Temp\\ipykernel_5844\\2591937328.py:42: FutureWarning: The frame.append method is deprecated and will be removed from pandas in a future version. Use pandas.concat instead.\n",
      "  metrics = metrics.append({'model':'KNN','group':group,'subgroup':subgroup,'Sentence': i, 'Accuracy':a,'Precision': p, 'Recall':r, 'AUC':roc_auc, 'FPR':fpr}, ignore_index=True)\n",
      "C:\\Users\\Nathalie\\AppData\\Local\\Temp\\ipykernel_5844\\2591937328.py:42: FutureWarning: The frame.append method is deprecated and will be removed from pandas in a future version. Use pandas.concat instead.\n",
      "  metrics = metrics.append({'model':'KNN','group':group,'subgroup':subgroup,'Sentence': i, 'Accuracy':a,'Precision': p, 'Recall':r, 'AUC':roc_auc, 'FPR':fpr}, ignore_index=True)\n",
      "C:\\Users\\Nathalie\\AppData\\Local\\Temp\\ipykernel_5844\\2591937328.py:24: FutureWarning: The frame.append method is deprecated and will be removed from pandas in a future version. Use pandas.concat instead.\n",
      "  metrics = metrics.append({'model':'KNN','group':'all','subgroup':'all','Sentence': i, 'Accuracy':a,'Precision': p, 'Recall':r, 'AUC':roc_auc, 'FPR':fpr}, ignore_index=True)\n",
      "C:\\Users\\Nathalie\\AppData\\Local\\Temp\\ipykernel_5844\\2591937328.py:42: FutureWarning: The frame.append method is deprecated and will be removed from pandas in a future version. Use pandas.concat instead.\n",
      "  metrics = metrics.append({'model':'KNN','group':group,'subgroup':subgroup,'Sentence': i, 'Accuracy':a,'Precision': p, 'Recall':r, 'AUC':roc_auc, 'FPR':fpr}, ignore_index=True)\n",
      "C:\\Users\\Nathalie\\AppData\\Local\\Temp\\ipykernel_5844\\2591937328.py:42: FutureWarning: The frame.append method is deprecated and will be removed from pandas in a future version. Use pandas.concat instead.\n",
      "  metrics = metrics.append({'model':'KNN','group':group,'subgroup':subgroup,'Sentence': i, 'Accuracy':a,'Precision': p, 'Recall':r, 'AUC':roc_auc, 'FPR':fpr}, ignore_index=True)\n",
      "C:\\Users\\Nathalie\\AppData\\Local\\Temp\\ipykernel_5844\\2591937328.py:24: FutureWarning: The frame.append method is deprecated and will be removed from pandas in a future version. Use pandas.concat instead.\n",
      "  metrics = metrics.append({'model':'KNN','group':'all','subgroup':'all','Sentence': i, 'Accuracy':a,'Precision': p, 'Recall':r, 'AUC':roc_auc, 'FPR':fpr}, ignore_index=True)\n",
      "C:\\Users\\Nathalie\\AppData\\Local\\Temp\\ipykernel_5844\\2591937328.py:42: FutureWarning: The frame.append method is deprecated and will be removed from pandas in a future version. Use pandas.concat instead.\n",
      "  metrics = metrics.append({'model':'KNN','group':group,'subgroup':subgroup,'Sentence': i, 'Accuracy':a,'Precision': p, 'Recall':r, 'AUC':roc_auc, 'FPR':fpr}, ignore_index=True)\n",
      "C:\\Users\\Nathalie\\AppData\\Local\\Temp\\ipykernel_5844\\2591937328.py:42: FutureWarning: The frame.append method is deprecated and will be removed from pandas in a future version. Use pandas.concat instead.\n",
      "  metrics = metrics.append({'model':'KNN','group':group,'subgroup':subgroup,'Sentence': i, 'Accuracy':a,'Precision': p, 'Recall':r, 'AUC':roc_auc, 'FPR':fpr}, ignore_index=True)\n",
      "C:\\Users\\Nathalie\\AppData\\Local\\Temp\\ipykernel_5844\\2591937328.py:24: FutureWarning: The frame.append method is deprecated and will be removed from pandas in a future version. Use pandas.concat instead.\n",
      "  metrics = metrics.append({'model':'KNN','group':'all','subgroup':'all','Sentence': i, 'Accuracy':a,'Precision': p, 'Recall':r, 'AUC':roc_auc, 'FPR':fpr}, ignore_index=True)\n",
      "C:\\Users\\Nathalie\\AppData\\Local\\Temp\\ipykernel_5844\\2591937328.py:42: FutureWarning: The frame.append method is deprecated and will be removed from pandas in a future version. Use pandas.concat instead.\n",
      "  metrics = metrics.append({'model':'KNN','group':group,'subgroup':subgroup,'Sentence': i, 'Accuracy':a,'Precision': p, 'Recall':r, 'AUC':roc_auc, 'FPR':fpr}, ignore_index=True)\n",
      "C:\\Users\\Nathalie\\AppData\\Local\\Temp\\ipykernel_5844\\2591937328.py:42: FutureWarning: The frame.append method is deprecated and will be removed from pandas in a future version. Use pandas.concat instead.\n",
      "  metrics = metrics.append({'model':'KNN','group':group,'subgroup':subgroup,'Sentence': i, 'Accuracy':a,'Precision': p, 'Recall':r, 'AUC':roc_auc, 'FPR':fpr}, ignore_index=True)\n",
      "C:\\Users\\Nathalie\\AppData\\Local\\Temp\\ipykernel_5844\\2591937328.py:24: FutureWarning: The frame.append method is deprecated and will be removed from pandas in a future version. Use pandas.concat instead.\n",
      "  metrics = metrics.append({'model':'KNN','group':'all','subgroup':'all','Sentence': i, 'Accuracy':a,'Precision': p, 'Recall':r, 'AUC':roc_auc, 'FPR':fpr}, ignore_index=True)\n",
      "C:\\Users\\Nathalie\\AppData\\Local\\Temp\\ipykernel_5844\\2591937328.py:42: FutureWarning: The frame.append method is deprecated and will be removed from pandas in a future version. Use pandas.concat instead.\n",
      "  metrics = metrics.append({'model':'KNN','group':group,'subgroup':subgroup,'Sentence': i, 'Accuracy':a,'Precision': p, 'Recall':r, 'AUC':roc_auc, 'FPR':fpr}, ignore_index=True)\n",
      "C:\\Users\\Nathalie\\AppData\\Local\\Temp\\ipykernel_5844\\2591937328.py:42: FutureWarning: The frame.append method is deprecated and will be removed from pandas in a future version. Use pandas.concat instead.\n",
      "  metrics = metrics.append({'model':'KNN','group':group,'subgroup':subgroup,'Sentence': i, 'Accuracy':a,'Precision': p, 'Recall':r, 'AUC':roc_auc, 'FPR':fpr}, ignore_index=True)\n",
      "C:\\Users\\Nathalie\\AppData\\Local\\Temp\\ipykernel_5844\\2591937328.py:24: FutureWarning: The frame.append method is deprecated and will be removed from pandas in a future version. Use pandas.concat instead.\n",
      "  metrics = metrics.append({'model':'KNN','group':'all','subgroup':'all','Sentence': i, 'Accuracy':a,'Precision': p, 'Recall':r, 'AUC':roc_auc, 'FPR':fpr}, ignore_index=True)\n",
      "C:\\Users\\Nathalie\\AppData\\Local\\Temp\\ipykernel_5844\\2591937328.py:42: FutureWarning: The frame.append method is deprecated and will be removed from pandas in a future version. Use pandas.concat instead.\n",
      "  metrics = metrics.append({'model':'KNN','group':group,'subgroup':subgroup,'Sentence': i, 'Accuracy':a,'Precision': p, 'Recall':r, 'AUC':roc_auc, 'FPR':fpr}, ignore_index=True)\n",
      "C:\\Users\\Nathalie\\AppData\\Local\\Temp\\ipykernel_5844\\2591937328.py:42: FutureWarning: The frame.append method is deprecated and will be removed from pandas in a future version. Use pandas.concat instead.\n",
      "  metrics = metrics.append({'model':'KNN','group':group,'subgroup':subgroup,'Sentence': i, 'Accuracy':a,'Precision': p, 'Recall':r, 'AUC':roc_auc, 'FPR':fpr}, ignore_index=True)\n",
      "C:\\Users\\Nathalie\\AppData\\Local\\Temp\\ipykernel_5844\\2591937328.py:24: FutureWarning: The frame.append method is deprecated and will be removed from pandas in a future version. Use pandas.concat instead.\n",
      "  metrics = metrics.append({'model':'KNN','group':'all','subgroup':'all','Sentence': i, 'Accuracy':a,'Precision': p, 'Recall':r, 'AUC':roc_auc, 'FPR':fpr}, ignore_index=True)\n",
      "C:\\Users\\Nathalie\\AppData\\Local\\Temp\\ipykernel_5844\\2591937328.py:42: FutureWarning: The frame.append method is deprecated and will be removed from pandas in a future version. Use pandas.concat instead.\n",
      "  metrics = metrics.append({'model':'KNN','group':group,'subgroup':subgroup,'Sentence': i, 'Accuracy':a,'Precision': p, 'Recall':r, 'AUC':roc_auc, 'FPR':fpr}, ignore_index=True)\n",
      "C:\\Users\\Nathalie\\AppData\\Local\\Temp\\ipykernel_5844\\2591937328.py:42: FutureWarning: The frame.append method is deprecated and will be removed from pandas in a future version. Use pandas.concat instead.\n",
      "  metrics = metrics.append({'model':'KNN','group':group,'subgroup':subgroup,'Sentence': i, 'Accuracy':a,'Precision': p, 'Recall':r, 'AUC':roc_auc, 'FPR':fpr}, ignore_index=True)\n",
      "C:\\Users\\Nathalie\\AppData\\Local\\Temp\\ipykernel_5844\\2591937328.py:24: FutureWarning: The frame.append method is deprecated and will be removed from pandas in a future version. Use pandas.concat instead.\n",
      "  metrics = metrics.append({'model':'KNN','group':'all','subgroup':'all','Sentence': i, 'Accuracy':a,'Precision': p, 'Recall':r, 'AUC':roc_auc, 'FPR':fpr}, ignore_index=True)\n",
      "C:\\Users\\Nathalie\\AppData\\Local\\Temp\\ipykernel_5844\\2591937328.py:42: FutureWarning: The frame.append method is deprecated and will be removed from pandas in a future version. Use pandas.concat instead.\n",
      "  metrics = metrics.append({'model':'KNN','group':group,'subgroup':subgroup,'Sentence': i, 'Accuracy':a,'Precision': p, 'Recall':r, 'AUC':roc_auc, 'FPR':fpr}, ignore_index=True)\n",
      "C:\\Users\\Nathalie\\AppData\\Local\\Temp\\ipykernel_5844\\2591937328.py:42: FutureWarning: The frame.append method is deprecated and will be removed from pandas in a future version. Use pandas.concat instead.\n",
      "  metrics = metrics.append({'model':'KNN','group':group,'subgroup':subgroup,'Sentence': i, 'Accuracy':a,'Precision': p, 'Recall':r, 'AUC':roc_auc, 'FPR':fpr}, ignore_index=True)\n",
      "C:\\Users\\Nathalie\\AppData\\Local\\Temp\\ipykernel_5844\\2591937328.py:24: FutureWarning: The frame.append method is deprecated and will be removed from pandas in a future version. Use pandas.concat instead.\n",
      "  metrics = metrics.append({'model':'KNN','group':'all','subgroup':'all','Sentence': i, 'Accuracy':a,'Precision': p, 'Recall':r, 'AUC':roc_auc, 'FPR':fpr}, ignore_index=True)\n",
      "C:\\Users\\Nathalie\\AppData\\Local\\Temp\\ipykernel_5844\\2591937328.py:42: FutureWarning: The frame.append method is deprecated and will be removed from pandas in a future version. Use pandas.concat instead.\n",
      "  metrics = metrics.append({'model':'KNN','group':group,'subgroup':subgroup,'Sentence': i, 'Accuracy':a,'Precision': p, 'Recall':r, 'AUC':roc_auc, 'FPR':fpr}, ignore_index=True)\n",
      "C:\\Users\\Nathalie\\AppData\\Local\\Temp\\ipykernel_5844\\2591937328.py:42: FutureWarning: The frame.append method is deprecated and will be removed from pandas in a future version. Use pandas.concat instead.\n",
      "  metrics = metrics.append({'model':'KNN','group':group,'subgroup':subgroup,'Sentence': i, 'Accuracy':a,'Precision': p, 'Recall':r, 'AUC':roc_auc, 'FPR':fpr}, ignore_index=True)\n",
      "C:\\Users\\Nathalie\\AppData\\Local\\Temp\\ipykernel_5844\\2591937328.py:24: FutureWarning: The frame.append method is deprecated and will be removed from pandas in a future version. Use pandas.concat instead.\n",
      "  metrics = metrics.append({'model':'KNN','group':'all','subgroup':'all','Sentence': i, 'Accuracy':a,'Precision': p, 'Recall':r, 'AUC':roc_auc, 'FPR':fpr}, ignore_index=True)\n",
      "C:\\Users\\Nathalie\\AppData\\Local\\Temp\\ipykernel_5844\\2591937328.py:42: FutureWarning: The frame.append method is deprecated and will be removed from pandas in a future version. Use pandas.concat instead.\n",
      "  metrics = metrics.append({'model':'KNN','group':group,'subgroup':subgroup,'Sentence': i, 'Accuracy':a,'Precision': p, 'Recall':r, 'AUC':roc_auc, 'FPR':fpr}, ignore_index=True)\n",
      "C:\\Users\\Nathalie\\AppData\\Local\\Temp\\ipykernel_5844\\2591937328.py:42: FutureWarning: The frame.append method is deprecated and will be removed from pandas in a future version. Use pandas.concat instead.\n",
      "  metrics = metrics.append({'model':'KNN','group':group,'subgroup':subgroup,'Sentence': i, 'Accuracy':a,'Precision': p, 'Recall':r, 'AUC':roc_auc, 'FPR':fpr}, ignore_index=True)\n",
      "C:\\Users\\Nathalie\\AppData\\Local\\Temp\\ipykernel_5844\\2591937328.py:24: FutureWarning: The frame.append method is deprecated and will be removed from pandas in a future version. Use pandas.concat instead.\n",
      "  metrics = metrics.append({'model':'KNN','group':'all','subgroup':'all','Sentence': i, 'Accuracy':a,'Precision': p, 'Recall':r, 'AUC':roc_auc, 'FPR':fpr}, ignore_index=True)\n",
      "C:\\Users\\Nathalie\\AppData\\Local\\Temp\\ipykernel_5844\\2591937328.py:42: FutureWarning: The frame.append method is deprecated and will be removed from pandas in a future version. Use pandas.concat instead.\n",
      "  metrics = metrics.append({'model':'KNN','group':group,'subgroup':subgroup,'Sentence': i, 'Accuracy':a,'Precision': p, 'Recall':r, 'AUC':roc_auc, 'FPR':fpr}, ignore_index=True)\n",
      "C:\\Users\\Nathalie\\AppData\\Local\\Temp\\ipykernel_5844\\2591937328.py:42: FutureWarning: The frame.append method is deprecated and will be removed from pandas in a future version. Use pandas.concat instead.\n",
      "  metrics = metrics.append({'model':'KNN','group':group,'subgroup':subgroup,'Sentence': i, 'Accuracy':a,'Precision': p, 'Recall':r, 'AUC':roc_auc, 'FPR':fpr}, ignore_index=True)\n",
      "C:\\Users\\Nathalie\\AppData\\Local\\Temp\\ipykernel_5844\\2591937328.py:24: FutureWarning: The frame.append method is deprecated and will be removed from pandas in a future version. Use pandas.concat instead.\n",
      "  metrics = metrics.append({'model':'KNN','group':'all','subgroup':'all','Sentence': i, 'Accuracy':a,'Precision': p, 'Recall':r, 'AUC':roc_auc, 'FPR':fpr}, ignore_index=True)\n",
      "C:\\Users\\Nathalie\\AppData\\Local\\Temp\\ipykernel_5844\\2591937328.py:42: FutureWarning: The frame.append method is deprecated and will be removed from pandas in a future version. Use pandas.concat instead.\n",
      "  metrics = metrics.append({'model':'KNN','group':group,'subgroup':subgroup,'Sentence': i, 'Accuracy':a,'Precision': p, 'Recall':r, 'AUC':roc_auc, 'FPR':fpr}, ignore_index=True)\n",
      "C:\\Users\\Nathalie\\AppData\\Local\\Temp\\ipykernel_5844\\2591937328.py:42: FutureWarning: The frame.append method is deprecated and will be removed from pandas in a future version. Use pandas.concat instead.\n",
      "  metrics = metrics.append({'model':'KNN','group':group,'subgroup':subgroup,'Sentence': i, 'Accuracy':a,'Precision': p, 'Recall':r, 'AUC':roc_auc, 'FPR':fpr}, ignore_index=True)\n",
      "C:\\Users\\Nathalie\\AppData\\Local\\Temp\\ipykernel_5844\\2591937328.py:24: FutureWarning: The frame.append method is deprecated and will be removed from pandas in a future version. Use pandas.concat instead.\n",
      "  metrics = metrics.append({'model':'KNN','group':'all','subgroup':'all','Sentence': i, 'Accuracy':a,'Precision': p, 'Recall':r, 'AUC':roc_auc, 'FPR':fpr}, ignore_index=True)\n",
      "C:\\Users\\Nathalie\\AppData\\Local\\Temp\\ipykernel_5844\\2591937328.py:42: FutureWarning: The frame.append method is deprecated and will be removed from pandas in a future version. Use pandas.concat instead.\n",
      "  metrics = metrics.append({'model':'KNN','group':group,'subgroup':subgroup,'Sentence': i, 'Accuracy':a,'Precision': p, 'Recall':r, 'AUC':roc_auc, 'FPR':fpr}, ignore_index=True)\n",
      "C:\\Users\\Nathalie\\AppData\\Local\\Temp\\ipykernel_5844\\2591937328.py:42: FutureWarning: The frame.append method is deprecated and will be removed from pandas in a future version. Use pandas.concat instead.\n",
      "  metrics = metrics.append({'model':'KNN','group':group,'subgroup':subgroup,'Sentence': i, 'Accuracy':a,'Precision': p, 'Recall':r, 'AUC':roc_auc, 'FPR':fpr}, ignore_index=True)\n",
      "C:\\Users\\Nathalie\\AppData\\Local\\Temp\\ipykernel_5844\\2591937328.py:24: FutureWarning: The frame.append method is deprecated and will be removed from pandas in a future version. Use pandas.concat instead.\n",
      "  metrics = metrics.append({'model':'KNN','group':'all','subgroup':'all','Sentence': i, 'Accuracy':a,'Precision': p, 'Recall':r, 'AUC':roc_auc, 'FPR':fpr}, ignore_index=True)\n",
      "C:\\Users\\Nathalie\\AppData\\Local\\Temp\\ipykernel_5844\\2591937328.py:42: FutureWarning: The frame.append method is deprecated and will be removed from pandas in a future version. Use pandas.concat instead.\n",
      "  metrics = metrics.append({'model':'KNN','group':group,'subgroup':subgroup,'Sentence': i, 'Accuracy':a,'Precision': p, 'Recall':r, 'AUC':roc_auc, 'FPR':fpr}, ignore_index=True)\n",
      "C:\\Users\\Nathalie\\AppData\\Local\\Temp\\ipykernel_5844\\2591937328.py:42: FutureWarning: The frame.append method is deprecated and will be removed from pandas in a future version. Use pandas.concat instead.\n",
      "  metrics = metrics.append({'model':'KNN','group':group,'subgroup':subgroup,'Sentence': i, 'Accuracy':a,'Precision': p, 'Recall':r, 'AUC':roc_auc, 'FPR':fpr}, ignore_index=True)\n",
      "C:\\Users\\Nathalie\\AppData\\Local\\Temp\\ipykernel_5844\\2591937328.py:24: FutureWarning: The frame.append method is deprecated and will be removed from pandas in a future version. Use pandas.concat instead.\n",
      "  metrics = metrics.append({'model':'KNN','group':'all','subgroup':'all','Sentence': i, 'Accuracy':a,'Precision': p, 'Recall':r, 'AUC':roc_auc, 'FPR':fpr}, ignore_index=True)\n",
      "C:\\Users\\Nathalie\\AppData\\Local\\Temp\\ipykernel_5844\\2591937328.py:42: FutureWarning: The frame.append method is deprecated and will be removed from pandas in a future version. Use pandas.concat instead.\n",
      "  metrics = metrics.append({'model':'KNN','group':group,'subgroup':subgroup,'Sentence': i, 'Accuracy':a,'Precision': p, 'Recall':r, 'AUC':roc_auc, 'FPR':fpr}, ignore_index=True)\n",
      "C:\\Users\\Nathalie\\AppData\\Local\\Temp\\ipykernel_5844\\2591937328.py:42: FutureWarning: The frame.append method is deprecated and will be removed from pandas in a future version. Use pandas.concat instead.\n",
      "  metrics = metrics.append({'model':'KNN','group':group,'subgroup':subgroup,'Sentence': i, 'Accuracy':a,'Precision': p, 'Recall':r, 'AUC':roc_auc, 'FPR':fpr}, ignore_index=True)\n",
      "C:\\Users\\Nathalie\\AppData\\Local\\Temp\\ipykernel_5844\\2591937328.py:24: FutureWarning: The frame.append method is deprecated and will be removed from pandas in a future version. Use pandas.concat instead.\n",
      "  metrics = metrics.append({'model':'KNN','group':'all','subgroup':'all','Sentence': i, 'Accuracy':a,'Precision': p, 'Recall':r, 'AUC':roc_auc, 'FPR':fpr}, ignore_index=True)\n",
      "C:\\Users\\Nathalie\\AppData\\Local\\Temp\\ipykernel_5844\\2591937328.py:42: FutureWarning: The frame.append method is deprecated and will be removed from pandas in a future version. Use pandas.concat instead.\n",
      "  metrics = metrics.append({'model':'KNN','group':group,'subgroup':subgroup,'Sentence': i, 'Accuracy':a,'Precision': p, 'Recall':r, 'AUC':roc_auc, 'FPR':fpr}, ignore_index=True)\n",
      "C:\\Users\\Nathalie\\AppData\\Local\\Temp\\ipykernel_5844\\2591937328.py:42: FutureWarning: The frame.append method is deprecated and will be removed from pandas in a future version. Use pandas.concat instead.\n",
      "  metrics = metrics.append({'model':'KNN','group':group,'subgroup':subgroup,'Sentence': i, 'Accuracy':a,'Precision': p, 'Recall':r, 'AUC':roc_auc, 'FPR':fpr}, ignore_index=True)\n",
      "C:\\Users\\Nathalie\\AppData\\Local\\Temp\\ipykernel_5844\\2591937328.py:24: FutureWarning: The frame.append method is deprecated and will be removed from pandas in a future version. Use pandas.concat instead.\n",
      "  metrics = metrics.append({'model':'KNN','group':'all','subgroup':'all','Sentence': i, 'Accuracy':a,'Precision': p, 'Recall':r, 'AUC':roc_auc, 'FPR':fpr}, ignore_index=True)\n",
      "C:\\Users\\Nathalie\\AppData\\Local\\Temp\\ipykernel_5844\\2591937328.py:42: FutureWarning: The frame.append method is deprecated and will be removed from pandas in a future version. Use pandas.concat instead.\n",
      "  metrics = metrics.append({'model':'KNN','group':group,'subgroup':subgroup,'Sentence': i, 'Accuracy':a,'Precision': p, 'Recall':r, 'AUC':roc_auc, 'FPR':fpr}, ignore_index=True)\n",
      "C:\\Users\\Nathalie\\AppData\\Local\\Temp\\ipykernel_5844\\2591937328.py:42: FutureWarning: The frame.append method is deprecated and will be removed from pandas in a future version. Use pandas.concat instead.\n",
      "  metrics = metrics.append({'model':'KNN','group':group,'subgroup':subgroup,'Sentence': i, 'Accuracy':a,'Precision': p, 'Recall':r, 'AUC':roc_auc, 'FPR':fpr}, ignore_index=True)\n",
      "C:\\Users\\Nathalie\\AppData\\Local\\Temp\\ipykernel_5844\\2591937328.py:24: FutureWarning: The frame.append method is deprecated and will be removed from pandas in a future version. Use pandas.concat instead.\n",
      "  metrics = metrics.append({'model':'KNN','group':'all','subgroup':'all','Sentence': i, 'Accuracy':a,'Precision': p, 'Recall':r, 'AUC':roc_auc, 'FPR':fpr}, ignore_index=True)\n",
      "C:\\Users\\Nathalie\\AppData\\Local\\Temp\\ipykernel_5844\\2591937328.py:42: FutureWarning: The frame.append method is deprecated and will be removed from pandas in a future version. Use pandas.concat instead.\n",
      "  metrics = metrics.append({'model':'KNN','group':group,'subgroup':subgroup,'Sentence': i, 'Accuracy':a,'Precision': p, 'Recall':r, 'AUC':roc_auc, 'FPR':fpr}, ignore_index=True)\n",
      "C:\\Users\\Nathalie\\AppData\\Local\\Temp\\ipykernel_5844\\2591937328.py:42: FutureWarning: The frame.append method is deprecated and will be removed from pandas in a future version. Use pandas.concat instead.\n",
      "  metrics = metrics.append({'model':'KNN','group':group,'subgroup':subgroup,'Sentence': i, 'Accuracy':a,'Precision': p, 'Recall':r, 'AUC':roc_auc, 'FPR':fpr}, ignore_index=True)\n",
      "C:\\Users\\Nathalie\\AppData\\Local\\Temp\\ipykernel_5844\\2591937328.py:24: FutureWarning: The frame.append method is deprecated and will be removed from pandas in a future version. Use pandas.concat instead.\n",
      "  metrics = metrics.append({'model':'KNN','group':'all','subgroup':'all','Sentence': i, 'Accuracy':a,'Precision': p, 'Recall':r, 'AUC':roc_auc, 'FPR':fpr}, ignore_index=True)\n",
      "C:\\Users\\Nathalie\\AppData\\Local\\Temp\\ipykernel_5844\\2591937328.py:42: FutureWarning: The frame.append method is deprecated and will be removed from pandas in a future version. Use pandas.concat instead.\n",
      "  metrics = metrics.append({'model':'KNN','group':group,'subgroup':subgroup,'Sentence': i, 'Accuracy':a,'Precision': p, 'Recall':r, 'AUC':roc_auc, 'FPR':fpr}, ignore_index=True)\n",
      "C:\\Users\\Nathalie\\AppData\\Local\\Temp\\ipykernel_5844\\2591937328.py:42: FutureWarning: The frame.append method is deprecated and will be removed from pandas in a future version. Use pandas.concat instead.\n",
      "  metrics = metrics.append({'model':'KNN','group':group,'subgroup':subgroup,'Sentence': i, 'Accuracy':a,'Precision': p, 'Recall':r, 'AUC':roc_auc, 'FPR':fpr}, ignore_index=True)\n"
     ]
    }
   ],
   "source": [
    "n =  [2,3,4,5,6,7,8,9,10,11,12,13,14,15,16,17,18,19,20,21,22,23,24,25,26,27,28,29,30,31,32,33,34,35,36,37,38,39,40,41,42,43,44,45,46,47,48,49,50,51,52,53,54,55,56,57,58,59,60]\n",
    "feature_cols = ['Erstloesung','Schussel','Erfolg', 'Schwierigkeit', 'ist_Schulzeit', 'MehrfachFalsch', 'vorher_abgebrochen','Fehler', 'Klassenstufe', 'Jahredabei', 'AnzahlAufgaben', 'Sex__m', 'Sex__w', 'Testposition__pruefung', 'Testposition__training','Testposition__version', 'Art__GK', 'Art__GR', 'Art__GZ', 'Art__K', 'Art__LB','UserAttribut', 'OrderNumber', 'steps']\n",
    "\n",
    "for i in n:\n",
    "    #build models\n",
    "    path='buecher_allsessions/matrix'+str(i)+'.pkl'\n",
    "    infile = open(path,'rb')\n",
    "    df = pickle.load(infile)\n",
    "    infile.close()\n",
    "    df=df.reset_index()\n",
    "    X = df[feature_cols]\n",
    "    y = df.y\n",
    "    y= y.astype('int')\n",
    "    X_train, X_test, y_train, y_test = train_test_split(X, y, test_size=0.3, random_state=1)\n",
    "    k = 5\n",
    "    cv = KFold(n_splits=k, random_state=None)\n",
    "\n",
    "    #knn\n",
    "    knn = KNeighborsClassifier(n_neighbors=2)\n",
    "    knn = clf.fit(X_train, y_train)\n",
    "\n",
    "    pred = clf.predict(X_test)\n",
    "    a,p,r,roc_auc,fpr = get_metrics(knn,X_test,y_test,cv,pred)\n",
    "    metrics = metrics.append({'model':'KNN','group':'all','subgroup':'all','Sentence': i, 'Accuracy':a,'Precision': p, 'Recall':r, 'AUC':roc_auc, 'FPR':fpr}, ignore_index=True)\n",
    "\n",
    "    group = ['buecher', 'buecher']\n",
    "    subgroup = ['buch0', 'buch1']\n",
    "    matrice = ['matrices_buecher_0', 'matrices_buecher_1']\n",
    "    \n",
    "    for (group, subgroup, matrix) in zip(group, subgroup, matrice):\n",
    "        path= '../01_prognosemodell/06_newtry/'+matrix+'/matrix'+str(i)+'.pkl'\n",
    "        infile = open(path,'rb')\n",
    "        df = pickle.load(infile)\n",
    "        infile.close()\n",
    "        df=df.reset_index()\n",
    "        X = df[feature_cols]\n",
    "        y = df.y\n",
    "        y= y.astype('int')\n",
    "        pred = clf.predict(X)\n",
    "\n",
    "        a,p,r,roc_auc,fpr = get_metrics(clf,X,y,cv,pred)\n",
    "        metrics = metrics.append({'model':'KNN','group':group,'subgroup':subgroup,'Sentence': i, 'Accuracy':a,'Precision': p, 'Recall':r, 'AUC':roc_auc, 'FPR':fpr}, ignore_index=True)"
   ]
  },
  {
   "cell_type": "code",
   "execution_count": 13,
   "metadata": {},
   "outputs": [
    {
     "name": "stdout",
     "output_type": "stream",
     "text": [
      "4/4 [==============================] - 0s 1ms/step\n"
     ]
    },
    {
     "name": "stderr",
     "output_type": "stream",
     "text": [
      "C:\\Users\\Nathalie\\AppData\\Local\\Temp\\ipykernel_5844\\185956534.py:69: FutureWarning: The frame.append method is deprecated and will be removed from pandas in a future version. Use pandas.concat instead.\n",
      "  metrics = metrics.append({'model':'DL','group':'all','subgroup':'all','Sentence': i, 'Accuracy':a,'Precision': p, 'Recall':r, 'AUC':roc_auc, 'FPR':fpr}, ignore_index=True)\n"
     ]
    },
    {
     "name": "stdout",
     "output_type": "stream",
     "text": [
      "631/631 [==============================] - 1s 888us/step\n"
     ]
    },
    {
     "name": "stderr",
     "output_type": "stream",
     "text": [
      "C:\\Users\\Nathalie\\AppData\\Local\\Temp\\ipykernel_5844\\185956534.py:88: FutureWarning: The frame.append method is deprecated and will be removed from pandas in a future version. Use pandas.concat instead.\n",
      "  metrics = metrics.append({'model':'DL','group':group,'subgroup':subgroup,'Sentence': i, 'Accuracy':a,'Precision': p, 'Recall':r, 'AUC':roc_auc, 'FPR':fpr}, ignore_index=True)\n"
     ]
    },
    {
     "name": "stdout",
     "output_type": "stream",
     "text": [
      "631/631 [==============================] - 1s 860us/step\n"
     ]
    },
    {
     "name": "stderr",
     "output_type": "stream",
     "text": [
      "C:\\Users\\Nathalie\\AppData\\Local\\Temp\\ipykernel_5844\\185956534.py:88: FutureWarning: The frame.append method is deprecated and will be removed from pandas in a future version. Use pandas.concat instead.\n",
      "  metrics = metrics.append({'model':'DL','group':group,'subgroup':subgroup,'Sentence': i, 'Accuracy':a,'Precision': p, 'Recall':r, 'AUC':roc_auc, 'FPR':fpr}, ignore_index=True)\n"
     ]
    },
    {
     "name": "stdout",
     "output_type": "stream",
     "text": [
      "3/3 [==============================] - 0s 1ms/step\n"
     ]
    },
    {
     "name": "stderr",
     "output_type": "stream",
     "text": [
      "C:\\Users\\Nathalie\\AppData\\Local\\Temp\\ipykernel_5844\\185956534.py:69: FutureWarning: The frame.append method is deprecated and will be removed from pandas in a future version. Use pandas.concat instead.\n",
      "  metrics = metrics.append({'model':'DL','group':'all','subgroup':'all','Sentence': i, 'Accuracy':a,'Precision': p, 'Recall':r, 'AUC':roc_auc, 'FPR':fpr}, ignore_index=True)\n"
     ]
    },
    {
     "name": "stdout",
     "output_type": "stream",
     "text": [
      "624/624 [==============================] - 1s 875us/step\n"
     ]
    },
    {
     "name": "stderr",
     "output_type": "stream",
     "text": [
      "C:\\Users\\Nathalie\\AppData\\Local\\Temp\\ipykernel_5844\\185956534.py:88: FutureWarning: The frame.append method is deprecated and will be removed from pandas in a future version. Use pandas.concat instead.\n",
      "  metrics = metrics.append({'model':'DL','group':group,'subgroup':subgroup,'Sentence': i, 'Accuracy':a,'Precision': p, 'Recall':r, 'AUC':roc_auc, 'FPR':fpr}, ignore_index=True)\n"
     ]
    },
    {
     "name": "stdout",
     "output_type": "stream",
     "text": [
      "624/624 [==============================] - 1s 930us/step\n"
     ]
    },
    {
     "name": "stderr",
     "output_type": "stream",
     "text": [
      "C:\\Users\\Nathalie\\AppData\\Local\\Temp\\ipykernel_5844\\185956534.py:88: FutureWarning: The frame.append method is deprecated and will be removed from pandas in a future version. Use pandas.concat instead.\n",
      "  metrics = metrics.append({'model':'DL','group':group,'subgroup':subgroup,'Sentence': i, 'Accuracy':a,'Precision': p, 'Recall':r, 'AUC':roc_auc, 'FPR':fpr}, ignore_index=True)\n"
     ]
    },
    {
     "name": "stdout",
     "output_type": "stream",
     "text": [
      "3/3 [==============================] - 0s 1ms/step\n"
     ]
    },
    {
     "name": "stderr",
     "output_type": "stream",
     "text": [
      "C:\\Users\\Nathalie\\AppData\\Local\\Temp\\ipykernel_5844\\185956534.py:69: FutureWarning: The frame.append method is deprecated and will be removed from pandas in a future version. Use pandas.concat instead.\n",
      "  metrics = metrics.append({'model':'DL','group':'all','subgroup':'all','Sentence': i, 'Accuracy':a,'Precision': p, 'Recall':r, 'AUC':roc_auc, 'FPR':fpr}, ignore_index=True)\n"
     ]
    },
    {
     "name": "stdout",
     "output_type": "stream",
     "text": [
      "619/619 [==============================] - 1s 851us/step\n"
     ]
    },
    {
     "name": "stderr",
     "output_type": "stream",
     "text": [
      "C:\\Users\\Nathalie\\AppData\\Local\\Temp\\ipykernel_5844\\185956534.py:88: FutureWarning: The frame.append method is deprecated and will be removed from pandas in a future version. Use pandas.concat instead.\n",
      "  metrics = metrics.append({'model':'DL','group':group,'subgroup':subgroup,'Sentence': i, 'Accuracy':a,'Precision': p, 'Recall':r, 'AUC':roc_auc, 'FPR':fpr}, ignore_index=True)\n"
     ]
    },
    {
     "name": "stdout",
     "output_type": "stream",
     "text": [
      "619/619 [==============================] - 1s 867us/step\n"
     ]
    },
    {
     "name": "stderr",
     "output_type": "stream",
     "text": [
      "C:\\Users\\Nathalie\\AppData\\Local\\Temp\\ipykernel_5844\\185956534.py:88: FutureWarning: The frame.append method is deprecated and will be removed from pandas in a future version. Use pandas.concat instead.\n",
      "  metrics = metrics.append({'model':'DL','group':group,'subgroup':subgroup,'Sentence': i, 'Accuracy':a,'Precision': p, 'Recall':r, 'AUC':roc_auc, 'FPR':fpr}, ignore_index=True)\n"
     ]
    },
    {
     "name": "stdout",
     "output_type": "stream",
     "text": [
      "3/3 [==============================] - 0s 1ms/step\n"
     ]
    },
    {
     "name": "stderr",
     "output_type": "stream",
     "text": [
      "C:\\Users\\Nathalie\\AppData\\Local\\Temp\\ipykernel_5844\\185956534.py:69: FutureWarning: The frame.append method is deprecated and will be removed from pandas in a future version. Use pandas.concat instead.\n",
      "  metrics = metrics.append({'model':'DL','group':'all','subgroup':'all','Sentence': i, 'Accuracy':a,'Precision': p, 'Recall':r, 'AUC':roc_auc, 'FPR':fpr}, ignore_index=True)\n"
     ]
    },
    {
     "name": "stdout",
     "output_type": "stream",
     "text": [
      "615/615 [==============================] - 1s 890us/step\n"
     ]
    },
    {
     "name": "stderr",
     "output_type": "stream",
     "text": [
      "C:\\Users\\Nathalie\\AppData\\Local\\Temp\\ipykernel_5844\\185956534.py:88: FutureWarning: The frame.append method is deprecated and will be removed from pandas in a future version. Use pandas.concat instead.\n",
      "  metrics = metrics.append({'model':'DL','group':group,'subgroup':subgroup,'Sentence': i, 'Accuracy':a,'Precision': p, 'Recall':r, 'AUC':roc_auc, 'FPR':fpr}, ignore_index=True)\n"
     ]
    },
    {
     "name": "stdout",
     "output_type": "stream",
     "text": [
      "615/615 [==============================] - 1s 830us/step\n"
     ]
    },
    {
     "name": "stderr",
     "output_type": "stream",
     "text": [
      "C:\\Users\\Nathalie\\AppData\\Local\\Temp\\ipykernel_5844\\185956534.py:88: FutureWarning: The frame.append method is deprecated and will be removed from pandas in a future version. Use pandas.concat instead.\n",
      "  metrics = metrics.append({'model':'DL','group':group,'subgroup':subgroup,'Sentence': i, 'Accuracy':a,'Precision': p, 'Recall':r, 'AUC':roc_auc, 'FPR':fpr}, ignore_index=True)\n"
     ]
    },
    {
     "name": "stdout",
     "output_type": "stream",
     "text": [
      "3/3 [==============================] - 0s 2ms/step\n"
     ]
    },
    {
     "name": "stderr",
     "output_type": "stream",
     "text": [
      "C:\\Users\\Nathalie\\AppData\\Local\\Temp\\ipykernel_5844\\185956534.py:69: FutureWarning: The frame.append method is deprecated and will be removed from pandas in a future version. Use pandas.concat instead.\n",
      "  metrics = metrics.append({'model':'DL','group':'all','subgroup':'all','Sentence': i, 'Accuracy':a,'Precision': p, 'Recall':r, 'AUC':roc_auc, 'FPR':fpr}, ignore_index=True)\n"
     ]
    },
    {
     "name": "stdout",
     "output_type": "stream",
     "text": [
      "610/610 [==============================] - 1s 847us/step\n"
     ]
    },
    {
     "name": "stderr",
     "output_type": "stream",
     "text": [
      "C:\\Users\\Nathalie\\AppData\\Local\\Temp\\ipykernel_5844\\185956534.py:88: FutureWarning: The frame.append method is deprecated and will be removed from pandas in a future version. Use pandas.concat instead.\n",
      "  metrics = metrics.append({'model':'DL','group':group,'subgroup':subgroup,'Sentence': i, 'Accuracy':a,'Precision': p, 'Recall':r, 'AUC':roc_auc, 'FPR':fpr}, ignore_index=True)\n"
     ]
    },
    {
     "name": "stdout",
     "output_type": "stream",
     "text": [
      "610/610 [==============================] - 1s 882us/step\n"
     ]
    },
    {
     "name": "stderr",
     "output_type": "stream",
     "text": [
      "C:\\Users\\Nathalie\\AppData\\Local\\Temp\\ipykernel_5844\\185956534.py:88: FutureWarning: The frame.append method is deprecated and will be removed from pandas in a future version. Use pandas.concat instead.\n",
      "  metrics = metrics.append({'model':'DL','group':group,'subgroup':subgroup,'Sentence': i, 'Accuracy':a,'Precision': p, 'Recall':r, 'AUC':roc_auc, 'FPR':fpr}, ignore_index=True)\n"
     ]
    },
    {
     "name": "stdout",
     "output_type": "stream",
     "text": [
      "3/3 [==============================] - 0s 2ms/step\n"
     ]
    },
    {
     "name": "stderr",
     "output_type": "stream",
     "text": [
      "C:\\Users\\Nathalie\\AppData\\Local\\Temp\\ipykernel_5844\\185956534.py:69: FutureWarning: The frame.append method is deprecated and will be removed from pandas in a future version. Use pandas.concat instead.\n",
      "  metrics = metrics.append({'model':'DL','group':'all','subgroup':'all','Sentence': i, 'Accuracy':a,'Precision': p, 'Recall':r, 'AUC':roc_auc, 'FPR':fpr}, ignore_index=True)\n"
     ]
    },
    {
     "name": "stdout",
     "output_type": "stream",
     "text": [
      "605/605 [==============================] - 1s 906us/step\n"
     ]
    },
    {
     "name": "stderr",
     "output_type": "stream",
     "text": [
      "C:\\Users\\Nathalie\\AppData\\Local\\Temp\\ipykernel_5844\\185956534.py:88: FutureWarning: The frame.append method is deprecated and will be removed from pandas in a future version. Use pandas.concat instead.\n",
      "  metrics = metrics.append({'model':'DL','group':group,'subgroup':subgroup,'Sentence': i, 'Accuracy':a,'Precision': p, 'Recall':r, 'AUC':roc_auc, 'FPR':fpr}, ignore_index=True)\n"
     ]
    },
    {
     "name": "stdout",
     "output_type": "stream",
     "text": [
      "605/605 [==============================] - 1s 945us/step\n"
     ]
    },
    {
     "name": "stderr",
     "output_type": "stream",
     "text": [
      "C:\\Users\\Nathalie\\AppData\\Local\\Temp\\ipykernel_5844\\185956534.py:88: FutureWarning: The frame.append method is deprecated and will be removed from pandas in a future version. Use pandas.concat instead.\n",
      "  metrics = metrics.append({'model':'DL','group':group,'subgroup':subgroup,'Sentence': i, 'Accuracy':a,'Precision': p, 'Recall':r, 'AUC':roc_auc, 'FPR':fpr}, ignore_index=True)\n"
     ]
    },
    {
     "name": "stdout",
     "output_type": "stream",
     "text": [
      "3/3 [==============================] - 0s 1ms/step\n"
     ]
    },
    {
     "name": "stderr",
     "output_type": "stream",
     "text": [
      "C:\\Users\\Nathalie\\AppData\\Local\\Temp\\ipykernel_5844\\185956534.py:69: FutureWarning: The frame.append method is deprecated and will be removed from pandas in a future version. Use pandas.concat instead.\n",
      "  metrics = metrics.append({'model':'DL','group':'all','subgroup':'all','Sentence': i, 'Accuracy':a,'Precision': p, 'Recall':r, 'AUC':roc_auc, 'FPR':fpr}, ignore_index=True)\n"
     ]
    },
    {
     "name": "stdout",
     "output_type": "stream",
     "text": [
      "601/601 [==============================] - 1s 920us/step\n"
     ]
    },
    {
     "name": "stderr",
     "output_type": "stream",
     "text": [
      "C:\\Users\\Nathalie\\AppData\\Local\\Temp\\ipykernel_5844\\185956534.py:88: FutureWarning: The frame.append method is deprecated and will be removed from pandas in a future version. Use pandas.concat instead.\n",
      "  metrics = metrics.append({'model':'DL','group':group,'subgroup':subgroup,'Sentence': i, 'Accuracy':a,'Precision': p, 'Recall':r, 'AUC':roc_auc, 'FPR':fpr}, ignore_index=True)\n"
     ]
    },
    {
     "name": "stdout",
     "output_type": "stream",
     "text": [
      "601/601 [==============================] - 1s 964us/step\n"
     ]
    },
    {
     "name": "stderr",
     "output_type": "stream",
     "text": [
      "C:\\Users\\Nathalie\\AppData\\Local\\Temp\\ipykernel_5844\\185956534.py:88: FutureWarning: The frame.append method is deprecated and will be removed from pandas in a future version. Use pandas.concat instead.\n",
      "  metrics = metrics.append({'model':'DL','group':group,'subgroup':subgroup,'Sentence': i, 'Accuracy':a,'Precision': p, 'Recall':r, 'AUC':roc_auc, 'FPR':fpr}, ignore_index=True)\n"
     ]
    },
    {
     "name": "stdout",
     "output_type": "stream",
     "text": [
      "3/3 [==============================] - 0s 1ms/step\n"
     ]
    },
    {
     "name": "stderr",
     "output_type": "stream",
     "text": [
      "C:\\Users\\Nathalie\\AppData\\Local\\Temp\\ipykernel_5844\\185956534.py:69: FutureWarning: The frame.append method is deprecated and will be removed from pandas in a future version. Use pandas.concat instead.\n",
      "  metrics = metrics.append({'model':'DL','group':'all','subgroup':'all','Sentence': i, 'Accuracy':a,'Precision': p, 'Recall':r, 'AUC':roc_auc, 'FPR':fpr}, ignore_index=True)\n"
     ]
    },
    {
     "name": "stdout",
     "output_type": "stream",
     "text": [
      "597/597 [==============================] - 1s 1ms/step\n"
     ]
    },
    {
     "name": "stderr",
     "output_type": "stream",
     "text": [
      "C:\\Users\\Nathalie\\AppData\\Local\\Temp\\ipykernel_5844\\185956534.py:88: FutureWarning: The frame.append method is deprecated and will be removed from pandas in a future version. Use pandas.concat instead.\n",
      "  metrics = metrics.append({'model':'DL','group':group,'subgroup':subgroup,'Sentence': i, 'Accuracy':a,'Precision': p, 'Recall':r, 'AUC':roc_auc, 'FPR':fpr}, ignore_index=True)\n"
     ]
    },
    {
     "name": "stdout",
     "output_type": "stream",
     "text": [
      "597/597 [==============================] - 1s 1ms/step\n"
     ]
    },
    {
     "name": "stderr",
     "output_type": "stream",
     "text": [
      "C:\\Users\\Nathalie\\AppData\\Local\\Temp\\ipykernel_5844\\185956534.py:88: FutureWarning: The frame.append method is deprecated and will be removed from pandas in a future version. Use pandas.concat instead.\n",
      "  metrics = metrics.append({'model':'DL','group':group,'subgroup':subgroup,'Sentence': i, 'Accuracy':a,'Precision': p, 'Recall':r, 'AUC':roc_auc, 'FPR':fpr}, ignore_index=True)\n"
     ]
    },
    {
     "name": "stdout",
     "output_type": "stream",
     "text": [
      "3/3 [==============================] - 0s 2ms/step\n"
     ]
    },
    {
     "name": "stderr",
     "output_type": "stream",
     "text": [
      "C:\\Users\\Nathalie\\AppData\\Local\\Temp\\ipykernel_5844\\185956534.py:69: FutureWarning: The frame.append method is deprecated and will be removed from pandas in a future version. Use pandas.concat instead.\n",
      "  metrics = metrics.append({'model':'DL','group':'all','subgroup':'all','Sentence': i, 'Accuracy':a,'Precision': p, 'Recall':r, 'AUC':roc_auc, 'FPR':fpr}, ignore_index=True)\n"
     ]
    },
    {
     "name": "stdout",
     "output_type": "stream",
     "text": [
      "593/593 [==============================] - 1s 914us/step\n"
     ]
    },
    {
     "name": "stderr",
     "output_type": "stream",
     "text": [
      "C:\\Users\\Nathalie\\AppData\\Local\\Temp\\ipykernel_5844\\185956534.py:88: FutureWarning: The frame.append method is deprecated and will be removed from pandas in a future version. Use pandas.concat instead.\n",
      "  metrics = metrics.append({'model':'DL','group':group,'subgroup':subgroup,'Sentence': i, 'Accuracy':a,'Precision': p, 'Recall':r, 'AUC':roc_auc, 'FPR':fpr}, ignore_index=True)\n"
     ]
    },
    {
     "name": "stdout",
     "output_type": "stream",
     "text": [
      "593/593 [==============================] - 1s 931us/step\n"
     ]
    },
    {
     "name": "stderr",
     "output_type": "stream",
     "text": [
      "C:\\Users\\Nathalie\\AppData\\Local\\Temp\\ipykernel_5844\\185956534.py:88: FutureWarning: The frame.append method is deprecated and will be removed from pandas in a future version. Use pandas.concat instead.\n",
      "  metrics = metrics.append({'model':'DL','group':group,'subgroup':subgroup,'Sentence': i, 'Accuracy':a,'Precision': p, 'Recall':r, 'AUC':roc_auc, 'FPR':fpr}, ignore_index=True)\n"
     ]
    },
    {
     "name": "stdout",
     "output_type": "stream",
     "text": [
      "2/2 [==============================] - 0s 2ms/step\n"
     ]
    },
    {
     "name": "stderr",
     "output_type": "stream",
     "text": [
      "C:\\Users\\Nathalie\\AppData\\Local\\Temp\\ipykernel_5844\\185956534.py:69: FutureWarning: The frame.append method is deprecated and will be removed from pandas in a future version. Use pandas.concat instead.\n",
      "  metrics = metrics.append({'model':'DL','group':'all','subgroup':'all','Sentence': i, 'Accuracy':a,'Precision': p, 'Recall':r, 'AUC':roc_auc, 'FPR':fpr}, ignore_index=True)\n"
     ]
    },
    {
     "name": "stdout",
     "output_type": "stream",
     "text": [
      "444/444 [==============================] - 0s 957us/step\n"
     ]
    },
    {
     "name": "stderr",
     "output_type": "stream",
     "text": [
      "C:\\Users\\Nathalie\\AppData\\Local\\Temp\\ipykernel_5844\\185956534.py:88: FutureWarning: The frame.append method is deprecated and will be removed from pandas in a future version. Use pandas.concat instead.\n",
      "  metrics = metrics.append({'model':'DL','group':group,'subgroup':subgroup,'Sentence': i, 'Accuracy':a,'Precision': p, 'Recall':r, 'AUC':roc_auc, 'FPR':fpr}, ignore_index=True)\n"
     ]
    },
    {
     "name": "stdout",
     "output_type": "stream",
     "text": [
      "444/444 [==============================] - 0s 883us/step\n"
     ]
    },
    {
     "name": "stderr",
     "output_type": "stream",
     "text": [
      "C:\\Users\\Nathalie\\AppData\\Local\\Temp\\ipykernel_5844\\185956534.py:88: FutureWarning: The frame.append method is deprecated and will be removed from pandas in a future version. Use pandas.concat instead.\n",
      "  metrics = metrics.append({'model':'DL','group':group,'subgroup':subgroup,'Sentence': i, 'Accuracy':a,'Precision': p, 'Recall':r, 'AUC':roc_auc, 'FPR':fpr}, ignore_index=True)\n"
     ]
    },
    {
     "name": "stdout",
     "output_type": "stream",
     "text": [
      "2/2 [==============================] - 0s 1000us/step\n"
     ]
    },
    {
     "name": "stderr",
     "output_type": "stream",
     "text": [
      "C:\\Users\\Nathalie\\AppData\\Local\\Temp\\ipykernel_5844\\185956534.py:69: FutureWarning: The frame.append method is deprecated and will be removed from pandas in a future version. Use pandas.concat instead.\n",
      "  metrics = metrics.append({'model':'DL','group':'all','subgroup':'all','Sentence': i, 'Accuracy':a,'Precision': p, 'Recall':r, 'AUC':roc_auc, 'FPR':fpr}, ignore_index=True)\n"
     ]
    },
    {
     "name": "stdout",
     "output_type": "stream",
     "text": [
      "440/440 [==============================] - 0s 978us/step\n"
     ]
    },
    {
     "name": "stderr",
     "output_type": "stream",
     "text": [
      "C:\\Users\\Nathalie\\AppData\\Local\\Temp\\ipykernel_5844\\185956534.py:88: FutureWarning: The frame.append method is deprecated and will be removed from pandas in a future version. Use pandas.concat instead.\n",
      "  metrics = metrics.append({'model':'DL','group':group,'subgroup':subgroup,'Sentence': i, 'Accuracy':a,'Precision': p, 'Recall':r, 'AUC':roc_auc, 'FPR':fpr}, ignore_index=True)\n"
     ]
    },
    {
     "name": "stdout",
     "output_type": "stream",
     "text": [
      "440/440 [==============================] - 0s 1ms/step\n"
     ]
    },
    {
     "name": "stderr",
     "output_type": "stream",
     "text": [
      "C:\\Users\\Nathalie\\AppData\\Local\\Temp\\ipykernel_5844\\185956534.py:88: FutureWarning: The frame.append method is deprecated and will be removed from pandas in a future version. Use pandas.concat instead.\n",
      "  metrics = metrics.append({'model':'DL','group':group,'subgroup':subgroup,'Sentence': i, 'Accuracy':a,'Precision': p, 'Recall':r, 'AUC':roc_auc, 'FPR':fpr}, ignore_index=True)\n"
     ]
    },
    {
     "name": "stdout",
     "output_type": "stream",
     "text": [
      "2/2 [==============================] - 0s 2ms/step\n"
     ]
    },
    {
     "name": "stderr",
     "output_type": "stream",
     "text": [
      "C:\\Users\\Nathalie\\AppData\\Local\\Temp\\ipykernel_5844\\185956534.py:69: FutureWarning: The frame.append method is deprecated and will be removed from pandas in a future version. Use pandas.concat instead.\n",
      "  metrics = metrics.append({'model':'DL','group':'all','subgroup':'all','Sentence': i, 'Accuracy':a,'Precision': p, 'Recall':r, 'AUC':roc_auc, 'FPR':fpr}, ignore_index=True)\n"
     ]
    },
    {
     "name": "stdout",
     "output_type": "stream",
     "text": [
      "436/436 [==============================] - 0s 907us/step\n"
     ]
    },
    {
     "name": "stderr",
     "output_type": "stream",
     "text": [
      "C:\\Users\\Nathalie\\AppData\\Local\\Temp\\ipykernel_5844\\185956534.py:88: FutureWarning: The frame.append method is deprecated and will be removed from pandas in a future version. Use pandas.concat instead.\n",
      "  metrics = metrics.append({'model':'DL','group':group,'subgroup':subgroup,'Sentence': i, 'Accuracy':a,'Precision': p, 'Recall':r, 'AUC':roc_auc, 'FPR':fpr}, ignore_index=True)\n"
     ]
    },
    {
     "name": "stdout",
     "output_type": "stream",
     "text": [
      "436/436 [==============================] - 0s 1ms/step\n"
     ]
    },
    {
     "name": "stderr",
     "output_type": "stream",
     "text": [
      "C:\\Users\\Nathalie\\AppData\\Local\\Temp\\ipykernel_5844\\185956534.py:88: FutureWarning: The frame.append method is deprecated and will be removed from pandas in a future version. Use pandas.concat instead.\n",
      "  metrics = metrics.append({'model':'DL','group':group,'subgroup':subgroup,'Sentence': i, 'Accuracy':a,'Precision': p, 'Recall':r, 'AUC':roc_auc, 'FPR':fpr}, ignore_index=True)\n"
     ]
    },
    {
     "name": "stdout",
     "output_type": "stream",
     "text": [
      "2/2 [==============================] - 0s 2ms/step\n"
     ]
    },
    {
     "name": "stderr",
     "output_type": "stream",
     "text": [
      "C:\\Users\\Nathalie\\AppData\\Local\\Temp\\ipykernel_5844\\185956534.py:69: FutureWarning: The frame.append method is deprecated and will be removed from pandas in a future version. Use pandas.concat instead.\n",
      "  metrics = metrics.append({'model':'DL','group':'all','subgroup':'all','Sentence': i, 'Accuracy':a,'Precision': p, 'Recall':r, 'AUC':roc_auc, 'FPR':fpr}, ignore_index=True)\n"
     ]
    },
    {
     "name": "stdout",
     "output_type": "stream",
     "text": [
      "432/432 [==============================] - 0s 927us/step\n"
     ]
    },
    {
     "name": "stderr",
     "output_type": "stream",
     "text": [
      "C:\\Users\\Nathalie\\AppData\\Local\\Temp\\ipykernel_5844\\185956534.py:88: FutureWarning: The frame.append method is deprecated and will be removed from pandas in a future version. Use pandas.concat instead.\n",
      "  metrics = metrics.append({'model':'DL','group':group,'subgroup':subgroup,'Sentence': i, 'Accuracy':a,'Precision': p, 'Recall':r, 'AUC':roc_auc, 'FPR':fpr}, ignore_index=True)\n"
     ]
    },
    {
     "name": "stdout",
     "output_type": "stream",
     "text": [
      "432/432 [==============================] - 0s 942us/step\n"
     ]
    },
    {
     "name": "stderr",
     "output_type": "stream",
     "text": [
      "C:\\Users\\Nathalie\\AppData\\Local\\Temp\\ipykernel_5844\\185956534.py:88: FutureWarning: The frame.append method is deprecated and will be removed from pandas in a future version. Use pandas.concat instead.\n",
      "  metrics = metrics.append({'model':'DL','group':group,'subgroup':subgroup,'Sentence': i, 'Accuracy':a,'Precision': p, 'Recall':r, 'AUC':roc_auc, 'FPR':fpr}, ignore_index=True)\n"
     ]
    },
    {
     "name": "stdout",
     "output_type": "stream",
     "text": [
      "2/2 [==============================] - 0s 3ms/step\n"
     ]
    },
    {
     "name": "stderr",
     "output_type": "stream",
     "text": [
      "C:\\Users\\Nathalie\\AppData\\Local\\Temp\\ipykernel_5844\\185956534.py:69: FutureWarning: The frame.append method is deprecated and will be removed from pandas in a future version. Use pandas.concat instead.\n",
      "  metrics = metrics.append({'model':'DL','group':'all','subgroup':'all','Sentence': i, 'Accuracy':a,'Precision': p, 'Recall':r, 'AUC':roc_auc, 'FPR':fpr}, ignore_index=True)\n"
     ]
    },
    {
     "name": "stdout",
     "output_type": "stream",
     "text": [
      "334/334 [==============================] - 0s 915us/step\n"
     ]
    },
    {
     "name": "stderr",
     "output_type": "stream",
     "text": [
      "C:\\Users\\Nathalie\\AppData\\Local\\Temp\\ipykernel_5844\\185956534.py:88: FutureWarning: The frame.append method is deprecated and will be removed from pandas in a future version. Use pandas.concat instead.\n",
      "  metrics = metrics.append({'model':'DL','group':group,'subgroup':subgroup,'Sentence': i, 'Accuracy':a,'Precision': p, 'Recall':r, 'AUC':roc_auc, 'FPR':fpr}, ignore_index=True)\n"
     ]
    },
    {
     "name": "stdout",
     "output_type": "stream",
     "text": [
      "334/334 [==============================] - 0s 949us/step\n"
     ]
    },
    {
     "name": "stderr",
     "output_type": "stream",
     "text": [
      "C:\\Users\\Nathalie\\AppData\\Local\\Temp\\ipykernel_5844\\185956534.py:88: FutureWarning: The frame.append method is deprecated and will be removed from pandas in a future version. Use pandas.concat instead.\n",
      "  metrics = metrics.append({'model':'DL','group':group,'subgroup':subgroup,'Sentence': i, 'Accuracy':a,'Precision': p, 'Recall':r, 'AUC':roc_auc, 'FPR':fpr}, ignore_index=True)\n"
     ]
    },
    {
     "name": "stdout",
     "output_type": "stream",
     "text": [
      "2/2 [==============================] - 0s 2ms/step\n"
     ]
    },
    {
     "name": "stderr",
     "output_type": "stream",
     "text": [
      "C:\\Users\\Nathalie\\AppData\\Local\\Temp\\ipykernel_5844\\185956534.py:69: FutureWarning: The frame.append method is deprecated and will be removed from pandas in a future version. Use pandas.concat instead.\n",
      "  metrics = metrics.append({'model':'DL','group':'all','subgroup':'all','Sentence': i, 'Accuracy':a,'Precision': p, 'Recall':r, 'AUC':roc_auc, 'FPR':fpr}, ignore_index=True)\n"
     ]
    },
    {
     "name": "stdout",
     "output_type": "stream",
     "text": [
      "327/327 [==============================] - 0s 1ms/step\n"
     ]
    },
    {
     "name": "stderr",
     "output_type": "stream",
     "text": [
      "C:\\Users\\Nathalie\\AppData\\Local\\Temp\\ipykernel_5844\\185956534.py:88: FutureWarning: The frame.append method is deprecated and will be removed from pandas in a future version. Use pandas.concat instead.\n",
      "  metrics = metrics.append({'model':'DL','group':group,'subgroup':subgroup,'Sentence': i, 'Accuracy':a,'Precision': p, 'Recall':r, 'AUC':roc_auc, 'FPR':fpr}, ignore_index=True)\n"
     ]
    },
    {
     "name": "stdout",
     "output_type": "stream",
     "text": [
      "327/327 [==============================] - 0s 858us/step\n"
     ]
    },
    {
     "name": "stderr",
     "output_type": "stream",
     "text": [
      "C:\\Users\\Nathalie\\AppData\\Local\\Temp\\ipykernel_5844\\185956534.py:88: FutureWarning: The frame.append method is deprecated and will be removed from pandas in a future version. Use pandas.concat instead.\n",
      "  metrics = metrics.append({'model':'DL','group':group,'subgroup':subgroup,'Sentence': i, 'Accuracy':a,'Precision': p, 'Recall':r, 'AUC':roc_auc, 'FPR':fpr}, ignore_index=True)\n"
     ]
    },
    {
     "name": "stdout",
     "output_type": "stream",
     "text": [
      "2/2 [==============================] - 0s 2ms/step\n"
     ]
    },
    {
     "name": "stderr",
     "output_type": "stream",
     "text": [
      "c:\\Python310\\lib\\site-packages\\sklearn\\metrics\\_classification.py:1318: UndefinedMetricWarning: Precision is ill-defined and being set to 0.0 due to no predicted samples. Use `zero_division` parameter to control this behavior.\n",
      "  _warn_prf(average, modifier, msg_start, len(result))\n",
      "C:\\Users\\Nathalie\\AppData\\Local\\Temp\\ipykernel_5844\\185956534.py:69: FutureWarning: The frame.append method is deprecated and will be removed from pandas in a future version. Use pandas.concat instead.\n",
      "  metrics = metrics.append({'model':'DL','group':'all','subgroup':'all','Sentence': i, 'Accuracy':a,'Precision': p, 'Recall':r, 'AUC':roc_auc, 'FPR':fpr}, ignore_index=True)\n"
     ]
    },
    {
     "name": "stdout",
     "output_type": "stream",
     "text": [
      "323/323 [==============================] - 0s 934us/step\n"
     ]
    },
    {
     "name": "stderr",
     "output_type": "stream",
     "text": [
      "c:\\Python310\\lib\\site-packages\\sklearn\\metrics\\_classification.py:1318: UndefinedMetricWarning: Precision is ill-defined and being set to 0.0 due to no predicted samples. Use `zero_division` parameter to control this behavior.\n",
      "  _warn_prf(average, modifier, msg_start, len(result))\n",
      "C:\\Users\\Nathalie\\AppData\\Local\\Temp\\ipykernel_5844\\185956534.py:88: FutureWarning: The frame.append method is deprecated and will be removed from pandas in a future version. Use pandas.concat instead.\n",
      "  metrics = metrics.append({'model':'DL','group':group,'subgroup':subgroup,'Sentence': i, 'Accuracy':a,'Precision': p, 'Recall':r, 'AUC':roc_auc, 'FPR':fpr}, ignore_index=True)\n"
     ]
    },
    {
     "name": "stdout",
     "output_type": "stream",
     "text": [
      "323/323 [==============================] - 0s 930us/step\n"
     ]
    },
    {
     "name": "stderr",
     "output_type": "stream",
     "text": [
      "c:\\Python310\\lib\\site-packages\\sklearn\\metrics\\_classification.py:1318: UndefinedMetricWarning: Precision is ill-defined and being set to 0.0 due to no predicted samples. Use `zero_division` parameter to control this behavior.\n",
      "  _warn_prf(average, modifier, msg_start, len(result))\n",
      "C:\\Users\\Nathalie\\AppData\\Local\\Temp\\ipykernel_5844\\185956534.py:88: FutureWarning: The frame.append method is deprecated and will be removed from pandas in a future version. Use pandas.concat instead.\n",
      "  metrics = metrics.append({'model':'DL','group':group,'subgroup':subgroup,'Sentence': i, 'Accuracy':a,'Precision': p, 'Recall':r, 'AUC':roc_auc, 'FPR':fpr}, ignore_index=True)\n"
     ]
    },
    {
     "name": "stdout",
     "output_type": "stream",
     "text": [
      "2/2 [==============================] - 0s 1ms/step\n"
     ]
    },
    {
     "name": "stderr",
     "output_type": "stream",
     "text": [
      "C:\\Users\\Nathalie\\AppData\\Local\\Temp\\ipykernel_5844\\185956534.py:69: FutureWarning: The frame.append method is deprecated and will be removed from pandas in a future version. Use pandas.concat instead.\n",
      "  metrics = metrics.append({'model':'DL','group':'all','subgroup':'all','Sentence': i, 'Accuracy':a,'Precision': p, 'Recall':r, 'AUC':roc_auc, 'FPR':fpr}, ignore_index=True)\n"
     ]
    },
    {
     "name": "stdout",
     "output_type": "stream",
     "text": [
      "319/319 [==============================] - 0s 925us/step\n"
     ]
    },
    {
     "name": "stderr",
     "output_type": "stream",
     "text": [
      "C:\\Users\\Nathalie\\AppData\\Local\\Temp\\ipykernel_5844\\185956534.py:88: FutureWarning: The frame.append method is deprecated and will be removed from pandas in a future version. Use pandas.concat instead.\n",
      "  metrics = metrics.append({'model':'DL','group':group,'subgroup':subgroup,'Sentence': i, 'Accuracy':a,'Precision': p, 'Recall':r, 'AUC':roc_auc, 'FPR':fpr}, ignore_index=True)\n"
     ]
    },
    {
     "name": "stdout",
     "output_type": "stream",
     "text": [
      "319/319 [==============================] - 0s 928us/step\n"
     ]
    },
    {
     "name": "stderr",
     "output_type": "stream",
     "text": [
      "C:\\Users\\Nathalie\\AppData\\Local\\Temp\\ipykernel_5844\\185956534.py:88: FutureWarning: The frame.append method is deprecated and will be removed from pandas in a future version. Use pandas.concat instead.\n",
      "  metrics = metrics.append({'model':'DL','group':group,'subgroup':subgroup,'Sentence': i, 'Accuracy':a,'Precision': p, 'Recall':r, 'AUC':roc_auc, 'FPR':fpr}, ignore_index=True)\n"
     ]
    },
    {
     "name": "stdout",
     "output_type": "stream",
     "text": [
      "2/2 [==============================] - 0s 2ms/step\n"
     ]
    },
    {
     "name": "stderr",
     "output_type": "stream",
     "text": [
      "C:\\Users\\Nathalie\\AppData\\Local\\Temp\\ipykernel_5844\\185956534.py:69: FutureWarning: The frame.append method is deprecated and will be removed from pandas in a future version. Use pandas.concat instead.\n",
      "  metrics = metrics.append({'model':'DL','group':'all','subgroup':'all','Sentence': i, 'Accuracy':a,'Precision': p, 'Recall':r, 'AUC':roc_auc, 'FPR':fpr}, ignore_index=True)\n"
     ]
    },
    {
     "name": "stdout",
     "output_type": "stream",
     "text": [
      "255/255 [==============================] - 0s 913us/step\n"
     ]
    },
    {
     "name": "stderr",
     "output_type": "stream",
     "text": [
      "C:\\Users\\Nathalie\\AppData\\Local\\Temp\\ipykernel_5844\\185956534.py:88: FutureWarning: The frame.append method is deprecated and will be removed from pandas in a future version. Use pandas.concat instead.\n",
      "  metrics = metrics.append({'model':'DL','group':group,'subgroup':subgroup,'Sentence': i, 'Accuracy':a,'Precision': p, 'Recall':r, 'AUC':roc_auc, 'FPR':fpr}, ignore_index=True)\n"
     ]
    },
    {
     "name": "stdout",
     "output_type": "stream",
     "text": [
      "255/255 [==============================] - 0s 987us/step\n"
     ]
    },
    {
     "name": "stderr",
     "output_type": "stream",
     "text": [
      "C:\\Users\\Nathalie\\AppData\\Local\\Temp\\ipykernel_5844\\185956534.py:88: FutureWarning: The frame.append method is deprecated and will be removed from pandas in a future version. Use pandas.concat instead.\n",
      "  metrics = metrics.append({'model':'DL','group':group,'subgroup':subgroup,'Sentence': i, 'Accuracy':a,'Precision': p, 'Recall':r, 'AUC':roc_auc, 'FPR':fpr}, ignore_index=True)\n"
     ]
    },
    {
     "name": "stdout",
     "output_type": "stream",
     "text": [
      "2/2 [==============================] - 0s 3ms/step\n"
     ]
    },
    {
     "name": "stderr",
     "output_type": "stream",
     "text": [
      "C:\\Users\\Nathalie\\AppData\\Local\\Temp\\ipykernel_5844\\185956534.py:69: FutureWarning: The frame.append method is deprecated and will be removed from pandas in a future version. Use pandas.concat instead.\n",
      "  metrics = metrics.append({'model':'DL','group':'all','subgroup':'all','Sentence': i, 'Accuracy':a,'Precision': p, 'Recall':r, 'AUC':roc_auc, 'FPR':fpr}, ignore_index=True)\n"
     ]
    },
    {
     "name": "stdout",
     "output_type": "stream",
     "text": [
      "243/243 [==============================] - 0s 864us/step\n"
     ]
    },
    {
     "name": "stderr",
     "output_type": "stream",
     "text": [
      "C:\\Users\\Nathalie\\AppData\\Local\\Temp\\ipykernel_5844\\185956534.py:88: FutureWarning: The frame.append method is deprecated and will be removed from pandas in a future version. Use pandas.concat instead.\n",
      "  metrics = metrics.append({'model':'DL','group':group,'subgroup':subgroup,'Sentence': i, 'Accuracy':a,'Precision': p, 'Recall':r, 'AUC':roc_auc, 'FPR':fpr}, ignore_index=True)\n"
     ]
    },
    {
     "name": "stdout",
     "output_type": "stream",
     "text": [
      "243/243 [==============================] - 0s 965us/step\n"
     ]
    },
    {
     "name": "stderr",
     "output_type": "stream",
     "text": [
      "C:\\Users\\Nathalie\\AppData\\Local\\Temp\\ipykernel_5844\\185956534.py:88: FutureWarning: The frame.append method is deprecated and will be removed from pandas in a future version. Use pandas.concat instead.\n",
      "  metrics = metrics.append({'model':'DL','group':group,'subgroup':subgroup,'Sentence': i, 'Accuracy':a,'Precision': p, 'Recall':r, 'AUC':roc_auc, 'FPR':fpr}, ignore_index=True)\n"
     ]
    },
    {
     "name": "stdout",
     "output_type": "stream",
     "text": [
      "2/2 [==============================] - 0s 2ms/step\n"
     ]
    },
    {
     "name": "stderr",
     "output_type": "stream",
     "text": [
      "c:\\Python310\\lib\\site-packages\\sklearn\\metrics\\_classification.py:1318: UndefinedMetricWarning: Precision is ill-defined and being set to 0.0 due to no predicted samples. Use `zero_division` parameter to control this behavior.\n",
      "  _warn_prf(average, modifier, msg_start, len(result))\n",
      "C:\\Users\\Nathalie\\AppData\\Local\\Temp\\ipykernel_5844\\185956534.py:69: FutureWarning: The frame.append method is deprecated and will be removed from pandas in a future version. Use pandas.concat instead.\n",
      "  metrics = metrics.append({'model':'DL','group':'all','subgroup':'all','Sentence': i, 'Accuracy':a,'Precision': p, 'Recall':r, 'AUC':roc_auc, 'FPR':fpr}, ignore_index=True)\n"
     ]
    },
    {
     "name": "stdout",
     "output_type": "stream",
     "text": [
      "240/240 [==============================] - 0s 936us/step\n"
     ]
    },
    {
     "name": "stderr",
     "output_type": "stream",
     "text": [
      "C:\\Users\\Nathalie\\AppData\\Local\\Temp\\ipykernel_5844\\185956534.py:88: FutureWarning: The frame.append method is deprecated and will be removed from pandas in a future version. Use pandas.concat instead.\n",
      "  metrics = metrics.append({'model':'DL','group':group,'subgroup':subgroup,'Sentence': i, 'Accuracy':a,'Precision': p, 'Recall':r, 'AUC':roc_auc, 'FPR':fpr}, ignore_index=True)\n"
     ]
    },
    {
     "name": "stdout",
     "output_type": "stream",
     "text": [
      "240/240 [==============================] - 0s 936us/step\n"
     ]
    },
    {
     "name": "stderr",
     "output_type": "stream",
     "text": [
      "C:\\Users\\Nathalie\\AppData\\Local\\Temp\\ipykernel_5844\\185956534.py:88: FutureWarning: The frame.append method is deprecated and will be removed from pandas in a future version. Use pandas.concat instead.\n",
      "  metrics = metrics.append({'model':'DL','group':group,'subgroup':subgroup,'Sentence': i, 'Accuracy':a,'Precision': p, 'Recall':r, 'AUC':roc_auc, 'FPR':fpr}, ignore_index=True)\n"
     ]
    },
    {
     "name": "stdout",
     "output_type": "stream",
     "text": [
      "2/2 [==============================] - 0s 2ms/step\n"
     ]
    },
    {
     "name": "stderr",
     "output_type": "stream",
     "text": [
      "C:\\Users\\Nathalie\\AppData\\Local\\Temp\\ipykernel_5844\\185956534.py:69: FutureWarning: The frame.append method is deprecated and will be removed from pandas in a future version. Use pandas.concat instead.\n",
      "  metrics = metrics.append({'model':'DL','group':'all','subgroup':'all','Sentence': i, 'Accuracy':a,'Precision': p, 'Recall':r, 'AUC':roc_auc, 'FPR':fpr}, ignore_index=True)\n"
     ]
    },
    {
     "name": "stdout",
     "output_type": "stream",
     "text": [
      "237/237 [==============================] - 0s 954us/step\n"
     ]
    },
    {
     "name": "stderr",
     "output_type": "stream",
     "text": [
      "C:\\Users\\Nathalie\\AppData\\Local\\Temp\\ipykernel_5844\\185956534.py:88: FutureWarning: The frame.append method is deprecated and will be removed from pandas in a future version. Use pandas.concat instead.\n",
      "  metrics = metrics.append({'model':'DL','group':group,'subgroup':subgroup,'Sentence': i, 'Accuracy':a,'Precision': p, 'Recall':r, 'AUC':roc_auc, 'FPR':fpr}, ignore_index=True)\n"
     ]
    },
    {
     "name": "stdout",
     "output_type": "stream",
     "text": [
      "237/237 [==============================] - 0s 935us/step\n"
     ]
    },
    {
     "name": "stderr",
     "output_type": "stream",
     "text": [
      "C:\\Users\\Nathalie\\AppData\\Local\\Temp\\ipykernel_5844\\185956534.py:88: FutureWarning: The frame.append method is deprecated and will be removed from pandas in a future version. Use pandas.concat instead.\n",
      "  metrics = metrics.append({'model':'DL','group':group,'subgroup':subgroup,'Sentence': i, 'Accuracy':a,'Precision': p, 'Recall':r, 'AUC':roc_auc, 'FPR':fpr}, ignore_index=True)\n"
     ]
    },
    {
     "name": "stdout",
     "output_type": "stream",
     "text": [
      "1/1 [==============================] - 0s 18ms/step\n"
     ]
    },
    {
     "name": "stderr",
     "output_type": "stream",
     "text": [
      "C:\\Users\\Nathalie\\AppData\\Local\\Temp\\ipykernel_5844\\185956534.py:69: FutureWarning: The frame.append method is deprecated and will be removed from pandas in a future version. Use pandas.concat instead.\n",
      "  metrics = metrics.append({'model':'DL','group':'all','subgroup':'all','Sentence': i, 'Accuracy':a,'Precision': p, 'Recall':r, 'AUC':roc_auc, 'FPR':fpr}, ignore_index=True)\n"
     ]
    },
    {
     "name": "stdout",
     "output_type": "stream",
     "text": [
      "194/194 [==============================] - 0s 919us/step\n"
     ]
    },
    {
     "name": "stderr",
     "output_type": "stream",
     "text": [
      "C:\\Users\\Nathalie\\AppData\\Local\\Temp\\ipykernel_5844\\185956534.py:88: FutureWarning: The frame.append method is deprecated and will be removed from pandas in a future version. Use pandas.concat instead.\n",
      "  metrics = metrics.append({'model':'DL','group':group,'subgroup':subgroup,'Sentence': i, 'Accuracy':a,'Precision': p, 'Recall':r, 'AUC':roc_auc, 'FPR':fpr}, ignore_index=True)\n"
     ]
    },
    {
     "name": "stdout",
     "output_type": "stream",
     "text": [
      "194/194 [==============================] - 0s 955us/step\n"
     ]
    },
    {
     "name": "stderr",
     "output_type": "stream",
     "text": [
      "C:\\Users\\Nathalie\\AppData\\Local\\Temp\\ipykernel_5844\\185956534.py:88: FutureWarning: The frame.append method is deprecated and will be removed from pandas in a future version. Use pandas.concat instead.\n",
      "  metrics = metrics.append({'model':'DL','group':group,'subgroup':subgroup,'Sentence': i, 'Accuracy':a,'Precision': p, 'Recall':r, 'AUC':roc_auc, 'FPR':fpr}, ignore_index=True)\n"
     ]
    },
    {
     "name": "stdout",
     "output_type": "stream",
     "text": [
      "1/1 [==============================] - 0s 18ms/step\n"
     ]
    },
    {
     "name": "stderr",
     "output_type": "stream",
     "text": [
      "C:\\Users\\Nathalie\\AppData\\Local\\Temp\\ipykernel_5844\\185956534.py:69: FutureWarning: The frame.append method is deprecated and will be removed from pandas in a future version. Use pandas.concat instead.\n",
      "  metrics = metrics.append({'model':'DL','group':'all','subgroup':'all','Sentence': i, 'Accuracy':a,'Precision': p, 'Recall':r, 'AUC':roc_auc, 'FPR':fpr}, ignore_index=True)\n"
     ]
    },
    {
     "name": "stdout",
     "output_type": "stream",
     "text": [
      "180/180 [==============================] - 0s 867us/step\n"
     ]
    },
    {
     "name": "stderr",
     "output_type": "stream",
     "text": [
      "C:\\Users\\Nathalie\\AppData\\Local\\Temp\\ipykernel_5844\\185956534.py:88: FutureWarning: The frame.append method is deprecated and will be removed from pandas in a future version. Use pandas.concat instead.\n",
      "  metrics = metrics.append({'model':'DL','group':group,'subgroup':subgroup,'Sentence': i, 'Accuracy':a,'Precision': p, 'Recall':r, 'AUC':roc_auc, 'FPR':fpr}, ignore_index=True)\n"
     ]
    },
    {
     "name": "stdout",
     "output_type": "stream",
     "text": [
      "180/180 [==============================] - 0s 970us/step\n"
     ]
    },
    {
     "name": "stderr",
     "output_type": "stream",
     "text": [
      "C:\\Users\\Nathalie\\AppData\\Local\\Temp\\ipykernel_5844\\185956534.py:88: FutureWarning: The frame.append method is deprecated and will be removed from pandas in a future version. Use pandas.concat instead.\n",
      "  metrics = metrics.append({'model':'DL','group':group,'subgroup':subgroup,'Sentence': i, 'Accuracy':a,'Precision': p, 'Recall':r, 'AUC':roc_auc, 'FPR':fpr}, ignore_index=True)\n"
     ]
    },
    {
     "name": "stdout",
     "output_type": "stream",
     "text": [
      "1/1 [==============================] - 0s 20ms/step\n"
     ]
    },
    {
     "name": "stderr",
     "output_type": "stream",
     "text": [
      "C:\\Users\\Nathalie\\AppData\\Local\\Temp\\ipykernel_5844\\185956534.py:69: FutureWarning: The frame.append method is deprecated and will be removed from pandas in a future version. Use pandas.concat instead.\n",
      "  metrics = metrics.append({'model':'DL','group':'all','subgroup':'all','Sentence': i, 'Accuracy':a,'Precision': p, 'Recall':r, 'AUC':roc_auc, 'FPR':fpr}, ignore_index=True)\n"
     ]
    },
    {
     "name": "stdout",
     "output_type": "stream",
     "text": [
      "176/176 [==============================] - 0s 1ms/step\n"
     ]
    },
    {
     "name": "stderr",
     "output_type": "stream",
     "text": [
      "C:\\Users\\Nathalie\\AppData\\Local\\Temp\\ipykernel_5844\\185956534.py:88: FutureWarning: The frame.append method is deprecated and will be removed from pandas in a future version. Use pandas.concat instead.\n",
      "  metrics = metrics.append({'model':'DL','group':group,'subgroup':subgroup,'Sentence': i, 'Accuracy':a,'Precision': p, 'Recall':r, 'AUC':roc_auc, 'FPR':fpr}, ignore_index=True)\n"
     ]
    },
    {
     "name": "stdout",
     "output_type": "stream",
     "text": [
      "176/176 [==============================] - 0s 932us/step\n"
     ]
    },
    {
     "name": "stderr",
     "output_type": "stream",
     "text": [
      "C:\\Users\\Nathalie\\AppData\\Local\\Temp\\ipykernel_5844\\185956534.py:88: FutureWarning: The frame.append method is deprecated and will be removed from pandas in a future version. Use pandas.concat instead.\n",
      "  metrics = metrics.append({'model':'DL','group':group,'subgroup':subgroup,'Sentence': i, 'Accuracy':a,'Precision': p, 'Recall':r, 'AUC':roc_auc, 'FPR':fpr}, ignore_index=True)\n"
     ]
    },
    {
     "name": "stdout",
     "output_type": "stream",
     "text": [
      "1/1 [==============================] - 0s 17ms/step\n"
     ]
    },
    {
     "name": "stderr",
     "output_type": "stream",
     "text": [
      "C:\\Users\\Nathalie\\AppData\\Local\\Temp\\ipykernel_5844\\185956534.py:69: FutureWarning: The frame.append method is deprecated and will be removed from pandas in a future version. Use pandas.concat instead.\n",
      "  metrics = metrics.append({'model':'DL','group':'all','subgroup':'all','Sentence': i, 'Accuracy':a,'Precision': p, 'Recall':r, 'AUC':roc_auc, 'FPR':fpr}, ignore_index=True)\n"
     ]
    },
    {
     "name": "stdout",
     "output_type": "stream",
     "text": [
      "173/173 [==============================] - 0s 932us/step\n"
     ]
    },
    {
     "name": "stderr",
     "output_type": "stream",
     "text": [
      "C:\\Users\\Nathalie\\AppData\\Local\\Temp\\ipykernel_5844\\185956534.py:88: FutureWarning: The frame.append method is deprecated and will be removed from pandas in a future version. Use pandas.concat instead.\n",
      "  metrics = metrics.append({'model':'DL','group':group,'subgroup':subgroup,'Sentence': i, 'Accuracy':a,'Precision': p, 'Recall':r, 'AUC':roc_auc, 'FPR':fpr}, ignore_index=True)\n"
     ]
    },
    {
     "name": "stdout",
     "output_type": "stream",
     "text": [
      "173/173 [==============================] - 0s 1ms/step\n"
     ]
    },
    {
     "name": "stderr",
     "output_type": "stream",
     "text": [
      "C:\\Users\\Nathalie\\AppData\\Local\\Temp\\ipykernel_5844\\185956534.py:88: FutureWarning: The frame.append method is deprecated and will be removed from pandas in a future version. Use pandas.concat instead.\n",
      "  metrics = metrics.append({'model':'DL','group':group,'subgroup':subgroup,'Sentence': i, 'Accuracy':a,'Precision': p, 'Recall':r, 'AUC':roc_auc, 'FPR':fpr}, ignore_index=True)\n"
     ]
    },
    {
     "name": "stdout",
     "output_type": "stream",
     "text": [
      "1/1 [==============================] - 0s 16ms/step\n"
     ]
    },
    {
     "name": "stderr",
     "output_type": "stream",
     "text": [
      "C:\\Users\\Nathalie\\AppData\\Local\\Temp\\ipykernel_5844\\185956534.py:69: FutureWarning: The frame.append method is deprecated and will be removed from pandas in a future version. Use pandas.concat instead.\n",
      "  metrics = metrics.append({'model':'DL','group':'all','subgroup':'all','Sentence': i, 'Accuracy':a,'Precision': p, 'Recall':r, 'AUC':roc_auc, 'FPR':fpr}, ignore_index=True)\n"
     ]
    },
    {
     "name": "stdout",
     "output_type": "stream",
     "text": [
      "147/147 [==============================] - 0s 907us/step\n"
     ]
    },
    {
     "name": "stderr",
     "output_type": "stream",
     "text": [
      "C:\\Users\\Nathalie\\AppData\\Local\\Temp\\ipykernel_5844\\185956534.py:88: FutureWarning: The frame.append method is deprecated and will be removed from pandas in a future version. Use pandas.concat instead.\n",
      "  metrics = metrics.append({'model':'DL','group':group,'subgroup':subgroup,'Sentence': i, 'Accuracy':a,'Precision': p, 'Recall':r, 'AUC':roc_auc, 'FPR':fpr}, ignore_index=True)\n"
     ]
    },
    {
     "name": "stdout",
     "output_type": "stream",
     "text": [
      "147/147 [==============================] - 0s 933us/step\n"
     ]
    },
    {
     "name": "stderr",
     "output_type": "stream",
     "text": [
      "C:\\Users\\Nathalie\\AppData\\Local\\Temp\\ipykernel_5844\\185956534.py:88: FutureWarning: The frame.append method is deprecated and will be removed from pandas in a future version. Use pandas.concat instead.\n",
      "  metrics = metrics.append({'model':'DL','group':group,'subgroup':subgroup,'Sentence': i, 'Accuracy':a,'Precision': p, 'Recall':r, 'AUC':roc_auc, 'FPR':fpr}, ignore_index=True)\n"
     ]
    },
    {
     "name": "stdout",
     "output_type": "stream",
     "text": [
      "1/1 [==============================] - 0s 15ms/step\n"
     ]
    },
    {
     "name": "stderr",
     "output_type": "stream",
     "text": [
      "c:\\Python310\\lib\\site-packages\\sklearn\\metrics\\_classification.py:1318: UndefinedMetricWarning: Precision is ill-defined and being set to 0.0 due to no predicted samples. Use `zero_division` parameter to control this behavior.\n",
      "  _warn_prf(average, modifier, msg_start, len(result))\n",
      "C:\\Users\\Nathalie\\AppData\\Local\\Temp\\ipykernel_5844\\185956534.py:69: FutureWarning: The frame.append method is deprecated and will be removed from pandas in a future version. Use pandas.concat instead.\n",
      "  metrics = metrics.append({'model':'DL','group':'all','subgroup':'all','Sentence': i, 'Accuracy':a,'Precision': p, 'Recall':r, 'AUC':roc_auc, 'FPR':fpr}, ignore_index=True)\n"
     ]
    },
    {
     "name": "stdout",
     "output_type": "stream",
     "text": [
      "133/133 [==============================] - 0s 931us/step\n"
     ]
    },
    {
     "name": "stderr",
     "output_type": "stream",
     "text": [
      "c:\\Python310\\lib\\site-packages\\sklearn\\metrics\\_classification.py:1318: UndefinedMetricWarning: Precision is ill-defined and being set to 0.0 due to no predicted samples. Use `zero_division` parameter to control this behavior.\n",
      "  _warn_prf(average, modifier, msg_start, len(result))\n",
      "C:\\Users\\Nathalie\\AppData\\Local\\Temp\\ipykernel_5844\\185956534.py:88: FutureWarning: The frame.append method is deprecated and will be removed from pandas in a future version. Use pandas.concat instead.\n",
      "  metrics = metrics.append({'model':'DL','group':group,'subgroup':subgroup,'Sentence': i, 'Accuracy':a,'Precision': p, 'Recall':r, 'AUC':roc_auc, 'FPR':fpr}, ignore_index=True)\n"
     ]
    },
    {
     "name": "stdout",
     "output_type": "stream",
     "text": [
      "133/133 [==============================] - 0s 901us/step\n"
     ]
    },
    {
     "name": "stderr",
     "output_type": "stream",
     "text": [
      "c:\\Python310\\lib\\site-packages\\sklearn\\metrics\\_classification.py:1318: UndefinedMetricWarning: Precision is ill-defined and being set to 0.0 due to no predicted samples. Use `zero_division` parameter to control this behavior.\n",
      "  _warn_prf(average, modifier, msg_start, len(result))\n",
      "C:\\Users\\Nathalie\\AppData\\Local\\Temp\\ipykernel_5844\\185956534.py:88: FutureWarning: The frame.append method is deprecated and will be removed from pandas in a future version. Use pandas.concat instead.\n",
      "  metrics = metrics.append({'model':'DL','group':group,'subgroup':subgroup,'Sentence': i, 'Accuracy':a,'Precision': p, 'Recall':r, 'AUC':roc_auc, 'FPR':fpr}, ignore_index=True)\n"
     ]
    },
    {
     "name": "stdout",
     "output_type": "stream",
     "text": [
      "1/1 [==============================] - 0s 15ms/step\n"
     ]
    },
    {
     "name": "stderr",
     "output_type": "stream",
     "text": [
      "C:\\Users\\Nathalie\\AppData\\Local\\Temp\\ipykernel_5844\\185956534.py:69: FutureWarning: The frame.append method is deprecated and will be removed from pandas in a future version. Use pandas.concat instead.\n",
      "  metrics = metrics.append({'model':'DL','group':'all','subgroup':'all','Sentence': i, 'Accuracy':a,'Precision': p, 'Recall':r, 'AUC':roc_auc, 'FPR':fpr}, ignore_index=True)\n"
     ]
    },
    {
     "name": "stdout",
     "output_type": "stream",
     "text": [
      "128/128 [==============================] - 0s 1ms/step\n"
     ]
    },
    {
     "name": "stderr",
     "output_type": "stream",
     "text": [
      "C:\\Users\\Nathalie\\AppData\\Local\\Temp\\ipykernel_5844\\185956534.py:88: FutureWarning: The frame.append method is deprecated and will be removed from pandas in a future version. Use pandas.concat instead.\n",
      "  metrics = metrics.append({'model':'DL','group':group,'subgroup':subgroup,'Sentence': i, 'Accuracy':a,'Precision': p, 'Recall':r, 'AUC':roc_auc, 'FPR':fpr}, ignore_index=True)\n"
     ]
    },
    {
     "name": "stdout",
     "output_type": "stream",
     "text": [
      "128/128 [==============================] - 0s 958us/step\n"
     ]
    },
    {
     "name": "stderr",
     "output_type": "stream",
     "text": [
      "C:\\Users\\Nathalie\\AppData\\Local\\Temp\\ipykernel_5844\\185956534.py:88: FutureWarning: The frame.append method is deprecated and will be removed from pandas in a future version. Use pandas.concat instead.\n",
      "  metrics = metrics.append({'model':'DL','group':group,'subgroup':subgroup,'Sentence': i, 'Accuracy':a,'Precision': p, 'Recall':r, 'AUC':roc_auc, 'FPR':fpr}, ignore_index=True)\n"
     ]
    },
    {
     "name": "stdout",
     "output_type": "stream",
     "text": [
      "1/1 [==============================] - 0s 17ms/step\n"
     ]
    },
    {
     "name": "stderr",
     "output_type": "stream",
     "text": [
      "C:\\Users\\Nathalie\\AppData\\Local\\Temp\\ipykernel_5844\\185956534.py:69: FutureWarning: The frame.append method is deprecated and will be removed from pandas in a future version. Use pandas.concat instead.\n",
      "  metrics = metrics.append({'model':'DL','group':'all','subgroup':'all','Sentence': i, 'Accuracy':a,'Precision': p, 'Recall':r, 'AUC':roc_auc, 'FPR':fpr}, ignore_index=True)\n"
     ]
    },
    {
     "name": "stdout",
     "output_type": "stream",
     "text": [
      "125/125 [==============================] - 0s 941us/step\n"
     ]
    },
    {
     "name": "stderr",
     "output_type": "stream",
     "text": [
      "C:\\Users\\Nathalie\\AppData\\Local\\Temp\\ipykernel_5844\\185956534.py:88: FutureWarning: The frame.append method is deprecated and will be removed from pandas in a future version. Use pandas.concat instead.\n",
      "  metrics = metrics.append({'model':'DL','group':group,'subgroup':subgroup,'Sentence': i, 'Accuracy':a,'Precision': p, 'Recall':r, 'AUC':roc_auc, 'FPR':fpr}, ignore_index=True)\n"
     ]
    },
    {
     "name": "stdout",
     "output_type": "stream",
     "text": [
      "125/125 [==============================] - 0s 953us/step\n"
     ]
    },
    {
     "name": "stderr",
     "output_type": "stream",
     "text": [
      "C:\\Users\\Nathalie\\AppData\\Local\\Temp\\ipykernel_5844\\185956534.py:88: FutureWarning: The frame.append method is deprecated and will be removed from pandas in a future version. Use pandas.concat instead.\n",
      "  metrics = metrics.append({'model':'DL','group':group,'subgroup':subgroup,'Sentence': i, 'Accuracy':a,'Precision': p, 'Recall':r, 'AUC':roc_auc, 'FPR':fpr}, ignore_index=True)\n"
     ]
    },
    {
     "name": "stdout",
     "output_type": "stream",
     "text": [
      "1/1 [==============================] - 0s 21ms/step\n"
     ]
    },
    {
     "name": "stderr",
     "output_type": "stream",
     "text": [
      "C:\\Users\\Nathalie\\AppData\\Local\\Temp\\ipykernel_5844\\185956534.py:69: FutureWarning: The frame.append method is deprecated and will be removed from pandas in a future version. Use pandas.concat instead.\n",
      "  metrics = metrics.append({'model':'DL','group':'all','subgroup':'all','Sentence': i, 'Accuracy':a,'Precision': p, 'Recall':r, 'AUC':roc_auc, 'FPR':fpr}, ignore_index=True)\n"
     ]
    },
    {
     "name": "stdout",
     "output_type": "stream",
     "text": [
      "110/110 [==============================] - 0s 979us/step\n"
     ]
    },
    {
     "name": "stderr",
     "output_type": "stream",
     "text": [
      "C:\\Users\\Nathalie\\AppData\\Local\\Temp\\ipykernel_5844\\185956534.py:88: FutureWarning: The frame.append method is deprecated and will be removed from pandas in a future version. Use pandas.concat instead.\n",
      "  metrics = metrics.append({'model':'DL','group':group,'subgroup':subgroup,'Sentence': i, 'Accuracy':a,'Precision': p, 'Recall':r, 'AUC':roc_auc, 'FPR':fpr}, ignore_index=True)\n"
     ]
    },
    {
     "name": "stdout",
     "output_type": "stream",
     "text": [
      "110/110 [==============================] - 0s 978us/step\n"
     ]
    },
    {
     "name": "stderr",
     "output_type": "stream",
     "text": [
      "C:\\Users\\Nathalie\\AppData\\Local\\Temp\\ipykernel_5844\\185956534.py:88: FutureWarning: The frame.append method is deprecated and will be removed from pandas in a future version. Use pandas.concat instead.\n",
      "  metrics = metrics.append({'model':'DL','group':group,'subgroup':subgroup,'Sentence': i, 'Accuracy':a,'Precision': p, 'Recall':r, 'AUC':roc_auc, 'FPR':fpr}, ignore_index=True)\n"
     ]
    },
    {
     "name": "stdout",
     "output_type": "stream",
     "text": [
      "1/1 [==============================] - 0s 16ms/step\n"
     ]
    },
    {
     "name": "stderr",
     "output_type": "stream",
     "text": [
      "C:\\Users\\Nathalie\\AppData\\Local\\Temp\\ipykernel_5844\\185956534.py:69: FutureWarning: The frame.append method is deprecated and will be removed from pandas in a future version. Use pandas.concat instead.\n",
      "  metrics = metrics.append({'model':'DL','group':'all','subgroup':'all','Sentence': i, 'Accuracy':a,'Precision': p, 'Recall':r, 'AUC':roc_auc, 'FPR':fpr}, ignore_index=True)\n"
     ]
    },
    {
     "name": "stdout",
     "output_type": "stream",
     "text": [
      "100/100 [==============================] - 0s 948us/step\n"
     ]
    },
    {
     "name": "stderr",
     "output_type": "stream",
     "text": [
      "C:\\Users\\Nathalie\\AppData\\Local\\Temp\\ipykernel_5844\\185956534.py:88: FutureWarning: The frame.append method is deprecated and will be removed from pandas in a future version. Use pandas.concat instead.\n",
      "  metrics = metrics.append({'model':'DL','group':group,'subgroup':subgroup,'Sentence': i, 'Accuracy':a,'Precision': p, 'Recall':r, 'AUC':roc_auc, 'FPR':fpr}, ignore_index=True)\n"
     ]
    },
    {
     "name": "stdout",
     "output_type": "stream",
     "text": [
      "100/100 [==============================] - 0s 873us/step\n"
     ]
    },
    {
     "name": "stderr",
     "output_type": "stream",
     "text": [
      "C:\\Users\\Nathalie\\AppData\\Local\\Temp\\ipykernel_5844\\185956534.py:88: FutureWarning: The frame.append method is deprecated and will be removed from pandas in a future version. Use pandas.concat instead.\n",
      "  metrics = metrics.append({'model':'DL','group':group,'subgroup':subgroup,'Sentence': i, 'Accuracy':a,'Precision': p, 'Recall':r, 'AUC':roc_auc, 'FPR':fpr}, ignore_index=True)\n"
     ]
    },
    {
     "name": "stdout",
     "output_type": "stream",
     "text": [
      "1/1 [==============================] - 0s 16ms/step\n",
      " 1/94 [..............................] - ETA: 1s"
     ]
    },
    {
     "name": "stderr",
     "output_type": "stream",
     "text": [
      "C:\\Users\\Nathalie\\AppData\\Local\\Temp\\ipykernel_5844\\185956534.py:69: FutureWarning: The frame.append method is deprecated and will be removed from pandas in a future version. Use pandas.concat instead.\n",
      "  metrics = metrics.append({'model':'DL','group':'all','subgroup':'all','Sentence': i, 'Accuracy':a,'Precision': p, 'Recall':r, 'AUC':roc_auc, 'FPR':fpr}, ignore_index=True)\n"
     ]
    },
    {
     "name": "stdout",
     "output_type": "stream",
     "text": [
      "94/94 [==============================] - 0s 932us/step\n",
      " 1/94 [..............................] - ETA: 1s"
     ]
    },
    {
     "name": "stderr",
     "output_type": "stream",
     "text": [
      "C:\\Users\\Nathalie\\AppData\\Local\\Temp\\ipykernel_5844\\185956534.py:88: FutureWarning: The frame.append method is deprecated and will be removed from pandas in a future version. Use pandas.concat instead.\n",
      "  metrics = metrics.append({'model':'DL','group':group,'subgroup':subgroup,'Sentence': i, 'Accuracy':a,'Precision': p, 'Recall':r, 'AUC':roc_auc, 'FPR':fpr}, ignore_index=True)\n"
     ]
    },
    {
     "name": "stdout",
     "output_type": "stream",
     "text": [
      "94/94 [==============================] - 0s 976us/step\n"
     ]
    },
    {
     "name": "stderr",
     "output_type": "stream",
     "text": [
      "C:\\Users\\Nathalie\\AppData\\Local\\Temp\\ipykernel_5844\\185956534.py:88: FutureWarning: The frame.append method is deprecated and will be removed from pandas in a future version. Use pandas.concat instead.\n",
      "  metrics = metrics.append({'model':'DL','group':group,'subgroup':subgroup,'Sentence': i, 'Accuracy':a,'Precision': p, 'Recall':r, 'AUC':roc_auc, 'FPR':fpr}, ignore_index=True)\n"
     ]
    },
    {
     "name": "stdout",
     "output_type": "stream",
     "text": [
      "1/1 [==============================] - 0s 16ms/step\n"
     ]
    },
    {
     "name": "stderr",
     "output_type": "stream",
     "text": [
      "c:\\Python310\\lib\\site-packages\\sklearn\\metrics\\_classification.py:1318: UndefinedMetricWarning: Precision is ill-defined and being set to 0.0 due to no predicted samples. Use `zero_division` parameter to control this behavior.\n",
      "  _warn_prf(average, modifier, msg_start, len(result))\n",
      "C:\\Users\\Nathalie\\AppData\\Local\\Temp\\ipykernel_5844\\185956534.py:69: FutureWarning: The frame.append method is deprecated and will be removed from pandas in a future version. Use pandas.concat instead.\n",
      "  metrics = metrics.append({'model':'DL','group':'all','subgroup':'all','Sentence': i, 'Accuracy':a,'Precision': p, 'Recall':r, 'AUC':roc_auc, 'FPR':fpr}, ignore_index=True)\n"
     ]
    },
    {
     "name": "stdout",
     "output_type": "stream",
     "text": [
      "91/91 [==============================] - 0s 979us/step\n"
     ]
    },
    {
     "name": "stderr",
     "output_type": "stream",
     "text": [
      "c:\\Python310\\lib\\site-packages\\sklearn\\metrics\\_classification.py:1318: UndefinedMetricWarning: Precision is ill-defined and being set to 0.0 due to no predicted samples. Use `zero_division` parameter to control this behavior.\n",
      "  _warn_prf(average, modifier, msg_start, len(result))\n",
      "C:\\Users\\Nathalie\\AppData\\Local\\Temp\\ipykernel_5844\\185956534.py:88: FutureWarning: The frame.append method is deprecated and will be removed from pandas in a future version. Use pandas.concat instead.\n",
      "  metrics = metrics.append({'model':'DL','group':group,'subgroup':subgroup,'Sentence': i, 'Accuracy':a,'Precision': p, 'Recall':r, 'AUC':roc_auc, 'FPR':fpr}, ignore_index=True)\n"
     ]
    },
    {
     "name": "stdout",
     "output_type": "stream",
     "text": [
      "91/91 [==============================] - 0s 896us/step\n"
     ]
    },
    {
     "name": "stderr",
     "output_type": "stream",
     "text": [
      "c:\\Python310\\lib\\site-packages\\sklearn\\metrics\\_classification.py:1318: UndefinedMetricWarning: Precision is ill-defined and being set to 0.0 due to no predicted samples. Use `zero_division` parameter to control this behavior.\n",
      "  _warn_prf(average, modifier, msg_start, len(result))\n",
      "C:\\Users\\Nathalie\\AppData\\Local\\Temp\\ipykernel_5844\\185956534.py:88: FutureWarning: The frame.append method is deprecated and will be removed from pandas in a future version. Use pandas.concat instead.\n",
      "  metrics = metrics.append({'model':'DL','group':group,'subgroup':subgroup,'Sentence': i, 'Accuracy':a,'Precision': p, 'Recall':r, 'AUC':roc_auc, 'FPR':fpr}, ignore_index=True)\n"
     ]
    },
    {
     "name": "stdout",
     "output_type": "stream",
     "text": [
      "1/1 [==============================] - 0s 17ms/step\n",
      " 1/82 [..............................] - ETA: 1s"
     ]
    },
    {
     "name": "stderr",
     "output_type": "stream",
     "text": [
      "C:\\Users\\Nathalie\\AppData\\Local\\Temp\\ipykernel_5844\\185956534.py:69: FutureWarning: The frame.append method is deprecated and will be removed from pandas in a future version. Use pandas.concat instead.\n",
      "  metrics = metrics.append({'model':'DL','group':'all','subgroup':'all','Sentence': i, 'Accuracy':a,'Precision': p, 'Recall':r, 'AUC':roc_auc, 'FPR':fpr}, ignore_index=True)\n"
     ]
    },
    {
     "name": "stdout",
     "output_type": "stream",
     "text": [
      "82/82 [==============================] - 0s 1ms/step\n",
      " 1/82 [..............................] - ETA: 1s"
     ]
    },
    {
     "name": "stderr",
     "output_type": "stream",
     "text": [
      "C:\\Users\\Nathalie\\AppData\\Local\\Temp\\ipykernel_5844\\185956534.py:88: FutureWarning: The frame.append method is deprecated and will be removed from pandas in a future version. Use pandas.concat instead.\n",
      "  metrics = metrics.append({'model':'DL','group':group,'subgroup':subgroup,'Sentence': i, 'Accuracy':a,'Precision': p, 'Recall':r, 'AUC':roc_auc, 'FPR':fpr}, ignore_index=True)\n"
     ]
    },
    {
     "name": "stdout",
     "output_type": "stream",
     "text": [
      "82/82 [==============================] - 0s 1ms/step\n"
     ]
    },
    {
     "name": "stderr",
     "output_type": "stream",
     "text": [
      "C:\\Users\\Nathalie\\AppData\\Local\\Temp\\ipykernel_5844\\185956534.py:88: FutureWarning: The frame.append method is deprecated and will be removed from pandas in a future version. Use pandas.concat instead.\n",
      "  metrics = metrics.append({'model':'DL','group':group,'subgroup':subgroup,'Sentence': i, 'Accuracy':a,'Precision': p, 'Recall':r, 'AUC':roc_auc, 'FPR':fpr}, ignore_index=True)\n"
     ]
    },
    {
     "name": "stdout",
     "output_type": "stream",
     "text": [
      "1/1 [==============================] - 0s 15ms/step\n",
      " 1/75 [..............................] - ETA: 1s"
     ]
    },
    {
     "name": "stderr",
     "output_type": "stream",
     "text": [
      "C:\\Users\\Nathalie\\AppData\\Local\\Temp\\ipykernel_5844\\185956534.py:69: FutureWarning: The frame.append method is deprecated and will be removed from pandas in a future version. Use pandas.concat instead.\n",
      "  metrics = metrics.append({'model':'DL','group':'all','subgroup':'all','Sentence': i, 'Accuracy':a,'Precision': p, 'Recall':r, 'AUC':roc_auc, 'FPR':fpr}, ignore_index=True)\n"
     ]
    },
    {
     "name": "stdout",
     "output_type": "stream",
     "text": [
      "75/75 [==============================] - 0s 2ms/step\n",
      " 1/75 [..............................] - ETA: 1s"
     ]
    },
    {
     "name": "stderr",
     "output_type": "stream",
     "text": [
      "C:\\Users\\Nathalie\\AppData\\Local\\Temp\\ipykernel_5844\\185956534.py:88: FutureWarning: The frame.append method is deprecated and will be removed from pandas in a future version. Use pandas.concat instead.\n",
      "  metrics = metrics.append({'model':'DL','group':group,'subgroup':subgroup,'Sentence': i, 'Accuracy':a,'Precision': p, 'Recall':r, 'AUC':roc_auc, 'FPR':fpr}, ignore_index=True)\n"
     ]
    },
    {
     "name": "stdout",
     "output_type": "stream",
     "text": [
      "75/75 [==============================] - 0s 1ms/step\n"
     ]
    },
    {
     "name": "stderr",
     "output_type": "stream",
     "text": [
      "C:\\Users\\Nathalie\\AppData\\Local\\Temp\\ipykernel_5844\\185956534.py:88: FutureWarning: The frame.append method is deprecated and will be removed from pandas in a future version. Use pandas.concat instead.\n",
      "  metrics = metrics.append({'model':'DL','group':group,'subgroup':subgroup,'Sentence': i, 'Accuracy':a,'Precision': p, 'Recall':r, 'AUC':roc_auc, 'FPR':fpr}, ignore_index=True)\n"
     ]
    },
    {
     "name": "stdout",
     "output_type": "stream",
     "text": [
      "1/1 [==============================] - 0s 17ms/step\n",
      " 1/70 [..............................] - ETA: 1s"
     ]
    },
    {
     "name": "stderr",
     "output_type": "stream",
     "text": [
      "C:\\Users\\Nathalie\\AppData\\Local\\Temp\\ipykernel_5844\\185956534.py:69: FutureWarning: The frame.append method is deprecated and will be removed from pandas in a future version. Use pandas.concat instead.\n",
      "  metrics = metrics.append({'model':'DL','group':'all','subgroup':'all','Sentence': i, 'Accuracy':a,'Precision': p, 'Recall':r, 'AUC':roc_auc, 'FPR':fpr}, ignore_index=True)\n"
     ]
    },
    {
     "name": "stdout",
     "output_type": "stream",
     "text": [
      "70/70 [==============================] - 0s 930us/step\n",
      " 1/70 [..............................] - ETA: 0s"
     ]
    },
    {
     "name": "stderr",
     "output_type": "stream",
     "text": [
      "C:\\Users\\Nathalie\\AppData\\Local\\Temp\\ipykernel_5844\\185956534.py:88: FutureWarning: The frame.append method is deprecated and will be removed from pandas in a future version. Use pandas.concat instead.\n",
      "  metrics = metrics.append({'model':'DL','group':group,'subgroup':subgroup,'Sentence': i, 'Accuracy':a,'Precision': p, 'Recall':r, 'AUC':roc_auc, 'FPR':fpr}, ignore_index=True)\n"
     ]
    },
    {
     "name": "stdout",
     "output_type": "stream",
     "text": [
      "70/70 [==============================] - 0s 943us/step\n"
     ]
    },
    {
     "name": "stderr",
     "output_type": "stream",
     "text": [
      "C:\\Users\\Nathalie\\AppData\\Local\\Temp\\ipykernel_5844\\185956534.py:88: FutureWarning: The frame.append method is deprecated and will be removed from pandas in a future version. Use pandas.concat instead.\n",
      "  metrics = metrics.append({'model':'DL','group':group,'subgroup':subgroup,'Sentence': i, 'Accuracy':a,'Precision': p, 'Recall':r, 'AUC':roc_auc, 'FPR':fpr}, ignore_index=True)\n"
     ]
    },
    {
     "name": "stdout",
     "output_type": "stream",
     "text": [
      "1/1 [==============================] - 0s 17ms/step\n",
      " 1/67 [..............................] - ETA: 0s"
     ]
    },
    {
     "name": "stderr",
     "output_type": "stream",
     "text": [
      "C:\\Users\\Nathalie\\AppData\\Local\\Temp\\ipykernel_5844\\185956534.py:69: FutureWarning: The frame.append method is deprecated and will be removed from pandas in a future version. Use pandas.concat instead.\n",
      "  metrics = metrics.append({'model':'DL','group':'all','subgroup':'all','Sentence': i, 'Accuracy':a,'Precision': p, 'Recall':r, 'AUC':roc_auc, 'FPR':fpr}, ignore_index=True)\n"
     ]
    },
    {
     "name": "stdout",
     "output_type": "stream",
     "text": [
      "67/67 [==============================] - 0s 1ms/step\n",
      " 1/67 [..............................] - ETA: 0s"
     ]
    },
    {
     "name": "stderr",
     "output_type": "stream",
     "text": [
      "C:\\Users\\Nathalie\\AppData\\Local\\Temp\\ipykernel_5844\\185956534.py:88: FutureWarning: The frame.append method is deprecated and will be removed from pandas in a future version. Use pandas.concat instead.\n",
      "  metrics = metrics.append({'model':'DL','group':group,'subgroup':subgroup,'Sentence': i, 'Accuracy':a,'Precision': p, 'Recall':r, 'AUC':roc_auc, 'FPR':fpr}, ignore_index=True)\n"
     ]
    },
    {
     "name": "stdout",
     "output_type": "stream",
     "text": [
      "67/67 [==============================] - 0s 1ms/step\n"
     ]
    },
    {
     "name": "stderr",
     "output_type": "stream",
     "text": [
      "C:\\Users\\Nathalie\\AppData\\Local\\Temp\\ipykernel_5844\\185956534.py:88: FutureWarning: The frame.append method is deprecated and will be removed from pandas in a future version. Use pandas.concat instead.\n",
      "  metrics = metrics.append({'model':'DL','group':group,'subgroup':subgroup,'Sentence': i, 'Accuracy':a,'Precision': p, 'Recall':r, 'AUC':roc_auc, 'FPR':fpr}, ignore_index=True)\n"
     ]
    },
    {
     "name": "stdout",
     "output_type": "stream",
     "text": [
      "1/1 [==============================] - 0s 17ms/step\n",
      " 1/62 [..............................] - ETA: 0s"
     ]
    },
    {
     "name": "stderr",
     "output_type": "stream",
     "text": [
      "C:\\Users\\Nathalie\\AppData\\Local\\Temp\\ipykernel_5844\\185956534.py:69: FutureWarning: The frame.append method is deprecated and will be removed from pandas in a future version. Use pandas.concat instead.\n",
      "  metrics = metrics.append({'model':'DL','group':'all','subgroup':'all','Sentence': i, 'Accuracy':a,'Precision': p, 'Recall':r, 'AUC':roc_auc, 'FPR':fpr}, ignore_index=True)\n"
     ]
    },
    {
     "name": "stdout",
     "output_type": "stream",
     "text": [
      "62/62 [==============================] - 0s 1ms/step\n",
      " 1/62 [..............................] - ETA: 1s"
     ]
    },
    {
     "name": "stderr",
     "output_type": "stream",
     "text": [
      "C:\\Users\\Nathalie\\AppData\\Local\\Temp\\ipykernel_5844\\185956534.py:88: FutureWarning: The frame.append method is deprecated and will be removed from pandas in a future version. Use pandas.concat instead.\n",
      "  metrics = metrics.append({'model':'DL','group':group,'subgroup':subgroup,'Sentence': i, 'Accuracy':a,'Precision': p, 'Recall':r, 'AUC':roc_auc, 'FPR':fpr}, ignore_index=True)\n"
     ]
    },
    {
     "name": "stdout",
     "output_type": "stream",
     "text": [
      "62/62 [==============================] - 0s 855us/step\n"
     ]
    },
    {
     "name": "stderr",
     "output_type": "stream",
     "text": [
      "C:\\Users\\Nathalie\\AppData\\Local\\Temp\\ipykernel_5844\\185956534.py:88: FutureWarning: The frame.append method is deprecated and will be removed from pandas in a future version. Use pandas.concat instead.\n",
      "  metrics = metrics.append({'model':'DL','group':group,'subgroup':subgroup,'Sentence': i, 'Accuracy':a,'Precision': p, 'Recall':r, 'AUC':roc_auc, 'FPR':fpr}, ignore_index=True)\n"
     ]
    },
    {
     "name": "stdout",
     "output_type": "stream",
     "text": [
      "1/1 [==============================] - 0s 16ms/step\n",
      " 1/58 [..............................] - ETA: 0s"
     ]
    },
    {
     "name": "stderr",
     "output_type": "stream",
     "text": [
      "C:\\Users\\Nathalie\\AppData\\Local\\Temp\\ipykernel_5844\\185956534.py:69: FutureWarning: The frame.append method is deprecated and will be removed from pandas in a future version. Use pandas.concat instead.\n",
      "  metrics = metrics.append({'model':'DL','group':'all','subgroup':'all','Sentence': i, 'Accuracy':a,'Precision': p, 'Recall':r, 'AUC':roc_auc, 'FPR':fpr}, ignore_index=True)\n"
     ]
    },
    {
     "name": "stdout",
     "output_type": "stream",
     "text": [
      "58/58 [==============================] - 0s 975us/step\n",
      " 1/58 [..............................] - ETA: 0s"
     ]
    },
    {
     "name": "stderr",
     "output_type": "stream",
     "text": [
      "C:\\Users\\Nathalie\\AppData\\Local\\Temp\\ipykernel_5844\\185956534.py:88: FutureWarning: The frame.append method is deprecated and will be removed from pandas in a future version. Use pandas.concat instead.\n",
      "  metrics = metrics.append({'model':'DL','group':group,'subgroup':subgroup,'Sentence': i, 'Accuracy':a,'Precision': p, 'Recall':r, 'AUC':roc_auc, 'FPR':fpr}, ignore_index=True)\n"
     ]
    },
    {
     "name": "stdout",
     "output_type": "stream",
     "text": [
      "58/58 [==============================] - 0s 983us/step\n"
     ]
    },
    {
     "name": "stderr",
     "output_type": "stream",
     "text": [
      "C:\\Users\\Nathalie\\AppData\\Local\\Temp\\ipykernel_5844\\185956534.py:88: FutureWarning: The frame.append method is deprecated and will be removed from pandas in a future version. Use pandas.concat instead.\n",
      "  metrics = metrics.append({'model':'DL','group':group,'subgroup':subgroup,'Sentence': i, 'Accuracy':a,'Precision': p, 'Recall':r, 'AUC':roc_auc, 'FPR':fpr}, ignore_index=True)\n"
     ]
    },
    {
     "name": "stdout",
     "output_type": "stream",
     "text": [
      "1/1 [==============================] - 0s 15ms/step\n",
      " 1/53 [..............................] - ETA: 0s"
     ]
    },
    {
     "name": "stderr",
     "output_type": "stream",
     "text": [
      "C:\\Users\\Nathalie\\AppData\\Local\\Temp\\ipykernel_5844\\185956534.py:69: FutureWarning: The frame.append method is deprecated and will be removed from pandas in a future version. Use pandas.concat instead.\n",
      "  metrics = metrics.append({'model':'DL','group':'all','subgroup':'all','Sentence': i, 'Accuracy':a,'Precision': p, 'Recall':r, 'AUC':roc_auc, 'FPR':fpr}, ignore_index=True)\n"
     ]
    },
    {
     "name": "stdout",
     "output_type": "stream",
     "text": [
      "53/53 [==============================] - 0s 887us/step\n",
      " 1/53 [..............................] - ETA: 0s"
     ]
    },
    {
     "name": "stderr",
     "output_type": "stream",
     "text": [
      "C:\\Users\\Nathalie\\AppData\\Local\\Temp\\ipykernel_5844\\185956534.py:88: FutureWarning: The frame.append method is deprecated and will be removed from pandas in a future version. Use pandas.concat instead.\n",
      "  metrics = metrics.append({'model':'DL','group':group,'subgroup':subgroup,'Sentence': i, 'Accuracy':a,'Precision': p, 'Recall':r, 'AUC':roc_auc, 'FPR':fpr}, ignore_index=True)\n"
     ]
    },
    {
     "name": "stdout",
     "output_type": "stream",
     "text": [
      "53/53 [==============================] - 0s 935us/step\n"
     ]
    },
    {
     "name": "stderr",
     "output_type": "stream",
     "text": [
      "C:\\Users\\Nathalie\\AppData\\Local\\Temp\\ipykernel_5844\\185956534.py:88: FutureWarning: The frame.append method is deprecated and will be removed from pandas in a future version. Use pandas.concat instead.\n",
      "  metrics = metrics.append({'model':'DL','group':group,'subgroup':subgroup,'Sentence': i, 'Accuracy':a,'Precision': p, 'Recall':r, 'AUC':roc_auc, 'FPR':fpr}, ignore_index=True)\n"
     ]
    },
    {
     "name": "stdout",
     "output_type": "stream",
     "text": [
      "1/1 [==============================] - 0s 16ms/step\n",
      "50/50 [==============================] - 0s 919us/step\n"
     ]
    },
    {
     "name": "stderr",
     "output_type": "stream",
     "text": [
      "C:\\Users\\Nathalie\\AppData\\Local\\Temp\\ipykernel_5844\\185956534.py:69: FutureWarning: The frame.append method is deprecated and will be removed from pandas in a future version. Use pandas.concat instead.\n",
      "  metrics = metrics.append({'model':'DL','group':'all','subgroup':'all','Sentence': i, 'Accuracy':a,'Precision': p, 'Recall':r, 'AUC':roc_auc, 'FPR':fpr}, ignore_index=True)\n"
     ]
    },
    {
     "name": "stdout",
     "output_type": "stream",
     "text": [
      "50/50 [==============================] - 0s 857us/step\n"
     ]
    },
    {
     "name": "stderr",
     "output_type": "stream",
     "text": [
      "C:\\Users\\Nathalie\\AppData\\Local\\Temp\\ipykernel_5844\\185956534.py:88: FutureWarning: The frame.append method is deprecated and will be removed from pandas in a future version. Use pandas.concat instead.\n",
      "  metrics = metrics.append({'model':'DL','group':group,'subgroup':subgroup,'Sentence': i, 'Accuracy':a,'Precision': p, 'Recall':r, 'AUC':roc_auc, 'FPR':fpr}, ignore_index=True)\n",
      "C:\\Users\\Nathalie\\AppData\\Local\\Temp\\ipykernel_5844\\185956534.py:88: FutureWarning: The frame.append method is deprecated and will be removed from pandas in a future version. Use pandas.concat instead.\n",
      "  metrics = metrics.append({'model':'DL','group':group,'subgroup':subgroup,'Sentence': i, 'Accuracy':a,'Precision': p, 'Recall':r, 'AUC':roc_auc, 'FPR':fpr}, ignore_index=True)\n"
     ]
    },
    {
     "name": "stdout",
     "output_type": "stream",
     "text": [
      "1/1 [==============================] - 0s 17ms/step\n",
      "46/46 [==============================] - 0s 938us/step\n"
     ]
    },
    {
     "name": "stderr",
     "output_type": "stream",
     "text": [
      "C:\\Users\\Nathalie\\AppData\\Local\\Temp\\ipykernel_5844\\185956534.py:69: FutureWarning: The frame.append method is deprecated and will be removed from pandas in a future version. Use pandas.concat instead.\n",
      "  metrics = metrics.append({'model':'DL','group':'all','subgroup':'all','Sentence': i, 'Accuracy':a,'Precision': p, 'Recall':r, 'AUC':roc_auc, 'FPR':fpr}, ignore_index=True)\n"
     ]
    },
    {
     "name": "stdout",
     "output_type": "stream",
     "text": [
      " 1/46 [..............................] - ETA: 0s"
     ]
    },
    {
     "name": "stderr",
     "output_type": "stream",
     "text": [
      "C:\\Users\\Nathalie\\AppData\\Local\\Temp\\ipykernel_5844\\185956534.py:88: FutureWarning: The frame.append method is deprecated and will be removed from pandas in a future version. Use pandas.concat instead.\n",
      "  metrics = metrics.append({'model':'DL','group':group,'subgroup':subgroup,'Sentence': i, 'Accuracy':a,'Precision': p, 'Recall':r, 'AUC':roc_auc, 'FPR':fpr}, ignore_index=True)\n"
     ]
    },
    {
     "name": "stdout",
     "output_type": "stream",
     "text": [
      "46/46 [==============================] - 0s 1ms/step\n"
     ]
    },
    {
     "name": "stderr",
     "output_type": "stream",
     "text": [
      "C:\\Users\\Nathalie\\AppData\\Local\\Temp\\ipykernel_5844\\185956534.py:88: FutureWarning: The frame.append method is deprecated and will be removed from pandas in a future version. Use pandas.concat instead.\n",
      "  metrics = metrics.append({'model':'DL','group':group,'subgroup':subgroup,'Sentence': i, 'Accuracy':a,'Precision': p, 'Recall':r, 'AUC':roc_auc, 'FPR':fpr}, ignore_index=True)\n"
     ]
    },
    {
     "name": "stdout",
     "output_type": "stream",
     "text": [
      "1/1 [==============================] - 0s 17ms/step\n",
      "42/42 [==============================] - 0s 956us/step\n"
     ]
    },
    {
     "name": "stderr",
     "output_type": "stream",
     "text": [
      "C:\\Users\\Nathalie\\AppData\\Local\\Temp\\ipykernel_5844\\185956534.py:69: FutureWarning: The frame.append method is deprecated and will be removed from pandas in a future version. Use pandas.concat instead.\n",
      "  metrics = metrics.append({'model':'DL','group':'all','subgroup':'all','Sentence': i, 'Accuracy':a,'Precision': p, 'Recall':r, 'AUC':roc_auc, 'FPR':fpr}, ignore_index=True)\n"
     ]
    },
    {
     "name": "stdout",
     "output_type": "stream",
     "text": [
      "42/42 [==============================] - 0s 1ms/step\n"
     ]
    },
    {
     "name": "stderr",
     "output_type": "stream",
     "text": [
      "C:\\Users\\Nathalie\\AppData\\Local\\Temp\\ipykernel_5844\\185956534.py:88: FutureWarning: The frame.append method is deprecated and will be removed from pandas in a future version. Use pandas.concat instead.\n",
      "  metrics = metrics.append({'model':'DL','group':group,'subgroup':subgroup,'Sentence': i, 'Accuracy':a,'Precision': p, 'Recall':r, 'AUC':roc_auc, 'FPR':fpr}, ignore_index=True)\n",
      "C:\\Users\\Nathalie\\AppData\\Local\\Temp\\ipykernel_5844\\185956534.py:88: FutureWarning: The frame.append method is deprecated and will be removed from pandas in a future version. Use pandas.concat instead.\n",
      "  metrics = metrics.append({'model':'DL','group':group,'subgroup':subgroup,'Sentence': i, 'Accuracy':a,'Precision': p, 'Recall':r, 'AUC':roc_auc, 'FPR':fpr}, ignore_index=True)\n"
     ]
    },
    {
     "name": "stdout",
     "output_type": "stream",
     "text": [
      "1/1 [==============================] - 0s 15ms/step\n",
      "39/39 [==============================] - 0s 849us/step\n"
     ]
    },
    {
     "name": "stderr",
     "output_type": "stream",
     "text": [
      "C:\\Users\\Nathalie\\AppData\\Local\\Temp\\ipykernel_5844\\185956534.py:69: FutureWarning: The frame.append method is deprecated and will be removed from pandas in a future version. Use pandas.concat instead.\n",
      "  metrics = metrics.append({'model':'DL','group':'all','subgroup':'all','Sentence': i, 'Accuracy':a,'Precision': p, 'Recall':r, 'AUC':roc_auc, 'FPR':fpr}, ignore_index=True)\n"
     ]
    },
    {
     "name": "stdout",
     "output_type": "stream",
     "text": [
      "39/39 [==============================] - 0s 900us/step\n"
     ]
    },
    {
     "name": "stderr",
     "output_type": "stream",
     "text": [
      "C:\\Users\\Nathalie\\AppData\\Local\\Temp\\ipykernel_5844\\185956534.py:88: FutureWarning: The frame.append method is deprecated and will be removed from pandas in a future version. Use pandas.concat instead.\n",
      "  metrics = metrics.append({'model':'DL','group':group,'subgroup':subgroup,'Sentence': i, 'Accuracy':a,'Precision': p, 'Recall':r, 'AUC':roc_auc, 'FPR':fpr}, ignore_index=True)\n",
      "C:\\Users\\Nathalie\\AppData\\Local\\Temp\\ipykernel_5844\\185956534.py:88: FutureWarning: The frame.append method is deprecated and will be removed from pandas in a future version. Use pandas.concat instead.\n",
      "  metrics = metrics.append({'model':'DL','group':group,'subgroup':subgroup,'Sentence': i, 'Accuracy':a,'Precision': p, 'Recall':r, 'AUC':roc_auc, 'FPR':fpr}, ignore_index=True)\n"
     ]
    },
    {
     "name": "stdout",
     "output_type": "stream",
     "text": [
      "1/1 [==============================] - 0s 15ms/step\n",
      "37/37 [==============================] - 0s 918us/step\n"
     ]
    },
    {
     "name": "stderr",
     "output_type": "stream",
     "text": [
      "c:\\Python310\\lib\\site-packages\\sklearn\\metrics\\_classification.py:1318: UndefinedMetricWarning: Precision is ill-defined and being set to 0.0 due to no predicted samples. Use `zero_division` parameter to control this behavior.\n",
      "  _warn_prf(average, modifier, msg_start, len(result))\n",
      "C:\\Users\\Nathalie\\AppData\\Local\\Temp\\ipykernel_5844\\185956534.py:69: FutureWarning: The frame.append method is deprecated and will be removed from pandas in a future version. Use pandas.concat instead.\n",
      "  metrics = metrics.append({'model':'DL','group':'all','subgroup':'all','Sentence': i, 'Accuracy':a,'Precision': p, 'Recall':r, 'AUC':roc_auc, 'FPR':fpr}, ignore_index=True)\n"
     ]
    },
    {
     "name": "stdout",
     "output_type": "stream",
     "text": [
      "37/37 [==============================] - 0s 834us/step\n"
     ]
    },
    {
     "name": "stderr",
     "output_type": "stream",
     "text": [
      "C:\\Users\\Nathalie\\AppData\\Local\\Temp\\ipykernel_5844\\185956534.py:88: FutureWarning: The frame.append method is deprecated and will be removed from pandas in a future version. Use pandas.concat instead.\n",
      "  metrics = metrics.append({'model':'DL','group':group,'subgroup':subgroup,'Sentence': i, 'Accuracy':a,'Precision': p, 'Recall':r, 'AUC':roc_auc, 'FPR':fpr}, ignore_index=True)\n",
      "C:\\Users\\Nathalie\\AppData\\Local\\Temp\\ipykernel_5844\\185956534.py:88: FutureWarning: The frame.append method is deprecated and will be removed from pandas in a future version. Use pandas.concat instead.\n",
      "  metrics = metrics.append({'model':'DL','group':group,'subgroup':subgroup,'Sentence': i, 'Accuracy':a,'Precision': p, 'Recall':r, 'AUC':roc_auc, 'FPR':fpr}, ignore_index=True)\n"
     ]
    },
    {
     "name": "stdout",
     "output_type": "stream",
     "text": [
      "1/1 [==============================] - 0s 17ms/step\n",
      "34/34 [==============================] - 0s 1ms/step\n"
     ]
    },
    {
     "name": "stderr",
     "output_type": "stream",
     "text": [
      "C:\\Users\\Nathalie\\AppData\\Local\\Temp\\ipykernel_5844\\185956534.py:69: FutureWarning: The frame.append method is deprecated and will be removed from pandas in a future version. Use pandas.concat instead.\n",
      "  metrics = metrics.append({'model':'DL','group':'all','subgroup':'all','Sentence': i, 'Accuracy':a,'Precision': p, 'Recall':r, 'AUC':roc_auc, 'FPR':fpr}, ignore_index=True)\n"
     ]
    },
    {
     "name": "stdout",
     "output_type": "stream",
     "text": [
      "34/34 [==============================] - 0s 962us/step\n"
     ]
    },
    {
     "name": "stderr",
     "output_type": "stream",
     "text": [
      "C:\\Users\\Nathalie\\AppData\\Local\\Temp\\ipykernel_5844\\185956534.py:88: FutureWarning: The frame.append method is deprecated and will be removed from pandas in a future version. Use pandas.concat instead.\n",
      "  metrics = metrics.append({'model':'DL','group':group,'subgroup':subgroup,'Sentence': i, 'Accuracy':a,'Precision': p, 'Recall':r, 'AUC':roc_auc, 'FPR':fpr}, ignore_index=True)\n",
      "C:\\Users\\Nathalie\\AppData\\Local\\Temp\\ipykernel_5844\\185956534.py:88: FutureWarning: The frame.append method is deprecated and will be removed from pandas in a future version. Use pandas.concat instead.\n",
      "  metrics = metrics.append({'model':'DL','group':group,'subgroup':subgroup,'Sentence': i, 'Accuracy':a,'Precision': p, 'Recall':r, 'AUC':roc_auc, 'FPR':fpr}, ignore_index=True)\n"
     ]
    },
    {
     "name": "stdout",
     "output_type": "stream",
     "text": [
      "1/1 [==============================] - 0s 17ms/step\n",
      "32/32 [==============================] - 0s 954us/step\n"
     ]
    },
    {
     "name": "stderr",
     "output_type": "stream",
     "text": [
      "C:\\Users\\Nathalie\\AppData\\Local\\Temp\\ipykernel_5844\\185956534.py:69: FutureWarning: The frame.append method is deprecated and will be removed from pandas in a future version. Use pandas.concat instead.\n",
      "  metrics = metrics.append({'model':'DL','group':'all','subgroup':'all','Sentence': i, 'Accuracy':a,'Precision': p, 'Recall':r, 'AUC':roc_auc, 'FPR':fpr}, ignore_index=True)\n"
     ]
    },
    {
     "name": "stdout",
     "output_type": "stream",
     "text": [
      "32/32 [==============================] - 0s 1ms/step\n"
     ]
    },
    {
     "name": "stderr",
     "output_type": "stream",
     "text": [
      "C:\\Users\\Nathalie\\AppData\\Local\\Temp\\ipykernel_5844\\185956534.py:88: FutureWarning: The frame.append method is deprecated and will be removed from pandas in a future version. Use pandas.concat instead.\n",
      "  metrics = metrics.append({'model':'DL','group':group,'subgroup':subgroup,'Sentence': i, 'Accuracy':a,'Precision': p, 'Recall':r, 'AUC':roc_auc, 'FPR':fpr}, ignore_index=True)\n",
      "C:\\Users\\Nathalie\\AppData\\Local\\Temp\\ipykernel_5844\\185956534.py:88: FutureWarning: The frame.append method is deprecated and will be removed from pandas in a future version. Use pandas.concat instead.\n",
      "  metrics = metrics.append({'model':'DL','group':group,'subgroup':subgroup,'Sentence': i, 'Accuracy':a,'Precision': p, 'Recall':r, 'AUC':roc_auc, 'FPR':fpr}, ignore_index=True)\n"
     ]
    },
    {
     "name": "stdout",
     "output_type": "stream",
     "text": [
      "1/1 [==============================] - 0s 19ms/step\n",
      "29/29 [==============================] - 0s 994us/step\n"
     ]
    },
    {
     "name": "stderr",
     "output_type": "stream",
     "text": [
      "C:\\Users\\Nathalie\\AppData\\Local\\Temp\\ipykernel_5844\\185956534.py:69: FutureWarning: The frame.append method is deprecated and will be removed from pandas in a future version. Use pandas.concat instead.\n",
      "  metrics = metrics.append({'model':'DL','group':'all','subgroup':'all','Sentence': i, 'Accuracy':a,'Precision': p, 'Recall':r, 'AUC':roc_auc, 'FPR':fpr}, ignore_index=True)\n",
      "C:\\Users\\Nathalie\\AppData\\Local\\Temp\\ipykernel_5844\\185956534.py:88: FutureWarning: The frame.append method is deprecated and will be removed from pandas in a future version. Use pandas.concat instead.\n",
      "  metrics = metrics.append({'model':'DL','group':group,'subgroup':subgroup,'Sentence': i, 'Accuracy':a,'Precision': p, 'Recall':r, 'AUC':roc_auc, 'FPR':fpr}, ignore_index=True)\n"
     ]
    },
    {
     "name": "stdout",
     "output_type": "stream",
     "text": [
      "29/29 [==============================] - 0s 918us/step\n"
     ]
    },
    {
     "name": "stderr",
     "output_type": "stream",
     "text": [
      "C:\\Users\\Nathalie\\AppData\\Local\\Temp\\ipykernel_5844\\185956534.py:88: FutureWarning: The frame.append method is deprecated and will be removed from pandas in a future version. Use pandas.concat instead.\n",
      "  metrics = metrics.append({'model':'DL','group':group,'subgroup':subgroup,'Sentence': i, 'Accuracy':a,'Precision': p, 'Recall':r, 'AUC':roc_auc, 'FPR':fpr}, ignore_index=True)\n"
     ]
    },
    {
     "name": "stdout",
     "output_type": "stream",
     "text": [
      "1/1 [==============================] - 0s 17ms/step\n",
      "27/27 [==============================] - 0s 987us/step\n"
     ]
    },
    {
     "name": "stderr",
     "output_type": "stream",
     "text": [
      "C:\\Users\\Nathalie\\AppData\\Local\\Temp\\ipykernel_5844\\185956534.py:69: FutureWarning: The frame.append method is deprecated and will be removed from pandas in a future version. Use pandas.concat instead.\n",
      "  metrics = metrics.append({'model':'DL','group':'all','subgroup':'all','Sentence': i, 'Accuracy':a,'Precision': p, 'Recall':r, 'AUC':roc_auc, 'FPR':fpr}, ignore_index=True)\n",
      "C:\\Users\\Nathalie\\AppData\\Local\\Temp\\ipykernel_5844\\185956534.py:88: FutureWarning: The frame.append method is deprecated and will be removed from pandas in a future version. Use pandas.concat instead.\n",
      "  metrics = metrics.append({'model':'DL','group':group,'subgroup':subgroup,'Sentence': i, 'Accuracy':a,'Precision': p, 'Recall':r, 'AUC':roc_auc, 'FPR':fpr}, ignore_index=True)\n"
     ]
    },
    {
     "name": "stdout",
     "output_type": "stream",
     "text": [
      "27/27 [==============================] - 0s 962us/step\n"
     ]
    },
    {
     "name": "stderr",
     "output_type": "stream",
     "text": [
      "C:\\Users\\Nathalie\\AppData\\Local\\Temp\\ipykernel_5844\\185956534.py:88: FutureWarning: The frame.append method is deprecated and will be removed from pandas in a future version. Use pandas.concat instead.\n",
      "  metrics = metrics.append({'model':'DL','group':group,'subgroup':subgroup,'Sentence': i, 'Accuracy':a,'Precision': p, 'Recall':r, 'AUC':roc_auc, 'FPR':fpr}, ignore_index=True)\n"
     ]
    },
    {
     "name": "stdout",
     "output_type": "stream",
     "text": [
      "1/1 [==============================] - 0s 15ms/step\n",
      "25/25 [==============================] - 0s 926us/step\n"
     ]
    },
    {
     "name": "stderr",
     "output_type": "stream",
     "text": [
      "C:\\Users\\Nathalie\\AppData\\Local\\Temp\\ipykernel_5844\\185956534.py:69: FutureWarning: The frame.append method is deprecated and will be removed from pandas in a future version. Use pandas.concat instead.\n",
      "  metrics = metrics.append({'model':'DL','group':'all','subgroup':'all','Sentence': i, 'Accuracy':a,'Precision': p, 'Recall':r, 'AUC':roc_auc, 'FPR':fpr}, ignore_index=True)\n",
      "C:\\Users\\Nathalie\\AppData\\Local\\Temp\\ipykernel_5844\\185956534.py:88: FutureWarning: The frame.append method is deprecated and will be removed from pandas in a future version. Use pandas.concat instead.\n",
      "  metrics = metrics.append({'model':'DL','group':group,'subgroup':subgroup,'Sentence': i, 'Accuracy':a,'Precision': p, 'Recall':r, 'AUC':roc_auc, 'FPR':fpr}, ignore_index=True)\n"
     ]
    },
    {
     "name": "stdout",
     "output_type": "stream",
     "text": [
      "25/25 [==============================] - 0s 958us/step\n"
     ]
    },
    {
     "name": "stderr",
     "output_type": "stream",
     "text": [
      "C:\\Users\\Nathalie\\AppData\\Local\\Temp\\ipykernel_5844\\185956534.py:88: FutureWarning: The frame.append method is deprecated and will be removed from pandas in a future version. Use pandas.concat instead.\n",
      "  metrics = metrics.append({'model':'DL','group':group,'subgroup':subgroup,'Sentence': i, 'Accuracy':a,'Precision': p, 'Recall':r, 'AUC':roc_auc, 'FPR':fpr}, ignore_index=True)\n"
     ]
    },
    {
     "name": "stdout",
     "output_type": "stream",
     "text": [
      "1/1 [==============================] - 0s 18ms/step\n",
      "23/23 [==============================] - 0s 1ms/step\n"
     ]
    },
    {
     "name": "stderr",
     "output_type": "stream",
     "text": [
      "C:\\Users\\Nathalie\\AppData\\Local\\Temp\\ipykernel_5844\\185956534.py:69: FutureWarning: The frame.append method is deprecated and will be removed from pandas in a future version. Use pandas.concat instead.\n",
      "  metrics = metrics.append({'model':'DL','group':'all','subgroup':'all','Sentence': i, 'Accuracy':a,'Precision': p, 'Recall':r, 'AUC':roc_auc, 'FPR':fpr}, ignore_index=True)\n",
      "C:\\Users\\Nathalie\\AppData\\Local\\Temp\\ipykernel_5844\\185956534.py:88: FutureWarning: The frame.append method is deprecated and will be removed from pandas in a future version. Use pandas.concat instead.\n",
      "  metrics = metrics.append({'model':'DL','group':group,'subgroup':subgroup,'Sentence': i, 'Accuracy':a,'Precision': p, 'Recall':r, 'AUC':roc_auc, 'FPR':fpr}, ignore_index=True)\n"
     ]
    },
    {
     "name": "stdout",
     "output_type": "stream",
     "text": [
      "23/23 [==============================] - 0s 924us/step\n"
     ]
    },
    {
     "name": "stderr",
     "output_type": "stream",
     "text": [
      "C:\\Users\\Nathalie\\AppData\\Local\\Temp\\ipykernel_5844\\185956534.py:88: FutureWarning: The frame.append method is deprecated and will be removed from pandas in a future version. Use pandas.concat instead.\n",
      "  metrics = metrics.append({'model':'DL','group':group,'subgroup':subgroup,'Sentence': i, 'Accuracy':a,'Precision': p, 'Recall':r, 'AUC':roc_auc, 'FPR':fpr}, ignore_index=True)\n"
     ]
    },
    {
     "name": "stdout",
     "output_type": "stream",
     "text": [
      "1/1 [==============================] - 0s 17ms/step\n",
      "21/21 [==============================] - 0s 1000us/step\n"
     ]
    },
    {
     "name": "stderr",
     "output_type": "stream",
     "text": [
      "C:\\Users\\Nathalie\\AppData\\Local\\Temp\\ipykernel_5844\\185956534.py:69: FutureWarning: The frame.append method is deprecated and will be removed from pandas in a future version. Use pandas.concat instead.\n",
      "  metrics = metrics.append({'model':'DL','group':'all','subgroup':'all','Sentence': i, 'Accuracy':a,'Precision': p, 'Recall':r, 'AUC':roc_auc, 'FPR':fpr}, ignore_index=True)\n",
      "C:\\Users\\Nathalie\\AppData\\Local\\Temp\\ipykernel_5844\\185956534.py:88: FutureWarning: The frame.append method is deprecated and will be removed from pandas in a future version. Use pandas.concat instead.\n",
      "  metrics = metrics.append({'model':'DL','group':group,'subgroup':subgroup,'Sentence': i, 'Accuracy':a,'Precision': p, 'Recall':r, 'AUC':roc_auc, 'FPR':fpr}, ignore_index=True)\n"
     ]
    },
    {
     "name": "stdout",
     "output_type": "stream",
     "text": [
      "21/21 [==============================] - 0s 987us/step\n"
     ]
    },
    {
     "name": "stderr",
     "output_type": "stream",
     "text": [
      "C:\\Users\\Nathalie\\AppData\\Local\\Temp\\ipykernel_5844\\185956534.py:88: FutureWarning: The frame.append method is deprecated and will be removed from pandas in a future version. Use pandas.concat instead.\n",
      "  metrics = metrics.append({'model':'DL','group':group,'subgroup':subgroup,'Sentence': i, 'Accuracy':a,'Precision': p, 'Recall':r, 'AUC':roc_auc, 'FPR':fpr}, ignore_index=True)\n"
     ]
    },
    {
     "name": "stdout",
     "output_type": "stream",
     "text": [
      "1/1 [==============================] - 0s 16ms/step\n",
      "20/20 [==============================] - 0s 949us/step\n"
     ]
    },
    {
     "name": "stderr",
     "output_type": "stream",
     "text": [
      "C:\\Users\\Nathalie\\AppData\\Local\\Temp\\ipykernel_5844\\185956534.py:69: FutureWarning: The frame.append method is deprecated and will be removed from pandas in a future version. Use pandas.concat instead.\n",
      "  metrics = metrics.append({'model':'DL','group':'all','subgroup':'all','Sentence': i, 'Accuracy':a,'Precision': p, 'Recall':r, 'AUC':roc_auc, 'FPR':fpr}, ignore_index=True)\n",
      "C:\\Users\\Nathalie\\AppData\\Local\\Temp\\ipykernel_5844\\185956534.py:88: FutureWarning: The frame.append method is deprecated and will be removed from pandas in a future version. Use pandas.concat instead.\n",
      "  metrics = metrics.append({'model':'DL','group':group,'subgroup':subgroup,'Sentence': i, 'Accuracy':a,'Precision': p, 'Recall':r, 'AUC':roc_auc, 'FPR':fpr}, ignore_index=True)\n"
     ]
    },
    {
     "name": "stdout",
     "output_type": "stream",
     "text": [
      "20/20 [==============================] - 0s 947us/step\n"
     ]
    },
    {
     "name": "stderr",
     "output_type": "stream",
     "text": [
      "C:\\Users\\Nathalie\\AppData\\Local\\Temp\\ipykernel_5844\\185956534.py:88: FutureWarning: The frame.append method is deprecated and will be removed from pandas in a future version. Use pandas.concat instead.\n",
      "  metrics = metrics.append({'model':'DL','group':group,'subgroup':subgroup,'Sentence': i, 'Accuracy':a,'Precision': p, 'Recall':r, 'AUC':roc_auc, 'FPR':fpr}, ignore_index=True)\n"
     ]
    },
    {
     "name": "stdout",
     "output_type": "stream",
     "text": [
      "1/1 [==============================] - 0s 16ms/step\n",
      "19/19 [==============================] - 0s 1000us/step\n"
     ]
    },
    {
     "name": "stderr",
     "output_type": "stream",
     "text": [
      "C:\\Users\\Nathalie\\AppData\\Local\\Temp\\ipykernel_5844\\185956534.py:69: FutureWarning: The frame.append method is deprecated and will be removed from pandas in a future version. Use pandas.concat instead.\n",
      "  metrics = metrics.append({'model':'DL','group':'all','subgroup':'all','Sentence': i, 'Accuracy':a,'Precision': p, 'Recall':r, 'AUC':roc_auc, 'FPR':fpr}, ignore_index=True)\n",
      "C:\\Users\\Nathalie\\AppData\\Local\\Temp\\ipykernel_5844\\185956534.py:88: FutureWarning: The frame.append method is deprecated and will be removed from pandas in a future version. Use pandas.concat instead.\n",
      "  metrics = metrics.append({'model':'DL','group':group,'subgroup':subgroup,'Sentence': i, 'Accuracy':a,'Precision': p, 'Recall':r, 'AUC':roc_auc, 'FPR':fpr}, ignore_index=True)\n"
     ]
    },
    {
     "name": "stdout",
     "output_type": "stream",
     "text": [
      "19/19 [==============================] - 0s 1ms/step\n"
     ]
    },
    {
     "name": "stderr",
     "output_type": "stream",
     "text": [
      "C:\\Users\\Nathalie\\AppData\\Local\\Temp\\ipykernel_5844\\185956534.py:88: FutureWarning: The frame.append method is deprecated and will be removed from pandas in a future version. Use pandas.concat instead.\n",
      "  metrics = metrics.append({'model':'DL','group':group,'subgroup':subgroup,'Sentence': i, 'Accuracy':a,'Precision': p, 'Recall':r, 'AUC':roc_auc, 'FPR':fpr}, ignore_index=True)\n"
     ]
    },
    {
     "name": "stdout",
     "output_type": "stream",
     "text": [
      "1/1 [==============================] - 0s 15ms/step\n",
      "18/18 [==============================] - 0s 978us/step\n"
     ]
    },
    {
     "name": "stderr",
     "output_type": "stream",
     "text": [
      "C:\\Users\\Nathalie\\AppData\\Local\\Temp\\ipykernel_5844\\185956534.py:69: FutureWarning: The frame.append method is deprecated and will be removed from pandas in a future version. Use pandas.concat instead.\n",
      "  metrics = metrics.append({'model':'DL','group':'all','subgroup':'all','Sentence': i, 'Accuracy':a,'Precision': p, 'Recall':r, 'AUC':roc_auc, 'FPR':fpr}, ignore_index=True)\n",
      "C:\\Users\\Nathalie\\AppData\\Local\\Temp\\ipykernel_5844\\185956534.py:88: FutureWarning: The frame.append method is deprecated and will be removed from pandas in a future version. Use pandas.concat instead.\n",
      "  metrics = metrics.append({'model':'DL','group':group,'subgroup':subgroup,'Sentence': i, 'Accuracy':a,'Precision': p, 'Recall':r, 'AUC':roc_auc, 'FPR':fpr}, ignore_index=True)\n"
     ]
    },
    {
     "name": "stdout",
     "output_type": "stream",
     "text": [
      "18/18 [==============================] - 0s 1ms/step\n"
     ]
    },
    {
     "name": "stderr",
     "output_type": "stream",
     "text": [
      "C:\\Users\\Nathalie\\AppData\\Local\\Temp\\ipykernel_5844\\185956534.py:88: FutureWarning: The frame.append method is deprecated and will be removed from pandas in a future version. Use pandas.concat instead.\n",
      "  metrics = metrics.append({'model':'DL','group':group,'subgroup':subgroup,'Sentence': i, 'Accuracy':a,'Precision': p, 'Recall':r, 'AUC':roc_auc, 'FPR':fpr}, ignore_index=True)\n"
     ]
    },
    {
     "name": "stdout",
     "output_type": "stream",
     "text": [
      "1/1 [==============================] - 0s 15ms/step\n",
      "17/17 [==============================] - 0s 937us/step\n"
     ]
    },
    {
     "name": "stderr",
     "output_type": "stream",
     "text": [
      "C:\\Users\\Nathalie\\AppData\\Local\\Temp\\ipykernel_5844\\185956534.py:69: FutureWarning: The frame.append method is deprecated and will be removed from pandas in a future version. Use pandas.concat instead.\n",
      "  metrics = metrics.append({'model':'DL','group':'all','subgroup':'all','Sentence': i, 'Accuracy':a,'Precision': p, 'Recall':r, 'AUC':roc_auc, 'FPR':fpr}, ignore_index=True)\n",
      "C:\\Users\\Nathalie\\AppData\\Local\\Temp\\ipykernel_5844\\185956534.py:88: FutureWarning: The frame.append method is deprecated and will be removed from pandas in a future version. Use pandas.concat instead.\n",
      "  metrics = metrics.append({'model':'DL','group':group,'subgroup':subgroup,'Sentence': i, 'Accuracy':a,'Precision': p, 'Recall':r, 'AUC':roc_auc, 'FPR':fpr}, ignore_index=True)\n"
     ]
    },
    {
     "name": "stdout",
     "output_type": "stream",
     "text": [
      "17/17 [==============================] - 0s 1ms/step\n"
     ]
    },
    {
     "name": "stderr",
     "output_type": "stream",
     "text": [
      "C:\\Users\\Nathalie\\AppData\\Local\\Temp\\ipykernel_5844\\185956534.py:88: FutureWarning: The frame.append method is deprecated and will be removed from pandas in a future version. Use pandas.concat instead.\n",
      "  metrics = metrics.append({'model':'DL','group':group,'subgroup':subgroup,'Sentence': i, 'Accuracy':a,'Precision': p, 'Recall':r, 'AUC':roc_auc, 'FPR':fpr}, ignore_index=True)\n"
     ]
    },
    {
     "name": "stdout",
     "output_type": "stream",
     "text": [
      "1/1 [==============================] - 0s 16ms/step\n",
      "15/15 [==============================] - 0s 1ms/step\n"
     ]
    },
    {
     "name": "stderr",
     "output_type": "stream",
     "text": [
      "C:\\Users\\Nathalie\\AppData\\Local\\Temp\\ipykernel_5844\\185956534.py:69: FutureWarning: The frame.append method is deprecated and will be removed from pandas in a future version. Use pandas.concat instead.\n",
      "  metrics = metrics.append({'model':'DL','group':'all','subgroup':'all','Sentence': i, 'Accuracy':a,'Precision': p, 'Recall':r, 'AUC':roc_auc, 'FPR':fpr}, ignore_index=True)\n",
      "C:\\Users\\Nathalie\\AppData\\Local\\Temp\\ipykernel_5844\\185956534.py:88: FutureWarning: The frame.append method is deprecated and will be removed from pandas in a future version. Use pandas.concat instead.\n",
      "  metrics = metrics.append({'model':'DL','group':group,'subgroup':subgroup,'Sentence': i, 'Accuracy':a,'Precision': p, 'Recall':r, 'AUC':roc_auc, 'FPR':fpr}, ignore_index=True)\n"
     ]
    },
    {
     "name": "stdout",
     "output_type": "stream",
     "text": [
      "15/15 [==============================] - 0s 1ms/step\n"
     ]
    },
    {
     "name": "stderr",
     "output_type": "stream",
     "text": [
      "C:\\Users\\Nathalie\\AppData\\Local\\Temp\\ipykernel_5844\\185956534.py:88: FutureWarning: The frame.append method is deprecated and will be removed from pandas in a future version. Use pandas.concat instead.\n",
      "  metrics = metrics.append({'model':'DL','group':group,'subgroup':subgroup,'Sentence': i, 'Accuracy':a,'Precision': p, 'Recall':r, 'AUC':roc_auc, 'FPR':fpr}, ignore_index=True)\n"
     ]
    },
    {
     "name": "stdout",
     "output_type": "stream",
     "text": [
      "1/1 [==============================] - 0s 17ms/step\n",
      "14/14 [==============================] - 0s 923us/step\n"
     ]
    },
    {
     "name": "stderr",
     "output_type": "stream",
     "text": [
      "C:\\Users\\Nathalie\\AppData\\Local\\Temp\\ipykernel_5844\\185956534.py:69: FutureWarning: The frame.append method is deprecated and will be removed from pandas in a future version. Use pandas.concat instead.\n",
      "  metrics = metrics.append({'model':'DL','group':'all','subgroup':'all','Sentence': i, 'Accuracy':a,'Precision': p, 'Recall':r, 'AUC':roc_auc, 'FPR':fpr}, ignore_index=True)\n",
      "C:\\Users\\Nathalie\\AppData\\Local\\Temp\\ipykernel_5844\\185956534.py:88: FutureWarning: The frame.append method is deprecated and will be removed from pandas in a future version. Use pandas.concat instead.\n",
      "  metrics = metrics.append({'model':'DL','group':group,'subgroup':subgroup,'Sentence': i, 'Accuracy':a,'Precision': p, 'Recall':r, 'AUC':roc_auc, 'FPR':fpr}, ignore_index=True)\n"
     ]
    },
    {
     "name": "stdout",
     "output_type": "stream",
     "text": [
      "14/14 [==============================] - 0s 997us/step\n"
     ]
    },
    {
     "name": "stderr",
     "output_type": "stream",
     "text": [
      "C:\\Users\\Nathalie\\AppData\\Local\\Temp\\ipykernel_5844\\185956534.py:88: FutureWarning: The frame.append method is deprecated and will be removed from pandas in a future version. Use pandas.concat instead.\n",
      "  metrics = metrics.append({'model':'DL','group':group,'subgroup':subgroup,'Sentence': i, 'Accuracy':a,'Precision': p, 'Recall':r, 'AUC':roc_auc, 'FPR':fpr}, ignore_index=True)\n"
     ]
    },
    {
     "name": "stdout",
     "output_type": "stream",
     "text": [
      "1/1 [==============================] - 0s 17ms/step\n",
      "13/13 [==============================] - 0s 1000us/step\n"
     ]
    },
    {
     "name": "stderr",
     "output_type": "stream",
     "text": [
      "C:\\Users\\Nathalie\\AppData\\Local\\Temp\\ipykernel_5844\\185956534.py:69: FutureWarning: The frame.append method is deprecated and will be removed from pandas in a future version. Use pandas.concat instead.\n",
      "  metrics = metrics.append({'model':'DL','group':'all','subgroup':'all','Sentence': i, 'Accuracy':a,'Precision': p, 'Recall':r, 'AUC':roc_auc, 'FPR':fpr}, ignore_index=True)\n",
      "C:\\Users\\Nathalie\\AppData\\Local\\Temp\\ipykernel_5844\\185956534.py:88: FutureWarning: The frame.append method is deprecated and will be removed from pandas in a future version. Use pandas.concat instead.\n",
      "  metrics = metrics.append({'model':'DL','group':group,'subgroup':subgroup,'Sentence': i, 'Accuracy':a,'Precision': p, 'Recall':r, 'AUC':roc_auc, 'FPR':fpr}, ignore_index=True)\n"
     ]
    },
    {
     "name": "stdout",
     "output_type": "stream",
     "text": [
      "13/13 [==============================] - 0s 1ms/step\n"
     ]
    },
    {
     "name": "stderr",
     "output_type": "stream",
     "text": [
      "C:\\Users\\Nathalie\\AppData\\Local\\Temp\\ipykernel_5844\\185956534.py:88: FutureWarning: The frame.append method is deprecated and will be removed from pandas in a future version. Use pandas.concat instead.\n",
      "  metrics = metrics.append({'model':'DL','group':group,'subgroup':subgroup,'Sentence': i, 'Accuracy':a,'Precision': p, 'Recall':r, 'AUC':roc_auc, 'FPR':fpr}, ignore_index=True)\n"
     ]
    }
   ],
   "source": [
    "# baseline model\n",
    "def build_model():\n",
    "\t# create model\n",
    "\tmodel = Sequential()\n",
    "\tmodel.add(Dense(24, input_dim=24, activation='relu'))\n",
    "\tmodel.add(Dense(48, activation='relu'))\n",
    "\tmodel.add(Dense(24, activation='relu'))\n",
    "\tmodel.add(Dense(12, activation='relu'))\n",
    "\tmodel.add(Dense(1, activation='sigmoid'))\n",
    "\t\t\n",
    "\treturn model\n",
    "\n",
    "\n",
    "def get_dn_metrics(model, X,y):\n",
    "    yhat_probs = model.predict(X, verbose=0)\n",
    "    yhat_classes =  (model.predict(X) > 0.5).astype(\"int32\")\n",
    "    # reduce to 1d array\n",
    "    yhat_probs = yhat_probs[:, 0]\n",
    "    yhat_classes = yhat_classes[:, 0]\n",
    "    a = accuracy_score(y, yhat_classes)\n",
    "    p = precision_score(y, yhat_classes)\n",
    "    r = recall_score(y, yhat_classes)\n",
    "    roc_auc = roc_auc_score(y, yhat_probs)\n",
    "    tn, fp, fn, tp = confusion_matrix(y, yhat_classes).ravel()\n",
    "    fpr = fp/(fp+tn)\n",
    "\n",
    "    return a,p,r,roc_auc,fpr\n",
    "\n",
    "n =  [2,3,4,5,6,7,8,9,10,11,12,13,14,15,16,17,18,19,20,21,22,23,24,25,26,27,28,29,30,31,32,33,34,35,36,37,38,39,40,41,42,43,44,45,46,47,48,49,50,51,52,53,54,55,56,57,58,59,60]\n",
    "feature_cols = ['Erstloesung','Schussel','Erfolg', 'Schwierigkeit', 'ist_Schulzeit', 'MehrfachFalsch', 'vorher_abgebrochen','Fehler', 'Klassenstufe', 'Jahredabei', 'AnzahlAufgaben', 'Sex__m', 'Sex__w', 'Testposition__pruefung', 'Testposition__training','Testposition__version', 'Art__GK', 'Art__GR', 'Art__GZ', 'Art__K', 'Art__LB','UserAttribut', 'OrderNumber', 'steps']\n",
    "\n",
    "for i in n:\n",
    "    path='buecher_allsessions/matrix'+str(i)+'.pkl'\n",
    "    infile = open(path,'rb')\n",
    "    df = pickle.load(infile)\n",
    "    infile.close()\n",
    "    df=df.reset_index()\n",
    "\n",
    "    y_len = len(feature_cols)\n",
    "    X = df[feature_cols].astype(float)\n",
    "    y = df.y\n",
    "    y= y.astype('int')\n",
    "    X_train, X_test, y_train, y_test = train_test_split(X, y, test_size=0.3, random_state=1)\n",
    "\n",
    "    model = build_model()\n",
    "\n",
    "    model.compile(\n",
    "        loss=\"binary_crossentropy\",\n",
    "        optimizer='Adam',\n",
    "        metrics=[\"accuracy\"]\n",
    "    )\n",
    "\n",
    "    model.fit(\n",
    "        x=X_train,\n",
    "        y=y_train,\n",
    "        epochs=10,\n",
    "        batch_size=128,\n",
    "        verbose=0,\n",
    "        validation_data=(X_test, y_test)\n",
    "    )\n",
    "\n",
    "    scores = model.evaluate(\n",
    "        x=X_test,\n",
    "        y=y_test,\n",
    "        verbose=0\n",
    "    )\n",
    "\n",
    "    a,p,r,roc_auc,fpr= get_dn_metrics(model, X_test,y_test)\n",
    "    metrics = metrics.append({'model':'DL','group':'all','subgroup':'all','Sentence': i, 'Accuracy':a,'Precision': p, 'Recall':r, 'AUC':roc_auc, 'FPR':fpr}, ignore_index=True)\n",
    "\n",
    "    group = ['buecher', 'buecher']\n",
    "    subgroup = ['buch0', 'buch1']\n",
    "    matrice = ['matrices_buecher_0', 'matrices_buecher_1']\n",
    "\n",
    "    for (group, subgroup, matrice) in zip(group, subgroup, matrice):\n",
    "        path= '../01_prognosemodell/06_newtry/'+matrix+'/matrix'+str(i)+'.pkl'\n",
    "        infile = open(path,'rb')\n",
    "        df = pickle.load(infile)\n",
    "        infile.close()\n",
    "        df=df.reset_index()\n",
    "        y_len = len(feature_cols)\n",
    "        X = df[feature_cols].astype(float)\n",
    "        y = df.y\n",
    "        y= y.astype('int')\n",
    "\n",
    "        a,p,r,roc_auc,fpr= get_dn_metrics(model, X,y)\n",
    "\n",
    "        metrics = metrics.append({'model':'DL','group':group,'subgroup':subgroup,'Sentence': i, 'Accuracy':a,'Precision': p, 'Recall':r, 'AUC':roc_auc, 'FPR':fpr}, ignore_index=True)"
   ]
  },
  {
   "cell_type": "code",
   "execution_count": 14,
   "metadata": {},
   "outputs": [
    {
     "data": {
      "text/html": [
       "<div>\n",
       "<style scoped>\n",
       "    .dataframe tbody tr th:only-of-type {\n",
       "        vertical-align: middle;\n",
       "    }\n",
       "\n",
       "    .dataframe tbody tr th {\n",
       "        vertical-align: top;\n",
       "    }\n",
       "\n",
       "    .dataframe thead th {\n",
       "        text-align: right;\n",
       "    }\n",
       "</style>\n",
       "<table border=\"1\" class=\"dataframe\">\n",
       "  <thead>\n",
       "    <tr style=\"text-align: right;\">\n",
       "      <th></th>\n",
       "      <th>model</th>\n",
       "      <th>group</th>\n",
       "      <th>subgroup</th>\n",
       "      <th>Sentence</th>\n",
       "      <th>Accuracy</th>\n",
       "      <th>Precision</th>\n",
       "      <th>Recall</th>\n",
       "      <th>AUC</th>\n",
       "      <th>FPR</th>\n",
       "    </tr>\n",
       "  </thead>\n",
       "  <tbody>\n",
       "    <tr>\n",
       "      <th>0</th>\n",
       "      <td>DTE</td>\n",
       "      <td>all</td>\n",
       "      <td>all</td>\n",
       "      <td>2</td>\n",
       "      <td>0.761468</td>\n",
       "      <td>0.75</td>\n",
       "      <td>0.777778</td>\n",
       "      <td>0.761616</td>\n",
       "      <td>0.254545</td>\n",
       "    </tr>\n",
       "    <tr>\n",
       "      <th>1</th>\n",
       "      <td>DTE</td>\n",
       "      <td>buecher</td>\n",
       "      <td>buch0</td>\n",
       "      <td>2</td>\n",
       "      <td>0.778717</td>\n",
       "      <td>0.906945</td>\n",
       "      <td>0.814165</td>\n",
       "      <td>0.714882</td>\n",
       "      <td>0.384401</td>\n",
       "    </tr>\n",
       "    <tr>\n",
       "      <th>2</th>\n",
       "      <td>DTE</td>\n",
       "      <td>buecher</td>\n",
       "      <td>buch1</td>\n",
       "      <td>2</td>\n",
       "      <td>0.819452</td>\n",
       "      <td>0.929517</td>\n",
       "      <td>0.861215</td>\n",
       "      <td>0.680178</td>\n",
       "      <td>0.500859</td>\n",
       "    </tr>\n",
       "    <tr>\n",
       "      <th>3</th>\n",
       "      <td>DTE</td>\n",
       "      <td>all</td>\n",
       "      <td>all</td>\n",
       "      <td>3</td>\n",
       "      <td>0.709677</td>\n",
       "      <td>0.727273</td>\n",
       "      <td>0.680851</td>\n",
       "      <td>0.709991</td>\n",
       "      <td>0.26087</td>\n",
       "    </tr>\n",
       "    <tr>\n",
       "      <th>4</th>\n",
       "      <td>DTE</td>\n",
       "      <td>buecher</td>\n",
       "      <td>buch0</td>\n",
       "      <td>3</td>\n",
       "      <td>0.60384</td>\n",
       "      <td>0.926254</td>\n",
       "      <td>0.570563</td>\n",
       "      <td>0.670952</td>\n",
       "      <td>0.228659</td>\n",
       "    </tr>\n",
       "    <tr>\n",
       "      <th>...</th>\n",
       "      <td>...</td>\n",
       "      <td>...</td>\n",
       "      <td>...</td>\n",
       "      <td>...</td>\n",
       "      <td>...</td>\n",
       "      <td>...</td>\n",
       "      <td>...</td>\n",
       "      <td>...</td>\n",
       "      <td>...</td>\n",
       "    </tr>\n",
       "    <tr>\n",
       "      <th>526</th>\n",
       "      <td>DL</td>\n",
       "      <td>buecher</td>\n",
       "      <td>buch0</td>\n",
       "      <td>59</td>\n",
       "      <td>0.936219</td>\n",
       "      <td>0.971154</td>\n",
       "      <td>0.961905</td>\n",
       "      <td>0.670551</td>\n",
       "      <td>0.631579</td>\n",
       "    </tr>\n",
       "    <tr>\n",
       "      <th>527</th>\n",
       "      <td>DL</td>\n",
       "      <td>buecher</td>\n",
       "      <td>buch1</td>\n",
       "      <td>59</td>\n",
       "      <td>0.936219</td>\n",
       "      <td>0.971154</td>\n",
       "      <td>0.961905</td>\n",
       "      <td>0.670551</td>\n",
       "      <td>0.631579</td>\n",
       "    </tr>\n",
       "    <tr>\n",
       "      <th>528</th>\n",
       "      <td>DL</td>\n",
       "      <td>all</td>\n",
       "      <td>all</td>\n",
       "      <td>60</td>\n",
       "      <td>0.333333</td>\n",
       "      <td>0.0</td>\n",
       "      <td>0.0</td>\n",
       "      <td>0.5</td>\n",
       "      <td>0.5</td>\n",
       "    </tr>\n",
       "    <tr>\n",
       "      <th>529</th>\n",
       "      <td>DL</td>\n",
       "      <td>buecher</td>\n",
       "      <td>buch0</td>\n",
       "      <td>60</td>\n",
       "      <td>0.435961</td>\n",
       "      <td>0.938889</td>\n",
       "      <td>0.436693</td>\n",
       "      <td>0.421597</td>\n",
       "      <td>0.578947</td>\n",
       "    </tr>\n",
       "    <tr>\n",
       "      <th>530</th>\n",
       "      <td>DL</td>\n",
       "      <td>buecher</td>\n",
       "      <td>buch1</td>\n",
       "      <td>60</td>\n",
       "      <td>0.435961</td>\n",
       "      <td>0.938889</td>\n",
       "      <td>0.436693</td>\n",
       "      <td>0.421597</td>\n",
       "      <td>0.578947</td>\n",
       "    </tr>\n",
       "  </tbody>\n",
       "</table>\n",
       "<p>531 rows × 9 columns</p>\n",
       "</div>"
      ],
      "text/plain": [
       "    model    group subgroup Sentence  Accuracy Precision    Recall       AUC  \\\n",
       "0     DTE      all      all        2  0.761468      0.75  0.777778  0.761616   \n",
       "1     DTE  buecher    buch0        2  0.778717  0.906945  0.814165  0.714882   \n",
       "2     DTE  buecher    buch1        2  0.819452  0.929517  0.861215  0.680178   \n",
       "3     DTE      all      all        3  0.709677  0.727273  0.680851  0.709991   \n",
       "4     DTE  buecher    buch0        3   0.60384  0.926254  0.570563  0.670952   \n",
       "..    ...      ...      ...      ...       ...       ...       ...       ...   \n",
       "526    DL  buecher    buch0       59  0.936219  0.971154  0.961905  0.670551   \n",
       "527    DL  buecher    buch1       59  0.936219  0.971154  0.961905  0.670551   \n",
       "528    DL      all      all       60  0.333333       0.0       0.0       0.5   \n",
       "529    DL  buecher    buch0       60  0.435961  0.938889  0.436693  0.421597   \n",
       "530    DL  buecher    buch1       60  0.435961  0.938889  0.436693  0.421597   \n",
       "\n",
       "          FPR  \n",
       "0    0.254545  \n",
       "1    0.384401  \n",
       "2    0.500859  \n",
       "3     0.26087  \n",
       "4    0.228659  \n",
       "..        ...  \n",
       "526  0.631579  \n",
       "527  0.631579  \n",
       "528       0.5  \n",
       "529  0.578947  \n",
       "530  0.578947  \n",
       "\n",
       "[531 rows x 9 columns]"
      ]
     },
     "execution_count": 14,
     "metadata": {},
     "output_type": "execute_result"
    }
   ],
   "source": [
    "metrics"
   ]
  },
  {
   "cell_type": "markdown",
   "metadata": {},
   "source": [
    "Evaluate"
   ]
  },
  {
   "cell_type": "code",
   "execution_count": 15,
   "metadata": {},
   "outputs": [],
   "source": [
    "df = metrics\n",
    "grouped = df.groupby(df.group)\n",
    "df_buecher = grouped.get_group(\"buecher\")\n",
    "\n",
    "df_buecher = df_buecher.drop(columns=['group', 'Accuracy'])\n",
    "df_buecher = pd.pivot_table(df_buecher, values=[\"Precision\",\"Recall\",\"AUC\",\"FPR\"], index=[\"model\", \"Sentence\"], columns=[\"subgroup\"])\n",
    "df_buecher['PP'] = df_buecher.Precision.buch1-df_buecher.Precision.buch0\n",
    "df_buecher['EO'] = df_buecher.Recall.buch0-df_buecher.Recall.buch1\n",
    "df_buecher['SA'] = df_buecher.AUC.buch1-df_buecher.AUC.buch0\n",
    "df_buecher['PE'] = df_buecher.FPR.buch0-df_buecher.FPR.buch1\n",
    "df_buecher = df_buecher.drop(columns=['AUC','Precision','Recall','FPR'])\n",
    "df_buecher.columns = df_buecher.columns.droplevel(1)\n",
    "df_buecher = pd.pivot_table(df_buecher, values=[\"PP\",\"EO\",\"SA\",\"PE\"], index=[\"Sentence\"], columns=[\"model\"])\n",
    "\n"
   ]
  },
  {
   "cell_type": "code",
   "execution_count": 16,
   "metadata": {},
   "outputs": [],
   "source": [
    "#format result\n",
    "\n",
    "def threshold001(v, props=''):\n",
    "    return props if (v > 0.02) or (v < -0.02) else None\n",
    "\n",
    "def threshold005(v, props=''):\n",
    "    return props if (v > 0.05) or (v < -0.05) else None\n",
    "\n",
    "def negativeValue(v, props=''):\n",
    "    return props if (v < 0) else None\n",
    "\n",
    "def showTable(df):\n",
    "    styled = df.style.set_properties(color=\"black\", align=\"right\")\\\n",
    "        .set_properties(**{'background-color': 'white'})\\\n",
    "        .applymap(threshold001, props='color:orange;')\\\n",
    "        .applymap(threshold005, props='color:red;')\\\n",
    "        .applymap(negativeValue, props='font-weight:bold;')\n",
    "    return styled"
   ]
  },
  {
   "cell_type": "code",
   "execution_count": 17,
   "metadata": {},
   "outputs": [
    {
     "name": "stdout",
     "output_type": "stream",
     "text": [
      "-0.028698784645611264\n",
      "-0.09899133888047103\n",
      "0.015901479655953607\n",
      "-0.03514627711742987\n"
     ]
    }
   ],
   "source": [
    "m = df_buecher.EO.DTE.mean()\n",
    "print(m)\n",
    "m = df_buecher.PE.DTE.mean()\n",
    "print(m)\n",
    "m = df_buecher.PP.DTE.mean()\n",
    "print(m)\n",
    "m = df_buecher.SA.DTE.mean()\n",
    "print(m)"
   ]
  },
  {
   "cell_type": "code",
   "execution_count": 18,
   "metadata": {},
   "outputs": [
    {
     "data": {
      "text/html": [
       "<style type=\"text/css\">\n",
       "#T_9bb49_row0_col0, #T_9bb49_row0_col3, #T_9bb49_row0_col6, #T_9bb49_row0_col8, #T_9bb49_row0_col9, #T_9bb49_row1_col0, #T_9bb49_row1_col3, #T_9bb49_row1_col6, #T_9bb49_row1_col7, #T_9bb49_row1_col8, #T_9bb49_row1_col9, #T_9bb49_row2_col0, #T_9bb49_row2_col3, #T_9bb49_row2_col6, #T_9bb49_row2_col7, #T_9bb49_row2_col8, #T_9bb49_row2_col9, #T_9bb49_row3_col0, #T_9bb49_row3_col3, #T_9bb49_row3_col6, #T_9bb49_row3_col9, #T_9bb49_row4_col0, #T_9bb49_row4_col3, #T_9bb49_row4_col6, #T_9bb49_row4_col9, #T_9bb49_row5_col0, #T_9bb49_row5_col3, #T_9bb49_row5_col6, #T_9bb49_row5_col7, #T_9bb49_row5_col8, #T_9bb49_row5_col9, #T_9bb49_row6_col0, #T_9bb49_row6_col3, #T_9bb49_row6_col6, #T_9bb49_row6_col7, #T_9bb49_row6_col8, #T_9bb49_row6_col9, #T_9bb49_row7_col0, #T_9bb49_row7_col3, #T_9bb49_row7_col6, #T_9bb49_row7_col7, #T_9bb49_row7_col8, #T_9bb49_row7_col9, #T_9bb49_row8_col0, #T_9bb49_row8_col3, #T_9bb49_row8_col6, #T_9bb49_row8_col9, #T_9bb49_row9_col0, #T_9bb49_row9_col3, #T_9bb49_row9_col6, #T_9bb49_row9_col9, #T_9bb49_row9_col10, #T_9bb49_row9_col11, #T_9bb49_row10_col0, #T_9bb49_row10_col3, #T_9bb49_row10_col6, #T_9bb49_row10_col7, #T_9bb49_row10_col8, #T_9bb49_row10_col9, #T_9bb49_row11_col0, #T_9bb49_row11_col3, #T_9bb49_row11_col6, #T_9bb49_row11_col7, #T_9bb49_row11_col8, #T_9bb49_row11_col9, #T_9bb49_row12_col0, #T_9bb49_row12_col3, #T_9bb49_row12_col6, #T_9bb49_row12_col7, #T_9bb49_row12_col8, #T_9bb49_row12_col9, #T_9bb49_row13_col0, #T_9bb49_row13_col3, #T_9bb49_row13_col6, #T_9bb49_row13_col7, #T_9bb49_row13_col8, #T_9bb49_row13_col9, #T_9bb49_row14_col0, #T_9bb49_row14_col3, #T_9bb49_row14_col6, #T_9bb49_row14_col7, #T_9bb49_row14_col8, #T_9bb49_row14_col9, #T_9bb49_row15_col0, #T_9bb49_row15_col3, #T_9bb49_row15_col6, #T_9bb49_row15_col7, #T_9bb49_row15_col9, #T_9bb49_row16_col0, #T_9bb49_row16_col3, #T_9bb49_row16_col6, #T_9bb49_row16_col7, #T_9bb49_row16_col8, #T_9bb49_row16_col9, #T_9bb49_row17_col0, #T_9bb49_row17_col3, #T_9bb49_row17_col6, #T_9bb49_row17_col8, #T_9bb49_row17_col9, #T_9bb49_row18_col0, #T_9bb49_row18_col3, #T_9bb49_row18_col6, #T_9bb49_row18_col9, #T_9bb49_row18_col10, #T_9bb49_row18_col11, #T_9bb49_row19_col0, #T_9bb49_row19_col3, #T_9bb49_row19_col6, #T_9bb49_row19_col8, #T_9bb49_row19_col9, #T_9bb49_row20_col0, #T_9bb49_row20_col3, #T_9bb49_row20_col5, #T_9bb49_row20_col6, #T_9bb49_row20_col9, #T_9bb49_row20_col10, #T_9bb49_row21_col0, #T_9bb49_row21_col3, #T_9bb49_row21_col6, #T_9bb49_row21_col9, #T_9bb49_row21_col10, #T_9bb49_row22_col0, #T_9bb49_row22_col3, #T_9bb49_row22_col6, #T_9bb49_row22_col9, #T_9bb49_row23_col0, #T_9bb49_row23_col3, #T_9bb49_row23_col6, #T_9bb49_row23_col9, #T_9bb49_row23_col11, #T_9bb49_row24_col0, #T_9bb49_row24_col3, #T_9bb49_row24_col6, #T_9bb49_row24_col7, #T_9bb49_row24_col9, #T_9bb49_row25_col0, #T_9bb49_row25_col1, #T_9bb49_row25_col2, #T_9bb49_row25_col3, #T_9bb49_row25_col4, #T_9bb49_row25_col6, #T_9bb49_row25_col9, #T_9bb49_row26_col0, #T_9bb49_row26_col3, #T_9bb49_row26_col6, #T_9bb49_row26_col7, #T_9bb49_row26_col8, #T_9bb49_row26_col9, #T_9bb49_row27_col0, #T_9bb49_row27_col3, #T_9bb49_row27_col4, #T_9bb49_row27_col6, #T_9bb49_row27_col9, #T_9bb49_row28_col0, #T_9bb49_row28_col3, #T_9bb49_row28_col6, #T_9bb49_row28_col9, #T_9bb49_row29_col0, #T_9bb49_row29_col3, #T_9bb49_row29_col6, #T_9bb49_row29_col9, #T_9bb49_row30_col0, #T_9bb49_row30_col2, #T_9bb49_row30_col3, #T_9bb49_row30_col4, #T_9bb49_row30_col6, #T_9bb49_row30_col9, #T_9bb49_row30_col10, #T_9bb49_row31_col0, #T_9bb49_row31_col3, #T_9bb49_row31_col6, #T_9bb49_row31_col7, #T_9bb49_row31_col9, #T_9bb49_row32_col0, #T_9bb49_row32_col3, #T_9bb49_row32_col6, #T_9bb49_row32_col7, #T_9bb49_row32_col8, #T_9bb49_row32_col9, #T_9bb49_row33_col0, #T_9bb49_row33_col3, #T_9bb49_row33_col6, #T_9bb49_row33_col9, #T_9bb49_row33_col11, #T_9bb49_row34_col0, #T_9bb49_row34_col3, #T_9bb49_row34_col6, #T_9bb49_row34_col8, #T_9bb49_row34_col9, #T_9bb49_row35_col0, #T_9bb49_row35_col1, #T_9bb49_row35_col3, #T_9bb49_row35_col6, #T_9bb49_row35_col9, #T_9bb49_row35_col11, #T_9bb49_row36_col0, #T_9bb49_row36_col3, #T_9bb49_row36_col6, #T_9bb49_row36_col9, #T_9bb49_row37_col0, #T_9bb49_row37_col2, #T_9bb49_row37_col3, #T_9bb49_row37_col6, #T_9bb49_row37_col8, #T_9bb49_row37_col9, #T_9bb49_row38_col0, #T_9bb49_row38_col3, #T_9bb49_row38_col6, #T_9bb49_row38_col9, #T_9bb49_row38_col10, #T_9bb49_row38_col11, #T_9bb49_row39_col0, #T_9bb49_row39_col3, #T_9bb49_row39_col6, #T_9bb49_row39_col9, #T_9bb49_row40_col0, #T_9bb49_row40_col1, #T_9bb49_row40_col3, #T_9bb49_row40_col6, #T_9bb49_row40_col9, #T_9bb49_row40_col10, #T_9bb49_row41_col0, #T_9bb49_row41_col3, #T_9bb49_row41_col6, #T_9bb49_row41_col7, #T_9bb49_row41_col8, #T_9bb49_row41_col9, #T_9bb49_row42_col0, #T_9bb49_row42_col1, #T_9bb49_row42_col2, #T_9bb49_row42_col3, #T_9bb49_row42_col6, #T_9bb49_row42_col9, #T_9bb49_row43_col0, #T_9bb49_row43_col3, #T_9bb49_row43_col6, #T_9bb49_row43_col9, #T_9bb49_row43_col10, #T_9bb49_row43_col11, #T_9bb49_row44_col0, #T_9bb49_row44_col3, #T_9bb49_row44_col6, #T_9bb49_row44_col9, #T_9bb49_row45_col0, #T_9bb49_row45_col3, #T_9bb49_row45_col6, #T_9bb49_row45_col7, #T_9bb49_row45_col8, #T_9bb49_row45_col9, #T_9bb49_row46_col0, #T_9bb49_row46_col3, #T_9bb49_row46_col6, #T_9bb49_row46_col7, #T_9bb49_row46_col8, #T_9bb49_row46_col9, #T_9bb49_row47_col0, #T_9bb49_row47_col3, #T_9bb49_row47_col6, #T_9bb49_row47_col8, #T_9bb49_row47_col9, #T_9bb49_row48_col0, #T_9bb49_row48_col3, #T_9bb49_row48_col6, #T_9bb49_row48_col9, #T_9bb49_row49_col0, #T_9bb49_row49_col3, #T_9bb49_row49_col6, #T_9bb49_row49_col7, #T_9bb49_row49_col8, #T_9bb49_row49_col9, #T_9bb49_row50_col0, #T_9bb49_row50_col3, #T_9bb49_row50_col6, #T_9bb49_row50_col7, #T_9bb49_row50_col8, #T_9bb49_row50_col9, #T_9bb49_row51_col0, #T_9bb49_row51_col3, #T_9bb49_row51_col6, #T_9bb49_row51_col7, #T_9bb49_row51_col8, #T_9bb49_row51_col9, #T_9bb49_row52_col0, #T_9bb49_row52_col1, #T_9bb49_row52_col2, #T_9bb49_row52_col3, #T_9bb49_row52_col6, #T_9bb49_row52_col9, #T_9bb49_row53_col0, #T_9bb49_row53_col1, #T_9bb49_row53_col2, #T_9bb49_row53_col3, #T_9bb49_row53_col6, #T_9bb49_row53_col7, #T_9bb49_row53_col8, #T_9bb49_row53_col9, #T_9bb49_row54_col0, #T_9bb49_row54_col3, #T_9bb49_row54_col6, #T_9bb49_row54_col8, #T_9bb49_row54_col9, #T_9bb49_row55_col0, #T_9bb49_row55_col3, #T_9bb49_row55_col6, #T_9bb49_row55_col7, #T_9bb49_row55_col9, #T_9bb49_row56_col0, #T_9bb49_row56_col3, #T_9bb49_row56_col6, #T_9bb49_row56_col7, #T_9bb49_row56_col8, #T_9bb49_row56_col9, #T_9bb49_row57_col0, #T_9bb49_row57_col3, #T_9bb49_row57_col6, #T_9bb49_row57_col9, #T_9bb49_row58_col0, #T_9bb49_row58_col3, #T_9bb49_row58_col6, #T_9bb49_row58_col8, #T_9bb49_row58_col9 {\n",
       "  color: black;\n",
       "  align: right;\n",
       "  background-color: white;\n",
       "}\n",
       "#T_9bb49_row0_col1, #T_9bb49_row0_col2, #T_9bb49_row0_col10, #T_9bb49_row0_col11, #T_9bb49_row1_col10, #T_9bb49_row1_col11, #T_9bb49_row3_col10, #T_9bb49_row3_col11, #T_9bb49_row4_col10, #T_9bb49_row4_col11, #T_9bb49_row6_col1, #T_9bb49_row6_col2, #T_9bb49_row10_col1, #T_9bb49_row10_col2, #T_9bb49_row11_col1, #T_9bb49_row11_col2, #T_9bb49_row12_col1, #T_9bb49_row12_col2, #T_9bb49_row12_col10, #T_9bb49_row12_col11, #T_9bb49_row13_col1, #T_9bb49_row13_col2, #T_9bb49_row14_col1, #T_9bb49_row14_col2, #T_9bb49_row15_col10, #T_9bb49_row15_col11, #T_9bb49_row16_col1, #T_9bb49_row16_col2, #T_9bb49_row16_col10, #T_9bb49_row16_col11, #T_9bb49_row17_col10, #T_9bb49_row18_col1, #T_9bb49_row18_col4, #T_9bb49_row18_col5, #T_9bb49_row19_col2, #T_9bb49_row19_col5, #T_9bb49_row20_col2, #T_9bb49_row22_col1, #T_9bb49_row22_col2, #T_9bb49_row23_col1, #T_9bb49_row23_col2, #T_9bb49_row23_col4, #T_9bb49_row23_col5, #T_9bb49_row24_col1, #T_9bb49_row24_col10, #T_9bb49_row24_col11, #T_9bb49_row25_col11, #T_9bb49_row26_col2, #T_9bb49_row28_col1, #T_9bb49_row28_col2, #T_9bb49_row29_col1, #T_9bb49_row29_col2, #T_9bb49_row31_col10, #T_9bb49_row32_col2, #T_9bb49_row32_col10, #T_9bb49_row32_col11, #T_9bb49_row33_col1, #T_9bb49_row33_col2, #T_9bb49_row34_col2, #T_9bb49_row37_col5, #T_9bb49_row39_col7, #T_9bb49_row41_col1, #T_9bb49_row41_col2, #T_9bb49_row41_col10, #T_9bb49_row44_col1, #T_9bb49_row44_col2, #T_9bb49_row44_col4, #T_9bb49_row44_col5, #T_9bb49_row45_col1, #T_9bb49_row45_col2, #T_9bb49_row45_col10, #T_9bb49_row45_col11, #T_9bb49_row46_col1, #T_9bb49_row46_col11, #T_9bb49_row47_col1, #T_9bb49_row47_col2, #T_9bb49_row49_col1, #T_9bb49_row49_col2, #T_9bb49_row50_col1, #T_9bb49_row50_col2, #T_9bb49_row51_col1, #T_9bb49_row51_col2, #T_9bb49_row55_col1, #T_9bb49_row56_col10, #T_9bb49_row56_col11, #T_9bb49_row57_col11 {\n",
       "  color: black;\n",
       "  align: right;\n",
       "  background-color: white;\n",
       "  color: orange;\n",
       "  font-weight: bold;\n",
       "}\n",
       "#T_9bb49_row0_col4, #T_9bb49_row0_col5, #T_9bb49_row1_col1, #T_9bb49_row1_col2, #T_9bb49_row1_col4, #T_9bb49_row1_col5, #T_9bb49_row2_col1, #T_9bb49_row2_col2, #T_9bb49_row2_col4, #T_9bb49_row2_col5, #T_9bb49_row2_col10, #T_9bb49_row2_col11, #T_9bb49_row3_col1, #T_9bb49_row3_col2, #T_9bb49_row3_col4, #T_9bb49_row3_col5, #T_9bb49_row4_col1, #T_9bb49_row4_col2, #T_9bb49_row4_col4, #T_9bb49_row4_col5, #T_9bb49_row5_col1, #T_9bb49_row5_col2, #T_9bb49_row5_col4, #T_9bb49_row5_col5, #T_9bb49_row5_col10, #T_9bb49_row5_col11, #T_9bb49_row6_col4, #T_9bb49_row6_col5, #T_9bb49_row6_col10, #T_9bb49_row6_col11, #T_9bb49_row7_col1, #T_9bb49_row7_col2, #T_9bb49_row7_col4, #T_9bb49_row7_col5, #T_9bb49_row7_col10, #T_9bb49_row7_col11, #T_9bb49_row8_col1, #T_9bb49_row8_col2, #T_9bb49_row8_col4, #T_9bb49_row8_col5, #T_9bb49_row9_col1, #T_9bb49_row9_col2, #T_9bb49_row9_col4, #T_9bb49_row9_col5, #T_9bb49_row10_col4, #T_9bb49_row10_col5, #T_9bb49_row11_col4, #T_9bb49_row11_col5, #T_9bb49_row11_col10, #T_9bb49_row11_col11, #T_9bb49_row12_col4, #T_9bb49_row12_col5, #T_9bb49_row13_col4, #T_9bb49_row13_col5, #T_9bb49_row13_col10, #T_9bb49_row13_col11, #T_9bb49_row14_col4, #T_9bb49_row14_col5, #T_9bb49_row14_col10, #T_9bb49_row14_col11, #T_9bb49_row15_col4, #T_9bb49_row15_col5, #T_9bb49_row16_col4, #T_9bb49_row16_col5, #T_9bb49_row17_col1, #T_9bb49_row17_col2, #T_9bb49_row17_col4, #T_9bb49_row17_col5, #T_9bb49_row18_col2, #T_9bb49_row19_col1, #T_9bb49_row19_col4, #T_9bb49_row19_col10, #T_9bb49_row24_col2, #T_9bb49_row24_col4, #T_9bb49_row24_col5, #T_9bb49_row25_col5, #T_9bb49_row26_col1, #T_9bb49_row26_col4, #T_9bb49_row26_col5, #T_9bb49_row26_col10, #T_9bb49_row26_col11, #T_9bb49_row28_col4, #T_9bb49_row28_col5, #T_9bb49_row29_col4, #T_9bb49_row29_col5, #T_9bb49_row31_col1, #T_9bb49_row31_col2, #T_9bb49_row31_col4, #T_9bb49_row31_col5, #T_9bb49_row31_col11, #T_9bb49_row32_col4, #T_9bb49_row32_col5, #T_9bb49_row33_col4, #T_9bb49_row34_col4, #T_9bb49_row34_col5, #T_9bb49_row34_col10, #T_9bb49_row34_col11, #T_9bb49_row39_col2, #T_9bb49_row39_col4, #T_9bb49_row39_col5, #T_9bb49_row39_col10, #T_9bb49_row39_col11, #T_9bb49_row41_col4, #T_9bb49_row41_col5, #T_9bb49_row41_col11, #T_9bb49_row45_col4, #T_9bb49_row45_col5, #T_9bb49_row46_col4, #T_9bb49_row46_col5, #T_9bb49_row46_col10, #T_9bb49_row47_col5, #T_9bb49_row47_col11, #T_9bb49_row48_col4, #T_9bb49_row48_col10, #T_9bb49_row49_col4, #T_9bb49_row49_col5, #T_9bb49_row49_col10, #T_9bb49_row49_col11, #T_9bb49_row50_col4, #T_9bb49_row50_col5, #T_9bb49_row50_col10, #T_9bb49_row50_col11, #T_9bb49_row51_col4, #T_9bb49_row51_col5, #T_9bb49_row51_col10, #T_9bb49_row51_col11, #T_9bb49_row53_col4, #T_9bb49_row53_col5, #T_9bb49_row53_col10, #T_9bb49_row53_col11, #T_9bb49_row54_col1, #T_9bb49_row54_col2, #T_9bb49_row54_col4, #T_9bb49_row54_col5, #T_9bb49_row54_col11, #T_9bb49_row55_col2, #T_9bb49_row55_col4, #T_9bb49_row55_col5, #T_9bb49_row55_col10, #T_9bb49_row56_col1, #T_9bb49_row56_col2, #T_9bb49_row56_col4, #T_9bb49_row56_col5, #T_9bb49_row57_col1, #T_9bb49_row57_col2, #T_9bb49_row57_col4, #T_9bb49_row57_col5, #T_9bb49_row57_col10, #T_9bb49_row58_col1, #T_9bb49_row58_col2, #T_9bb49_row58_col5, #T_9bb49_row58_col11 {\n",
       "  color: black;\n",
       "  align: right;\n",
       "  background-color: white;\n",
       "  color: orange;\n",
       "  color: red;\n",
       "  font-weight: bold;\n",
       "}\n",
       "#T_9bb49_row0_col7, #T_9bb49_row3_col7, #T_9bb49_row3_col8, #T_9bb49_row4_col7, #T_9bb49_row4_col8, #T_9bb49_row8_col7, #T_9bb49_row8_col8, #T_9bb49_row9_col7, #T_9bb49_row9_col8, #T_9bb49_row15_col8, #T_9bb49_row18_col7, #T_9bb49_row18_col8, #T_9bb49_row20_col7, #T_9bb49_row20_col8, #T_9bb49_row20_col11, #T_9bb49_row21_col4, #T_9bb49_row21_col7, #T_9bb49_row21_col8, #T_9bb49_row22_col4, #T_9bb49_row22_col7, #T_9bb49_row22_col8, #T_9bb49_row22_col10, #T_9bb49_row22_col11, #T_9bb49_row23_col7, #T_9bb49_row23_col8, #T_9bb49_row25_col7, #T_9bb49_row25_col8, #T_9bb49_row27_col1, #T_9bb49_row27_col2, #T_9bb49_row27_col7, #T_9bb49_row27_col8, #T_9bb49_row27_col11, #T_9bb49_row28_col7, #T_9bb49_row28_col8, #T_9bb49_row29_col7, #T_9bb49_row29_col8, #T_9bb49_row30_col7, #T_9bb49_row30_col8, #T_9bb49_row33_col7, #T_9bb49_row33_col8, #T_9bb49_row35_col7, #T_9bb49_row35_col8, #T_9bb49_row35_col10, #T_9bb49_row36_col1, #T_9bb49_row36_col7, #T_9bb49_row36_col8, #T_9bb49_row36_col10, #T_9bb49_row36_col11, #T_9bb49_row37_col4, #T_9bb49_row37_col7, #T_9bb49_row38_col7, #T_9bb49_row38_col8, #T_9bb49_row40_col2, #T_9bb49_row40_col7, #T_9bb49_row40_col8, #T_9bb49_row42_col7, #T_9bb49_row42_col8, #T_9bb49_row42_col10, #T_9bb49_row42_col11, #T_9bb49_row43_col1, #T_9bb49_row43_col2, #T_9bb49_row43_col7, #T_9bb49_row43_col8, #T_9bb49_row44_col7, #T_9bb49_row44_col8, #T_9bb49_row47_col4, #T_9bb49_row47_col7, #T_9bb49_row47_col10, #T_9bb49_row48_col8, #T_9bb49_row52_col7, #T_9bb49_row52_col8, #T_9bb49_row54_col7, #T_9bb49_row57_col7, #T_9bb49_row57_col8, #T_9bb49_row58_col4 {\n",
       "  color: black;\n",
       "  align: right;\n",
       "  background-color: white;\n",
       "  color: orange;\n",
       "}\n",
       "#T_9bb49_row8_col10, #T_9bb49_row8_col11, #T_9bb49_row10_col10, #T_9bb49_row10_col11, #T_9bb49_row15_col1, #T_9bb49_row15_col2, #T_9bb49_row17_col7, #T_9bb49_row17_col11, #T_9bb49_row19_col7, #T_9bb49_row19_col11, #T_9bb49_row20_col1, #T_9bb49_row20_col4, #T_9bb49_row21_col1, #T_9bb49_row21_col2, #T_9bb49_row21_col5, #T_9bb49_row21_col11, #T_9bb49_row23_col10, #T_9bb49_row24_col8, #T_9bb49_row25_col10, #T_9bb49_row27_col10, #T_9bb49_row28_col10, #T_9bb49_row28_col11, #T_9bb49_row29_col10, #T_9bb49_row29_col11, #T_9bb49_row30_col1, #T_9bb49_row30_col5, #T_9bb49_row30_col11, #T_9bb49_row31_col8, #T_9bb49_row32_col1, #T_9bb49_row33_col5, #T_9bb49_row33_col10, #T_9bb49_row34_col1, #T_9bb49_row34_col7, #T_9bb49_row37_col10, #T_9bb49_row37_col11, #T_9bb49_row39_col1, #T_9bb49_row39_col8, #T_9bb49_row44_col10, #T_9bb49_row44_col11, #T_9bb49_row46_col2, #T_9bb49_row48_col1, #T_9bb49_row48_col2, #T_9bb49_row48_col7, #T_9bb49_row52_col4, #T_9bb49_row52_col5, #T_9bb49_row52_col10, #T_9bb49_row52_col11, #T_9bb49_row54_col10, #T_9bb49_row55_col11 {\n",
       "  color: black;\n",
       "  align: right;\n",
       "  background-color: white;\n",
       "  font-weight: bold;\n",
       "}\n",
       "#T_9bb49_row22_col5, #T_9bb49_row27_col5, #T_9bb49_row35_col2, #T_9bb49_row35_col4, #T_9bb49_row35_col5, #T_9bb49_row36_col2, #T_9bb49_row36_col4, #T_9bb49_row36_col5, #T_9bb49_row37_col1, #T_9bb49_row38_col1, #T_9bb49_row38_col2, #T_9bb49_row38_col4, #T_9bb49_row38_col5, #T_9bb49_row40_col4, #T_9bb49_row40_col5, #T_9bb49_row40_col11, #T_9bb49_row42_col4, #T_9bb49_row42_col5, #T_9bb49_row43_col4, #T_9bb49_row43_col5, #T_9bb49_row48_col5, #T_9bb49_row48_col11, #T_9bb49_row55_col8, #T_9bb49_row58_col7, #T_9bb49_row58_col10 {\n",
       "  color: black;\n",
       "  align: right;\n",
       "  background-color: white;\n",
       "  color: orange;\n",
       "  color: red;\n",
       "}\n",
       "</style>\n",
       "<table id=\"T_9bb49\">\n",
       "  <thead>\n",
       "    <tr>\n",
       "      <th class=\"blank level0\" >&nbsp;</th>\n",
       "      <th id=\"T_9bb49_level0_col0\" class=\"col_heading level0 col0\" colspan=\"3\">EO</th>\n",
       "      <th id=\"T_9bb49_level0_col3\" class=\"col_heading level0 col3\" colspan=\"3\">PE</th>\n",
       "      <th id=\"T_9bb49_level0_col6\" class=\"col_heading level0 col6\" colspan=\"3\">PP</th>\n",
       "      <th id=\"T_9bb49_level0_col9\" class=\"col_heading level0 col9\" colspan=\"3\">SA</th>\n",
       "    </tr>\n",
       "    <tr>\n",
       "      <th class=\"index_name level1\" >model</th>\n",
       "      <th id=\"T_9bb49_level1_col0\" class=\"col_heading level1 col0\" >DL</th>\n",
       "      <th id=\"T_9bb49_level1_col1\" class=\"col_heading level1 col1\" >DTE</th>\n",
       "      <th id=\"T_9bb49_level1_col2\" class=\"col_heading level1 col2\" >KNN</th>\n",
       "      <th id=\"T_9bb49_level1_col3\" class=\"col_heading level1 col3\" >DL</th>\n",
       "      <th id=\"T_9bb49_level1_col4\" class=\"col_heading level1 col4\" >DTE</th>\n",
       "      <th id=\"T_9bb49_level1_col5\" class=\"col_heading level1 col5\" >KNN</th>\n",
       "      <th id=\"T_9bb49_level1_col6\" class=\"col_heading level1 col6\" >DL</th>\n",
       "      <th id=\"T_9bb49_level1_col7\" class=\"col_heading level1 col7\" >DTE</th>\n",
       "      <th id=\"T_9bb49_level1_col8\" class=\"col_heading level1 col8\" >KNN</th>\n",
       "      <th id=\"T_9bb49_level1_col9\" class=\"col_heading level1 col9\" >DL</th>\n",
       "      <th id=\"T_9bb49_level1_col10\" class=\"col_heading level1 col10\" >DTE</th>\n",
       "      <th id=\"T_9bb49_level1_col11\" class=\"col_heading level1 col11\" >KNN</th>\n",
       "    </tr>\n",
       "    <tr>\n",
       "      <th class=\"index_name level0\" >Sentence</th>\n",
       "      <th class=\"blank col0\" >&nbsp;</th>\n",
       "      <th class=\"blank col1\" >&nbsp;</th>\n",
       "      <th class=\"blank col2\" >&nbsp;</th>\n",
       "      <th class=\"blank col3\" >&nbsp;</th>\n",
       "      <th class=\"blank col4\" >&nbsp;</th>\n",
       "      <th class=\"blank col5\" >&nbsp;</th>\n",
       "      <th class=\"blank col6\" >&nbsp;</th>\n",
       "      <th class=\"blank col7\" >&nbsp;</th>\n",
       "      <th class=\"blank col8\" >&nbsp;</th>\n",
       "      <th class=\"blank col9\" >&nbsp;</th>\n",
       "      <th class=\"blank col10\" >&nbsp;</th>\n",
       "      <th class=\"blank col11\" >&nbsp;</th>\n",
       "    </tr>\n",
       "  </thead>\n",
       "  <tbody>\n",
       "    <tr>\n",
       "      <th id=\"T_9bb49_level0_row0\" class=\"row_heading level0 row0\" >2</th>\n",
       "      <td id=\"T_9bb49_row0_col0\" class=\"data row0 col0\" >0.000000</td>\n",
       "      <td id=\"T_9bb49_row0_col1\" class=\"data row0 col1\" >-0.047051</td>\n",
       "      <td id=\"T_9bb49_row0_col2\" class=\"data row0 col2\" >-0.048091</td>\n",
       "      <td id=\"T_9bb49_row0_col3\" class=\"data row0 col3\" >0.000000</td>\n",
       "      <td id=\"T_9bb49_row0_col4\" class=\"data row0 col4\" >-0.116458</td>\n",
       "      <td id=\"T_9bb49_row0_col5\" class=\"data row0 col5\" >-0.140018</td>\n",
       "      <td id=\"T_9bb49_row0_col6\" class=\"data row0 col6\" >0.000000</td>\n",
       "      <td id=\"T_9bb49_row0_col7\" class=\"data row0 col7\" >0.022572</td>\n",
       "      <td id=\"T_9bb49_row0_col8\" class=\"data row0 col8\" >0.017015</td>\n",
       "      <td id=\"T_9bb49_row0_col9\" class=\"data row0 col9\" >0.000000</td>\n",
       "      <td id=\"T_9bb49_row0_col10\" class=\"data row0 col10\" >-0.034704</td>\n",
       "      <td id=\"T_9bb49_row0_col11\" class=\"data row0 col11\" >-0.045963</td>\n",
       "    </tr>\n",
       "    <tr>\n",
       "      <th id=\"T_9bb49_level0_row1\" class=\"row_heading level0 row1\" >3</th>\n",
       "      <td id=\"T_9bb49_row1_col0\" class=\"data row1 col0\" >0.000000</td>\n",
       "      <td id=\"T_9bb49_row1_col1\" class=\"data row1 col1\" >-0.166465</td>\n",
       "      <td id=\"T_9bb49_row1_col2\" class=\"data row1 col2\" >-0.166465</td>\n",
       "      <td id=\"T_9bb49_row1_col3\" class=\"data row1 col3\" >0.000000</td>\n",
       "      <td id=\"T_9bb49_row1_col4\" class=\"data row1 col4\" >-0.242491</td>\n",
       "      <td id=\"T_9bb49_row1_col5\" class=\"data row1 col5\" >-0.242491</td>\n",
       "      <td id=\"T_9bb49_row1_col6\" class=\"data row1 col6\" >0.000000</td>\n",
       "      <td id=\"T_9bb49_row1_col7\" class=\"data row1 col7\" >0.003879</td>\n",
       "      <td id=\"T_9bb49_row1_col8\" class=\"data row1 col8\" >0.003879</td>\n",
       "      <td id=\"T_9bb49_row1_col9\" class=\"data row1 col9\" >0.000000</td>\n",
       "      <td id=\"T_9bb49_row1_col10\" class=\"data row1 col10\" >-0.038013</td>\n",
       "      <td id=\"T_9bb49_row1_col11\" class=\"data row1 col11\" >-0.038013</td>\n",
       "    </tr>\n",
       "    <tr>\n",
       "      <th id=\"T_9bb49_level0_row2\" class=\"row_heading level0 row2\" >4</th>\n",
       "      <td id=\"T_9bb49_row2_col0\" class=\"data row2 col0\" >0.000000</td>\n",
       "      <td id=\"T_9bb49_row2_col1\" class=\"data row2 col1\" >-0.056886</td>\n",
       "      <td id=\"T_9bb49_row2_col2\" class=\"data row2 col2\" >-0.057132</td>\n",
       "      <td id=\"T_9bb49_row2_col3\" class=\"data row2 col3\" >0.000000</td>\n",
       "      <td id=\"T_9bb49_row2_col4\" class=\"data row2 col4\" >-0.198158</td>\n",
       "      <td id=\"T_9bb49_row2_col5\" class=\"data row2 col5\" >-0.225149</td>\n",
       "      <td id=\"T_9bb49_row2_col6\" class=\"data row2 col6\" >0.000000</td>\n",
       "      <td id=\"T_9bb49_row2_col7\" class=\"data row2 col7\" >0.015003</td>\n",
       "      <td id=\"T_9bb49_row2_col8\" class=\"data row2 col8\" >0.009944</td>\n",
       "      <td id=\"T_9bb49_row2_col9\" class=\"data row2 col9\" >0.000000</td>\n",
       "      <td id=\"T_9bb49_row2_col10\" class=\"data row2 col10\" >-0.070636</td>\n",
       "      <td id=\"T_9bb49_row2_col11\" class=\"data row2 col11\" >-0.084009</td>\n",
       "    </tr>\n",
       "    <tr>\n",
       "      <th id=\"T_9bb49_level0_row3\" class=\"row_heading level0 row3\" >5</th>\n",
       "      <td id=\"T_9bb49_row3_col0\" class=\"data row3 col0\" >0.000000</td>\n",
       "      <td id=\"T_9bb49_row3_col1\" class=\"data row3 col1\" >-0.056671</td>\n",
       "      <td id=\"T_9bb49_row3_col2\" class=\"data row3 col2\" >-0.056000</td>\n",
       "      <td id=\"T_9bb49_row3_col3\" class=\"data row3 col3\" >0.000000</td>\n",
       "      <td id=\"T_9bb49_row3_col4\" class=\"data row3 col4\" >-0.134199</td>\n",
       "      <td id=\"T_9bb49_row3_col5\" class=\"data row3 col5\" >-0.138161</td>\n",
       "      <td id=\"T_9bb49_row3_col6\" class=\"data row3 col6\" >0.000000</td>\n",
       "      <td id=\"T_9bb49_row3_col7\" class=\"data row3 col7\" >0.021111</td>\n",
       "      <td id=\"T_9bb49_row3_col8\" class=\"data row3 col8\" >0.020946</td>\n",
       "      <td id=\"T_9bb49_row3_col9\" class=\"data row3 col9\" >0.000000</td>\n",
       "      <td id=\"T_9bb49_row3_col10\" class=\"data row3 col10\" >-0.038764</td>\n",
       "      <td id=\"T_9bb49_row3_col11\" class=\"data row3 col11\" >-0.041081</td>\n",
       "    </tr>\n",
       "    <tr>\n",
       "      <th id=\"T_9bb49_level0_row4\" class=\"row_heading level0 row4\" >6</th>\n",
       "      <td id=\"T_9bb49_row4_col0\" class=\"data row4 col0\" >0.000000</td>\n",
       "      <td id=\"T_9bb49_row4_col1\" class=\"data row4 col1\" >-0.051332</td>\n",
       "      <td id=\"T_9bb49_row4_col2\" class=\"data row4 col2\" >-0.053120</td>\n",
       "      <td id=\"T_9bb49_row4_col3\" class=\"data row4 col3\" >0.000000</td>\n",
       "      <td id=\"T_9bb49_row4_col4\" class=\"data row4 col4\" >-0.098086</td>\n",
       "      <td id=\"T_9bb49_row4_col5\" class=\"data row4 col5\" >-0.099837</td>\n",
       "      <td id=\"T_9bb49_row4_col6\" class=\"data row4 col6\" >0.000000</td>\n",
       "      <td id=\"T_9bb49_row4_col7\" class=\"data row4 col7\" >0.020790</td>\n",
       "      <td id=\"T_9bb49_row4_col8\" class=\"data row4 col8\" >0.020802</td>\n",
       "      <td id=\"T_9bb49_row4_col9\" class=\"data row4 col9\" >0.000000</td>\n",
       "      <td id=\"T_9bb49_row4_col10\" class=\"data row4 col10\" >-0.023377</td>\n",
       "      <td id=\"T_9bb49_row4_col11\" class=\"data row4 col11\" >-0.023359</td>\n",
       "    </tr>\n",
       "    <tr>\n",
       "      <th id=\"T_9bb49_level0_row5\" class=\"row_heading level0 row5\" >7</th>\n",
       "      <td id=\"T_9bb49_row5_col0\" class=\"data row5 col0\" >0.000000</td>\n",
       "      <td id=\"T_9bb49_row5_col1\" class=\"data row5 col1\" >-0.054793</td>\n",
       "      <td id=\"T_9bb49_row5_col2\" class=\"data row5 col2\" >-0.061490</td>\n",
       "      <td id=\"T_9bb49_row5_col3\" class=\"data row5 col3\" >0.000000</td>\n",
       "      <td id=\"T_9bb49_row5_col4\" class=\"data row5 col4\" >-0.252005</td>\n",
       "      <td id=\"T_9bb49_row5_col5\" class=\"data row5 col5\" >-0.243813</td>\n",
       "      <td id=\"T_9bb49_row5_col6\" class=\"data row5 col6\" >0.000000</td>\n",
       "      <td id=\"T_9bb49_row5_col7\" class=\"data row5 col7\" >0.008808</td>\n",
       "      <td id=\"T_9bb49_row5_col8\" class=\"data row5 col8\" >0.010011</td>\n",
       "      <td id=\"T_9bb49_row5_col9\" class=\"data row5 col9\" >0.000000</td>\n",
       "      <td id=\"T_9bb49_row5_col10\" class=\"data row5 col10\" >-0.098606</td>\n",
       "      <td id=\"T_9bb49_row5_col11\" class=\"data row5 col11\" >-0.091161</td>\n",
       "    </tr>\n",
       "    <tr>\n",
       "      <th id=\"T_9bb49_level0_row6\" class=\"row_heading level0 row6\" >8</th>\n",
       "      <td id=\"T_9bb49_row6_col0\" class=\"data row6 col0\" >0.000000</td>\n",
       "      <td id=\"T_9bb49_row6_col1\" class=\"data row6 col1\" >-0.032204</td>\n",
       "      <td id=\"T_9bb49_row6_col2\" class=\"data row6 col2\" >-0.031437</td>\n",
       "      <td id=\"T_9bb49_row6_col3\" class=\"data row6 col3\" >0.000000</td>\n",
       "      <td id=\"T_9bb49_row6_col4\" class=\"data row6 col4\" >-0.168702</td>\n",
       "      <td id=\"T_9bb49_row6_col5\" class=\"data row6 col5\" >-0.166107</td>\n",
       "      <td id=\"T_9bb49_row6_col6\" class=\"data row6 col6\" >0.000000</td>\n",
       "      <td id=\"T_9bb49_row6_col7\" class=\"data row6 col7\" >0.016096</td>\n",
       "      <td id=\"T_9bb49_row6_col8\" class=\"data row6 col8\" >0.016559</td>\n",
       "      <td id=\"T_9bb49_row6_col9\" class=\"data row6 col9\" >0.000000</td>\n",
       "      <td id=\"T_9bb49_row6_col10\" class=\"data row6 col10\" >-0.068249</td>\n",
       "      <td id=\"T_9bb49_row6_col11\" class=\"data row6 col11\" >-0.067335</td>\n",
       "    </tr>\n",
       "    <tr>\n",
       "      <th id=\"T_9bb49_level0_row7\" class=\"row_heading level0 row7\" >9</th>\n",
       "      <td id=\"T_9bb49_row7_col0\" class=\"data row7 col0\" >0.000000</td>\n",
       "      <td id=\"T_9bb49_row7_col1\" class=\"data row7 col1\" >-0.051098</td>\n",
       "      <td id=\"T_9bb49_row7_col2\" class=\"data row7 col2\" >-0.051098</td>\n",
       "      <td id=\"T_9bb49_row7_col3\" class=\"data row7 col3\" >0.000000</td>\n",
       "      <td id=\"T_9bb49_row7_col4\" class=\"data row7 col4\" >-0.180384</td>\n",
       "      <td id=\"T_9bb49_row7_col5\" class=\"data row7 col5\" >-0.180384</td>\n",
       "      <td id=\"T_9bb49_row7_col6\" class=\"data row7 col6\" >0.000000</td>\n",
       "      <td id=\"T_9bb49_row7_col7\" class=\"data row7 col7\" >0.011690</td>\n",
       "      <td id=\"T_9bb49_row7_col8\" class=\"data row7 col8\" >0.011690</td>\n",
       "      <td id=\"T_9bb49_row7_col9\" class=\"data row7 col9\" >0.000000</td>\n",
       "      <td id=\"T_9bb49_row7_col10\" class=\"data row7 col10\" >-0.064643</td>\n",
       "      <td id=\"T_9bb49_row7_col11\" class=\"data row7 col11\" >-0.064643</td>\n",
       "    </tr>\n",
       "    <tr>\n",
       "      <th id=\"T_9bb49_level0_row8\" class=\"row_heading level0 row8\" >10</th>\n",
       "      <td id=\"T_9bb49_row8_col0\" class=\"data row8 col0\" >0.000000</td>\n",
       "      <td id=\"T_9bb49_row8_col1\" class=\"data row8 col1\" >-0.054939</td>\n",
       "      <td id=\"T_9bb49_row8_col2\" class=\"data row8 col2\" >-0.054939</td>\n",
       "      <td id=\"T_9bb49_row8_col3\" class=\"data row8 col3\" >0.000000</td>\n",
       "      <td id=\"T_9bb49_row8_col4\" class=\"data row8 col4\" >-0.091905</td>\n",
       "      <td id=\"T_9bb49_row8_col5\" class=\"data row8 col5\" >-0.091905</td>\n",
       "      <td id=\"T_9bb49_row8_col6\" class=\"data row8 col6\" >0.000000</td>\n",
       "      <td id=\"T_9bb49_row8_col7\" class=\"data row8 col7\" >0.021980</td>\n",
       "      <td id=\"T_9bb49_row8_col8\" class=\"data row8 col8\" >0.021980</td>\n",
       "      <td id=\"T_9bb49_row8_col9\" class=\"data row8 col9\" >0.000000</td>\n",
       "      <td id=\"T_9bb49_row8_col10\" class=\"data row8 col10\" >-0.018483</td>\n",
       "      <td id=\"T_9bb49_row8_col11\" class=\"data row8 col11\" >-0.018483</td>\n",
       "    </tr>\n",
       "    <tr>\n",
       "      <th id=\"T_9bb49_level0_row9\" class=\"row_heading level0 row9\" >11</th>\n",
       "      <td id=\"T_9bb49_row9_col0\" class=\"data row9 col0\" >0.000000</td>\n",
       "      <td id=\"T_9bb49_row9_col1\" class=\"data row9 col1\" >-0.071016</td>\n",
       "      <td id=\"T_9bb49_row9_col2\" class=\"data row9 col2\" >-0.071314</td>\n",
       "      <td id=\"T_9bb49_row9_col3\" class=\"data row9 col3\" >0.000000</td>\n",
       "      <td id=\"T_9bb49_row9_col4\" class=\"data row9 col4\" >-0.069580</td>\n",
       "      <td id=\"T_9bb49_row9_col5\" class=\"data row9 col5\" >-0.062707</td>\n",
       "      <td id=\"T_9bb49_row9_col6\" class=\"data row9 col6\" >0.000000</td>\n",
       "      <td id=\"T_9bb49_row9_col7\" class=\"data row9 col7\" >0.020761</td>\n",
       "      <td id=\"T_9bb49_row9_col8\" class=\"data row9 col8\" >0.021539</td>\n",
       "      <td id=\"T_9bb49_row9_col9\" class=\"data row9 col9\" >0.000000</td>\n",
       "      <td id=\"T_9bb49_row9_col10\" class=\"data row9 col10\" >0.000718</td>\n",
       "      <td id=\"T_9bb49_row9_col11\" class=\"data row9 col11\" >0.004304</td>\n",
       "    </tr>\n",
       "    <tr>\n",
       "      <th id=\"T_9bb49_level0_row10\" class=\"row_heading level0 row10\" >12</th>\n",
       "      <td id=\"T_9bb49_row10_col0\" class=\"data row10 col0\" >0.000000</td>\n",
       "      <td id=\"T_9bb49_row10_col1\" class=\"data row10 col1\" >-0.039443</td>\n",
       "      <td id=\"T_9bb49_row10_col2\" class=\"data row10 col2\" >-0.038912</td>\n",
       "      <td id=\"T_9bb49_row10_col3\" class=\"data row10 col3\" >0.000000</td>\n",
       "      <td id=\"T_9bb49_row10_col4\" class=\"data row10 col4\" >-0.059148</td>\n",
       "      <td id=\"T_9bb49_row10_col5\" class=\"data row10 col5\" >-0.064503</td>\n",
       "      <td id=\"T_9bb49_row10_col6\" class=\"data row10 col6\" >0.000000</td>\n",
       "      <td id=\"T_9bb49_row10_col7\" class=\"data row10 col7\" >0.016559</td>\n",
       "      <td id=\"T_9bb49_row10_col8\" class=\"data row10 col8\" >0.015147</td>\n",
       "      <td id=\"T_9bb49_row10_col9\" class=\"data row10 col9\" >0.000000</td>\n",
       "      <td id=\"T_9bb49_row10_col10\" class=\"data row10 col10\" >-0.009853</td>\n",
       "      <td id=\"T_9bb49_row10_col11\" class=\"data row10 col11\" >-0.012795</td>\n",
       "    </tr>\n",
       "    <tr>\n",
       "      <th id=\"T_9bb49_level0_row11\" class=\"row_heading level0 row11\" >13</th>\n",
       "      <td id=\"T_9bb49_row11_col0\" class=\"data row11 col0\" >0.000000</td>\n",
       "      <td id=\"T_9bb49_row11_col1\" class=\"data row11 col1\" >-0.044592</td>\n",
       "      <td id=\"T_9bb49_row11_col2\" class=\"data row11 col2\" >-0.045460</td>\n",
       "      <td id=\"T_9bb49_row11_col3\" class=\"data row11 col3\" >0.000000</td>\n",
       "      <td id=\"T_9bb49_row11_col4\" class=\"data row11 col4\" >-0.241604</td>\n",
       "      <td id=\"T_9bb49_row11_col5\" class=\"data row11 col5\" >-0.237592</td>\n",
       "      <td id=\"T_9bb49_row11_col6\" class=\"data row11 col6\" >0.000000</td>\n",
       "      <td id=\"T_9bb49_row11_col7\" class=\"data row11 col7\" >0.000956</td>\n",
       "      <td id=\"T_9bb49_row11_col8\" class=\"data row11 col8\" >0.001290</td>\n",
       "      <td id=\"T_9bb49_row11_col9\" class=\"data row11 col9\" >0.000000</td>\n",
       "      <td id=\"T_9bb49_row11_col10\" class=\"data row11 col10\" >-0.098506</td>\n",
       "      <td id=\"T_9bb49_row11_col11\" class=\"data row11 col11\" >-0.096066</td>\n",
       "    </tr>\n",
       "    <tr>\n",
       "      <th id=\"T_9bb49_level0_row12\" class=\"row_heading level0 row12\" >14</th>\n",
       "      <td id=\"T_9bb49_row12_col0\" class=\"data row12 col0\" >0.000000</td>\n",
       "      <td id=\"T_9bb49_row12_col1\" class=\"data row12 col1\" >-0.033732</td>\n",
       "      <td id=\"T_9bb49_row12_col2\" class=\"data row12 col2\" >-0.033407</td>\n",
       "      <td id=\"T_9bb49_row12_col3\" class=\"data row12 col3\" >0.000000</td>\n",
       "      <td id=\"T_9bb49_row12_col4\" class=\"data row12 col4\" >-0.132005</td>\n",
       "      <td id=\"T_9bb49_row12_col5\" class=\"data row12 col5\" >-0.126449</td>\n",
       "      <td id=\"T_9bb49_row12_col6\" class=\"data row12 col6\" >0.000000</td>\n",
       "      <td id=\"T_9bb49_row12_col7\" class=\"data row12 col7\" >0.014336</td>\n",
       "      <td id=\"T_9bb49_row12_col8\" class=\"data row12 col8\" >0.015159</td>\n",
       "      <td id=\"T_9bb49_row12_col9\" class=\"data row12 col9\" >0.000000</td>\n",
       "      <td id=\"T_9bb49_row12_col10\" class=\"data row12 col10\" >-0.049136</td>\n",
       "      <td id=\"T_9bb49_row12_col11\" class=\"data row12 col11\" >-0.046521</td>\n",
       "    </tr>\n",
       "    <tr>\n",
       "      <th id=\"T_9bb49_level0_row13\" class=\"row_heading level0 row13\" >15</th>\n",
       "      <td id=\"T_9bb49_row13_col0\" class=\"data row13 col0\" >0.000000</td>\n",
       "      <td id=\"T_9bb49_row13_col1\" class=\"data row13 col1\" >-0.031107</td>\n",
       "      <td id=\"T_9bb49_row13_col2\" class=\"data row13 col2\" >-0.031107</td>\n",
       "      <td id=\"T_9bb49_row13_col3\" class=\"data row13 col3\" >0.000000</td>\n",
       "      <td id=\"T_9bb49_row13_col4\" class=\"data row13 col4\" >-0.153583</td>\n",
       "      <td id=\"T_9bb49_row13_col5\" class=\"data row13 col5\" >-0.153583</td>\n",
       "      <td id=\"T_9bb49_row13_col6\" class=\"data row13 col6\" >0.000000</td>\n",
       "      <td id=\"T_9bb49_row13_col7\" class=\"data row13 col7\" >0.003567</td>\n",
       "      <td id=\"T_9bb49_row13_col8\" class=\"data row13 col8\" >0.003567</td>\n",
       "      <td id=\"T_9bb49_row13_col9\" class=\"data row13 col9\" >0.000000</td>\n",
       "      <td id=\"T_9bb49_row13_col10\" class=\"data row13 col10\" >-0.061238</td>\n",
       "      <td id=\"T_9bb49_row13_col11\" class=\"data row13 col11\" >-0.061238</td>\n",
       "    </tr>\n",
       "    <tr>\n",
       "      <th id=\"T_9bb49_level0_row14\" class=\"row_heading level0 row14\" >16</th>\n",
       "      <td id=\"T_9bb49_row14_col0\" class=\"data row14 col0\" >0.000000</td>\n",
       "      <td id=\"T_9bb49_row14_col1\" class=\"data row14 col1\" >-0.041406</td>\n",
       "      <td id=\"T_9bb49_row14_col2\" class=\"data row14 col2\" >-0.041406</td>\n",
       "      <td id=\"T_9bb49_row14_col3\" class=\"data row14 col3\" >0.000000</td>\n",
       "      <td id=\"T_9bb49_row14_col4\" class=\"data row14 col4\" >-0.156202</td>\n",
       "      <td id=\"T_9bb49_row14_col5\" class=\"data row14 col5\" >-0.156202</td>\n",
       "      <td id=\"T_9bb49_row14_col6\" class=\"data row14 col6\" >0.000000</td>\n",
       "      <td id=\"T_9bb49_row14_col7\" class=\"data row14 col7\" >0.006445</td>\n",
       "      <td id=\"T_9bb49_row14_col8\" class=\"data row14 col8\" >0.006445</td>\n",
       "      <td id=\"T_9bb49_row14_col9\" class=\"data row14 col9\" >0.000000</td>\n",
       "      <td id=\"T_9bb49_row14_col10\" class=\"data row14 col10\" >-0.057398</td>\n",
       "      <td id=\"T_9bb49_row14_col11\" class=\"data row14 col11\" >-0.057398</td>\n",
       "    </tr>\n",
       "    <tr>\n",
       "      <th id=\"T_9bb49_level0_row15\" class=\"row_heading level0 row15\" >17</th>\n",
       "      <td id=\"T_9bb49_row15_col0\" class=\"data row15 col0\" >0.000000</td>\n",
       "      <td id=\"T_9bb49_row15_col1\" class=\"data row15 col1\" >-0.008071</td>\n",
       "      <td id=\"T_9bb49_row15_col2\" class=\"data row15 col2\" >-0.010103</td>\n",
       "      <td id=\"T_9bb49_row15_col3\" class=\"data row15 col3\" >0.000000</td>\n",
       "      <td id=\"T_9bb49_row15_col4\" class=\"data row15 col4\" >-0.096456</td>\n",
       "      <td id=\"T_9bb49_row15_col5\" class=\"data row15 col5\" >-0.093639</td>\n",
       "      <td id=\"T_9bb49_row15_col6\" class=\"data row15 col6\" >0.000000</td>\n",
       "      <td id=\"T_9bb49_row15_col7\" class=\"data row15 col7\" >0.019994</td>\n",
       "      <td id=\"T_9bb49_row15_col8\" class=\"data row15 col8\" >0.020341</td>\n",
       "      <td id=\"T_9bb49_row15_col9\" class=\"data row15 col9\" >0.000000</td>\n",
       "      <td id=\"T_9bb49_row15_col10\" class=\"data row15 col10\" >-0.044193</td>\n",
       "      <td id=\"T_9bb49_row15_col11\" class=\"data row15 col11\" >-0.041768</td>\n",
       "    </tr>\n",
       "    <tr>\n",
       "      <th id=\"T_9bb49_level0_row16\" class=\"row_heading level0 row16\" >18</th>\n",
       "      <td id=\"T_9bb49_row16_col0\" class=\"data row16 col0\" >0.000000</td>\n",
       "      <td id=\"T_9bb49_row16_col1\" class=\"data row16 col1\" >-0.036257</td>\n",
       "      <td id=\"T_9bb49_row16_col2\" class=\"data row16 col2\" >-0.037079</td>\n",
       "      <td id=\"T_9bb49_row16_col3\" class=\"data row16 col3\" >0.000000</td>\n",
       "      <td id=\"T_9bb49_row16_col4\" class=\"data row16 col4\" >-0.098090</td>\n",
       "      <td id=\"T_9bb49_row16_col5\" class=\"data row16 col5\" >-0.123501</td>\n",
       "      <td id=\"T_9bb49_row16_col6\" class=\"data row16 col6\" >0.000000</td>\n",
       "      <td id=\"T_9bb49_row16_col7\" class=\"data row16 col7\" >0.016525</td>\n",
       "      <td id=\"T_9bb49_row16_col8\" class=\"data row16 col8\" >0.015280</td>\n",
       "      <td id=\"T_9bb49_row16_col9\" class=\"data row16 col9\" >0.000000</td>\n",
       "      <td id=\"T_9bb49_row16_col10\" class=\"data row16 col10\" >-0.030917</td>\n",
       "      <td id=\"T_9bb49_row16_col11\" class=\"data row16 col11\" >-0.043211</td>\n",
       "    </tr>\n",
       "    <tr>\n",
       "      <th id=\"T_9bb49_level0_row17\" class=\"row_heading level0 row17\" >19</th>\n",
       "      <td id=\"T_9bb49_row17_col0\" class=\"data row17 col0\" >0.000000</td>\n",
       "      <td id=\"T_9bb49_row17_col1\" class=\"data row17 col1\" >-0.059972</td>\n",
       "      <td id=\"T_9bb49_row17_col2\" class=\"data row17 col2\" >-0.056429</td>\n",
       "      <td id=\"T_9bb49_row17_col3\" class=\"data row17 col3\" >0.000000</td>\n",
       "      <td id=\"T_9bb49_row17_col4\" class=\"data row17 col4\" >-0.126360</td>\n",
       "      <td id=\"T_9bb49_row17_col5\" class=\"data row17 col5\" >-0.079176</td>\n",
       "      <td id=\"T_9bb49_row17_col6\" class=\"data row17 col6\" >0.000000</td>\n",
       "      <td id=\"T_9bb49_row17_col7\" class=\"data row17 col7\" >-0.000364</td>\n",
       "      <td id=\"T_9bb49_row17_col8\" class=\"data row17 col8\" >0.003285</td>\n",
       "      <td id=\"T_9bb49_row17_col9\" class=\"data row17 col9\" >0.000000</td>\n",
       "      <td id=\"T_9bb49_row17_col10\" class=\"data row17 col10\" >-0.033194</td>\n",
       "      <td id=\"T_9bb49_row17_col11\" class=\"data row17 col11\" >-0.011373</td>\n",
       "    </tr>\n",
       "    <tr>\n",
       "      <th id=\"T_9bb49_level0_row18\" class=\"row_heading level0 row18\" >20</th>\n",
       "      <td id=\"T_9bb49_row18_col0\" class=\"data row18 col0\" >0.000000</td>\n",
       "      <td id=\"T_9bb49_row18_col1\" class=\"data row18 col1\" >-0.044221</td>\n",
       "      <td id=\"T_9bb49_row18_col2\" class=\"data row18 col2\" >-0.051878</td>\n",
       "      <td id=\"T_9bb49_row18_col3\" class=\"data row18 col3\" >0.000000</td>\n",
       "      <td id=\"T_9bb49_row18_col4\" class=\"data row18 col4\" >-0.035085</td>\n",
       "      <td id=\"T_9bb49_row18_col5\" class=\"data row18 col5\" >-0.028389</td>\n",
       "      <td id=\"T_9bb49_row18_col6\" class=\"data row18 col6\" >0.000000</td>\n",
       "      <td id=\"T_9bb49_row18_col7\" class=\"data row18 col7\" >0.022662</td>\n",
       "      <td id=\"T_9bb49_row18_col8\" class=\"data row18 col8\" >0.023027</td>\n",
       "      <td id=\"T_9bb49_row18_col9\" class=\"data row18 col9\" >0.000000</td>\n",
       "      <td id=\"T_9bb49_row18_col10\" class=\"data row18 col10\" >0.004568</td>\n",
       "      <td id=\"T_9bb49_row18_col11\" class=\"data row18 col11\" >0.011744</td>\n",
       "    </tr>\n",
       "    <tr>\n",
       "      <th id=\"T_9bb49_level0_row19\" class=\"row_heading level0 row19\" >21</th>\n",
       "      <td id=\"T_9bb49_row19_col0\" class=\"data row19 col0\" >0.000000</td>\n",
       "      <td id=\"T_9bb49_row19_col1\" class=\"data row19 col1\" >-0.051385</td>\n",
       "      <td id=\"T_9bb49_row19_col2\" class=\"data row19 col2\" >-0.031654</td>\n",
       "      <td id=\"T_9bb49_row19_col3\" class=\"data row19 col3\" >0.000000</td>\n",
       "      <td id=\"T_9bb49_row19_col4\" class=\"data row19 col4\" >-0.159196</td>\n",
       "      <td id=\"T_9bb49_row19_col5\" class=\"data row19 col5\" >-0.048136</td>\n",
       "      <td id=\"T_9bb49_row19_col6\" class=\"data row19 col6\" >0.000000</td>\n",
       "      <td id=\"T_9bb49_row19_col7\" class=\"data row19 col7\" >-0.000665</td>\n",
       "      <td id=\"T_9bb49_row19_col8\" class=\"data row19 col8\" >0.018964</td>\n",
       "      <td id=\"T_9bb49_row19_col9\" class=\"data row19 col9\" >0.000000</td>\n",
       "      <td id=\"T_9bb49_row19_col10\" class=\"data row19 col10\" >-0.053906</td>\n",
       "      <td id=\"T_9bb49_row19_col11\" class=\"data row19 col11\" >-0.008241</td>\n",
       "    </tr>\n",
       "    <tr>\n",
       "      <th id=\"T_9bb49_level0_row20\" class=\"row_heading level0 row20\" >22</th>\n",
       "      <td id=\"T_9bb49_row20_col0\" class=\"data row20 col0\" >0.000000</td>\n",
       "      <td id=\"T_9bb49_row20_col1\" class=\"data row20 col1\" >-0.017013</td>\n",
       "      <td id=\"T_9bb49_row20_col2\" class=\"data row20 col2\" >-0.035767</td>\n",
       "      <td id=\"T_9bb49_row20_col3\" class=\"data row20 col3\" >0.000000</td>\n",
       "      <td id=\"T_9bb49_row20_col4\" class=\"data row20 col4\" >-0.000861</td>\n",
       "      <td id=\"T_9bb49_row20_col5\" class=\"data row20 col5\" >0.012182</td>\n",
       "      <td id=\"T_9bb49_row20_col6\" class=\"data row20 col6\" >0.000000</td>\n",
       "      <td id=\"T_9bb49_row20_col7\" class=\"data row20 col7\" >0.028800</td>\n",
       "      <td id=\"T_9bb49_row20_col8\" class=\"data row20 col8\" >0.031080</td>\n",
       "      <td id=\"T_9bb49_row20_col9\" class=\"data row20 col9\" >0.000000</td>\n",
       "      <td id=\"T_9bb49_row20_col10\" class=\"data row20 col10\" >0.008076</td>\n",
       "      <td id=\"T_9bb49_row20_col11\" class=\"data row20 col11\" >0.023975</td>\n",
       "    </tr>\n",
       "    <tr>\n",
       "      <th id=\"T_9bb49_level0_row21\" class=\"row_heading level0 row21\" >23</th>\n",
       "      <td id=\"T_9bb49_row21_col0\" class=\"data row21 col0\" >0.000000</td>\n",
       "      <td id=\"T_9bb49_row21_col1\" class=\"data row21 col1\" >-0.003638</td>\n",
       "      <td id=\"T_9bb49_row21_col2\" class=\"data row21 col2\" >-0.007684</td>\n",
       "      <td id=\"T_9bb49_row21_col3\" class=\"data row21 col3\" >0.000000</td>\n",
       "      <td id=\"T_9bb49_row21_col4\" class=\"data row21 col4\" >0.023075</td>\n",
       "      <td id=\"T_9bb49_row21_col5\" class=\"data row21 col5\" >-0.008377</td>\n",
       "      <td id=\"T_9bb49_row21_col6\" class=\"data row21 col6\" >0.000000</td>\n",
       "      <td id=\"T_9bb49_row21_col7\" class=\"data row21 col7\" >0.030367</td>\n",
       "      <td id=\"T_9bb49_row21_col8\" class=\"data row21 col8\" >0.024395</td>\n",
       "      <td id=\"T_9bb49_row21_col9\" class=\"data row21 col9\" >0.000000</td>\n",
       "      <td id=\"T_9bb49_row21_col10\" class=\"data row21 col10\" >0.013357</td>\n",
       "      <td id=\"T_9bb49_row21_col11\" class=\"data row21 col11\" >-0.000347</td>\n",
       "    </tr>\n",
       "    <tr>\n",
       "      <th id=\"T_9bb49_level0_row22\" class=\"row_heading level0 row22\" >24</th>\n",
       "      <td id=\"T_9bb49_row22_col0\" class=\"data row22 col0\" >0.000000</td>\n",
       "      <td id=\"T_9bb49_row22_col1\" class=\"data row22 col1\" >-0.033670</td>\n",
       "      <td id=\"T_9bb49_row22_col2\" class=\"data row22 col2\" >-0.023699</td>\n",
       "      <td id=\"T_9bb49_row22_col3\" class=\"data row22 col3\" >0.000000</td>\n",
       "      <td id=\"T_9bb49_row22_col4\" class=\"data row22 col4\" >0.039843</td>\n",
       "      <td id=\"T_9bb49_row22_col5\" class=\"data row22 col5\" >0.072033</td>\n",
       "      <td id=\"T_9bb49_row22_col6\" class=\"data row22 col6\" >0.000000</td>\n",
       "      <td id=\"T_9bb49_row22_col7\" class=\"data row22 col7\" >0.033828</td>\n",
       "      <td id=\"T_9bb49_row22_col8\" class=\"data row22 col8\" >0.035067</td>\n",
       "      <td id=\"T_9bb49_row22_col9\" class=\"data row22 col9\" >0.000000</td>\n",
       "      <td id=\"T_9bb49_row22_col10\" class=\"data row22 col10\" >0.036757</td>\n",
       "      <td id=\"T_9bb49_row22_col11\" class=\"data row22 col11\" >0.047866</td>\n",
       "    </tr>\n",
       "    <tr>\n",
       "      <th id=\"T_9bb49_level0_row23\" class=\"row_heading level0 row23\" >25</th>\n",
       "      <td id=\"T_9bb49_row23_col0\" class=\"data row23 col0\" >0.000000</td>\n",
       "      <td id=\"T_9bb49_row23_col1\" class=\"data row23 col1\" >-0.033869</td>\n",
       "      <td id=\"T_9bb49_row23_col2\" class=\"data row23 col2\" >-0.037658</td>\n",
       "      <td id=\"T_9bb49_row23_col3\" class=\"data row23 col3\" >0.000000</td>\n",
       "      <td id=\"T_9bb49_row23_col4\" class=\"data row23 col4\" >-0.039905</td>\n",
       "      <td id=\"T_9bb49_row23_col5\" class=\"data row23 col5\" >-0.024314</td>\n",
       "      <td id=\"T_9bb49_row23_col6\" class=\"data row23 col6\" >0.000000</td>\n",
       "      <td id=\"T_9bb49_row23_col7\" class=\"data row23 col7\" >0.029878</td>\n",
       "      <td id=\"T_9bb49_row23_col8\" class=\"data row23 col8\" >0.032194</td>\n",
       "      <td id=\"T_9bb49_row23_col9\" class=\"data row23 col9\" >0.000000</td>\n",
       "      <td id=\"T_9bb49_row23_col10\" class=\"data row23 col10\" >-0.003018</td>\n",
       "      <td id=\"T_9bb49_row23_col11\" class=\"data row23 col11\" >0.006672</td>\n",
       "    </tr>\n",
       "    <tr>\n",
       "      <th id=\"T_9bb49_level0_row24\" class=\"row_heading level0 row24\" >26</th>\n",
       "      <td id=\"T_9bb49_row24_col0\" class=\"data row24 col0\" >0.000000</td>\n",
       "      <td id=\"T_9bb49_row24_col1\" class=\"data row24 col1\" >-0.049859</td>\n",
       "      <td id=\"T_9bb49_row24_col2\" class=\"data row24 col2\" >-0.055063</td>\n",
       "      <td id=\"T_9bb49_row24_col3\" class=\"data row24 col3\" >0.000000</td>\n",
       "      <td id=\"T_9bb49_row24_col4\" class=\"data row24 col4\" >-0.133615</td>\n",
       "      <td id=\"T_9bb49_row24_col5\" class=\"data row24 col5\" >-0.147128</td>\n",
       "      <td id=\"T_9bb49_row24_col6\" class=\"data row24 col6\" >0.000000</td>\n",
       "      <td id=\"T_9bb49_row24_col7\" class=\"data row24 col7\" >0.000594</td>\n",
       "      <td id=\"T_9bb49_row24_col8\" class=\"data row24 col8\" >-0.001218</td>\n",
       "      <td id=\"T_9bb49_row24_col9\" class=\"data row24 col9\" >0.000000</td>\n",
       "      <td id=\"T_9bb49_row24_col10\" class=\"data row24 col10\" >-0.041878</td>\n",
       "      <td id=\"T_9bb49_row24_col11\" class=\"data row24 col11\" >-0.046033</td>\n",
       "    </tr>\n",
       "    <tr>\n",
       "      <th id=\"T_9bb49_level0_row25\" class=\"row_heading level0 row25\" >27</th>\n",
       "      <td id=\"T_9bb49_row25_col0\" class=\"data row25 col0\" >0.000000</td>\n",
       "      <td id=\"T_9bb49_row25_col1\" class=\"data row25 col1\" >0.015462</td>\n",
       "      <td id=\"T_9bb49_row25_col2\" class=\"data row25 col2\" >0.011391</td>\n",
       "      <td id=\"T_9bb49_row25_col3\" class=\"data row25 col3\" >0.000000</td>\n",
       "      <td id=\"T_9bb49_row25_col4\" class=\"data row25 col4\" >0.004732</td>\n",
       "      <td id=\"T_9bb49_row25_col5\" class=\"data row25 col5\" >-0.057527</td>\n",
       "      <td id=\"T_9bb49_row25_col6\" class=\"data row25 col6\" >0.000000</td>\n",
       "      <td id=\"T_9bb49_row25_col7\" class=\"data row25 col7\" >0.032411</td>\n",
       "      <td id=\"T_9bb49_row25_col8\" class=\"data row25 col8\" >0.023969</td>\n",
       "      <td id=\"T_9bb49_row25_col9\" class=\"data row25 col9\" >0.000000</td>\n",
       "      <td id=\"T_9bb49_row25_col10\" class=\"data row25 col10\" >-0.005365</td>\n",
       "      <td id=\"T_9bb49_row25_col11\" class=\"data row25 col11\" >-0.034459</td>\n",
       "    </tr>\n",
       "    <tr>\n",
       "      <th id=\"T_9bb49_level0_row26\" class=\"row_heading level0 row26\" >28</th>\n",
       "      <td id=\"T_9bb49_row26_col0\" class=\"data row26 col0\" >0.000000</td>\n",
       "      <td id=\"T_9bb49_row26_col1\" class=\"data row26 col1\" >-0.051435</td>\n",
       "      <td id=\"T_9bb49_row26_col2\" class=\"data row26 col2\" >-0.033180</td>\n",
       "      <td id=\"T_9bb49_row26_col3\" class=\"data row26 col3\" >0.000000</td>\n",
       "      <td id=\"T_9bb49_row26_col4\" class=\"data row26 col4\" >-0.232423</td>\n",
       "      <td id=\"T_9bb49_row26_col5\" class=\"data row26 col5\" >-0.207590</td>\n",
       "      <td id=\"T_9bb49_row26_col6\" class=\"data row26 col6\" >0.000000</td>\n",
       "      <td id=\"T_9bb49_row26_col7\" class=\"data row26 col7\" >0.000704</td>\n",
       "      <td id=\"T_9bb49_row26_col8\" class=\"data row26 col8\" >0.005236</td>\n",
       "      <td id=\"T_9bb49_row26_col9\" class=\"data row26 col9\" >0.000000</td>\n",
       "      <td id=\"T_9bb49_row26_col10\" class=\"data row26 col10\" >-0.090494</td>\n",
       "      <td id=\"T_9bb49_row26_col11\" class=\"data row26 col11\" >-0.087205</td>\n",
       "    </tr>\n",
       "    <tr>\n",
       "      <th id=\"T_9bb49_level0_row27\" class=\"row_heading level0 row27\" >29</th>\n",
       "      <td id=\"T_9bb49_row27_col0\" class=\"data row27 col0\" >0.000000</td>\n",
       "      <td id=\"T_9bb49_row27_col1\" class=\"data row27 col1\" >0.027831</td>\n",
       "      <td id=\"T_9bb49_row27_col2\" class=\"data row27 col2\" >0.048580</td>\n",
       "      <td id=\"T_9bb49_row27_col3\" class=\"data row27 col3\" >0.000000</td>\n",
       "      <td id=\"T_9bb49_row27_col4\" class=\"data row27 col4\" >0.011389</td>\n",
       "      <td id=\"T_9bb49_row27_col5\" class=\"data row27 col5\" >0.140846</td>\n",
       "      <td id=\"T_9bb49_row27_col6\" class=\"data row27 col6\" >0.000000</td>\n",
       "      <td id=\"T_9bb49_row27_col7\" class=\"data row27 col7\" >0.026569</td>\n",
       "      <td id=\"T_9bb49_row27_col8\" class=\"data row27 col8\" >0.039668</td>\n",
       "      <td id=\"T_9bb49_row27_col9\" class=\"data row27 col9\" >0.000000</td>\n",
       "      <td id=\"T_9bb49_row27_col10\" class=\"data row27 col10\" >-0.008221</td>\n",
       "      <td id=\"T_9bb49_row27_col11\" class=\"data row27 col11\" >0.046133</td>\n",
       "    </tr>\n",
       "    <tr>\n",
       "      <th id=\"T_9bb49_level0_row28\" class=\"row_heading level0 row28\" >30</th>\n",
       "      <td id=\"T_9bb49_row28_col0\" class=\"data row28 col0\" >0.000000</td>\n",
       "      <td id=\"T_9bb49_row28_col1\" class=\"data row28 col1\" >-0.037454</td>\n",
       "      <td id=\"T_9bb49_row28_col2\" class=\"data row28 col2\" >-0.036261</td>\n",
       "      <td id=\"T_9bb49_row28_col3\" class=\"data row28 col3\" >0.000000</td>\n",
       "      <td id=\"T_9bb49_row28_col4\" class=\"data row28 col4\" >-0.051131</td>\n",
       "      <td id=\"T_9bb49_row28_col5\" class=\"data row28 col5\" >-0.059980</td>\n",
       "      <td id=\"T_9bb49_row28_col6\" class=\"data row28 col6\" >0.000000</td>\n",
       "      <td id=\"T_9bb49_row28_col7\" class=\"data row28 col7\" >0.024116</td>\n",
       "      <td id=\"T_9bb49_row28_col8\" class=\"data row28 col8\" >0.023351</td>\n",
       "      <td id=\"T_9bb49_row28_col9\" class=\"data row28 col9\" >0.000000</td>\n",
       "      <td id=\"T_9bb49_row28_col10\" class=\"data row28 col10\" >-0.006839</td>\n",
       "      <td id=\"T_9bb49_row28_col11\" class=\"data row28 col11\" >-0.011860</td>\n",
       "    </tr>\n",
       "    <tr>\n",
       "      <th id=\"T_9bb49_level0_row29\" class=\"row_heading level0 row29\" >31</th>\n",
       "      <td id=\"T_9bb49_row29_col0\" class=\"data row29 col0\" >0.000000</td>\n",
       "      <td id=\"T_9bb49_row29_col1\" class=\"data row29 col1\" >-0.047925</td>\n",
       "      <td id=\"T_9bb49_row29_col2\" class=\"data row29 col2\" >-0.047925</td>\n",
       "      <td id=\"T_9bb49_row29_col3\" class=\"data row29 col3\" >0.000000</td>\n",
       "      <td id=\"T_9bb49_row29_col4\" class=\"data row29 col4\" >-0.061129</td>\n",
       "      <td id=\"T_9bb49_row29_col5\" class=\"data row29 col5\" >-0.061129</td>\n",
       "      <td id=\"T_9bb49_row29_col6\" class=\"data row29 col6\" >0.000000</td>\n",
       "      <td id=\"T_9bb49_row29_col7\" class=\"data row29 col7\" >0.021907</td>\n",
       "      <td id=\"T_9bb49_row29_col8\" class=\"data row29 col8\" >0.021907</td>\n",
       "      <td id=\"T_9bb49_row29_col9\" class=\"data row29 col9\" >0.000000</td>\n",
       "      <td id=\"T_9bb49_row29_col10\" class=\"data row29 col10\" >-0.006602</td>\n",
       "      <td id=\"T_9bb49_row29_col11\" class=\"data row29 col11\" >-0.006602</td>\n",
       "    </tr>\n",
       "    <tr>\n",
       "      <th id=\"T_9bb49_level0_row30\" class=\"row_heading level0 row30\" >32</th>\n",
       "      <td id=\"T_9bb49_row30_col0\" class=\"data row30 col0\" >0.000000</td>\n",
       "      <td id=\"T_9bb49_row30_col1\" class=\"data row30 col1\" >-0.015042</td>\n",
       "      <td id=\"T_9bb49_row30_col2\" class=\"data row30 col2\" >0.000912</td>\n",
       "      <td id=\"T_9bb49_row30_col3\" class=\"data row30 col3\" >0.000000</td>\n",
       "      <td id=\"T_9bb49_row30_col4\" class=\"data row30 col4\" >0.000446</td>\n",
       "      <td id=\"T_9bb49_row30_col5\" class=\"data row30 col5\" >-0.004790</td>\n",
       "      <td id=\"T_9bb49_row30_col6\" class=\"data row30 col6\" >0.000000</td>\n",
       "      <td id=\"T_9bb49_row30_col7\" class=\"data row30 col7\" >0.022174</td>\n",
       "      <td id=\"T_9bb49_row30_col8\" class=\"data row30 col8\" >0.021489</td>\n",
       "      <td id=\"T_9bb49_row30_col9\" class=\"data row30 col9\" >0.000000</td>\n",
       "      <td id=\"T_9bb49_row30_col10\" class=\"data row30 col10\" >0.007744</td>\n",
       "      <td id=\"T_9bb49_row30_col11\" class=\"data row30 col11\" >-0.002851</td>\n",
       "    </tr>\n",
       "    <tr>\n",
       "      <th id=\"T_9bb49_level0_row31\" class=\"row_heading level0 row31\" >33</th>\n",
       "      <td id=\"T_9bb49_row31_col0\" class=\"data row31 col0\" >0.000000</td>\n",
       "      <td id=\"T_9bb49_row31_col1\" class=\"data row31 col1\" >-0.059576</td>\n",
       "      <td id=\"T_9bb49_row31_col2\" class=\"data row31 col2\" >-0.063510</td>\n",
       "      <td id=\"T_9bb49_row31_col3\" class=\"data row31 col3\" >0.000000</td>\n",
       "      <td id=\"T_9bb49_row31_col4\" class=\"data row31 col4\" >-0.139683</td>\n",
       "      <td id=\"T_9bb49_row31_col5\" class=\"data row31 col5\" >-0.169841</td>\n",
       "      <td id=\"T_9bb49_row31_col6\" class=\"data row31 col6\" >0.000000</td>\n",
       "      <td id=\"T_9bb49_row31_col7\" class=\"data row31 col7\" >0.003938</td>\n",
       "      <td id=\"T_9bb49_row31_col8\" class=\"data row31 col8\" >-0.005192</td>\n",
       "      <td id=\"T_9bb49_row31_col9\" class=\"data row31 col9\" >0.000000</td>\n",
       "      <td id=\"T_9bb49_row31_col10\" class=\"data row31 col10\" >-0.040053</td>\n",
       "      <td id=\"T_9bb49_row31_col11\" class=\"data row31 col11\" >-0.053166</td>\n",
       "    </tr>\n",
       "    <tr>\n",
       "      <th id=\"T_9bb49_level0_row32\" class=\"row_heading level0 row32\" >34</th>\n",
       "      <td id=\"T_9bb49_row32_col0\" class=\"data row32 col0\" >0.000000</td>\n",
       "      <td id=\"T_9bb49_row32_col1\" class=\"data row32 col1\" >-0.018087</td>\n",
       "      <td id=\"T_9bb49_row32_col2\" class=\"data row32 col2\" >-0.020458</td>\n",
       "      <td id=\"T_9bb49_row32_col3\" class=\"data row32 col3\" >0.000000</td>\n",
       "      <td id=\"T_9bb49_row32_col4\" class=\"data row32 col4\" >-0.090909</td>\n",
       "      <td id=\"T_9bb49_row32_col5\" class=\"data row32 col5\" >-0.101515</td>\n",
       "      <td id=\"T_9bb49_row32_col6\" class=\"data row32 col6\" >0.000000</td>\n",
       "      <td id=\"T_9bb49_row32_col7\" class=\"data row32 col7\" >0.004725</td>\n",
       "      <td id=\"T_9bb49_row32_col8\" class=\"data row32 col8\" >0.006699</td>\n",
       "      <td id=\"T_9bb49_row32_col9\" class=\"data row32 col9\" >0.000000</td>\n",
       "      <td id=\"T_9bb49_row32_col10\" class=\"data row32 col10\" >-0.036411</td>\n",
       "      <td id=\"T_9bb49_row32_col11\" class=\"data row32 col11\" >-0.040529</td>\n",
       "    </tr>\n",
       "    <tr>\n",
       "      <th id=\"T_9bb49_level0_row33\" class=\"row_heading level0 row33\" >35</th>\n",
       "      <td id=\"T_9bb49_row33_col0\" class=\"data row33 col0\" >0.000000</td>\n",
       "      <td id=\"T_9bb49_row33_col1\" class=\"data row33 col1\" >-0.028220</td>\n",
       "      <td id=\"T_9bb49_row33_col2\" class=\"data row33 col2\" >-0.047720</td>\n",
       "      <td id=\"T_9bb49_row33_col3\" class=\"data row33 col3\" >0.000000</td>\n",
       "      <td id=\"T_9bb49_row33_col4\" class=\"data row33 col4\" >-0.050377</td>\n",
       "      <td id=\"T_9bb49_row33_col5\" class=\"data row33 col5\" >-0.016915</td>\n",
       "      <td id=\"T_9bb49_row33_col6\" class=\"data row33 col6\" >0.000000</td>\n",
       "      <td id=\"T_9bb49_row33_col7\" class=\"data row33 col7\" >0.021377</td>\n",
       "      <td id=\"T_9bb49_row33_col8\" class=\"data row33 col8\" >0.028351</td>\n",
       "      <td id=\"T_9bb49_row33_col9\" class=\"data row33 col9\" >0.000000</td>\n",
       "      <td id=\"T_9bb49_row33_col10\" class=\"data row33 col10\" >-0.011079</td>\n",
       "      <td id=\"T_9bb49_row33_col11\" class=\"data row33 col11\" >0.015402</td>\n",
       "    </tr>\n",
       "    <tr>\n",
       "      <th id=\"T_9bb49_level0_row34\" class=\"row_heading level0 row34\" >36</th>\n",
       "      <td id=\"T_9bb49_row34_col0\" class=\"data row34 col0\" >0.000000</td>\n",
       "      <td id=\"T_9bb49_row34_col1\" class=\"data row34 col1\" >-0.000307</td>\n",
       "      <td id=\"T_9bb49_row34_col2\" class=\"data row34 col2\" >-0.024038</td>\n",
       "      <td id=\"T_9bb49_row34_col3\" class=\"data row34 col3\" >0.000000</td>\n",
       "      <td id=\"T_9bb49_row34_col4\" class=\"data row34 col4\" >-0.231818</td>\n",
       "      <td id=\"T_9bb49_row34_col5\" class=\"data row34 col5\" >-0.218398</td>\n",
       "      <td id=\"T_9bb49_row34_col6\" class=\"data row34 col6\" >0.000000</td>\n",
       "      <td id=\"T_9bb49_row34_col7\" class=\"data row34 col7\" >-0.003994</td>\n",
       "      <td id=\"T_9bb49_row34_col8\" class=\"data row34 col8\" >0.000686</td>\n",
       "      <td id=\"T_9bb49_row34_col9\" class=\"data row34 col9\" >0.000000</td>\n",
       "      <td id=\"T_9bb49_row34_col10\" class=\"data row34 col10\" >-0.115756</td>\n",
       "      <td id=\"T_9bb49_row34_col11\" class=\"data row34 col11\" >-0.097180</td>\n",
       "    </tr>\n",
       "    <tr>\n",
       "      <th id=\"T_9bb49_level0_row35\" class=\"row_heading level0 row35\" >37</th>\n",
       "      <td id=\"T_9bb49_row35_col0\" class=\"data row35 col0\" >0.000000</td>\n",
       "      <td id=\"T_9bb49_row35_col1\" class=\"data row35 col1\" >0.007097</td>\n",
       "      <td id=\"T_9bb49_row35_col2\" class=\"data row35 col2\" >0.123543</td>\n",
       "      <td id=\"T_9bb49_row35_col3\" class=\"data row35 col3\" >0.000000</td>\n",
       "      <td id=\"T_9bb49_row35_col4\" class=\"data row35 col4\" >0.065309</td>\n",
       "      <td id=\"T_9bb49_row35_col5\" class=\"data row35 col5\" >0.140137</td>\n",
       "      <td id=\"T_9bb49_row35_col6\" class=\"data row35 col6\" >0.000000</td>\n",
       "      <td id=\"T_9bb49_row35_col7\" class=\"data row35 col7\" >0.030251</td>\n",
       "      <td id=\"T_9bb49_row35_col8\" class=\"data row35 col8\" >0.032199</td>\n",
       "      <td id=\"T_9bb49_row35_col9\" class=\"data row35 col9\" >0.000000</td>\n",
       "      <td id=\"T_9bb49_row35_col10\" class=\"data row35 col10\" >0.029106</td>\n",
       "      <td id=\"T_9bb49_row35_col11\" class=\"data row35 col11\" >0.008297</td>\n",
       "    </tr>\n",
       "    <tr>\n",
       "      <th id=\"T_9bb49_level0_row36\" class=\"row_heading level0 row36\" >38</th>\n",
       "      <td id=\"T_9bb49_row36_col0\" class=\"data row36 col0\" >0.000000</td>\n",
       "      <td id=\"T_9bb49_row36_col1\" class=\"data row36 col1\" >0.037399</td>\n",
       "      <td id=\"T_9bb49_row36_col2\" class=\"data row36 col2\" >0.066652</td>\n",
       "      <td id=\"T_9bb49_row36_col3\" class=\"data row36 col3\" >0.000000</td>\n",
       "      <td id=\"T_9bb49_row36_col4\" class=\"data row36 col4\" >0.088624</td>\n",
       "      <td id=\"T_9bb49_row36_col5\" class=\"data row36 col5\" >0.142196</td>\n",
       "      <td id=\"T_9bb49_row36_col6\" class=\"data row36 col6\" >0.000000</td>\n",
       "      <td id=\"T_9bb49_row36_col7\" class=\"data row36 col7\" >0.029169</td>\n",
       "      <td id=\"T_9bb49_row36_col8\" class=\"data row36 col8\" >0.033158</td>\n",
       "      <td id=\"T_9bb49_row36_col9\" class=\"data row36 col9\" >0.000000</td>\n",
       "      <td id=\"T_9bb49_row36_col10\" class=\"data row36 col10\" >0.025613</td>\n",
       "      <td id=\"T_9bb49_row36_col11\" class=\"data row36 col11\" >0.037772</td>\n",
       "    </tr>\n",
       "    <tr>\n",
       "      <th id=\"T_9bb49_level0_row37\" class=\"row_heading level0 row37\" >39</th>\n",
       "      <td id=\"T_9bb49_row37_col0\" class=\"data row37 col0\" >0.000000</td>\n",
       "      <td id=\"T_9bb49_row37_col1\" class=\"data row37 col1\" >0.062343</td>\n",
       "      <td id=\"T_9bb49_row37_col2\" class=\"data row37 col2\" >0.001942</td>\n",
       "      <td id=\"T_9bb49_row37_col3\" class=\"data row37 col3\" >0.000000</td>\n",
       "      <td id=\"T_9bb49_row37_col4\" class=\"data row37 col4\" >0.038784</td>\n",
       "      <td id=\"T_9bb49_row37_col5\" class=\"data row37 col5\" >-0.025157</td>\n",
       "      <td id=\"T_9bb49_row37_col6\" class=\"data row37 col6\" >0.000000</td>\n",
       "      <td id=\"T_9bb49_row37_col7\" class=\"data row37 col7\" >0.025317</td>\n",
       "      <td id=\"T_9bb49_row37_col8\" class=\"data row37 col8\" >0.018522</td>\n",
       "      <td id=\"T_9bb49_row37_col9\" class=\"data row37 col9\" >0.000000</td>\n",
       "      <td id=\"T_9bb49_row37_col10\" class=\"data row37 col10\" >-0.011780</td>\n",
       "      <td id=\"T_9bb49_row37_col11\" class=\"data row37 col11\" >-0.013549</td>\n",
       "    </tr>\n",
       "    <tr>\n",
       "      <th id=\"T_9bb49_level0_row38\" class=\"row_heading level0 row38\" >40</th>\n",
       "      <td id=\"T_9bb49_row38_col0\" class=\"data row38 col0\" >0.000000</td>\n",
       "      <td id=\"T_9bb49_row38_col1\" class=\"data row38 col1\" >0.151578</td>\n",
       "      <td id=\"T_9bb49_row38_col2\" class=\"data row38 col2\" >0.153263</td>\n",
       "      <td id=\"T_9bb49_row38_col3\" class=\"data row38 col3\" >0.000000</td>\n",
       "      <td id=\"T_9bb49_row38_col4\" class=\"data row38 col4\" >0.176178</td>\n",
       "      <td id=\"T_9bb49_row38_col5\" class=\"data row38 col5\" >0.165761</td>\n",
       "      <td id=\"T_9bb49_row38_col6\" class=\"data row38 col6\" >0.000000</td>\n",
       "      <td id=\"T_9bb49_row38_col7\" class=\"data row38 col7\" >0.033523</td>\n",
       "      <td id=\"T_9bb49_row38_col8\" class=\"data row38 col8\" >0.031636</td>\n",
       "      <td id=\"T_9bb49_row38_col9\" class=\"data row38 col9\" >0.000000</td>\n",
       "      <td id=\"T_9bb49_row38_col10\" class=\"data row38 col10\" >0.012300</td>\n",
       "      <td id=\"T_9bb49_row38_col11\" class=\"data row38 col11\" >0.006249</td>\n",
       "    </tr>\n",
       "    <tr>\n",
       "      <th id=\"T_9bb49_level0_row39\" class=\"row_heading level0 row39\" >41</th>\n",
       "      <td id=\"T_9bb49_row39_col0\" class=\"data row39 col0\" >0.000000</td>\n",
       "      <td id=\"T_9bb49_row39_col1\" class=\"data row39 col1\" >-0.015125</td>\n",
       "      <td id=\"T_9bb49_row39_col2\" class=\"data row39 col2\" >-0.067948</td>\n",
       "      <td id=\"T_9bb49_row39_col3\" class=\"data row39 col3\" >0.000000</td>\n",
       "      <td id=\"T_9bb49_row39_col4\" class=\"data row39 col4\" >-0.285714</td>\n",
       "      <td id=\"T_9bb49_row39_col5\" class=\"data row39 col5\" >-0.351648</td>\n",
       "      <td id=\"T_9bb49_row39_col6\" class=\"data row39 col6\" >0.000000</td>\n",
       "      <td id=\"T_9bb49_row39_col7\" class=\"data row39 col7\" >-0.027884</td>\n",
       "      <td id=\"T_9bb49_row39_col8\" class=\"data row39 col8\" >-0.016800</td>\n",
       "      <td id=\"T_9bb49_row39_col9\" class=\"data row39 col9\" >0.000000</td>\n",
       "      <td id=\"T_9bb49_row39_col10\" class=\"data row39 col10\" >-0.135295</td>\n",
       "      <td id=\"T_9bb49_row39_col11\" class=\"data row39 col11\" >-0.141850</td>\n",
       "    </tr>\n",
       "    <tr>\n",
       "      <th id=\"T_9bb49_level0_row40\" class=\"row_heading level0 row40\" >42</th>\n",
       "      <td id=\"T_9bb49_row40_col0\" class=\"data row40 col0\" >0.000000</td>\n",
       "      <td id=\"T_9bb49_row40_col1\" class=\"data row40 col1\" >0.019058</td>\n",
       "      <td id=\"T_9bb49_row40_col2\" class=\"data row40 col2\" >0.022405</td>\n",
       "      <td id=\"T_9bb49_row40_col3\" class=\"data row40 col3\" >0.000000</td>\n",
       "      <td id=\"T_9bb49_row40_col4\" class=\"data row40 col4\" >0.058861</td>\n",
       "      <td id=\"T_9bb49_row40_col5\" class=\"data row40 col5\" >0.169620</td>\n",
       "      <td id=\"T_9bb49_row40_col6\" class=\"data row40 col6\" >0.000000</td>\n",
       "      <td id=\"T_9bb49_row40_col7\" class=\"data row40 col7\" >0.021974</td>\n",
       "      <td id=\"T_9bb49_row40_col8\" class=\"data row40 col8\" >0.036404</td>\n",
       "      <td id=\"T_9bb49_row40_col9\" class=\"data row40 col9\" >0.000000</td>\n",
       "      <td id=\"T_9bb49_row40_col10\" class=\"data row40 col10\" >0.019901</td>\n",
       "      <td id=\"T_9bb49_row40_col11\" class=\"data row40 col11\" >0.073607</td>\n",
       "    </tr>\n",
       "    <tr>\n",
       "      <th id=\"T_9bb49_level0_row41\" class=\"row_heading level0 row41\" >43</th>\n",
       "      <td id=\"T_9bb49_row41_col0\" class=\"data row41 col0\" >0.000000</td>\n",
       "      <td id=\"T_9bb49_row41_col1\" class=\"data row41 col1\" >-0.023424</td>\n",
       "      <td id=\"T_9bb49_row41_col2\" class=\"data row41 col2\" >-0.035495</td>\n",
       "      <td id=\"T_9bb49_row41_col3\" class=\"data row41 col3\" >0.000000</td>\n",
       "      <td id=\"T_9bb49_row41_col4\" class=\"data row41 col4\" >-0.083333</td>\n",
       "      <td id=\"T_9bb49_row41_col5\" class=\"data row41 col5\" >-0.166667</td>\n",
       "      <td id=\"T_9bb49_row41_col6\" class=\"data row41 col6\" >0.000000</td>\n",
       "      <td id=\"T_9bb49_row41_col7\" class=\"data row41 col7\" >0.006937</td>\n",
       "      <td id=\"T_9bb49_row41_col8\" class=\"data row41 col8\" >0.002881</td>\n",
       "      <td id=\"T_9bb49_row41_col9\" class=\"data row41 col9\" >0.000000</td>\n",
       "      <td id=\"T_9bb49_row41_col10\" class=\"data row41 col10\" >-0.029955</td>\n",
       "      <td id=\"T_9bb49_row41_col11\" class=\"data row41 col11\" >-0.065586</td>\n",
       "    </tr>\n",
       "    <tr>\n",
       "      <th id=\"T_9bb49_level0_row42\" class=\"row_heading level0 row42\" >44</th>\n",
       "      <td id=\"T_9bb49_row42_col0\" class=\"data row42 col0\" >0.000000</td>\n",
       "      <td id=\"T_9bb49_row42_col1\" class=\"data row42 col1\" >0.013928</td>\n",
       "      <td id=\"T_9bb49_row42_col2\" class=\"data row42 col2\" >0.013928</td>\n",
       "      <td id=\"T_9bb49_row42_col3\" class=\"data row42 col3\" >0.000000</td>\n",
       "      <td id=\"T_9bb49_row42_col4\" class=\"data row42 col4\" >0.083333</td>\n",
       "      <td id=\"T_9bb49_row42_col5\" class=\"data row42 col5\" >0.083333</td>\n",
       "      <td id=\"T_9bb49_row42_col6\" class=\"data row42 col6\" >0.000000</td>\n",
       "      <td id=\"T_9bb49_row42_col7\" class=\"data row42 col7\" >0.023947</td>\n",
       "      <td id=\"T_9bb49_row42_col8\" class=\"data row42 col8\" >0.023947</td>\n",
       "      <td id=\"T_9bb49_row42_col9\" class=\"data row42 col9\" >0.000000</td>\n",
       "      <td id=\"T_9bb49_row42_col10\" class=\"data row42 col10\" >0.034703</td>\n",
       "      <td id=\"T_9bb49_row42_col11\" class=\"data row42 col11\" >0.034703</td>\n",
       "    </tr>\n",
       "    <tr>\n",
       "      <th id=\"T_9bb49_level0_row43\" class=\"row_heading level0 row43\" >45</th>\n",
       "      <td id=\"T_9bb49_row43_col0\" class=\"data row43 col0\" >0.000000</td>\n",
       "      <td id=\"T_9bb49_row43_col1\" class=\"data row43 col1\" >0.027808</td>\n",
       "      <td id=\"T_9bb49_row43_col2\" class=\"data row43 col2\" >0.027808</td>\n",
       "      <td id=\"T_9bb49_row43_col3\" class=\"data row43 col3\" >0.000000</td>\n",
       "      <td id=\"T_9bb49_row43_col4\" class=\"data row43 col4\" >0.052941</td>\n",
       "      <td id=\"T_9bb49_row43_col5\" class=\"data row43 col5\" >0.052941</td>\n",
       "      <td id=\"T_9bb49_row43_col6\" class=\"data row43 col6\" >0.000000</td>\n",
       "      <td id=\"T_9bb49_row43_col7\" class=\"data row43 col7\" >0.024355</td>\n",
       "      <td id=\"T_9bb49_row43_col8\" class=\"data row43 col8\" >0.024355</td>\n",
       "      <td id=\"T_9bb49_row43_col9\" class=\"data row43 col9\" >0.000000</td>\n",
       "      <td id=\"T_9bb49_row43_col10\" class=\"data row43 col10\" >0.012566</td>\n",
       "      <td id=\"T_9bb49_row43_col11\" class=\"data row43 col11\" >0.012566</td>\n",
       "    </tr>\n",
       "    <tr>\n",
       "      <th id=\"T_9bb49_level0_row44\" class=\"row_heading level0 row44\" >46</th>\n",
       "      <td id=\"T_9bb49_row44_col0\" class=\"data row44 col0\" >0.000000</td>\n",
       "      <td id=\"T_9bb49_row44_col1\" class=\"data row44 col1\" >-0.032858</td>\n",
       "      <td id=\"T_9bb49_row44_col2\" class=\"data row44 col2\" >-0.032858</td>\n",
       "      <td id=\"T_9bb49_row44_col3\" class=\"data row44 col3\" >0.000000</td>\n",
       "      <td id=\"T_9bb49_row44_col4\" class=\"data row44 col4\" >-0.036765</td>\n",
       "      <td id=\"T_9bb49_row44_col5\" class=\"data row44 col5\" >-0.036765</td>\n",
       "      <td id=\"T_9bb49_row44_col6\" class=\"data row44 col6\" >0.000000</td>\n",
       "      <td id=\"T_9bb49_row44_col7\" class=\"data row44 col7\" >0.021544</td>\n",
       "      <td id=\"T_9bb49_row44_col8\" class=\"data row44 col8\" >0.021544</td>\n",
       "      <td id=\"T_9bb49_row44_col9\" class=\"data row44 col9\" >0.000000</td>\n",
       "      <td id=\"T_9bb49_row44_col10\" class=\"data row44 col10\" >-0.001953</td>\n",
       "      <td id=\"T_9bb49_row44_col11\" class=\"data row44 col11\" >-0.001953</td>\n",
       "    </tr>\n",
       "    <tr>\n",
       "      <th id=\"T_9bb49_level0_row45\" class=\"row_heading level0 row45\" >47</th>\n",
       "      <td id=\"T_9bb49_row45_col0\" class=\"data row45 col0\" >0.000000</td>\n",
       "      <td id=\"T_9bb49_row45_col1\" class=\"data row45 col1\" >-0.022958</td>\n",
       "      <td id=\"T_9bb49_row45_col2\" class=\"data row45 col2\" >-0.022958</td>\n",
       "      <td id=\"T_9bb49_row45_col3\" class=\"data row45 col3\" >0.000000</td>\n",
       "      <td id=\"T_9bb49_row45_col4\" class=\"data row45 col4\" >-0.105590</td>\n",
       "      <td id=\"T_9bb49_row45_col5\" class=\"data row45 col5\" >-0.105590</td>\n",
       "      <td id=\"T_9bb49_row45_col6\" class=\"data row45 col6\" >0.000000</td>\n",
       "      <td id=\"T_9bb49_row45_col7\" class=\"data row45 col7\" >0.010479</td>\n",
       "      <td id=\"T_9bb49_row45_col8\" class=\"data row45 col8\" >0.010479</td>\n",
       "      <td id=\"T_9bb49_row45_col9\" class=\"data row45 col9\" >0.000000</td>\n",
       "      <td id=\"T_9bb49_row45_col10\" class=\"data row45 col10\" >-0.041316</td>\n",
       "      <td id=\"T_9bb49_row45_col11\" class=\"data row45 col11\" >-0.041316</td>\n",
       "    </tr>\n",
       "    <tr>\n",
       "      <th id=\"T_9bb49_level0_row46\" class=\"row_heading level0 row46\" >48</th>\n",
       "      <td id=\"T_9bb49_row46_col0\" class=\"data row46 col0\" >0.000000</td>\n",
       "      <td id=\"T_9bb49_row46_col1\" class=\"data row46 col1\" >-0.045659</td>\n",
       "      <td id=\"T_9bb49_row46_col2\" class=\"data row46 col2\" >-0.019743</td>\n",
       "      <td id=\"T_9bb49_row46_col3\" class=\"data row46 col3\" >0.000000</td>\n",
       "      <td id=\"T_9bb49_row46_col4\" class=\"data row46 col4\" >-0.196780</td>\n",
       "      <td id=\"T_9bb49_row46_col5\" class=\"data row46 col5\" >-0.064401</td>\n",
       "      <td id=\"T_9bb49_row46_col6\" class=\"data row46 col6\" >0.000000</td>\n",
       "      <td id=\"T_9bb49_row46_col7\" class=\"data row46 col7\" >0.010726</td>\n",
       "      <td id=\"T_9bb49_row46_col8\" class=\"data row46 col8\" >0.013823</td>\n",
       "      <td id=\"T_9bb49_row46_col9\" class=\"data row46 col9\" >0.000000</td>\n",
       "      <td id=\"T_9bb49_row46_col10\" class=\"data row46 col10\" >-0.075560</td>\n",
       "      <td id=\"T_9bb49_row46_col11\" class=\"data row46 col11\" >-0.022329</td>\n",
       "    </tr>\n",
       "    <tr>\n",
       "      <th id=\"T_9bb49_level0_row47\" class=\"row_heading level0 row47\" >49</th>\n",
       "      <td id=\"T_9bb49_row47_col0\" class=\"data row47 col0\" >0.000000</td>\n",
       "      <td id=\"T_9bb49_row47_col1\" class=\"data row47 col1\" >-0.020880</td>\n",
       "      <td id=\"T_9bb49_row47_col2\" class=\"data row47 col2\" >-0.039769</td>\n",
       "      <td id=\"T_9bb49_row47_col3\" class=\"data row47 col3\" >0.000000</td>\n",
       "      <td id=\"T_9bb49_row47_col4\" class=\"data row47 col4\" >0.030303</td>\n",
       "      <td id=\"T_9bb49_row47_col5\" class=\"data row47 col5\" >-0.282828</td>\n",
       "      <td id=\"T_9bb49_row47_col6\" class=\"data row47 col6\" >0.000000</td>\n",
       "      <td id=\"T_9bb49_row47_col7\" class=\"data row47 col7\" >0.020470</td>\n",
       "      <td id=\"T_9bb49_row47_col8\" class=\"data row47 col8\" >0.000495</td>\n",
       "      <td id=\"T_9bb49_row47_col9\" class=\"data row47 col9\" >0.000000</td>\n",
       "      <td id=\"T_9bb49_row47_col10\" class=\"data row47 col10\" >0.025592</td>\n",
       "      <td id=\"T_9bb49_row47_col11\" class=\"data row47 col11\" >-0.121530</td>\n",
       "    </tr>\n",
       "    <tr>\n",
       "      <th id=\"T_9bb49_level0_row48\" class=\"row_heading level0 row48\" >50</th>\n",
       "      <td id=\"T_9bb49_row48_col0\" class=\"data row48 col0\" >0.000000</td>\n",
       "      <td id=\"T_9bb49_row48_col1\" class=\"data row48 col1\" >-0.008094</td>\n",
       "      <td id=\"T_9bb49_row48_col2\" class=\"data row48 col2\" >-0.007979</td>\n",
       "      <td id=\"T_9bb49_row48_col3\" class=\"data row48 col3\" >0.000000</td>\n",
       "      <td id=\"T_9bb49_row48_col4\" class=\"data row48 col4\" >-0.333333</td>\n",
       "      <td id=\"T_9bb49_row48_col5\" class=\"data row48 col5\" >0.133333</td>\n",
       "      <td id=\"T_9bb49_row48_col6\" class=\"data row48 col6\" >0.000000</td>\n",
       "      <td id=\"T_9bb49_row48_col7\" class=\"data row48 col7\" >-0.015175</td>\n",
       "      <td id=\"T_9bb49_row48_col8\" class=\"data row48 col8\" >0.028882</td>\n",
       "      <td id=\"T_9bb49_row48_col9\" class=\"data row48 col9\" >0.000000</td>\n",
       "      <td id=\"T_9bb49_row48_col10\" class=\"data row48 col10\" >-0.162620</td>\n",
       "      <td id=\"T_9bb49_row48_col11\" class=\"data row48 col11\" >0.070656</td>\n",
       "    </tr>\n",
       "    <tr>\n",
       "      <th id=\"T_9bb49_level0_row49\" class=\"row_heading level0 row49\" >51</th>\n",
       "      <td id=\"T_9bb49_row49_col0\" class=\"data row49 col0\" >0.000000</td>\n",
       "      <td id=\"T_9bb49_row49_col1\" class=\"data row49 col1\" >-0.044160</td>\n",
       "      <td id=\"T_9bb49_row49_col2\" class=\"data row49 col2\" >-0.044160</td>\n",
       "      <td id=\"T_9bb49_row49_col3\" class=\"data row49 col3\" >0.000000</td>\n",
       "      <td id=\"T_9bb49_row49_col4\" class=\"data row49 col4\" >-0.251724</td>\n",
       "      <td id=\"T_9bb49_row49_col5\" class=\"data row49 col5\" >-0.251724</td>\n",
       "      <td id=\"T_9bb49_row49_col6\" class=\"data row49 col6\" >0.000000</td>\n",
       "      <td id=\"T_9bb49_row49_col7\" class=\"data row49 col7\" >0.006120</td>\n",
       "      <td id=\"T_9bb49_row49_col8\" class=\"data row49 col8\" >0.006120</td>\n",
       "      <td id=\"T_9bb49_row49_col9\" class=\"data row49 col9\" >0.000000</td>\n",
       "      <td id=\"T_9bb49_row49_col10\" class=\"data row49 col10\" >-0.103782</td>\n",
       "      <td id=\"T_9bb49_row49_col11\" class=\"data row49 col11\" >-0.103782</td>\n",
       "    </tr>\n",
       "    <tr>\n",
       "      <th id=\"T_9bb49_level0_row50\" class=\"row_heading level0 row50\" >52</th>\n",
       "      <td id=\"T_9bb49_row50_col0\" class=\"data row50 col0\" >0.000000</td>\n",
       "      <td id=\"T_9bb49_row50_col1\" class=\"data row50 col1\" >-0.047896</td>\n",
       "      <td id=\"T_9bb49_row50_col2\" class=\"data row50 col2\" >-0.047896</td>\n",
       "      <td id=\"T_9bb49_row50_col3\" class=\"data row50 col3\" >0.000000</td>\n",
       "      <td id=\"T_9bb49_row50_col4\" class=\"data row50 col4\" >-0.235714</td>\n",
       "      <td id=\"T_9bb49_row50_col5\" class=\"data row50 col5\" >-0.235714</td>\n",
       "      <td id=\"T_9bb49_row50_col6\" class=\"data row50 col6\" >0.000000</td>\n",
       "      <td id=\"T_9bb49_row50_col7\" class=\"data row50 col7\" >0.008166</td>\n",
       "      <td id=\"T_9bb49_row50_col8\" class=\"data row50 col8\" >0.008166</td>\n",
       "      <td id=\"T_9bb49_row50_col9\" class=\"data row50 col9\" >0.000000</td>\n",
       "      <td id=\"T_9bb49_row50_col10\" class=\"data row50 col10\" >-0.093909</td>\n",
       "      <td id=\"T_9bb49_row50_col11\" class=\"data row50 col11\" >-0.093909</td>\n",
       "    </tr>\n",
       "    <tr>\n",
       "      <th id=\"T_9bb49_level0_row51\" class=\"row_heading level0 row51\" >53</th>\n",
       "      <td id=\"T_9bb49_row51_col0\" class=\"data row51 col0\" >0.000000</td>\n",
       "      <td id=\"T_9bb49_row51_col1\" class=\"data row51 col1\" >-0.048057</td>\n",
       "      <td id=\"T_9bb49_row51_col2\" class=\"data row51 col2\" >-0.048057</td>\n",
       "      <td id=\"T_9bb49_row51_col3\" class=\"data row51 col3\" >0.000000</td>\n",
       "      <td id=\"T_9bb49_row51_col4\" class=\"data row51 col4\" >-0.218519</td>\n",
       "      <td id=\"T_9bb49_row51_col5\" class=\"data row51 col5\" >-0.218519</td>\n",
       "      <td id=\"T_9bb49_row51_col6\" class=\"data row51 col6\" >0.000000</td>\n",
       "      <td id=\"T_9bb49_row51_col7\" class=\"data row51 col7\" >0.009468</td>\n",
       "      <td id=\"T_9bb49_row51_col8\" class=\"data row51 col8\" >0.009468</td>\n",
       "      <td id=\"T_9bb49_row51_col9\" class=\"data row51 col9\" >0.000000</td>\n",
       "      <td id=\"T_9bb49_row51_col10\" class=\"data row51 col10\" >-0.085231</td>\n",
       "      <td id=\"T_9bb49_row51_col11\" class=\"data row51 col11\" >-0.085231</td>\n",
       "    </tr>\n",
       "    <tr>\n",
       "      <th id=\"T_9bb49_level0_row52\" class=\"row_heading level0 row52\" >54</th>\n",
       "      <td id=\"T_9bb49_row52_col0\" class=\"data row52 col0\" >0.000000</td>\n",
       "      <td id=\"T_9bb49_row52_col1\" class=\"data row52 col1\" >0.004920</td>\n",
       "      <td id=\"T_9bb49_row52_col2\" class=\"data row52 col2\" >0.004920</td>\n",
       "      <td id=\"T_9bb49_row52_col3\" class=\"data row52 col3\" >0.000000</td>\n",
       "      <td id=\"T_9bb49_row52_col4\" class=\"data row52 col4\" >-0.007407</td>\n",
       "      <td id=\"T_9bb49_row52_col5\" class=\"data row52 col5\" >-0.007407</td>\n",
       "      <td id=\"T_9bb49_row52_col6\" class=\"data row52 col6\" >0.000000</td>\n",
       "      <td id=\"T_9bb49_row52_col7\" class=\"data row52 col7\" >0.025276</td>\n",
       "      <td id=\"T_9bb49_row52_col8\" class=\"data row52 col8\" >0.025276</td>\n",
       "      <td id=\"T_9bb49_row52_col9\" class=\"data row52 col9\" >0.000000</td>\n",
       "      <td id=\"T_9bb49_row52_col10\" class=\"data row52 col10\" >-0.006164</td>\n",
       "      <td id=\"T_9bb49_row52_col11\" class=\"data row52 col11\" >-0.006164</td>\n",
       "    </tr>\n",
       "    <tr>\n",
       "      <th id=\"T_9bb49_level0_row53\" class=\"row_heading level0 row53\" >55</th>\n",
       "      <td id=\"T_9bb49_row53_col0\" class=\"data row53 col0\" >0.000000</td>\n",
       "      <td id=\"T_9bb49_row53_col1\" class=\"data row53 col1\" >0.001963</td>\n",
       "      <td id=\"T_9bb49_row53_col2\" class=\"data row53 col2\" >0.001963</td>\n",
       "      <td id=\"T_9bb49_row53_col3\" class=\"data row53 col3\" >0.000000</td>\n",
       "      <td id=\"T_9bb49_row53_col4\" class=\"data row53 col4\" >-0.191304</td>\n",
       "      <td id=\"T_9bb49_row53_col5\" class=\"data row53 col5\" >-0.191304</td>\n",
       "      <td id=\"T_9bb49_row53_col6\" class=\"data row53 col6\" >0.000000</td>\n",
       "      <td id=\"T_9bb49_row53_col7\" class=\"data row53 col7\" >0.008000</td>\n",
       "      <td id=\"T_9bb49_row53_col8\" class=\"data row53 col8\" >0.008000</td>\n",
       "      <td id=\"T_9bb49_row53_col9\" class=\"data row53 col9\" >0.000000</td>\n",
       "      <td id=\"T_9bb49_row53_col10\" class=\"data row53 col10\" >-0.096634</td>\n",
       "      <td id=\"T_9bb49_row53_col11\" class=\"data row53 col11\" >-0.096634</td>\n",
       "    </tr>\n",
       "    <tr>\n",
       "      <th id=\"T_9bb49_level0_row54\" class=\"row_heading level0 row54\" >56</th>\n",
       "      <td id=\"T_9bb49_row54_col0\" class=\"data row54 col0\" >0.000000</td>\n",
       "      <td id=\"T_9bb49_row54_col1\" class=\"data row54 col1\" >-0.080204</td>\n",
       "      <td id=\"T_9bb49_row54_col2\" class=\"data row54 col2\" >-0.059387</td>\n",
       "      <td id=\"T_9bb49_row54_col3\" class=\"data row54 col3\" >0.000000</td>\n",
       "      <td id=\"T_9bb49_row54_col4\" class=\"data row54 col4\" >-0.100000</td>\n",
       "      <td id=\"T_9bb49_row54_col5\" class=\"data row54 col5\" >-0.200000</td>\n",
       "      <td id=\"T_9bb49_row54_col6\" class=\"data row54 col6\" >0.000000</td>\n",
       "      <td id=\"T_9bb49_row54_col7\" class=\"data row54 col7\" >0.029140</td>\n",
       "      <td id=\"T_9bb49_row54_col8\" class=\"data row54 col8\" >0.014511</td>\n",
       "      <td id=\"T_9bb49_row54_col9\" class=\"data row54 col9\" >0.000000</td>\n",
       "      <td id=\"T_9bb49_row54_col10\" class=\"data row54 col10\" >-0.009898</td>\n",
       "      <td id=\"T_9bb49_row54_col11\" class=\"data row54 col11\" >-0.070307</td>\n",
       "    </tr>\n",
       "    <tr>\n",
       "      <th id=\"T_9bb49_level0_row55\" class=\"row_heading level0 row55\" >57</th>\n",
       "      <td id=\"T_9bb49_row55_col0\" class=\"data row55 col0\" >0.000000</td>\n",
       "      <td id=\"T_9bb49_row55_col1\" class=\"data row55 col1\" >-0.042683</td>\n",
       "      <td id=\"T_9bb49_row55_col2\" class=\"data row55 col2\" >-0.063008</td>\n",
       "      <td id=\"T_9bb49_row55_col3\" class=\"data row55 col3\" >0.000000</td>\n",
       "      <td id=\"T_9bb49_row55_col4\" class=\"data row55 col4\" >-0.321739</td>\n",
       "      <td id=\"T_9bb49_row55_col5\" class=\"data row55 col5\" >-0.065217</td>\n",
       "      <td id=\"T_9bb49_row55_col6\" class=\"data row55 col6\" >0.000000</td>\n",
       "      <td id=\"T_9bb49_row55_col7\" class=\"data row55 col7\" >0.001221</td>\n",
       "      <td id=\"T_9bb49_row55_col8\" class=\"data row55 col8\" >0.053118</td>\n",
       "      <td id=\"T_9bb49_row55_col9\" class=\"data row55 col9\" >0.000000</td>\n",
       "      <td id=\"T_9bb49_row55_col10\" class=\"data row55 col10\" >-0.139528</td>\n",
       "      <td id=\"T_9bb49_row55_col11\" class=\"data row55 col11\" >-0.001105</td>\n",
       "    </tr>\n",
       "    <tr>\n",
       "      <th id=\"T_9bb49_level0_row56\" class=\"row_heading level0 row56\" >58</th>\n",
       "      <td id=\"T_9bb49_row56_col0\" class=\"data row56 col0\" >0.000000</td>\n",
       "      <td id=\"T_9bb49_row56_col1\" class=\"data row56 col1\" >-0.062703</td>\n",
       "      <td id=\"T_9bb49_row56_col2\" class=\"data row56 col2\" >-0.062703</td>\n",
       "      <td id=\"T_9bb49_row56_col3\" class=\"data row56 col3\" >0.000000</td>\n",
       "      <td id=\"T_9bb49_row56_col4\" class=\"data row56 col4\" >-0.154545</td>\n",
       "      <td id=\"T_9bb49_row56_col5\" class=\"data row56 col5\" >-0.154545</td>\n",
       "      <td id=\"T_9bb49_row56_col6\" class=\"data row56 col6\" >0.000000</td>\n",
       "      <td id=\"T_9bb49_row56_col7\" class=\"data row56 col7\" >0.019422</td>\n",
       "      <td id=\"T_9bb49_row56_col8\" class=\"data row56 col8\" >0.019422</td>\n",
       "      <td id=\"T_9bb49_row56_col9\" class=\"data row56 col9\" >0.000000</td>\n",
       "      <td id=\"T_9bb49_row56_col10\" class=\"data row56 col10\" >-0.045921</td>\n",
       "      <td id=\"T_9bb49_row56_col11\" class=\"data row56 col11\" >-0.045921</td>\n",
       "    </tr>\n",
       "    <tr>\n",
       "      <th id=\"T_9bb49_level0_row57\" class=\"row_heading level0 row57\" >59</th>\n",
       "      <td id=\"T_9bb49_row57_col0\" class=\"data row57 col0\" >0.000000</td>\n",
       "      <td id=\"T_9bb49_row57_col1\" class=\"data row57 col1\" >-0.053571</td>\n",
       "      <td id=\"T_9bb49_row57_col2\" class=\"data row57 col2\" >-0.058333</td>\n",
       "      <td id=\"T_9bb49_row57_col3\" class=\"data row57 col3\" >0.000000</td>\n",
       "      <td id=\"T_9bb49_row57_col4\" class=\"data row57 col4\" >-0.173684</td>\n",
       "      <td id=\"T_9bb49_row57_col5\" class=\"data row57 col5\" >-0.121053</td>\n",
       "      <td id=\"T_9bb49_row57_col6\" class=\"data row57 col6\" >0.000000</td>\n",
       "      <td id=\"T_9bb49_row57_col7\" class=\"data row57 col7\" >0.022898</td>\n",
       "      <td id=\"T_9bb49_row57_col8\" class=\"data row57 col8\" >0.025455</td>\n",
       "      <td id=\"T_9bb49_row57_col9\" class=\"data row57 col9\" >0.000000</td>\n",
       "      <td id=\"T_9bb49_row57_col10\" class=\"data row57 col10\" >-0.060056</td>\n",
       "      <td id=\"T_9bb49_row57_col11\" class=\"data row57 col11\" >-0.031360</td>\n",
       "    </tr>\n",
       "    <tr>\n",
       "      <th id=\"T_9bb49_level0_row58\" class=\"row_heading level0 row58\" >60</th>\n",
       "      <td id=\"T_9bb49_row58_col0\" class=\"data row58 col0\" >0.000000</td>\n",
       "      <td id=\"T_9bb49_row58_col1\" class=\"data row58 col1\" >-0.085610</td>\n",
       "      <td id=\"T_9bb49_row58_col2\" class=\"data row58 col2\" >-0.077774</td>\n",
       "      <td id=\"T_9bb49_row58_col3\" class=\"data row58 col3\" >0.000000</td>\n",
       "      <td id=\"T_9bb49_row58_col4\" class=\"data row58 col4\" >0.023392</td>\n",
       "      <td id=\"T_9bb49_row58_col5\" class=\"data row58 col5\" >-0.198830</td>\n",
       "      <td id=\"T_9bb49_row58_col6\" class=\"data row58 col6\" >0.000000</td>\n",
       "      <td id=\"T_9bb49_row58_col7\" class=\"data row58 col7\" >0.052744</td>\n",
       "      <td id=\"T_9bb49_row58_col8\" class=\"data row58 col8\" >0.015298</td>\n",
       "      <td id=\"T_9bb49_row58_col9\" class=\"data row58 col9\" >0.000000</td>\n",
       "      <td id=\"T_9bb49_row58_col10\" class=\"data row58 col10\" >0.054501</td>\n",
       "      <td id=\"T_9bb49_row58_col11\" class=\"data row58 col11\" >-0.060528</td>\n",
       "    </tr>\n",
       "  </tbody>\n",
       "</table>\n"
      ],
      "text/plain": [
       "<pandas.io.formats.style.Styler at 0x21921765a20>"
      ]
     },
     "execution_count": 18,
     "metadata": {},
     "output_type": "execute_result"
    }
   ],
   "source": [
    "s = showTable(df_buecher)\n",
    "s"
   ]
  }
 ],
 "metadata": {
  "kernelspec": {
   "display_name": "Python 3.10.2 64-bit",
   "language": "python",
   "name": "python3"
  },
  "language_info": {
   "codemirror_mode": {
    "name": "ipython",
    "version": 3
   },
   "file_extension": ".py",
   "mimetype": "text/x-python",
   "name": "python",
   "nbconvert_exporter": "python",
   "pygments_lexer": "ipython3",
   "version": "3.10.2"
  },
  "orig_nbformat": 4,
  "vscode": {
   "interpreter": {
    "hash": "369f2c481f4da34e4445cda3fffd2e751bd1c4d706f27375911949ba6bb62e1c"
   }
  }
 },
 "nbformat": 4,
 "nbformat_minor": 2
}
