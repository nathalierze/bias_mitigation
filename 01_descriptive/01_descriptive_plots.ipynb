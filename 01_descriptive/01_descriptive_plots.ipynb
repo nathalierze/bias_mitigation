{
 "cells": [
  {
   "cell_type": "code",
   "execution_count": null,
   "metadata": {},
   "outputs": [],
   "source": [
    "import pandas as pd\n",
    "import pickle\n",
    "import seaborn as sns\n",
    "import numpy as np\n",
    "import itertools\n",
    "from matplotlib import pyplot as plt\n"
   ]
  },
  {
   "attachments": {},
   "cell_type": "markdown",
   "metadata": {},
   "source": [
    "Dropout prediction model"
   ]
  },
  {
   "cell_type": "code",
   "execution_count": null,
   "metadata": {},
   "outputs": [],
   "source": [
    "## get Count of Sentences for each matrice n\n",
    "\n",
    "n = list(range(2, 61))\n",
    "sentence_len= pd.DataFrame(columns=['Sentence', 'Count'])\n",
    "\n",
    "for x in n:\n",
    "    path='../../02_dropout_prediction/01_keep_it_up/matrices_forte/matrix'+str(x)+'.pkl'\n",
    "    infile = open(path,'rb')\n",
    "    get_length = pickle.load(infile)\n",
    "    infile.close()\n",
    "    l = len(get_length)\n",
    "    sentence_len = sentence_len.append({'Sentence': x, 'Count':l}, ignore_index=True)\n",
    "\n",
    "sentence_len['Sentence']=sentence_len['Sentence'].astype('int')\n",
    "sentence_len['Count']=sentence_len['Count'].astype('int')\n",
    "sns.lineplot(data=sentence_len, x=\"Sentence\", y=\"Count\")"
   ]
  },
  {
   "attachments": {},
   "cell_type": "markdown",
   "metadata": {},
   "source": [
    "Count of user per subgroup"
   ]
  },
  {
   "cell_type": "code",
   "execution_count": null,
   "metadata": {},
   "outputs": [],
   "source": [
    "infile = open('fairness_ready.pkl','rb')\n",
    "df = pickle.load(infile)\n",
    "infile.close()\n",
    "\n",
    "#Abi eltern\n",
    "df.AbiEltern = df.AbiEltern.astype('float')\n",
    "df_abi = df[df.AbiEltern > 0]\n",
    "df_keinAbi = df[df.AbiEltern ==0]\n",
    "df_weissnicht = df[df.AbiEltern.isnull()]\n",
    "#Gender\n",
    "df_boys = df[df.Sex__m == 1]\n",
    "df_girls = df[df.Sex__w == 1]\n",
    "# Migration\n",
    "df_deutsch = df[df.eigSprache == 1]\n",
    "df_migration = df[df.eigSprache == 0]\n",
    "# Anzahl Bücher\n",
    "df['Buecher'] = df['Buecher'].replace(['10'],0)\n",
    "df['Buecher'] = df['Buecher'].replace(['200'],1)\n",
    "df_buch0 = df[df.Buecher == 0.0]\n",
    "df_buch1 = df[df.Buecher == 1]"
   ]
  },
  {
   "cell_type": "code",
   "execution_count": null,
   "metadata": {},
   "outputs": [],
   "source": [
    "## count of sentences per subgroup and n\n",
    "\n",
    "group = ['abiEltern', 'abiEltern', 'gender', 'gender', 'erstsprache', 'erstsprache', 'buecher', 'buecher']\n",
    "subgroup = ['abi', 'keinAbi', 'boys', 'girls', 'deutsch', 'migration', 'buch0', 'buch1']\n",
    "df_name = [df_abi, df_keinAbi, df_boys, df_girls, df_deutsch, df_migration, df_buch0, df_buch1]\n",
    "sentence_len= pd.DataFrame(columns=['Sentence', 'Count','group','subgroup'])\n",
    "matrice = ['matrices_forte_abi', 'matrices_forte_keinAbi','matrices_forte_boys','matrices_forte_girls', 'matrices_forte_deutsch', 'matrices_forte_migration', 'matrices_buecher_0', 'matrices_buecher_1']\n",
    "\n",
    "for (df_name, group, subgroup, matrice) in zip(df_name, group, subgroup, matrice):\n",
    "    n = list(range(2, 61))\n",
    "    \n",
    "    for x in n:\n",
    "        path='../../02_dropout_prediction/01_keep_it_up/matrices_forte/matrix'+str(x)+'.pkl'\n",
    "        infile = open(path,'rb')\n",
    "        get_length = pickle.load(infile)\n",
    "        l = len(get_length)\n",
    "        sentence_len = sentence_len.append({'Sentence': x, 'Count':l,'group':group,'subgroup':subgroup}, ignore_index=True)\n",
    "\n",
    "    sentence_len['Sentence']=sentence_len['Sentence'].astype('int')\n",
    "    sentence_len['Count']=sentence_len['Count'].astype('int')"
   ]
  },
  {
   "cell_type": "code",
   "execution_count": null,
   "metadata": {},
   "outputs": [],
   "source": [
    "## plot\n",
    "group = ['abiEltern', 'gender', 'erstsprache', 'buecher']\n",
    "\n",
    "for x in group:\n",
    "    df = sentence_len[sentence_len.group ==x]\n",
    "    sns.lineplot(data=df, x=\"Sentence\", y=\"Count\", hue='subgroup')\n",
    "    plt.show()"
   ]
  },
  {
   "attachments": {},
   "cell_type": "markdown",
   "metadata": {},
   "source": [
    "Solution Probability Model"
   ]
  },
  {
   "cell_type": "code",
   "execution_count": null,
   "metadata": {},
   "outputs": [],
   "source": [
    "## Count of items in that where used in the model\n",
    "infile = open('../04_predictionUserHistory/01_data/FINALsmallSampleSet_3months_without_duplicates.pkl','rb')\n",
    "import_file = pickle.load(infile)\n",
    "infile.close()"
   ]
  },
  {
   "cell_type": "code",
   "execution_count": null,
   "metadata": {},
   "outputs": [],
   "source": [
    "## count of user per subgroup\n",
    "\n",
    "infile = open('preprocessed_umfrage.pkl','rb')\n",
    "df = pickle.load(infile)\n",
    "infile.close()\n",
    "\n",
    "# Abi eltern\n",
    "df.AbiEltern = df.AbiEltern.astype('float')\n",
    "df_abi = df[df.AbiEltern > 0]\n",
    "df_keinAbi = df[df.AbiEltern ==0]\n",
    "df_weissnicht = df[df.AbiEltern.isnull()]\n",
    "\n",
    "print(len(df_abi.UserID.unique()))\n",
    "print(len(df_keinAbi.UserID.unique()))\n",
    "print(len(df_weissnicht.UserID.unique()))\n",
    "\n",
    "#Gender\n",
    "df_boys = df[df.Sex__m == 1]\n",
    "df_girls = df[df.Sex__w == 1]\n",
    "print(len(df_boys.UserID.unique()))\n",
    "print(len(df_girls.UserID.unique()))\n",
    "\n",
    "# Migration\n",
    "df_deutsch = df[df.eigSprache == 1]\n",
    "df_migration = df[df.eigSprache == 0]\n",
    "\n",
    "print(len(df_deutsch.UserID.unique()))\n",
    "print(len(df_migration.UserID.unique()))\n",
    "\n",
    "# Anzahl Bücher\n",
    "df['Buecher'] = df['Buecher'].replace(['10'],0)\n",
    "df['Buecher'] = df['Buecher'].replace(['200'],1)\n",
    "df_buch0 = df[df.Buecher == 0.0]\n",
    "df_buch1 = df[df.Buecher == 1]\n",
    "\n",
    "print(len(df_buch0.UserID.unique()))\n",
    "print(len(df_buch1.UserID.unique()))   "
   ]
  }
 ],
 "metadata": {
  "kernelspec": {
   "display_name": "Python 3.10.2 64-bit",
   "language": "python",
   "name": "python3"
  },
  "language_info": {
   "codemirror_mode": {
    "name": "ipython",
    "version": 3
   },
   "file_extension": ".py",
   "mimetype": "text/x-python",
   "name": "python",
   "nbconvert_exporter": "python",
   "pygments_lexer": "ipython3",
   "version": "3.10.2"
  },
  "orig_nbformat": 4,
  "vscode": {
   "interpreter": {
    "hash": "369f2c481f4da34e4445cda3fffd2e751bd1c4d706f27375911949ba6bb62e1c"
   }
  }
 },
 "nbformat": 4,
 "nbformat_minor": 2
}
