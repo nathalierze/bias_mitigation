{
 "cells": [
  {
   "cell_type": "code",
   "execution_count": 3,
   "metadata": {},
   "outputs": [],
   "source": [
    "import pandas as pd\n",
    "import pickle\n",
    "import seaborn as sns\n",
    "import numpy as np\n",
    "from sklearn.tree import DecisionTreeClassifier\n",
    "from sklearn.model_selection import train_test_split \n",
    "from sklearn.neighbors import KNeighborsClassifier\n",
    "from sklearn import tree\n",
    "from matplotlib import pyplot as plt\n",
    "from sklearn.model_selection import cross_val_score, KFold, StratifiedKFold\n",
    "from sklearn.preprocessing import StandardScaler\n",
    "from sklearn.model_selection import train_test_split\n",
    "from sklearn.metrics import log_loss, roc_auc_score, recall_score, precision_score, accuracy_score, plot_roc_curve, plot_confusion_matrix, roc_curve, confusion_matrix\n",
    "import itertools\n",
    "from tensorflow.keras.initializers import Constant, TruncatedNormal\n",
    "from tensorflow.keras.layers import Activation, Dense\n",
    "from tensorflow.keras.models import Sequential\n",
    "from tensorflow.keras.optimizers import Adam\n",
    "from tensorflow.keras.utils import to_categorical\n",
    "from tensorflow.keras.wrappers.scikit_learn import KerasClassifier\n",
    "from sklearn.preprocessing import LabelEncoder\n",
    "from numpy import mean, absolute"
   ]
  },
  {
   "cell_type": "markdown",
   "metadata": {},
   "source": [
    "deutsch"
   ]
  },
  {
   "cell_type": "code",
   "execution_count": 4,
   "metadata": {},
   "outputs": [],
   "source": [
    "n = [2,3,4,5,6,7,8,9,10,11,12,13,14,15,16,17,18,19,20,21,22,23,24,25,26,27,28,29,30,31,32,33,34,35,36,37,38,39,40,41,42,43,44,45,46,47,48,49,50,51,52,53,54,55,56,57,58,59,60]\n",
    "\n",
    "for i in n:\n",
    "    path='../06_optimize_Fairness/eigSprache_allsessions/matrix'+str(i)+'.pkl'\n",
    "    infile = open(path,'rb')\n",
    "    df = pickle.load(infile)\n",
    "    infile.close()\n",
    "\n",
    "    df = df[df.eigSprache == 1]\n",
    "    \n",
    "    path = 'erstsprache/matrix_deutsch'+ str(i) +'.pkl'\n",
    "    df.to_pickle(path)"
   ]
  },
  {
   "cell_type": "code",
   "execution_count": 5,
   "metadata": {},
   "outputs": [],
   "source": [
    "metrics = pd.DataFrame(columns=['model', 'group', 'subgroup','Length', 'Sentence', 'Accuracy', 'Precision', 'Recall', 'AUC', 'FPR'])"
   ]
  },
  {
   "cell_type": "code",
   "execution_count": 6,
   "metadata": {},
   "outputs": [],
   "source": [
    "def get_metrics(clf,X,y,cv,pred):\n",
    "    a = accuracy_score(y,pred)\n",
    "    p = precision_score(y,pred)\n",
    "    r = recall_score(y,pred)\n",
    "    roc_auc = roc_auc_score(y,pred)\n",
    "    tn, fp, fn, tp = confusion_matrix(y, pred).ravel()\n",
    "    fpr = fp/(fp+tn)\n",
    "\n",
    "    return a,p,r,roc_auc,fpr"
   ]
  },
  {
   "cell_type": "code",
   "execution_count": 7,
   "metadata": {},
   "outputs": [
    {
     "name": "stderr",
     "output_type": "stream",
     "text": [
      "C:\\Users\\Nathalie\\AppData\\Local\\Temp\\ipykernel_11560\\4250076.py:25: FutureWarning: The frame.append method is deprecated and will be removed from pandas in a future version. Use pandas.concat instead.\n",
      "  metrics = metrics.append({'model':'DTE','group':'erstsprache','subgroup':'deutsch','Length':len(df),'Sentence': i, 'Accuracy':a,'Precision': p, 'Recall':r, 'AUC':roc_auc, 'FPR':fpr}, ignore_index=True)\n",
      "C:\\Users\\Nathalie\\AppData\\Local\\Temp\\ipykernel_11560\\4250076.py:25: FutureWarning: The frame.append method is deprecated and will be removed from pandas in a future version. Use pandas.concat instead.\n",
      "  metrics = metrics.append({'model':'DTE','group':'erstsprache','subgroup':'deutsch','Length':len(df),'Sentence': i, 'Accuracy':a,'Precision': p, 'Recall':r, 'AUC':roc_auc, 'FPR':fpr}, ignore_index=True)\n",
      "C:\\Users\\Nathalie\\AppData\\Local\\Temp\\ipykernel_11560\\4250076.py:25: FutureWarning: The frame.append method is deprecated and will be removed from pandas in a future version. Use pandas.concat instead.\n",
      "  metrics = metrics.append({'model':'DTE','group':'erstsprache','subgroup':'deutsch','Length':len(df),'Sentence': i, 'Accuracy':a,'Precision': p, 'Recall':r, 'AUC':roc_auc, 'FPR':fpr}, ignore_index=True)\n",
      "C:\\Users\\Nathalie\\AppData\\Local\\Temp\\ipykernel_11560\\4250076.py:25: FutureWarning: The frame.append method is deprecated and will be removed from pandas in a future version. Use pandas.concat instead.\n",
      "  metrics = metrics.append({'model':'DTE','group':'erstsprache','subgroup':'deutsch','Length':len(df),'Sentence': i, 'Accuracy':a,'Precision': p, 'Recall':r, 'AUC':roc_auc, 'FPR':fpr}, ignore_index=True)\n",
      "C:\\Users\\Nathalie\\AppData\\Local\\Temp\\ipykernel_11560\\4250076.py:25: FutureWarning: The frame.append method is deprecated and will be removed from pandas in a future version. Use pandas.concat instead.\n",
      "  metrics = metrics.append({'model':'DTE','group':'erstsprache','subgroup':'deutsch','Length':len(df),'Sentence': i, 'Accuracy':a,'Precision': p, 'Recall':r, 'AUC':roc_auc, 'FPR':fpr}, ignore_index=True)\n",
      "C:\\Users\\Nathalie\\AppData\\Local\\Temp\\ipykernel_11560\\4250076.py:25: FutureWarning: The frame.append method is deprecated and will be removed from pandas in a future version. Use pandas.concat instead.\n",
      "  metrics = metrics.append({'model':'DTE','group':'erstsprache','subgroup':'deutsch','Length':len(df),'Sentence': i, 'Accuracy':a,'Precision': p, 'Recall':r, 'AUC':roc_auc, 'FPR':fpr}, ignore_index=True)\n",
      "C:\\Users\\Nathalie\\AppData\\Local\\Temp\\ipykernel_11560\\4250076.py:25: FutureWarning: The frame.append method is deprecated and will be removed from pandas in a future version. Use pandas.concat instead.\n",
      "  metrics = metrics.append({'model':'DTE','group':'erstsprache','subgroup':'deutsch','Length':len(df),'Sentence': i, 'Accuracy':a,'Precision': p, 'Recall':r, 'AUC':roc_auc, 'FPR':fpr}, ignore_index=True)\n",
      "C:\\Users\\Nathalie\\AppData\\Local\\Temp\\ipykernel_11560\\4250076.py:25: FutureWarning: The frame.append method is deprecated and will be removed from pandas in a future version. Use pandas.concat instead.\n",
      "  metrics = metrics.append({'model':'DTE','group':'erstsprache','subgroup':'deutsch','Length':len(df),'Sentence': i, 'Accuracy':a,'Precision': p, 'Recall':r, 'AUC':roc_auc, 'FPR':fpr}, ignore_index=True)\n",
      "C:\\Users\\Nathalie\\AppData\\Local\\Temp\\ipykernel_11560\\4250076.py:25: FutureWarning: The frame.append method is deprecated and will be removed from pandas in a future version. Use pandas.concat instead.\n",
      "  metrics = metrics.append({'model':'DTE','group':'erstsprache','subgroup':'deutsch','Length':len(df),'Sentence': i, 'Accuracy':a,'Precision': p, 'Recall':r, 'AUC':roc_auc, 'FPR':fpr}, ignore_index=True)\n",
      "C:\\Users\\Nathalie\\AppData\\Local\\Temp\\ipykernel_11560\\4250076.py:25: FutureWarning: The frame.append method is deprecated and will be removed from pandas in a future version. Use pandas.concat instead.\n",
      "  metrics = metrics.append({'model':'DTE','group':'erstsprache','subgroup':'deutsch','Length':len(df),'Sentence': i, 'Accuracy':a,'Precision': p, 'Recall':r, 'AUC':roc_auc, 'FPR':fpr}, ignore_index=True)\n",
      "C:\\Users\\Nathalie\\AppData\\Local\\Temp\\ipykernel_11560\\4250076.py:25: FutureWarning: The frame.append method is deprecated and will be removed from pandas in a future version. Use pandas.concat instead.\n",
      "  metrics = metrics.append({'model':'DTE','group':'erstsprache','subgroup':'deutsch','Length':len(df),'Sentence': i, 'Accuracy':a,'Precision': p, 'Recall':r, 'AUC':roc_auc, 'FPR':fpr}, ignore_index=True)\n",
      "C:\\Users\\Nathalie\\AppData\\Local\\Temp\\ipykernel_11560\\4250076.py:25: FutureWarning: The frame.append method is deprecated and will be removed from pandas in a future version. Use pandas.concat instead.\n",
      "  metrics = metrics.append({'model':'DTE','group':'erstsprache','subgroup':'deutsch','Length':len(df),'Sentence': i, 'Accuracy':a,'Precision': p, 'Recall':r, 'AUC':roc_auc, 'FPR':fpr}, ignore_index=True)\n",
      "C:\\Users\\Nathalie\\AppData\\Local\\Temp\\ipykernel_11560\\4250076.py:25: FutureWarning: The frame.append method is deprecated and will be removed from pandas in a future version. Use pandas.concat instead.\n",
      "  metrics = metrics.append({'model':'DTE','group':'erstsprache','subgroup':'deutsch','Length':len(df),'Sentence': i, 'Accuracy':a,'Precision': p, 'Recall':r, 'AUC':roc_auc, 'FPR':fpr}, ignore_index=True)\n",
      "C:\\Users\\Nathalie\\AppData\\Local\\Temp\\ipykernel_11560\\4250076.py:25: FutureWarning: The frame.append method is deprecated and will be removed from pandas in a future version. Use pandas.concat instead.\n",
      "  metrics = metrics.append({'model':'DTE','group':'erstsprache','subgroup':'deutsch','Length':len(df),'Sentence': i, 'Accuracy':a,'Precision': p, 'Recall':r, 'AUC':roc_auc, 'FPR':fpr}, ignore_index=True)\n",
      "C:\\Users\\Nathalie\\AppData\\Local\\Temp\\ipykernel_11560\\4250076.py:25: FutureWarning: The frame.append method is deprecated and will be removed from pandas in a future version. Use pandas.concat instead.\n",
      "  metrics = metrics.append({'model':'DTE','group':'erstsprache','subgroup':'deutsch','Length':len(df),'Sentence': i, 'Accuracy':a,'Precision': p, 'Recall':r, 'AUC':roc_auc, 'FPR':fpr}, ignore_index=True)\n",
      "C:\\Users\\Nathalie\\AppData\\Local\\Temp\\ipykernel_11560\\4250076.py:25: FutureWarning: The frame.append method is deprecated and will be removed from pandas in a future version. Use pandas.concat instead.\n",
      "  metrics = metrics.append({'model':'DTE','group':'erstsprache','subgroup':'deutsch','Length':len(df),'Sentence': i, 'Accuracy':a,'Precision': p, 'Recall':r, 'AUC':roc_auc, 'FPR':fpr}, ignore_index=True)\n",
      "C:\\Users\\Nathalie\\AppData\\Local\\Temp\\ipykernel_11560\\4250076.py:25: FutureWarning: The frame.append method is deprecated and will be removed from pandas in a future version. Use pandas.concat instead.\n",
      "  metrics = metrics.append({'model':'DTE','group':'erstsprache','subgroup':'deutsch','Length':len(df),'Sentence': i, 'Accuracy':a,'Precision': p, 'Recall':r, 'AUC':roc_auc, 'FPR':fpr}, ignore_index=True)\n",
      "C:\\Users\\Nathalie\\AppData\\Local\\Temp\\ipykernel_11560\\4250076.py:25: FutureWarning: The frame.append method is deprecated and will be removed from pandas in a future version. Use pandas.concat instead.\n",
      "  metrics = metrics.append({'model':'DTE','group':'erstsprache','subgroup':'deutsch','Length':len(df),'Sentence': i, 'Accuracy':a,'Precision': p, 'Recall':r, 'AUC':roc_auc, 'FPR':fpr}, ignore_index=True)\n",
      "C:\\Users\\Nathalie\\AppData\\Local\\Temp\\ipykernel_11560\\4250076.py:25: FutureWarning: The frame.append method is deprecated and will be removed from pandas in a future version. Use pandas.concat instead.\n",
      "  metrics = metrics.append({'model':'DTE','group':'erstsprache','subgroup':'deutsch','Length':len(df),'Sentence': i, 'Accuracy':a,'Precision': p, 'Recall':r, 'AUC':roc_auc, 'FPR':fpr}, ignore_index=True)\n",
      "C:\\Users\\Nathalie\\AppData\\Local\\Temp\\ipykernel_11560\\4250076.py:25: FutureWarning: The frame.append method is deprecated and will be removed from pandas in a future version. Use pandas.concat instead.\n",
      "  metrics = metrics.append({'model':'DTE','group':'erstsprache','subgroup':'deutsch','Length':len(df),'Sentence': i, 'Accuracy':a,'Precision': p, 'Recall':r, 'AUC':roc_auc, 'FPR':fpr}, ignore_index=True)\n",
      "C:\\Users\\Nathalie\\AppData\\Local\\Temp\\ipykernel_11560\\4250076.py:25: FutureWarning: The frame.append method is deprecated and will be removed from pandas in a future version. Use pandas.concat instead.\n",
      "  metrics = metrics.append({'model':'DTE','group':'erstsprache','subgroup':'deutsch','Length':len(df),'Sentence': i, 'Accuracy':a,'Precision': p, 'Recall':r, 'AUC':roc_auc, 'FPR':fpr}, ignore_index=True)\n",
      "C:\\Users\\Nathalie\\AppData\\Local\\Temp\\ipykernel_11560\\4250076.py:25: FutureWarning: The frame.append method is deprecated and will be removed from pandas in a future version. Use pandas.concat instead.\n",
      "  metrics = metrics.append({'model':'DTE','group':'erstsprache','subgroup':'deutsch','Length':len(df),'Sentence': i, 'Accuracy':a,'Precision': p, 'Recall':r, 'AUC':roc_auc, 'FPR':fpr}, ignore_index=True)\n",
      "C:\\Users\\Nathalie\\AppData\\Local\\Temp\\ipykernel_11560\\4250076.py:25: FutureWarning: The frame.append method is deprecated and will be removed from pandas in a future version. Use pandas.concat instead.\n",
      "  metrics = metrics.append({'model':'DTE','group':'erstsprache','subgroup':'deutsch','Length':len(df),'Sentence': i, 'Accuracy':a,'Precision': p, 'Recall':r, 'AUC':roc_auc, 'FPR':fpr}, ignore_index=True)\n",
      "C:\\Users\\Nathalie\\AppData\\Local\\Temp\\ipykernel_11560\\4250076.py:25: FutureWarning: The frame.append method is deprecated and will be removed from pandas in a future version. Use pandas.concat instead.\n",
      "  metrics = metrics.append({'model':'DTE','group':'erstsprache','subgroup':'deutsch','Length':len(df),'Sentence': i, 'Accuracy':a,'Precision': p, 'Recall':r, 'AUC':roc_auc, 'FPR':fpr}, ignore_index=True)\n",
      "C:\\Users\\Nathalie\\AppData\\Local\\Temp\\ipykernel_11560\\4250076.py:25: FutureWarning: The frame.append method is deprecated and will be removed from pandas in a future version. Use pandas.concat instead.\n",
      "  metrics = metrics.append({'model':'DTE','group':'erstsprache','subgroup':'deutsch','Length':len(df),'Sentence': i, 'Accuracy':a,'Precision': p, 'Recall':r, 'AUC':roc_auc, 'FPR':fpr}, ignore_index=True)\n",
      "C:\\Users\\Nathalie\\AppData\\Local\\Temp\\ipykernel_11560\\4250076.py:25: FutureWarning: The frame.append method is deprecated and will be removed from pandas in a future version. Use pandas.concat instead.\n",
      "  metrics = metrics.append({'model':'DTE','group':'erstsprache','subgroup':'deutsch','Length':len(df),'Sentence': i, 'Accuracy':a,'Precision': p, 'Recall':r, 'AUC':roc_auc, 'FPR':fpr}, ignore_index=True)\n",
      "C:\\Users\\Nathalie\\AppData\\Local\\Temp\\ipykernel_11560\\4250076.py:25: FutureWarning: The frame.append method is deprecated and will be removed from pandas in a future version. Use pandas.concat instead.\n",
      "  metrics = metrics.append({'model':'DTE','group':'erstsprache','subgroup':'deutsch','Length':len(df),'Sentence': i, 'Accuracy':a,'Precision': p, 'Recall':r, 'AUC':roc_auc, 'FPR':fpr}, ignore_index=True)\n",
      "C:\\Users\\Nathalie\\AppData\\Local\\Temp\\ipykernel_11560\\4250076.py:25: FutureWarning: The frame.append method is deprecated and will be removed from pandas in a future version. Use pandas.concat instead.\n",
      "  metrics = metrics.append({'model':'DTE','group':'erstsprache','subgroup':'deutsch','Length':len(df),'Sentence': i, 'Accuracy':a,'Precision': p, 'Recall':r, 'AUC':roc_auc, 'FPR':fpr}, ignore_index=True)\n",
      "C:\\Users\\Nathalie\\AppData\\Local\\Temp\\ipykernel_11560\\4250076.py:25: FutureWarning: The frame.append method is deprecated and will be removed from pandas in a future version. Use pandas.concat instead.\n",
      "  metrics = metrics.append({'model':'DTE','group':'erstsprache','subgroup':'deutsch','Length':len(df),'Sentence': i, 'Accuracy':a,'Precision': p, 'Recall':r, 'AUC':roc_auc, 'FPR':fpr}, ignore_index=True)\n",
      "C:\\Users\\Nathalie\\AppData\\Local\\Temp\\ipykernel_11560\\4250076.py:25: FutureWarning: The frame.append method is deprecated and will be removed from pandas in a future version. Use pandas.concat instead.\n",
      "  metrics = metrics.append({'model':'DTE','group':'erstsprache','subgroup':'deutsch','Length':len(df),'Sentence': i, 'Accuracy':a,'Precision': p, 'Recall':r, 'AUC':roc_auc, 'FPR':fpr}, ignore_index=True)\n",
      "C:\\Users\\Nathalie\\AppData\\Local\\Temp\\ipykernel_11560\\4250076.py:25: FutureWarning: The frame.append method is deprecated and will be removed from pandas in a future version. Use pandas.concat instead.\n",
      "  metrics = metrics.append({'model':'DTE','group':'erstsprache','subgroup':'deutsch','Length':len(df),'Sentence': i, 'Accuracy':a,'Precision': p, 'Recall':r, 'AUC':roc_auc, 'FPR':fpr}, ignore_index=True)\n",
      "C:\\Users\\Nathalie\\AppData\\Local\\Temp\\ipykernel_11560\\4250076.py:25: FutureWarning: The frame.append method is deprecated and will be removed from pandas in a future version. Use pandas.concat instead.\n",
      "  metrics = metrics.append({'model':'DTE','group':'erstsprache','subgroup':'deutsch','Length':len(df),'Sentence': i, 'Accuracy':a,'Precision': p, 'Recall':r, 'AUC':roc_auc, 'FPR':fpr}, ignore_index=True)\n",
      "C:\\Users\\Nathalie\\AppData\\Local\\Temp\\ipykernel_11560\\4250076.py:25: FutureWarning: The frame.append method is deprecated and will be removed from pandas in a future version. Use pandas.concat instead.\n",
      "  metrics = metrics.append({'model':'DTE','group':'erstsprache','subgroup':'deutsch','Length':len(df),'Sentence': i, 'Accuracy':a,'Precision': p, 'Recall':r, 'AUC':roc_auc, 'FPR':fpr}, ignore_index=True)\n",
      "C:\\Users\\Nathalie\\AppData\\Local\\Temp\\ipykernel_11560\\4250076.py:25: FutureWarning: The frame.append method is deprecated and will be removed from pandas in a future version. Use pandas.concat instead.\n",
      "  metrics = metrics.append({'model':'DTE','group':'erstsprache','subgroup':'deutsch','Length':len(df),'Sentence': i, 'Accuracy':a,'Precision': p, 'Recall':r, 'AUC':roc_auc, 'FPR':fpr}, ignore_index=True)\n",
      "C:\\Users\\Nathalie\\AppData\\Local\\Temp\\ipykernel_11560\\4250076.py:25: FutureWarning: The frame.append method is deprecated and will be removed from pandas in a future version. Use pandas.concat instead.\n",
      "  metrics = metrics.append({'model':'DTE','group':'erstsprache','subgroup':'deutsch','Length':len(df),'Sentence': i, 'Accuracy':a,'Precision': p, 'Recall':r, 'AUC':roc_auc, 'FPR':fpr}, ignore_index=True)\n",
      "C:\\Users\\Nathalie\\AppData\\Local\\Temp\\ipykernel_11560\\4250076.py:25: FutureWarning: The frame.append method is deprecated and will be removed from pandas in a future version. Use pandas.concat instead.\n",
      "  metrics = metrics.append({'model':'DTE','group':'erstsprache','subgroup':'deutsch','Length':len(df),'Sentence': i, 'Accuracy':a,'Precision': p, 'Recall':r, 'AUC':roc_auc, 'FPR':fpr}, ignore_index=True)\n",
      "C:\\Users\\Nathalie\\AppData\\Local\\Temp\\ipykernel_11560\\4250076.py:25: FutureWarning: The frame.append method is deprecated and will be removed from pandas in a future version. Use pandas.concat instead.\n",
      "  metrics = metrics.append({'model':'DTE','group':'erstsprache','subgroup':'deutsch','Length':len(df),'Sentence': i, 'Accuracy':a,'Precision': p, 'Recall':r, 'AUC':roc_auc, 'FPR':fpr}, ignore_index=True)\n",
      "C:\\Users\\Nathalie\\AppData\\Local\\Temp\\ipykernel_11560\\4250076.py:25: FutureWarning: The frame.append method is deprecated and will be removed from pandas in a future version. Use pandas.concat instead.\n",
      "  metrics = metrics.append({'model':'DTE','group':'erstsprache','subgroup':'deutsch','Length':len(df),'Sentence': i, 'Accuracy':a,'Precision': p, 'Recall':r, 'AUC':roc_auc, 'FPR':fpr}, ignore_index=True)\n",
      "C:\\Users\\Nathalie\\AppData\\Local\\Temp\\ipykernel_11560\\4250076.py:25: FutureWarning: The frame.append method is deprecated and will be removed from pandas in a future version. Use pandas.concat instead.\n",
      "  metrics = metrics.append({'model':'DTE','group':'erstsprache','subgroup':'deutsch','Length':len(df),'Sentence': i, 'Accuracy':a,'Precision': p, 'Recall':r, 'AUC':roc_auc, 'FPR':fpr}, ignore_index=True)\n",
      "C:\\Users\\Nathalie\\AppData\\Local\\Temp\\ipykernel_11560\\4250076.py:25: FutureWarning: The frame.append method is deprecated and will be removed from pandas in a future version. Use pandas.concat instead.\n",
      "  metrics = metrics.append({'model':'DTE','group':'erstsprache','subgroup':'deutsch','Length':len(df),'Sentence': i, 'Accuracy':a,'Precision': p, 'Recall':r, 'AUC':roc_auc, 'FPR':fpr}, ignore_index=True)\n",
      "C:\\Users\\Nathalie\\AppData\\Local\\Temp\\ipykernel_11560\\4250076.py:25: FutureWarning: The frame.append method is deprecated and will be removed from pandas in a future version. Use pandas.concat instead.\n",
      "  metrics = metrics.append({'model':'DTE','group':'erstsprache','subgroup':'deutsch','Length':len(df),'Sentence': i, 'Accuracy':a,'Precision': p, 'Recall':r, 'AUC':roc_auc, 'FPR':fpr}, ignore_index=True)\n",
      "C:\\Users\\Nathalie\\AppData\\Local\\Temp\\ipykernel_11560\\4250076.py:25: FutureWarning: The frame.append method is deprecated and will be removed from pandas in a future version. Use pandas.concat instead.\n",
      "  metrics = metrics.append({'model':'DTE','group':'erstsprache','subgroup':'deutsch','Length':len(df),'Sentence': i, 'Accuracy':a,'Precision': p, 'Recall':r, 'AUC':roc_auc, 'FPR':fpr}, ignore_index=True)\n",
      "C:\\Users\\Nathalie\\AppData\\Local\\Temp\\ipykernel_11560\\4250076.py:25: FutureWarning: The frame.append method is deprecated and will be removed from pandas in a future version. Use pandas.concat instead.\n",
      "  metrics = metrics.append({'model':'DTE','group':'erstsprache','subgroup':'deutsch','Length':len(df),'Sentence': i, 'Accuracy':a,'Precision': p, 'Recall':r, 'AUC':roc_auc, 'FPR':fpr}, ignore_index=True)\n",
      "C:\\Users\\Nathalie\\AppData\\Local\\Temp\\ipykernel_11560\\4250076.py:25: FutureWarning: The frame.append method is deprecated and will be removed from pandas in a future version. Use pandas.concat instead.\n",
      "  metrics = metrics.append({'model':'DTE','group':'erstsprache','subgroup':'deutsch','Length':len(df),'Sentence': i, 'Accuracy':a,'Precision': p, 'Recall':r, 'AUC':roc_auc, 'FPR':fpr}, ignore_index=True)\n",
      "C:\\Users\\Nathalie\\AppData\\Local\\Temp\\ipykernel_11560\\4250076.py:25: FutureWarning: The frame.append method is deprecated and will be removed from pandas in a future version. Use pandas.concat instead.\n",
      "  metrics = metrics.append({'model':'DTE','group':'erstsprache','subgroup':'deutsch','Length':len(df),'Sentence': i, 'Accuracy':a,'Precision': p, 'Recall':r, 'AUC':roc_auc, 'FPR':fpr}, ignore_index=True)\n",
      "C:\\Users\\Nathalie\\AppData\\Local\\Temp\\ipykernel_11560\\4250076.py:25: FutureWarning: The frame.append method is deprecated and will be removed from pandas in a future version. Use pandas.concat instead.\n",
      "  metrics = metrics.append({'model':'DTE','group':'erstsprache','subgroup':'deutsch','Length':len(df),'Sentence': i, 'Accuracy':a,'Precision': p, 'Recall':r, 'AUC':roc_auc, 'FPR':fpr}, ignore_index=True)\n",
      "C:\\Users\\Nathalie\\AppData\\Local\\Temp\\ipykernel_11560\\4250076.py:25: FutureWarning: The frame.append method is deprecated and will be removed from pandas in a future version. Use pandas.concat instead.\n",
      "  metrics = metrics.append({'model':'DTE','group':'erstsprache','subgroup':'deutsch','Length':len(df),'Sentence': i, 'Accuracy':a,'Precision': p, 'Recall':r, 'AUC':roc_auc, 'FPR':fpr}, ignore_index=True)\n",
      "C:\\Users\\Nathalie\\AppData\\Local\\Temp\\ipykernel_11560\\4250076.py:25: FutureWarning: The frame.append method is deprecated and will be removed from pandas in a future version. Use pandas.concat instead.\n",
      "  metrics = metrics.append({'model':'DTE','group':'erstsprache','subgroup':'deutsch','Length':len(df),'Sentence': i, 'Accuracy':a,'Precision': p, 'Recall':r, 'AUC':roc_auc, 'FPR':fpr}, ignore_index=True)\n",
      "C:\\Users\\Nathalie\\AppData\\Local\\Temp\\ipykernel_11560\\4250076.py:25: FutureWarning: The frame.append method is deprecated and will be removed from pandas in a future version. Use pandas.concat instead.\n",
      "  metrics = metrics.append({'model':'DTE','group':'erstsprache','subgroup':'deutsch','Length':len(df),'Sentence': i, 'Accuracy':a,'Precision': p, 'Recall':r, 'AUC':roc_auc, 'FPR':fpr}, ignore_index=True)\n",
      "C:\\Users\\Nathalie\\AppData\\Local\\Temp\\ipykernel_11560\\4250076.py:25: FutureWarning: The frame.append method is deprecated and will be removed from pandas in a future version. Use pandas.concat instead.\n",
      "  metrics = metrics.append({'model':'DTE','group':'erstsprache','subgroup':'deutsch','Length':len(df),'Sentence': i, 'Accuracy':a,'Precision': p, 'Recall':r, 'AUC':roc_auc, 'FPR':fpr}, ignore_index=True)\n",
      "C:\\Users\\Nathalie\\AppData\\Local\\Temp\\ipykernel_11560\\4250076.py:25: FutureWarning: The frame.append method is deprecated and will be removed from pandas in a future version. Use pandas.concat instead.\n",
      "  metrics = metrics.append({'model':'DTE','group':'erstsprache','subgroup':'deutsch','Length':len(df),'Sentence': i, 'Accuracy':a,'Precision': p, 'Recall':r, 'AUC':roc_auc, 'FPR':fpr}, ignore_index=True)\n",
      "C:\\Users\\Nathalie\\AppData\\Local\\Temp\\ipykernel_11560\\4250076.py:25: FutureWarning: The frame.append method is deprecated and will be removed from pandas in a future version. Use pandas.concat instead.\n",
      "  metrics = metrics.append({'model':'DTE','group':'erstsprache','subgroup':'deutsch','Length':len(df),'Sentence': i, 'Accuracy':a,'Precision': p, 'Recall':r, 'AUC':roc_auc, 'FPR':fpr}, ignore_index=True)\n",
      "C:\\Users\\Nathalie\\AppData\\Local\\Temp\\ipykernel_11560\\4250076.py:25: FutureWarning: The frame.append method is deprecated and will be removed from pandas in a future version. Use pandas.concat instead.\n",
      "  metrics = metrics.append({'model':'DTE','group':'erstsprache','subgroup':'deutsch','Length':len(df),'Sentence': i, 'Accuracy':a,'Precision': p, 'Recall':r, 'AUC':roc_auc, 'FPR':fpr}, ignore_index=True)\n",
      "C:\\Users\\Nathalie\\AppData\\Local\\Temp\\ipykernel_11560\\4250076.py:25: FutureWarning: The frame.append method is deprecated and will be removed from pandas in a future version. Use pandas.concat instead.\n",
      "  metrics = metrics.append({'model':'DTE','group':'erstsprache','subgroup':'deutsch','Length':len(df),'Sentence': i, 'Accuracy':a,'Precision': p, 'Recall':r, 'AUC':roc_auc, 'FPR':fpr}, ignore_index=True)\n",
      "C:\\Users\\Nathalie\\AppData\\Local\\Temp\\ipykernel_11560\\4250076.py:25: FutureWarning: The frame.append method is deprecated and will be removed from pandas in a future version. Use pandas.concat instead.\n",
      "  metrics = metrics.append({'model':'DTE','group':'erstsprache','subgroup':'deutsch','Length':len(df),'Sentence': i, 'Accuracy':a,'Precision': p, 'Recall':r, 'AUC':roc_auc, 'FPR':fpr}, ignore_index=True)\n",
      "C:\\Users\\Nathalie\\AppData\\Local\\Temp\\ipykernel_11560\\4250076.py:25: FutureWarning: The frame.append method is deprecated and will be removed from pandas in a future version. Use pandas.concat instead.\n",
      "  metrics = metrics.append({'model':'DTE','group':'erstsprache','subgroup':'deutsch','Length':len(df),'Sentence': i, 'Accuracy':a,'Precision': p, 'Recall':r, 'AUC':roc_auc, 'FPR':fpr}, ignore_index=True)\n",
      "C:\\Users\\Nathalie\\AppData\\Local\\Temp\\ipykernel_11560\\4250076.py:25: FutureWarning: The frame.append method is deprecated and will be removed from pandas in a future version. Use pandas.concat instead.\n",
      "  metrics = metrics.append({'model':'DTE','group':'erstsprache','subgroup':'deutsch','Length':len(df),'Sentence': i, 'Accuracy':a,'Precision': p, 'Recall':r, 'AUC':roc_auc, 'FPR':fpr}, ignore_index=True)\n",
      "C:\\Users\\Nathalie\\AppData\\Local\\Temp\\ipykernel_11560\\4250076.py:25: FutureWarning: The frame.append method is deprecated and will be removed from pandas in a future version. Use pandas.concat instead.\n",
      "  metrics = metrics.append({'model':'DTE','group':'erstsprache','subgroup':'deutsch','Length':len(df),'Sentence': i, 'Accuracy':a,'Precision': p, 'Recall':r, 'AUC':roc_auc, 'FPR':fpr}, ignore_index=True)\n",
      "C:\\Users\\Nathalie\\AppData\\Local\\Temp\\ipykernel_11560\\4250076.py:25: FutureWarning: The frame.append method is deprecated and will be removed from pandas in a future version. Use pandas.concat instead.\n",
      "  metrics = metrics.append({'model':'DTE','group':'erstsprache','subgroup':'deutsch','Length':len(df),'Sentence': i, 'Accuracy':a,'Precision': p, 'Recall':r, 'AUC':roc_auc, 'FPR':fpr}, ignore_index=True)\n"
     ]
    }
   ],
   "source": [
    "n = [2,3,4,5,6,7,8,9,10,11,12,13,14,15,16,17,18,19,20,21,22,23,24,25,26,27,28,29,30,31,32,33,34,35,36,37,38,39,40,41,42,43,44,45,46,47,48,49,50,51,52,53,54,55,56,57,58,59,60]\n",
    "feature_cols = ['Erstloesung','Schussel','Erfolg', 'Schwierigkeit', 'ist_Schulzeit', 'MehrfachFalsch', 'vorher_abgebrochen','Fehler', 'Klassenstufe', 'Jahredabei','Testposition__pruefung', 'Testposition__training','Testposition__version', 'Art__GK', 'Art__GR', 'Art__GZ', 'Art__K', 'Art__LB','UserAttribut', 'OrderNumber', 'steps']\n",
    "\n",
    "for i in n:\n",
    "    #build models\n",
    "    path='erstsprache/matrix_deutsch'+str(i)+'.pkl'\n",
    "    infile = open(path,'rb')\n",
    "    df = pickle.load(infile)\n",
    "    infile.close()\n",
    "    df=df.reset_index()\n",
    "    X = df[feature_cols]\n",
    "    y = df.y\n",
    "    y= y.astype('int')\n",
    "    X_train, X_test, y_train, y_test = train_test_split(X, y, test_size=0.3, random_state=1)\n",
    "    k = 5\n",
    "    cv = KFold(n_splits=k, random_state=None)\n",
    "\n",
    "    #DTE\n",
    "    clf = DecisionTreeClassifier(criterion=\"entropy\", max_depth=5)\n",
    "    clf = clf.fit(X_train,y_train)\n",
    "    pred = clf.predict(X_test)\n",
    "\n",
    "    a,p,r,roc_auc,fpr = get_metrics(clf,X_test,y_test,cv,pred)\n",
    "\n",
    "    metrics = metrics.append({'model':'DTE','group':'erstsprache','subgroup':'deutsch','Length':len(df),'Sentence': i, 'Accuracy':a,'Precision': p, 'Recall':r, 'AUC':roc_auc, 'FPR':fpr}, ignore_index=True)"
   ]
  },
  {
   "cell_type": "code",
   "execution_count": 8,
   "metadata": {},
   "outputs": [
    {
     "name": "stderr",
     "output_type": "stream",
     "text": [
      "C:\\Users\\Nathalie\\AppData\\Local\\Temp\\ipykernel_11560\\1688942781.py:24: FutureWarning: The frame.append method is deprecated and will be removed from pandas in a future version. Use pandas.concat instead.\n",
      "  metrics = metrics.append({'model':'KNN','group':'erstsprache','subgroup':'deutsch','Length':len(df),'Sentence': i, 'Accuracy':a,'Precision': p, 'Recall':r, 'AUC':roc_auc, 'FPR':fpr}, ignore_index=True)\n",
      "C:\\Users\\Nathalie\\AppData\\Local\\Temp\\ipykernel_11560\\1688942781.py:24: FutureWarning: The frame.append method is deprecated and will be removed from pandas in a future version. Use pandas.concat instead.\n",
      "  metrics = metrics.append({'model':'KNN','group':'erstsprache','subgroup':'deutsch','Length':len(df),'Sentence': i, 'Accuracy':a,'Precision': p, 'Recall':r, 'AUC':roc_auc, 'FPR':fpr}, ignore_index=True)\n",
      "C:\\Users\\Nathalie\\AppData\\Local\\Temp\\ipykernel_11560\\1688942781.py:24: FutureWarning: The frame.append method is deprecated and will be removed from pandas in a future version. Use pandas.concat instead.\n",
      "  metrics = metrics.append({'model':'KNN','group':'erstsprache','subgroup':'deutsch','Length':len(df),'Sentence': i, 'Accuracy':a,'Precision': p, 'Recall':r, 'AUC':roc_auc, 'FPR':fpr}, ignore_index=True)\n",
      "C:\\Users\\Nathalie\\AppData\\Local\\Temp\\ipykernel_11560\\1688942781.py:24: FutureWarning: The frame.append method is deprecated and will be removed from pandas in a future version. Use pandas.concat instead.\n",
      "  metrics = metrics.append({'model':'KNN','group':'erstsprache','subgroup':'deutsch','Length':len(df),'Sentence': i, 'Accuracy':a,'Precision': p, 'Recall':r, 'AUC':roc_auc, 'FPR':fpr}, ignore_index=True)\n",
      "C:\\Users\\Nathalie\\AppData\\Local\\Temp\\ipykernel_11560\\1688942781.py:24: FutureWarning: The frame.append method is deprecated and will be removed from pandas in a future version. Use pandas.concat instead.\n",
      "  metrics = metrics.append({'model':'KNN','group':'erstsprache','subgroup':'deutsch','Length':len(df),'Sentence': i, 'Accuracy':a,'Precision': p, 'Recall':r, 'AUC':roc_auc, 'FPR':fpr}, ignore_index=True)\n",
      "C:\\Users\\Nathalie\\AppData\\Local\\Temp\\ipykernel_11560\\1688942781.py:24: FutureWarning: The frame.append method is deprecated and will be removed from pandas in a future version. Use pandas.concat instead.\n",
      "  metrics = metrics.append({'model':'KNN','group':'erstsprache','subgroup':'deutsch','Length':len(df),'Sentence': i, 'Accuracy':a,'Precision': p, 'Recall':r, 'AUC':roc_auc, 'FPR':fpr}, ignore_index=True)\n",
      "C:\\Users\\Nathalie\\AppData\\Local\\Temp\\ipykernel_11560\\1688942781.py:24: FutureWarning: The frame.append method is deprecated and will be removed from pandas in a future version. Use pandas.concat instead.\n",
      "  metrics = metrics.append({'model':'KNN','group':'erstsprache','subgroup':'deutsch','Length':len(df),'Sentence': i, 'Accuracy':a,'Precision': p, 'Recall':r, 'AUC':roc_auc, 'FPR':fpr}, ignore_index=True)\n",
      "C:\\Users\\Nathalie\\AppData\\Local\\Temp\\ipykernel_11560\\1688942781.py:24: FutureWarning: The frame.append method is deprecated and will be removed from pandas in a future version. Use pandas.concat instead.\n",
      "  metrics = metrics.append({'model':'KNN','group':'erstsprache','subgroup':'deutsch','Length':len(df),'Sentence': i, 'Accuracy':a,'Precision': p, 'Recall':r, 'AUC':roc_auc, 'FPR':fpr}, ignore_index=True)\n",
      "C:\\Users\\Nathalie\\AppData\\Local\\Temp\\ipykernel_11560\\1688942781.py:24: FutureWarning: The frame.append method is deprecated and will be removed from pandas in a future version. Use pandas.concat instead.\n",
      "  metrics = metrics.append({'model':'KNN','group':'erstsprache','subgroup':'deutsch','Length':len(df),'Sentence': i, 'Accuracy':a,'Precision': p, 'Recall':r, 'AUC':roc_auc, 'FPR':fpr}, ignore_index=True)\n",
      "C:\\Users\\Nathalie\\AppData\\Local\\Temp\\ipykernel_11560\\1688942781.py:24: FutureWarning: The frame.append method is deprecated and will be removed from pandas in a future version. Use pandas.concat instead.\n",
      "  metrics = metrics.append({'model':'KNN','group':'erstsprache','subgroup':'deutsch','Length':len(df),'Sentence': i, 'Accuracy':a,'Precision': p, 'Recall':r, 'AUC':roc_auc, 'FPR':fpr}, ignore_index=True)\n",
      "C:\\Users\\Nathalie\\AppData\\Local\\Temp\\ipykernel_11560\\1688942781.py:24: FutureWarning: The frame.append method is deprecated and will be removed from pandas in a future version. Use pandas.concat instead.\n",
      "  metrics = metrics.append({'model':'KNN','group':'erstsprache','subgroup':'deutsch','Length':len(df),'Sentence': i, 'Accuracy':a,'Precision': p, 'Recall':r, 'AUC':roc_auc, 'FPR':fpr}, ignore_index=True)\n",
      "C:\\Users\\Nathalie\\AppData\\Local\\Temp\\ipykernel_11560\\1688942781.py:24: FutureWarning: The frame.append method is deprecated and will be removed from pandas in a future version. Use pandas.concat instead.\n",
      "  metrics = metrics.append({'model':'KNN','group':'erstsprache','subgroup':'deutsch','Length':len(df),'Sentence': i, 'Accuracy':a,'Precision': p, 'Recall':r, 'AUC':roc_auc, 'FPR':fpr}, ignore_index=True)\n",
      "C:\\Users\\Nathalie\\AppData\\Local\\Temp\\ipykernel_11560\\1688942781.py:24: FutureWarning: The frame.append method is deprecated and will be removed from pandas in a future version. Use pandas.concat instead.\n",
      "  metrics = metrics.append({'model':'KNN','group':'erstsprache','subgroup':'deutsch','Length':len(df),'Sentence': i, 'Accuracy':a,'Precision': p, 'Recall':r, 'AUC':roc_auc, 'FPR':fpr}, ignore_index=True)\n",
      "C:\\Users\\Nathalie\\AppData\\Local\\Temp\\ipykernel_11560\\1688942781.py:24: FutureWarning: The frame.append method is deprecated and will be removed from pandas in a future version. Use pandas.concat instead.\n",
      "  metrics = metrics.append({'model':'KNN','group':'erstsprache','subgroup':'deutsch','Length':len(df),'Sentence': i, 'Accuracy':a,'Precision': p, 'Recall':r, 'AUC':roc_auc, 'FPR':fpr}, ignore_index=True)\n",
      "C:\\Users\\Nathalie\\AppData\\Local\\Temp\\ipykernel_11560\\1688942781.py:24: FutureWarning: The frame.append method is deprecated and will be removed from pandas in a future version. Use pandas.concat instead.\n",
      "  metrics = metrics.append({'model':'KNN','group':'erstsprache','subgroup':'deutsch','Length':len(df),'Sentence': i, 'Accuracy':a,'Precision': p, 'Recall':r, 'AUC':roc_auc, 'FPR':fpr}, ignore_index=True)\n",
      "C:\\Users\\Nathalie\\AppData\\Local\\Temp\\ipykernel_11560\\1688942781.py:24: FutureWarning: The frame.append method is deprecated and will be removed from pandas in a future version. Use pandas.concat instead.\n",
      "  metrics = metrics.append({'model':'KNN','group':'erstsprache','subgroup':'deutsch','Length':len(df),'Sentence': i, 'Accuracy':a,'Precision': p, 'Recall':r, 'AUC':roc_auc, 'FPR':fpr}, ignore_index=True)\n",
      "C:\\Users\\Nathalie\\AppData\\Local\\Temp\\ipykernel_11560\\1688942781.py:24: FutureWarning: The frame.append method is deprecated and will be removed from pandas in a future version. Use pandas.concat instead.\n",
      "  metrics = metrics.append({'model':'KNN','group':'erstsprache','subgroup':'deutsch','Length':len(df),'Sentence': i, 'Accuracy':a,'Precision': p, 'Recall':r, 'AUC':roc_auc, 'FPR':fpr}, ignore_index=True)\n",
      "C:\\Users\\Nathalie\\AppData\\Local\\Temp\\ipykernel_11560\\1688942781.py:24: FutureWarning: The frame.append method is deprecated and will be removed from pandas in a future version. Use pandas.concat instead.\n",
      "  metrics = metrics.append({'model':'KNN','group':'erstsprache','subgroup':'deutsch','Length':len(df),'Sentence': i, 'Accuracy':a,'Precision': p, 'Recall':r, 'AUC':roc_auc, 'FPR':fpr}, ignore_index=True)\n",
      "C:\\Users\\Nathalie\\AppData\\Local\\Temp\\ipykernel_11560\\1688942781.py:24: FutureWarning: The frame.append method is deprecated and will be removed from pandas in a future version. Use pandas.concat instead.\n",
      "  metrics = metrics.append({'model':'KNN','group':'erstsprache','subgroup':'deutsch','Length':len(df),'Sentence': i, 'Accuracy':a,'Precision': p, 'Recall':r, 'AUC':roc_auc, 'FPR':fpr}, ignore_index=True)\n",
      "C:\\Users\\Nathalie\\AppData\\Local\\Temp\\ipykernel_11560\\1688942781.py:24: FutureWarning: The frame.append method is deprecated and will be removed from pandas in a future version. Use pandas.concat instead.\n",
      "  metrics = metrics.append({'model':'KNN','group':'erstsprache','subgroup':'deutsch','Length':len(df),'Sentence': i, 'Accuracy':a,'Precision': p, 'Recall':r, 'AUC':roc_auc, 'FPR':fpr}, ignore_index=True)\n",
      "C:\\Users\\Nathalie\\AppData\\Local\\Temp\\ipykernel_11560\\1688942781.py:24: FutureWarning: The frame.append method is deprecated and will be removed from pandas in a future version. Use pandas.concat instead.\n",
      "  metrics = metrics.append({'model':'KNN','group':'erstsprache','subgroup':'deutsch','Length':len(df),'Sentence': i, 'Accuracy':a,'Precision': p, 'Recall':r, 'AUC':roc_auc, 'FPR':fpr}, ignore_index=True)\n",
      "C:\\Users\\Nathalie\\AppData\\Local\\Temp\\ipykernel_11560\\1688942781.py:24: FutureWarning: The frame.append method is deprecated and will be removed from pandas in a future version. Use pandas.concat instead.\n",
      "  metrics = metrics.append({'model':'KNN','group':'erstsprache','subgroup':'deutsch','Length':len(df),'Sentence': i, 'Accuracy':a,'Precision': p, 'Recall':r, 'AUC':roc_auc, 'FPR':fpr}, ignore_index=True)\n",
      "C:\\Users\\Nathalie\\AppData\\Local\\Temp\\ipykernel_11560\\1688942781.py:24: FutureWarning: The frame.append method is deprecated and will be removed from pandas in a future version. Use pandas.concat instead.\n",
      "  metrics = metrics.append({'model':'KNN','group':'erstsprache','subgroup':'deutsch','Length':len(df),'Sentence': i, 'Accuracy':a,'Precision': p, 'Recall':r, 'AUC':roc_auc, 'FPR':fpr}, ignore_index=True)\n",
      "C:\\Users\\Nathalie\\AppData\\Local\\Temp\\ipykernel_11560\\1688942781.py:24: FutureWarning: The frame.append method is deprecated and will be removed from pandas in a future version. Use pandas.concat instead.\n",
      "  metrics = metrics.append({'model':'KNN','group':'erstsprache','subgroup':'deutsch','Length':len(df),'Sentence': i, 'Accuracy':a,'Precision': p, 'Recall':r, 'AUC':roc_auc, 'FPR':fpr}, ignore_index=True)\n",
      "C:\\Users\\Nathalie\\AppData\\Local\\Temp\\ipykernel_11560\\1688942781.py:24: FutureWarning: The frame.append method is deprecated and will be removed from pandas in a future version. Use pandas.concat instead.\n",
      "  metrics = metrics.append({'model':'KNN','group':'erstsprache','subgroup':'deutsch','Length':len(df),'Sentence': i, 'Accuracy':a,'Precision': p, 'Recall':r, 'AUC':roc_auc, 'FPR':fpr}, ignore_index=True)\n",
      "C:\\Users\\Nathalie\\AppData\\Local\\Temp\\ipykernel_11560\\1688942781.py:24: FutureWarning: The frame.append method is deprecated and will be removed from pandas in a future version. Use pandas.concat instead.\n",
      "  metrics = metrics.append({'model':'KNN','group':'erstsprache','subgroup':'deutsch','Length':len(df),'Sentence': i, 'Accuracy':a,'Precision': p, 'Recall':r, 'AUC':roc_auc, 'FPR':fpr}, ignore_index=True)\n",
      "C:\\Users\\Nathalie\\AppData\\Local\\Temp\\ipykernel_11560\\1688942781.py:24: FutureWarning: The frame.append method is deprecated and will be removed from pandas in a future version. Use pandas.concat instead.\n",
      "  metrics = metrics.append({'model':'KNN','group':'erstsprache','subgroup':'deutsch','Length':len(df),'Sentence': i, 'Accuracy':a,'Precision': p, 'Recall':r, 'AUC':roc_auc, 'FPR':fpr}, ignore_index=True)\n",
      "C:\\Users\\Nathalie\\AppData\\Local\\Temp\\ipykernel_11560\\1688942781.py:24: FutureWarning: The frame.append method is deprecated and will be removed from pandas in a future version. Use pandas.concat instead.\n",
      "  metrics = metrics.append({'model':'KNN','group':'erstsprache','subgroup':'deutsch','Length':len(df),'Sentence': i, 'Accuracy':a,'Precision': p, 'Recall':r, 'AUC':roc_auc, 'FPR':fpr}, ignore_index=True)\n",
      "C:\\Users\\Nathalie\\AppData\\Local\\Temp\\ipykernel_11560\\1688942781.py:24: FutureWarning: The frame.append method is deprecated and will be removed from pandas in a future version. Use pandas.concat instead.\n",
      "  metrics = metrics.append({'model':'KNN','group':'erstsprache','subgroup':'deutsch','Length':len(df),'Sentence': i, 'Accuracy':a,'Precision': p, 'Recall':r, 'AUC':roc_auc, 'FPR':fpr}, ignore_index=True)\n",
      "C:\\Users\\Nathalie\\AppData\\Local\\Temp\\ipykernel_11560\\1688942781.py:24: FutureWarning: The frame.append method is deprecated and will be removed from pandas in a future version. Use pandas.concat instead.\n",
      "  metrics = metrics.append({'model':'KNN','group':'erstsprache','subgroup':'deutsch','Length':len(df),'Sentence': i, 'Accuracy':a,'Precision': p, 'Recall':r, 'AUC':roc_auc, 'FPR':fpr}, ignore_index=True)\n",
      "C:\\Users\\Nathalie\\AppData\\Local\\Temp\\ipykernel_11560\\1688942781.py:24: FutureWarning: The frame.append method is deprecated and will be removed from pandas in a future version. Use pandas.concat instead.\n",
      "  metrics = metrics.append({'model':'KNN','group':'erstsprache','subgroup':'deutsch','Length':len(df),'Sentence': i, 'Accuracy':a,'Precision': p, 'Recall':r, 'AUC':roc_auc, 'FPR':fpr}, ignore_index=True)\n",
      "C:\\Users\\Nathalie\\AppData\\Local\\Temp\\ipykernel_11560\\1688942781.py:24: FutureWarning: The frame.append method is deprecated and will be removed from pandas in a future version. Use pandas.concat instead.\n",
      "  metrics = metrics.append({'model':'KNN','group':'erstsprache','subgroup':'deutsch','Length':len(df),'Sentence': i, 'Accuracy':a,'Precision': p, 'Recall':r, 'AUC':roc_auc, 'FPR':fpr}, ignore_index=True)\n",
      "C:\\Users\\Nathalie\\AppData\\Local\\Temp\\ipykernel_11560\\1688942781.py:24: FutureWarning: The frame.append method is deprecated and will be removed from pandas in a future version. Use pandas.concat instead.\n",
      "  metrics = metrics.append({'model':'KNN','group':'erstsprache','subgroup':'deutsch','Length':len(df),'Sentence': i, 'Accuracy':a,'Precision': p, 'Recall':r, 'AUC':roc_auc, 'FPR':fpr}, ignore_index=True)\n",
      "C:\\Users\\Nathalie\\AppData\\Local\\Temp\\ipykernel_11560\\1688942781.py:24: FutureWarning: The frame.append method is deprecated and will be removed from pandas in a future version. Use pandas.concat instead.\n",
      "  metrics = metrics.append({'model':'KNN','group':'erstsprache','subgroup':'deutsch','Length':len(df),'Sentence': i, 'Accuracy':a,'Precision': p, 'Recall':r, 'AUC':roc_auc, 'FPR':fpr}, ignore_index=True)\n",
      "C:\\Users\\Nathalie\\AppData\\Local\\Temp\\ipykernel_11560\\1688942781.py:24: FutureWarning: The frame.append method is deprecated and will be removed from pandas in a future version. Use pandas.concat instead.\n",
      "  metrics = metrics.append({'model':'KNN','group':'erstsprache','subgroup':'deutsch','Length':len(df),'Sentence': i, 'Accuracy':a,'Precision': p, 'Recall':r, 'AUC':roc_auc, 'FPR':fpr}, ignore_index=True)\n",
      "C:\\Users\\Nathalie\\AppData\\Local\\Temp\\ipykernel_11560\\1688942781.py:24: FutureWarning: The frame.append method is deprecated and will be removed from pandas in a future version. Use pandas.concat instead.\n",
      "  metrics = metrics.append({'model':'KNN','group':'erstsprache','subgroup':'deutsch','Length':len(df),'Sentence': i, 'Accuracy':a,'Precision': p, 'Recall':r, 'AUC':roc_auc, 'FPR':fpr}, ignore_index=True)\n",
      "C:\\Users\\Nathalie\\AppData\\Local\\Temp\\ipykernel_11560\\1688942781.py:24: FutureWarning: The frame.append method is deprecated and will be removed from pandas in a future version. Use pandas.concat instead.\n",
      "  metrics = metrics.append({'model':'KNN','group':'erstsprache','subgroup':'deutsch','Length':len(df),'Sentence': i, 'Accuracy':a,'Precision': p, 'Recall':r, 'AUC':roc_auc, 'FPR':fpr}, ignore_index=True)\n",
      "C:\\Users\\Nathalie\\AppData\\Local\\Temp\\ipykernel_11560\\1688942781.py:24: FutureWarning: The frame.append method is deprecated and will be removed from pandas in a future version. Use pandas.concat instead.\n",
      "  metrics = metrics.append({'model':'KNN','group':'erstsprache','subgroup':'deutsch','Length':len(df),'Sentence': i, 'Accuracy':a,'Precision': p, 'Recall':r, 'AUC':roc_auc, 'FPR':fpr}, ignore_index=True)\n",
      "C:\\Users\\Nathalie\\AppData\\Local\\Temp\\ipykernel_11560\\1688942781.py:24: FutureWarning: The frame.append method is deprecated and will be removed from pandas in a future version. Use pandas.concat instead.\n",
      "  metrics = metrics.append({'model':'KNN','group':'erstsprache','subgroup':'deutsch','Length':len(df),'Sentence': i, 'Accuracy':a,'Precision': p, 'Recall':r, 'AUC':roc_auc, 'FPR':fpr}, ignore_index=True)\n",
      "C:\\Users\\Nathalie\\AppData\\Local\\Temp\\ipykernel_11560\\1688942781.py:24: FutureWarning: The frame.append method is deprecated and will be removed from pandas in a future version. Use pandas.concat instead.\n",
      "  metrics = metrics.append({'model':'KNN','group':'erstsprache','subgroup':'deutsch','Length':len(df),'Sentence': i, 'Accuracy':a,'Precision': p, 'Recall':r, 'AUC':roc_auc, 'FPR':fpr}, ignore_index=True)\n",
      "C:\\Users\\Nathalie\\AppData\\Local\\Temp\\ipykernel_11560\\1688942781.py:24: FutureWarning: The frame.append method is deprecated and will be removed from pandas in a future version. Use pandas.concat instead.\n",
      "  metrics = metrics.append({'model':'KNN','group':'erstsprache','subgroup':'deutsch','Length':len(df),'Sentence': i, 'Accuracy':a,'Precision': p, 'Recall':r, 'AUC':roc_auc, 'FPR':fpr}, ignore_index=True)\n",
      "C:\\Users\\Nathalie\\AppData\\Local\\Temp\\ipykernel_11560\\1688942781.py:24: FutureWarning: The frame.append method is deprecated and will be removed from pandas in a future version. Use pandas.concat instead.\n",
      "  metrics = metrics.append({'model':'KNN','group':'erstsprache','subgroup':'deutsch','Length':len(df),'Sentence': i, 'Accuracy':a,'Precision': p, 'Recall':r, 'AUC':roc_auc, 'FPR':fpr}, ignore_index=True)\n",
      "C:\\Users\\Nathalie\\AppData\\Local\\Temp\\ipykernel_11560\\1688942781.py:24: FutureWarning: The frame.append method is deprecated and will be removed from pandas in a future version. Use pandas.concat instead.\n",
      "  metrics = metrics.append({'model':'KNN','group':'erstsprache','subgroup':'deutsch','Length':len(df),'Sentence': i, 'Accuracy':a,'Precision': p, 'Recall':r, 'AUC':roc_auc, 'FPR':fpr}, ignore_index=True)\n",
      "C:\\Users\\Nathalie\\AppData\\Local\\Temp\\ipykernel_11560\\1688942781.py:24: FutureWarning: The frame.append method is deprecated and will be removed from pandas in a future version. Use pandas.concat instead.\n",
      "  metrics = metrics.append({'model':'KNN','group':'erstsprache','subgroup':'deutsch','Length':len(df),'Sentence': i, 'Accuracy':a,'Precision': p, 'Recall':r, 'AUC':roc_auc, 'FPR':fpr}, ignore_index=True)\n",
      "C:\\Users\\Nathalie\\AppData\\Local\\Temp\\ipykernel_11560\\1688942781.py:24: FutureWarning: The frame.append method is deprecated and will be removed from pandas in a future version. Use pandas.concat instead.\n",
      "  metrics = metrics.append({'model':'KNN','group':'erstsprache','subgroup':'deutsch','Length':len(df),'Sentence': i, 'Accuracy':a,'Precision': p, 'Recall':r, 'AUC':roc_auc, 'FPR':fpr}, ignore_index=True)\n",
      "C:\\Users\\Nathalie\\AppData\\Local\\Temp\\ipykernel_11560\\1688942781.py:24: FutureWarning: The frame.append method is deprecated and will be removed from pandas in a future version. Use pandas.concat instead.\n",
      "  metrics = metrics.append({'model':'KNN','group':'erstsprache','subgroup':'deutsch','Length':len(df),'Sentence': i, 'Accuracy':a,'Precision': p, 'Recall':r, 'AUC':roc_auc, 'FPR':fpr}, ignore_index=True)\n",
      "C:\\Users\\Nathalie\\AppData\\Local\\Temp\\ipykernel_11560\\1688942781.py:24: FutureWarning: The frame.append method is deprecated and will be removed from pandas in a future version. Use pandas.concat instead.\n",
      "  metrics = metrics.append({'model':'KNN','group':'erstsprache','subgroup':'deutsch','Length':len(df),'Sentence': i, 'Accuracy':a,'Precision': p, 'Recall':r, 'AUC':roc_auc, 'FPR':fpr}, ignore_index=True)\n",
      "C:\\Users\\Nathalie\\AppData\\Local\\Temp\\ipykernel_11560\\1688942781.py:24: FutureWarning: The frame.append method is deprecated and will be removed from pandas in a future version. Use pandas.concat instead.\n",
      "  metrics = metrics.append({'model':'KNN','group':'erstsprache','subgroup':'deutsch','Length':len(df),'Sentence': i, 'Accuracy':a,'Precision': p, 'Recall':r, 'AUC':roc_auc, 'FPR':fpr}, ignore_index=True)\n",
      "C:\\Users\\Nathalie\\AppData\\Local\\Temp\\ipykernel_11560\\1688942781.py:24: FutureWarning: The frame.append method is deprecated and will be removed from pandas in a future version. Use pandas.concat instead.\n",
      "  metrics = metrics.append({'model':'KNN','group':'erstsprache','subgroup':'deutsch','Length':len(df),'Sentence': i, 'Accuracy':a,'Precision': p, 'Recall':r, 'AUC':roc_auc, 'FPR':fpr}, ignore_index=True)\n",
      "C:\\Users\\Nathalie\\AppData\\Local\\Temp\\ipykernel_11560\\1688942781.py:24: FutureWarning: The frame.append method is deprecated and will be removed from pandas in a future version. Use pandas.concat instead.\n",
      "  metrics = metrics.append({'model':'KNN','group':'erstsprache','subgroup':'deutsch','Length':len(df),'Sentence': i, 'Accuracy':a,'Precision': p, 'Recall':r, 'AUC':roc_auc, 'FPR':fpr}, ignore_index=True)\n",
      "C:\\Users\\Nathalie\\AppData\\Local\\Temp\\ipykernel_11560\\1688942781.py:24: FutureWarning: The frame.append method is deprecated and will be removed from pandas in a future version. Use pandas.concat instead.\n",
      "  metrics = metrics.append({'model':'KNN','group':'erstsprache','subgroup':'deutsch','Length':len(df),'Sentence': i, 'Accuracy':a,'Precision': p, 'Recall':r, 'AUC':roc_auc, 'FPR':fpr}, ignore_index=True)\n",
      "C:\\Users\\Nathalie\\AppData\\Local\\Temp\\ipykernel_11560\\1688942781.py:24: FutureWarning: The frame.append method is deprecated and will be removed from pandas in a future version. Use pandas.concat instead.\n",
      "  metrics = metrics.append({'model':'KNN','group':'erstsprache','subgroup':'deutsch','Length':len(df),'Sentence': i, 'Accuracy':a,'Precision': p, 'Recall':r, 'AUC':roc_auc, 'FPR':fpr}, ignore_index=True)\n",
      "C:\\Users\\Nathalie\\AppData\\Local\\Temp\\ipykernel_11560\\1688942781.py:24: FutureWarning: The frame.append method is deprecated and will be removed from pandas in a future version. Use pandas.concat instead.\n",
      "  metrics = metrics.append({'model':'KNN','group':'erstsprache','subgroup':'deutsch','Length':len(df),'Sentence': i, 'Accuracy':a,'Precision': p, 'Recall':r, 'AUC':roc_auc, 'FPR':fpr}, ignore_index=True)\n",
      "C:\\Users\\Nathalie\\AppData\\Local\\Temp\\ipykernel_11560\\1688942781.py:24: FutureWarning: The frame.append method is deprecated and will be removed from pandas in a future version. Use pandas.concat instead.\n",
      "  metrics = metrics.append({'model':'KNN','group':'erstsprache','subgroup':'deutsch','Length':len(df),'Sentence': i, 'Accuracy':a,'Precision': p, 'Recall':r, 'AUC':roc_auc, 'FPR':fpr}, ignore_index=True)\n",
      "C:\\Users\\Nathalie\\AppData\\Local\\Temp\\ipykernel_11560\\1688942781.py:24: FutureWarning: The frame.append method is deprecated and will be removed from pandas in a future version. Use pandas.concat instead.\n",
      "  metrics = metrics.append({'model':'KNN','group':'erstsprache','subgroup':'deutsch','Length':len(df),'Sentence': i, 'Accuracy':a,'Precision': p, 'Recall':r, 'AUC':roc_auc, 'FPR':fpr}, ignore_index=True)\n",
      "C:\\Users\\Nathalie\\AppData\\Local\\Temp\\ipykernel_11560\\1688942781.py:24: FutureWarning: The frame.append method is deprecated and will be removed from pandas in a future version. Use pandas.concat instead.\n",
      "  metrics = metrics.append({'model':'KNN','group':'erstsprache','subgroup':'deutsch','Length':len(df),'Sentence': i, 'Accuracy':a,'Precision': p, 'Recall':r, 'AUC':roc_auc, 'FPR':fpr}, ignore_index=True)\n",
      "C:\\Users\\Nathalie\\AppData\\Local\\Temp\\ipykernel_11560\\1688942781.py:24: FutureWarning: The frame.append method is deprecated and will be removed from pandas in a future version. Use pandas.concat instead.\n",
      "  metrics = metrics.append({'model':'KNN','group':'erstsprache','subgroup':'deutsch','Length':len(df),'Sentence': i, 'Accuracy':a,'Precision': p, 'Recall':r, 'AUC':roc_auc, 'FPR':fpr}, ignore_index=True)\n",
      "C:\\Users\\Nathalie\\AppData\\Local\\Temp\\ipykernel_11560\\1688942781.py:24: FutureWarning: The frame.append method is deprecated and will be removed from pandas in a future version. Use pandas.concat instead.\n",
      "  metrics = metrics.append({'model':'KNN','group':'erstsprache','subgroup':'deutsch','Length':len(df),'Sentence': i, 'Accuracy':a,'Precision': p, 'Recall':r, 'AUC':roc_auc, 'FPR':fpr}, ignore_index=True)\n",
      "C:\\Users\\Nathalie\\AppData\\Local\\Temp\\ipykernel_11560\\1688942781.py:24: FutureWarning: The frame.append method is deprecated and will be removed from pandas in a future version. Use pandas.concat instead.\n",
      "  metrics = metrics.append({'model':'KNN','group':'erstsprache','subgroup':'deutsch','Length':len(df),'Sentence': i, 'Accuracy':a,'Precision': p, 'Recall':r, 'AUC':roc_auc, 'FPR':fpr}, ignore_index=True)\n"
     ]
    }
   ],
   "source": [
    "n =  [2,3,4,5,6,7,8,9,10,11,12,13,14,15,16,17,18,19,20,21,22,23,24,25,26,27,28,29,30,31,32,33,34,35,36,37,38,39,40,41,42,43,44,45,46,47,48,49,50,51,52,53,54,55,56,57,58,59,60]\n",
    "feature_cols = ['Erstloesung','Schussel','Erfolg', 'Schwierigkeit', 'ist_Schulzeit', 'MehrfachFalsch', 'vorher_abgebrochen','Fehler', 'Klassenstufe', 'Jahredabei', 'Testposition__pruefung', 'Testposition__training','Testposition__version', 'Art__GK', 'Art__GR', 'Art__GZ', 'Art__K', 'Art__LB','UserAttribut', 'OrderNumber', 'steps']\n",
    "\n",
    "for i in n:\n",
    "    #build models\n",
    "    path='erstsprache/matrix_deutsch'+str(i)+'.pkl'\n",
    "    infile = open(path,'rb')\n",
    "    df = pickle.load(infile)\n",
    "    infile.close()\n",
    "    df=df.reset_index()\n",
    "    X = df[feature_cols]\n",
    "    y = df.y\n",
    "    y= y.astype('int')\n",
    "    X_train, X_test, y_train, y_test = train_test_split(X, y, test_size=0.3, random_state=1)\n",
    "    k = 5\n",
    "    cv = KFold(n_splits=k, random_state=None)\n",
    "\n",
    "    #knn\n",
    "    knn = KNeighborsClassifier(n_neighbors=2)\n",
    "    knn = knn.fit(X_train, y_train)\n",
    "\n",
    "    pred = knn.predict(X_test)\n",
    "    a,p,r,roc_auc,fpr = get_metrics(knn,X_test,y_test,cv,pred)\n",
    "    metrics = metrics.append({'model':'KNN','group':'erstsprache','subgroup':'deutsch','Length':len(df),'Sentence': i, 'Accuracy':a,'Precision': p, 'Recall':r, 'AUC':roc_auc, 'FPR':fpr}, ignore_index=True)"
   ]
  },
  {
   "cell_type": "code",
   "execution_count": 9,
   "metadata": {},
   "outputs": [
    {
     "name": "stdout",
     "output_type": "stream",
     "text": [
      "45/45 [==============================] - 0s 1ms/step\n"
     ]
    },
    {
     "name": "stderr",
     "output_type": "stream",
     "text": [
      "C:\\Users\\Nathalie\\AppData\\Local\\Temp\\ipykernel_11560\\1351288572.py:69: FutureWarning: The frame.append method is deprecated and will be removed from pandas in a future version. Use pandas.concat instead.\n",
      "  metrics = metrics.append({'model':'DL','group':'erstsprache','subgroup':'deutsch','Length':len(df),'Sentence': i, 'Accuracy':a,'Precision': p, 'Recall':r, 'AUC':roc_auc, 'FPR':fpr}, ignore_index=True)\n"
     ]
    },
    {
     "name": "stdout",
     "output_type": "stream",
     "text": [
      "43/43 [==============================] - 0s 885us/step\n"
     ]
    },
    {
     "name": "stderr",
     "output_type": "stream",
     "text": [
      "C:\\Users\\Nathalie\\AppData\\Local\\Temp\\ipykernel_11560\\1351288572.py:69: FutureWarning: The frame.append method is deprecated and will be removed from pandas in a future version. Use pandas.concat instead.\n",
      "  metrics = metrics.append({'model':'DL','group':'erstsprache','subgroup':'deutsch','Length':len(df),'Sentence': i, 'Accuracy':a,'Precision': p, 'Recall':r, 'AUC':roc_auc, 'FPR':fpr}, ignore_index=True)\n"
     ]
    },
    {
     "name": "stdout",
     "output_type": "stream",
     "text": [
      "42/42 [==============================] - 0s 856us/step\n"
     ]
    },
    {
     "name": "stderr",
     "output_type": "stream",
     "text": [
      "C:\\Users\\Nathalie\\AppData\\Local\\Temp\\ipykernel_11560\\1351288572.py:69: FutureWarning: The frame.append method is deprecated and will be removed from pandas in a future version. Use pandas.concat instead.\n",
      "  metrics = metrics.append({'model':'DL','group':'erstsprache','subgroup':'deutsch','Length':len(df),'Sentence': i, 'Accuracy':a,'Precision': p, 'Recall':r, 'AUC':roc_auc, 'FPR':fpr}, ignore_index=True)\n"
     ]
    },
    {
     "name": "stdout",
     "output_type": "stream",
     "text": [
      "41/41 [==============================] - 0s 869us/step\n"
     ]
    },
    {
     "name": "stderr",
     "output_type": "stream",
     "text": [
      "C:\\Users\\Nathalie\\AppData\\Local\\Temp\\ipykernel_11560\\1351288572.py:69: FutureWarning: The frame.append method is deprecated and will be removed from pandas in a future version. Use pandas.concat instead.\n",
      "  metrics = metrics.append({'model':'DL','group':'erstsprache','subgroup':'deutsch','Length':len(df),'Sentence': i, 'Accuracy':a,'Precision': p, 'Recall':r, 'AUC':roc_auc, 'FPR':fpr}, ignore_index=True)\n"
     ]
    },
    {
     "name": "stdout",
     "output_type": "stream",
     "text": [
      "39/39 [==============================] - 0s 851us/step\n"
     ]
    },
    {
     "name": "stderr",
     "output_type": "stream",
     "text": [
      "C:\\Users\\Nathalie\\AppData\\Local\\Temp\\ipykernel_11560\\1351288572.py:69: FutureWarning: The frame.append method is deprecated and will be removed from pandas in a future version. Use pandas.concat instead.\n",
      "  metrics = metrics.append({'model':'DL','group':'erstsprache','subgroup':'deutsch','Length':len(df),'Sentence': i, 'Accuracy':a,'Precision': p, 'Recall':r, 'AUC':roc_auc, 'FPR':fpr}, ignore_index=True)\n"
     ]
    },
    {
     "name": "stdout",
     "output_type": "stream",
     "text": [
      "38/38 [==============================] - 0s 850us/step\n"
     ]
    },
    {
     "name": "stderr",
     "output_type": "stream",
     "text": [
      "C:\\Users\\Nathalie\\AppData\\Local\\Temp\\ipykernel_11560\\1351288572.py:69: FutureWarning: The frame.append method is deprecated and will be removed from pandas in a future version. Use pandas.concat instead.\n",
      "  metrics = metrics.append({'model':'DL','group':'erstsprache','subgroup':'deutsch','Length':len(df),'Sentence': i, 'Accuracy':a,'Precision': p, 'Recall':r, 'AUC':roc_auc, 'FPR':fpr}, ignore_index=True)\n"
     ]
    },
    {
     "name": "stdout",
     "output_type": "stream",
     "text": [
      "38/38 [==============================] - 0s 862us/step\n"
     ]
    },
    {
     "name": "stderr",
     "output_type": "stream",
     "text": [
      "C:\\Users\\Nathalie\\AppData\\Local\\Temp\\ipykernel_11560\\1351288572.py:69: FutureWarning: The frame.append method is deprecated and will be removed from pandas in a future version. Use pandas.concat instead.\n",
      "  metrics = metrics.append({'model':'DL','group':'erstsprache','subgroup':'deutsch','Length':len(df),'Sentence': i, 'Accuracy':a,'Precision': p, 'Recall':r, 'AUC':roc_auc, 'FPR':fpr}, ignore_index=True)\n"
     ]
    },
    {
     "name": "stdout",
     "output_type": "stream",
     "text": [
      "37/37 [==============================] - 0s 870us/step\n"
     ]
    },
    {
     "name": "stderr",
     "output_type": "stream",
     "text": [
      "C:\\Users\\Nathalie\\AppData\\Local\\Temp\\ipykernel_11560\\1351288572.py:69: FutureWarning: The frame.append method is deprecated and will be removed from pandas in a future version. Use pandas.concat instead.\n",
      "  metrics = metrics.append({'model':'DL','group':'erstsprache','subgroup':'deutsch','Length':len(df),'Sentence': i, 'Accuracy':a,'Precision': p, 'Recall':r, 'AUC':roc_auc, 'FPR':fpr}, ignore_index=True)\n"
     ]
    },
    {
     "name": "stdout",
     "output_type": "stream",
     "text": [
      "36/36 [==============================] - 0s 839us/step\n"
     ]
    },
    {
     "name": "stderr",
     "output_type": "stream",
     "text": [
      "C:\\Users\\Nathalie\\AppData\\Local\\Temp\\ipykernel_11560\\1351288572.py:69: FutureWarning: The frame.append method is deprecated and will be removed from pandas in a future version. Use pandas.concat instead.\n",
      "  metrics = metrics.append({'model':'DL','group':'erstsprache','subgroup':'deutsch','Length':len(df),'Sentence': i, 'Accuracy':a,'Precision': p, 'Recall':r, 'AUC':roc_auc, 'FPR':fpr}, ignore_index=True)\n"
     ]
    },
    {
     "name": "stdout",
     "output_type": "stream",
     "text": [
      "29/29 [==============================] - 0s 879us/step\n"
     ]
    },
    {
     "name": "stderr",
     "output_type": "stream",
     "text": [
      "C:\\Users\\Nathalie\\AppData\\Local\\Temp\\ipykernel_11560\\1351288572.py:69: FutureWarning: The frame.append method is deprecated and will be removed from pandas in a future version. Use pandas.concat instead.\n",
      "  metrics = metrics.append({'model':'DL','group':'erstsprache','subgroup':'deutsch','Length':len(df),'Sentence': i, 'Accuracy':a,'Precision': p, 'Recall':r, 'AUC':roc_auc, 'FPR':fpr}, ignore_index=True)\n"
     ]
    },
    {
     "name": "stdout",
     "output_type": "stream",
     "text": [
      "28/28 [==============================] - 0s 998us/step\n"
     ]
    },
    {
     "name": "stderr",
     "output_type": "stream",
     "text": [
      "C:\\Users\\Nathalie\\AppData\\Local\\Temp\\ipykernel_11560\\1351288572.py:69: FutureWarning: The frame.append method is deprecated and will be removed from pandas in a future version. Use pandas.concat instead.\n",
      "  metrics = metrics.append({'model':'DL','group':'erstsprache','subgroup':'deutsch','Length':len(df),'Sentence': i, 'Accuracy':a,'Precision': p, 'Recall':r, 'AUC':roc_auc, 'FPR':fpr}, ignore_index=True)\n"
     ]
    },
    {
     "name": "stdout",
     "output_type": "stream",
     "text": [
      "27/27 [==============================] - 0s 1ms/step\n"
     ]
    },
    {
     "name": "stderr",
     "output_type": "stream",
     "text": [
      "C:\\Users\\Nathalie\\AppData\\Local\\Temp\\ipykernel_11560\\1351288572.py:69: FutureWarning: The frame.append method is deprecated and will be removed from pandas in a future version. Use pandas.concat instead.\n",
      "  metrics = metrics.append({'model':'DL','group':'erstsprache','subgroup':'deutsch','Length':len(df),'Sentence': i, 'Accuracy':a,'Precision': p, 'Recall':r, 'AUC':roc_auc, 'FPR':fpr}, ignore_index=True)\n"
     ]
    },
    {
     "name": "stdout",
     "output_type": "stream",
     "text": [
      "27/27 [==============================] - 0s 884us/step\n"
     ]
    },
    {
     "name": "stderr",
     "output_type": "stream",
     "text": [
      "C:\\Users\\Nathalie\\AppData\\Local\\Temp\\ipykernel_11560\\1351288572.py:69: FutureWarning: The frame.append method is deprecated and will be removed from pandas in a future version. Use pandas.concat instead.\n",
      "  metrics = metrics.append({'model':'DL','group':'erstsprache','subgroup':'deutsch','Length':len(df),'Sentence': i, 'Accuracy':a,'Precision': p, 'Recall':r, 'AUC':roc_auc, 'FPR':fpr}, ignore_index=True)\n"
     ]
    },
    {
     "name": "stdout",
     "output_type": "stream",
     "text": [
      "22/22 [==============================] - 0s 966us/step\n"
     ]
    },
    {
     "name": "stderr",
     "output_type": "stream",
     "text": [
      "C:\\Users\\Nathalie\\AppData\\Local\\Temp\\ipykernel_11560\\1351288572.py:69: FutureWarning: The frame.append method is deprecated and will be removed from pandas in a future version. Use pandas.concat instead.\n",
      "  metrics = metrics.append({'model':'DL','group':'erstsprache','subgroup':'deutsch','Length':len(df),'Sentence': i, 'Accuracy':a,'Precision': p, 'Recall':r, 'AUC':roc_auc, 'FPR':fpr}, ignore_index=True)\n"
     ]
    },
    {
     "name": "stdout",
     "output_type": "stream",
     "text": [
      "21/21 [==============================] - 0s 952us/step\n"
     ]
    },
    {
     "name": "stderr",
     "output_type": "stream",
     "text": [
      "C:\\Users\\Nathalie\\AppData\\Local\\Temp\\ipykernel_11560\\1351288572.py:69: FutureWarning: The frame.append method is deprecated and will be removed from pandas in a future version. Use pandas.concat instead.\n",
      "  metrics = metrics.append({'model':'DL','group':'erstsprache','subgroup':'deutsch','Length':len(df),'Sentence': i, 'Accuracy':a,'Precision': p, 'Recall':r, 'AUC':roc_auc, 'FPR':fpr}, ignore_index=True)\n"
     ]
    },
    {
     "name": "stdout",
     "output_type": "stream",
     "text": [
      "20/20 [==============================] - 0s 842us/step\n"
     ]
    },
    {
     "name": "stderr",
     "output_type": "stream",
     "text": [
      "C:\\Users\\Nathalie\\AppData\\Local\\Temp\\ipykernel_11560\\1351288572.py:69: FutureWarning: The frame.append method is deprecated and will be removed from pandas in a future version. Use pandas.concat instead.\n",
      "  metrics = metrics.append({'model':'DL','group':'erstsprache','subgroup':'deutsch','Length':len(df),'Sentence': i, 'Accuracy':a,'Precision': p, 'Recall':r, 'AUC':roc_auc, 'FPR':fpr}, ignore_index=True)\n"
     ]
    },
    {
     "name": "stdout",
     "output_type": "stream",
     "text": [
      "20/20 [==============================] - 0s 985us/step\n"
     ]
    },
    {
     "name": "stderr",
     "output_type": "stream",
     "text": [
      "C:\\Users\\Nathalie\\AppData\\Local\\Temp\\ipykernel_11560\\1351288572.py:69: FutureWarning: The frame.append method is deprecated and will be removed from pandas in a future version. Use pandas.concat instead.\n",
      "  metrics = metrics.append({'model':'DL','group':'erstsprache','subgroup':'deutsch','Length':len(df),'Sentence': i, 'Accuracy':a,'Precision': p, 'Recall':r, 'AUC':roc_auc, 'FPR':fpr}, ignore_index=True)\n"
     ]
    },
    {
     "name": "stdout",
     "output_type": "stream",
     "text": [
      "17/17 [==============================] - 0s 872us/step\n"
     ]
    },
    {
     "name": "stderr",
     "output_type": "stream",
     "text": [
      "C:\\Users\\Nathalie\\AppData\\Local\\Temp\\ipykernel_11560\\1351288572.py:69: FutureWarning: The frame.append method is deprecated and will be removed from pandas in a future version. Use pandas.concat instead.\n",
      "  metrics = metrics.append({'model':'DL','group':'erstsprache','subgroup':'deutsch','Length':len(df),'Sentence': i, 'Accuracy':a,'Precision': p, 'Recall':r, 'AUC':roc_auc, 'FPR':fpr}, ignore_index=True)\n"
     ]
    },
    {
     "name": "stdout",
     "output_type": "stream",
     "text": [
      "16/16 [==============================] - 0s 866us/step\n"
     ]
    },
    {
     "name": "stderr",
     "output_type": "stream",
     "text": [
      "C:\\Users\\Nathalie\\AppData\\Local\\Temp\\ipykernel_11560\\1351288572.py:69: FutureWarning: The frame.append method is deprecated and will be removed from pandas in a future version. Use pandas.concat instead.\n",
      "  metrics = metrics.append({'model':'DL','group':'erstsprache','subgroup':'deutsch','Length':len(df),'Sentence': i, 'Accuracy':a,'Precision': p, 'Recall':r, 'AUC':roc_auc, 'FPR':fpr}, ignore_index=True)\n"
     ]
    },
    {
     "name": "stdout",
     "output_type": "stream",
     "text": [
      "15/15 [==============================] - 0s 857us/step\n"
     ]
    },
    {
     "name": "stderr",
     "output_type": "stream",
     "text": [
      "C:\\Users\\Nathalie\\AppData\\Local\\Temp\\ipykernel_11560\\1351288572.py:69: FutureWarning: The frame.append method is deprecated and will be removed from pandas in a future version. Use pandas.concat instead.\n",
      "  metrics = metrics.append({'model':'DL','group':'erstsprache','subgroup':'deutsch','Length':len(df),'Sentence': i, 'Accuracy':a,'Precision': p, 'Recall':r, 'AUC':roc_auc, 'FPR':fpr}, ignore_index=True)\n"
     ]
    },
    {
     "name": "stdout",
     "output_type": "stream",
     "text": [
      "15/15 [==============================] - 0s 855us/step\n"
     ]
    },
    {
     "name": "stderr",
     "output_type": "stream",
     "text": [
      "C:\\Users\\Nathalie\\AppData\\Local\\Temp\\ipykernel_11560\\1351288572.py:69: FutureWarning: The frame.append method is deprecated and will be removed from pandas in a future version. Use pandas.concat instead.\n",
      "  metrics = metrics.append({'model':'DL','group':'erstsprache','subgroup':'deutsch','Length':len(df),'Sentence': i, 'Accuracy':a,'Precision': p, 'Recall':r, 'AUC':roc_auc, 'FPR':fpr}, ignore_index=True)\n"
     ]
    },
    {
     "name": "stdout",
     "output_type": "stream",
     "text": [
      "13/13 [==============================] - 0s 1000us/step\n"
     ]
    },
    {
     "name": "stderr",
     "output_type": "stream",
     "text": [
      "C:\\Users\\Nathalie\\AppData\\Local\\Temp\\ipykernel_11560\\1351288572.py:69: FutureWarning: The frame.append method is deprecated and will be removed from pandas in a future version. Use pandas.concat instead.\n",
      "  metrics = metrics.append({'model':'DL','group':'erstsprache','subgroup':'deutsch','Length':len(df),'Sentence': i, 'Accuracy':a,'Precision': p, 'Recall':r, 'AUC':roc_auc, 'FPR':fpr}, ignore_index=True)\n"
     ]
    },
    {
     "name": "stdout",
     "output_type": "stream",
     "text": [
      "12/12 [==============================] - 0s 912us/step\n"
     ]
    },
    {
     "name": "stderr",
     "output_type": "stream",
     "text": [
      "C:\\Users\\Nathalie\\AppData\\Local\\Temp\\ipykernel_11560\\1351288572.py:69: FutureWarning: The frame.append method is deprecated and will be removed from pandas in a future version. Use pandas.concat instead.\n",
      "  metrics = metrics.append({'model':'DL','group':'erstsprache','subgroup':'deutsch','Length':len(df),'Sentence': i, 'Accuracy':a,'Precision': p, 'Recall':r, 'AUC':roc_auc, 'FPR':fpr}, ignore_index=True)\n"
     ]
    },
    {
     "name": "stdout",
     "output_type": "stream",
     "text": [
      "11/11 [==============================] - 0s 1ms/step\n"
     ]
    },
    {
     "name": "stderr",
     "output_type": "stream",
     "text": [
      "C:\\Users\\Nathalie\\AppData\\Local\\Temp\\ipykernel_11560\\1351288572.py:69: FutureWarning: The frame.append method is deprecated and will be removed from pandas in a future version. Use pandas.concat instead.\n",
      "  metrics = metrics.append({'model':'DL','group':'erstsprache','subgroup':'deutsch','Length':len(df),'Sentence': i, 'Accuracy':a,'Precision': p, 'Recall':r, 'AUC':roc_auc, 'FPR':fpr}, ignore_index=True)\n"
     ]
    },
    {
     "name": "stdout",
     "output_type": "stream",
     "text": [
      "11/11 [==============================] - 0s 800us/step\n"
     ]
    },
    {
     "name": "stderr",
     "output_type": "stream",
     "text": [
      "C:\\Users\\Nathalie\\AppData\\Local\\Temp\\ipykernel_11560\\1351288572.py:69: FutureWarning: The frame.append method is deprecated and will be removed from pandas in a future version. Use pandas.concat instead.\n",
      "  metrics = metrics.append({'model':'DL','group':'erstsprache','subgroup':'deutsch','Length':len(df),'Sentence': i, 'Accuracy':a,'Precision': p, 'Recall':r, 'AUC':roc_auc, 'FPR':fpr}, ignore_index=True)\n"
     ]
    },
    {
     "name": "stdout",
     "output_type": "stream",
     "text": [
      "9/9 [==============================] - 0s 875us/step\n"
     ]
    },
    {
     "name": "stderr",
     "output_type": "stream",
     "text": [
      "C:\\Users\\Nathalie\\AppData\\Local\\Temp\\ipykernel_11560\\1351288572.py:69: FutureWarning: The frame.append method is deprecated and will be removed from pandas in a future version. Use pandas.concat instead.\n",
      "  metrics = metrics.append({'model':'DL','group':'erstsprache','subgroup':'deutsch','Length':len(df),'Sentence': i, 'Accuracy':a,'Precision': p, 'Recall':r, 'AUC':roc_auc, 'FPR':fpr}, ignore_index=True)\n"
     ]
    },
    {
     "name": "stdout",
     "output_type": "stream",
     "text": [
      "8/8 [==============================] - 0s 1ms/step\n"
     ]
    },
    {
     "name": "stderr",
     "output_type": "stream",
     "text": [
      "C:\\Users\\Nathalie\\AppData\\Local\\Temp\\ipykernel_11560\\1351288572.py:69: FutureWarning: The frame.append method is deprecated and will be removed from pandas in a future version. Use pandas.concat instead.\n",
      "  metrics = metrics.append({'model':'DL','group':'erstsprache','subgroup':'deutsch','Length':len(df),'Sentence': i, 'Accuracy':a,'Precision': p, 'Recall':r, 'AUC':roc_auc, 'FPR':fpr}, ignore_index=True)\n"
     ]
    },
    {
     "name": "stdout",
     "output_type": "stream",
     "text": [
      "8/8 [==============================] - 0s 873us/step\n"
     ]
    },
    {
     "name": "stderr",
     "output_type": "stream",
     "text": [
      "C:\\Users\\Nathalie\\AppData\\Local\\Temp\\ipykernel_11560\\1351288572.py:69: FutureWarning: The frame.append method is deprecated and will be removed from pandas in a future version. Use pandas.concat instead.\n",
      "  metrics = metrics.append({'model':'DL','group':'erstsprache','subgroup':'deutsch','Length':len(df),'Sentence': i, 'Accuracy':a,'Precision': p, 'Recall':r, 'AUC':roc_auc, 'FPR':fpr}, ignore_index=True)\n"
     ]
    },
    {
     "name": "stdout",
     "output_type": "stream",
     "text": [
      "8/8 [==============================] - 0s 1ms/step\n"
     ]
    },
    {
     "name": "stderr",
     "output_type": "stream",
     "text": [
      "C:\\Users\\Nathalie\\AppData\\Local\\Temp\\ipykernel_11560\\1351288572.py:69: FutureWarning: The frame.append method is deprecated and will be removed from pandas in a future version. Use pandas.concat instead.\n",
      "  metrics = metrics.append({'model':'DL','group':'erstsprache','subgroup':'deutsch','Length':len(df),'Sentence': i, 'Accuracy':a,'Precision': p, 'Recall':r, 'AUC':roc_auc, 'FPR':fpr}, ignore_index=True)\n"
     ]
    },
    {
     "name": "stdout",
     "output_type": "stream",
     "text": [
      "7/7 [==============================] - 0s 833us/step\n"
     ]
    },
    {
     "name": "stderr",
     "output_type": "stream",
     "text": [
      "C:\\Users\\Nathalie\\AppData\\Local\\Temp\\ipykernel_11560\\1351288572.py:69: FutureWarning: The frame.append method is deprecated and will be removed from pandas in a future version. Use pandas.concat instead.\n",
      "  metrics = metrics.append({'model':'DL','group':'erstsprache','subgroup':'deutsch','Length':len(df),'Sentence': i, 'Accuracy':a,'Precision': p, 'Recall':r, 'AUC':roc_auc, 'FPR':fpr}, ignore_index=True)\n"
     ]
    },
    {
     "name": "stdout",
     "output_type": "stream",
     "text": [
      "6/6 [==============================] - 0s 1ms/step\n"
     ]
    },
    {
     "name": "stderr",
     "output_type": "stream",
     "text": [
      "C:\\Users\\Nathalie\\AppData\\Local\\Temp\\ipykernel_11560\\1351288572.py:69: FutureWarning: The frame.append method is deprecated and will be removed from pandas in a future version. Use pandas.concat instead.\n",
      "  metrics = metrics.append({'model':'DL','group':'erstsprache','subgroup':'deutsch','Length':len(df),'Sentence': i, 'Accuracy':a,'Precision': p, 'Recall':r, 'AUC':roc_auc, 'FPR':fpr}, ignore_index=True)\n"
     ]
    },
    {
     "name": "stdout",
     "output_type": "stream",
     "text": [
      "6/6 [==============================] - 0s 1ms/step\n"
     ]
    },
    {
     "name": "stderr",
     "output_type": "stream",
     "text": [
      "C:\\Users\\Nathalie\\AppData\\Local\\Temp\\ipykernel_11560\\1351288572.py:69: FutureWarning: The frame.append method is deprecated and will be removed from pandas in a future version. Use pandas.concat instead.\n",
      "  metrics = metrics.append({'model':'DL','group':'erstsprache','subgroup':'deutsch','Length':len(df),'Sentence': i, 'Accuracy':a,'Precision': p, 'Recall':r, 'AUC':roc_auc, 'FPR':fpr}, ignore_index=True)\n"
     ]
    },
    {
     "name": "stdout",
     "output_type": "stream",
     "text": [
      "6/6 [==============================] - 0s 1000us/step\n"
     ]
    },
    {
     "name": "stderr",
     "output_type": "stream",
     "text": [
      "C:\\Users\\Nathalie\\AppData\\Local\\Temp\\ipykernel_11560\\1351288572.py:69: FutureWarning: The frame.append method is deprecated and will be removed from pandas in a future version. Use pandas.concat instead.\n",
      "  metrics = metrics.append({'model':'DL','group':'erstsprache','subgroup':'deutsch','Length':len(df),'Sentence': i, 'Accuracy':a,'Precision': p, 'Recall':r, 'AUC':roc_auc, 'FPR':fpr}, ignore_index=True)\n"
     ]
    },
    {
     "name": "stdout",
     "output_type": "stream",
     "text": [
      "5/5 [==============================] - 0s 1ms/step\n"
     ]
    },
    {
     "name": "stderr",
     "output_type": "stream",
     "text": [
      "C:\\Users\\Nathalie\\AppData\\Local\\Temp\\ipykernel_11560\\1351288572.py:69: FutureWarning: The frame.append method is deprecated and will be removed from pandas in a future version. Use pandas.concat instead.\n",
      "  metrics = metrics.append({'model':'DL','group':'erstsprache','subgroup':'deutsch','Length':len(df),'Sentence': i, 'Accuracy':a,'Precision': p, 'Recall':r, 'AUC':roc_auc, 'FPR':fpr}, ignore_index=True)\n"
     ]
    },
    {
     "name": "stdout",
     "output_type": "stream",
     "text": [
      "5/5 [==============================] - 0s 1ms/step\n"
     ]
    },
    {
     "name": "stderr",
     "output_type": "stream",
     "text": [
      "C:\\Users\\Nathalie\\AppData\\Local\\Temp\\ipykernel_11560\\1351288572.py:69: FutureWarning: The frame.append method is deprecated and will be removed from pandas in a future version. Use pandas.concat instead.\n",
      "  metrics = metrics.append({'model':'DL','group':'erstsprache','subgroup':'deutsch','Length':len(df),'Sentence': i, 'Accuracy':a,'Precision': p, 'Recall':r, 'AUC':roc_auc, 'FPR':fpr}, ignore_index=True)\n"
     ]
    },
    {
     "name": "stdout",
     "output_type": "stream",
     "text": [
      "5/5 [==============================] - 0s 1ms/step\n"
     ]
    },
    {
     "name": "stderr",
     "output_type": "stream",
     "text": [
      "C:\\Users\\Nathalie\\AppData\\Local\\Temp\\ipykernel_11560\\1351288572.py:69: FutureWarning: The frame.append method is deprecated and will be removed from pandas in a future version. Use pandas.concat instead.\n",
      "  metrics = metrics.append({'model':'DL','group':'erstsprache','subgroup':'deutsch','Length':len(df),'Sentence': i, 'Accuracy':a,'Precision': p, 'Recall':r, 'AUC':roc_auc, 'FPR':fpr}, ignore_index=True)\n"
     ]
    },
    {
     "name": "stdout",
     "output_type": "stream",
     "text": [
      "4/4 [==============================] - 0s 1ms/step\n"
     ]
    },
    {
     "name": "stderr",
     "output_type": "stream",
     "text": [
      "C:\\Users\\Nathalie\\AppData\\Local\\Temp\\ipykernel_11560\\1351288572.py:69: FutureWarning: The frame.append method is deprecated and will be removed from pandas in a future version. Use pandas.concat instead.\n",
      "  metrics = metrics.append({'model':'DL','group':'erstsprache','subgroup':'deutsch','Length':len(df),'Sentence': i, 'Accuracy':a,'Precision': p, 'Recall':r, 'AUC':roc_auc, 'FPR':fpr}, ignore_index=True)\n"
     ]
    },
    {
     "name": "stdout",
     "output_type": "stream",
     "text": [
      "4/4 [==============================] - 0s 1ms/step\n"
     ]
    },
    {
     "name": "stderr",
     "output_type": "stream",
     "text": [
      "C:\\Users\\Nathalie\\AppData\\Local\\Temp\\ipykernel_11560\\1351288572.py:69: FutureWarning: The frame.append method is deprecated and will be removed from pandas in a future version. Use pandas.concat instead.\n",
      "  metrics = metrics.append({'model':'DL','group':'erstsprache','subgroup':'deutsch','Length':len(df),'Sentence': i, 'Accuracy':a,'Precision': p, 'Recall':r, 'AUC':roc_auc, 'FPR':fpr}, ignore_index=True)\n"
     ]
    },
    {
     "name": "stdout",
     "output_type": "stream",
     "text": [
      "4/4 [==============================] - 0s 1ms/step\n"
     ]
    },
    {
     "name": "stderr",
     "output_type": "stream",
     "text": [
      "C:\\Users\\Nathalie\\AppData\\Local\\Temp\\ipykernel_11560\\1351288572.py:69: FutureWarning: The frame.append method is deprecated and will be removed from pandas in a future version. Use pandas.concat instead.\n",
      "  metrics = metrics.append({'model':'DL','group':'erstsprache','subgroup':'deutsch','Length':len(df),'Sentence': i, 'Accuracy':a,'Precision': p, 'Recall':r, 'AUC':roc_auc, 'FPR':fpr}, ignore_index=True)\n"
     ]
    },
    {
     "name": "stdout",
     "output_type": "stream",
     "text": [
      "4/4 [==============================] - 0s 1ms/step\n"
     ]
    },
    {
     "name": "stderr",
     "output_type": "stream",
     "text": [
      "C:\\Users\\Nathalie\\AppData\\Local\\Temp\\ipykernel_11560\\1351288572.py:69: FutureWarning: The frame.append method is deprecated and will be removed from pandas in a future version. Use pandas.concat instead.\n",
      "  metrics = metrics.append({'model':'DL','group':'erstsprache','subgroup':'deutsch','Length':len(df),'Sentence': i, 'Accuracy':a,'Precision': p, 'Recall':r, 'AUC':roc_auc, 'FPR':fpr}, ignore_index=True)\n"
     ]
    },
    {
     "name": "stdout",
     "output_type": "stream",
     "text": [
      "3/3 [==============================] - 0s 1ms/step\n"
     ]
    },
    {
     "name": "stderr",
     "output_type": "stream",
     "text": [
      "C:\\Users\\Nathalie\\AppData\\Local\\Temp\\ipykernel_11560\\1351288572.py:69: FutureWarning: The frame.append method is deprecated and will be removed from pandas in a future version. Use pandas.concat instead.\n",
      "  metrics = metrics.append({'model':'DL','group':'erstsprache','subgroup':'deutsch','Length':len(df),'Sentence': i, 'Accuracy':a,'Precision': p, 'Recall':r, 'AUC':roc_auc, 'FPR':fpr}, ignore_index=True)\n"
     ]
    },
    {
     "name": "stdout",
     "output_type": "stream",
     "text": [
      "3/3 [==============================] - 0s 2ms/step\n"
     ]
    },
    {
     "name": "stderr",
     "output_type": "stream",
     "text": [
      "C:\\Users\\Nathalie\\AppData\\Local\\Temp\\ipykernel_11560\\1351288572.py:69: FutureWarning: The frame.append method is deprecated and will be removed from pandas in a future version. Use pandas.concat instead.\n",
      "  metrics = metrics.append({'model':'DL','group':'erstsprache','subgroup':'deutsch','Length':len(df),'Sentence': i, 'Accuracy':a,'Precision': p, 'Recall':r, 'AUC':roc_auc, 'FPR':fpr}, ignore_index=True)\n"
     ]
    },
    {
     "name": "stdout",
     "output_type": "stream",
     "text": [
      "3/3 [==============================] - 0s 1ms/step\n"
     ]
    },
    {
     "name": "stderr",
     "output_type": "stream",
     "text": [
      "C:\\Users\\Nathalie\\AppData\\Local\\Temp\\ipykernel_11560\\1351288572.py:69: FutureWarning: The frame.append method is deprecated and will be removed from pandas in a future version. Use pandas.concat instead.\n",
      "  metrics = metrics.append({'model':'DL','group':'erstsprache','subgroup':'deutsch','Length':len(df),'Sentence': i, 'Accuracy':a,'Precision': p, 'Recall':r, 'AUC':roc_auc, 'FPR':fpr}, ignore_index=True)\n"
     ]
    },
    {
     "name": "stdout",
     "output_type": "stream",
     "text": [
      "3/3 [==============================] - 0s 2ms/step\n"
     ]
    },
    {
     "name": "stderr",
     "output_type": "stream",
     "text": [
      "C:\\Users\\Nathalie\\AppData\\Local\\Temp\\ipykernel_11560\\1351288572.py:69: FutureWarning: The frame.append method is deprecated and will be removed from pandas in a future version. Use pandas.concat instead.\n",
      "  metrics = metrics.append({'model':'DL','group':'erstsprache','subgroup':'deutsch','Length':len(df),'Sentence': i, 'Accuracy':a,'Precision': p, 'Recall':r, 'AUC':roc_auc, 'FPR':fpr}, ignore_index=True)\n"
     ]
    },
    {
     "name": "stdout",
     "output_type": "stream",
     "text": [
      "3/3 [==============================] - 0s 1ms/step\n"
     ]
    },
    {
     "name": "stderr",
     "output_type": "stream",
     "text": [
      "C:\\Users\\Nathalie\\AppData\\Local\\Temp\\ipykernel_11560\\1351288572.py:69: FutureWarning: The frame.append method is deprecated and will be removed from pandas in a future version. Use pandas.concat instead.\n",
      "  metrics = metrics.append({'model':'DL','group':'erstsprache','subgroup':'deutsch','Length':len(df),'Sentence': i, 'Accuracy':a,'Precision': p, 'Recall':r, 'AUC':roc_auc, 'FPR':fpr}, ignore_index=True)\n"
     ]
    },
    {
     "name": "stdout",
     "output_type": "stream",
     "text": [
      "2/2 [==============================] - 0s 1ms/step\n"
     ]
    },
    {
     "name": "stderr",
     "output_type": "stream",
     "text": [
      "C:\\Users\\Nathalie\\AppData\\Local\\Temp\\ipykernel_11560\\1351288572.py:69: FutureWarning: The frame.append method is deprecated and will be removed from pandas in a future version. Use pandas.concat instead.\n",
      "  metrics = metrics.append({'model':'DL','group':'erstsprache','subgroup':'deutsch','Length':len(df),'Sentence': i, 'Accuracy':a,'Precision': p, 'Recall':r, 'AUC':roc_auc, 'FPR':fpr}, ignore_index=True)\n"
     ]
    },
    {
     "name": "stdout",
     "output_type": "stream",
     "text": [
      "2/2 [==============================] - 0s 2ms/step\n"
     ]
    },
    {
     "name": "stderr",
     "output_type": "stream",
     "text": [
      "C:\\Users\\Nathalie\\AppData\\Local\\Temp\\ipykernel_11560\\1351288572.py:69: FutureWarning: The frame.append method is deprecated and will be removed from pandas in a future version. Use pandas.concat instead.\n",
      "  metrics = metrics.append({'model':'DL','group':'erstsprache','subgroup':'deutsch','Length':len(df),'Sentence': i, 'Accuracy':a,'Precision': p, 'Recall':r, 'AUC':roc_auc, 'FPR':fpr}, ignore_index=True)\n"
     ]
    },
    {
     "name": "stdout",
     "output_type": "stream",
     "text": [
      "2/2 [==============================] - 0s 2ms/step\n"
     ]
    },
    {
     "name": "stderr",
     "output_type": "stream",
     "text": [
      "C:\\Users\\Nathalie\\AppData\\Local\\Temp\\ipykernel_11560\\1351288572.py:69: FutureWarning: The frame.append method is deprecated and will be removed from pandas in a future version. Use pandas.concat instead.\n",
      "  metrics = metrics.append({'model':'DL','group':'erstsprache','subgroup':'deutsch','Length':len(df),'Sentence': i, 'Accuracy':a,'Precision': p, 'Recall':r, 'AUC':roc_auc, 'FPR':fpr}, ignore_index=True)\n"
     ]
    },
    {
     "name": "stdout",
     "output_type": "stream",
     "text": [
      "2/2 [==============================] - 0s 2ms/step\n"
     ]
    },
    {
     "name": "stderr",
     "output_type": "stream",
     "text": [
      "C:\\Users\\Nathalie\\AppData\\Local\\Temp\\ipykernel_11560\\1351288572.py:69: FutureWarning: The frame.append method is deprecated and will be removed from pandas in a future version. Use pandas.concat instead.\n",
      "  metrics = metrics.append({'model':'DL','group':'erstsprache','subgroup':'deutsch','Length':len(df),'Sentence': i, 'Accuracy':a,'Precision': p, 'Recall':r, 'AUC':roc_auc, 'FPR':fpr}, ignore_index=True)\n"
     ]
    },
    {
     "name": "stdout",
     "output_type": "stream",
     "text": [
      "2/2 [==============================] - 0s 2ms/step\n"
     ]
    },
    {
     "name": "stderr",
     "output_type": "stream",
     "text": [
      "C:\\Users\\Nathalie\\AppData\\Local\\Temp\\ipykernel_11560\\1351288572.py:69: FutureWarning: The frame.append method is deprecated and will be removed from pandas in a future version. Use pandas.concat instead.\n",
      "  metrics = metrics.append({'model':'DL','group':'erstsprache','subgroup':'deutsch','Length':len(df),'Sentence': i, 'Accuracy':a,'Precision': p, 'Recall':r, 'AUC':roc_auc, 'FPR':fpr}, ignore_index=True)\n"
     ]
    },
    {
     "name": "stdout",
     "output_type": "stream",
     "text": [
      "2/2 [==============================] - 0s 2ms/step\n"
     ]
    },
    {
     "name": "stderr",
     "output_type": "stream",
     "text": [
      "C:\\Users\\Nathalie\\AppData\\Local\\Temp\\ipykernel_11560\\1351288572.py:69: FutureWarning: The frame.append method is deprecated and will be removed from pandas in a future version. Use pandas.concat instead.\n",
      "  metrics = metrics.append({'model':'DL','group':'erstsprache','subgroup':'deutsch','Length':len(df),'Sentence': i, 'Accuracy':a,'Precision': p, 'Recall':r, 'AUC':roc_auc, 'FPR':fpr}, ignore_index=True)\n"
     ]
    },
    {
     "name": "stdout",
     "output_type": "stream",
     "text": [
      "2/2 [==============================] - 0s 2ms/step\n"
     ]
    },
    {
     "name": "stderr",
     "output_type": "stream",
     "text": [
      "C:\\Users\\Nathalie\\AppData\\Local\\Temp\\ipykernel_11560\\1351288572.py:69: FutureWarning: The frame.append method is deprecated and will be removed from pandas in a future version. Use pandas.concat instead.\n",
      "  metrics = metrics.append({'model':'DL','group':'erstsprache','subgroup':'deutsch','Length':len(df),'Sentence': i, 'Accuracy':a,'Precision': p, 'Recall':r, 'AUC':roc_auc, 'FPR':fpr}, ignore_index=True)\n"
     ]
    },
    {
     "name": "stdout",
     "output_type": "stream",
     "text": [
      "2/2 [==============================] - 0s 1ms/step\n"
     ]
    },
    {
     "name": "stderr",
     "output_type": "stream",
     "text": [
      "C:\\Users\\Nathalie\\AppData\\Local\\Temp\\ipykernel_11560\\1351288572.py:69: FutureWarning: The frame.append method is deprecated and will be removed from pandas in a future version. Use pandas.concat instead.\n",
      "  metrics = metrics.append({'model':'DL','group':'erstsprache','subgroup':'deutsch','Length':len(df),'Sentence': i, 'Accuracy':a,'Precision': p, 'Recall':r, 'AUC':roc_auc, 'FPR':fpr}, ignore_index=True)\n"
     ]
    },
    {
     "name": "stdout",
     "output_type": "stream",
     "text": [
      "2/2 [==============================] - 0s 1ms/step\n"
     ]
    },
    {
     "name": "stderr",
     "output_type": "stream",
     "text": [
      "C:\\Users\\Nathalie\\AppData\\Local\\Temp\\ipykernel_11560\\1351288572.py:69: FutureWarning: The frame.append method is deprecated and will be removed from pandas in a future version. Use pandas.concat instead.\n",
      "  metrics = metrics.append({'model':'DL','group':'erstsprache','subgroup':'deutsch','Length':len(df),'Sentence': i, 'Accuracy':a,'Precision': p, 'Recall':r, 'AUC':roc_auc, 'FPR':fpr}, ignore_index=True)\n"
     ]
    },
    {
     "name": "stdout",
     "output_type": "stream",
     "text": [
      "2/2 [==============================] - 0s 2ms/step\n"
     ]
    },
    {
     "name": "stderr",
     "output_type": "stream",
     "text": [
      "C:\\Users\\Nathalie\\AppData\\Local\\Temp\\ipykernel_11560\\1351288572.py:69: FutureWarning: The frame.append method is deprecated and will be removed from pandas in a future version. Use pandas.concat instead.\n",
      "  metrics = metrics.append({'model':'DL','group':'erstsprache','subgroup':'deutsch','Length':len(df),'Sentence': i, 'Accuracy':a,'Precision': p, 'Recall':r, 'AUC':roc_auc, 'FPR':fpr}, ignore_index=True)\n"
     ]
    },
    {
     "name": "stdout",
     "output_type": "stream",
     "text": [
      "1/1 [==============================] - 0s 15ms/step\n"
     ]
    },
    {
     "name": "stderr",
     "output_type": "stream",
     "text": [
      "C:\\Users\\Nathalie\\AppData\\Local\\Temp\\ipykernel_11560\\1351288572.py:69: FutureWarning: The frame.append method is deprecated and will be removed from pandas in a future version. Use pandas.concat instead.\n",
      "  metrics = metrics.append({'model':'DL','group':'erstsprache','subgroup':'deutsch','Length':len(df),'Sentence': i, 'Accuracy':a,'Precision': p, 'Recall':r, 'AUC':roc_auc, 'FPR':fpr}, ignore_index=True)\n"
     ]
    },
    {
     "name": "stdout",
     "output_type": "stream",
     "text": [
      "1/1 [==============================] - 0s 14ms/step\n"
     ]
    },
    {
     "name": "stderr",
     "output_type": "stream",
     "text": [
      "C:\\Users\\Nathalie\\AppData\\Local\\Temp\\ipykernel_11560\\1351288572.py:69: FutureWarning: The frame.append method is deprecated and will be removed from pandas in a future version. Use pandas.concat instead.\n",
      "  metrics = metrics.append({'model':'DL','group':'erstsprache','subgroup':'deutsch','Length':len(df),'Sentence': i, 'Accuracy':a,'Precision': p, 'Recall':r, 'AUC':roc_auc, 'FPR':fpr}, ignore_index=True)\n"
     ]
    },
    {
     "name": "stdout",
     "output_type": "stream",
     "text": [
      "WARNING:tensorflow:5 out of the last 13 calls to <function Model.make_predict_function.<locals>.predict_function at 0x000001B57D658940> triggered tf.function retracing. Tracing is expensive and the excessive number of tracings could be due to (1) creating @tf.function repeatedly in a loop, (2) passing tensors with different shapes, (3) passing Python objects instead of tensors. For (1), please define your @tf.function outside of the loop. For (2), @tf.function has reduce_retracing=True option that can avoid unnecessary retracing. For (3), please refer to https://www.tensorflow.org/guide/function#controlling_retracing and https://www.tensorflow.org/api_docs/python/tf/function for  more details.\n",
      "1/1 [==============================] - 0s 16ms/step\n"
     ]
    },
    {
     "name": "stderr",
     "output_type": "stream",
     "text": [
      "C:\\Users\\Nathalie\\AppData\\Local\\Temp\\ipykernel_11560\\1351288572.py:69: FutureWarning: The frame.append method is deprecated and will be removed from pandas in a future version. Use pandas.concat instead.\n",
      "  metrics = metrics.append({'model':'DL','group':'erstsprache','subgroup':'deutsch','Length':len(df),'Sentence': i, 'Accuracy':a,'Precision': p, 'Recall':r, 'AUC':roc_auc, 'FPR':fpr}, ignore_index=True)\n"
     ]
    },
    {
     "name": "stdout",
     "output_type": "stream",
     "text": [
      "WARNING:tensorflow:5 out of the last 11 calls to <function Model.make_predict_function.<locals>.predict_function at 0x000001B57A23E8C0> triggered tf.function retracing. Tracing is expensive and the excessive number of tracings could be due to (1) creating @tf.function repeatedly in a loop, (2) passing tensors with different shapes, (3) passing Python objects instead of tensors. For (1), please define your @tf.function outside of the loop. For (2), @tf.function has reduce_retracing=True option that can avoid unnecessary retracing. For (3), please refer to https://www.tensorflow.org/guide/function#controlling_retracing and https://www.tensorflow.org/api_docs/python/tf/function for  more details.\n",
      "1/1 [==============================] - 0s 17ms/step\n"
     ]
    },
    {
     "name": "stderr",
     "output_type": "stream",
     "text": [
      "C:\\Users\\Nathalie\\AppData\\Local\\Temp\\ipykernel_11560\\1351288572.py:69: FutureWarning: The frame.append method is deprecated and will be removed from pandas in a future version. Use pandas.concat instead.\n",
      "  metrics = metrics.append({'model':'DL','group':'erstsprache','subgroup':'deutsch','Length':len(df),'Sentence': i, 'Accuracy':a,'Precision': p, 'Recall':r, 'AUC':roc_auc, 'FPR':fpr}, ignore_index=True)\n"
     ]
    }
   ],
   "source": [
    "# baseline model\n",
    "def build_model():\n",
    "\t# create model\n",
    "\tmodel = Sequential()\n",
    "\tmodel.add(Dense(21, input_dim=21, activation='relu'))\n",
    "\tmodel.add(Dense(44, activation='relu'))\n",
    "\tmodel.add(Dense(22, activation='relu'))\n",
    "\tmodel.add(Dense(11, activation='relu'))\n",
    "\tmodel.add(Dense(1, activation='sigmoid'))\n",
    "\t\t\n",
    "\treturn model\n",
    "\n",
    "\n",
    "def get_dn_metrics(model, X,y):\n",
    "    yhat_probs = model.predict(X, verbose=0)\n",
    "    yhat_classes =  (model.predict(X) > 0.5).astype(\"int32\")\n",
    "    # reduce to 1d array\n",
    "    yhat_probs = yhat_probs[:, 0]\n",
    "    yhat_classes = yhat_classes[:, 0]\n",
    "    a = accuracy_score(y, yhat_classes)\n",
    "    p = precision_score(y, yhat_classes)\n",
    "    r = recall_score(y, yhat_classes)\n",
    "    roc_auc = roc_auc_score(y, yhat_probs)\n",
    "    tn, fp, fn, tp = confusion_matrix(y, yhat_classes).ravel()\n",
    "    fpr = fp/(fp+tn)\n",
    "\n",
    "    return a,p,r,roc_auc,fpr\n",
    "\n",
    "n =  [2,3,4,5,6,7,8,9,10,11,12,13,14,15,16,17,18,19,20,21,22,23,24,25,26,27,28,29,30,31,32,33,34,35,36,37,38,39,40,41,42,43,44,45,46,47,48,49,50,51,52,53,54,55,56,57,58,59,60]\n",
    "feature_cols = ['Erstloesung','Schussel','Erfolg', 'Schwierigkeit', 'ist_Schulzeit', 'MehrfachFalsch', 'vorher_abgebrochen','Fehler', 'Klassenstufe', 'Jahredabei', 'Testposition__pruefung', 'Testposition__training','Testposition__version', 'Art__GK', 'Art__GR', 'Art__GZ', 'Art__K', 'Art__LB','UserAttribut', 'OrderNumber', 'steps']\n",
    "\n",
    "for i in n:\n",
    "    path='erstsprache/matrix_deutsch'+str(i)+'.pkl'\n",
    "    infile = open(path,'rb')\n",
    "    df = pickle.load(infile)\n",
    "    infile.close()\n",
    "    df=df.reset_index()\n",
    "\n",
    "    y_len = len(feature_cols)\n",
    "    X = df[feature_cols].astype(float)\n",
    "    y = df.y\n",
    "    y= y.astype('int')\n",
    "    X_train, X_test, y_train, y_test = train_test_split(X, y, test_size=0.3, random_state=1)\n",
    "\n",
    "    model = build_model()\n",
    "\n",
    "    model.compile(\n",
    "        loss=\"binary_crossentropy\",\n",
    "        optimizer='Adam',\n",
    "        metrics=[\"accuracy\"]\n",
    "    )\n",
    "\n",
    "    model.fit(\n",
    "        x=X_train,\n",
    "        y=y_train,\n",
    "        epochs=10,\n",
    "        batch_size=128,\n",
    "        verbose=0,\n",
    "        validation_data=(X_test, y_test)\n",
    "    )\n",
    "\n",
    "    scores = model.evaluate(\n",
    "        x=X_test,\n",
    "        y=y_test,\n",
    "        verbose=0\n",
    "    )\n",
    "\n",
    "    a,p,r,roc_auc,fpr= get_dn_metrics(model, X_test,y_test)\n",
    "    metrics = metrics.append({'model':'DL','group':'erstsprache','subgroup':'deutsch','Length':len(df),'Sentence': i, 'Accuracy':a,'Precision': p, 'Recall':r, 'AUC':roc_auc, 'FPR':fpr}, ignore_index=True)"
   ]
  },
  {
   "cell_type": "markdown",
   "metadata": {},
   "source": [
    "migration"
   ]
  },
  {
   "cell_type": "code",
   "execution_count": 10,
   "metadata": {},
   "outputs": [],
   "source": [
    "n = [2,3,4,5,6,7,8,9,10,11,12,13,14,15,16,17,18,19,20,21,22,23,24,25,26,27,28,29,30,31,32,33,34,35,36,37,38,39,40,41,42,43,44,45,46,47,48,49,50,51,52,53,54,55,56,57,58,59,60]\n",
    "\n",
    "for i in n:\n",
    "    path='../06_optimize_Fairness/eigSprache_allsessions/matrix'+str(i)+'.pkl'\n",
    "    infile = open(path,'rb')\n",
    "    df = pickle.load(infile)\n",
    "    infile.close()\n",
    "\n",
    "    df = df[df.eigSprache == 0]\n",
    "    \n",
    "    path = 'erstsprache/matrix_migration'+ str(i) +'.pkl'\n",
    "    df.to_pickle(path)"
   ]
  },
  {
   "cell_type": "code",
   "execution_count": 11,
   "metadata": {},
   "outputs": [
    {
     "name": "stderr",
     "output_type": "stream",
     "text": [
      "C:\\Users\\Nathalie\\AppData\\Local\\Temp\\ipykernel_11560\\1329857265.py:25: FutureWarning: The frame.append method is deprecated and will be removed from pandas in a future version. Use pandas.concat instead.\n",
      "  metrics = metrics.append({'model':'DTE','group':'erstsprache','subgroup':'migration','Length':len(df),'Sentence': i, 'Accuracy':a,'Precision': p, 'Recall':r, 'AUC':roc_auc, 'FPR':fpr}, ignore_index=True)\n",
      "C:\\Users\\Nathalie\\AppData\\Local\\Temp\\ipykernel_11560\\1329857265.py:25: FutureWarning: The frame.append method is deprecated and will be removed from pandas in a future version. Use pandas.concat instead.\n",
      "  metrics = metrics.append({'model':'DTE','group':'erstsprache','subgroup':'migration','Length':len(df),'Sentence': i, 'Accuracy':a,'Precision': p, 'Recall':r, 'AUC':roc_auc, 'FPR':fpr}, ignore_index=True)\n",
      "C:\\Users\\Nathalie\\AppData\\Local\\Temp\\ipykernel_11560\\1329857265.py:25: FutureWarning: The frame.append method is deprecated and will be removed from pandas in a future version. Use pandas.concat instead.\n",
      "  metrics = metrics.append({'model':'DTE','group':'erstsprache','subgroup':'migration','Length':len(df),'Sentence': i, 'Accuracy':a,'Precision': p, 'Recall':r, 'AUC':roc_auc, 'FPR':fpr}, ignore_index=True)\n",
      "C:\\Users\\Nathalie\\AppData\\Local\\Temp\\ipykernel_11560\\1329857265.py:25: FutureWarning: The frame.append method is deprecated and will be removed from pandas in a future version. Use pandas.concat instead.\n",
      "  metrics = metrics.append({'model':'DTE','group':'erstsprache','subgroup':'migration','Length':len(df),'Sentence': i, 'Accuracy':a,'Precision': p, 'Recall':r, 'AUC':roc_auc, 'FPR':fpr}, ignore_index=True)\n",
      "C:\\Users\\Nathalie\\AppData\\Local\\Temp\\ipykernel_11560\\1329857265.py:25: FutureWarning: The frame.append method is deprecated and will be removed from pandas in a future version. Use pandas.concat instead.\n",
      "  metrics = metrics.append({'model':'DTE','group':'erstsprache','subgroup':'migration','Length':len(df),'Sentence': i, 'Accuracy':a,'Precision': p, 'Recall':r, 'AUC':roc_auc, 'FPR':fpr}, ignore_index=True)\n",
      "C:\\Users\\Nathalie\\AppData\\Local\\Temp\\ipykernel_11560\\1329857265.py:25: FutureWarning: The frame.append method is deprecated and will be removed from pandas in a future version. Use pandas.concat instead.\n",
      "  metrics = metrics.append({'model':'DTE','group':'erstsprache','subgroup':'migration','Length':len(df),'Sentence': i, 'Accuracy':a,'Precision': p, 'Recall':r, 'AUC':roc_auc, 'FPR':fpr}, ignore_index=True)\n",
      "C:\\Users\\Nathalie\\AppData\\Local\\Temp\\ipykernel_11560\\1329857265.py:25: FutureWarning: The frame.append method is deprecated and will be removed from pandas in a future version. Use pandas.concat instead.\n",
      "  metrics = metrics.append({'model':'DTE','group':'erstsprache','subgroup':'migration','Length':len(df),'Sentence': i, 'Accuracy':a,'Precision': p, 'Recall':r, 'AUC':roc_auc, 'FPR':fpr}, ignore_index=True)\n",
      "C:\\Users\\Nathalie\\AppData\\Local\\Temp\\ipykernel_11560\\1329857265.py:25: FutureWarning: The frame.append method is deprecated and will be removed from pandas in a future version. Use pandas.concat instead.\n",
      "  metrics = metrics.append({'model':'DTE','group':'erstsprache','subgroup':'migration','Length':len(df),'Sentence': i, 'Accuracy':a,'Precision': p, 'Recall':r, 'AUC':roc_auc, 'FPR':fpr}, ignore_index=True)\n",
      "C:\\Users\\Nathalie\\AppData\\Local\\Temp\\ipykernel_11560\\1329857265.py:25: FutureWarning: The frame.append method is deprecated and will be removed from pandas in a future version. Use pandas.concat instead.\n",
      "  metrics = metrics.append({'model':'DTE','group':'erstsprache','subgroup':'migration','Length':len(df),'Sentence': i, 'Accuracy':a,'Precision': p, 'Recall':r, 'AUC':roc_auc, 'FPR':fpr}, ignore_index=True)\n",
      "C:\\Users\\Nathalie\\AppData\\Local\\Temp\\ipykernel_11560\\1329857265.py:25: FutureWarning: The frame.append method is deprecated and will be removed from pandas in a future version. Use pandas.concat instead.\n",
      "  metrics = metrics.append({'model':'DTE','group':'erstsprache','subgroup':'migration','Length':len(df),'Sentence': i, 'Accuracy':a,'Precision': p, 'Recall':r, 'AUC':roc_auc, 'FPR':fpr}, ignore_index=True)\n",
      "C:\\Users\\Nathalie\\AppData\\Local\\Temp\\ipykernel_11560\\1329857265.py:25: FutureWarning: The frame.append method is deprecated and will be removed from pandas in a future version. Use pandas.concat instead.\n",
      "  metrics = metrics.append({'model':'DTE','group':'erstsprache','subgroup':'migration','Length':len(df),'Sentence': i, 'Accuracy':a,'Precision': p, 'Recall':r, 'AUC':roc_auc, 'FPR':fpr}, ignore_index=True)\n",
      "C:\\Users\\Nathalie\\AppData\\Local\\Temp\\ipykernel_11560\\1329857265.py:25: FutureWarning: The frame.append method is deprecated and will be removed from pandas in a future version. Use pandas.concat instead.\n",
      "  metrics = metrics.append({'model':'DTE','group':'erstsprache','subgroup':'migration','Length':len(df),'Sentence': i, 'Accuracy':a,'Precision': p, 'Recall':r, 'AUC':roc_auc, 'FPR':fpr}, ignore_index=True)\n",
      "C:\\Users\\Nathalie\\AppData\\Local\\Temp\\ipykernel_11560\\1329857265.py:25: FutureWarning: The frame.append method is deprecated and will be removed from pandas in a future version. Use pandas.concat instead.\n",
      "  metrics = metrics.append({'model':'DTE','group':'erstsprache','subgroup':'migration','Length':len(df),'Sentence': i, 'Accuracy':a,'Precision': p, 'Recall':r, 'AUC':roc_auc, 'FPR':fpr}, ignore_index=True)\n",
      "C:\\Users\\Nathalie\\AppData\\Local\\Temp\\ipykernel_11560\\1329857265.py:25: FutureWarning: The frame.append method is deprecated and will be removed from pandas in a future version. Use pandas.concat instead.\n",
      "  metrics = metrics.append({'model':'DTE','group':'erstsprache','subgroup':'migration','Length':len(df),'Sentence': i, 'Accuracy':a,'Precision': p, 'Recall':r, 'AUC':roc_auc, 'FPR':fpr}, ignore_index=True)\n",
      "C:\\Users\\Nathalie\\AppData\\Local\\Temp\\ipykernel_11560\\1329857265.py:25: FutureWarning: The frame.append method is deprecated and will be removed from pandas in a future version. Use pandas.concat instead.\n",
      "  metrics = metrics.append({'model':'DTE','group':'erstsprache','subgroup':'migration','Length':len(df),'Sentence': i, 'Accuracy':a,'Precision': p, 'Recall':r, 'AUC':roc_auc, 'FPR':fpr}, ignore_index=True)\n",
      "C:\\Users\\Nathalie\\AppData\\Local\\Temp\\ipykernel_11560\\1329857265.py:25: FutureWarning: The frame.append method is deprecated and will be removed from pandas in a future version. Use pandas.concat instead.\n",
      "  metrics = metrics.append({'model':'DTE','group':'erstsprache','subgroup':'migration','Length':len(df),'Sentence': i, 'Accuracy':a,'Precision': p, 'Recall':r, 'AUC':roc_auc, 'FPR':fpr}, ignore_index=True)\n",
      "C:\\Users\\Nathalie\\AppData\\Local\\Temp\\ipykernel_11560\\1329857265.py:25: FutureWarning: The frame.append method is deprecated and will be removed from pandas in a future version. Use pandas.concat instead.\n",
      "  metrics = metrics.append({'model':'DTE','group':'erstsprache','subgroup':'migration','Length':len(df),'Sentence': i, 'Accuracy':a,'Precision': p, 'Recall':r, 'AUC':roc_auc, 'FPR':fpr}, ignore_index=True)\n",
      "C:\\Users\\Nathalie\\AppData\\Local\\Temp\\ipykernel_11560\\1329857265.py:25: FutureWarning: The frame.append method is deprecated and will be removed from pandas in a future version. Use pandas.concat instead.\n",
      "  metrics = metrics.append({'model':'DTE','group':'erstsprache','subgroup':'migration','Length':len(df),'Sentence': i, 'Accuracy':a,'Precision': p, 'Recall':r, 'AUC':roc_auc, 'FPR':fpr}, ignore_index=True)\n",
      "C:\\Users\\Nathalie\\AppData\\Local\\Temp\\ipykernel_11560\\1329857265.py:25: FutureWarning: The frame.append method is deprecated and will be removed from pandas in a future version. Use pandas.concat instead.\n",
      "  metrics = metrics.append({'model':'DTE','group':'erstsprache','subgroup':'migration','Length':len(df),'Sentence': i, 'Accuracy':a,'Precision': p, 'Recall':r, 'AUC':roc_auc, 'FPR':fpr}, ignore_index=True)\n",
      "C:\\Users\\Nathalie\\AppData\\Local\\Temp\\ipykernel_11560\\1329857265.py:25: FutureWarning: The frame.append method is deprecated and will be removed from pandas in a future version. Use pandas.concat instead.\n",
      "  metrics = metrics.append({'model':'DTE','group':'erstsprache','subgroup':'migration','Length':len(df),'Sentence': i, 'Accuracy':a,'Precision': p, 'Recall':r, 'AUC':roc_auc, 'FPR':fpr}, ignore_index=True)\n",
      "C:\\Users\\Nathalie\\AppData\\Local\\Temp\\ipykernel_11560\\1329857265.py:25: FutureWarning: The frame.append method is deprecated and will be removed from pandas in a future version. Use pandas.concat instead.\n",
      "  metrics = metrics.append({'model':'DTE','group':'erstsprache','subgroup':'migration','Length':len(df),'Sentence': i, 'Accuracy':a,'Precision': p, 'Recall':r, 'AUC':roc_auc, 'FPR':fpr}, ignore_index=True)\n",
      "C:\\Users\\Nathalie\\AppData\\Local\\Temp\\ipykernel_11560\\1329857265.py:25: FutureWarning: The frame.append method is deprecated and will be removed from pandas in a future version. Use pandas.concat instead.\n",
      "  metrics = metrics.append({'model':'DTE','group':'erstsprache','subgroup':'migration','Length':len(df),'Sentence': i, 'Accuracy':a,'Precision': p, 'Recall':r, 'AUC':roc_auc, 'FPR':fpr}, ignore_index=True)\n",
      "C:\\Users\\Nathalie\\AppData\\Local\\Temp\\ipykernel_11560\\1329857265.py:25: FutureWarning: The frame.append method is deprecated and will be removed from pandas in a future version. Use pandas.concat instead.\n",
      "  metrics = metrics.append({'model':'DTE','group':'erstsprache','subgroup':'migration','Length':len(df),'Sentence': i, 'Accuracy':a,'Precision': p, 'Recall':r, 'AUC':roc_auc, 'FPR':fpr}, ignore_index=True)\n",
      "C:\\Users\\Nathalie\\AppData\\Local\\Temp\\ipykernel_11560\\1329857265.py:25: FutureWarning: The frame.append method is deprecated and will be removed from pandas in a future version. Use pandas.concat instead.\n",
      "  metrics = metrics.append({'model':'DTE','group':'erstsprache','subgroup':'migration','Length':len(df),'Sentence': i, 'Accuracy':a,'Precision': p, 'Recall':r, 'AUC':roc_auc, 'FPR':fpr}, ignore_index=True)\n",
      "C:\\Users\\Nathalie\\AppData\\Local\\Temp\\ipykernel_11560\\1329857265.py:25: FutureWarning: The frame.append method is deprecated and will be removed from pandas in a future version. Use pandas.concat instead.\n",
      "  metrics = metrics.append({'model':'DTE','group':'erstsprache','subgroup':'migration','Length':len(df),'Sentence': i, 'Accuracy':a,'Precision': p, 'Recall':r, 'AUC':roc_auc, 'FPR':fpr}, ignore_index=True)\n",
      "C:\\Users\\Nathalie\\AppData\\Local\\Temp\\ipykernel_11560\\1329857265.py:25: FutureWarning: The frame.append method is deprecated and will be removed from pandas in a future version. Use pandas.concat instead.\n",
      "  metrics = metrics.append({'model':'DTE','group':'erstsprache','subgroup':'migration','Length':len(df),'Sentence': i, 'Accuracy':a,'Precision': p, 'Recall':r, 'AUC':roc_auc, 'FPR':fpr}, ignore_index=True)\n",
      "C:\\Users\\Nathalie\\AppData\\Local\\Temp\\ipykernel_11560\\1329857265.py:25: FutureWarning: The frame.append method is deprecated and will be removed from pandas in a future version. Use pandas.concat instead.\n",
      "  metrics = metrics.append({'model':'DTE','group':'erstsprache','subgroup':'migration','Length':len(df),'Sentence': i, 'Accuracy':a,'Precision': p, 'Recall':r, 'AUC':roc_auc, 'FPR':fpr}, ignore_index=True)\n",
      "C:\\Users\\Nathalie\\AppData\\Local\\Temp\\ipykernel_11560\\1329857265.py:25: FutureWarning: The frame.append method is deprecated and will be removed from pandas in a future version. Use pandas.concat instead.\n",
      "  metrics = metrics.append({'model':'DTE','group':'erstsprache','subgroup':'migration','Length':len(df),'Sentence': i, 'Accuracy':a,'Precision': p, 'Recall':r, 'AUC':roc_auc, 'FPR':fpr}, ignore_index=True)\n",
      "C:\\Users\\Nathalie\\AppData\\Local\\Temp\\ipykernel_11560\\1329857265.py:25: FutureWarning: The frame.append method is deprecated and will be removed from pandas in a future version. Use pandas.concat instead.\n",
      "  metrics = metrics.append({'model':'DTE','group':'erstsprache','subgroup':'migration','Length':len(df),'Sentence': i, 'Accuracy':a,'Precision': p, 'Recall':r, 'AUC':roc_auc, 'FPR':fpr}, ignore_index=True)\n",
      "C:\\Users\\Nathalie\\AppData\\Local\\Temp\\ipykernel_11560\\1329857265.py:25: FutureWarning: The frame.append method is deprecated and will be removed from pandas in a future version. Use pandas.concat instead.\n",
      "  metrics = metrics.append({'model':'DTE','group':'erstsprache','subgroup':'migration','Length':len(df),'Sentence': i, 'Accuracy':a,'Precision': p, 'Recall':r, 'AUC':roc_auc, 'FPR':fpr}, ignore_index=True)\n",
      "C:\\Users\\Nathalie\\AppData\\Local\\Temp\\ipykernel_11560\\1329857265.py:25: FutureWarning: The frame.append method is deprecated and will be removed from pandas in a future version. Use pandas.concat instead.\n",
      "  metrics = metrics.append({'model':'DTE','group':'erstsprache','subgroup':'migration','Length':len(df),'Sentence': i, 'Accuracy':a,'Precision': p, 'Recall':r, 'AUC':roc_auc, 'FPR':fpr}, ignore_index=True)\n",
      "C:\\Users\\Nathalie\\AppData\\Local\\Temp\\ipykernel_11560\\1329857265.py:25: FutureWarning: The frame.append method is deprecated and will be removed from pandas in a future version. Use pandas.concat instead.\n",
      "  metrics = metrics.append({'model':'DTE','group':'erstsprache','subgroup':'migration','Length':len(df),'Sentence': i, 'Accuracy':a,'Precision': p, 'Recall':r, 'AUC':roc_auc, 'FPR':fpr}, ignore_index=True)\n",
      "C:\\Users\\Nathalie\\AppData\\Local\\Temp\\ipykernel_11560\\1329857265.py:25: FutureWarning: The frame.append method is deprecated and will be removed from pandas in a future version. Use pandas.concat instead.\n",
      "  metrics = metrics.append({'model':'DTE','group':'erstsprache','subgroup':'migration','Length':len(df),'Sentence': i, 'Accuracy':a,'Precision': p, 'Recall':r, 'AUC':roc_auc, 'FPR':fpr}, ignore_index=True)\n",
      "C:\\Users\\Nathalie\\AppData\\Local\\Temp\\ipykernel_11560\\1329857265.py:25: FutureWarning: The frame.append method is deprecated and will be removed from pandas in a future version. Use pandas.concat instead.\n",
      "  metrics = metrics.append({'model':'DTE','group':'erstsprache','subgroup':'migration','Length':len(df),'Sentence': i, 'Accuracy':a,'Precision': p, 'Recall':r, 'AUC':roc_auc, 'FPR':fpr}, ignore_index=True)\n",
      "C:\\Users\\Nathalie\\AppData\\Local\\Temp\\ipykernel_11560\\1329857265.py:25: FutureWarning: The frame.append method is deprecated and will be removed from pandas in a future version. Use pandas.concat instead.\n",
      "  metrics = metrics.append({'model':'DTE','group':'erstsprache','subgroup':'migration','Length':len(df),'Sentence': i, 'Accuracy':a,'Precision': p, 'Recall':r, 'AUC':roc_auc, 'FPR':fpr}, ignore_index=True)\n",
      "C:\\Users\\Nathalie\\AppData\\Local\\Temp\\ipykernel_11560\\1329857265.py:25: FutureWarning: The frame.append method is deprecated and will be removed from pandas in a future version. Use pandas.concat instead.\n",
      "  metrics = metrics.append({'model':'DTE','group':'erstsprache','subgroup':'migration','Length':len(df),'Sentence': i, 'Accuracy':a,'Precision': p, 'Recall':r, 'AUC':roc_auc, 'FPR':fpr}, ignore_index=True)\n",
      "C:\\Users\\Nathalie\\AppData\\Local\\Temp\\ipykernel_11560\\1329857265.py:25: FutureWarning: The frame.append method is deprecated and will be removed from pandas in a future version. Use pandas.concat instead.\n",
      "  metrics = metrics.append({'model':'DTE','group':'erstsprache','subgroup':'migration','Length':len(df),'Sentence': i, 'Accuracy':a,'Precision': p, 'Recall':r, 'AUC':roc_auc, 'FPR':fpr}, ignore_index=True)\n",
      "C:\\Users\\Nathalie\\AppData\\Local\\Temp\\ipykernel_11560\\1329857265.py:25: FutureWarning: The frame.append method is deprecated and will be removed from pandas in a future version. Use pandas.concat instead.\n",
      "  metrics = metrics.append({'model':'DTE','group':'erstsprache','subgroup':'migration','Length':len(df),'Sentence': i, 'Accuracy':a,'Precision': p, 'Recall':r, 'AUC':roc_auc, 'FPR':fpr}, ignore_index=True)\n",
      "C:\\Users\\Nathalie\\AppData\\Local\\Temp\\ipykernel_11560\\1329857265.py:25: FutureWarning: The frame.append method is deprecated and will be removed from pandas in a future version. Use pandas.concat instead.\n",
      "  metrics = metrics.append({'model':'DTE','group':'erstsprache','subgroup':'migration','Length':len(df),'Sentence': i, 'Accuracy':a,'Precision': p, 'Recall':r, 'AUC':roc_auc, 'FPR':fpr}, ignore_index=True)\n",
      "C:\\Users\\Nathalie\\AppData\\Local\\Temp\\ipykernel_11560\\1329857265.py:25: FutureWarning: The frame.append method is deprecated and will be removed from pandas in a future version. Use pandas.concat instead.\n",
      "  metrics = metrics.append({'model':'DTE','group':'erstsprache','subgroup':'migration','Length':len(df),'Sentence': i, 'Accuracy':a,'Precision': p, 'Recall':r, 'AUC':roc_auc, 'FPR':fpr}, ignore_index=True)\n",
      "C:\\Users\\Nathalie\\AppData\\Local\\Temp\\ipykernel_11560\\1329857265.py:25: FutureWarning: The frame.append method is deprecated and will be removed from pandas in a future version. Use pandas.concat instead.\n",
      "  metrics = metrics.append({'model':'DTE','group':'erstsprache','subgroup':'migration','Length':len(df),'Sentence': i, 'Accuracy':a,'Precision': p, 'Recall':r, 'AUC':roc_auc, 'FPR':fpr}, ignore_index=True)\n",
      "C:\\Users\\Nathalie\\AppData\\Local\\Temp\\ipykernel_11560\\1329857265.py:25: FutureWarning: The frame.append method is deprecated and will be removed from pandas in a future version. Use pandas.concat instead.\n",
      "  metrics = metrics.append({'model':'DTE','group':'erstsprache','subgroup':'migration','Length':len(df),'Sentence': i, 'Accuracy':a,'Precision': p, 'Recall':r, 'AUC':roc_auc, 'FPR':fpr}, ignore_index=True)\n",
      "C:\\Users\\Nathalie\\AppData\\Local\\Temp\\ipykernel_11560\\1329857265.py:25: FutureWarning: The frame.append method is deprecated and will be removed from pandas in a future version. Use pandas.concat instead.\n",
      "  metrics = metrics.append({'model':'DTE','group':'erstsprache','subgroup':'migration','Length':len(df),'Sentence': i, 'Accuracy':a,'Precision': p, 'Recall':r, 'AUC':roc_auc, 'FPR':fpr}, ignore_index=True)\n",
      "C:\\Users\\Nathalie\\AppData\\Local\\Temp\\ipykernel_11560\\1329857265.py:25: FutureWarning: The frame.append method is deprecated and will be removed from pandas in a future version. Use pandas.concat instead.\n",
      "  metrics = metrics.append({'model':'DTE','group':'erstsprache','subgroup':'migration','Length':len(df),'Sentence': i, 'Accuracy':a,'Precision': p, 'Recall':r, 'AUC':roc_auc, 'FPR':fpr}, ignore_index=True)\n",
      "C:\\Users\\Nathalie\\AppData\\Local\\Temp\\ipykernel_11560\\1329857265.py:25: FutureWarning: The frame.append method is deprecated and will be removed from pandas in a future version. Use pandas.concat instead.\n",
      "  metrics = metrics.append({'model':'DTE','group':'erstsprache','subgroup':'migration','Length':len(df),'Sentence': i, 'Accuracy':a,'Precision': p, 'Recall':r, 'AUC':roc_auc, 'FPR':fpr}, ignore_index=True)\n",
      "C:\\Users\\Nathalie\\AppData\\Local\\Temp\\ipykernel_11560\\1329857265.py:25: FutureWarning: The frame.append method is deprecated and will be removed from pandas in a future version. Use pandas.concat instead.\n",
      "  metrics = metrics.append({'model':'DTE','group':'erstsprache','subgroup':'migration','Length':len(df),'Sentence': i, 'Accuracy':a,'Precision': p, 'Recall':r, 'AUC':roc_auc, 'FPR':fpr}, ignore_index=True)\n",
      "C:\\Users\\Nathalie\\AppData\\Local\\Temp\\ipykernel_11560\\1329857265.py:25: FutureWarning: The frame.append method is deprecated and will be removed from pandas in a future version. Use pandas.concat instead.\n",
      "  metrics = metrics.append({'model':'DTE','group':'erstsprache','subgroup':'migration','Length':len(df),'Sentence': i, 'Accuracy':a,'Precision': p, 'Recall':r, 'AUC':roc_auc, 'FPR':fpr}, ignore_index=True)\n",
      "C:\\Users\\Nathalie\\AppData\\Local\\Temp\\ipykernel_11560\\1329857265.py:25: FutureWarning: The frame.append method is deprecated and will be removed from pandas in a future version. Use pandas.concat instead.\n",
      "  metrics = metrics.append({'model':'DTE','group':'erstsprache','subgroup':'migration','Length':len(df),'Sentence': i, 'Accuracy':a,'Precision': p, 'Recall':r, 'AUC':roc_auc, 'FPR':fpr}, ignore_index=True)\n",
      "C:\\Users\\Nathalie\\AppData\\Local\\Temp\\ipykernel_11560\\1329857265.py:25: FutureWarning: The frame.append method is deprecated and will be removed from pandas in a future version. Use pandas.concat instead.\n",
      "  metrics = metrics.append({'model':'DTE','group':'erstsprache','subgroup':'migration','Length':len(df),'Sentence': i, 'Accuracy':a,'Precision': p, 'Recall':r, 'AUC':roc_auc, 'FPR':fpr}, ignore_index=True)\n",
      "C:\\Users\\Nathalie\\AppData\\Local\\Temp\\ipykernel_11560\\1329857265.py:25: FutureWarning: The frame.append method is deprecated and will be removed from pandas in a future version. Use pandas.concat instead.\n",
      "  metrics = metrics.append({'model':'DTE','group':'erstsprache','subgroup':'migration','Length':len(df),'Sentence': i, 'Accuracy':a,'Precision': p, 'Recall':r, 'AUC':roc_auc, 'FPR':fpr}, ignore_index=True)\n",
      "C:\\Users\\Nathalie\\AppData\\Local\\Temp\\ipykernel_11560\\1329857265.py:25: FutureWarning: The frame.append method is deprecated and will be removed from pandas in a future version. Use pandas.concat instead.\n",
      "  metrics = metrics.append({'model':'DTE','group':'erstsprache','subgroup':'migration','Length':len(df),'Sentence': i, 'Accuracy':a,'Precision': p, 'Recall':r, 'AUC':roc_auc, 'FPR':fpr}, ignore_index=True)\n",
      "C:\\Users\\Nathalie\\AppData\\Local\\Temp\\ipykernel_11560\\1329857265.py:25: FutureWarning: The frame.append method is deprecated and will be removed from pandas in a future version. Use pandas.concat instead.\n",
      "  metrics = metrics.append({'model':'DTE','group':'erstsprache','subgroup':'migration','Length':len(df),'Sentence': i, 'Accuracy':a,'Precision': p, 'Recall':r, 'AUC':roc_auc, 'FPR':fpr}, ignore_index=True)\n",
      "C:\\Users\\Nathalie\\AppData\\Local\\Temp\\ipykernel_11560\\1329857265.py:25: FutureWarning: The frame.append method is deprecated and will be removed from pandas in a future version. Use pandas.concat instead.\n",
      "  metrics = metrics.append({'model':'DTE','group':'erstsprache','subgroup':'migration','Length':len(df),'Sentence': i, 'Accuracy':a,'Precision': p, 'Recall':r, 'AUC':roc_auc, 'FPR':fpr}, ignore_index=True)\n",
      "C:\\Users\\Nathalie\\AppData\\Local\\Temp\\ipykernel_11560\\1329857265.py:25: FutureWarning: The frame.append method is deprecated and will be removed from pandas in a future version. Use pandas.concat instead.\n",
      "  metrics = metrics.append({'model':'DTE','group':'erstsprache','subgroup':'migration','Length':len(df),'Sentence': i, 'Accuracy':a,'Precision': p, 'Recall':r, 'AUC':roc_auc, 'FPR':fpr}, ignore_index=True)\n",
      "C:\\Users\\Nathalie\\AppData\\Local\\Temp\\ipykernel_11560\\1329857265.py:25: FutureWarning: The frame.append method is deprecated and will be removed from pandas in a future version. Use pandas.concat instead.\n",
      "  metrics = metrics.append({'model':'DTE','group':'erstsprache','subgroup':'migration','Length':len(df),'Sentence': i, 'Accuracy':a,'Precision': p, 'Recall':r, 'AUC':roc_auc, 'FPR':fpr}, ignore_index=True)\n",
      "C:\\Users\\Nathalie\\AppData\\Local\\Temp\\ipykernel_11560\\1329857265.py:25: FutureWarning: The frame.append method is deprecated and will be removed from pandas in a future version. Use pandas.concat instead.\n",
      "  metrics = metrics.append({'model':'DTE','group':'erstsprache','subgroup':'migration','Length':len(df),'Sentence': i, 'Accuracy':a,'Precision': p, 'Recall':r, 'AUC':roc_auc, 'FPR':fpr}, ignore_index=True)\n",
      "C:\\Users\\Nathalie\\AppData\\Local\\Temp\\ipykernel_11560\\1329857265.py:25: FutureWarning: The frame.append method is deprecated and will be removed from pandas in a future version. Use pandas.concat instead.\n",
      "  metrics = metrics.append({'model':'DTE','group':'erstsprache','subgroup':'migration','Length':len(df),'Sentence': i, 'Accuracy':a,'Precision': p, 'Recall':r, 'AUC':roc_auc, 'FPR':fpr}, ignore_index=True)\n",
      "C:\\Users\\Nathalie\\AppData\\Local\\Temp\\ipykernel_11560\\1329857265.py:25: FutureWarning: The frame.append method is deprecated and will be removed from pandas in a future version. Use pandas.concat instead.\n",
      "  metrics = metrics.append({'model':'DTE','group':'erstsprache','subgroup':'migration','Length':len(df),'Sentence': i, 'Accuracy':a,'Precision': p, 'Recall':r, 'AUC':roc_auc, 'FPR':fpr}, ignore_index=True)\n",
      "C:\\Users\\Nathalie\\AppData\\Local\\Temp\\ipykernel_11560\\1329857265.py:25: FutureWarning: The frame.append method is deprecated and will be removed from pandas in a future version. Use pandas.concat instead.\n",
      "  metrics = metrics.append({'model':'DTE','group':'erstsprache','subgroup':'migration','Length':len(df),'Sentence': i, 'Accuracy':a,'Precision': p, 'Recall':r, 'AUC':roc_auc, 'FPR':fpr}, ignore_index=True)\n"
     ]
    }
   ],
   "source": [
    "n = [2,3,4,5,6,7,8,9,10,11,12,13,14,15,16,17,18,19,20,21,22,23,24,25,26,27,28,29,30,31,32,33,34,35,36,37,38,39,40,41,42,43,44,45,46,47,48,49,50,51,52,53,54,55,56,57,58,59,60]\n",
    "feature_cols = ['Erstloesung','Schussel','Erfolg', 'Schwierigkeit', 'ist_Schulzeit', 'MehrfachFalsch', 'vorher_abgebrochen','Fehler', 'Klassenstufe', 'Jahredabei','Testposition__pruefung', 'Testposition__training','Testposition__version', 'Art__GK', 'Art__GR', 'Art__GZ', 'Art__K', 'Art__LB','UserAttribut', 'OrderNumber', 'steps']\n",
    "\n",
    "for i in n:\n",
    "    #build models\n",
    "    path='erstsprache/matrix_migration'+str(i)+'.pkl'\n",
    "    infile = open(path,'rb')\n",
    "    df = pickle.load(infile)\n",
    "    infile.close()\n",
    "    df=df.reset_index()\n",
    "    X = df[feature_cols]\n",
    "    y = df.y\n",
    "    y= y.astype('int')\n",
    "    X_train, X_test, y_train, y_test = train_test_split(X, y, test_size=0.3, random_state=1)\n",
    "    k = 5\n",
    "    cv = KFold(n_splits=k, random_state=None)\n",
    "\n",
    "    #DTE\n",
    "    clf = DecisionTreeClassifier(criterion=\"entropy\", max_depth=5)\n",
    "    clf = clf.fit(X_train,y_train)\n",
    "    pred = clf.predict(X_test)\n",
    "\n",
    "    a,p,r,roc_auc,fpr = get_metrics(clf,X_test,y_test,cv,pred)\n",
    "\n",
    "    metrics = metrics.append({'model':'DTE','group':'erstsprache','subgroup':'migration','Length':len(df),'Sentence': i, 'Accuracy':a,'Precision': p, 'Recall':r, 'AUC':roc_auc, 'FPR':fpr}, ignore_index=True)"
   ]
  },
  {
   "cell_type": "code",
   "execution_count": 12,
   "metadata": {},
   "outputs": [
    {
     "name": "stderr",
     "output_type": "stream",
     "text": [
      "C:\\Users\\Nathalie\\AppData\\Local\\Temp\\ipykernel_11560\\475226841.py:24: FutureWarning: The frame.append method is deprecated and will be removed from pandas in a future version. Use pandas.concat instead.\n",
      "  metrics = metrics.append({'model':'KNN','group':'erstsprache','subgroup':'migration','Length':len(df),'Sentence': i, 'Accuracy':a,'Precision': p, 'Recall':r, 'AUC':roc_auc, 'FPR':fpr}, ignore_index=True)\n",
      "C:\\Users\\Nathalie\\AppData\\Local\\Temp\\ipykernel_11560\\475226841.py:24: FutureWarning: The frame.append method is deprecated and will be removed from pandas in a future version. Use pandas.concat instead.\n",
      "  metrics = metrics.append({'model':'KNN','group':'erstsprache','subgroup':'migration','Length':len(df),'Sentence': i, 'Accuracy':a,'Precision': p, 'Recall':r, 'AUC':roc_auc, 'FPR':fpr}, ignore_index=True)\n",
      "C:\\Users\\Nathalie\\AppData\\Local\\Temp\\ipykernel_11560\\475226841.py:24: FutureWarning: The frame.append method is deprecated and will be removed from pandas in a future version. Use pandas.concat instead.\n",
      "  metrics = metrics.append({'model':'KNN','group':'erstsprache','subgroup':'migration','Length':len(df),'Sentence': i, 'Accuracy':a,'Precision': p, 'Recall':r, 'AUC':roc_auc, 'FPR':fpr}, ignore_index=True)\n",
      "C:\\Users\\Nathalie\\AppData\\Local\\Temp\\ipykernel_11560\\475226841.py:24: FutureWarning: The frame.append method is deprecated and will be removed from pandas in a future version. Use pandas.concat instead.\n",
      "  metrics = metrics.append({'model':'KNN','group':'erstsprache','subgroup':'migration','Length':len(df),'Sentence': i, 'Accuracy':a,'Precision': p, 'Recall':r, 'AUC':roc_auc, 'FPR':fpr}, ignore_index=True)\n",
      "C:\\Users\\Nathalie\\AppData\\Local\\Temp\\ipykernel_11560\\475226841.py:24: FutureWarning: The frame.append method is deprecated and will be removed from pandas in a future version. Use pandas.concat instead.\n",
      "  metrics = metrics.append({'model':'KNN','group':'erstsprache','subgroup':'migration','Length':len(df),'Sentence': i, 'Accuracy':a,'Precision': p, 'Recall':r, 'AUC':roc_auc, 'FPR':fpr}, ignore_index=True)\n",
      "C:\\Users\\Nathalie\\AppData\\Local\\Temp\\ipykernel_11560\\475226841.py:24: FutureWarning: The frame.append method is deprecated and will be removed from pandas in a future version. Use pandas.concat instead.\n",
      "  metrics = metrics.append({'model':'KNN','group':'erstsprache','subgroup':'migration','Length':len(df),'Sentence': i, 'Accuracy':a,'Precision': p, 'Recall':r, 'AUC':roc_auc, 'FPR':fpr}, ignore_index=True)\n",
      "C:\\Users\\Nathalie\\AppData\\Local\\Temp\\ipykernel_11560\\475226841.py:24: FutureWarning: The frame.append method is deprecated and will be removed from pandas in a future version. Use pandas.concat instead.\n",
      "  metrics = metrics.append({'model':'KNN','group':'erstsprache','subgroup':'migration','Length':len(df),'Sentence': i, 'Accuracy':a,'Precision': p, 'Recall':r, 'AUC':roc_auc, 'FPR':fpr}, ignore_index=True)\n",
      "C:\\Users\\Nathalie\\AppData\\Local\\Temp\\ipykernel_11560\\475226841.py:24: FutureWarning: The frame.append method is deprecated and will be removed from pandas in a future version. Use pandas.concat instead.\n",
      "  metrics = metrics.append({'model':'KNN','group':'erstsprache','subgroup':'migration','Length':len(df),'Sentence': i, 'Accuracy':a,'Precision': p, 'Recall':r, 'AUC':roc_auc, 'FPR':fpr}, ignore_index=True)\n",
      "C:\\Users\\Nathalie\\AppData\\Local\\Temp\\ipykernel_11560\\475226841.py:24: FutureWarning: The frame.append method is deprecated and will be removed from pandas in a future version. Use pandas.concat instead.\n",
      "  metrics = metrics.append({'model':'KNN','group':'erstsprache','subgroup':'migration','Length':len(df),'Sentence': i, 'Accuracy':a,'Precision': p, 'Recall':r, 'AUC':roc_auc, 'FPR':fpr}, ignore_index=True)\n",
      "C:\\Users\\Nathalie\\AppData\\Local\\Temp\\ipykernel_11560\\475226841.py:24: FutureWarning: The frame.append method is deprecated and will be removed from pandas in a future version. Use pandas.concat instead.\n",
      "  metrics = metrics.append({'model':'KNN','group':'erstsprache','subgroup':'migration','Length':len(df),'Sentence': i, 'Accuracy':a,'Precision': p, 'Recall':r, 'AUC':roc_auc, 'FPR':fpr}, ignore_index=True)\n",
      "C:\\Users\\Nathalie\\AppData\\Local\\Temp\\ipykernel_11560\\475226841.py:24: FutureWarning: The frame.append method is deprecated and will be removed from pandas in a future version. Use pandas.concat instead.\n",
      "  metrics = metrics.append({'model':'KNN','group':'erstsprache','subgroup':'migration','Length':len(df),'Sentence': i, 'Accuracy':a,'Precision': p, 'Recall':r, 'AUC':roc_auc, 'FPR':fpr}, ignore_index=True)\n",
      "C:\\Users\\Nathalie\\AppData\\Local\\Temp\\ipykernel_11560\\475226841.py:24: FutureWarning: The frame.append method is deprecated and will be removed from pandas in a future version. Use pandas.concat instead.\n",
      "  metrics = metrics.append({'model':'KNN','group':'erstsprache','subgroup':'migration','Length':len(df),'Sentence': i, 'Accuracy':a,'Precision': p, 'Recall':r, 'AUC':roc_auc, 'FPR':fpr}, ignore_index=True)\n",
      "C:\\Users\\Nathalie\\AppData\\Local\\Temp\\ipykernel_11560\\475226841.py:24: FutureWarning: The frame.append method is deprecated and will be removed from pandas in a future version. Use pandas.concat instead.\n",
      "  metrics = metrics.append({'model':'KNN','group':'erstsprache','subgroup':'migration','Length':len(df),'Sentence': i, 'Accuracy':a,'Precision': p, 'Recall':r, 'AUC':roc_auc, 'FPR':fpr}, ignore_index=True)\n",
      "C:\\Users\\Nathalie\\AppData\\Local\\Temp\\ipykernel_11560\\475226841.py:24: FutureWarning: The frame.append method is deprecated and will be removed from pandas in a future version. Use pandas.concat instead.\n",
      "  metrics = metrics.append({'model':'KNN','group':'erstsprache','subgroup':'migration','Length':len(df),'Sentence': i, 'Accuracy':a,'Precision': p, 'Recall':r, 'AUC':roc_auc, 'FPR':fpr}, ignore_index=True)\n",
      "C:\\Users\\Nathalie\\AppData\\Local\\Temp\\ipykernel_11560\\475226841.py:24: FutureWarning: The frame.append method is deprecated and will be removed from pandas in a future version. Use pandas.concat instead.\n",
      "  metrics = metrics.append({'model':'KNN','group':'erstsprache','subgroup':'migration','Length':len(df),'Sentence': i, 'Accuracy':a,'Precision': p, 'Recall':r, 'AUC':roc_auc, 'FPR':fpr}, ignore_index=True)\n",
      "C:\\Users\\Nathalie\\AppData\\Local\\Temp\\ipykernel_11560\\475226841.py:24: FutureWarning: The frame.append method is deprecated and will be removed from pandas in a future version. Use pandas.concat instead.\n",
      "  metrics = metrics.append({'model':'KNN','group':'erstsprache','subgroup':'migration','Length':len(df),'Sentence': i, 'Accuracy':a,'Precision': p, 'Recall':r, 'AUC':roc_auc, 'FPR':fpr}, ignore_index=True)\n",
      "C:\\Users\\Nathalie\\AppData\\Local\\Temp\\ipykernel_11560\\475226841.py:24: FutureWarning: The frame.append method is deprecated and will be removed from pandas in a future version. Use pandas.concat instead.\n",
      "  metrics = metrics.append({'model':'KNN','group':'erstsprache','subgroup':'migration','Length':len(df),'Sentence': i, 'Accuracy':a,'Precision': p, 'Recall':r, 'AUC':roc_auc, 'FPR':fpr}, ignore_index=True)\n",
      "C:\\Users\\Nathalie\\AppData\\Local\\Temp\\ipykernel_11560\\475226841.py:24: FutureWarning: The frame.append method is deprecated and will be removed from pandas in a future version. Use pandas.concat instead.\n",
      "  metrics = metrics.append({'model':'KNN','group':'erstsprache','subgroup':'migration','Length':len(df),'Sentence': i, 'Accuracy':a,'Precision': p, 'Recall':r, 'AUC':roc_auc, 'FPR':fpr}, ignore_index=True)\n",
      "C:\\Users\\Nathalie\\AppData\\Local\\Temp\\ipykernel_11560\\475226841.py:24: FutureWarning: The frame.append method is deprecated and will be removed from pandas in a future version. Use pandas.concat instead.\n",
      "  metrics = metrics.append({'model':'KNN','group':'erstsprache','subgroup':'migration','Length':len(df),'Sentence': i, 'Accuracy':a,'Precision': p, 'Recall':r, 'AUC':roc_auc, 'FPR':fpr}, ignore_index=True)\n",
      "C:\\Users\\Nathalie\\AppData\\Local\\Temp\\ipykernel_11560\\475226841.py:24: FutureWarning: The frame.append method is deprecated and will be removed from pandas in a future version. Use pandas.concat instead.\n",
      "  metrics = metrics.append({'model':'KNN','group':'erstsprache','subgroup':'migration','Length':len(df),'Sentence': i, 'Accuracy':a,'Precision': p, 'Recall':r, 'AUC':roc_auc, 'FPR':fpr}, ignore_index=True)\n",
      "C:\\Users\\Nathalie\\AppData\\Local\\Temp\\ipykernel_11560\\475226841.py:24: FutureWarning: The frame.append method is deprecated and will be removed from pandas in a future version. Use pandas.concat instead.\n",
      "  metrics = metrics.append({'model':'KNN','group':'erstsprache','subgroup':'migration','Length':len(df),'Sentence': i, 'Accuracy':a,'Precision': p, 'Recall':r, 'AUC':roc_auc, 'FPR':fpr}, ignore_index=True)\n",
      "C:\\Users\\Nathalie\\AppData\\Local\\Temp\\ipykernel_11560\\475226841.py:24: FutureWarning: The frame.append method is deprecated and will be removed from pandas in a future version. Use pandas.concat instead.\n",
      "  metrics = metrics.append({'model':'KNN','group':'erstsprache','subgroup':'migration','Length':len(df),'Sentence': i, 'Accuracy':a,'Precision': p, 'Recall':r, 'AUC':roc_auc, 'FPR':fpr}, ignore_index=True)\n",
      "C:\\Users\\Nathalie\\AppData\\Local\\Temp\\ipykernel_11560\\475226841.py:24: FutureWarning: The frame.append method is deprecated and will be removed from pandas in a future version. Use pandas.concat instead.\n",
      "  metrics = metrics.append({'model':'KNN','group':'erstsprache','subgroup':'migration','Length':len(df),'Sentence': i, 'Accuracy':a,'Precision': p, 'Recall':r, 'AUC':roc_auc, 'FPR':fpr}, ignore_index=True)\n",
      "C:\\Users\\Nathalie\\AppData\\Local\\Temp\\ipykernel_11560\\475226841.py:24: FutureWarning: The frame.append method is deprecated and will be removed from pandas in a future version. Use pandas.concat instead.\n",
      "  metrics = metrics.append({'model':'KNN','group':'erstsprache','subgroup':'migration','Length':len(df),'Sentence': i, 'Accuracy':a,'Precision': p, 'Recall':r, 'AUC':roc_auc, 'FPR':fpr}, ignore_index=True)\n",
      "C:\\Users\\Nathalie\\AppData\\Local\\Temp\\ipykernel_11560\\475226841.py:24: FutureWarning: The frame.append method is deprecated and will be removed from pandas in a future version. Use pandas.concat instead.\n",
      "  metrics = metrics.append({'model':'KNN','group':'erstsprache','subgroup':'migration','Length':len(df),'Sentence': i, 'Accuracy':a,'Precision': p, 'Recall':r, 'AUC':roc_auc, 'FPR':fpr}, ignore_index=True)\n",
      "C:\\Users\\Nathalie\\AppData\\Local\\Temp\\ipykernel_11560\\475226841.py:24: FutureWarning: The frame.append method is deprecated and will be removed from pandas in a future version. Use pandas.concat instead.\n",
      "  metrics = metrics.append({'model':'KNN','group':'erstsprache','subgroup':'migration','Length':len(df),'Sentence': i, 'Accuracy':a,'Precision': p, 'Recall':r, 'AUC':roc_auc, 'FPR':fpr}, ignore_index=True)\n",
      "C:\\Users\\Nathalie\\AppData\\Local\\Temp\\ipykernel_11560\\475226841.py:24: FutureWarning: The frame.append method is deprecated and will be removed from pandas in a future version. Use pandas.concat instead.\n",
      "  metrics = metrics.append({'model':'KNN','group':'erstsprache','subgroup':'migration','Length':len(df),'Sentence': i, 'Accuracy':a,'Precision': p, 'Recall':r, 'AUC':roc_auc, 'FPR':fpr}, ignore_index=True)\n",
      "C:\\Users\\Nathalie\\AppData\\Local\\Temp\\ipykernel_11560\\475226841.py:24: FutureWarning: The frame.append method is deprecated and will be removed from pandas in a future version. Use pandas.concat instead.\n",
      "  metrics = metrics.append({'model':'KNN','group':'erstsprache','subgroup':'migration','Length':len(df),'Sentence': i, 'Accuracy':a,'Precision': p, 'Recall':r, 'AUC':roc_auc, 'FPR':fpr}, ignore_index=True)\n",
      "C:\\Users\\Nathalie\\AppData\\Local\\Temp\\ipykernel_11560\\475226841.py:24: FutureWarning: The frame.append method is deprecated and will be removed from pandas in a future version. Use pandas.concat instead.\n",
      "  metrics = metrics.append({'model':'KNN','group':'erstsprache','subgroup':'migration','Length':len(df),'Sentence': i, 'Accuracy':a,'Precision': p, 'Recall':r, 'AUC':roc_auc, 'FPR':fpr}, ignore_index=True)\n",
      "C:\\Users\\Nathalie\\AppData\\Local\\Temp\\ipykernel_11560\\475226841.py:24: FutureWarning: The frame.append method is deprecated and will be removed from pandas in a future version. Use pandas.concat instead.\n",
      "  metrics = metrics.append({'model':'KNN','group':'erstsprache','subgroup':'migration','Length':len(df),'Sentence': i, 'Accuracy':a,'Precision': p, 'Recall':r, 'AUC':roc_auc, 'FPR':fpr}, ignore_index=True)\n",
      "C:\\Users\\Nathalie\\AppData\\Local\\Temp\\ipykernel_11560\\475226841.py:24: FutureWarning: The frame.append method is deprecated and will be removed from pandas in a future version. Use pandas.concat instead.\n",
      "  metrics = metrics.append({'model':'KNN','group':'erstsprache','subgroup':'migration','Length':len(df),'Sentence': i, 'Accuracy':a,'Precision': p, 'Recall':r, 'AUC':roc_auc, 'FPR':fpr}, ignore_index=True)\n",
      "C:\\Users\\Nathalie\\AppData\\Local\\Temp\\ipykernel_11560\\475226841.py:24: FutureWarning: The frame.append method is deprecated and will be removed from pandas in a future version. Use pandas.concat instead.\n",
      "  metrics = metrics.append({'model':'KNN','group':'erstsprache','subgroup':'migration','Length':len(df),'Sentence': i, 'Accuracy':a,'Precision': p, 'Recall':r, 'AUC':roc_auc, 'FPR':fpr}, ignore_index=True)\n",
      "C:\\Users\\Nathalie\\AppData\\Local\\Temp\\ipykernel_11560\\475226841.py:24: FutureWarning: The frame.append method is deprecated and will be removed from pandas in a future version. Use pandas.concat instead.\n",
      "  metrics = metrics.append({'model':'KNN','group':'erstsprache','subgroup':'migration','Length':len(df),'Sentence': i, 'Accuracy':a,'Precision': p, 'Recall':r, 'AUC':roc_auc, 'FPR':fpr}, ignore_index=True)\n",
      "C:\\Users\\Nathalie\\AppData\\Local\\Temp\\ipykernel_11560\\475226841.py:24: FutureWarning: The frame.append method is deprecated and will be removed from pandas in a future version. Use pandas.concat instead.\n",
      "  metrics = metrics.append({'model':'KNN','group':'erstsprache','subgroup':'migration','Length':len(df),'Sentence': i, 'Accuracy':a,'Precision': p, 'Recall':r, 'AUC':roc_auc, 'FPR':fpr}, ignore_index=True)\n",
      "C:\\Users\\Nathalie\\AppData\\Local\\Temp\\ipykernel_11560\\475226841.py:24: FutureWarning: The frame.append method is deprecated and will be removed from pandas in a future version. Use pandas.concat instead.\n",
      "  metrics = metrics.append({'model':'KNN','group':'erstsprache','subgroup':'migration','Length':len(df),'Sentence': i, 'Accuracy':a,'Precision': p, 'Recall':r, 'AUC':roc_auc, 'FPR':fpr}, ignore_index=True)\n",
      "C:\\Users\\Nathalie\\AppData\\Local\\Temp\\ipykernel_11560\\475226841.py:24: FutureWarning: The frame.append method is deprecated and will be removed from pandas in a future version. Use pandas.concat instead.\n",
      "  metrics = metrics.append({'model':'KNN','group':'erstsprache','subgroup':'migration','Length':len(df),'Sentence': i, 'Accuracy':a,'Precision': p, 'Recall':r, 'AUC':roc_auc, 'FPR':fpr}, ignore_index=True)\n",
      "C:\\Users\\Nathalie\\AppData\\Local\\Temp\\ipykernel_11560\\475226841.py:24: FutureWarning: The frame.append method is deprecated and will be removed from pandas in a future version. Use pandas.concat instead.\n",
      "  metrics = metrics.append({'model':'KNN','group':'erstsprache','subgroup':'migration','Length':len(df),'Sentence': i, 'Accuracy':a,'Precision': p, 'Recall':r, 'AUC':roc_auc, 'FPR':fpr}, ignore_index=True)\n",
      "C:\\Users\\Nathalie\\AppData\\Local\\Temp\\ipykernel_11560\\475226841.py:24: FutureWarning: The frame.append method is deprecated and will be removed from pandas in a future version. Use pandas.concat instead.\n",
      "  metrics = metrics.append({'model':'KNN','group':'erstsprache','subgroup':'migration','Length':len(df),'Sentence': i, 'Accuracy':a,'Precision': p, 'Recall':r, 'AUC':roc_auc, 'FPR':fpr}, ignore_index=True)\n",
      "C:\\Users\\Nathalie\\AppData\\Local\\Temp\\ipykernel_11560\\475226841.py:24: FutureWarning: The frame.append method is deprecated and will be removed from pandas in a future version. Use pandas.concat instead.\n",
      "  metrics = metrics.append({'model':'KNN','group':'erstsprache','subgroup':'migration','Length':len(df),'Sentence': i, 'Accuracy':a,'Precision': p, 'Recall':r, 'AUC':roc_auc, 'FPR':fpr}, ignore_index=True)\n",
      "C:\\Users\\Nathalie\\AppData\\Local\\Temp\\ipykernel_11560\\475226841.py:24: FutureWarning: The frame.append method is deprecated and will be removed from pandas in a future version. Use pandas.concat instead.\n",
      "  metrics = metrics.append({'model':'KNN','group':'erstsprache','subgroup':'migration','Length':len(df),'Sentence': i, 'Accuracy':a,'Precision': p, 'Recall':r, 'AUC':roc_auc, 'FPR':fpr}, ignore_index=True)\n",
      "C:\\Users\\Nathalie\\AppData\\Local\\Temp\\ipykernel_11560\\475226841.py:24: FutureWarning: The frame.append method is deprecated and will be removed from pandas in a future version. Use pandas.concat instead.\n",
      "  metrics = metrics.append({'model':'KNN','group':'erstsprache','subgroup':'migration','Length':len(df),'Sentence': i, 'Accuracy':a,'Precision': p, 'Recall':r, 'AUC':roc_auc, 'FPR':fpr}, ignore_index=True)\n",
      "C:\\Users\\Nathalie\\AppData\\Local\\Temp\\ipykernel_11560\\475226841.py:24: FutureWarning: The frame.append method is deprecated and will be removed from pandas in a future version. Use pandas.concat instead.\n",
      "  metrics = metrics.append({'model':'KNN','group':'erstsprache','subgroup':'migration','Length':len(df),'Sentence': i, 'Accuracy':a,'Precision': p, 'Recall':r, 'AUC':roc_auc, 'FPR':fpr}, ignore_index=True)\n",
      "C:\\Users\\Nathalie\\AppData\\Local\\Temp\\ipykernel_11560\\475226841.py:24: FutureWarning: The frame.append method is deprecated and will be removed from pandas in a future version. Use pandas.concat instead.\n",
      "  metrics = metrics.append({'model':'KNN','group':'erstsprache','subgroup':'migration','Length':len(df),'Sentence': i, 'Accuracy':a,'Precision': p, 'Recall':r, 'AUC':roc_auc, 'FPR':fpr}, ignore_index=True)\n",
      "C:\\Users\\Nathalie\\AppData\\Local\\Temp\\ipykernel_11560\\475226841.py:24: FutureWarning: The frame.append method is deprecated and will be removed from pandas in a future version. Use pandas.concat instead.\n",
      "  metrics = metrics.append({'model':'KNN','group':'erstsprache','subgroup':'migration','Length':len(df),'Sentence': i, 'Accuracy':a,'Precision': p, 'Recall':r, 'AUC':roc_auc, 'FPR':fpr}, ignore_index=True)\n",
      "C:\\Users\\Nathalie\\AppData\\Local\\Temp\\ipykernel_11560\\475226841.py:24: FutureWarning: The frame.append method is deprecated and will be removed from pandas in a future version. Use pandas.concat instead.\n",
      "  metrics = metrics.append({'model':'KNN','group':'erstsprache','subgroup':'migration','Length':len(df),'Sentence': i, 'Accuracy':a,'Precision': p, 'Recall':r, 'AUC':roc_auc, 'FPR':fpr}, ignore_index=True)\n",
      "C:\\Users\\Nathalie\\AppData\\Local\\Temp\\ipykernel_11560\\475226841.py:24: FutureWarning: The frame.append method is deprecated and will be removed from pandas in a future version. Use pandas.concat instead.\n",
      "  metrics = metrics.append({'model':'KNN','group':'erstsprache','subgroup':'migration','Length':len(df),'Sentence': i, 'Accuracy':a,'Precision': p, 'Recall':r, 'AUC':roc_auc, 'FPR':fpr}, ignore_index=True)\n",
      "C:\\Users\\Nathalie\\AppData\\Local\\Temp\\ipykernel_11560\\475226841.py:24: FutureWarning: The frame.append method is deprecated and will be removed from pandas in a future version. Use pandas.concat instead.\n",
      "  metrics = metrics.append({'model':'KNN','group':'erstsprache','subgroup':'migration','Length':len(df),'Sentence': i, 'Accuracy':a,'Precision': p, 'Recall':r, 'AUC':roc_auc, 'FPR':fpr}, ignore_index=True)\n",
      "C:\\Users\\Nathalie\\AppData\\Local\\Temp\\ipykernel_11560\\475226841.py:24: FutureWarning: The frame.append method is deprecated and will be removed from pandas in a future version. Use pandas.concat instead.\n",
      "  metrics = metrics.append({'model':'KNN','group':'erstsprache','subgroup':'migration','Length':len(df),'Sentence': i, 'Accuracy':a,'Precision': p, 'Recall':r, 'AUC':roc_auc, 'FPR':fpr}, ignore_index=True)\n",
      "C:\\Users\\Nathalie\\AppData\\Local\\Temp\\ipykernel_11560\\475226841.py:24: FutureWarning: The frame.append method is deprecated and will be removed from pandas in a future version. Use pandas.concat instead.\n",
      "  metrics = metrics.append({'model':'KNN','group':'erstsprache','subgroup':'migration','Length':len(df),'Sentence': i, 'Accuracy':a,'Precision': p, 'Recall':r, 'AUC':roc_auc, 'FPR':fpr}, ignore_index=True)\n",
      "C:\\Users\\Nathalie\\AppData\\Local\\Temp\\ipykernel_11560\\475226841.py:24: FutureWarning: The frame.append method is deprecated and will be removed from pandas in a future version. Use pandas.concat instead.\n",
      "  metrics = metrics.append({'model':'KNN','group':'erstsprache','subgroup':'migration','Length':len(df),'Sentence': i, 'Accuracy':a,'Precision': p, 'Recall':r, 'AUC':roc_auc, 'FPR':fpr}, ignore_index=True)\n",
      "C:\\Users\\Nathalie\\AppData\\Local\\Temp\\ipykernel_11560\\475226841.py:24: FutureWarning: The frame.append method is deprecated and will be removed from pandas in a future version. Use pandas.concat instead.\n",
      "  metrics = metrics.append({'model':'KNN','group':'erstsprache','subgroup':'migration','Length':len(df),'Sentence': i, 'Accuracy':a,'Precision': p, 'Recall':r, 'AUC':roc_auc, 'FPR':fpr}, ignore_index=True)\n",
      "C:\\Users\\Nathalie\\AppData\\Local\\Temp\\ipykernel_11560\\475226841.py:24: FutureWarning: The frame.append method is deprecated and will be removed from pandas in a future version. Use pandas.concat instead.\n",
      "  metrics = metrics.append({'model':'KNN','group':'erstsprache','subgroup':'migration','Length':len(df),'Sentence': i, 'Accuracy':a,'Precision': p, 'Recall':r, 'AUC':roc_auc, 'FPR':fpr}, ignore_index=True)\n",
      "C:\\Users\\Nathalie\\AppData\\Local\\Temp\\ipykernel_11560\\475226841.py:24: FutureWarning: The frame.append method is deprecated and will be removed from pandas in a future version. Use pandas.concat instead.\n",
      "  metrics = metrics.append({'model':'KNN','group':'erstsprache','subgroup':'migration','Length':len(df),'Sentence': i, 'Accuracy':a,'Precision': p, 'Recall':r, 'AUC':roc_auc, 'FPR':fpr}, ignore_index=True)\n",
      "C:\\Users\\Nathalie\\AppData\\Local\\Temp\\ipykernel_11560\\475226841.py:24: FutureWarning: The frame.append method is deprecated and will be removed from pandas in a future version. Use pandas.concat instead.\n",
      "  metrics = metrics.append({'model':'KNN','group':'erstsprache','subgroup':'migration','Length':len(df),'Sentence': i, 'Accuracy':a,'Precision': p, 'Recall':r, 'AUC':roc_auc, 'FPR':fpr}, ignore_index=True)\n",
      "C:\\Users\\Nathalie\\AppData\\Local\\Temp\\ipykernel_11560\\475226841.py:24: FutureWarning: The frame.append method is deprecated and will be removed from pandas in a future version. Use pandas.concat instead.\n",
      "  metrics = metrics.append({'model':'KNN','group':'erstsprache','subgroup':'migration','Length':len(df),'Sentence': i, 'Accuracy':a,'Precision': p, 'Recall':r, 'AUC':roc_auc, 'FPR':fpr}, ignore_index=True)\n",
      "C:\\Users\\Nathalie\\AppData\\Local\\Temp\\ipykernel_11560\\475226841.py:24: FutureWarning: The frame.append method is deprecated and will be removed from pandas in a future version. Use pandas.concat instead.\n",
      "  metrics = metrics.append({'model':'KNN','group':'erstsprache','subgroup':'migration','Length':len(df),'Sentence': i, 'Accuracy':a,'Precision': p, 'Recall':r, 'AUC':roc_auc, 'FPR':fpr}, ignore_index=True)\n",
      "C:\\Users\\Nathalie\\AppData\\Local\\Temp\\ipykernel_11560\\475226841.py:24: FutureWarning: The frame.append method is deprecated and will be removed from pandas in a future version. Use pandas.concat instead.\n",
      "  metrics = metrics.append({'model':'KNN','group':'erstsprache','subgroup':'migration','Length':len(df),'Sentence': i, 'Accuracy':a,'Precision': p, 'Recall':r, 'AUC':roc_auc, 'FPR':fpr}, ignore_index=True)\n",
      "C:\\Users\\Nathalie\\AppData\\Local\\Temp\\ipykernel_11560\\475226841.py:24: FutureWarning: The frame.append method is deprecated and will be removed from pandas in a future version. Use pandas.concat instead.\n",
      "  metrics = metrics.append({'model':'KNN','group':'erstsprache','subgroup':'migration','Length':len(df),'Sentence': i, 'Accuracy':a,'Precision': p, 'Recall':r, 'AUC':roc_auc, 'FPR':fpr}, ignore_index=True)\n",
      "C:\\Users\\Nathalie\\AppData\\Local\\Temp\\ipykernel_11560\\475226841.py:24: FutureWarning: The frame.append method is deprecated and will be removed from pandas in a future version. Use pandas.concat instead.\n",
      "  metrics = metrics.append({'model':'KNN','group':'erstsprache','subgroup':'migration','Length':len(df),'Sentence': i, 'Accuracy':a,'Precision': p, 'Recall':r, 'AUC':roc_auc, 'FPR':fpr}, ignore_index=True)\n"
     ]
    }
   ],
   "source": [
    "n =  [2,3,4,5,6,7,8,9,10,11,12,13,14,15,16,17,18,19,20,21,22,23,24,25,26,27,28,29,30,31,32,33,34,35,36,37,38,39,40,41,42,43,44,45,46,47,48,49,50,51,52,53,54,55,56,57,58,59,60]\n",
    "feature_cols = ['Erstloesung','Schussel','Erfolg', 'Schwierigkeit', 'ist_Schulzeit', 'MehrfachFalsch', 'vorher_abgebrochen','Fehler', 'Klassenstufe', 'Jahredabei', 'Testposition__pruefung', 'Testposition__training','Testposition__version', 'Art__GK', 'Art__GR', 'Art__GZ', 'Art__K', 'Art__LB','UserAttribut', 'OrderNumber', 'steps']\n",
    "\n",
    "for i in n:\n",
    "    #build models\n",
    "    path='erstsprache/matrix_migration'+str(i)+'.pkl'\n",
    "    infile = open(path,'rb')\n",
    "    df = pickle.load(infile)\n",
    "    infile.close()\n",
    "    df=df.reset_index()\n",
    "    X = df[feature_cols]\n",
    "    y = df.y\n",
    "    y= y.astype('int')\n",
    "    X_train, X_test, y_train, y_test = train_test_split(X, y, test_size=0.3, random_state=1)\n",
    "    k = 5\n",
    "    cv = KFold(n_splits=k, random_state=None)\n",
    "\n",
    "    #knn\n",
    "    knn = KNeighborsClassifier(n_neighbors=2)\n",
    "    knn = knn.fit(X_train, y_train)\n",
    "\n",
    "    pred = knn.predict(X_test)\n",
    "    a,p,r,roc_auc,fpr = get_metrics(knn,X_test,y_test,cv,pred)\n",
    "    metrics = metrics.append({'model':'KNN','group':'erstsprache','subgroup':'migration','Length':len(df),'Sentence': i, 'Accuracy':a,'Precision': p, 'Recall':r, 'AUC':roc_auc, 'FPR':fpr}, ignore_index=True)"
   ]
  },
  {
   "cell_type": "code",
   "execution_count": 13,
   "metadata": {},
   "outputs": [
    {
     "name": "stdout",
     "output_type": "stream",
     "text": [
      "45/45 [==============================] - 0s 855us/step\n"
     ]
    },
    {
     "name": "stderr",
     "output_type": "stream",
     "text": [
      "C:\\Users\\Nathalie\\AppData\\Local\\Temp\\ipykernel_11560\\1612540374.py:69: FutureWarning: The frame.append method is deprecated and will be removed from pandas in a future version. Use pandas.concat instead.\n",
      "  metrics = metrics.append({'model':'DL','group':'erstsprache','subgroup':'migration','Length':len(df),'Sentence': i, 'Accuracy':a,'Precision': p, 'Recall':r, 'AUC':roc_auc, 'FPR':fpr}, ignore_index=True)\n"
     ]
    },
    {
     "name": "stdout",
     "output_type": "stream",
     "text": [
      "43/43 [==============================] - 0s 863us/step\n"
     ]
    },
    {
     "name": "stderr",
     "output_type": "stream",
     "text": [
      "C:\\Users\\Nathalie\\AppData\\Local\\Temp\\ipykernel_11560\\1612540374.py:69: FutureWarning: The frame.append method is deprecated and will be removed from pandas in a future version. Use pandas.concat instead.\n",
      "  metrics = metrics.append({'model':'DL','group':'erstsprache','subgroup':'migration','Length':len(df),'Sentence': i, 'Accuracy':a,'Precision': p, 'Recall':r, 'AUC':roc_auc, 'FPR':fpr}, ignore_index=True)\n"
     ]
    },
    {
     "name": "stdout",
     "output_type": "stream",
     "text": [
      "42/42 [==============================] - 0s 892us/step\n"
     ]
    },
    {
     "name": "stderr",
     "output_type": "stream",
     "text": [
      "C:\\Users\\Nathalie\\AppData\\Local\\Temp\\ipykernel_11560\\1612540374.py:69: FutureWarning: The frame.append method is deprecated and will be removed from pandas in a future version. Use pandas.concat instead.\n",
      "  metrics = metrics.append({'model':'DL','group':'erstsprache','subgroup':'migration','Length':len(df),'Sentence': i, 'Accuracy':a,'Precision': p, 'Recall':r, 'AUC':roc_auc, 'FPR':fpr}, ignore_index=True)\n"
     ]
    },
    {
     "name": "stdout",
     "output_type": "stream",
     "text": [
      "41/41 [==============================] - 0s 865us/step\n"
     ]
    },
    {
     "name": "stderr",
     "output_type": "stream",
     "text": [
      "C:\\Users\\Nathalie\\AppData\\Local\\Temp\\ipykernel_11560\\1612540374.py:69: FutureWarning: The frame.append method is deprecated and will be removed from pandas in a future version. Use pandas.concat instead.\n",
      "  metrics = metrics.append({'model':'DL','group':'erstsprache','subgroup':'migration','Length':len(df),'Sentence': i, 'Accuracy':a,'Precision': p, 'Recall':r, 'AUC':roc_auc, 'FPR':fpr}, ignore_index=True)\n"
     ]
    },
    {
     "name": "stdout",
     "output_type": "stream",
     "text": [
      "39/39 [==============================] - 0s 843us/step\n"
     ]
    },
    {
     "name": "stderr",
     "output_type": "stream",
     "text": [
      "C:\\Users\\Nathalie\\AppData\\Local\\Temp\\ipykernel_11560\\1612540374.py:69: FutureWarning: The frame.append method is deprecated and will be removed from pandas in a future version. Use pandas.concat instead.\n",
      "  metrics = metrics.append({'model':'DL','group':'erstsprache','subgroup':'migration','Length':len(df),'Sentence': i, 'Accuracy':a,'Precision': p, 'Recall':r, 'AUC':roc_auc, 'FPR':fpr}, ignore_index=True)\n"
     ]
    },
    {
     "name": "stdout",
     "output_type": "stream",
     "text": [
      "38/38 [==============================] - 0s 826us/step\n"
     ]
    },
    {
     "name": "stderr",
     "output_type": "stream",
     "text": [
      "C:\\Users\\Nathalie\\AppData\\Local\\Temp\\ipykernel_11560\\1612540374.py:69: FutureWarning: The frame.append method is deprecated and will be removed from pandas in a future version. Use pandas.concat instead.\n",
      "  metrics = metrics.append({'model':'DL','group':'erstsprache','subgroup':'migration','Length':len(df),'Sentence': i, 'Accuracy':a,'Precision': p, 'Recall':r, 'AUC':roc_auc, 'FPR':fpr}, ignore_index=True)\n"
     ]
    },
    {
     "name": "stdout",
     "output_type": "stream",
     "text": [
      "38/38 [==============================] - 0s 877us/step\n"
     ]
    },
    {
     "name": "stderr",
     "output_type": "stream",
     "text": [
      "C:\\Users\\Nathalie\\AppData\\Local\\Temp\\ipykernel_11560\\1612540374.py:69: FutureWarning: The frame.append method is deprecated and will be removed from pandas in a future version. Use pandas.concat instead.\n",
      "  metrics = metrics.append({'model':'DL','group':'erstsprache','subgroup':'migration','Length':len(df),'Sentence': i, 'Accuracy':a,'Precision': p, 'Recall':r, 'AUC':roc_auc, 'FPR':fpr}, ignore_index=True)\n"
     ]
    },
    {
     "name": "stdout",
     "output_type": "stream",
     "text": [
      "37/37 [==============================] - 0s 812us/step\n"
     ]
    },
    {
     "name": "stderr",
     "output_type": "stream",
     "text": [
      "C:\\Users\\Nathalie\\AppData\\Local\\Temp\\ipykernel_11560\\1612540374.py:69: FutureWarning: The frame.append method is deprecated and will be removed from pandas in a future version. Use pandas.concat instead.\n",
      "  metrics = metrics.append({'model':'DL','group':'erstsprache','subgroup':'migration','Length':len(df),'Sentence': i, 'Accuracy':a,'Precision': p, 'Recall':r, 'AUC':roc_auc, 'FPR':fpr}, ignore_index=True)\n"
     ]
    },
    {
     "name": "stdout",
     "output_type": "stream",
     "text": [
      "36/36 [==============================] - 0s 920us/step\n"
     ]
    },
    {
     "name": "stderr",
     "output_type": "stream",
     "text": [
      "C:\\Users\\Nathalie\\AppData\\Local\\Temp\\ipykernel_11560\\1612540374.py:69: FutureWarning: The frame.append method is deprecated and will be removed from pandas in a future version. Use pandas.concat instead.\n",
      "  metrics = metrics.append({'model':'DL','group':'erstsprache','subgroup':'migration','Length':len(df),'Sentence': i, 'Accuracy':a,'Precision': p, 'Recall':r, 'AUC':roc_auc, 'FPR':fpr}, ignore_index=True)\n"
     ]
    },
    {
     "name": "stdout",
     "output_type": "stream",
     "text": [
      "29/29 [==============================] - 0s 838us/step\n"
     ]
    },
    {
     "name": "stderr",
     "output_type": "stream",
     "text": [
      "C:\\Users\\Nathalie\\AppData\\Local\\Temp\\ipykernel_11560\\1612540374.py:69: FutureWarning: The frame.append method is deprecated and will be removed from pandas in a future version. Use pandas.concat instead.\n",
      "  metrics = metrics.append({'model':'DL','group':'erstsprache','subgroup':'migration','Length':len(df),'Sentence': i, 'Accuracy':a,'Precision': p, 'Recall':r, 'AUC':roc_auc, 'FPR':fpr}, ignore_index=True)\n"
     ]
    },
    {
     "name": "stdout",
     "output_type": "stream",
     "text": [
      "28/28 [==============================] - 0s 831us/step\n"
     ]
    },
    {
     "name": "stderr",
     "output_type": "stream",
     "text": [
      "C:\\Users\\Nathalie\\AppData\\Local\\Temp\\ipykernel_11560\\1612540374.py:69: FutureWarning: The frame.append method is deprecated and will be removed from pandas in a future version. Use pandas.concat instead.\n",
      "  metrics = metrics.append({'model':'DL','group':'erstsprache','subgroup':'migration','Length':len(df),'Sentence': i, 'Accuracy':a,'Precision': p, 'Recall':r, 'AUC':roc_auc, 'FPR':fpr}, ignore_index=True)\n"
     ]
    },
    {
     "name": "stdout",
     "output_type": "stream",
     "text": [
      "27/27 [==============================] - 0s 923us/step\n"
     ]
    },
    {
     "name": "stderr",
     "output_type": "stream",
     "text": [
      "C:\\Users\\Nathalie\\AppData\\Local\\Temp\\ipykernel_11560\\1612540374.py:69: FutureWarning: The frame.append method is deprecated and will be removed from pandas in a future version. Use pandas.concat instead.\n",
      "  metrics = metrics.append({'model':'DL','group':'erstsprache','subgroup':'migration','Length':len(df),'Sentence': i, 'Accuracy':a,'Precision': p, 'Recall':r, 'AUC':roc_auc, 'FPR':fpr}, ignore_index=True)\n"
     ]
    },
    {
     "name": "stdout",
     "output_type": "stream",
     "text": [
      "27/27 [==============================] - 0s 881us/step\n"
     ]
    },
    {
     "name": "stderr",
     "output_type": "stream",
     "text": [
      "C:\\Users\\Nathalie\\AppData\\Local\\Temp\\ipykernel_11560\\1612540374.py:69: FutureWarning: The frame.append method is deprecated and will be removed from pandas in a future version. Use pandas.concat instead.\n",
      "  metrics = metrics.append({'model':'DL','group':'erstsprache','subgroup':'migration','Length':len(df),'Sentence': i, 'Accuracy':a,'Precision': p, 'Recall':r, 'AUC':roc_auc, 'FPR':fpr}, ignore_index=True)\n"
     ]
    },
    {
     "name": "stdout",
     "output_type": "stream",
     "text": [
      "22/22 [==============================] - 0s 893us/step\n"
     ]
    },
    {
     "name": "stderr",
     "output_type": "stream",
     "text": [
      "C:\\Users\\Nathalie\\AppData\\Local\\Temp\\ipykernel_11560\\1612540374.py:69: FutureWarning: The frame.append method is deprecated and will be removed from pandas in a future version. Use pandas.concat instead.\n",
      "  metrics = metrics.append({'model':'DL','group':'erstsprache','subgroup':'migration','Length':len(df),'Sentence': i, 'Accuracy':a,'Precision': p, 'Recall':r, 'AUC':roc_auc, 'FPR':fpr}, ignore_index=True)\n"
     ]
    },
    {
     "name": "stdout",
     "output_type": "stream",
     "text": [
      "21/21 [==============================] - 0s 963us/step\n"
     ]
    },
    {
     "name": "stderr",
     "output_type": "stream",
     "text": [
      "C:\\Users\\Nathalie\\AppData\\Local\\Temp\\ipykernel_11560\\1612540374.py:69: FutureWarning: The frame.append method is deprecated and will be removed from pandas in a future version. Use pandas.concat instead.\n",
      "  metrics = metrics.append({'model':'DL','group':'erstsprache','subgroup':'migration','Length':len(df),'Sentence': i, 'Accuracy':a,'Precision': p, 'Recall':r, 'AUC':roc_auc, 'FPR':fpr}, ignore_index=True)\n"
     ]
    },
    {
     "name": "stdout",
     "output_type": "stream",
     "text": [
      "20/20 [==============================] - 0s 928us/step\n"
     ]
    },
    {
     "name": "stderr",
     "output_type": "stream",
     "text": [
      "C:\\Users\\Nathalie\\AppData\\Local\\Temp\\ipykernel_11560\\1612540374.py:69: FutureWarning: The frame.append method is deprecated and will be removed from pandas in a future version. Use pandas.concat instead.\n",
      "  metrics = metrics.append({'model':'DL','group':'erstsprache','subgroup':'migration','Length':len(df),'Sentence': i, 'Accuracy':a,'Precision': p, 'Recall':r, 'AUC':roc_auc, 'FPR':fpr}, ignore_index=True)\n"
     ]
    },
    {
     "name": "stdout",
     "output_type": "stream",
     "text": [
      "20/20 [==============================] - 0s 895us/step\n"
     ]
    },
    {
     "name": "stderr",
     "output_type": "stream",
     "text": [
      "C:\\Users\\Nathalie\\AppData\\Local\\Temp\\ipykernel_11560\\1612540374.py:69: FutureWarning: The frame.append method is deprecated and will be removed from pandas in a future version. Use pandas.concat instead.\n",
      "  metrics = metrics.append({'model':'DL','group':'erstsprache','subgroup':'migration','Length':len(df),'Sentence': i, 'Accuracy':a,'Precision': p, 'Recall':r, 'AUC':roc_auc, 'FPR':fpr}, ignore_index=True)\n"
     ]
    },
    {
     "name": "stdout",
     "output_type": "stream",
     "text": [
      "17/17 [==============================] - 0s 875us/step\n"
     ]
    },
    {
     "name": "stderr",
     "output_type": "stream",
     "text": [
      "C:\\Users\\Nathalie\\AppData\\Local\\Temp\\ipykernel_11560\\1612540374.py:69: FutureWarning: The frame.append method is deprecated and will be removed from pandas in a future version. Use pandas.concat instead.\n",
      "  metrics = metrics.append({'model':'DL','group':'erstsprache','subgroup':'migration','Length':len(df),'Sentence': i, 'Accuracy':a,'Precision': p, 'Recall':r, 'AUC':roc_auc, 'FPR':fpr}, ignore_index=True)\n"
     ]
    },
    {
     "name": "stdout",
     "output_type": "stream",
     "text": [
      "16/16 [==============================] - 0s 826us/step\n"
     ]
    },
    {
     "name": "stderr",
     "output_type": "stream",
     "text": [
      "c:\\Python310\\lib\\site-packages\\sklearn\\metrics\\_classification.py:1327: UndefinedMetricWarning: Precision is ill-defined and being set to 0.0 due to no predicted samples. Use `zero_division` parameter to control this behavior.\n",
      "  _warn_prf(average, modifier, msg_start, len(result))\n",
      "C:\\Users\\Nathalie\\AppData\\Local\\Temp\\ipykernel_11560\\1612540374.py:69: FutureWarning: The frame.append method is deprecated and will be removed from pandas in a future version. Use pandas.concat instead.\n",
      "  metrics = metrics.append({'model':'DL','group':'erstsprache','subgroup':'migration','Length':len(df),'Sentence': i, 'Accuracy':a,'Precision': p, 'Recall':r, 'AUC':roc_auc, 'FPR':fpr}, ignore_index=True)\n"
     ]
    },
    {
     "name": "stdout",
     "output_type": "stream",
     "text": [
      "15/15 [==============================] - 0s 825us/step\n"
     ]
    },
    {
     "name": "stderr",
     "output_type": "stream",
     "text": [
      "C:\\Users\\Nathalie\\AppData\\Local\\Temp\\ipykernel_11560\\1612540374.py:69: FutureWarning: The frame.append method is deprecated and will be removed from pandas in a future version. Use pandas.concat instead.\n",
      "  metrics = metrics.append({'model':'DL','group':'erstsprache','subgroup':'migration','Length':len(df),'Sentence': i, 'Accuracy':a,'Precision': p, 'Recall':r, 'AUC':roc_auc, 'FPR':fpr}, ignore_index=True)\n"
     ]
    },
    {
     "name": "stdout",
     "output_type": "stream",
     "text": [
      "15/15 [==============================] - 0s 857us/step\n"
     ]
    },
    {
     "name": "stderr",
     "output_type": "stream",
     "text": [
      "C:\\Users\\Nathalie\\AppData\\Local\\Temp\\ipykernel_11560\\1612540374.py:69: FutureWarning: The frame.append method is deprecated and will be removed from pandas in a future version. Use pandas.concat instead.\n",
      "  metrics = metrics.append({'model':'DL','group':'erstsprache','subgroup':'migration','Length':len(df),'Sentence': i, 'Accuracy':a,'Precision': p, 'Recall':r, 'AUC':roc_auc, 'FPR':fpr}, ignore_index=True)\n"
     ]
    },
    {
     "name": "stdout",
     "output_type": "stream",
     "text": [
      "13/13 [==============================] - 0s 933us/step\n"
     ]
    },
    {
     "name": "stderr",
     "output_type": "stream",
     "text": [
      "C:\\Users\\Nathalie\\AppData\\Local\\Temp\\ipykernel_11560\\1612540374.py:69: FutureWarning: The frame.append method is deprecated and will be removed from pandas in a future version. Use pandas.concat instead.\n",
      "  metrics = metrics.append({'model':'DL','group':'erstsprache','subgroup':'migration','Length':len(df),'Sentence': i, 'Accuracy':a,'Precision': p, 'Recall':r, 'AUC':roc_auc, 'FPR':fpr}, ignore_index=True)\n"
     ]
    },
    {
     "name": "stdout",
     "output_type": "stream",
     "text": [
      "12/12 [==============================] - 0s 909us/step\n"
     ]
    },
    {
     "name": "stderr",
     "output_type": "stream",
     "text": [
      "C:\\Users\\Nathalie\\AppData\\Local\\Temp\\ipykernel_11560\\1612540374.py:69: FutureWarning: The frame.append method is deprecated and will be removed from pandas in a future version. Use pandas.concat instead.\n",
      "  metrics = metrics.append({'model':'DL','group':'erstsprache','subgroup':'migration','Length':len(df),'Sentence': i, 'Accuracy':a,'Precision': p, 'Recall':r, 'AUC':roc_auc, 'FPR':fpr}, ignore_index=True)\n"
     ]
    },
    {
     "name": "stdout",
     "output_type": "stream",
     "text": [
      "11/11 [==============================] - 0s 900us/step\n"
     ]
    },
    {
     "name": "stderr",
     "output_type": "stream",
     "text": [
      "C:\\Users\\Nathalie\\AppData\\Local\\Temp\\ipykernel_11560\\1612540374.py:69: FutureWarning: The frame.append method is deprecated and will be removed from pandas in a future version. Use pandas.concat instead.\n",
      "  metrics = metrics.append({'model':'DL','group':'erstsprache','subgroup':'migration','Length':len(df),'Sentence': i, 'Accuracy':a,'Precision': p, 'Recall':r, 'AUC':roc_auc, 'FPR':fpr}, ignore_index=True)\n"
     ]
    },
    {
     "name": "stdout",
     "output_type": "stream",
     "text": [
      "11/11 [==============================] - 0s 941us/step\n"
     ]
    },
    {
     "name": "stderr",
     "output_type": "stream",
     "text": [
      "C:\\Users\\Nathalie\\AppData\\Local\\Temp\\ipykernel_11560\\1612540374.py:69: FutureWarning: The frame.append method is deprecated and will be removed from pandas in a future version. Use pandas.concat instead.\n",
      "  metrics = metrics.append({'model':'DL','group':'erstsprache','subgroup':'migration','Length':len(df),'Sentence': i, 'Accuracy':a,'Precision': p, 'Recall':r, 'AUC':roc_auc, 'FPR':fpr}, ignore_index=True)\n"
     ]
    },
    {
     "name": "stdout",
     "output_type": "stream",
     "text": [
      "9/9 [==============================] - 0s 1ms/step\n"
     ]
    },
    {
     "name": "stderr",
     "output_type": "stream",
     "text": [
      "C:\\Users\\Nathalie\\AppData\\Local\\Temp\\ipykernel_11560\\1612540374.py:69: FutureWarning: The frame.append method is deprecated and will be removed from pandas in a future version. Use pandas.concat instead.\n",
      "  metrics = metrics.append({'model':'DL','group':'erstsprache','subgroup':'migration','Length':len(df),'Sentence': i, 'Accuracy':a,'Precision': p, 'Recall':r, 'AUC':roc_auc, 'FPR':fpr}, ignore_index=True)\n"
     ]
    },
    {
     "name": "stdout",
     "output_type": "stream",
     "text": [
      "8/8 [==============================] - 0s 1ms/step\n"
     ]
    },
    {
     "name": "stderr",
     "output_type": "stream",
     "text": [
      "C:\\Users\\Nathalie\\AppData\\Local\\Temp\\ipykernel_11560\\1612540374.py:69: FutureWarning: The frame.append method is deprecated and will be removed from pandas in a future version. Use pandas.concat instead.\n",
      "  metrics = metrics.append({'model':'DL','group':'erstsprache','subgroup':'migration','Length':len(df),'Sentence': i, 'Accuracy':a,'Precision': p, 'Recall':r, 'AUC':roc_auc, 'FPR':fpr}, ignore_index=True)\n"
     ]
    },
    {
     "name": "stdout",
     "output_type": "stream",
     "text": [
      "8/8 [==============================] - 0s 1ms/step\n"
     ]
    },
    {
     "name": "stderr",
     "output_type": "stream",
     "text": [
      "C:\\Users\\Nathalie\\AppData\\Local\\Temp\\ipykernel_11560\\1612540374.py:69: FutureWarning: The frame.append method is deprecated and will be removed from pandas in a future version. Use pandas.concat instead.\n",
      "  metrics = metrics.append({'model':'DL','group':'erstsprache','subgroup':'migration','Length':len(df),'Sentence': i, 'Accuracy':a,'Precision': p, 'Recall':r, 'AUC':roc_auc, 'FPR':fpr}, ignore_index=True)\n"
     ]
    },
    {
     "name": "stdout",
     "output_type": "stream",
     "text": [
      "8/8 [==============================] - 0s 1ms/step\n"
     ]
    },
    {
     "name": "stderr",
     "output_type": "stream",
     "text": [
      "C:\\Users\\Nathalie\\AppData\\Local\\Temp\\ipykernel_11560\\1612540374.py:69: FutureWarning: The frame.append method is deprecated and will be removed from pandas in a future version. Use pandas.concat instead.\n",
      "  metrics = metrics.append({'model':'DL','group':'erstsprache','subgroup':'migration','Length':len(df),'Sentence': i, 'Accuracy':a,'Precision': p, 'Recall':r, 'AUC':roc_auc, 'FPR':fpr}, ignore_index=True)\n"
     ]
    },
    {
     "name": "stdout",
     "output_type": "stream",
     "text": [
      "7/7 [==============================] - 0s 833us/step\n"
     ]
    },
    {
     "name": "stderr",
     "output_type": "stream",
     "text": [
      "C:\\Users\\Nathalie\\AppData\\Local\\Temp\\ipykernel_11560\\1612540374.py:69: FutureWarning: The frame.append method is deprecated and will be removed from pandas in a future version. Use pandas.concat instead.\n",
      "  metrics = metrics.append({'model':'DL','group':'erstsprache','subgroup':'migration','Length':len(df),'Sentence': i, 'Accuracy':a,'Precision': p, 'Recall':r, 'AUC':roc_auc, 'FPR':fpr}, ignore_index=True)\n"
     ]
    },
    {
     "name": "stdout",
     "output_type": "stream",
     "text": [
      "6/6 [==============================] - 0s 919us/step\n"
     ]
    },
    {
     "name": "stderr",
     "output_type": "stream",
     "text": [
      "C:\\Users\\Nathalie\\AppData\\Local\\Temp\\ipykernel_11560\\1612540374.py:69: FutureWarning: The frame.append method is deprecated and will be removed from pandas in a future version. Use pandas.concat instead.\n",
      "  metrics = metrics.append({'model':'DL','group':'erstsprache','subgroup':'migration','Length':len(df),'Sentence': i, 'Accuracy':a,'Precision': p, 'Recall':r, 'AUC':roc_auc, 'FPR':fpr}, ignore_index=True)\n"
     ]
    },
    {
     "name": "stdout",
     "output_type": "stream",
     "text": [
      "6/6 [==============================] - 0s 975us/step\n"
     ]
    },
    {
     "name": "stderr",
     "output_type": "stream",
     "text": [
      "C:\\Users\\Nathalie\\AppData\\Local\\Temp\\ipykernel_11560\\1612540374.py:69: FutureWarning: The frame.append method is deprecated and will be removed from pandas in a future version. Use pandas.concat instead.\n",
      "  metrics = metrics.append({'model':'DL','group':'erstsprache','subgroup':'migration','Length':len(df),'Sentence': i, 'Accuracy':a,'Precision': p, 'Recall':r, 'AUC':roc_auc, 'FPR':fpr}, ignore_index=True)\n"
     ]
    },
    {
     "name": "stdout",
     "output_type": "stream",
     "text": [
      "6/6 [==============================] - 0s 1ms/step\n"
     ]
    },
    {
     "name": "stderr",
     "output_type": "stream",
     "text": [
      "C:\\Users\\Nathalie\\AppData\\Local\\Temp\\ipykernel_11560\\1612540374.py:69: FutureWarning: The frame.append method is deprecated and will be removed from pandas in a future version. Use pandas.concat instead.\n",
      "  metrics = metrics.append({'model':'DL','group':'erstsprache','subgroup':'migration','Length':len(df),'Sentence': i, 'Accuracy':a,'Precision': p, 'Recall':r, 'AUC':roc_auc, 'FPR':fpr}, ignore_index=True)\n"
     ]
    },
    {
     "name": "stdout",
     "output_type": "stream",
     "text": [
      "5/5 [==============================] - 0s 1ms/step\n"
     ]
    },
    {
     "name": "stderr",
     "output_type": "stream",
     "text": [
      "C:\\Users\\Nathalie\\AppData\\Local\\Temp\\ipykernel_11560\\1612540374.py:69: FutureWarning: The frame.append method is deprecated and will be removed from pandas in a future version. Use pandas.concat instead.\n",
      "  metrics = metrics.append({'model':'DL','group':'erstsprache','subgroup':'migration','Length':len(df),'Sentence': i, 'Accuracy':a,'Precision': p, 'Recall':r, 'AUC':roc_auc, 'FPR':fpr}, ignore_index=True)\n"
     ]
    },
    {
     "name": "stdout",
     "output_type": "stream",
     "text": [
      "5/5 [==============================] - 0s 1ms/step\n"
     ]
    },
    {
     "name": "stderr",
     "output_type": "stream",
     "text": [
      "C:\\Users\\Nathalie\\AppData\\Local\\Temp\\ipykernel_11560\\1612540374.py:69: FutureWarning: The frame.append method is deprecated and will be removed from pandas in a future version. Use pandas.concat instead.\n",
      "  metrics = metrics.append({'model':'DL','group':'erstsprache','subgroup':'migration','Length':len(df),'Sentence': i, 'Accuracy':a,'Precision': p, 'Recall':r, 'AUC':roc_auc, 'FPR':fpr}, ignore_index=True)\n"
     ]
    },
    {
     "name": "stdout",
     "output_type": "stream",
     "text": [
      "5/5 [==============================] - 0s 1ms/step\n"
     ]
    },
    {
     "name": "stderr",
     "output_type": "stream",
     "text": [
      "C:\\Users\\Nathalie\\AppData\\Local\\Temp\\ipykernel_11560\\1612540374.py:69: FutureWarning: The frame.append method is deprecated and will be removed from pandas in a future version. Use pandas.concat instead.\n",
      "  metrics = metrics.append({'model':'DL','group':'erstsprache','subgroup':'migration','Length':len(df),'Sentence': i, 'Accuracy':a,'Precision': p, 'Recall':r, 'AUC':roc_auc, 'FPR':fpr}, ignore_index=True)\n"
     ]
    },
    {
     "name": "stdout",
     "output_type": "stream",
     "text": [
      "4/4 [==============================] - 0s 1ms/step\n"
     ]
    },
    {
     "name": "stderr",
     "output_type": "stream",
     "text": [
      "C:\\Users\\Nathalie\\AppData\\Local\\Temp\\ipykernel_11560\\1612540374.py:69: FutureWarning: The frame.append method is deprecated and will be removed from pandas in a future version. Use pandas.concat instead.\n",
      "  metrics = metrics.append({'model':'DL','group':'erstsprache','subgroup':'migration','Length':len(df),'Sentence': i, 'Accuracy':a,'Precision': p, 'Recall':r, 'AUC':roc_auc, 'FPR':fpr}, ignore_index=True)\n"
     ]
    },
    {
     "name": "stdout",
     "output_type": "stream",
     "text": [
      "4/4 [==============================] - 0s 1ms/step\n"
     ]
    },
    {
     "name": "stderr",
     "output_type": "stream",
     "text": [
      "C:\\Users\\Nathalie\\AppData\\Local\\Temp\\ipykernel_11560\\1612540374.py:69: FutureWarning: The frame.append method is deprecated and will be removed from pandas in a future version. Use pandas.concat instead.\n",
      "  metrics = metrics.append({'model':'DL','group':'erstsprache','subgroup':'migration','Length':len(df),'Sentence': i, 'Accuracy':a,'Precision': p, 'Recall':r, 'AUC':roc_auc, 'FPR':fpr}, ignore_index=True)\n"
     ]
    },
    {
     "name": "stdout",
     "output_type": "stream",
     "text": [
      "4/4 [==============================] - 0s 2ms/step\n"
     ]
    },
    {
     "name": "stderr",
     "output_type": "stream",
     "text": [
      "C:\\Users\\Nathalie\\AppData\\Local\\Temp\\ipykernel_11560\\1612540374.py:69: FutureWarning: The frame.append method is deprecated and will be removed from pandas in a future version. Use pandas.concat instead.\n",
      "  metrics = metrics.append({'model':'DL','group':'erstsprache','subgroup':'migration','Length':len(df),'Sentence': i, 'Accuracy':a,'Precision': p, 'Recall':r, 'AUC':roc_auc, 'FPR':fpr}, ignore_index=True)\n"
     ]
    },
    {
     "name": "stdout",
     "output_type": "stream",
     "text": [
      "4/4 [==============================] - 0s 1ms/step\n"
     ]
    },
    {
     "name": "stderr",
     "output_type": "stream",
     "text": [
      "C:\\Users\\Nathalie\\AppData\\Local\\Temp\\ipykernel_11560\\1612540374.py:69: FutureWarning: The frame.append method is deprecated and will be removed from pandas in a future version. Use pandas.concat instead.\n",
      "  metrics = metrics.append({'model':'DL','group':'erstsprache','subgroup':'migration','Length':len(df),'Sentence': i, 'Accuracy':a,'Precision': p, 'Recall':r, 'AUC':roc_auc, 'FPR':fpr}, ignore_index=True)\n"
     ]
    },
    {
     "name": "stdout",
     "output_type": "stream",
     "text": [
      "3/3 [==============================] - 0s 998us/step\n"
     ]
    },
    {
     "name": "stderr",
     "output_type": "stream",
     "text": [
      "C:\\Users\\Nathalie\\AppData\\Local\\Temp\\ipykernel_11560\\1612540374.py:69: FutureWarning: The frame.append method is deprecated and will be removed from pandas in a future version. Use pandas.concat instead.\n",
      "  metrics = metrics.append({'model':'DL','group':'erstsprache','subgroup':'migration','Length':len(df),'Sentence': i, 'Accuracy':a,'Precision': p, 'Recall':r, 'AUC':roc_auc, 'FPR':fpr}, ignore_index=True)\n"
     ]
    },
    {
     "name": "stdout",
     "output_type": "stream",
     "text": [
      "3/3 [==============================] - 0s 2ms/step\n"
     ]
    },
    {
     "name": "stderr",
     "output_type": "stream",
     "text": [
      "C:\\Users\\Nathalie\\AppData\\Local\\Temp\\ipykernel_11560\\1612540374.py:69: FutureWarning: The frame.append method is deprecated and will be removed from pandas in a future version. Use pandas.concat instead.\n",
      "  metrics = metrics.append({'model':'DL','group':'erstsprache','subgroup':'migration','Length':len(df),'Sentence': i, 'Accuracy':a,'Precision': p, 'Recall':r, 'AUC':roc_auc, 'FPR':fpr}, ignore_index=True)\n"
     ]
    },
    {
     "name": "stdout",
     "output_type": "stream",
     "text": [
      "3/3 [==============================] - 0s 1ms/step\n"
     ]
    },
    {
     "name": "stderr",
     "output_type": "stream",
     "text": [
      "C:\\Users\\Nathalie\\AppData\\Local\\Temp\\ipykernel_11560\\1612540374.py:69: FutureWarning: The frame.append method is deprecated and will be removed from pandas in a future version. Use pandas.concat instead.\n",
      "  metrics = metrics.append({'model':'DL','group':'erstsprache','subgroup':'migration','Length':len(df),'Sentence': i, 'Accuracy':a,'Precision': p, 'Recall':r, 'AUC':roc_auc, 'FPR':fpr}, ignore_index=True)\n"
     ]
    },
    {
     "name": "stdout",
     "output_type": "stream",
     "text": [
      "3/3 [==============================] - 0s 2ms/step\n"
     ]
    },
    {
     "name": "stderr",
     "output_type": "stream",
     "text": [
      "C:\\Users\\Nathalie\\AppData\\Local\\Temp\\ipykernel_11560\\1612540374.py:69: FutureWarning: The frame.append method is deprecated and will be removed from pandas in a future version. Use pandas.concat instead.\n",
      "  metrics = metrics.append({'model':'DL','group':'erstsprache','subgroup':'migration','Length':len(df),'Sentence': i, 'Accuracy':a,'Precision': p, 'Recall':r, 'AUC':roc_auc, 'FPR':fpr}, ignore_index=True)\n"
     ]
    },
    {
     "name": "stdout",
     "output_type": "stream",
     "text": [
      "3/3 [==============================] - 0s 1ms/step\n"
     ]
    },
    {
     "name": "stderr",
     "output_type": "stream",
     "text": [
      "C:\\Users\\Nathalie\\AppData\\Local\\Temp\\ipykernel_11560\\1612540374.py:69: FutureWarning: The frame.append method is deprecated and will be removed from pandas in a future version. Use pandas.concat instead.\n",
      "  metrics = metrics.append({'model':'DL','group':'erstsprache','subgroup':'migration','Length':len(df),'Sentence': i, 'Accuracy':a,'Precision': p, 'Recall':r, 'AUC':roc_auc, 'FPR':fpr}, ignore_index=True)\n"
     ]
    },
    {
     "name": "stdout",
     "output_type": "stream",
     "text": [
      "2/2 [==============================] - 0s 1ms/step\n"
     ]
    },
    {
     "name": "stderr",
     "output_type": "stream",
     "text": [
      "C:\\Users\\Nathalie\\AppData\\Local\\Temp\\ipykernel_11560\\1612540374.py:69: FutureWarning: The frame.append method is deprecated and will be removed from pandas in a future version. Use pandas.concat instead.\n",
      "  metrics = metrics.append({'model':'DL','group':'erstsprache','subgroup':'migration','Length':len(df),'Sentence': i, 'Accuracy':a,'Precision': p, 'Recall':r, 'AUC':roc_auc, 'FPR':fpr}, ignore_index=True)\n"
     ]
    },
    {
     "name": "stdout",
     "output_type": "stream",
     "text": [
      "2/2 [==============================] - 0s 2ms/step\n"
     ]
    },
    {
     "name": "stderr",
     "output_type": "stream",
     "text": [
      "C:\\Users\\Nathalie\\AppData\\Local\\Temp\\ipykernel_11560\\1612540374.py:69: FutureWarning: The frame.append method is deprecated and will be removed from pandas in a future version. Use pandas.concat instead.\n",
      "  metrics = metrics.append({'model':'DL','group':'erstsprache','subgroup':'migration','Length':len(df),'Sentence': i, 'Accuracy':a,'Precision': p, 'Recall':r, 'AUC':roc_auc, 'FPR':fpr}, ignore_index=True)\n"
     ]
    },
    {
     "name": "stdout",
     "output_type": "stream",
     "text": [
      "2/2 [==============================] - 0s 2ms/step\n"
     ]
    },
    {
     "name": "stderr",
     "output_type": "stream",
     "text": [
      "C:\\Users\\Nathalie\\AppData\\Local\\Temp\\ipykernel_11560\\1612540374.py:69: FutureWarning: The frame.append method is deprecated and will be removed from pandas in a future version. Use pandas.concat instead.\n",
      "  metrics = metrics.append({'model':'DL','group':'erstsprache','subgroup':'migration','Length':len(df),'Sentence': i, 'Accuracy':a,'Precision': p, 'Recall':r, 'AUC':roc_auc, 'FPR':fpr}, ignore_index=True)\n"
     ]
    },
    {
     "name": "stdout",
     "output_type": "stream",
     "text": [
      "2/2 [==============================] - 0s 2ms/step\n"
     ]
    },
    {
     "name": "stderr",
     "output_type": "stream",
     "text": [
      "C:\\Users\\Nathalie\\AppData\\Local\\Temp\\ipykernel_11560\\1612540374.py:69: FutureWarning: The frame.append method is deprecated and will be removed from pandas in a future version. Use pandas.concat instead.\n",
      "  metrics = metrics.append({'model':'DL','group':'erstsprache','subgroup':'migration','Length':len(df),'Sentence': i, 'Accuracy':a,'Precision': p, 'Recall':r, 'AUC':roc_auc, 'FPR':fpr}, ignore_index=True)\n"
     ]
    },
    {
     "name": "stdout",
     "output_type": "stream",
     "text": [
      "2/2 [==============================] - 0s 1ms/step\n"
     ]
    },
    {
     "name": "stderr",
     "output_type": "stream",
     "text": [
      "C:\\Users\\Nathalie\\AppData\\Local\\Temp\\ipykernel_11560\\1612540374.py:69: FutureWarning: The frame.append method is deprecated and will be removed from pandas in a future version. Use pandas.concat instead.\n",
      "  metrics = metrics.append({'model':'DL','group':'erstsprache','subgroup':'migration','Length':len(df),'Sentence': i, 'Accuracy':a,'Precision': p, 'Recall':r, 'AUC':roc_auc, 'FPR':fpr}, ignore_index=True)\n"
     ]
    },
    {
     "name": "stdout",
     "output_type": "stream",
     "text": [
      "2/2 [==============================] - 0s 2ms/step\n"
     ]
    },
    {
     "name": "stderr",
     "output_type": "stream",
     "text": [
      "C:\\Users\\Nathalie\\AppData\\Local\\Temp\\ipykernel_11560\\1612540374.py:69: FutureWarning: The frame.append method is deprecated and will be removed from pandas in a future version. Use pandas.concat instead.\n",
      "  metrics = metrics.append({'model':'DL','group':'erstsprache','subgroup':'migration','Length':len(df),'Sentence': i, 'Accuracy':a,'Precision': p, 'Recall':r, 'AUC':roc_auc, 'FPR':fpr}, ignore_index=True)\n"
     ]
    },
    {
     "name": "stdout",
     "output_type": "stream",
     "text": [
      "2/2 [==============================] - 0s 2ms/step\n"
     ]
    },
    {
     "name": "stderr",
     "output_type": "stream",
     "text": [
      "C:\\Users\\Nathalie\\AppData\\Local\\Temp\\ipykernel_11560\\1612540374.py:69: FutureWarning: The frame.append method is deprecated and will be removed from pandas in a future version. Use pandas.concat instead.\n",
      "  metrics = metrics.append({'model':'DL','group':'erstsprache','subgroup':'migration','Length':len(df),'Sentence': i, 'Accuracy':a,'Precision': p, 'Recall':r, 'AUC':roc_auc, 'FPR':fpr}, ignore_index=True)\n"
     ]
    },
    {
     "name": "stdout",
     "output_type": "stream",
     "text": [
      "2/2 [==============================] - 0s 2ms/step\n"
     ]
    },
    {
     "name": "stderr",
     "output_type": "stream",
     "text": [
      "C:\\Users\\Nathalie\\AppData\\Local\\Temp\\ipykernel_11560\\1612540374.py:69: FutureWarning: The frame.append method is deprecated and will be removed from pandas in a future version. Use pandas.concat instead.\n",
      "  metrics = metrics.append({'model':'DL','group':'erstsprache','subgroup':'migration','Length':len(df),'Sentence': i, 'Accuracy':a,'Precision': p, 'Recall':r, 'AUC':roc_auc, 'FPR':fpr}, ignore_index=True)\n"
     ]
    },
    {
     "name": "stdout",
     "output_type": "stream",
     "text": [
      "2/2 [==============================] - 0s 2ms/step\n"
     ]
    },
    {
     "name": "stderr",
     "output_type": "stream",
     "text": [
      "C:\\Users\\Nathalie\\AppData\\Local\\Temp\\ipykernel_11560\\1612540374.py:69: FutureWarning: The frame.append method is deprecated and will be removed from pandas in a future version. Use pandas.concat instead.\n",
      "  metrics = metrics.append({'model':'DL','group':'erstsprache','subgroup':'migration','Length':len(df),'Sentence': i, 'Accuracy':a,'Precision': p, 'Recall':r, 'AUC':roc_auc, 'FPR':fpr}, ignore_index=True)\n"
     ]
    },
    {
     "name": "stdout",
     "output_type": "stream",
     "text": [
      "2/2 [==============================] - 0s 2ms/step\n"
     ]
    },
    {
     "name": "stderr",
     "output_type": "stream",
     "text": [
      "C:\\Users\\Nathalie\\AppData\\Local\\Temp\\ipykernel_11560\\1612540374.py:69: FutureWarning: The frame.append method is deprecated and will be removed from pandas in a future version. Use pandas.concat instead.\n",
      "  metrics = metrics.append({'model':'DL','group':'erstsprache','subgroup':'migration','Length':len(df),'Sentence': i, 'Accuracy':a,'Precision': p, 'Recall':r, 'AUC':roc_auc, 'FPR':fpr}, ignore_index=True)\n"
     ]
    },
    {
     "name": "stdout",
     "output_type": "stream",
     "text": [
      "1/1 [==============================] - 0s 14ms/step\n"
     ]
    },
    {
     "name": "stderr",
     "output_type": "stream",
     "text": [
      "C:\\Users\\Nathalie\\AppData\\Local\\Temp\\ipykernel_11560\\1612540374.py:69: FutureWarning: The frame.append method is deprecated and will be removed from pandas in a future version. Use pandas.concat instead.\n",
      "  metrics = metrics.append({'model':'DL','group':'erstsprache','subgroup':'migration','Length':len(df),'Sentence': i, 'Accuracy':a,'Precision': p, 'Recall':r, 'AUC':roc_auc, 'FPR':fpr}, ignore_index=True)\n"
     ]
    },
    {
     "name": "stdout",
     "output_type": "stream",
     "text": [
      "1/1 [==============================] - 0s 15ms/step\n"
     ]
    },
    {
     "name": "stderr",
     "output_type": "stream",
     "text": [
      "C:\\Users\\Nathalie\\AppData\\Local\\Temp\\ipykernel_11560\\1612540374.py:69: FutureWarning: The frame.append method is deprecated and will be removed from pandas in a future version. Use pandas.concat instead.\n",
      "  metrics = metrics.append({'model':'DL','group':'erstsprache','subgroup':'migration','Length':len(df),'Sentence': i, 'Accuracy':a,'Precision': p, 'Recall':r, 'AUC':roc_auc, 'FPR':fpr}, ignore_index=True)\n"
     ]
    },
    {
     "name": "stdout",
     "output_type": "stream",
     "text": [
      "1/1 [==============================] - 0s 15ms/step\n"
     ]
    },
    {
     "name": "stderr",
     "output_type": "stream",
     "text": [
      "c:\\Python310\\lib\\site-packages\\sklearn\\metrics\\_classification.py:1327: UndefinedMetricWarning: Precision is ill-defined and being set to 0.0 due to no predicted samples. Use `zero_division` parameter to control this behavior.\n",
      "  _warn_prf(average, modifier, msg_start, len(result))\n",
      "C:\\Users\\Nathalie\\AppData\\Local\\Temp\\ipykernel_11560\\1612540374.py:69: FutureWarning: The frame.append method is deprecated and will be removed from pandas in a future version. Use pandas.concat instead.\n",
      "  metrics = metrics.append({'model':'DL','group':'erstsprache','subgroup':'migration','Length':len(df),'Sentence': i, 'Accuracy':a,'Precision': p, 'Recall':r, 'AUC':roc_auc, 'FPR':fpr}, ignore_index=True)\n"
     ]
    },
    {
     "name": "stdout",
     "output_type": "stream",
     "text": [
      "1/1 [==============================] - 0s 16ms/step\n"
     ]
    },
    {
     "name": "stderr",
     "output_type": "stream",
     "text": [
      "C:\\Users\\Nathalie\\AppData\\Local\\Temp\\ipykernel_11560\\1612540374.py:69: FutureWarning: The frame.append method is deprecated and will be removed from pandas in a future version. Use pandas.concat instead.\n",
      "  metrics = metrics.append({'model':'DL','group':'erstsprache','subgroup':'migration','Length':len(df),'Sentence': i, 'Accuracy':a,'Precision': p, 'Recall':r, 'AUC':roc_auc, 'FPR':fpr}, ignore_index=True)\n"
     ]
    }
   ],
   "source": [
    "# baseline model\n",
    "def build_model():\n",
    "\t# create model\n",
    "\tmodel = Sequential()\n",
    "\tmodel.add(Dense(21, input_dim=21, activation='relu'))\n",
    "\tmodel.add(Dense(44, activation='relu'))\n",
    "\tmodel.add(Dense(22, activation='relu'))\n",
    "\tmodel.add(Dense(11, activation='relu'))\n",
    "\tmodel.add(Dense(1, activation='sigmoid'))\n",
    "\t\t\n",
    "\treturn model\n",
    "\n",
    "\n",
    "def get_dn_metrics(model, X,y):\n",
    "    yhat_probs = model.predict(X, verbose=0)\n",
    "    yhat_classes =  (model.predict(X) > 0.5).astype(\"int32\")\n",
    "    # reduce to 1d array\n",
    "    yhat_probs = yhat_probs[:, 0]\n",
    "    yhat_classes = yhat_classes[:, 0]\n",
    "    a = accuracy_score(y, yhat_classes)\n",
    "    p = precision_score(y, yhat_classes)\n",
    "    r = recall_score(y, yhat_classes)\n",
    "    roc_auc = roc_auc_score(y, yhat_probs)\n",
    "    tn, fp, fn, tp = confusion_matrix(y, yhat_classes).ravel()\n",
    "    fpr = fp/(fp+tn)\n",
    "\n",
    "    return a,p,r,roc_auc,fpr\n",
    "\n",
    "n =  [2,3,4,5,6,7,8,9,10,11,12,13,14,15,16,17,18,19,20,21,22,23,24,25,26,27,28,29,30,31,32,33,34,35,36,37,38,39,40,41,42,43,44,45,46,47,48,49,50,51,52,53,54,55,56,57,58,59,60]\n",
    "feature_cols = ['Erstloesung','Schussel','Erfolg', 'Schwierigkeit', 'ist_Schulzeit', 'MehrfachFalsch', 'vorher_abgebrochen','Fehler', 'Klassenstufe', 'Jahredabei', 'Testposition__pruefung', 'Testposition__training','Testposition__version', 'Art__GK', 'Art__GR', 'Art__GZ', 'Art__K', 'Art__LB','UserAttribut', 'OrderNumber', 'steps']\n",
    "\n",
    "for i in n:\n",
    "    path='erstsprache/matrix_migration'+str(i)+'.pkl'\n",
    "    infile = open(path,'rb')\n",
    "    df = pickle.load(infile)\n",
    "    infile.close()\n",
    "    df=df.reset_index()\n",
    "\n",
    "    y_len = len(feature_cols)\n",
    "    X = df[feature_cols].astype(float)\n",
    "    y = df.y\n",
    "    y= y.astype('int')\n",
    "    X_train, X_test, y_train, y_test = train_test_split(X, y, test_size=0.3, random_state=1)\n",
    "\n",
    "    model = build_model()\n",
    "\n",
    "    model.compile(\n",
    "        loss=\"binary_crossentropy\",\n",
    "        optimizer='Adam',\n",
    "        metrics=[\"accuracy\"]\n",
    "    )\n",
    "\n",
    "    model.fit(\n",
    "        x=X_train,\n",
    "        y=y_train,\n",
    "        epochs=10,\n",
    "        batch_size=128,\n",
    "        verbose=0,\n",
    "        validation_data=(X_test, y_test)\n",
    "    )\n",
    "\n",
    "    scores = model.evaluate(\n",
    "        x=X_test,\n",
    "        y=y_test,\n",
    "        verbose=0\n",
    "    )\n",
    "\n",
    "    a,p,r,roc_auc,fpr= get_dn_metrics(model, X_test,y_test)\n",
    "    metrics = metrics.append({'model':'DL','group':'erstsprache','subgroup':'migration','Length':len(df),'Sentence': i, 'Accuracy':a,'Precision': p, 'Recall':r, 'AUC':roc_auc, 'FPR':fpr}, ignore_index=True)"
   ]
  },
  {
   "cell_type": "markdown",
   "metadata": {},
   "source": [
    "Model metrics"
   ]
  },
  {
   "cell_type": "code",
   "execution_count": 14,
   "metadata": {},
   "outputs": [
    {
     "data": {
      "image/png": "[encoded data removed]",
      "text/plain": [
       "<Figure size 432x288 with 1 Axes>"
      ]
     },
     "metadata": {
      "needs_background": "light"
     },
     "output_type": "display_data"
    }
   ],
   "source": [
    "ax = sns.lineplot(data=metrics, x='Sentence', y='Length', hue='subgroup')"
   ]
  },
  {
   "cell_type": "code",
   "execution_count": 15,
   "metadata": {},
   "outputs": [],
   "source": [
    "grouped = metrics.groupby(metrics.subgroup)\n",
    "df_deutsch = grouped.get_group(\"deutsch\")\n",
    "df_migration = grouped.get_group(\"migration\")\n"
   ]
  },
  {
   "cell_type": "code",
   "execution_count": 16,
   "metadata": {},
   "outputs": [
    {
     "data": {
      "image/png": "[encoded data removed]",
      "text/plain": [
       "<Figure size 432x288 with 1 Axes>"
      ]
     },
     "metadata": {
      "needs_background": "light"
     },
     "output_type": "display_data"
    }
   ],
   "source": [
    "ax = sns.lineplot(data=df_deutsch, x='Sentence', y='Accuracy', hue='model')"
   ]
  },
  {
   "cell_type": "code",
   "execution_count": 17,
   "metadata": {},
   "outputs": [
    {
     "data": {
      "image/png": "[encoded data removed]",
      "text/plain": [
       "<Figure size 432x288 with 1 Axes>"
      ]
     },
     "metadata": {
      "needs_background": "light"
     },
     "output_type": "display_data"
    }
   ],
   "source": [
    "ax = sns.lineplot(data=df_migration, x='Sentence', y='Accuracy', hue='model')"
   ]
  },
  {
   "cell_type": "markdown",
   "metadata": {},
   "source": [
    "Evaluation"
   ]
  },
  {
   "cell_type": "code",
   "execution_count": 18,
   "metadata": {},
   "outputs": [],
   "source": [
    "df = metrics\n",
    "grouped = df.groupby(df.group)\n",
    "df_erstsprache = grouped.get_group(\"erstsprache\")\n",
    "\n",
    "df_erstsprache = df_erstsprache.drop(columns=['group', 'Accuracy'])\n",
    "df_erstsprache = pd.pivot_table(df_erstsprache, values=[\"Precision\",\"Recall\",\"AUC\",\"FPR\"], index=[\"model\", \"Sentence\"], columns=[\"subgroup\"])\n",
    "df_erstsprache['PP'] = df_erstsprache.Precision.deutsch-df_erstsprache.Precision.migration\n",
    "df_erstsprache['EO'] = df_erstsprache.Recall.migration-df_erstsprache.Recall.deutsch\n",
    "df_erstsprache['SA'] = df_erstsprache.AUC.deutsch-df_erstsprache.AUC.migration\n",
    "df_erstsprache['PE'] = df_erstsprache.FPR.migration-df_erstsprache.FPR.deutsch\n",
    "df_erstsprache = df_erstsprache.drop(columns=['AUC','Precision','Recall','FPR'])\n",
    "df_erstsprache.columns = df_erstsprache.columns.droplevel(1)\n",
    "df_erstsprache = pd.pivot_table(df_erstsprache, values=[\"PP\",\"EO\",\"SA\",\"PE\"], index=[\"Sentence\"], columns=[\"model\"])\n",
    "\n"
   ]
  },
  {
   "cell_type": "code",
   "execution_count": 19,
   "metadata": {},
   "outputs": [],
   "source": [
    "#format result\n",
    "\n",
    "def threshold001(v, props=''):\n",
    "    return props if (v > 0.02) or (v < -0.02) else None\n",
    "\n",
    "def threshold005(v, props=''):\n",
    "    return props if (v > 0.05) or (v < -0.05) else None\n",
    "\n",
    "def negativeValue(v, props=''):\n",
    "    return props if (v < 0) else None\n",
    "\n",
    "def showTable(df):\n",
    "    styled = df.style.set_properties(color=\"black\", align=\"right\")\\\n",
    "        .set_properties(**{'background-color': 'white'})\\\n",
    "        .applymap(threshold001, props='color:orange;')\\\n",
    "        .applymap(threshold005, props='color:red;')\\\n",
    "        .applymap(negativeValue, props='font-weight:bold;')\n",
    "    return styled"
   ]
  },
  {
   "cell_type": "code",
   "execution_count": 20,
   "metadata": {},
   "outputs": [],
   "source": [
    "# s = showTable(df_erstsprache)\n",
    "# s"
   ]
  },
  {
   "cell_type": "code",
   "execution_count": 21,
   "metadata": {},
   "outputs": [],
   "source": [
    "# writer = pd.ExcelWriter('df_erstsprache_AggBias.xlsx', engine='xlsxwriter')\n",
    "# df_erstsprache.to_excel(writer, sheet_name='erstsprache')\n",
    "# writer.save()"
   ]
  },
  {
   "cell_type": "code",
   "execution_count": 22,
   "metadata": {},
   "outputs": [],
   "source": [
    "test = df_erstsprache\n",
    "met = ['EO','PE','PP','SA']\n",
    "fertig = pd.DataFrame()\n",
    "for x in met:        \n",
    "    a = 0\n",
    "    for i in range(2, 10):\n",
    "        a = a+test[x].DL[i]\n",
    "    a = a/8\n",
    "    temp = pd.DataFrame(\n",
    "        {\n",
    "            'Metrik':[x],\n",
    "            'Model': 'DL',\n",
    "            'Range': '02-9',\n",
    "            'Val': a\n",
    "        }\n",
    "    )\n",
    "    fertig = pd.concat([fertig, temp])\n",
    "\n",
    "    b = 0\n",
    "    for i in range(10, 20):\n",
    "        b = b+test[x].DL[i]\n",
    "    b = b/9\n",
    "    temp = pd.DataFrame(\n",
    "        {\n",
    "            'Metrik':[x],\n",
    "            'Model': 'DL',\n",
    "            'Range': '10-19',\n",
    "            'Val': b\n",
    "        }\n",
    "    )\n",
    "    fertig = pd.concat([fertig, temp])\n",
    "\n",
    "    c = 0\n",
    "    for i in range(20, 30):\n",
    "        c = c+test[x].DL[i]\n",
    "    c = c/9\n",
    "    temp = pd.DataFrame(\n",
    "        {\n",
    "            'Metrik':[x],\n",
    "            'Model': 'DL',\n",
    "            'Range': '20-29',\n",
    "            'Val': c\n",
    "        }\n",
    "    )\n",
    "    fertig = pd.concat([fertig, temp])\n",
    "\n",
    "    d = 0\n",
    "    for i in range(30, 40):\n",
    "        d = d+test[x].DL[i]\n",
    "    d = d/9\n",
    "    temp = pd.DataFrame(\n",
    "        {\n",
    "            'Metrik':[x],\n",
    "            'Model': 'DL',\n",
    "            'Range': '30-39',\n",
    "            'Val': d\n",
    "        }\n",
    "    )\n",
    "    fertig = pd.concat([fertig, temp])\n",
    "\n",
    "    e = 0\n",
    "    for i in range(40, 50):\n",
    "        e = e+test[x].DL[i]\n",
    "    e = e/9\n",
    "    temp = pd.DataFrame(\n",
    "        {\n",
    "            'Metrik':[x],\n",
    "            'Model': 'DL',\n",
    "            'Range': '40-49',\n",
    "            'Val': e\n",
    "        }\n",
    "    )\n",
    "    fertig = pd.concat([fertig, temp])\n",
    "\n",
    "    f = 0\n",
    "    for i in range(50, 60):\n",
    "        f = f+test[x].DL[i]\n",
    "    f = f/10\n",
    "    temp = pd.DataFrame(\n",
    "        {\n",
    "            'Metrik':[x],\n",
    "            'Model': 'DL',\n",
    "            'Range': '50-60',\n",
    "            'Val': f\n",
    "        }\n",
    "    )\n",
    "    fertig = pd.concat([fertig, temp])\n",
    "\n",
    "    \n",
    "\n",
    "met = ['EO','PE','PP','SA']\n",
    "for x in met:        \n",
    "    a = 0\n",
    "    for i in range(2, 10):\n",
    "        a = a+test[x].DTE[i]\n",
    "    a = a/8\n",
    "    temp = pd.DataFrame(\n",
    "        {\n",
    "            'Metrik':[x],\n",
    "            'Model': 'DTE',\n",
    "            'Range': '02-9',\n",
    "            'Val': a\n",
    "        }\n",
    "    )\n",
    "    fertig = pd.concat([fertig, temp])\n",
    "\n",
    "    b = 0\n",
    "    for i in range(10, 20):\n",
    "        b = b+test[x].DTE[i]\n",
    "    b = b/9\n",
    "    temp = pd.DataFrame(\n",
    "        {\n",
    "            'Metrik':[x],\n",
    "            'Model': 'DTE',\n",
    "            'Range': '10-19',\n",
    "            'Val': b\n",
    "        }\n",
    "    )\n",
    "    fertig = pd.concat([fertig, temp])\n",
    "\n",
    "    c = 0\n",
    "    for i in range(20, 30):\n",
    "        c = c+test[x].DTE[i]\n",
    "    c = c/9\n",
    "    temp = pd.DataFrame(\n",
    "        {\n",
    "            'Metrik':[x],\n",
    "            'Model': 'DTE',\n",
    "            'Range': '20-29',\n",
    "            'Val': c\n",
    "        }\n",
    "    )\n",
    "    fertig = pd.concat([fertig, temp])\n",
    "\n",
    "    d = 0\n",
    "    for i in range(30, 40):\n",
    "        d = d+test[x].DTE[i]\n",
    "    d = d/9\n",
    "    temp = pd.DataFrame(\n",
    "        {\n",
    "            'Metrik':[x],\n",
    "            'Model': 'DTE',\n",
    "            'Range': '30-39',\n",
    "            'Val': d\n",
    "        }\n",
    "    )\n",
    "    fertig = pd.concat([fertig, temp])\n",
    "\n",
    "    e = 0\n",
    "    for i in range(40, 50):\n",
    "        e = e+test[x].DTE[i]\n",
    "    e = e/9\n",
    "    temp = pd.DataFrame(\n",
    "        {\n",
    "            'Metrik':[x],\n",
    "            'Model': 'DTE',\n",
    "            'Range': '40-49',\n",
    "            'Val': e\n",
    "        }\n",
    "    )\n",
    "    fertig = pd.concat([fertig, temp])\n",
    "\n",
    "    f = 0\n",
    "    for i in range(50, 60):\n",
    "        f = f+test[x].DTE[i]\n",
    "    f = f/10\n",
    "    temp = pd.DataFrame(\n",
    "        {\n",
    "            'Metrik':[x],\n",
    "            'Model': 'DTE',\n",
    "            'Range': '50-60',\n",
    "            'Val': f\n",
    "        }\n",
    "    )\n",
    "    fertig = pd.concat([fertig, temp])\n",
    "\n",
    "met = ['EO','PE','PP','SA']\n",
    "for x in met:        \n",
    "    a = 0\n",
    "    for i in range(2, 10):\n",
    "        a = a+test[x].KNN[i]\n",
    "    a = a/8\n",
    "    temp = pd.DataFrame(\n",
    "        {\n",
    "            'Metrik':[x],\n",
    "            'Model': 'KNN',\n",
    "            'Range': '02-9',\n",
    "            'Val': a\n",
    "        }\n",
    "    )\n",
    "    fertig = pd.concat([fertig, temp])\n",
    "\n",
    "    b = 0\n",
    "    for i in range(10, 20):\n",
    "        b = b+test[x].KNN[i]\n",
    "    b = b/9\n",
    "    temp = pd.DataFrame(\n",
    "        {\n",
    "            'Metrik':[x],\n",
    "            'Model': 'KNN',\n",
    "            'Range': '10-19',\n",
    "            'Val': b\n",
    "        }\n",
    "    )\n",
    "    fertig = pd.concat([fertig, temp])\n",
    "\n",
    "    c = 0\n",
    "    for i in range(20, 30):\n",
    "        c = c+test[x].KNN[i]\n",
    "    c = c/9\n",
    "    temp = pd.DataFrame(\n",
    "        {\n",
    "            'Metrik':[x],\n",
    "            'Model': 'KNN',\n",
    "            'Range': '20-29',\n",
    "            'Val': c\n",
    "        }\n",
    "    )\n",
    "    fertig = pd.concat([fertig, temp])\n",
    "\n",
    "    d = 0\n",
    "    for i in range(30, 40):\n",
    "        d = d+test[x].KNN[i]\n",
    "    d = d/9\n",
    "    temp = pd.DataFrame(\n",
    "        {\n",
    "            'Metrik':[x],\n",
    "            'Model': 'KNN',\n",
    "            'Range': '30-39',\n",
    "            'Val': d\n",
    "        }\n",
    "    )\n",
    "    fertig = pd.concat([fertig, temp])\n",
    "\n",
    "    e = 0\n",
    "    for i in range(40, 50):\n",
    "        e = e+test[x].KNN[i]\n",
    "    e = e/9\n",
    "    temp = pd.DataFrame(\n",
    "        {\n",
    "            'Metrik':[x],\n",
    "            'Model': 'KNN',\n",
    "            'Range': '40-49',\n",
    "            'Val': e\n",
    "        }\n",
    "    )\n",
    "    fertig = pd.concat([fertig, temp])\n",
    "\n",
    "    f = 0\n",
    "    for i in range(50, 60):\n",
    "        f = f+test[x].KNN[i]\n",
    "    f = f/10\n",
    "    temp = pd.DataFrame(\n",
    "        {\n",
    "            'Metrik':[x],\n",
    "            'Model': 'KNN',\n",
    "            'Range': '50-60',\n",
    "            'Val': f\n",
    "        }\n",
    "    )\n",
    "    fertig = pd.concat([fertig, temp])\n",
    "\n",
    "\n"
   ]
  },
  {
   "cell_type": "code",
   "execution_count": 23,
   "metadata": {},
   "outputs": [
    {
     "data": {
      "text/html": [
       "<style type=\"text/css\">\n",
       "#T_edca1_row0_col0, #T_edca1_row0_col1, #T_edca1_row0_col2, #T_edca1_row0_col3, #T_edca1_row0_col4, #T_edca1_row0_col5, #T_edca1_row1_col0, #T_edca1_row1_col1, #T_edca1_row1_col2, #T_edca1_row1_col3, #T_edca1_row1_col4, #T_edca1_row1_col5, #T_edca1_row2_col0, #T_edca1_row2_col1, #T_edca1_row2_col2, #T_edca1_row2_col3, #T_edca1_row2_col4, #T_edca1_row2_col5, #T_edca1_row3_col0, #T_edca1_row3_col1, #T_edca1_row3_col2, #T_edca1_row3_col3, #T_edca1_row3_col4, #T_edca1_row3_col5, #T_edca1_row4_col0, #T_edca1_row4_col1, #T_edca1_row4_col2, #T_edca1_row4_col3, #T_edca1_row4_col4, #T_edca1_row4_col5, #T_edca1_row5_col0, #T_edca1_row5_col1, #T_edca1_row5_col2, #T_edca1_row5_col3, #T_edca1_row5_col4 {\n",
       "  color: black;\n",
       "  align: right;\n",
       "  background-color: white;\n",
       "  color: orange;\n",
       "  color: red;\n",
       "  font-weight: bold;\n",
       "}\n",
       "#T_edca1_row0_col6, #T_edca1_row0_col8, #T_edca1_row0_col9, #T_edca1_row0_col10, #T_edca1_row0_col11, #T_edca1_row1_col9, #T_edca1_row1_col10, #T_edca1_row1_col11, #T_edca1_row2_col10, #T_edca1_row3_col9, #T_edca1_row3_col11, #T_edca1_row4_col11, #T_edca1_row5_col5 {\n",
       "  color: black;\n",
       "  align: right;\n",
       "  background-color: white;\n",
       "  color: orange;\n",
       "}\n",
       "#T_edca1_row0_col7, #T_edca1_row1_col6, #T_edca1_row1_col7, #T_edca1_row1_col8, #T_edca1_row2_col6, #T_edca1_row2_col7, #T_edca1_row2_col8, #T_edca1_row2_col9, #T_edca1_row2_col11, #T_edca1_row3_col6, #T_edca1_row3_col7, #T_edca1_row3_col8, #T_edca1_row4_col6, #T_edca1_row4_col7, #T_edca1_row4_col8, #T_edca1_row4_col9, #T_edca1_row5_col6, #T_edca1_row5_col7, #T_edca1_row5_col8, #T_edca1_row5_col11 {\n",
       "  color: black;\n",
       "  align: right;\n",
       "  background-color: white;\n",
       "  color: orange;\n",
       "  color: red;\n",
       "}\n",
       "#T_edca1_row3_col10, #T_edca1_row4_col10, #T_edca1_row5_col9 {\n",
       "  color: black;\n",
       "  align: right;\n",
       "  background-color: white;\n",
       "  color: orange;\n",
       "  font-weight: bold;\n",
       "}\n",
       "#T_edca1_row5_col10 {\n",
       "  color: black;\n",
       "  align: right;\n",
       "  background-color: white;\n",
       "}\n",
       "</style>\n",
       "<table id=\"T_edca1\">\n",
       "  <thead>\n",
       "    <tr>\n",
       "      <th class=\"blank level0\" >&nbsp;</th>\n",
       "      <th id=\"T_edca1_level0_col0\" class=\"col_heading level0 col0\" colspan=\"12\">Val</th>\n",
       "    </tr>\n",
       "    <tr>\n",
       "      <th class=\"index_name level1\" >Metrik</th>\n",
       "      <th id=\"T_edca1_level1_col0\" class=\"col_heading level1 col0\" colspan=\"3\">EO</th>\n",
       "      <th id=\"T_edca1_level1_col3\" class=\"col_heading level1 col3\" colspan=\"3\">PE</th>\n",
       "      <th id=\"T_edca1_level1_col6\" class=\"col_heading level1 col6\" colspan=\"3\">PP</th>\n",
       "      <th id=\"T_edca1_level1_col9\" class=\"col_heading level1 col9\" colspan=\"3\">SA</th>\n",
       "    </tr>\n",
       "    <tr>\n",
       "      <th class=\"index_name level2\" >Model</th>\n",
       "      <th id=\"T_edca1_level2_col0\" class=\"col_heading level2 col0\" >DL</th>\n",
       "      <th id=\"T_edca1_level2_col1\" class=\"col_heading level2 col1\" >DTE</th>\n",
       "      <th id=\"T_edca1_level2_col2\" class=\"col_heading level2 col2\" >KNN</th>\n",
       "      <th id=\"T_edca1_level2_col3\" class=\"col_heading level2 col3\" >DL</th>\n",
       "      <th id=\"T_edca1_level2_col4\" class=\"col_heading level2 col4\" >DTE</th>\n",
       "      <th id=\"T_edca1_level2_col5\" class=\"col_heading level2 col5\" >KNN</th>\n",
       "      <th id=\"T_edca1_level2_col6\" class=\"col_heading level2 col6\" >DL</th>\n",
       "      <th id=\"T_edca1_level2_col7\" class=\"col_heading level2 col7\" >DTE</th>\n",
       "      <th id=\"T_edca1_level2_col8\" class=\"col_heading level2 col8\" >KNN</th>\n",
       "      <th id=\"T_edca1_level2_col9\" class=\"col_heading level2 col9\" >DL</th>\n",
       "      <th id=\"T_edca1_level2_col10\" class=\"col_heading level2 col10\" >DTE</th>\n",
       "      <th id=\"T_edca1_level2_col11\" class=\"col_heading level2 col11\" >KNN</th>\n",
       "    </tr>\n",
       "    <tr>\n",
       "      <th class=\"index_name level0\" >Range</th>\n",
       "      <th class=\"blank col0\" >&nbsp;</th>\n",
       "      <th class=\"blank col1\" >&nbsp;</th>\n",
       "      <th class=\"blank col2\" >&nbsp;</th>\n",
       "      <th class=\"blank col3\" >&nbsp;</th>\n",
       "      <th class=\"blank col4\" >&nbsp;</th>\n",
       "      <th class=\"blank col5\" >&nbsp;</th>\n",
       "      <th class=\"blank col6\" >&nbsp;</th>\n",
       "      <th class=\"blank col7\" >&nbsp;</th>\n",
       "      <th class=\"blank col8\" >&nbsp;</th>\n",
       "      <th class=\"blank col9\" >&nbsp;</th>\n",
       "      <th class=\"blank col10\" >&nbsp;</th>\n",
       "      <th class=\"blank col11\" >&nbsp;</th>\n",
       "    </tr>\n",
       "  </thead>\n",
       "  <tbody>\n",
       "    <tr>\n",
       "      <th id=\"T_edca1_level0_row0\" class=\"row_heading level0 row0\" >02-9</th>\n",
       "      <td id=\"T_edca1_row0_col0\" class=\"data row0 col0\" >-0.219928</td>\n",
       "      <td id=\"T_edca1_row0_col1\" class=\"data row0 col1\" >-0.187714</td>\n",
       "      <td id=\"T_edca1_row0_col2\" class=\"data row0 col2\" >-0.173187</td>\n",
       "      <td id=\"T_edca1_row0_col3\" class=\"data row0 col3\" >-0.148288</td>\n",
       "      <td id=\"T_edca1_row0_col4\" class=\"data row0 col4\" >-0.091155</td>\n",
       "      <td id=\"T_edca1_row0_col5\" class=\"data row0 col5\" >-0.109561</td>\n",
       "      <td id=\"T_edca1_row0_col6\" class=\"data row0 col6\" >0.048824</td>\n",
       "      <td id=\"T_edca1_row0_col7\" class=\"data row0 col7\" >0.091997</td>\n",
       "      <td id=\"T_edca1_row0_col8\" class=\"data row0 col8\" >0.039205</td>\n",
       "      <td id=\"T_edca1_row0_col9\" class=\"data row0 col9\" >0.023297</td>\n",
       "      <td id=\"T_edca1_row0_col10\" class=\"data row0 col10\" >0.048280</td>\n",
       "      <td id=\"T_edca1_row0_col11\" class=\"data row0 col11\" >0.031813</td>\n",
       "    </tr>\n",
       "    <tr>\n",
       "      <th id=\"T_edca1_level0_row1\" class=\"row_heading level0 row1\" >10-19</th>\n",
       "      <td id=\"T_edca1_row1_col0\" class=\"data row1 col0\" >-0.132079</td>\n",
       "      <td id=\"T_edca1_row1_col1\" class=\"data row1 col1\" >-0.116058</td>\n",
       "      <td id=\"T_edca1_row1_col2\" class=\"data row1 col2\" >-0.154463</td>\n",
       "      <td id=\"T_edca1_row1_col3\" class=\"data row1 col3\" >-0.078266</td>\n",
       "      <td id=\"T_edca1_row1_col4\" class=\"data row1 col4\" >-0.061038</td>\n",
       "      <td id=\"T_edca1_row1_col5\" class=\"data row1 col5\" >-0.080362</td>\n",
       "      <td id=\"T_edca1_row1_col6\" class=\"data row1 col6\" >0.096090</td>\n",
       "      <td id=\"T_edca1_row1_col7\" class=\"data row1 col7\" >0.095928</td>\n",
       "      <td id=\"T_edca1_row1_col8\" class=\"data row1 col8\" >0.053778</td>\n",
       "      <td id=\"T_edca1_row1_col9\" class=\"data row1 col9\" >0.046896</td>\n",
       "      <td id=\"T_edca1_row1_col10\" class=\"data row1 col10\" >0.027510</td>\n",
       "      <td id=\"T_edca1_row1_col11\" class=\"data row1 col11\" >0.037050</td>\n",
       "    </tr>\n",
       "    <tr>\n",
       "      <th id=\"T_edca1_level0_row2\" class=\"row_heading level0 row2\" >20-29</th>\n",
       "      <td id=\"T_edca1_row2_col0\" class=\"data row2 col0\" >-0.168600</td>\n",
       "      <td id=\"T_edca1_row2_col1\" class=\"data row2 col1\" >-0.121769</td>\n",
       "      <td id=\"T_edca1_row2_col2\" class=\"data row2 col2\" >-0.193674</td>\n",
       "      <td id=\"T_edca1_row2_col3\" class=\"data row2 col3\" >-0.158999</td>\n",
       "      <td id=\"T_edca1_row2_col4\" class=\"data row2 col4\" >-0.068364</td>\n",
       "      <td id=\"T_edca1_row2_col5\" class=\"data row2 col5\" >-0.079291</td>\n",
       "      <td id=\"T_edca1_row2_col6\" class=\"data row2 col6\" >0.176007</td>\n",
       "      <td id=\"T_edca1_row2_col7\" class=\"data row2 col7\" >0.102776</td>\n",
       "      <td id=\"T_edca1_row2_col8\" class=\"data row2 col8\" >0.067823</td>\n",
       "      <td id=\"T_edca1_row2_col9\" class=\"data row2 col9\" >0.053136</td>\n",
       "      <td id=\"T_edca1_row2_col10\" class=\"data row2 col10\" >0.026702</td>\n",
       "      <td id=\"T_edca1_row2_col11\" class=\"data row2 col11\" >0.057191</td>\n",
       "    </tr>\n",
       "    <tr>\n",
       "      <th id=\"T_edca1_level0_row3\" class=\"row_heading level0 row3\" >30-39</th>\n",
       "      <td id=\"T_edca1_row3_col0\" class=\"data row3 col0\" >-0.114341</td>\n",
       "      <td id=\"T_edca1_row3_col1\" class=\"data row3 col1\" >-0.063981</td>\n",
       "      <td id=\"T_edca1_row3_col2\" class=\"data row3 col2\" >-0.143874</td>\n",
       "      <td id=\"T_edca1_row3_col3\" class=\"data row3 col3\" >-0.248832</td>\n",
       "      <td id=\"T_edca1_row3_col4\" class=\"data row3 col4\" >-0.120837</td>\n",
       "      <td id=\"T_edca1_row3_col5\" class=\"data row3 col5\" >-0.056049</td>\n",
       "      <td id=\"T_edca1_row3_col6\" class=\"data row3 col6\" >0.080262</td>\n",
       "      <td id=\"T_edca1_row3_col7\" class=\"data row3 col7\" >0.074629</td>\n",
       "      <td id=\"T_edca1_row3_col8\" class=\"data row3 col8\" >0.085648</td>\n",
       "      <td id=\"T_edca1_row3_col9\" class=\"data row3 col9\" >0.025661</td>\n",
       "      <td id=\"T_edca1_row3_col10\" class=\"data row3 col10\" >-0.028428</td>\n",
       "      <td id=\"T_edca1_row3_col11\" class=\"data row3 col11\" >0.043913</td>\n",
       "    </tr>\n",
       "    <tr>\n",
       "      <th id=\"T_edca1_level0_row4\" class=\"row_heading level0 row4\" >40-49</th>\n",
       "      <td id=\"T_edca1_row4_col0\" class=\"data row4 col0\" >-0.145718</td>\n",
       "      <td id=\"T_edca1_row4_col1\" class=\"data row4 col1\" >-0.113342</td>\n",
       "      <td id=\"T_edca1_row4_col2\" class=\"data row4 col2\" >-0.182409</td>\n",
       "      <td id=\"T_edca1_row4_col3\" class=\"data row4 col3\" >-0.096088</td>\n",
       "      <td id=\"T_edca1_row4_col4\" class=\"data row4 col4\" >-0.171932</td>\n",
       "      <td id=\"T_edca1_row4_col5\" class=\"data row4 col5\" >-0.123060</td>\n",
       "      <td id=\"T_edca1_row4_col6\" class=\"data row4 col6\" >0.252847</td>\n",
       "      <td id=\"T_edca1_row4_col7\" class=\"data row4 col7\" >0.100950</td>\n",
       "      <td id=\"T_edca1_row4_col8\" class=\"data row4 col8\" >0.058624</td>\n",
       "      <td id=\"T_edca1_row4_col9\" class=\"data row4 col9\" >0.088784</td>\n",
       "      <td id=\"T_edca1_row4_col10\" class=\"data row4 col10\" >-0.029295</td>\n",
       "      <td id=\"T_edca1_row4_col11\" class=\"data row4 col11\" >0.029674</td>\n",
       "    </tr>\n",
       "    <tr>\n",
       "      <th id=\"T_edca1_level0_row5\" class=\"row_heading level0 row5\" >50-60</th>\n",
       "      <td id=\"T_edca1_row5_col0\" class=\"data row5 col0\" >-0.089263</td>\n",
       "      <td id=\"T_edca1_row5_col1\" class=\"data row5 col1\" >-0.132522</td>\n",
       "      <td id=\"T_edca1_row5_col2\" class=\"data row5 col2\" >-0.185575</td>\n",
       "      <td id=\"T_edca1_row5_col3\" class=\"data row5 col3\" >-0.063879</td>\n",
       "      <td id=\"T_edca1_row5_col4\" class=\"data row5 col4\" >-0.128515</td>\n",
       "      <td id=\"T_edca1_row5_col5\" class=\"data row5 col5\" >0.039007</td>\n",
       "      <td id=\"T_edca1_row5_col6\" class=\"data row5 col6\" >0.211328</td>\n",
       "      <td id=\"T_edca1_row5_col7\" class=\"data row5 col7\" >0.089869</td>\n",
       "      <td id=\"T_edca1_row5_col8\" class=\"data row5 col8\" >0.112353</td>\n",
       "      <td id=\"T_edca1_row5_col9\" class=\"data row5 col9\" >-0.046195</td>\n",
       "      <td id=\"T_edca1_row5_col10\" class=\"data row5 col10\" >0.002003</td>\n",
       "      <td id=\"T_edca1_row5_col11\" class=\"data row5 col11\" >0.112291</td>\n",
       "    </tr>\n",
       "  </tbody>\n",
       "</table>\n"
      ],
      "text/plain": [
       "<pandas.io.formats.style.Styler at 0x1b5532619f0>"
      ]
     },
     "execution_count": 23,
     "metadata": {},
     "output_type": "execute_result"
    }
   ],
   "source": [
    "mean_table = pd.pivot_table(fertig, values=['Val'], index=['Range'], columns=['Metrik','Model'])\n",
    "showTable(mean_table)"
   ]
  }
 ],
 "metadata": {
  "kernelspec": {
   "display_name": "Python 3.10.2 64-bit",
   "language": "python",
   "name": "python3"
  },
  "language_info": {
   "codemirror_mode": {
    "name": "ipython",
    "version": 3
   },
   "file_extension": ".py",
   "mimetype": "text/x-python",
   "name": "python",
   "nbconvert_exporter": "python",
   "pygments_lexer": "ipython3",
   "version": "3.10.2"
  },
  "orig_nbformat": 4,
  "vscode": {
   "interpreter": {
    "hash": "369f2c481f4da34e4445cda3fffd2e751bd1c4d706f27375911949ba6bb62e1c"
   }
  }
 },
 "nbformat": 4,
 "nbformat_minor": 2
}
