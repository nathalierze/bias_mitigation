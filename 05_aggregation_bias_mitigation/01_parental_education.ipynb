{
 "cells": [
  {
   "cell_type": "code",
   "execution_count": null,
   "metadata": {},
   "outputs": [],
   "source": [
    "from configparser import ConfigParser\n",
    "\n",
    "config = ConfigParser()\n",
    "config.read(\"../config.ini\")\n",
    "\n",
    "root_path = config[\"admin\"][\"root_dir\"]\n",
    "bias_mitigation_path = config[\"admin\"][\"bias_mitigation\"]\n",
    "import sys\n",
    "\n",
    "sys.path.insert(1, root_path + bias_mitigation_path + \"classes\")\n",
    "\n",
    "from DecisionTree_insession import in_session_decision_tree\n",
    "from KNN_insession import in_session_KNN\n",
    "from MLP_insession import in_session_MLP\n",
    "from MetricsClass import Evaluation\n",
    "from Plotting import Plots\n",
    "\n",
    "import pandas as pd\n",
    "import seaborn as sns\n",
    "import pickle"
   ]
  },
  {
   "attachments": {},
   "cell_type": "markdown",
   "metadata": {},
   "source": [
    "Aggregation Bias Mitigation"
   ]
  },
  {
   "attachments": {},
   "cell_type": "markdown",
   "metadata": {},
   "source": [
    "Group 1: Parents with high school diploma (ABI)"
   ]
  },
  {
   "cell_type": "code",
   "execution_count": null,
   "metadata": {},
   "outputs": [],
   "source": [
    "# define feature cols\n",
    "feature_cols = [\n",
    "    \"Erstloesung\",\n",
    "    \"Schussel\",\n",
    "    \"Erfolg\",\n",
    "    \"Schwierigkeit\",\n",
    "    \"ist_Schulzeit\",\n",
    "    \"MehrfachFalsch\",\n",
    "    \"vorher_abgebrochen\",\n",
    "    \"Fehler\",\n",
    "    \"Klassenstufe\",\n",
    "    \"Jahredabei\",\n",
    "    \"Testposition__pruefung\",\n",
    "    \"Testposition__training\",\n",
    "    \"Testposition__version\",\n",
    "    \"Art__GK\",\n",
    "    \"Art__GR\",\n",
    "    \"Art__GZ\",\n",
    "    \"Art__K\",\n",
    "    \"Art__LB\",\n",
    "    \"UserAttribut\",\n",
    "    \"OrderNumber\",\n",
    "    \"steps\",\n",
    "]"
   ]
  },
  {
   "attachments": {},
   "cell_type": "markdown",
   "metadata": {},
   "source": [
    "Decision Tree Classifier"
   ]
  },
  {
   "cell_type": "code",
   "execution_count": null,
   "metadata": {},
   "outputs": [],
   "source": [
    "DTE = in_session_decision_tree()\n",
    "DTE.set_range(2, 61)\n",
    "DTE.set_demographic_category(\"AbiEltern\")\n",
    "DTE.set_majority_group(\"abi\")\n",
    "\n",
    "DTE.load_matrices_aggregation_bias(\n",
    "    \"05_aggregation_bias_mitigation/parental_education/matrix_abi\", \".pkl\", 1\n",
    ")\n",
    "\n",
    "DTE.set_feature_cols(feature_cols)\n",
    "metrics_DTE_abi = DTE.loop_matrices(\"parental_education/matrix_abi\", 5, 1, 2)"
   ]
  },
  {
   "attachments": {},
   "cell_type": "markdown",
   "metadata": {},
   "source": [
    "KNN"
   ]
  },
  {
   "cell_type": "code",
   "execution_count": null,
   "metadata": {},
   "outputs": [],
   "source": [
    "KNN = in_session_KNN()\n",
    "KNN.set_range(2, 61)\n",
    "KNN.set_majority_group(\"abi\")\n",
    "KNN.set_demographic_category(\"AbiEltern\")\n",
    "\n",
    "KNN.load_matrices_aggregation_bias(\n",
    "    \"05_aggregation_bias_mitigation/parental_education/matrix_abi\", \".pkl\", 1\n",
    ")\n",
    "KNN.set_feature_cols(feature_cols)\n",
    "\n",
    "metrics_KNN_abi = KNN.loop_matrices(\"parental_education/matrix_abi\", 2, \"uniform\")"
   ]
  },
  {
   "attachments": {},
   "cell_type": "markdown",
   "metadata": {},
   "source": [
    "MLP"
   ]
  },
  {
   "cell_type": "code",
   "execution_count": null,
   "metadata": {},
   "outputs": [],
   "source": [
    "MLP = in_session_MLP()\n",
    "MLP.set_range(2, 61)\n",
    "\n",
    "MLP.set_majority_group(\"abi\")\n",
    "MLP.set_demographic_category(\"AbiEltern\")\n",
    "\n",
    "MLP.load_matrices_aggregation_bias(\n",
    "    \"05_aggregation_bias_mitigation/parental_education/matrix_abi\", \".pkl\", 1\n",
    ")\n",
    "MLP.set_feature_cols(feature_cols)\n",
    "\n",
    "metrics_MLP_abi = MLP.loop_matrices(\n",
    "    \"parental_education/matrix_abi\", \"Adam\", \"binary_crossentropy\", \"accuracy\", 21, 21\n",
    ")"
   ]
  },
  {
   "attachments": {},
   "cell_type": "markdown",
   "metadata": {},
   "source": [
    "Group 2: keinAbi"
   ]
  },
  {
   "attachments": {},
   "cell_type": "markdown",
   "metadata": {},
   "source": [
    "Decision Tree Classifier"
   ]
  },
  {
   "cell_type": "code",
   "execution_count": null,
   "metadata": {},
   "outputs": [],
   "source": [
    "DTE = in_session_decision_tree()\n",
    "DTE.set_range(2, 61)\n",
    "DTE.set_demographic_category(\"AbiEltern\")\n",
    "DTE.set_majority_group(\"keinAbi\")\n",
    "\n",
    "DTE.load_matrices_aggregation_bias(\n",
    "    \"05_aggregation_bias_mitigation/parental_education/matrix_keinAbi\", \".pkl\", 0\n",
    ")\n",
    "\n",
    "DTE.set_feature_cols(feature_cols)\n",
    "\n",
    "metrics_DTE_kein_abi = DTE.loop_matrices(\"parental_education/matrix_keinAbi\", 5, 1, 2)"
   ]
  },
  {
   "attachments": {},
   "cell_type": "markdown",
   "metadata": {},
   "source": [
    "KNN"
   ]
  },
  {
   "cell_type": "code",
   "execution_count": null,
   "metadata": {},
   "outputs": [],
   "source": [
    "KNN = in_session_KNN()\n",
    "KNN.set_range(2, 61)\n",
    "\n",
    "KNN.set_majority_group(\"keinAbi\")\n",
    "KNN.set_demographic_category(\"AbiEltern\")\n",
    "\n",
    "KNN.load_matrices_aggregation_bias(\n",
    "    \"05_aggregation_bias_mitigation/parental_education/matrix_keinAbi\", \".pkl\", 0\n",
    ")\n",
    "KNN.set_feature_cols(feature_cols)\n",
    "\n",
    "metrics_KNN_kein_abi = KNN.loop_matrices(\n",
    "    \"parental_education/matrix_keinAbi\", 2, \"uniform\"\n",
    ")"
   ]
  },
  {
   "attachments": {},
   "cell_type": "markdown",
   "metadata": {},
   "source": [
    "MLP"
   ]
  },
  {
   "cell_type": "code",
   "execution_count": null,
   "metadata": {},
   "outputs": [],
   "source": [
    "MLP = in_session_MLP()\n",
    "MLP.set_range(2, 61)\n",
    "\n",
    "MLP.set_majority_group(\"keinAbi\")\n",
    "MLP.set_demographic_category(\"AbiEltern\")\n",
    "\n",
    "MLP.load_matrices_aggregation_bias(\n",
    "    \"05_aggregation_bias_mitigation/parental_education/matrix_keinAbi\", \".pkl\", 0\n",
    ")\n",
    "MLP.set_feature_cols(feature_cols)\n",
    "\n",
    "metrics_MLP_kein_abi = MLP.loop_matrices(\n",
    "    \"parental_education/matrix_keinAbi\",\n",
    "    \"Adam\",\n",
    "    \"binary_crossentropy\",\n",
    "    \"accuracy\",\n",
    "    21,\n",
    "    21,\n",
    ")"
   ]
  },
  {
   "cell_type": "markdown",
   "metadata": {},
   "source": [
    "Model metrics"
   ]
  },
  {
   "cell_type": "code",
   "execution_count": null,
   "metadata": {},
   "outputs": [],
   "source": [
    "metrics = pd.concat(\n",
    "    [\n",
    "        metrics_DTE_abi,\n",
    "        metrics_DTE_kein_abi,\n",
    "        metrics_KNN_abi,\n",
    "        metrics_KNN_kein_abi,\n",
    "        metrics_MLP_abi,\n",
    "        metrics_MLP_kein_abi,\n",
    "    ]\n",
    ")"
   ]
  },
  {
   "cell_type": "code",
   "execution_count": null,
   "metadata": {},
   "outputs": [],
   "source": [
    "## construct dfs for both groups from metric df\n",
    "grouped = metrics.groupby(metrics.subgroup)\n",
    "df_abi = grouped.get_group(\"abi\")\n",
    "df_keinAbi = grouped.get_group(\"keinAbi\")\n",
    "\n",
    "# clean wording\n",
    "df_abi[\"model\"] = df_abi[\"model\"].replace([\"DL\"], \"MLP\")\n",
    "df_keinAbi[\"model\"] = df_keinAbi[\"model\"].replace([\"DL\"], \"MLP\")"
   ]
  },
  {
   "cell_type": "markdown",
   "metadata": {},
   "source": [
    "Evaluation"
   ]
  },
  {
   "cell_type": "code",
   "execution_count": null,
   "metadata": {},
   "outputs": [],
   "source": [
    "# evaluate metrics for fairness\n",
    "evaluation_obj = Evaluation(metrics)\n",
    "evaluation_obj.set_demographic_category(\"AbiEltern\")\n",
    "evaluation_obj.set_minority_group(\"abi\")\n",
    "evaluation_obj.set_majority_group(\"keinAbi\")\n",
    "df_AbiEltern = evaluation_obj.evaluate()"
   ]
  },
  {
   "cell_type": "code",
   "execution_count": null,
   "metadata": {},
   "outputs": [],
   "source": [
    "# show table\n",
    "table = evaluation_obj.showTable(df_AbiEltern)\n",
    "table"
   ]
  },
  {
   "cell_type": "code",
   "execution_count": null,
   "metadata": {},
   "outputs": [],
   "source": [
    "# save\n",
    "writer = pd.ExcelWriter(\"df_parental_edu_AggBias.xlsx\", engine=\"xlsxwriter\")\n",
    "df_AbiEltern.to_excel(writer, sheet_name=\"parental_edu\")\n",
    "writer.save()"
   ]
  }
 ],
 "metadata": {
  "kernelspec": {
   "display_name": "Python 3.10.2 64-bit",
   "language": "python",
   "name": "python3"
  },
  "language_info": {
   "codemirror_mode": {
    "name": "ipython",
    "version": 3
   },
   "file_extension": ".py",
   "mimetype": "text/x-python",
   "name": "python",
   "nbconvert_exporter": "python",
   "pygments_lexer": "ipython3",
   "version": "3.10.2"
  },
  "orig_nbformat": 4,
  "vscode": {
   "interpreter": {
    "hash": "369f2c481f4da34e4445cda3fffd2e751bd1c4d706f27375911949ba6bb62e1c"
   }
  }
 },
 "nbformat": 4,
 "nbformat_minor": 2
}
