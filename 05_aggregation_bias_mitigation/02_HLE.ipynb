{
 "cells": [
  {
   "cell_type": "code",
   "execution_count": null,
   "metadata": {},
   "outputs": [],
   "source": [
    "path = \"c:/Users/Nathalie/Nextcloud/LADi/Orthografie Trainer/Code/04_bias_mitigation/\"\n",
    "\n",
    "import sys\n",
    "\n",
    "sys.path.insert(1, path + \"classes\")\n",
    "\n",
    "from DecisionTree_insession import in_session_decision_tree\n",
    "from KNN_insession import in_session_KNN\n",
    "from MLP_insession import in_session_MLP\n",
    "from MetricsClass import Evaluation\n",
    "from Plotting import Plots\n",
    "\n",
    "import pandas as pd\n",
    "import seaborn as sns\n",
    "import pickle"
   ]
  },
  {
   "attachments": {},
   "cell_type": "markdown",
   "metadata": {},
   "source": [
    "Aggregation Bias Mitigation"
   ]
  },
  {
   "attachments": {},
   "cell_type": "markdown",
   "metadata": {},
   "source": [
    "Group 1: Book 0"
   ]
  },
  {
   "cell_type": "code",
   "execution_count": null,
   "metadata": {},
   "outputs": [],
   "source": [
    "## define feature cols\n",
    "feature_cols = [\n",
    "    \"Erstloesung\",\n",
    "    \"Schussel\",\n",
    "    \"Erfolg\",\n",
    "    \"Schwierigkeit\",\n",
    "    \"ist_Schulzeit\",\n",
    "    \"MehrfachFalsch\",\n",
    "    \"vorher_abgebrochen\",\n",
    "    \"Fehler\",\n",
    "    \"Klassenstufe\",\n",
    "    \"Jahredabei\",\n",
    "    \"Testposition__pruefung\",\n",
    "    \"Testposition__training\",\n",
    "    \"Testposition__version\",\n",
    "    \"Art__GK\",\n",
    "    \"Art__GR\",\n",
    "    \"Art__GZ\",\n",
    "    \"Art__K\",\n",
    "    \"Art__LB\",\n",
    "    \"UserAttribut\",\n",
    "    \"OrderNumber\",\n",
    "    \"steps\"\n",
    "]"
   ]
  },
  {
   "attachments": {},
   "cell_type": "markdown",
   "metadata": {},
   "source": [
    "Decision Tree Classifier"
   ]
  },
  {
   "cell_type": "code",
   "execution_count": null,
   "metadata": {},
   "outputs": [],
   "source": [
    "DTE = in_session_decision_tree()\n",
    "DTE.set_range(2, 61)\n",
    "DTE.set_majority_group(\"buecher_0\")\n",
    "DTE.set_demographic_category(\"Buecher\")\n",
    "\n",
    "DTE.load_matrices_aggregation_bias(\"05_aggregation_bias_mitigation/books/matrix_buch0\", \".pkl\", 0)\n",
    "DTE.set_feature_cols(feature_cols)\n",
    "\n",
    "metrics_DTE_buch0 = DTE.loop_matrices(\"books/matrix_buch0\", 5, 1, 2)"
   ]
  },
  {
   "attachments": {},
   "cell_type": "markdown",
   "metadata": {},
   "source": [
    "KNN"
   ]
  },
  {
   "cell_type": "code",
   "execution_count": null,
   "metadata": {},
   "outputs": [],
   "source": [
    "KNN = in_session_KNN()\n",
    "KNN.set_range(2, 61)\n",
    "KNN.set_majority_group(\"buecher_0\")\n",
    "KNN.set_demographic_category(\"Buecher\")\n",
    "\n",
    "KNN.load_matrices_aggregation_bias(\"05_aggregation_bias_mitigation/books/matrix_buch0\", \".pkl\", 0)\n",
    "\n",
    "KNN.set_feature_cols(feature_cols)\n",
    "\n",
    "KNN.set_majority_group(\"buecher_0\")\n",
    "metrics_KNN_buch0 = KNN.loop_matrices(\"books/matrix_buch0\", 2, \"uniform\")"
   ]
  },
  {
   "attachments": {},
   "cell_type": "markdown",
   "metadata": {},
   "source": [
    "MLP"
   ]
  },
  {
   "cell_type": "code",
   "execution_count": null,
   "metadata": {},
   "outputs": [],
   "source": [
    "MLP = in_session_MLP()\n",
    "MLP.set_range(2, 61)\n",
    "\n",
    "MLP.set_majority_group(\"buecher_0\")\n",
    "MLP.set_demographic_category(\"Buecher\")\n",
    "\n",
    "MLP.load_matrices_aggregation_bias(\"05_aggregation_bias_mitigation/books/matrix_buch0\", \".pkl\", 0)\n",
    "\n",
    "MLP.set_feature_cols(feature_cols)\n",
    "\n",
    "metrics_MLP_buch0 = MLP.loop_matrices(\n",
    "    \"books/matrix_buch0\", \"Adam\", \"binary_crossentropy\", \"accuracy\", 21, 21\n",
    ")"
   ]
  },
  {
   "attachments": {},
   "cell_type": "markdown",
   "metadata": {},
   "source": [
    "Group 2: Buch 1"
   ]
  },
  {
   "attachments": {},
   "cell_type": "markdown",
   "metadata": {},
   "source": [
    "Decision Tree Classifier"
   ]
  },
  {
   "cell_type": "code",
   "execution_count": null,
   "metadata": {},
   "outputs": [],
   "source": [
    "DTE = in_session_decision_tree()\n",
    "DTE.set_range(2, 61)\n",
    "DTE.set_majority_group(\"buecher_1\")\n",
    "DTE.set_demographic_category(\"Buecher\")\n",
    "\n",
    "DTE.load_matrices_aggregation_bias(\"05_aggregation_bias_mitigation/books/matrix_buch1\", \".pkl\", 1)\n",
    "\n",
    "DTE.set_feature_cols(feature_cols)\n",
    "\n",
    "\n",
    "metrics_DTE_buch1 = DTE.loop_matrices(\"books/matrix_buch1\", 5, 1, 2)"
   ]
  },
  {
   "attachments": {},
   "cell_type": "markdown",
   "metadata": {},
   "source": [
    "KNN"
   ]
  },
  {
   "cell_type": "code",
   "execution_count": null,
   "metadata": {},
   "outputs": [],
   "source": [
    "KNN = in_session_KNN()\n",
    "KNN.set_range(2, 61)\n",
    "KNN.set_majority_group(\"buecher_1\")\n",
    "KNN.set_demographic_category(\"Buecher\")\n",
    "\n",
    "KNN.load_matrices_aggregation_bias(\"05_aggregation_bias_mitigation/books/matrix_buch1\", \".pkl\", 1)\n",
    "\n",
    "KNN.set_feature_cols(feature_cols)\n",
    "\n",
    "metrics_KNN_buch1 = KNN.loop_matrices(\"books/matrix_buch1\", 2, \"uniform\")"
   ]
  },
  {
   "attachments": {},
   "cell_type": "markdown",
   "metadata": {},
   "source": [
    "MLP"
   ]
  },
  {
   "cell_type": "code",
   "execution_count": null,
   "metadata": {},
   "outputs": [],
   "source": [
    "MLP = in_session_MLP()\n",
    "MLP.set_range(2, 61)\n",
    "\n",
    "MLP.set_majority_group(\"buecher_1\")\n",
    "MLP.set_demographic_category(\"Buecher\")\n",
    "\n",
    "MLP.load_matrices_aggregation_bias(\"05_aggregation_bias_mitigation/books/matrix_buch1\", \".pkl\", 1)\n",
    "\n",
    "MLP.set_feature_cols(feature_cols)\n",
    "\n",
    "metrics_MLP_buch1 = MLP.loop_matrices(\n",
    "    \"books/matrix_buch1\", \"Adam\", \"binary_crossentropy\", \"accuracy\", 21, 21\n",
    ")"
   ]
  },
  {
   "cell_type": "markdown",
   "metadata": {},
   "source": [
    "Model metrics"
   ]
  },
  {
   "cell_type": "code",
   "execution_count": null,
   "metadata": {},
   "outputs": [],
   "source": [
    "metrics = pd.concat([metrics_DTE_buch1, metrics_DTE_buch0, metrics_KNN_buch1, metrics_KNN_buch0, metrics_MLP_buch1, metrics_MLP_buch0])\n"
   ]
  },
  {
   "cell_type": "code",
   "execution_count": null,
   "metadata": {},
   "outputs": [],
   "source": [
    "## construct dfs for both groups from metric df\n",
    "grouped = metrics.groupby(metrics.subgroup)\n",
    "df_buch0 = grouped.get_group(\"buecher_0\")\n",
    "df_buch1 = grouped.get_group(\"buecher_1\")"
   ]
  },
  {
   "cell_type": "markdown",
   "metadata": {},
   "source": [
    "Evaluation"
   ]
  },
  {
   "cell_type": "code",
   "execution_count": null,
   "metadata": {},
   "outputs": [],
   "source": [
    "# evaluate metrics for fairness\n",
    "evaluation_obj = Evaluation(metrics)\n",
    "evaluation_obj.set_demographic_category(\"Buecher\")\n",
    "evaluation_obj.set_minority_group(\"buecher_1\")\n",
    "evaluation_obj.set_majority_group(\"buecher_0\")\n",
    "df_buecher = evaluation_obj.evaluate()"
   ]
  },
  {
   "cell_type": "code",
   "execution_count": null,
   "metadata": {},
   "outputs": [],
   "source": [
    "# show table\n",
    "table = evaluation_obj.showTable(df_buecher)\n",
    "table"
   ]
  },
  {
   "cell_type": "code",
   "execution_count": null,
   "metadata": {},
   "outputs": [],
   "source": [
    "# save\n",
    "writer = pd.ExcelWriter(\"df_HLE_AggBias.xlsx\", engine=\"xlsxwriter\")\n",
    "df_buecher.to_excel(writer, sheet_name=\"HLE\")\n",
    "writer.save()"
   ]
  }
 ],
 "metadata": {
  "kernelspec": {
   "display_name": "Python 3.10.2 64-bit",
   "language": "python",
   "name": "python3"
  },
  "language_info": {
   "codemirror_mode": {
    "name": "ipython",
    "version": 3
   },
   "file_extension": ".py",
   "mimetype": "text/x-python",
   "name": "python",
   "nbconvert_exporter": "python",
   "pygments_lexer": "ipython3",
   "version": "3.10.2"
  },
  "orig_nbformat": 4,
  "vscode": {
   "interpreter": {
    "hash": "369f2c481f4da34e4445cda3fffd2e751bd1c4d706f27375911949ba6bb62e1c"
   }
  }
 },
 "nbformat": 4,
 "nbformat_minor": 2
}
