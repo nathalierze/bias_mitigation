{
 "cells": [
  {
   "cell_type": "code",
   "execution_count": 2,
   "metadata": {},
   "outputs": [],
   "source": [
    "import pandas as pd\n",
    "import pickle\n",
    "import seaborn as sns\n",
    "import numpy as np\n",
    "from sklearn.tree import DecisionTreeClassifier\n",
    "from sklearn.model_selection import train_test_split\n",
    "from sklearn.neighbors import KNeighborsClassifier\n",
    "from sklearn import tree\n",
    "from matplotlib import pyplot as plt\n",
    "from sklearn.model_selection import cross_val_score, KFold, StratifiedKFold\n",
    "from sklearn.preprocessing import StandardScaler\n",
    "from sklearn.model_selection import train_test_split\n",
    "from sklearn.metrics import (\n",
    "    log_loss,\n",
    "    roc_auc_score,\n",
    "    recall_score,\n",
    "    precision_score,\n",
    "    accuracy_score,\n",
    "    plot_roc_curve,\n",
    "    plot_confusion_matrix,\n",
    "    roc_curve,\n",
    "    confusion_matrix,\n",
    ")\n",
    "import itertools\n",
    "from tensorflow.keras.initializers import Constant, TruncatedNormal\n",
    "from tensorflow.keras.layers import Activation, Dense\n",
    "from tensorflow.keras.models import Sequential\n",
    "from tensorflow.keras.optimizers import Adam\n",
    "from tensorflow.keras.utils import to_categorical\n",
    "from tensorflow.keras.wrappers.scikit_learn import KerasClassifier\n",
    "from sklearn.preprocessing import LabelEncoder\n",
    "from numpy import mean, absolute\n",
    "\n",
    "# Oversampling and under sampling\n",
    "from imblearn.over_sampling import RandomOverSampler, SMOTE\n",
    "from imblearn.under_sampling import RandomUnderSampler, NearMiss\n",
    "from collections import Counter"
   ]
  },
  {
   "attachments": {},
   "cell_type": "markdown",
   "metadata": {},
   "source": [
    "Measurement Bias Mitigation: drop correlating features => count of tasks\n"
   ]
  },
  {
   "cell_type": "code",
   "execution_count": 5,
   "metadata": {},
   "outputs": [],
   "source": [
    "## define count of n from temporal models\n",
    "n = list(range(2, 61))"
   ]
  },
  {
   "cell_type": "code",
   "execution_count": null,
   "metadata": {},
   "outputs": [],
   "source": [
    "## load data per matrix\n",
    "for i in n:\n",
    "    path = (\n",
    "        \"../../02_dropout_prediction/01_keep_it_up/matrices_allsessions/matrix\"\n",
    "        + str(i)\n",
    "        + \".pkl\"\n",
    "    )\n",
    "    infile = open(path, \"rb\")\n",
    "    df = pickle.load(infile)\n",
    "    infile.close()\n",
    "    df = df.reset_index(level=0)\n",
    "\n",
    "    df_1 = df[df.Sex__m == 1]\n",
    "    df_0 = df[df.Sex__w == 1]\n",
    "    df = pd.concat([df_0, df_1])\n",
    "\n",
    "    # save\n",
    "    path = \"gender_measurement/matrix\" + str(i) + \".pkl\"\n",
    "    df.to_pickle(path)"
   ]
  },
  {
   "cell_type": "markdown",
   "metadata": {},
   "source": [
    "Models"
   ]
  },
  {
   "cell_type": "code",
   "execution_count": 3,
   "metadata": {},
   "outputs": [],
   "source": [
    "## define metrics dataframe\n",
    "metrics = pd.DataFrame(\n",
    "    columns=[\n",
    "        \"model\",\n",
    "        \"group\",\n",
    "        \"subgroup\",\n",
    "        \"Length\",\n",
    "        \"Sentence\",\n",
    "        \"Accuracy\",\n",
    "        \"Precision\",\n",
    "        \"Recall\",\n",
    "        \"AUC\",\n",
    "        \"FPR\",\n",
    "    ]\n",
    ")"
   ]
  },
  {
   "cell_type": "code",
   "execution_count": 4,
   "metadata": {},
   "outputs": [],
   "source": [
    "## define feature cols\n",
    "feature_cols = [\n",
    "    \"Erstloesung\",\n",
    "    \"Schussel\",\n",
    "    \"Erfolg\",\n",
    "    \"Schwierigkeit\",\n",
    "    \"ist_Schulzeit\",\n",
    "    \"MehrfachFalsch\",\n",
    "    \"vorher_abgebrochen\",\n",
    "    \"Fehler\",\n",
    "    \"Klassenstufe\",\n",
    "    \"Jahredabei\",\n",
    "    \"Sex__m\",\n",
    "    \"Sex__w\",\n",
    "    \"Testposition__pruefung\",\n",
    "    \"Testposition__training\",\n",
    "    \"Testposition__version\",\n",
    "    \"Art__GK\",\n",
    "    \"Art__GR\",\n",
    "    \"Art__GZ\",\n",
    "    \"Art__K\",\n",
    "    \"Art__LB\",\n",
    "    \"UserAttribut\",\n",
    "    \"OrderNumber\",\n",
    "    \"steps\",\n",
    "]"
   ]
  },
  {
   "cell_type": "code",
   "execution_count": 6,
   "metadata": {},
   "outputs": [],
   "source": [
    "\"\"\"\n",
    "calculate and extract relevant metrics from y and pred\n",
    "return metrics\n",
    "\"\"\"\n",
    "\n",
    "\n",
    "def get_metrics(clf, X, y, cv, pred):\n",
    "    a = accuracy_score(y, pred)\n",
    "    p = precision_score(y, pred)\n",
    "    r = recall_score(y, pred)\n",
    "    roc_auc = roc_auc_score(y, pred)\n",
    "    tn, fp, fn, tp = confusion_matrix(y, pred).ravel()\n",
    "    fpr = fp / (fp + tn)\n",
    "\n",
    "    return a, p, r, roc_auc, fpr"
   ]
  },
  {
   "attachments": {},
   "cell_type": "markdown",
   "metadata": {},
   "source": [
    "Decision Tree Classifier"
   ]
  },
  {
   "cell_type": "code",
   "execution_count": null,
   "metadata": {},
   "outputs": [],
   "source": [
    "## model fitting and validation for each subgroup\n",
    "\n",
    "# loop through matrices\n",
    "for i in n:\n",
    "    path = \"gender_measurement/matrix\" + str(i) + \".pkl\"\n",
    "    infile = open(path, \"rb\")\n",
    "    df = pickle.load(infile)\n",
    "    infile.close()\n",
    "    df = df.reset_index()\n",
    "    X = df[feature_cols]\n",
    "    y = df.y\n",
    "    y = y.astype(\"int\")\n",
    "    X_train, X_test, y_train, y_test = train_test_split(\n",
    "        X, y, test_size=0.3, random_state=1\n",
    "    )\n",
    "    k = 5\n",
    "    cv = KFold(n_splits=k, random_state=None)\n",
    "\n",
    "    # fit\n",
    "    clf = DecisionTreeClassifier(criterion=\"entropy\", max_depth=5)\n",
    "    clf = clf.fit(X_train, y_train)\n",
    "    pred = clf.predict(X_test)\n",
    "\n",
    "    a, p, r, roc_auc, fpr = get_metrics(clf, X_test, y_test, cv, pred)\n",
    "    metrics = metrics.append(\n",
    "        {\n",
    "            \"model\": \"DTE\",\n",
    "            \"group\": \"all\",\n",
    "            \"subgroup\": \"all\",\n",
    "            \"Length\": len(df),\n",
    "            \"Sentence\": i,\n",
    "            \"Accuracy\": a,\n",
    "            \"Precision\": p,\n",
    "            \"Recall\": r,\n",
    "            \"AUC\": roc_auc,\n",
    "            \"FPR\": fpr,\n",
    "        },\n",
    "        ignore_index=True,\n",
    "    )\n",
    "\n",
    "    ##\n",
    "    # let the model above predict for each subgroup and save results to evaluate later\n",
    "    group = [\"gender\", \"gender\"]\n",
    "    subgroup = [\"boys\", \"girls\"]\n",
    "    matrice = [\"matrices_forte_boys\", \"matrices_forte_girls\"]\n",
    "\n",
    "    for group, subgroup, matrix in zip(group, subgroup, matrice):\n",
    "        path = (\n",
    "            \"../../02_dropout_prediction/01_keep_it_up/\"\n",
    "            + matrix\n",
    "            + \"/matrix\"\n",
    "            + str(i)\n",
    "            + \".pkl\"\n",
    "        )\n",
    "        infile = open(path, \"rb\")\n",
    "        df = pickle.load(infile)\n",
    "        infile.close()\n",
    "        df = df.reset_index()\n",
    "        X = df[feature_cols]\n",
    "        y = df.y\n",
    "        y = y.astype(\"int\")\n",
    "        pred = clf.predict(X)\n",
    "\n",
    "        a, p, r, roc_auc, fpr = get_metrics(clf, X, y, cv, pred)\n",
    "        metrics = metrics.append(\n",
    "            {\n",
    "                \"model\": \"DTE\",\n",
    "                \"group\": group,\n",
    "                \"subgroup\": subgroup,\n",
    "                \"Length\": len(df),\n",
    "                \"Sentence\": i,\n",
    "                \"Accuracy\": a,\n",
    "                \"Precision\": p,\n",
    "                \"Recall\": r,\n",
    "                \"AUC\": roc_auc,\n",
    "                \"FPR\": fpr,\n",
    "            },\n",
    "            ignore_index=True,\n",
    "        )"
   ]
  },
  {
   "attachments": {},
   "cell_type": "markdown",
   "metadata": {},
   "source": [
    "KNN"
   ]
  },
  {
   "cell_type": "code",
   "execution_count": 8,
   "metadata": {},
   "outputs": [
    {
     "name": "stderr",
     "output_type": "stream",
     "text": [
      "C:\\Users\\Nathalie\\AppData\\Local\\Temp\\ipykernel_13344\\1552020202.py:25: FutureWarning: The frame.append method is deprecated and will be removed from pandas in a future version. Use pandas.concat instead.\n",
      "  metrics = metrics.append(\n",
      "C:\\Users\\Nathalie\\AppData\\Local\\Temp\\ipykernel_13344\\1552020202.py:65: FutureWarning: The frame.append method is deprecated and will be removed from pandas in a future version. Use pandas.concat instead.\n",
      "  metrics = metrics.append(\n",
      "C:\\Users\\Nathalie\\AppData\\Local\\Temp\\ipykernel_13344\\1552020202.py:65: FutureWarning: The frame.append method is deprecated and will be removed from pandas in a future version. Use pandas.concat instead.\n",
      "  metrics = metrics.append(\n",
      "C:\\Users\\Nathalie\\AppData\\Local\\Temp\\ipykernel_13344\\1552020202.py:25: FutureWarning: The frame.append method is deprecated and will be removed from pandas in a future version. Use pandas.concat instead.\n",
      "  metrics = metrics.append(\n",
      "C:\\Users\\Nathalie\\AppData\\Local\\Temp\\ipykernel_13344\\1552020202.py:65: FutureWarning: The frame.append method is deprecated and will be removed from pandas in a future version. Use pandas.concat instead.\n",
      "  metrics = metrics.append(\n",
      "C:\\Users\\Nathalie\\AppData\\Local\\Temp\\ipykernel_13344\\1552020202.py:65: FutureWarning: The frame.append method is deprecated and will be removed from pandas in a future version. Use pandas.concat instead.\n",
      "  metrics = metrics.append(\n",
      "C:\\Users\\Nathalie\\AppData\\Local\\Temp\\ipykernel_13344\\1552020202.py:25: FutureWarning: The frame.append method is deprecated and will be removed from pandas in a future version. Use pandas.concat instead.\n",
      "  metrics = metrics.append(\n",
      "C:\\Users\\Nathalie\\AppData\\Local\\Temp\\ipykernel_13344\\1552020202.py:65: FutureWarning: The frame.append method is deprecated and will be removed from pandas in a future version. Use pandas.concat instead.\n",
      "  metrics = metrics.append(\n",
      "C:\\Users\\Nathalie\\AppData\\Local\\Temp\\ipykernel_13344\\1552020202.py:65: FutureWarning: The frame.append method is deprecated and will be removed from pandas in a future version. Use pandas.concat instead.\n",
      "  metrics = metrics.append(\n",
      "C:\\Users\\Nathalie\\AppData\\Local\\Temp\\ipykernel_13344\\1552020202.py:25: FutureWarning: The frame.append method is deprecated and will be removed from pandas in a future version. Use pandas.concat instead.\n",
      "  metrics = metrics.append(\n",
      "C:\\Users\\Nathalie\\AppData\\Local\\Temp\\ipykernel_13344\\1552020202.py:65: FutureWarning: The frame.append method is deprecated and will be removed from pandas in a future version. Use pandas.concat instead.\n",
      "  metrics = metrics.append(\n",
      "C:\\Users\\Nathalie\\AppData\\Local\\Temp\\ipykernel_13344\\1552020202.py:65: FutureWarning: The frame.append method is deprecated and will be removed from pandas in a future version. Use pandas.concat instead.\n",
      "  metrics = metrics.append(\n",
      "C:\\Users\\Nathalie\\AppData\\Local\\Temp\\ipykernel_13344\\1552020202.py:25: FutureWarning: The frame.append method is deprecated and will be removed from pandas in a future version. Use pandas.concat instead.\n",
      "  metrics = metrics.append(\n",
      "C:\\Users\\Nathalie\\AppData\\Local\\Temp\\ipykernel_13344\\1552020202.py:65: FutureWarning: The frame.append method is deprecated and will be removed from pandas in a future version. Use pandas.concat instead.\n",
      "  metrics = metrics.append(\n",
      "C:\\Users\\Nathalie\\AppData\\Local\\Temp\\ipykernel_13344\\1552020202.py:65: FutureWarning: The frame.append method is deprecated and will be removed from pandas in a future version. Use pandas.concat instead.\n",
      "  metrics = metrics.append(\n",
      "C:\\Users\\Nathalie\\AppData\\Local\\Temp\\ipykernel_13344\\1552020202.py:25: FutureWarning: The frame.append method is deprecated and will be removed from pandas in a future version. Use pandas.concat instead.\n",
      "  metrics = metrics.append(\n",
      "C:\\Users\\Nathalie\\AppData\\Local\\Temp\\ipykernel_13344\\1552020202.py:65: FutureWarning: The frame.append method is deprecated and will be removed from pandas in a future version. Use pandas.concat instead.\n",
      "  metrics = metrics.append(\n",
      "C:\\Users\\Nathalie\\AppData\\Local\\Temp\\ipykernel_13344\\1552020202.py:65: FutureWarning: The frame.append method is deprecated and will be removed from pandas in a future version. Use pandas.concat instead.\n",
      "  metrics = metrics.append(\n",
      "C:\\Users\\Nathalie\\AppData\\Local\\Temp\\ipykernel_13344\\1552020202.py:25: FutureWarning: The frame.append method is deprecated and will be removed from pandas in a future version. Use pandas.concat instead.\n",
      "  metrics = metrics.append(\n",
      "C:\\Users\\Nathalie\\AppData\\Local\\Temp\\ipykernel_13344\\1552020202.py:65: FutureWarning: The frame.append method is deprecated and will be removed from pandas in a future version. Use pandas.concat instead.\n",
      "  metrics = metrics.append(\n",
      "C:\\Users\\Nathalie\\AppData\\Local\\Temp\\ipykernel_13344\\1552020202.py:65: FutureWarning: The frame.append method is deprecated and will be removed from pandas in a future version. Use pandas.concat instead.\n",
      "  metrics = metrics.append(\n",
      "C:\\Users\\Nathalie\\AppData\\Local\\Temp\\ipykernel_13344\\1552020202.py:25: FutureWarning: The frame.append method is deprecated and will be removed from pandas in a future version. Use pandas.concat instead.\n",
      "  metrics = metrics.append(\n",
      "C:\\Users\\Nathalie\\AppData\\Local\\Temp\\ipykernel_13344\\1552020202.py:65: FutureWarning: The frame.append method is deprecated and will be removed from pandas in a future version. Use pandas.concat instead.\n",
      "  metrics = metrics.append(\n",
      "C:\\Users\\Nathalie\\AppData\\Local\\Temp\\ipykernel_13344\\1552020202.py:65: FutureWarning: The frame.append method is deprecated and will be removed from pandas in a future version. Use pandas.concat instead.\n",
      "  metrics = metrics.append(\n",
      "C:\\Users\\Nathalie\\AppData\\Local\\Temp\\ipykernel_13344\\1552020202.py:25: FutureWarning: The frame.append method is deprecated and will be removed from pandas in a future version. Use pandas.concat instead.\n",
      "  metrics = metrics.append(\n",
      "C:\\Users\\Nathalie\\AppData\\Local\\Temp\\ipykernel_13344\\1552020202.py:65: FutureWarning: The frame.append method is deprecated and will be removed from pandas in a future version. Use pandas.concat instead.\n",
      "  metrics = metrics.append(\n",
      "C:\\Users\\Nathalie\\AppData\\Local\\Temp\\ipykernel_13344\\1552020202.py:65: FutureWarning: The frame.append method is deprecated and will be removed from pandas in a future version. Use pandas.concat instead.\n",
      "  metrics = metrics.append(\n",
      "C:\\Users\\Nathalie\\AppData\\Local\\Temp\\ipykernel_13344\\1552020202.py:25: FutureWarning: The frame.append method is deprecated and will be removed from pandas in a future version. Use pandas.concat instead.\n",
      "  metrics = metrics.append(\n",
      "C:\\Users\\Nathalie\\AppData\\Local\\Temp\\ipykernel_13344\\1552020202.py:65: FutureWarning: The frame.append method is deprecated and will be removed from pandas in a future version. Use pandas.concat instead.\n",
      "  metrics = metrics.append(\n",
      "C:\\Users\\Nathalie\\AppData\\Local\\Temp\\ipykernel_13344\\1552020202.py:65: FutureWarning: The frame.append method is deprecated and will be removed from pandas in a future version. Use pandas.concat instead.\n",
      "  metrics = metrics.append(\n",
      "C:\\Users\\Nathalie\\AppData\\Local\\Temp\\ipykernel_13344\\1552020202.py:25: FutureWarning: The frame.append method is deprecated and will be removed from pandas in a future version. Use pandas.concat instead.\n",
      "  metrics = metrics.append(\n",
      "C:\\Users\\Nathalie\\AppData\\Local\\Temp\\ipykernel_13344\\1552020202.py:65: FutureWarning: The frame.append method is deprecated and will be removed from pandas in a future version. Use pandas.concat instead.\n",
      "  metrics = metrics.append(\n",
      "C:\\Users\\Nathalie\\AppData\\Local\\Temp\\ipykernel_13344\\1552020202.py:65: FutureWarning: The frame.append method is deprecated and will be removed from pandas in a future version. Use pandas.concat instead.\n",
      "  metrics = metrics.append(\n",
      "C:\\Users\\Nathalie\\AppData\\Local\\Temp\\ipykernel_13344\\1552020202.py:25: FutureWarning: The frame.append method is deprecated and will be removed from pandas in a future version. Use pandas.concat instead.\n",
      "  metrics = metrics.append(\n",
      "C:\\Users\\Nathalie\\AppData\\Local\\Temp\\ipykernel_13344\\1552020202.py:65: FutureWarning: The frame.append method is deprecated and will be removed from pandas in a future version. Use pandas.concat instead.\n",
      "  metrics = metrics.append(\n",
      "C:\\Users\\Nathalie\\AppData\\Local\\Temp\\ipykernel_13344\\1552020202.py:65: FutureWarning: The frame.append method is deprecated and will be removed from pandas in a future version. Use pandas.concat instead.\n",
      "  metrics = metrics.append(\n",
      "C:\\Users\\Nathalie\\AppData\\Local\\Temp\\ipykernel_13344\\1552020202.py:25: FutureWarning: The frame.append method is deprecated and will be removed from pandas in a future version. Use pandas.concat instead.\n",
      "  metrics = metrics.append(\n",
      "C:\\Users\\Nathalie\\AppData\\Local\\Temp\\ipykernel_13344\\1552020202.py:65: FutureWarning: The frame.append method is deprecated and will be removed from pandas in a future version. Use pandas.concat instead.\n",
      "  metrics = metrics.append(\n",
      "C:\\Users\\Nathalie\\AppData\\Local\\Temp\\ipykernel_13344\\1552020202.py:65: FutureWarning: The frame.append method is deprecated and will be removed from pandas in a future version. Use pandas.concat instead.\n",
      "  metrics = metrics.append(\n",
      "C:\\Users\\Nathalie\\AppData\\Local\\Temp\\ipykernel_13344\\1552020202.py:25: FutureWarning: The frame.append method is deprecated and will be removed from pandas in a future version. Use pandas.concat instead.\n",
      "  metrics = metrics.append(\n",
      "C:\\Users\\Nathalie\\AppData\\Local\\Temp\\ipykernel_13344\\1552020202.py:65: FutureWarning: The frame.append method is deprecated and will be removed from pandas in a future version. Use pandas.concat instead.\n",
      "  metrics = metrics.append(\n",
      "C:\\Users\\Nathalie\\AppData\\Local\\Temp\\ipykernel_13344\\1552020202.py:65: FutureWarning: The frame.append method is deprecated and will be removed from pandas in a future version. Use pandas.concat instead.\n",
      "  metrics = metrics.append(\n",
      "C:\\Users\\Nathalie\\AppData\\Local\\Temp\\ipykernel_13344\\1552020202.py:25: FutureWarning: The frame.append method is deprecated and will be removed from pandas in a future version. Use pandas.concat instead.\n",
      "  metrics = metrics.append(\n",
      "C:\\Users\\Nathalie\\AppData\\Local\\Temp\\ipykernel_13344\\1552020202.py:65: FutureWarning: The frame.append method is deprecated and will be removed from pandas in a future version. Use pandas.concat instead.\n",
      "  metrics = metrics.append(\n",
      "C:\\Users\\Nathalie\\AppData\\Local\\Temp\\ipykernel_13344\\1552020202.py:65: FutureWarning: The frame.append method is deprecated and will be removed from pandas in a future version. Use pandas.concat instead.\n",
      "  metrics = metrics.append(\n",
      "C:\\Users\\Nathalie\\AppData\\Local\\Temp\\ipykernel_13344\\1552020202.py:25: FutureWarning: The frame.append method is deprecated and will be removed from pandas in a future version. Use pandas.concat instead.\n",
      "  metrics = metrics.append(\n",
      "C:\\Users\\Nathalie\\AppData\\Local\\Temp\\ipykernel_13344\\1552020202.py:65: FutureWarning: The frame.append method is deprecated and will be removed from pandas in a future version. Use pandas.concat instead.\n",
      "  metrics = metrics.append(\n",
      "C:\\Users\\Nathalie\\AppData\\Local\\Temp\\ipykernel_13344\\1552020202.py:65: FutureWarning: The frame.append method is deprecated and will be removed from pandas in a future version. Use pandas.concat instead.\n",
      "  metrics = metrics.append(\n",
      "C:\\Users\\Nathalie\\AppData\\Local\\Temp\\ipykernel_13344\\1552020202.py:25: FutureWarning: The frame.append method is deprecated and will be removed from pandas in a future version. Use pandas.concat instead.\n",
      "  metrics = metrics.append(\n",
      "C:\\Users\\Nathalie\\AppData\\Local\\Temp\\ipykernel_13344\\1552020202.py:65: FutureWarning: The frame.append method is deprecated and will be removed from pandas in a future version. Use pandas.concat instead.\n",
      "  metrics = metrics.append(\n",
      "C:\\Users\\Nathalie\\AppData\\Local\\Temp\\ipykernel_13344\\1552020202.py:65: FutureWarning: The frame.append method is deprecated and will be removed from pandas in a future version. Use pandas.concat instead.\n",
      "  metrics = metrics.append(\n",
      "C:\\Users\\Nathalie\\AppData\\Local\\Temp\\ipykernel_13344\\1552020202.py:25: FutureWarning: The frame.append method is deprecated and will be removed from pandas in a future version. Use pandas.concat instead.\n",
      "  metrics = metrics.append(\n",
      "C:\\Users\\Nathalie\\AppData\\Local\\Temp\\ipykernel_13344\\1552020202.py:65: FutureWarning: The frame.append method is deprecated and will be removed from pandas in a future version. Use pandas.concat instead.\n",
      "  metrics = metrics.append(\n",
      "C:\\Users\\Nathalie\\AppData\\Local\\Temp\\ipykernel_13344\\1552020202.py:65: FutureWarning: The frame.append method is deprecated and will be removed from pandas in a future version. Use pandas.concat instead.\n",
      "  metrics = metrics.append(\n",
      "C:\\Users\\Nathalie\\AppData\\Local\\Temp\\ipykernel_13344\\1552020202.py:25: FutureWarning: The frame.append method is deprecated and will be removed from pandas in a future version. Use pandas.concat instead.\n",
      "  metrics = metrics.append(\n",
      "C:\\Users\\Nathalie\\AppData\\Local\\Temp\\ipykernel_13344\\1552020202.py:65: FutureWarning: The frame.append method is deprecated and will be removed from pandas in a future version. Use pandas.concat instead.\n",
      "  metrics = metrics.append(\n",
      "C:\\Users\\Nathalie\\AppData\\Local\\Temp\\ipykernel_13344\\1552020202.py:65: FutureWarning: The frame.append method is deprecated and will be removed from pandas in a future version. Use pandas.concat instead.\n",
      "  metrics = metrics.append(\n",
      "C:\\Users\\Nathalie\\AppData\\Local\\Temp\\ipykernel_13344\\1552020202.py:25: FutureWarning: The frame.append method is deprecated and will be removed from pandas in a future version. Use pandas.concat instead.\n",
      "  metrics = metrics.append(\n",
      "C:\\Users\\Nathalie\\AppData\\Local\\Temp\\ipykernel_13344\\1552020202.py:65: FutureWarning: The frame.append method is deprecated and will be removed from pandas in a future version. Use pandas.concat instead.\n",
      "  metrics = metrics.append(\n",
      "C:\\Users\\Nathalie\\AppData\\Local\\Temp\\ipykernel_13344\\1552020202.py:65: FutureWarning: The frame.append method is deprecated and will be removed from pandas in a future version. Use pandas.concat instead.\n",
      "  metrics = metrics.append(\n",
      "C:\\Users\\Nathalie\\AppData\\Local\\Temp\\ipykernel_13344\\1552020202.py:25: FutureWarning: The frame.append method is deprecated and will be removed from pandas in a future version. Use pandas.concat instead.\n",
      "  metrics = metrics.append(\n",
      "C:\\Users\\Nathalie\\AppData\\Local\\Temp\\ipykernel_13344\\1552020202.py:65: FutureWarning: The frame.append method is deprecated and will be removed from pandas in a future version. Use pandas.concat instead.\n",
      "  metrics = metrics.append(\n",
      "C:\\Users\\Nathalie\\AppData\\Local\\Temp\\ipykernel_13344\\1552020202.py:65: FutureWarning: The frame.append method is deprecated and will be removed from pandas in a future version. Use pandas.concat instead.\n",
      "  metrics = metrics.append(\n",
      "C:\\Users\\Nathalie\\AppData\\Local\\Temp\\ipykernel_13344\\1552020202.py:25: FutureWarning: The frame.append method is deprecated and will be removed from pandas in a future version. Use pandas.concat instead.\n",
      "  metrics = metrics.append(\n",
      "C:\\Users\\Nathalie\\AppData\\Local\\Temp\\ipykernel_13344\\1552020202.py:65: FutureWarning: The frame.append method is deprecated and will be removed from pandas in a future version. Use pandas.concat instead.\n",
      "  metrics = metrics.append(\n",
      "C:\\Users\\Nathalie\\AppData\\Local\\Temp\\ipykernel_13344\\1552020202.py:65: FutureWarning: The frame.append method is deprecated and will be removed from pandas in a future version. Use pandas.concat instead.\n",
      "  metrics = metrics.append(\n",
      "C:\\Users\\Nathalie\\AppData\\Local\\Temp\\ipykernel_13344\\1552020202.py:25: FutureWarning: The frame.append method is deprecated and will be removed from pandas in a future version. Use pandas.concat instead.\n",
      "  metrics = metrics.append(\n",
      "C:\\Users\\Nathalie\\AppData\\Local\\Temp\\ipykernel_13344\\1552020202.py:65: FutureWarning: The frame.append method is deprecated and will be removed from pandas in a future version. Use pandas.concat instead.\n",
      "  metrics = metrics.append(\n",
      "C:\\Users\\Nathalie\\AppData\\Local\\Temp\\ipykernel_13344\\1552020202.py:65: FutureWarning: The frame.append method is deprecated and will be removed from pandas in a future version. Use pandas.concat instead.\n",
      "  metrics = metrics.append(\n",
      "C:\\Users\\Nathalie\\AppData\\Local\\Temp\\ipykernel_13344\\1552020202.py:25: FutureWarning: The frame.append method is deprecated and will be removed from pandas in a future version. Use pandas.concat instead.\n",
      "  metrics = metrics.append(\n",
      "C:\\Users\\Nathalie\\AppData\\Local\\Temp\\ipykernel_13344\\1552020202.py:65: FutureWarning: The frame.append method is deprecated and will be removed from pandas in a future version. Use pandas.concat instead.\n",
      "  metrics = metrics.append(\n",
      "C:\\Users\\Nathalie\\AppData\\Local\\Temp\\ipykernel_13344\\1552020202.py:65: FutureWarning: The frame.append method is deprecated and will be removed from pandas in a future version. Use pandas.concat instead.\n",
      "  metrics = metrics.append(\n",
      "C:\\Users\\Nathalie\\AppData\\Local\\Temp\\ipykernel_13344\\1552020202.py:25: FutureWarning: The frame.append method is deprecated and will be removed from pandas in a future version. Use pandas.concat instead.\n",
      "  metrics = metrics.append(\n",
      "C:\\Users\\Nathalie\\AppData\\Local\\Temp\\ipykernel_13344\\1552020202.py:65: FutureWarning: The frame.append method is deprecated and will be removed from pandas in a future version. Use pandas.concat instead.\n",
      "  metrics = metrics.append(\n",
      "C:\\Users\\Nathalie\\AppData\\Local\\Temp\\ipykernel_13344\\1552020202.py:65: FutureWarning: The frame.append method is deprecated and will be removed from pandas in a future version. Use pandas.concat instead.\n",
      "  metrics = metrics.append(\n",
      "C:\\Users\\Nathalie\\AppData\\Local\\Temp\\ipykernel_13344\\1552020202.py:25: FutureWarning: The frame.append method is deprecated and will be removed from pandas in a future version. Use pandas.concat instead.\n",
      "  metrics = metrics.append(\n",
      "C:\\Users\\Nathalie\\AppData\\Local\\Temp\\ipykernel_13344\\1552020202.py:65: FutureWarning: The frame.append method is deprecated and will be removed from pandas in a future version. Use pandas.concat instead.\n",
      "  metrics = metrics.append(\n",
      "C:\\Users\\Nathalie\\AppData\\Local\\Temp\\ipykernel_13344\\1552020202.py:65: FutureWarning: The frame.append method is deprecated and will be removed from pandas in a future version. Use pandas.concat instead.\n",
      "  metrics = metrics.append(\n",
      "C:\\Users\\Nathalie\\AppData\\Local\\Temp\\ipykernel_13344\\1552020202.py:25: FutureWarning: The frame.append method is deprecated and will be removed from pandas in a future version. Use pandas.concat instead.\n",
      "  metrics = metrics.append(\n",
      "C:\\Users\\Nathalie\\AppData\\Local\\Temp\\ipykernel_13344\\1552020202.py:65: FutureWarning: The frame.append method is deprecated and will be removed from pandas in a future version. Use pandas.concat instead.\n",
      "  metrics = metrics.append(\n",
      "C:\\Users\\Nathalie\\AppData\\Local\\Temp\\ipykernel_13344\\1552020202.py:65: FutureWarning: The frame.append method is deprecated and will be removed from pandas in a future version. Use pandas.concat instead.\n",
      "  metrics = metrics.append(\n",
      "C:\\Users\\Nathalie\\AppData\\Local\\Temp\\ipykernel_13344\\1552020202.py:25: FutureWarning: The frame.append method is deprecated and will be removed from pandas in a future version. Use pandas.concat instead.\n",
      "  metrics = metrics.append(\n",
      "C:\\Users\\Nathalie\\AppData\\Local\\Temp\\ipykernel_13344\\1552020202.py:65: FutureWarning: The frame.append method is deprecated and will be removed from pandas in a future version. Use pandas.concat instead.\n",
      "  metrics = metrics.append(\n",
      "C:\\Users\\Nathalie\\AppData\\Local\\Temp\\ipykernel_13344\\1552020202.py:65: FutureWarning: The frame.append method is deprecated and will be removed from pandas in a future version. Use pandas.concat instead.\n",
      "  metrics = metrics.append(\n",
      "C:\\Users\\Nathalie\\AppData\\Local\\Temp\\ipykernel_13344\\1552020202.py:25: FutureWarning: The frame.append method is deprecated and will be removed from pandas in a future version. Use pandas.concat instead.\n",
      "  metrics = metrics.append(\n",
      "C:\\Users\\Nathalie\\AppData\\Local\\Temp\\ipykernel_13344\\1552020202.py:65: FutureWarning: The frame.append method is deprecated and will be removed from pandas in a future version. Use pandas.concat instead.\n",
      "  metrics = metrics.append(\n",
      "C:\\Users\\Nathalie\\AppData\\Local\\Temp\\ipykernel_13344\\1552020202.py:65: FutureWarning: The frame.append method is deprecated and will be removed from pandas in a future version. Use pandas.concat instead.\n",
      "  metrics = metrics.append(\n",
      "C:\\Users\\Nathalie\\AppData\\Local\\Temp\\ipykernel_13344\\1552020202.py:25: FutureWarning: The frame.append method is deprecated and will be removed from pandas in a future version. Use pandas.concat instead.\n",
      "  metrics = metrics.append(\n",
      "C:\\Users\\Nathalie\\AppData\\Local\\Temp\\ipykernel_13344\\1552020202.py:65: FutureWarning: The frame.append method is deprecated and will be removed from pandas in a future version. Use pandas.concat instead.\n",
      "  metrics = metrics.append(\n",
      "C:\\Users\\Nathalie\\AppData\\Local\\Temp\\ipykernel_13344\\1552020202.py:65: FutureWarning: The frame.append method is deprecated and will be removed from pandas in a future version. Use pandas.concat instead.\n",
      "  metrics = metrics.append(\n",
      "C:\\Users\\Nathalie\\AppData\\Local\\Temp\\ipykernel_13344\\1552020202.py:25: FutureWarning: The frame.append method is deprecated and will be removed from pandas in a future version. Use pandas.concat instead.\n",
      "  metrics = metrics.append(\n",
      "C:\\Users\\Nathalie\\AppData\\Local\\Temp\\ipykernel_13344\\1552020202.py:65: FutureWarning: The frame.append method is deprecated and will be removed from pandas in a future version. Use pandas.concat instead.\n",
      "  metrics = metrics.append(\n",
      "C:\\Users\\Nathalie\\AppData\\Local\\Temp\\ipykernel_13344\\1552020202.py:65: FutureWarning: The frame.append method is deprecated and will be removed from pandas in a future version. Use pandas.concat instead.\n",
      "  metrics = metrics.append(\n",
      "C:\\Users\\Nathalie\\AppData\\Local\\Temp\\ipykernel_13344\\1552020202.py:25: FutureWarning: The frame.append method is deprecated and will be removed from pandas in a future version. Use pandas.concat instead.\n",
      "  metrics = metrics.append(\n",
      "C:\\Users\\Nathalie\\AppData\\Local\\Temp\\ipykernel_13344\\1552020202.py:65: FutureWarning: The frame.append method is deprecated and will be removed from pandas in a future version. Use pandas.concat instead.\n",
      "  metrics = metrics.append(\n",
      "C:\\Users\\Nathalie\\AppData\\Local\\Temp\\ipykernel_13344\\1552020202.py:65: FutureWarning: The frame.append method is deprecated and will be removed from pandas in a future version. Use pandas.concat instead.\n",
      "  metrics = metrics.append(\n",
      "C:\\Users\\Nathalie\\AppData\\Local\\Temp\\ipykernel_13344\\1552020202.py:25: FutureWarning: The frame.append method is deprecated and will be removed from pandas in a future version. Use pandas.concat instead.\n",
      "  metrics = metrics.append(\n",
      "C:\\Users\\Nathalie\\AppData\\Local\\Temp\\ipykernel_13344\\1552020202.py:65: FutureWarning: The frame.append method is deprecated and will be removed from pandas in a future version. Use pandas.concat instead.\n",
      "  metrics = metrics.append(\n",
      "C:\\Users\\Nathalie\\AppData\\Local\\Temp\\ipykernel_13344\\1552020202.py:65: FutureWarning: The frame.append method is deprecated and will be removed from pandas in a future version. Use pandas.concat instead.\n",
      "  metrics = metrics.append(\n",
      "C:\\Users\\Nathalie\\AppData\\Local\\Temp\\ipykernel_13344\\1552020202.py:25: FutureWarning: The frame.append method is deprecated and will be removed from pandas in a future version. Use pandas.concat instead.\n",
      "  metrics = metrics.append(\n",
      "C:\\Users\\Nathalie\\AppData\\Local\\Temp\\ipykernel_13344\\1552020202.py:65: FutureWarning: The frame.append method is deprecated and will be removed from pandas in a future version. Use pandas.concat instead.\n",
      "  metrics = metrics.append(\n",
      "C:\\Users\\Nathalie\\AppData\\Local\\Temp\\ipykernel_13344\\1552020202.py:65: FutureWarning: The frame.append method is deprecated and will be removed from pandas in a future version. Use pandas.concat instead.\n",
      "  metrics = metrics.append(\n",
      "C:\\Users\\Nathalie\\AppData\\Local\\Temp\\ipykernel_13344\\1552020202.py:25: FutureWarning: The frame.append method is deprecated and will be removed from pandas in a future version. Use pandas.concat instead.\n",
      "  metrics = metrics.append(\n",
      "C:\\Users\\Nathalie\\AppData\\Local\\Temp\\ipykernel_13344\\1552020202.py:65: FutureWarning: The frame.append method is deprecated and will be removed from pandas in a future version. Use pandas.concat instead.\n",
      "  metrics = metrics.append(\n",
      "C:\\Users\\Nathalie\\AppData\\Local\\Temp\\ipykernel_13344\\1552020202.py:65: FutureWarning: The frame.append method is deprecated and will be removed from pandas in a future version. Use pandas.concat instead.\n",
      "  metrics = metrics.append(\n",
      "C:\\Users\\Nathalie\\AppData\\Local\\Temp\\ipykernel_13344\\1552020202.py:25: FutureWarning: The frame.append method is deprecated and will be removed from pandas in a future version. Use pandas.concat instead.\n",
      "  metrics = metrics.append(\n",
      "C:\\Users\\Nathalie\\AppData\\Local\\Temp\\ipykernel_13344\\1552020202.py:65: FutureWarning: The frame.append method is deprecated and will be removed from pandas in a future version. Use pandas.concat instead.\n",
      "  metrics = metrics.append(\n",
      "C:\\Users\\Nathalie\\AppData\\Local\\Temp\\ipykernel_13344\\1552020202.py:65: FutureWarning: The frame.append method is deprecated and will be removed from pandas in a future version. Use pandas.concat instead.\n",
      "  metrics = metrics.append(\n",
      "C:\\Users\\Nathalie\\AppData\\Local\\Temp\\ipykernel_13344\\1552020202.py:25: FutureWarning: The frame.append method is deprecated and will be removed from pandas in a future version. Use pandas.concat instead.\n",
      "  metrics = metrics.append(\n",
      "C:\\Users\\Nathalie\\AppData\\Local\\Temp\\ipykernel_13344\\1552020202.py:65: FutureWarning: The frame.append method is deprecated and will be removed from pandas in a future version. Use pandas.concat instead.\n",
      "  metrics = metrics.append(\n",
      "C:\\Users\\Nathalie\\AppData\\Local\\Temp\\ipykernel_13344\\1552020202.py:65: FutureWarning: The frame.append method is deprecated and will be removed from pandas in a future version. Use pandas.concat instead.\n",
      "  metrics = metrics.append(\n",
      "C:\\Users\\Nathalie\\AppData\\Local\\Temp\\ipykernel_13344\\1552020202.py:25: FutureWarning: The frame.append method is deprecated and will be removed from pandas in a future version. Use pandas.concat instead.\n",
      "  metrics = metrics.append(\n",
      "C:\\Users\\Nathalie\\AppData\\Local\\Temp\\ipykernel_13344\\1552020202.py:65: FutureWarning: The frame.append method is deprecated and will be removed from pandas in a future version. Use pandas.concat instead.\n",
      "  metrics = metrics.append(\n",
      "C:\\Users\\Nathalie\\AppData\\Local\\Temp\\ipykernel_13344\\1552020202.py:65: FutureWarning: The frame.append method is deprecated and will be removed from pandas in a future version. Use pandas.concat instead.\n",
      "  metrics = metrics.append(\n",
      "C:\\Users\\Nathalie\\AppData\\Local\\Temp\\ipykernel_13344\\1552020202.py:25: FutureWarning: The frame.append method is deprecated and will be removed from pandas in a future version. Use pandas.concat instead.\n",
      "  metrics = metrics.append(\n",
      "C:\\Users\\Nathalie\\AppData\\Local\\Temp\\ipykernel_13344\\1552020202.py:65: FutureWarning: The frame.append method is deprecated and will be removed from pandas in a future version. Use pandas.concat instead.\n",
      "  metrics = metrics.append(\n",
      "C:\\Users\\Nathalie\\AppData\\Local\\Temp\\ipykernel_13344\\1552020202.py:65: FutureWarning: The frame.append method is deprecated and will be removed from pandas in a future version. Use pandas.concat instead.\n",
      "  metrics = metrics.append(\n",
      "C:\\Users\\Nathalie\\AppData\\Local\\Temp\\ipykernel_13344\\1552020202.py:25: FutureWarning: The frame.append method is deprecated and will be removed from pandas in a future version. Use pandas.concat instead.\n",
      "  metrics = metrics.append(\n",
      "C:\\Users\\Nathalie\\AppData\\Local\\Temp\\ipykernel_13344\\1552020202.py:65: FutureWarning: The frame.append method is deprecated and will be removed from pandas in a future version. Use pandas.concat instead.\n",
      "  metrics = metrics.append(\n",
      "C:\\Users\\Nathalie\\AppData\\Local\\Temp\\ipykernel_13344\\1552020202.py:65: FutureWarning: The frame.append method is deprecated and will be removed from pandas in a future version. Use pandas.concat instead.\n",
      "  metrics = metrics.append(\n",
      "C:\\Users\\Nathalie\\AppData\\Local\\Temp\\ipykernel_13344\\1552020202.py:25: FutureWarning: The frame.append method is deprecated and will be removed from pandas in a future version. Use pandas.concat instead.\n",
      "  metrics = metrics.append(\n",
      "C:\\Users\\Nathalie\\AppData\\Local\\Temp\\ipykernel_13344\\1552020202.py:65: FutureWarning: The frame.append method is deprecated and will be removed from pandas in a future version. Use pandas.concat instead.\n",
      "  metrics = metrics.append(\n",
      "C:\\Users\\Nathalie\\AppData\\Local\\Temp\\ipykernel_13344\\1552020202.py:65: FutureWarning: The frame.append method is deprecated and will be removed from pandas in a future version. Use pandas.concat instead.\n",
      "  metrics = metrics.append(\n",
      "C:\\Users\\Nathalie\\AppData\\Local\\Temp\\ipykernel_13344\\1552020202.py:25: FutureWarning: The frame.append method is deprecated and will be removed from pandas in a future version. Use pandas.concat instead.\n",
      "  metrics = metrics.append(\n",
      "C:\\Users\\Nathalie\\AppData\\Local\\Temp\\ipykernel_13344\\1552020202.py:65: FutureWarning: The frame.append method is deprecated and will be removed from pandas in a future version. Use pandas.concat instead.\n",
      "  metrics = metrics.append(\n",
      "C:\\Users\\Nathalie\\AppData\\Local\\Temp\\ipykernel_13344\\1552020202.py:65: FutureWarning: The frame.append method is deprecated and will be removed from pandas in a future version. Use pandas.concat instead.\n",
      "  metrics = metrics.append(\n",
      "C:\\Users\\Nathalie\\AppData\\Local\\Temp\\ipykernel_13344\\1552020202.py:25: FutureWarning: The frame.append method is deprecated and will be removed from pandas in a future version. Use pandas.concat instead.\n",
      "  metrics = metrics.append(\n",
      "C:\\Users\\Nathalie\\AppData\\Local\\Temp\\ipykernel_13344\\1552020202.py:65: FutureWarning: The frame.append method is deprecated and will be removed from pandas in a future version. Use pandas.concat instead.\n",
      "  metrics = metrics.append(\n",
      "C:\\Users\\Nathalie\\AppData\\Local\\Temp\\ipykernel_13344\\1552020202.py:65: FutureWarning: The frame.append method is deprecated and will be removed from pandas in a future version. Use pandas.concat instead.\n",
      "  metrics = metrics.append(\n",
      "C:\\Users\\Nathalie\\AppData\\Local\\Temp\\ipykernel_13344\\1552020202.py:25: FutureWarning: The frame.append method is deprecated and will be removed from pandas in a future version. Use pandas.concat instead.\n",
      "  metrics = metrics.append(\n",
      "C:\\Users\\Nathalie\\AppData\\Local\\Temp\\ipykernel_13344\\1552020202.py:65: FutureWarning: The frame.append method is deprecated and will be removed from pandas in a future version. Use pandas.concat instead.\n",
      "  metrics = metrics.append(\n",
      "C:\\Users\\Nathalie\\AppData\\Local\\Temp\\ipykernel_13344\\1552020202.py:65: FutureWarning: The frame.append method is deprecated and will be removed from pandas in a future version. Use pandas.concat instead.\n",
      "  metrics = metrics.append(\n",
      "C:\\Users\\Nathalie\\AppData\\Local\\Temp\\ipykernel_13344\\1552020202.py:25: FutureWarning: The frame.append method is deprecated and will be removed from pandas in a future version. Use pandas.concat instead.\n",
      "  metrics = metrics.append(\n",
      "C:\\Users\\Nathalie\\AppData\\Local\\Temp\\ipykernel_13344\\1552020202.py:65: FutureWarning: The frame.append method is deprecated and will be removed from pandas in a future version. Use pandas.concat instead.\n",
      "  metrics = metrics.append(\n",
      "C:\\Users\\Nathalie\\AppData\\Local\\Temp\\ipykernel_13344\\1552020202.py:65: FutureWarning: The frame.append method is deprecated and will be removed from pandas in a future version. Use pandas.concat instead.\n",
      "  metrics = metrics.append(\n",
      "C:\\Users\\Nathalie\\AppData\\Local\\Temp\\ipykernel_13344\\1552020202.py:25: FutureWarning: The frame.append method is deprecated and will be removed from pandas in a future version. Use pandas.concat instead.\n",
      "  metrics = metrics.append(\n",
      "C:\\Users\\Nathalie\\AppData\\Local\\Temp\\ipykernel_13344\\1552020202.py:65: FutureWarning: The frame.append method is deprecated and will be removed from pandas in a future version. Use pandas.concat instead.\n",
      "  metrics = metrics.append(\n",
      "C:\\Users\\Nathalie\\AppData\\Local\\Temp\\ipykernel_13344\\1552020202.py:65: FutureWarning: The frame.append method is deprecated and will be removed from pandas in a future version. Use pandas.concat instead.\n",
      "  metrics = metrics.append(\n",
      "C:\\Users\\Nathalie\\AppData\\Local\\Temp\\ipykernel_13344\\1552020202.py:25: FutureWarning: The frame.append method is deprecated and will be removed from pandas in a future version. Use pandas.concat instead.\n",
      "  metrics = metrics.append(\n",
      "C:\\Users\\Nathalie\\AppData\\Local\\Temp\\ipykernel_13344\\1552020202.py:65: FutureWarning: The frame.append method is deprecated and will be removed from pandas in a future version. Use pandas.concat instead.\n",
      "  metrics = metrics.append(\n",
      "C:\\Users\\Nathalie\\AppData\\Local\\Temp\\ipykernel_13344\\1552020202.py:65: FutureWarning: The frame.append method is deprecated and will be removed from pandas in a future version. Use pandas.concat instead.\n",
      "  metrics = metrics.append(\n",
      "C:\\Users\\Nathalie\\AppData\\Local\\Temp\\ipykernel_13344\\1552020202.py:25: FutureWarning: The frame.append method is deprecated and will be removed from pandas in a future version. Use pandas.concat instead.\n",
      "  metrics = metrics.append(\n",
      "C:\\Users\\Nathalie\\AppData\\Local\\Temp\\ipykernel_13344\\1552020202.py:65: FutureWarning: The frame.append method is deprecated and will be removed from pandas in a future version. Use pandas.concat instead.\n",
      "  metrics = metrics.append(\n",
      "C:\\Users\\Nathalie\\AppData\\Local\\Temp\\ipykernel_13344\\1552020202.py:65: FutureWarning: The frame.append method is deprecated and will be removed from pandas in a future version. Use pandas.concat instead.\n",
      "  metrics = metrics.append(\n",
      "C:\\Users\\Nathalie\\AppData\\Local\\Temp\\ipykernel_13344\\1552020202.py:25: FutureWarning: The frame.append method is deprecated and will be removed from pandas in a future version. Use pandas.concat instead.\n",
      "  metrics = metrics.append(\n",
      "C:\\Users\\Nathalie\\AppData\\Local\\Temp\\ipykernel_13344\\1552020202.py:65: FutureWarning: The frame.append method is deprecated and will be removed from pandas in a future version. Use pandas.concat instead.\n",
      "  metrics = metrics.append(\n",
      "C:\\Users\\Nathalie\\AppData\\Local\\Temp\\ipykernel_13344\\1552020202.py:65: FutureWarning: The frame.append method is deprecated and will be removed from pandas in a future version. Use pandas.concat instead.\n",
      "  metrics = metrics.append(\n",
      "C:\\Users\\Nathalie\\AppData\\Local\\Temp\\ipykernel_13344\\1552020202.py:25: FutureWarning: The frame.append method is deprecated and will be removed from pandas in a future version. Use pandas.concat instead.\n",
      "  metrics = metrics.append(\n",
      "C:\\Users\\Nathalie\\AppData\\Local\\Temp\\ipykernel_13344\\1552020202.py:65: FutureWarning: The frame.append method is deprecated and will be removed from pandas in a future version. Use pandas.concat instead.\n",
      "  metrics = metrics.append(\n",
      "C:\\Users\\Nathalie\\AppData\\Local\\Temp\\ipykernel_13344\\1552020202.py:65: FutureWarning: The frame.append method is deprecated and will be removed from pandas in a future version. Use pandas.concat instead.\n",
      "  metrics = metrics.append(\n",
      "C:\\Users\\Nathalie\\AppData\\Local\\Temp\\ipykernel_13344\\1552020202.py:25: FutureWarning: The frame.append method is deprecated and will be removed from pandas in a future version. Use pandas.concat instead.\n",
      "  metrics = metrics.append(\n",
      "C:\\Users\\Nathalie\\AppData\\Local\\Temp\\ipykernel_13344\\1552020202.py:65: FutureWarning: The frame.append method is deprecated and will be removed from pandas in a future version. Use pandas.concat instead.\n",
      "  metrics = metrics.append(\n",
      "C:\\Users\\Nathalie\\AppData\\Local\\Temp\\ipykernel_13344\\1552020202.py:65: FutureWarning: The frame.append method is deprecated and will be removed from pandas in a future version. Use pandas.concat instead.\n",
      "  metrics = metrics.append(\n",
      "C:\\Users\\Nathalie\\AppData\\Local\\Temp\\ipykernel_13344\\1552020202.py:25: FutureWarning: The frame.append method is deprecated and will be removed from pandas in a future version. Use pandas.concat instead.\n",
      "  metrics = metrics.append(\n",
      "C:\\Users\\Nathalie\\AppData\\Local\\Temp\\ipykernel_13344\\1552020202.py:65: FutureWarning: The frame.append method is deprecated and will be removed from pandas in a future version. Use pandas.concat instead.\n",
      "  metrics = metrics.append(\n",
      "C:\\Users\\Nathalie\\AppData\\Local\\Temp\\ipykernel_13344\\1552020202.py:65: FutureWarning: The frame.append method is deprecated and will be removed from pandas in a future version. Use pandas.concat instead.\n",
      "  metrics = metrics.append(\n",
      "C:\\Users\\Nathalie\\AppData\\Local\\Temp\\ipykernel_13344\\1552020202.py:25: FutureWarning: The frame.append method is deprecated and will be removed from pandas in a future version. Use pandas.concat instead.\n",
      "  metrics = metrics.append(\n",
      "C:\\Users\\Nathalie\\AppData\\Local\\Temp\\ipykernel_13344\\1552020202.py:65: FutureWarning: The frame.append method is deprecated and will be removed from pandas in a future version. Use pandas.concat instead.\n",
      "  metrics = metrics.append(\n",
      "C:\\Users\\Nathalie\\AppData\\Local\\Temp\\ipykernel_13344\\1552020202.py:65: FutureWarning: The frame.append method is deprecated and will be removed from pandas in a future version. Use pandas.concat instead.\n",
      "  metrics = metrics.append(\n",
      "C:\\Users\\Nathalie\\AppData\\Local\\Temp\\ipykernel_13344\\1552020202.py:25: FutureWarning: The frame.append method is deprecated and will be removed from pandas in a future version. Use pandas.concat instead.\n",
      "  metrics = metrics.append(\n",
      "C:\\Users\\Nathalie\\AppData\\Local\\Temp\\ipykernel_13344\\1552020202.py:65: FutureWarning: The frame.append method is deprecated and will be removed from pandas in a future version. Use pandas.concat instead.\n",
      "  metrics = metrics.append(\n",
      "C:\\Users\\Nathalie\\AppData\\Local\\Temp\\ipykernel_13344\\1552020202.py:65: FutureWarning: The frame.append method is deprecated and will be removed from pandas in a future version. Use pandas.concat instead.\n",
      "  metrics = metrics.append(\n",
      "C:\\Users\\Nathalie\\AppData\\Local\\Temp\\ipykernel_13344\\1552020202.py:25: FutureWarning: The frame.append method is deprecated and will be removed from pandas in a future version. Use pandas.concat instead.\n",
      "  metrics = metrics.append(\n",
      "C:\\Users\\Nathalie\\AppData\\Local\\Temp\\ipykernel_13344\\1552020202.py:65: FutureWarning: The frame.append method is deprecated and will be removed from pandas in a future version. Use pandas.concat instead.\n",
      "  metrics = metrics.append(\n",
      "C:\\Users\\Nathalie\\AppData\\Local\\Temp\\ipykernel_13344\\1552020202.py:65: FutureWarning: The frame.append method is deprecated and will be removed from pandas in a future version. Use pandas.concat instead.\n",
      "  metrics = metrics.append(\n",
      "C:\\Users\\Nathalie\\AppData\\Local\\Temp\\ipykernel_13344\\1552020202.py:25: FutureWarning: The frame.append method is deprecated and will be removed from pandas in a future version. Use pandas.concat instead.\n",
      "  metrics = metrics.append(\n",
      "C:\\Users\\Nathalie\\AppData\\Local\\Temp\\ipykernel_13344\\1552020202.py:65: FutureWarning: The frame.append method is deprecated and will be removed from pandas in a future version. Use pandas.concat instead.\n",
      "  metrics = metrics.append(\n",
      "C:\\Users\\Nathalie\\AppData\\Local\\Temp\\ipykernel_13344\\1552020202.py:65: FutureWarning: The frame.append method is deprecated and will be removed from pandas in a future version. Use pandas.concat instead.\n",
      "  metrics = metrics.append(\n",
      "C:\\Users\\Nathalie\\AppData\\Local\\Temp\\ipykernel_13344\\1552020202.py:25: FutureWarning: The frame.append method is deprecated and will be removed from pandas in a future version. Use pandas.concat instead.\n",
      "  metrics = metrics.append(\n",
      "C:\\Users\\Nathalie\\AppData\\Local\\Temp\\ipykernel_13344\\1552020202.py:65: FutureWarning: The frame.append method is deprecated and will be removed from pandas in a future version. Use pandas.concat instead.\n",
      "  metrics = metrics.append(\n",
      "C:\\Users\\Nathalie\\AppData\\Local\\Temp\\ipykernel_13344\\1552020202.py:65: FutureWarning: The frame.append method is deprecated and will be removed from pandas in a future version. Use pandas.concat instead.\n",
      "  metrics = metrics.append(\n",
      "C:\\Users\\Nathalie\\AppData\\Local\\Temp\\ipykernel_13344\\1552020202.py:25: FutureWarning: The frame.append method is deprecated and will be removed from pandas in a future version. Use pandas.concat instead.\n",
      "  metrics = metrics.append(\n",
      "C:\\Users\\Nathalie\\AppData\\Local\\Temp\\ipykernel_13344\\1552020202.py:65: FutureWarning: The frame.append method is deprecated and will be removed from pandas in a future version. Use pandas.concat instead.\n",
      "  metrics = metrics.append(\n",
      "C:\\Users\\Nathalie\\AppData\\Local\\Temp\\ipykernel_13344\\1552020202.py:65: FutureWarning: The frame.append method is deprecated and will be removed from pandas in a future version. Use pandas.concat instead.\n",
      "  metrics = metrics.append(\n",
      "C:\\Users\\Nathalie\\AppData\\Local\\Temp\\ipykernel_13344\\1552020202.py:25: FutureWarning: The frame.append method is deprecated and will be removed from pandas in a future version. Use pandas.concat instead.\n",
      "  metrics = metrics.append(\n",
      "C:\\Users\\Nathalie\\AppData\\Local\\Temp\\ipykernel_13344\\1552020202.py:65: FutureWarning: The frame.append method is deprecated and will be removed from pandas in a future version. Use pandas.concat instead.\n",
      "  metrics = metrics.append(\n",
      "C:\\Users\\Nathalie\\AppData\\Local\\Temp\\ipykernel_13344\\1552020202.py:65: FutureWarning: The frame.append method is deprecated and will be removed from pandas in a future version. Use pandas.concat instead.\n",
      "  metrics = metrics.append(\n"
     ]
    }
   ],
   "source": [
    "## model fitting and validation for each subgroup\n",
    "\n",
    "# loop through matrices\n",
    "for i in n:\n",
    "    path = \"gender_measurement/matrix\" + str(i) + \".pkl\"\n",
    "    infile = open(path, \"rb\")\n",
    "    df = pickle.load(infile)\n",
    "    infile.close()\n",
    "    df = df.reset_index()\n",
    "    X = df[feature_cols]\n",
    "    y = df.y\n",
    "    y = y.astype(\"int\")\n",
    "    X_train, X_test, y_train, y_test = train_test_split(\n",
    "        X, y, test_size=0.3, random_state=1\n",
    "    )\n",
    "    k = 5\n",
    "    cv = KFold(n_splits=k, random_state=None)\n",
    "\n",
    "    # fit\n",
    "    knn = KNeighborsClassifier(n_neighbors=2)\n",
    "    knn = knn.fit(X_train, y_train)\n",
    "    pred = knn.predict(X_test)\n",
    "\n",
    "    a, p, r, roc_auc, fpr = get_metrics(knn, X_test, y_test, cv, pred)\n",
    "    metrics = metrics.append(\n",
    "        {\n",
    "            \"model\": \"KNN\",\n",
    "            \"group\": \"all\",\n",
    "            \"subgroup\": \"all\",\n",
    "            \"Length\": len(df),\n",
    "            \"Sentence\": i,\n",
    "            \"Accuracy\": a,\n",
    "            \"Precision\": p,\n",
    "            \"Recall\": r,\n",
    "            \"AUC\": roc_auc,\n",
    "            \"FPR\": fpr,\n",
    "        },\n",
    "        ignore_index=True,\n",
    "    )\n",
    "\n",
    "    ##\n",
    "    # let the model above predict for each subgroup and save results to evaluate later\n",
    "    group = [\"gender\", \"gender\"]\n",
    "    subgroup = [\"boys\", \"girls\"]\n",
    "    matrice = [\"matrices_forte_boys\", \"matrices_forte_girls\"]\n",
    "\n",
    "    for group, subgroup, matrix in zip(group, subgroup, matrice):\n",
    "        path = (\n",
    "            \"../../02_dropout_prediction/01_keep_it_up/\"\n",
    "            + matrix\n",
    "            + \"/matrix\"\n",
    "            + str(i)\n",
    "            + \".pkl\"\n",
    "        )\n",
    "        infile = open(path, \"rb\")\n",
    "        df = pickle.load(infile)\n",
    "        infile.close()\n",
    "        df = df.reset_index()\n",
    "        X = df[feature_cols]\n",
    "        y = df.y\n",
    "        y = y.astype(\"int\")\n",
    "        pred = knn.predict(X)\n",
    "\n",
    "        a, p, r, roc_auc, fpr = get_metrics(knn, X, y, cv, pred)\n",
    "        metrics = metrics.append(\n",
    "            {\n",
    "                \"model\": \"KNN\",\n",
    "                \"group\": group,\n",
    "                \"subgroup\": subgroup,\n",
    "                \"Length\": len(df),\n",
    "                \"Sentence\": i,\n",
    "                \"Accuracy\": a,\n",
    "                \"Precision\": p,\n",
    "                \"Recall\": r,\n",
    "                \"AUC\": roc_auc,\n",
    "                \"FPR\": fpr,\n",
    "            },\n",
    "            ignore_index=True,\n",
    "        )"
   ]
  },
  {
   "attachments": {},
   "cell_type": "markdown",
   "metadata": {},
   "source": [
    "MLP"
   ]
  },
  {
   "cell_type": "code",
   "execution_count": 9,
   "metadata": {},
   "outputs": [
    {
     "name": "stdout",
     "output_type": "stream",
     "text": [
      "1526/1526 [==============================] - 1s 930us/step\n"
     ]
    },
    {
     "name": "stderr",
     "output_type": "stream",
     "text": [
      "C:\\Users\\Nathalie\\AppData\\Local\\Temp\\ipykernel_13344\\3469876962.py:75: FutureWarning: The frame.append method is deprecated and will be removed from pandas in a future version. Use pandas.concat instead.\n",
      "  metrics = metrics.append(\n"
     ]
    },
    {
     "name": "stdout",
     "output_type": "stream",
     "text": [
      "679/679 [==============================] - 1s 859us/step\n"
     ]
    },
    {
     "name": "stderr",
     "output_type": "stream",
     "text": [
      "C:\\Users\\Nathalie\\AppData\\Local\\Temp\\ipykernel_13344\\3469876962.py:116: FutureWarning: The frame.append method is deprecated and will be removed from pandas in a future version. Use pandas.concat instead.\n",
      "  metrics = metrics.append(\n"
     ]
    },
    {
     "name": "stdout",
     "output_type": "stream",
     "text": [
      "738/738 [==============================] - 1s 869us/step\n"
     ]
    },
    {
     "name": "stderr",
     "output_type": "stream",
     "text": [
      "C:\\Users\\Nathalie\\AppData\\Local\\Temp\\ipykernel_13344\\3469876962.py:116: FutureWarning: The frame.append method is deprecated and will be removed from pandas in a future version. Use pandas.concat instead.\n",
      "  metrics = metrics.append(\n"
     ]
    },
    {
     "name": "stdout",
     "output_type": "stream",
     "text": [
      "1468/1468 [==============================] - 1s 862us/step\n"
     ]
    },
    {
     "name": "stderr",
     "output_type": "stream",
     "text": [
      "C:\\Users\\Nathalie\\AppData\\Local\\Temp\\ipykernel_13344\\3469876962.py:75: FutureWarning: The frame.append method is deprecated and will be removed from pandas in a future version. Use pandas.concat instead.\n",
      "  metrics = metrics.append(\n"
     ]
    },
    {
     "name": "stdout",
     "output_type": "stream",
     "text": [
      "670/670 [==============================] - 1s 878us/step\n"
     ]
    },
    {
     "name": "stderr",
     "output_type": "stream",
     "text": [
      "C:\\Users\\Nathalie\\AppData\\Local\\Temp\\ipykernel_13344\\3469876962.py:116: FutureWarning: The frame.append method is deprecated and will be removed from pandas in a future version. Use pandas.concat instead.\n",
      "  metrics = metrics.append(\n"
     ]
    },
    {
     "name": "stdout",
     "output_type": "stream",
     "text": [
      "729/729 [==============================] - 1s 855us/step\n"
     ]
    },
    {
     "name": "stderr",
     "output_type": "stream",
     "text": [
      "C:\\Users\\Nathalie\\AppData\\Local\\Temp\\ipykernel_13344\\3469876962.py:116: FutureWarning: The frame.append method is deprecated and will be removed from pandas in a future version. Use pandas.concat instead.\n",
      "  metrics = metrics.append(\n"
     ]
    },
    {
     "name": "stdout",
     "output_type": "stream",
     "text": [
      "1427/1427 [==============================] - 1s 866us/step\n"
     ]
    },
    {
     "name": "stderr",
     "output_type": "stream",
     "text": [
      "C:\\Users\\Nathalie\\AppData\\Local\\Temp\\ipykernel_13344\\3469876962.py:75: FutureWarning: The frame.append method is deprecated and will be removed from pandas in a future version. Use pandas.concat instead.\n",
      "  metrics = metrics.append(\n"
     ]
    },
    {
     "name": "stdout",
     "output_type": "stream",
     "text": [
      "664/664 [==============================] - 1s 853us/step\n"
     ]
    },
    {
     "name": "stderr",
     "output_type": "stream",
     "text": [
      "C:\\Users\\Nathalie\\AppData\\Local\\Temp\\ipykernel_13344\\3469876962.py:116: FutureWarning: The frame.append method is deprecated and will be removed from pandas in a future version. Use pandas.concat instead.\n",
      "  metrics = metrics.append(\n"
     ]
    },
    {
     "name": "stdout",
     "output_type": "stream",
     "text": [
      "723/723 [==============================] - 1s 834us/step\n"
     ]
    },
    {
     "name": "stderr",
     "output_type": "stream",
     "text": [
      "C:\\Users\\Nathalie\\AppData\\Local\\Temp\\ipykernel_13344\\3469876962.py:116: FutureWarning: The frame.append method is deprecated and will be removed from pandas in a future version. Use pandas.concat instead.\n",
      "  metrics = metrics.append(\n"
     ]
    },
    {
     "name": "stdout",
     "output_type": "stream",
     "text": [
      "1391/1391 [==============================] - 1s 876us/step\n"
     ]
    },
    {
     "name": "stderr",
     "output_type": "stream",
     "text": [
      "C:\\Users\\Nathalie\\AppData\\Local\\Temp\\ipykernel_13344\\3469876962.py:75: FutureWarning: The frame.append method is deprecated and will be removed from pandas in a future version. Use pandas.concat instead.\n",
      "  metrics = metrics.append(\n"
     ]
    },
    {
     "name": "stdout",
     "output_type": "stream",
     "text": [
      "657/657 [==============================] - 1s 785us/step\n"
     ]
    },
    {
     "name": "stderr",
     "output_type": "stream",
     "text": [
      "C:\\Users\\Nathalie\\AppData\\Local\\Temp\\ipykernel_13344\\3469876962.py:116: FutureWarning: The frame.append method is deprecated and will be removed from pandas in a future version. Use pandas.concat instead.\n",
      "  metrics = metrics.append(\n"
     ]
    },
    {
     "name": "stdout",
     "output_type": "stream",
     "text": [
      "718/718 [==============================] - 1s 759us/step\n"
     ]
    },
    {
     "name": "stderr",
     "output_type": "stream",
     "text": [
      "C:\\Users\\Nathalie\\AppData\\Local\\Temp\\ipykernel_13344\\3469876962.py:116: FutureWarning: The frame.append method is deprecated and will be removed from pandas in a future version. Use pandas.concat instead.\n",
      "  metrics = metrics.append(\n"
     ]
    },
    {
     "name": "stdout",
     "output_type": "stream",
     "text": [
      "1357/1357 [==============================] - 1s 808us/step\n"
     ]
    },
    {
     "name": "stderr",
     "output_type": "stream",
     "text": [
      "C:\\Users\\Nathalie\\AppData\\Local\\Temp\\ipykernel_13344\\3469876962.py:75: FutureWarning: The frame.append method is deprecated and will be removed from pandas in a future version. Use pandas.concat instead.\n",
      "  metrics = metrics.append(\n"
     ]
    },
    {
     "name": "stdout",
     "output_type": "stream",
     "text": [
      "650/650 [==============================] - 1s 844us/step\n"
     ]
    },
    {
     "name": "stderr",
     "output_type": "stream",
     "text": [
      "C:\\Users\\Nathalie\\AppData\\Local\\Temp\\ipykernel_13344\\3469876962.py:116: FutureWarning: The frame.append method is deprecated and will be removed from pandas in a future version. Use pandas.concat instead.\n",
      "  metrics = metrics.append(\n"
     ]
    },
    {
     "name": "stdout",
     "output_type": "stream",
     "text": [
      "713/713 [==============================] - 1s 869us/step\n"
     ]
    },
    {
     "name": "stderr",
     "output_type": "stream",
     "text": [
      "C:\\Users\\Nathalie\\AppData\\Local\\Temp\\ipykernel_13344\\3469876962.py:116: FutureWarning: The frame.append method is deprecated and will be removed from pandas in a future version. Use pandas.concat instead.\n",
      "  metrics = metrics.append(\n"
     ]
    },
    {
     "name": "stdout",
     "output_type": "stream",
     "text": [
      "1324/1324 [==============================] - 1s 868us/step\n"
     ]
    },
    {
     "name": "stderr",
     "output_type": "stream",
     "text": [
      "C:\\Users\\Nathalie\\AppData\\Local\\Temp\\ipykernel_13344\\3469876962.py:75: FutureWarning: The frame.append method is deprecated and will be removed from pandas in a future version. Use pandas.concat instead.\n",
      "  metrics = metrics.append(\n"
     ]
    },
    {
     "name": "stdout",
     "output_type": "stream",
     "text": [
      "644/644 [==============================] - 1s 911us/step\n"
     ]
    },
    {
     "name": "stderr",
     "output_type": "stream",
     "text": [
      "C:\\Users\\Nathalie\\AppData\\Local\\Temp\\ipykernel_13344\\3469876962.py:116: FutureWarning: The frame.append method is deprecated and will be removed from pandas in a future version. Use pandas.concat instead.\n",
      "  metrics = metrics.append(\n"
     ]
    },
    {
     "name": "stdout",
     "output_type": "stream",
     "text": [
      "708/708 [==============================] - 1s 880us/step\n"
     ]
    },
    {
     "name": "stderr",
     "output_type": "stream",
     "text": [
      "C:\\Users\\Nathalie\\AppData\\Local\\Temp\\ipykernel_13344\\3469876962.py:116: FutureWarning: The frame.append method is deprecated and will be removed from pandas in a future version. Use pandas.concat instead.\n",
      "  metrics = metrics.append(\n"
     ]
    },
    {
     "name": "stdout",
     "output_type": "stream",
     "text": [
      "1295/1295 [==============================] - 1s 886us/step\n"
     ]
    },
    {
     "name": "stderr",
     "output_type": "stream",
     "text": [
      "C:\\Users\\Nathalie\\AppData\\Local\\Temp\\ipykernel_13344\\3469876962.py:75: FutureWarning: The frame.append method is deprecated and will be removed from pandas in a future version. Use pandas.concat instead.\n",
      "  metrics = metrics.append(\n"
     ]
    },
    {
     "name": "stdout",
     "output_type": "stream",
     "text": [
      "639/639 [==============================] - 1s 876us/step\n"
     ]
    },
    {
     "name": "stderr",
     "output_type": "stream",
     "text": [
      "C:\\Users\\Nathalie\\AppData\\Local\\Temp\\ipykernel_13344\\3469876962.py:116: FutureWarning: The frame.append method is deprecated and will be removed from pandas in a future version. Use pandas.concat instead.\n",
      "  metrics = metrics.append(\n"
     ]
    },
    {
     "name": "stdout",
     "output_type": "stream",
     "text": [
      "703/703 [==============================] - 1s 838us/step\n"
     ]
    },
    {
     "name": "stderr",
     "output_type": "stream",
     "text": [
      "C:\\Users\\Nathalie\\AppData\\Local\\Temp\\ipykernel_13344\\3469876962.py:116: FutureWarning: The frame.append method is deprecated and will be removed from pandas in a future version. Use pandas.concat instead.\n",
      "  metrics = metrics.append(\n"
     ]
    },
    {
     "name": "stdout",
     "output_type": "stream",
     "text": [
      "1265/1265 [==============================] - 1s 868us/step\n"
     ]
    },
    {
     "name": "stderr",
     "output_type": "stream",
     "text": [
      "C:\\Users\\Nathalie\\AppData\\Local\\Temp\\ipykernel_13344\\3469876962.py:75: FutureWarning: The frame.append method is deprecated and will be removed from pandas in a future version. Use pandas.concat instead.\n",
      "  metrics = metrics.append(\n"
     ]
    },
    {
     "name": "stdout",
     "output_type": "stream",
     "text": [
      "633/633 [==============================] - 1s 884us/step\n"
     ]
    },
    {
     "name": "stderr",
     "output_type": "stream",
     "text": [
      "C:\\Users\\Nathalie\\AppData\\Local\\Temp\\ipykernel_13344\\3469876962.py:116: FutureWarning: The frame.append method is deprecated and will be removed from pandas in a future version. Use pandas.concat instead.\n",
      "  metrics = metrics.append(\n"
     ]
    },
    {
     "name": "stdout",
     "output_type": "stream",
     "text": [
      "698/698 [==============================] - 1s 887us/step\n"
     ]
    },
    {
     "name": "stderr",
     "output_type": "stream",
     "text": [
      "C:\\Users\\Nathalie\\AppData\\Local\\Temp\\ipykernel_13344\\3469876962.py:116: FutureWarning: The frame.append method is deprecated and will be removed from pandas in a future version. Use pandas.concat instead.\n",
      "  metrics = metrics.append(\n"
     ]
    },
    {
     "name": "stdout",
     "output_type": "stream",
     "text": [
      "1235/1235 [==============================] - 1s 828us/step\n"
     ]
    },
    {
     "name": "stderr",
     "output_type": "stream",
     "text": [
      "C:\\Users\\Nathalie\\AppData\\Local\\Temp\\ipykernel_13344\\3469876962.py:75: FutureWarning: The frame.append method is deprecated and will be removed from pandas in a future version. Use pandas.concat instead.\n",
      "  metrics = metrics.append(\n"
     ]
    },
    {
     "name": "stdout",
     "output_type": "stream",
     "text": [
      "627/627 [==============================] - 1s 947us/step\n"
     ]
    },
    {
     "name": "stderr",
     "output_type": "stream",
     "text": [
      "C:\\Users\\Nathalie\\AppData\\Local\\Temp\\ipykernel_13344\\3469876962.py:116: FutureWarning: The frame.append method is deprecated and will be removed from pandas in a future version. Use pandas.concat instead.\n",
      "  metrics = metrics.append(\n"
     ]
    },
    {
     "name": "stdout",
     "output_type": "stream",
     "text": [
      "692/692 [==============================] - 1s 848us/step\n"
     ]
    },
    {
     "name": "stderr",
     "output_type": "stream",
     "text": [
      "C:\\Users\\Nathalie\\AppData\\Local\\Temp\\ipykernel_13344\\3469876962.py:116: FutureWarning: The frame.append method is deprecated and will be removed from pandas in a future version. Use pandas.concat instead.\n",
      "  metrics = metrics.append(\n"
     ]
    },
    {
     "name": "stdout",
     "output_type": "stream",
     "text": [
      "987/987 [==============================] - 1s 863us/step\n"
     ]
    },
    {
     "name": "stderr",
     "output_type": "stream",
     "text": [
      "C:\\Users\\Nathalie\\AppData\\Local\\Temp\\ipykernel_13344\\3469876962.py:75: FutureWarning: The frame.append method is deprecated and will be removed from pandas in a future version. Use pandas.concat instead.\n",
      "  metrics = metrics.append(\n"
     ]
    },
    {
     "name": "stdout",
     "output_type": "stream",
     "text": [
      "497/497 [==============================] - 0s 875us/step\n"
     ]
    },
    {
     "name": "stderr",
     "output_type": "stream",
     "text": [
      "C:\\Users\\Nathalie\\AppData\\Local\\Temp\\ipykernel_13344\\3469876962.py:116: FutureWarning: The frame.append method is deprecated and will be removed from pandas in a future version. Use pandas.concat instead.\n",
      "  metrics = metrics.append(\n"
     ]
    },
    {
     "name": "stdout",
     "output_type": "stream",
     "text": [
      "530/530 [==============================] - 0s 906us/step\n"
     ]
    },
    {
     "name": "stderr",
     "output_type": "stream",
     "text": [
      "C:\\Users\\Nathalie\\AppData\\Local\\Temp\\ipykernel_13344\\3469876962.py:116: FutureWarning: The frame.append method is deprecated and will be removed from pandas in a future version. Use pandas.concat instead.\n",
      "  metrics = metrics.append(\n"
     ]
    },
    {
     "name": "stdout",
     "output_type": "stream",
     "text": [
      "962/962 [==============================] - 1s 872us/step\n"
     ]
    },
    {
     "name": "stderr",
     "output_type": "stream",
     "text": [
      "C:\\Users\\Nathalie\\AppData\\Local\\Temp\\ipykernel_13344\\3469876962.py:75: FutureWarning: The frame.append method is deprecated and will be removed from pandas in a future version. Use pandas.concat instead.\n",
      "  metrics = metrics.append(\n"
     ]
    },
    {
     "name": "stdout",
     "output_type": "stream",
     "text": [
      "491/491 [==============================] - 0s 882us/step\n"
     ]
    },
    {
     "name": "stderr",
     "output_type": "stream",
     "text": [
      "C:\\Users\\Nathalie\\AppData\\Local\\Temp\\ipykernel_13344\\3469876962.py:116: FutureWarning: The frame.append method is deprecated and will be removed from pandas in a future version. Use pandas.concat instead.\n",
      "  metrics = metrics.append(\n"
     ]
    },
    {
     "name": "stdout",
     "output_type": "stream",
     "text": [
      "525/525 [==============================] - 0s 878us/step\n"
     ]
    },
    {
     "name": "stderr",
     "output_type": "stream",
     "text": [
      "C:\\Users\\Nathalie\\AppData\\Local\\Temp\\ipykernel_13344\\3469876962.py:116: FutureWarning: The frame.append method is deprecated and will be removed from pandas in a future version. Use pandas.concat instead.\n",
      "  metrics = metrics.append(\n"
     ]
    },
    {
     "name": "stdout",
     "output_type": "stream",
     "text": [
      "939/939 [==============================] - 1s 879us/step\n"
     ]
    },
    {
     "name": "stderr",
     "output_type": "stream",
     "text": [
      "C:\\Users\\Nathalie\\AppData\\Local\\Temp\\ipykernel_13344\\3469876962.py:75: FutureWarning: The frame.append method is deprecated and will be removed from pandas in a future version. Use pandas.concat instead.\n",
      "  metrics = metrics.append(\n"
     ]
    },
    {
     "name": "stdout",
     "output_type": "stream",
     "text": [
      "485/485 [==============================] - 0s 875us/step\n"
     ]
    },
    {
     "name": "stderr",
     "output_type": "stream",
     "text": [
      "C:\\Users\\Nathalie\\AppData\\Local\\Temp\\ipykernel_13344\\3469876962.py:116: FutureWarning: The frame.append method is deprecated and will be removed from pandas in a future version. Use pandas.concat instead.\n",
      "  metrics = metrics.append(\n"
     ]
    },
    {
     "name": "stdout",
     "output_type": "stream",
     "text": [
      "520/520 [==============================] - 0s 896us/step\n"
     ]
    },
    {
     "name": "stderr",
     "output_type": "stream",
     "text": [
      "C:\\Users\\Nathalie\\AppData\\Local\\Temp\\ipykernel_13344\\3469876962.py:116: FutureWarning: The frame.append method is deprecated and will be removed from pandas in a future version. Use pandas.concat instead.\n",
      "  metrics = metrics.append(\n"
     ]
    },
    {
     "name": "stdout",
     "output_type": "stream",
     "text": [
      "916/916 [==============================] - 1s 866us/step\n"
     ]
    },
    {
     "name": "stderr",
     "output_type": "stream",
     "text": [
      "C:\\Users\\Nathalie\\AppData\\Local\\Temp\\ipykernel_13344\\3469876962.py:75: FutureWarning: The frame.append method is deprecated and will be removed from pandas in a future version. Use pandas.concat instead.\n",
      "  metrics = metrics.append(\n"
     ]
    },
    {
     "name": "stdout",
     "output_type": "stream",
     "text": [
      "480/480 [==============================] - 0s 870us/step\n"
     ]
    },
    {
     "name": "stderr",
     "output_type": "stream",
     "text": [
      "C:\\Users\\Nathalie\\AppData\\Local\\Temp\\ipykernel_13344\\3469876962.py:116: FutureWarning: The frame.append method is deprecated and will be removed from pandas in a future version. Use pandas.concat instead.\n",
      "  metrics = metrics.append(\n"
     ]
    },
    {
     "name": "stdout",
     "output_type": "stream",
     "text": [
      "515/515 [==============================] - 0s 864us/step\n"
     ]
    },
    {
     "name": "stderr",
     "output_type": "stream",
     "text": [
      "C:\\Users\\Nathalie\\AppData\\Local\\Temp\\ipykernel_13344\\3469876962.py:116: FutureWarning: The frame.append method is deprecated and will be removed from pandas in a future version. Use pandas.concat instead.\n",
      "  metrics = metrics.append(\n"
     ]
    },
    {
     "name": "stdout",
     "output_type": "stream",
     "text": [
      "745/745 [==============================] - 1s 857us/step\n"
     ]
    },
    {
     "name": "stderr",
     "output_type": "stream",
     "text": [
      "C:\\Users\\Nathalie\\AppData\\Local\\Temp\\ipykernel_13344\\3469876962.py:75: FutureWarning: The frame.append method is deprecated and will be removed from pandas in a future version. Use pandas.concat instead.\n",
      "  metrics = metrics.append(\n"
     ]
    },
    {
     "name": "stdout",
     "output_type": "stream",
     "text": [
      "387/387 [==============================] - 0s 869us/step\n"
     ]
    },
    {
     "name": "stderr",
     "output_type": "stream",
     "text": [
      "C:\\Users\\Nathalie\\AppData\\Local\\Temp\\ipykernel_13344\\3469876962.py:116: FutureWarning: The frame.append method is deprecated and will be removed from pandas in a future version. Use pandas.concat instead.\n",
      "  metrics = metrics.append(\n"
     ]
    },
    {
     "name": "stdout",
     "output_type": "stream",
     "text": [
      "405/405 [==============================] - 0s 870us/step\n"
     ]
    },
    {
     "name": "stderr",
     "output_type": "stream",
     "text": [
      "C:\\Users\\Nathalie\\AppData\\Local\\Temp\\ipykernel_13344\\3469876962.py:116: FutureWarning: The frame.append method is deprecated and will be removed from pandas in a future version. Use pandas.concat instead.\n",
      "  metrics = metrics.append(\n"
     ]
    },
    {
     "name": "stdout",
     "output_type": "stream",
     "text": [
      "719/719 [==============================] - 1s 818us/step\n"
     ]
    },
    {
     "name": "stderr",
     "output_type": "stream",
     "text": [
      "C:\\Users\\Nathalie\\AppData\\Local\\Temp\\ipykernel_13344\\3469876962.py:75: FutureWarning: The frame.append method is deprecated and will be removed from pandas in a future version. Use pandas.concat instead.\n",
      "  metrics = metrics.append(\n"
     ]
    },
    {
     "name": "stdout",
     "output_type": "stream",
     "text": [
      "379/379 [==============================] - 0s 823us/step\n"
     ]
    },
    {
     "name": "stderr",
     "output_type": "stream",
     "text": [
      "C:\\Users\\Nathalie\\AppData\\Local\\Temp\\ipykernel_13344\\3469876962.py:116: FutureWarning: The frame.append method is deprecated and will be removed from pandas in a future version. Use pandas.concat instead.\n",
      "  metrics = metrics.append(\n"
     ]
    },
    {
     "name": "stdout",
     "output_type": "stream",
     "text": [
      "397/397 [==============================] - 0s 809us/step\n"
     ]
    },
    {
     "name": "stderr",
     "output_type": "stream",
     "text": [
      "C:\\Users\\Nathalie\\AppData\\Local\\Temp\\ipykernel_13344\\3469876962.py:116: FutureWarning: The frame.append method is deprecated and will be removed from pandas in a future version. Use pandas.concat instead.\n",
      "  metrics = metrics.append(\n"
     ]
    },
    {
     "name": "stdout",
     "output_type": "stream",
     "text": [
      "699/699 [==============================] - 1s 899us/step\n"
     ]
    },
    {
     "name": "stderr",
     "output_type": "stream",
     "text": [
      "C:\\Users\\Nathalie\\AppData\\Local\\Temp\\ipykernel_13344\\3469876962.py:75: FutureWarning: The frame.append method is deprecated and will be removed from pandas in a future version. Use pandas.concat instead.\n",
      "  metrics = metrics.append(\n"
     ]
    },
    {
     "name": "stdout",
     "output_type": "stream",
     "text": [
      "374/374 [==============================] - 0s 897us/step\n"
     ]
    },
    {
     "name": "stderr",
     "output_type": "stream",
     "text": [
      "C:\\Users\\Nathalie\\AppData\\Local\\Temp\\ipykernel_13344\\3469876962.py:116: FutureWarning: The frame.append method is deprecated and will be removed from pandas in a future version. Use pandas.concat instead.\n",
      "  metrics = metrics.append(\n"
     ]
    },
    {
     "name": "stdout",
     "output_type": "stream",
     "text": [
      "393/393 [==============================] - 0s 863us/step\n"
     ]
    },
    {
     "name": "stderr",
     "output_type": "stream",
     "text": [
      "C:\\Users\\Nathalie\\AppData\\Local\\Temp\\ipykernel_13344\\3469876962.py:116: FutureWarning: The frame.append method is deprecated and will be removed from pandas in a future version. Use pandas.concat instead.\n",
      "  metrics = metrics.append(\n"
     ]
    },
    {
     "name": "stdout",
     "output_type": "stream",
     "text": [
      "681/681 [==============================] - 1s 1ms/step\n"
     ]
    },
    {
     "name": "stderr",
     "output_type": "stream",
     "text": [
      "C:\\Users\\Nathalie\\AppData\\Local\\Temp\\ipykernel_13344\\3469876962.py:75: FutureWarning: The frame.append method is deprecated and will be removed from pandas in a future version. Use pandas.concat instead.\n",
      "  metrics = metrics.append(\n"
     ]
    },
    {
     "name": "stdout",
     "output_type": "stream",
     "text": [
      "369/369 [==============================] - 0s 1ms/step\n"
     ]
    },
    {
     "name": "stderr",
     "output_type": "stream",
     "text": [
      "C:\\Users\\Nathalie\\AppData\\Local\\Temp\\ipykernel_13344\\3469876962.py:116: FutureWarning: The frame.append method is deprecated and will be removed from pandas in a future version. Use pandas.concat instead.\n",
      "  metrics = metrics.append(\n"
     ]
    },
    {
     "name": "stdout",
     "output_type": "stream",
     "text": [
      "389/389 [==============================] - 0s 1ms/step\n"
     ]
    },
    {
     "name": "stderr",
     "output_type": "stream",
     "text": [
      "C:\\Users\\Nathalie\\AppData\\Local\\Temp\\ipykernel_13344\\3469876962.py:116: FutureWarning: The frame.append method is deprecated and will be removed from pandas in a future version. Use pandas.concat instead.\n",
      "  metrics = metrics.append(\n"
     ]
    },
    {
     "name": "stdout",
     "output_type": "stream",
     "text": [
      "563/563 [==============================] - 1s 1ms/step\n"
     ]
    },
    {
     "name": "stderr",
     "output_type": "stream",
     "text": [
      "C:\\Users\\Nathalie\\AppData\\Local\\Temp\\ipykernel_13344\\3469876962.py:75: FutureWarning: The frame.append method is deprecated and will be removed from pandas in a future version. Use pandas.concat instead.\n",
      "  metrics = metrics.append(\n"
     ]
    },
    {
     "name": "stdout",
     "output_type": "stream",
     "text": [
      "306/306 [==============================] - 0s 1ms/step\n"
     ]
    },
    {
     "name": "stderr",
     "output_type": "stream",
     "text": [
      "C:\\Users\\Nathalie\\AppData\\Local\\Temp\\ipykernel_13344\\3469876962.py:116: FutureWarning: The frame.append method is deprecated and will be removed from pandas in a future version. Use pandas.concat instead.\n",
      "  metrics = metrics.append(\n"
     ]
    },
    {
     "name": "stdout",
     "output_type": "stream",
     "text": [
      "313/313 [==============================] - 0s 1ms/step\n"
     ]
    },
    {
     "name": "stderr",
     "output_type": "stream",
     "text": [
      "C:\\Users\\Nathalie\\AppData\\Local\\Temp\\ipykernel_13344\\3469876962.py:116: FutureWarning: The frame.append method is deprecated and will be removed from pandas in a future version. Use pandas.concat instead.\n",
      "  metrics = metrics.append(\n"
     ]
    },
    {
     "name": "stdout",
     "output_type": "stream",
     "text": [
      "531/531 [==============================] - 1s 1ms/step\n"
     ]
    },
    {
     "name": "stderr",
     "output_type": "stream",
     "text": [
      "C:\\Users\\Nathalie\\AppData\\Local\\Temp\\ipykernel_13344\\3469876962.py:75: FutureWarning: The frame.append method is deprecated and will be removed from pandas in a future version. Use pandas.concat instead.\n",
      "  metrics = metrics.append(\n"
     ]
    },
    {
     "name": "stdout",
     "output_type": "stream",
     "text": [
      "293/293 [==============================] - 0s 922us/step\n"
     ]
    },
    {
     "name": "stderr",
     "output_type": "stream",
     "text": [
      "C:\\Users\\Nathalie\\AppData\\Local\\Temp\\ipykernel_13344\\3469876962.py:116: FutureWarning: The frame.append method is deprecated and will be removed from pandas in a future version. Use pandas.concat instead.\n",
      "  metrics = metrics.append(\n"
     ]
    },
    {
     "name": "stdout",
     "output_type": "stream",
     "text": [
      "297/297 [==============================] - 0s 912us/step\n"
     ]
    },
    {
     "name": "stderr",
     "output_type": "stream",
     "text": [
      "C:\\Users\\Nathalie\\AppData\\Local\\Temp\\ipykernel_13344\\3469876962.py:116: FutureWarning: The frame.append method is deprecated and will be removed from pandas in a future version. Use pandas.concat instead.\n",
      "  metrics = metrics.append(\n"
     ]
    },
    {
     "name": "stdout",
     "output_type": "stream",
     "text": [
      "515/515 [==============================] - 0s 937us/step\n"
     ]
    },
    {
     "name": "stderr",
     "output_type": "stream",
     "text": [
      "C:\\Users\\Nathalie\\AppData\\Local\\Temp\\ipykernel_13344\\3469876962.py:75: FutureWarning: The frame.append method is deprecated and will be removed from pandas in a future version. Use pandas.concat instead.\n",
      "  metrics = metrics.append(\n"
     ]
    },
    {
     "name": "stdout",
     "output_type": "stream",
     "text": [
      "289/289 [==============================] - 0s 940us/step\n"
     ]
    },
    {
     "name": "stderr",
     "output_type": "stream",
     "text": [
      "C:\\Users\\Nathalie\\AppData\\Local\\Temp\\ipykernel_13344\\3469876962.py:116: FutureWarning: The frame.append method is deprecated and will be removed from pandas in a future version. Use pandas.concat instead.\n",
      "  metrics = metrics.append(\n"
     ]
    },
    {
     "name": "stdout",
     "output_type": "stream",
     "text": [
      "292/292 [==============================] - 0s 980us/step\n"
     ]
    },
    {
     "name": "stderr",
     "output_type": "stream",
     "text": [
      "C:\\Users\\Nathalie\\AppData\\Local\\Temp\\ipykernel_13344\\3469876962.py:116: FutureWarning: The frame.append method is deprecated and will be removed from pandas in a future version. Use pandas.concat instead.\n",
      "  metrics = metrics.append(\n"
     ]
    },
    {
     "name": "stdout",
     "output_type": "stream",
     "text": [
      "502/502 [==============================] - 0s 912us/step\n"
     ]
    },
    {
     "name": "stderr",
     "output_type": "stream",
     "text": [
      "C:\\Users\\Nathalie\\AppData\\Local\\Temp\\ipykernel_13344\\3469876962.py:75: FutureWarning: The frame.append method is deprecated and will be removed from pandas in a future version. Use pandas.concat instead.\n",
      "  metrics = metrics.append(\n"
     ]
    },
    {
     "name": "stdout",
     "output_type": "stream",
     "text": [
      "286/286 [==============================] - 0s 1ms/step\n"
     ]
    },
    {
     "name": "stderr",
     "output_type": "stream",
     "text": [
      "C:\\Users\\Nathalie\\AppData\\Local\\Temp\\ipykernel_13344\\3469876962.py:116: FutureWarning: The frame.append method is deprecated and will be removed from pandas in a future version. Use pandas.concat instead.\n",
      "  metrics = metrics.append(\n"
     ]
    },
    {
     "name": "stdout",
     "output_type": "stream",
     "text": [
      "289/289 [==============================] - 0s 899us/step\n"
     ]
    },
    {
     "name": "stderr",
     "output_type": "stream",
     "text": [
      "C:\\Users\\Nathalie\\AppData\\Local\\Temp\\ipykernel_13344\\3469876962.py:116: FutureWarning: The frame.append method is deprecated and will be removed from pandas in a future version. Use pandas.concat instead.\n",
      "  metrics = metrics.append(\n"
     ]
    },
    {
     "name": "stdout",
     "output_type": "stream",
     "text": [
      "425/425 [==============================] - 0s 813us/step\n"
     ]
    },
    {
     "name": "stderr",
     "output_type": "stream",
     "text": [
      "C:\\Users\\Nathalie\\AppData\\Local\\Temp\\ipykernel_13344\\3469876962.py:75: FutureWarning: The frame.append method is deprecated and will be removed from pandas in a future version. Use pandas.concat instead.\n",
      "  metrics = metrics.append(\n"
     ]
    },
    {
     "name": "stdout",
     "output_type": "stream",
     "text": [
      "239/239 [==============================] - 0s 842us/step\n"
     ]
    },
    {
     "name": "stderr",
     "output_type": "stream",
     "text": [
      "C:\\Users\\Nathalie\\AppData\\Local\\Temp\\ipykernel_13344\\3469876962.py:116: FutureWarning: The frame.append method is deprecated and will be removed from pandas in a future version. Use pandas.concat instead.\n",
      "  metrics = metrics.append(\n"
     ]
    },
    {
     "name": "stdout",
     "output_type": "stream",
     "text": [
      "239/239 [==============================] - 0s 838us/step\n"
     ]
    },
    {
     "name": "stderr",
     "output_type": "stream",
     "text": [
      "C:\\Users\\Nathalie\\AppData\\Local\\Temp\\ipykernel_13344\\3469876962.py:116: FutureWarning: The frame.append method is deprecated and will be removed from pandas in a future version. Use pandas.concat instead.\n",
      "  metrics = metrics.append(\n"
     ]
    },
    {
     "name": "stdout",
     "output_type": "stream",
     "text": [
      "395/395 [==============================] - 0s 937us/step\n"
     ]
    },
    {
     "name": "stderr",
     "output_type": "stream",
     "text": [
      "C:\\Users\\Nathalie\\AppData\\Local\\Temp\\ipykernel_13344\\3469876962.py:75: FutureWarning: The frame.append method is deprecated and will be removed from pandas in a future version. Use pandas.concat instead.\n",
      "  metrics = metrics.append(\n"
     ]
    },
    {
     "name": "stdout",
     "output_type": "stream",
     "text": [
      "224/224 [==============================] - 0s 913us/step\n"
     ]
    },
    {
     "name": "stderr",
     "output_type": "stream",
     "text": [
      "C:\\Users\\Nathalie\\AppData\\Local\\Temp\\ipykernel_13344\\3469876962.py:116: FutureWarning: The frame.append method is deprecated and will be removed from pandas in a future version. Use pandas.concat instead.\n",
      "  metrics = metrics.append(\n"
     ]
    },
    {
     "name": "stdout",
     "output_type": "stream",
     "text": [
      "222/222 [==============================] - 0s 954us/step\n"
     ]
    },
    {
     "name": "stderr",
     "output_type": "stream",
     "text": [
      "C:\\Users\\Nathalie\\AppData\\Local\\Temp\\ipykernel_13344\\3469876962.py:116: FutureWarning: The frame.append method is deprecated and will be removed from pandas in a future version. Use pandas.concat instead.\n",
      "  metrics = metrics.append(\n"
     ]
    },
    {
     "name": "stdout",
     "output_type": "stream",
     "text": [
      "381/381 [==============================] - 0s 917us/step\n"
     ]
    },
    {
     "name": "stderr",
     "output_type": "stream",
     "text": [
      "C:\\Users\\Nathalie\\AppData\\Local\\Temp\\ipykernel_13344\\3469876962.py:75: FutureWarning: The frame.append method is deprecated and will be removed from pandas in a future version. Use pandas.concat instead.\n",
      "  metrics = metrics.append(\n"
     ]
    },
    {
     "name": "stdout",
     "output_type": "stream",
     "text": [
      "218/218 [==============================] - 0s 965us/step\n"
     ]
    },
    {
     "name": "stderr",
     "output_type": "stream",
     "text": [
      "C:\\Users\\Nathalie\\AppData\\Local\\Temp\\ipykernel_13344\\3469876962.py:116: FutureWarning: The frame.append method is deprecated and will be removed from pandas in a future version. Use pandas.concat instead.\n",
      "  metrics = metrics.append(\n"
     ]
    },
    {
     "name": "stdout",
     "output_type": "stream",
     "text": [
      "216/216 [==============================] - 0s 932us/step\n"
     ]
    },
    {
     "name": "stderr",
     "output_type": "stream",
     "text": [
      "C:\\Users\\Nathalie\\AppData\\Local\\Temp\\ipykernel_13344\\3469876962.py:116: FutureWarning: The frame.append method is deprecated and will be removed from pandas in a future version. Use pandas.concat instead.\n",
      "  metrics = metrics.append(\n"
     ]
    },
    {
     "name": "stdout",
     "output_type": "stream",
     "text": [
      "369/369 [==============================] - 0s 1ms/step\n"
     ]
    },
    {
     "name": "stderr",
     "output_type": "stream",
     "text": [
      "C:\\Users\\Nathalie\\AppData\\Local\\Temp\\ipykernel_13344\\3469876962.py:75: FutureWarning: The frame.append method is deprecated and will be removed from pandas in a future version. Use pandas.concat instead.\n",
      "  metrics = metrics.append(\n"
     ]
    },
    {
     "name": "stdout",
     "output_type": "stream",
     "text": [
      "215/215 [==============================] - 0s 945us/step\n"
     ]
    },
    {
     "name": "stderr",
     "output_type": "stream",
     "text": [
      "C:\\Users\\Nathalie\\AppData\\Local\\Temp\\ipykernel_13344\\3469876962.py:116: FutureWarning: The frame.append method is deprecated and will be removed from pandas in a future version. Use pandas.concat instead.\n",
      "  metrics = metrics.append(\n"
     ]
    },
    {
     "name": "stdout",
     "output_type": "stream",
     "text": [
      "213/213 [==============================] - 0s 940us/step\n"
     ]
    },
    {
     "name": "stderr",
     "output_type": "stream",
     "text": [
      "C:\\Users\\Nathalie\\AppData\\Local\\Temp\\ipykernel_13344\\3469876962.py:116: FutureWarning: The frame.append method is deprecated and will be removed from pandas in a future version. Use pandas.concat instead.\n",
      "  metrics = metrics.append(\n"
     ]
    },
    {
     "name": "stdout",
     "output_type": "stream",
     "text": [
      "320/320 [==============================] - 0s 941us/step\n"
     ]
    },
    {
     "name": "stderr",
     "output_type": "stream",
     "text": [
      "C:\\Users\\Nathalie\\AppData\\Local\\Temp\\ipykernel_13344\\3469876962.py:75: FutureWarning: The frame.append method is deprecated and will be removed from pandas in a future version. Use pandas.concat instead.\n",
      "  metrics = metrics.append(\n"
     ]
    },
    {
     "name": "stdout",
     "output_type": "stream",
     "text": [
      "187/187 [==============================] - 0s 957us/step\n"
     ]
    },
    {
     "name": "stderr",
     "output_type": "stream",
     "text": [
      "C:\\Users\\Nathalie\\AppData\\Local\\Temp\\ipykernel_13344\\3469876962.py:116: FutureWarning: The frame.append method is deprecated and will be removed from pandas in a future version. Use pandas.concat instead.\n",
      "  metrics = metrics.append(\n"
     ]
    },
    {
     "name": "stdout",
     "output_type": "stream",
     "text": [
      "182/182 [==============================] - 0s 990us/step\n"
     ]
    },
    {
     "name": "stderr",
     "output_type": "stream",
     "text": [
      "C:\\Users\\Nathalie\\AppData\\Local\\Temp\\ipykernel_13344\\3469876962.py:116: FutureWarning: The frame.append method is deprecated and will be removed from pandas in a future version. Use pandas.concat instead.\n",
      "  metrics = metrics.append(\n"
     ]
    },
    {
     "name": "stdout",
     "output_type": "stream",
     "text": [
      "293/293 [==============================] - 0s 910us/step\n"
     ]
    },
    {
     "name": "stderr",
     "output_type": "stream",
     "text": [
      "C:\\Users\\Nathalie\\AppData\\Local\\Temp\\ipykernel_13344\\3469876962.py:75: FutureWarning: The frame.append method is deprecated and will be removed from pandas in a future version. Use pandas.concat instead.\n",
      "  metrics = metrics.append(\n"
     ]
    },
    {
     "name": "stdout",
     "output_type": "stream",
     "text": [
      "171/171 [==============================] - 0s 947us/step\n"
     ]
    },
    {
     "name": "stderr",
     "output_type": "stream",
     "text": [
      "C:\\Users\\Nathalie\\AppData\\Local\\Temp\\ipykernel_13344\\3469876962.py:116: FutureWarning: The frame.append method is deprecated and will be removed from pandas in a future version. Use pandas.concat instead.\n",
      "  metrics = metrics.append(\n"
     ]
    },
    {
     "name": "stdout",
     "output_type": "stream",
     "text": [
      "166/166 [==============================] - 0s 979us/step\n"
     ]
    },
    {
     "name": "stderr",
     "output_type": "stream",
     "text": [
      "C:\\Users\\Nathalie\\AppData\\Local\\Temp\\ipykernel_13344\\3469876962.py:116: FutureWarning: The frame.append method is deprecated and will be removed from pandas in a future version. Use pandas.concat instead.\n",
      "  metrics = metrics.append(\n"
     ]
    },
    {
     "name": "stdout",
     "output_type": "stream",
     "text": [
      "279/279 [==============================] - 0s 877us/step\n"
     ]
    },
    {
     "name": "stderr",
     "output_type": "stream",
     "text": [
      "C:\\Users\\Nathalie\\AppData\\Local\\Temp\\ipykernel_13344\\3469876962.py:75: FutureWarning: The frame.append method is deprecated and will be removed from pandas in a future version. Use pandas.concat instead.\n",
      "  metrics = metrics.append(\n"
     ]
    },
    {
     "name": "stdout",
     "output_type": "stream",
     "text": [
      "164/164 [==============================] - 0s 963us/step\n"
     ]
    },
    {
     "name": "stderr",
     "output_type": "stream",
     "text": [
      "C:\\Users\\Nathalie\\AppData\\Local\\Temp\\ipykernel_13344\\3469876962.py:116: FutureWarning: The frame.append method is deprecated and will be removed from pandas in a future version. Use pandas.concat instead.\n",
      "  metrics = metrics.append(\n"
     ]
    },
    {
     "name": "stdout",
     "output_type": "stream",
     "text": [
      "160/160 [==============================] - 0s 903us/step\n"
     ]
    },
    {
     "name": "stderr",
     "output_type": "stream",
     "text": [
      "C:\\Users\\Nathalie\\AppData\\Local\\Temp\\ipykernel_13344\\3469876962.py:116: FutureWarning: The frame.append method is deprecated and will be removed from pandas in a future version. Use pandas.concat instead.\n",
      "  metrics = metrics.append(\n"
     ]
    },
    {
     "name": "stdout",
     "output_type": "stream",
     "text": [
      "269/269 [==============================] - 0s 903us/step\n"
     ]
    },
    {
     "name": "stderr",
     "output_type": "stream",
     "text": [
      "C:\\Users\\Nathalie\\AppData\\Local\\Temp\\ipykernel_13344\\3469876962.py:75: FutureWarning: The frame.append method is deprecated and will be removed from pandas in a future version. Use pandas.concat instead.\n",
      "  metrics = metrics.append(\n"
     ]
    },
    {
     "name": "stdout",
     "output_type": "stream",
     "text": [
      "160/160 [==============================] - 0s 936us/step\n"
     ]
    },
    {
     "name": "stderr",
     "output_type": "stream",
     "text": [
      "C:\\Users\\Nathalie\\AppData\\Local\\Temp\\ipykernel_13344\\3469876962.py:116: FutureWarning: The frame.append method is deprecated and will be removed from pandas in a future version. Use pandas.concat instead.\n",
      "  metrics = metrics.append(\n"
     ]
    },
    {
     "name": "stdout",
     "output_type": "stream",
     "text": [
      "157/157 [==============================] - 0s 946us/step\n"
     ]
    },
    {
     "name": "stderr",
     "output_type": "stream",
     "text": [
      "C:\\Users\\Nathalie\\AppData\\Local\\Temp\\ipykernel_13344\\3469876962.py:116: FutureWarning: The frame.append method is deprecated and will be removed from pandas in a future version. Use pandas.concat instead.\n",
      "  metrics = metrics.append(\n"
     ]
    },
    {
     "name": "stdout",
     "output_type": "stream",
     "text": [
      "241/241 [==============================] - 0s 951us/step\n"
     ]
    },
    {
     "name": "stderr",
     "output_type": "stream",
     "text": [
      "C:\\Users\\Nathalie\\AppData\\Local\\Temp\\ipykernel_13344\\3469876962.py:75: FutureWarning: The frame.append method is deprecated and will be removed from pandas in a future version. Use pandas.concat instead.\n",
      "  metrics = metrics.append(\n"
     ]
    },
    {
     "name": "stdout",
     "output_type": "stream",
     "text": [
      "143/143 [==============================] - 0s 992us/step\n"
     ]
    },
    {
     "name": "stderr",
     "output_type": "stream",
     "text": [
      "C:\\Users\\Nathalie\\AppData\\Local\\Temp\\ipykernel_13344\\3469876962.py:116: FutureWarning: The frame.append method is deprecated and will be removed from pandas in a future version. Use pandas.concat instead.\n",
      "  metrics = metrics.append(\n"
     ]
    },
    {
     "name": "stdout",
     "output_type": "stream",
     "text": [
      "138/138 [==============================] - 0s 937us/step\n"
     ]
    },
    {
     "name": "stderr",
     "output_type": "stream",
     "text": [
      "C:\\Users\\Nathalie\\AppData\\Local\\Temp\\ipykernel_13344\\3469876962.py:116: FutureWarning: The frame.append method is deprecated and will be removed from pandas in a future version. Use pandas.concat instead.\n",
      "  metrics = metrics.append(\n"
     ]
    },
    {
     "name": "stdout",
     "output_type": "stream",
     "text": [
      "219/219 [==============================] - 0s 916us/step\n"
     ]
    },
    {
     "name": "stderr",
     "output_type": "stream",
     "text": [
      "C:\\Users\\Nathalie\\AppData\\Local\\Temp\\ipykernel_13344\\3469876962.py:75: FutureWarning: The frame.append method is deprecated and will be removed from pandas in a future version. Use pandas.concat instead.\n",
      "  metrics = metrics.append(\n"
     ]
    },
    {
     "name": "stdout",
     "output_type": "stream",
     "text": [
      "132/132 [==============================] - 0s 1ms/step\n"
     ]
    },
    {
     "name": "stderr",
     "output_type": "stream",
     "text": [
      "C:\\Users\\Nathalie\\AppData\\Local\\Temp\\ipykernel_13344\\3469876962.py:116: FutureWarning: The frame.append method is deprecated and will be removed from pandas in a future version. Use pandas.concat instead.\n",
      "  metrics = metrics.append(\n"
     ]
    },
    {
     "name": "stdout",
     "output_type": "stream",
     "text": [
      "124/124 [==============================] - 0s 1ms/step\n"
     ]
    },
    {
     "name": "stderr",
     "output_type": "stream",
     "text": [
      "C:\\Users\\Nathalie\\AppData\\Local\\Temp\\ipykernel_13344\\3469876962.py:116: FutureWarning: The frame.append method is deprecated and will be removed from pandas in a future version. Use pandas.concat instead.\n",
      "  metrics = metrics.append(\n"
     ]
    },
    {
     "name": "stdout",
     "output_type": "stream",
     "text": [
      "206/206 [==============================] - 0s 957us/step\n"
     ]
    },
    {
     "name": "stderr",
     "output_type": "stream",
     "text": [
      "C:\\Users\\Nathalie\\AppData\\Local\\Temp\\ipykernel_13344\\3469876962.py:75: FutureWarning: The frame.append method is deprecated and will be removed from pandas in a future version. Use pandas.concat instead.\n",
      "  metrics = metrics.append(\n"
     ]
    },
    {
     "name": "stdout",
     "output_type": "stream",
     "text": [
      "125/125 [==============================] - 0s 966us/step\n"
     ]
    },
    {
     "name": "stderr",
     "output_type": "stream",
     "text": [
      "C:\\Users\\Nathalie\\AppData\\Local\\Temp\\ipykernel_13344\\3469876962.py:116: FutureWarning: The frame.append method is deprecated and will be removed from pandas in a future version. Use pandas.concat instead.\n",
      "  metrics = metrics.append(\n"
     ]
    },
    {
     "name": "stdout",
     "output_type": "stream",
     "text": [
      "118/118 [==============================] - 0s 1ms/step\n"
     ]
    },
    {
     "name": "stderr",
     "output_type": "stream",
     "text": [
      "C:\\Users\\Nathalie\\AppData\\Local\\Temp\\ipykernel_13344\\3469876962.py:116: FutureWarning: The frame.append method is deprecated and will be removed from pandas in a future version. Use pandas.concat instead.\n",
      "  metrics = metrics.append(\n"
     ]
    },
    {
     "name": "stdout",
     "output_type": "stream",
     "text": [
      "198/198 [==============================] - 0s 977us/step\n"
     ]
    },
    {
     "name": "stderr",
     "output_type": "stream",
     "text": [
      "C:\\Users\\Nathalie\\AppData\\Local\\Temp\\ipykernel_13344\\3469876962.py:75: FutureWarning: The frame.append method is deprecated and will be removed from pandas in a future version. Use pandas.concat instead.\n",
      "  metrics = metrics.append(\n"
     ]
    },
    {
     "name": "stdout",
     "output_type": "stream",
     "text": [
      "121/121 [==============================] - 0s 1ms/step\n"
     ]
    },
    {
     "name": "stderr",
     "output_type": "stream",
     "text": [
      "C:\\Users\\Nathalie\\AppData\\Local\\Temp\\ipykernel_13344\\3469876962.py:116: FutureWarning: The frame.append method is deprecated and will be removed from pandas in a future version. Use pandas.concat instead.\n",
      "  metrics = metrics.append(\n"
     ]
    },
    {
     "name": "stdout",
     "output_type": "stream",
     "text": [
      "115/115 [==============================] - 0s 1ms/step\n"
     ]
    },
    {
     "name": "stderr",
     "output_type": "stream",
     "text": [
      "C:\\Users\\Nathalie\\AppData\\Local\\Temp\\ipykernel_13344\\3469876962.py:116: FutureWarning: The frame.append method is deprecated and will be removed from pandas in a future version. Use pandas.concat instead.\n",
      "  metrics = metrics.append(\n"
     ]
    },
    {
     "name": "stdout",
     "output_type": "stream",
     "text": [
      "181/181 [==============================] - 0s 939us/step\n"
     ]
    },
    {
     "name": "stderr",
     "output_type": "stream",
     "text": [
      "C:\\Users\\Nathalie\\AppData\\Local\\Temp\\ipykernel_13344\\3469876962.py:75: FutureWarning: The frame.append method is deprecated and will be removed from pandas in a future version. Use pandas.concat instead.\n",
      "  metrics = metrics.append(\n"
     ]
    },
    {
     "name": "stdout",
     "output_type": "stream",
     "text": [
      "110/110 [==============================] - 0s 1ms/step\n",
      "  1/103 [..............................] - ETA: 1s"
     ]
    },
    {
     "name": "stderr",
     "output_type": "stream",
     "text": [
      "C:\\Users\\Nathalie\\AppData\\Local\\Temp\\ipykernel_13344\\3469876962.py:116: FutureWarning: The frame.append method is deprecated and will be removed from pandas in a future version. Use pandas.concat instead.\n",
      "  metrics = metrics.append(\n"
     ]
    },
    {
     "name": "stdout",
     "output_type": "stream",
     "text": [
      "103/103 [==============================] - 0s 1ms/step\n"
     ]
    },
    {
     "name": "stderr",
     "output_type": "stream",
     "text": [
      "C:\\Users\\Nathalie\\AppData\\Local\\Temp\\ipykernel_13344\\3469876962.py:116: FutureWarning: The frame.append method is deprecated and will be removed from pandas in a future version. Use pandas.concat instead.\n",
      "  metrics = metrics.append(\n"
     ]
    },
    {
     "name": "stdout",
     "output_type": "stream",
     "text": [
      "165/165 [==============================] - 0s 964us/step\n",
      "  1/101 [..............................] - ETA: 1s"
     ]
    },
    {
     "name": "stderr",
     "output_type": "stream",
     "text": [
      "C:\\Users\\Nathalie\\AppData\\Local\\Temp\\ipykernel_13344\\3469876962.py:75: FutureWarning: The frame.append method is deprecated and will be removed from pandas in a future version. Use pandas.concat instead.\n",
      "  metrics = metrics.append(\n"
     ]
    },
    {
     "name": "stdout",
     "output_type": "stream",
     "text": [
      "101/101 [==============================] - 0s 1ms/step\n",
      " 1/94 [..............................] - ETA: 1s"
     ]
    },
    {
     "name": "stderr",
     "output_type": "stream",
     "text": [
      "C:\\Users\\Nathalie\\AppData\\Local\\Temp\\ipykernel_13344\\3469876962.py:116: FutureWarning: The frame.append method is deprecated and will be removed from pandas in a future version. Use pandas.concat instead.\n",
      "  metrics = metrics.append(\n"
     ]
    },
    {
     "name": "stdout",
     "output_type": "stream",
     "text": [
      "94/94 [==============================] - 0s 1ms/step\n"
     ]
    },
    {
     "name": "stderr",
     "output_type": "stream",
     "text": [
      "C:\\Users\\Nathalie\\AppData\\Local\\Temp\\ipykernel_13344\\3469876962.py:116: FutureWarning: The frame.append method is deprecated and will be removed from pandas in a future version. Use pandas.concat instead.\n",
      "  metrics = metrics.append(\n"
     ]
    },
    {
     "name": "stdout",
     "output_type": "stream",
     "text": [
      "153/153 [==============================] - 0s 947us/step\n",
      " 1/95 [..............................] - ETA: 1s"
     ]
    },
    {
     "name": "stderr",
     "output_type": "stream",
     "text": [
      "C:\\Users\\Nathalie\\AppData\\Local\\Temp\\ipykernel_13344\\3469876962.py:75: FutureWarning: The frame.append method is deprecated and will be removed from pandas in a future version. Use pandas.concat instead.\n",
      "  metrics = metrics.append(\n"
     ]
    },
    {
     "name": "stdout",
     "output_type": "stream",
     "text": [
      "95/95 [==============================] - 0s 953us/step\n",
      " 1/88 [..............................] - ETA: 1s"
     ]
    },
    {
     "name": "stderr",
     "output_type": "stream",
     "text": [
      "C:\\Users\\Nathalie\\AppData\\Local\\Temp\\ipykernel_13344\\3469876962.py:116: FutureWarning: The frame.append method is deprecated and will be removed from pandas in a future version. Use pandas.concat instead.\n",
      "  metrics = metrics.append(\n"
     ]
    },
    {
     "name": "stdout",
     "output_type": "stream",
     "text": [
      "88/88 [==============================] - 0s 998us/step\n"
     ]
    },
    {
     "name": "stderr",
     "output_type": "stream",
     "text": [
      "C:\\Users\\Nathalie\\AppData\\Local\\Temp\\ipykernel_13344\\3469876962.py:116: FutureWarning: The frame.append method is deprecated and will be removed from pandas in a future version. Use pandas.concat instead.\n",
      "  metrics = metrics.append(\n"
     ]
    },
    {
     "name": "stdout",
     "output_type": "stream",
     "text": [
      "145/145 [==============================] - 0s 957us/step\n"
     ]
    },
    {
     "name": "stderr",
     "output_type": "stream",
     "text": [
      "C:\\Users\\Nathalie\\AppData\\Local\\Temp\\ipykernel_13344\\3469876962.py:75: FutureWarning: The frame.append method is deprecated and will be removed from pandas in a future version. Use pandas.concat instead.\n",
      "  metrics = metrics.append(\n"
     ]
    },
    {
     "name": "stdout",
     "output_type": "stream",
     "text": [
      "91/91 [==============================] - 0s 1ms/step\n",
      " 1/84 [..............................] - ETA: 1s"
     ]
    },
    {
     "name": "stderr",
     "output_type": "stream",
     "text": [
      "C:\\Users\\Nathalie\\AppData\\Local\\Temp\\ipykernel_13344\\3469876962.py:116: FutureWarning: The frame.append method is deprecated and will be removed from pandas in a future version. Use pandas.concat instead.\n",
      "  metrics = metrics.append(\n"
     ]
    },
    {
     "name": "stdout",
     "output_type": "stream",
     "text": [
      "84/84 [==============================] - 0s 1ms/step\n"
     ]
    },
    {
     "name": "stderr",
     "output_type": "stream",
     "text": [
      "C:\\Users\\Nathalie\\AppData\\Local\\Temp\\ipykernel_13344\\3469876962.py:116: FutureWarning: The frame.append method is deprecated and will be removed from pandas in a future version. Use pandas.concat instead.\n",
      "  metrics = metrics.append(\n"
     ]
    },
    {
     "name": "stdout",
     "output_type": "stream",
     "text": [
      "134/134 [==============================] - 0s 957us/step\n",
      " 1/85 [..............................] - ETA: 1s"
     ]
    },
    {
     "name": "stderr",
     "output_type": "stream",
     "text": [
      "C:\\Users\\Nathalie\\AppData\\Local\\Temp\\ipykernel_13344\\3469876962.py:75: FutureWarning: The frame.append method is deprecated and will be removed from pandas in a future version. Use pandas.concat instead.\n",
      "  metrics = metrics.append(\n"
     ]
    },
    {
     "name": "stdout",
     "output_type": "stream",
     "text": [
      "85/85 [==============================] - 0s 1ms/step\n",
      " 1/77 [..............................] - ETA: 1s"
     ]
    },
    {
     "name": "stderr",
     "output_type": "stream",
     "text": [
      "C:\\Users\\Nathalie\\AppData\\Local\\Temp\\ipykernel_13344\\3469876962.py:116: FutureWarning: The frame.append method is deprecated and will be removed from pandas in a future version. Use pandas.concat instead.\n",
      "  metrics = metrics.append(\n"
     ]
    },
    {
     "name": "stdout",
     "output_type": "stream",
     "text": [
      "77/77 [==============================] - 0s 1ms/step\n"
     ]
    },
    {
     "name": "stderr",
     "output_type": "stream",
     "text": [
      "C:\\Users\\Nathalie\\AppData\\Local\\Temp\\ipykernel_13344\\3469876962.py:116: FutureWarning: The frame.append method is deprecated and will be removed from pandas in a future version. Use pandas.concat instead.\n",
      "  metrics = metrics.append(\n"
     ]
    },
    {
     "name": "stdout",
     "output_type": "stream",
     "text": [
      "125/125 [==============================] - 0s 959us/step\n",
      " 1/79 [..............................] - ETA: 1s"
     ]
    },
    {
     "name": "stderr",
     "output_type": "stream",
     "text": [
      "C:\\Users\\Nathalie\\AppData\\Local\\Temp\\ipykernel_13344\\3469876962.py:75: FutureWarning: The frame.append method is deprecated and will be removed from pandas in a future version. Use pandas.concat instead.\n",
      "  metrics = metrics.append(\n"
     ]
    },
    {
     "name": "stdout",
     "output_type": "stream",
     "text": [
      "79/79 [==============================] - 0s 1ms/step\n",
      " 1/72 [..............................] - ETA: 1s"
     ]
    },
    {
     "name": "stderr",
     "output_type": "stream",
     "text": [
      "C:\\Users\\Nathalie\\AppData\\Local\\Temp\\ipykernel_13344\\3469876962.py:116: FutureWarning: The frame.append method is deprecated and will be removed from pandas in a future version. Use pandas.concat instead.\n",
      "  metrics = metrics.append(\n"
     ]
    },
    {
     "name": "stdout",
     "output_type": "stream",
     "text": [
      "72/72 [==============================] - 0s 1ms/step\n"
     ]
    },
    {
     "name": "stderr",
     "output_type": "stream",
     "text": [
      "C:\\Users\\Nathalie\\AppData\\Local\\Temp\\ipykernel_13344\\3469876962.py:116: FutureWarning: The frame.append method is deprecated and will be removed from pandas in a future version. Use pandas.concat instead.\n",
      "  metrics = metrics.append(\n"
     ]
    },
    {
     "name": "stdout",
     "output_type": "stream",
     "text": [
      "114/114 [==============================] - 0s 969us/step\n",
      " 1/72 [..............................] - ETA: 1s"
     ]
    },
    {
     "name": "stderr",
     "output_type": "stream",
     "text": [
      "C:\\Users\\Nathalie\\AppData\\Local\\Temp\\ipykernel_13344\\3469876962.py:75: FutureWarning: The frame.append method is deprecated and will be removed from pandas in a future version. Use pandas.concat instead.\n",
      "  metrics = metrics.append(\n"
     ]
    },
    {
     "name": "stdout",
     "output_type": "stream",
     "text": [
      "72/72 [==============================] - 0s 986us/step\n",
      " 1/67 [..............................] - ETA: 0s"
     ]
    },
    {
     "name": "stderr",
     "output_type": "stream",
     "text": [
      "C:\\Users\\Nathalie\\AppData\\Local\\Temp\\ipykernel_13344\\3469876962.py:116: FutureWarning: The frame.append method is deprecated and will be removed from pandas in a future version. Use pandas.concat instead.\n",
      "  metrics = metrics.append(\n"
     ]
    },
    {
     "name": "stdout",
     "output_type": "stream",
     "text": [
      "67/67 [==============================] - 0s 1ms/step\n"
     ]
    },
    {
     "name": "stderr",
     "output_type": "stream",
     "text": [
      "C:\\Users\\Nathalie\\AppData\\Local\\Temp\\ipykernel_13344\\3469876962.py:116: FutureWarning: The frame.append method is deprecated and will be removed from pandas in a future version. Use pandas.concat instead.\n",
      "  metrics = metrics.append(\n"
     ]
    },
    {
     "name": "stdout",
     "output_type": "stream",
     "text": [
      "108/108 [==============================] - 0s 933us/step\n",
      " 1/68 [..............................] - ETA: 1s"
     ]
    },
    {
     "name": "stderr",
     "output_type": "stream",
     "text": [
      "C:\\Users\\Nathalie\\AppData\\Local\\Temp\\ipykernel_13344\\3469876962.py:75: FutureWarning: The frame.append method is deprecated and will be removed from pandas in a future version. Use pandas.concat instead.\n",
      "  metrics = metrics.append(\n"
     ]
    },
    {
     "name": "stdout",
     "output_type": "stream",
     "text": [
      "68/68 [==============================] - 0s 948us/step\n",
      " 1/63 [..............................] - ETA: 0s"
     ]
    },
    {
     "name": "stderr",
     "output_type": "stream",
     "text": [
      "C:\\Users\\Nathalie\\AppData\\Local\\Temp\\ipykernel_13344\\3469876962.py:116: FutureWarning: The frame.append method is deprecated and will be removed from pandas in a future version. Use pandas.concat instead.\n",
      "  metrics = metrics.append(\n"
     ]
    },
    {
     "name": "stdout",
     "output_type": "stream",
     "text": [
      "63/63 [==============================] - 0s 961us/step\n"
     ]
    },
    {
     "name": "stderr",
     "output_type": "stream",
     "text": [
      "C:\\Users\\Nathalie\\AppData\\Local\\Temp\\ipykernel_13344\\3469876962.py:116: FutureWarning: The frame.append method is deprecated and will be removed from pandas in a future version. Use pandas.concat instead.\n",
      "  metrics = metrics.append(\n"
     ]
    },
    {
     "name": "stdout",
     "output_type": "stream",
     "text": [
      "100/100 [==============================] - 0s 962us/step\n",
      " 1/64 [..............................] - ETA: 0s"
     ]
    },
    {
     "name": "stderr",
     "output_type": "stream",
     "text": [
      "C:\\Users\\Nathalie\\AppData\\Local\\Temp\\ipykernel_13344\\3469876962.py:75: FutureWarning: The frame.append method is deprecated and will be removed from pandas in a future version. Use pandas.concat instead.\n",
      "  metrics = metrics.append(\n"
     ]
    },
    {
     "name": "stdout",
     "output_type": "stream",
     "text": [
      "64/64 [==============================] - 0s 1ms/step\n",
      " 1/59 [..............................] - ETA: 0s"
     ]
    },
    {
     "name": "stderr",
     "output_type": "stream",
     "text": [
      "C:\\Users\\Nathalie\\AppData\\Local\\Temp\\ipykernel_13344\\3469876962.py:116: FutureWarning: The frame.append method is deprecated and will be removed from pandas in a future version. Use pandas.concat instead.\n",
      "  metrics = metrics.append(\n"
     ]
    },
    {
     "name": "stdout",
     "output_type": "stream",
     "text": [
      "59/59 [==============================] - 0s 1ms/step\n"
     ]
    },
    {
     "name": "stderr",
     "output_type": "stream",
     "text": [
      "C:\\Users\\Nathalie\\AppData\\Local\\Temp\\ipykernel_13344\\3469876962.py:116: FutureWarning: The frame.append method is deprecated and will be removed from pandas in a future version. Use pandas.concat instead.\n",
      "  metrics = metrics.append(\n"
     ]
    },
    {
     "name": "stdout",
     "output_type": "stream",
     "text": [
      "92/92 [==============================] - 0s 1ms/step\n",
      " 1/59 [..............................] - ETA: 0s"
     ]
    },
    {
     "name": "stderr",
     "output_type": "stream",
     "text": [
      "C:\\Users\\Nathalie\\AppData\\Local\\Temp\\ipykernel_13344\\3469876962.py:75: FutureWarning: The frame.append method is deprecated and will be removed from pandas in a future version. Use pandas.concat instead.\n",
      "  metrics = metrics.append(\n"
     ]
    },
    {
     "name": "stdout",
     "output_type": "stream",
     "text": [
      "59/59 [==============================] - 0s 972us/step\n",
      " 1/54 [..............................] - ETA: 0s"
     ]
    },
    {
     "name": "stderr",
     "output_type": "stream",
     "text": [
      "C:\\Users\\Nathalie\\AppData\\Local\\Temp\\ipykernel_13344\\3469876962.py:116: FutureWarning: The frame.append method is deprecated and will be removed from pandas in a future version. Use pandas.concat instead.\n",
      "  metrics = metrics.append(\n"
     ]
    },
    {
     "name": "stdout",
     "output_type": "stream",
     "text": [
      "54/54 [==============================] - 0s 997us/step\n"
     ]
    },
    {
     "name": "stderr",
     "output_type": "stream",
     "text": [
      "C:\\Users\\Nathalie\\AppData\\Local\\Temp\\ipykernel_13344\\3469876962.py:116: FutureWarning: The frame.append method is deprecated and will be removed from pandas in a future version. Use pandas.concat instead.\n",
      "  metrics = metrics.append(\n"
     ]
    },
    {
     "name": "stdout",
     "output_type": "stream",
     "text": [
      "86/86 [==============================] - 0s 941us/step\n",
      " 1/55 [..............................] - ETA: 0s"
     ]
    },
    {
     "name": "stderr",
     "output_type": "stream",
     "text": [
      "C:\\Users\\Nathalie\\AppData\\Local\\Temp\\ipykernel_13344\\3469876962.py:75: FutureWarning: The frame.append method is deprecated and will be removed from pandas in a future version. Use pandas.concat instead.\n",
      "  metrics = metrics.append(\n"
     ]
    },
    {
     "name": "stdout",
     "output_type": "stream",
     "text": [
      "55/55 [==============================] - 0s 966us/step\n",
      "50/50 [==============================] - 0s 886us/step\n"
     ]
    },
    {
     "name": "stderr",
     "output_type": "stream",
     "text": [
      "C:\\Users\\Nathalie\\AppData\\Local\\Temp\\ipykernel_13344\\3469876962.py:116: FutureWarning: The frame.append method is deprecated and will be removed from pandas in a future version. Use pandas.concat instead.\n",
      "  metrics = metrics.append(\n",
      "C:\\Users\\Nathalie\\AppData\\Local\\Temp\\ipykernel_13344\\3469876962.py:116: FutureWarning: The frame.append method is deprecated and will be removed from pandas in a future version. Use pandas.concat instead.\n",
      "  metrics = metrics.append(\n"
     ]
    },
    {
     "name": "stdout",
     "output_type": "stream",
     "text": [
      "80/80 [==============================] - 0s 993us/step\n",
      "52/52 [==============================] - 0s 818us/step\n"
     ]
    },
    {
     "name": "stderr",
     "output_type": "stream",
     "text": [
      "C:\\Users\\Nathalie\\AppData\\Local\\Temp\\ipykernel_13344\\3469876962.py:75: FutureWarning: The frame.append method is deprecated and will be removed from pandas in a future version. Use pandas.concat instead.\n",
      "  metrics = metrics.append(\n"
     ]
    },
    {
     "name": "stdout",
     "output_type": "stream",
     "text": [
      "43/47 [==========================>...] - ETA: 0s"
     ]
    },
    {
     "name": "stderr",
     "output_type": "stream",
     "text": [
      "C:\\Users\\Nathalie\\AppData\\Local\\Temp\\ipykernel_13344\\3469876962.py:116: FutureWarning: The frame.append method is deprecated and will be removed from pandas in a future version. Use pandas.concat instead.\n",
      "  metrics = metrics.append(\n"
     ]
    },
    {
     "name": "stdout",
     "output_type": "stream",
     "text": [
      "47/47 [==============================] - 0s 1ms/step\n"
     ]
    },
    {
     "name": "stderr",
     "output_type": "stream",
     "text": [
      "C:\\Users\\Nathalie\\AppData\\Local\\Temp\\ipykernel_13344\\3469876962.py:116: FutureWarning: The frame.append method is deprecated and will be removed from pandas in a future version. Use pandas.concat instead.\n",
      "  metrics = metrics.append(\n"
     ]
    },
    {
     "name": "stdout",
     "output_type": "stream",
     "text": [
      "75/75 [==============================] - 0s 1ms/step\n",
      "49/49 [==============================] - 0s 984us/step\n"
     ]
    },
    {
     "name": "stderr",
     "output_type": "stream",
     "text": [
      "C:\\Users\\Nathalie\\AppData\\Local\\Temp\\ipykernel_13344\\3469876962.py:75: FutureWarning: The frame.append method is deprecated and will be removed from pandas in a future version. Use pandas.concat instead.\n",
      "  metrics = metrics.append(\n"
     ]
    },
    {
     "name": "stdout",
     "output_type": "stream",
     "text": [
      "43/43 [==============================] - 0s 1000us/step\n"
     ]
    },
    {
     "name": "stderr",
     "output_type": "stream",
     "text": [
      "C:\\Users\\Nathalie\\AppData\\Local\\Temp\\ipykernel_13344\\3469876962.py:116: FutureWarning: The frame.append method is deprecated and will be removed from pandas in a future version. Use pandas.concat instead.\n",
      "  metrics = metrics.append(\n",
      "C:\\Users\\Nathalie\\AppData\\Local\\Temp\\ipykernel_13344\\3469876962.py:116: FutureWarning: The frame.append method is deprecated and will be removed from pandas in a future version. Use pandas.concat instead.\n",
      "  metrics = metrics.append(\n"
     ]
    },
    {
     "name": "stdout",
     "output_type": "stream",
     "text": [
      "70/70 [==============================] - 0s 995us/step\n",
      "45/45 [==============================] - 0s 909us/step\n"
     ]
    },
    {
     "name": "stderr",
     "output_type": "stream",
     "text": [
      "C:\\Users\\Nathalie\\AppData\\Local\\Temp\\ipykernel_13344\\3469876962.py:75: FutureWarning: The frame.append method is deprecated and will be removed from pandas in a future version. Use pandas.concat instead.\n",
      "  metrics = metrics.append(\n"
     ]
    },
    {
     "name": "stdout",
     "output_type": "stream",
     "text": [
      "40/40 [==============================] - 0s 953us/step\n"
     ]
    },
    {
     "name": "stderr",
     "output_type": "stream",
     "text": [
      "C:\\Users\\Nathalie\\AppData\\Local\\Temp\\ipykernel_13344\\3469876962.py:116: FutureWarning: The frame.append method is deprecated and will be removed from pandas in a future version. Use pandas.concat instead.\n",
      "  metrics = metrics.append(\n",
      "C:\\Users\\Nathalie\\AppData\\Local\\Temp\\ipykernel_13344\\3469876962.py:116: FutureWarning: The frame.append method is deprecated and will be removed from pandas in a future version. Use pandas.concat instead.\n",
      "  metrics = metrics.append(\n"
     ]
    },
    {
     "name": "stdout",
     "output_type": "stream",
     "text": [
      "65/65 [==============================] - 0s 1ms/step\n",
      "42/42 [==============================] - 0s 961us/step\n"
     ]
    },
    {
     "name": "stderr",
     "output_type": "stream",
     "text": [
      "C:\\Users\\Nathalie\\AppData\\Local\\Temp\\ipykernel_13344\\3469876962.py:75: FutureWarning: The frame.append method is deprecated and will be removed from pandas in a future version. Use pandas.concat instead.\n",
      "  metrics = metrics.append(\n",
      "C:\\Users\\Nathalie\\AppData\\Local\\Temp\\ipykernel_13344\\3469876962.py:116: FutureWarning: The frame.append method is deprecated and will be removed from pandas in a future version. Use pandas.concat instead.\n",
      "  metrics = metrics.append(\n"
     ]
    },
    {
     "name": "stdout",
     "output_type": "stream",
     "text": [
      "37/37 [==============================] - 0s 1ms/step\n"
     ]
    },
    {
     "name": "stderr",
     "output_type": "stream",
     "text": [
      "C:\\Users\\Nathalie\\AppData\\Local\\Temp\\ipykernel_13344\\3469876962.py:116: FutureWarning: The frame.append method is deprecated and will be removed from pandas in a future version. Use pandas.concat instead.\n",
      "  metrics = metrics.append(\n"
     ]
    },
    {
     "name": "stdout",
     "output_type": "stream",
     "text": [
      "61/61 [==============================] - 0s 947us/step\n",
      "39/39 [==============================] - 0s 1ms/step\n"
     ]
    },
    {
     "name": "stderr",
     "output_type": "stream",
     "text": [
      "C:\\Users\\Nathalie\\AppData\\Local\\Temp\\ipykernel_13344\\3469876962.py:75: FutureWarning: The frame.append method is deprecated and will be removed from pandas in a future version. Use pandas.concat instead.\n",
      "  metrics = metrics.append(\n"
     ]
    },
    {
     "name": "stdout",
     "output_type": "stream",
     "text": [
      "34/34 [==============================] - 0s 806us/step\n"
     ]
    },
    {
     "name": "stderr",
     "output_type": "stream",
     "text": [
      "C:\\Users\\Nathalie\\AppData\\Local\\Temp\\ipykernel_13344\\3469876962.py:116: FutureWarning: The frame.append method is deprecated and will be removed from pandas in a future version. Use pandas.concat instead.\n",
      "  metrics = metrics.append(\n",
      "C:\\Users\\Nathalie\\AppData\\Local\\Temp\\ipykernel_13344\\3469876962.py:116: FutureWarning: The frame.append method is deprecated and will be removed from pandas in a future version. Use pandas.concat instead.\n",
      "  metrics = metrics.append(\n"
     ]
    },
    {
     "name": "stdout",
     "output_type": "stream",
     "text": [
      "57/57 [==============================] - 0s 930us/step\n",
      "36/36 [==============================] - 0s 977us/step\n"
     ]
    },
    {
     "name": "stderr",
     "output_type": "stream",
     "text": [
      "C:\\Users\\Nathalie\\AppData\\Local\\Temp\\ipykernel_13344\\3469876962.py:75: FutureWarning: The frame.append method is deprecated and will be removed from pandas in a future version. Use pandas.concat instead.\n",
      "  metrics = metrics.append(\n",
      "C:\\Users\\Nathalie\\AppData\\Local\\Temp\\ipykernel_13344\\3469876962.py:116: FutureWarning: The frame.append method is deprecated and will be removed from pandas in a future version. Use pandas.concat instead.\n",
      "  metrics = metrics.append(\n"
     ]
    },
    {
     "name": "stdout",
     "output_type": "stream",
     "text": [
      "32/32 [==============================] - 0s 947us/step\n"
     ]
    },
    {
     "name": "stderr",
     "output_type": "stream",
     "text": [
      "C:\\Users\\Nathalie\\AppData\\Local\\Temp\\ipykernel_13344\\3469876962.py:116: FutureWarning: The frame.append method is deprecated and will be removed from pandas in a future version. Use pandas.concat instead.\n",
      "  metrics = metrics.append(\n"
     ]
    },
    {
     "name": "stdout",
     "output_type": "stream",
     "text": [
      "53/53 [==============================] - 0s 888us/step\n",
      "34/34 [==============================] - 0s 943us/step\n"
     ]
    },
    {
     "name": "stderr",
     "output_type": "stream",
     "text": [
      "C:\\Users\\Nathalie\\AppData\\Local\\Temp\\ipykernel_13344\\3469876962.py:75: FutureWarning: The frame.append method is deprecated and will be removed from pandas in a future version. Use pandas.concat instead.\n",
      "  metrics = metrics.append(\n"
     ]
    },
    {
     "name": "stdout",
     "output_type": "stream",
     "text": [
      "29/29 [==============================] - 0s 857us/step\n"
     ]
    },
    {
     "name": "stderr",
     "output_type": "stream",
     "text": [
      "C:\\Users\\Nathalie\\AppData\\Local\\Temp\\ipykernel_13344\\3469876962.py:116: FutureWarning: The frame.append method is deprecated and will be removed from pandas in a future version. Use pandas.concat instead.\n",
      "  metrics = metrics.append(\n",
      "C:\\Users\\Nathalie\\AppData\\Local\\Temp\\ipykernel_13344\\3469876962.py:116: FutureWarning: The frame.append method is deprecated and will be removed from pandas in a future version. Use pandas.concat instead.\n",
      "  metrics = metrics.append(\n"
     ]
    },
    {
     "name": "stdout",
     "output_type": "stream",
     "text": [
      "49/49 [==============================] - 0s 957us/step\n",
      "31/31 [==============================] - 0s 928us/step\n"
     ]
    },
    {
     "name": "stderr",
     "output_type": "stream",
     "text": [
      "C:\\Users\\Nathalie\\AppData\\Local\\Temp\\ipykernel_13344\\3469876962.py:75: FutureWarning: The frame.append method is deprecated and will be removed from pandas in a future version. Use pandas.concat instead.\n",
      "  metrics = metrics.append(\n",
      "C:\\Users\\Nathalie\\AppData\\Local\\Temp\\ipykernel_13344\\3469876962.py:116: FutureWarning: The frame.append method is deprecated and will be removed from pandas in a future version. Use pandas.concat instead.\n",
      "  metrics = metrics.append(\n"
     ]
    },
    {
     "name": "stdout",
     "output_type": "stream",
     "text": [
      "27/27 [==============================] - 0s 918us/step\n"
     ]
    },
    {
     "name": "stderr",
     "output_type": "stream",
     "text": [
      "C:\\Users\\Nathalie\\AppData\\Local\\Temp\\ipykernel_13344\\3469876962.py:116: FutureWarning: The frame.append method is deprecated and will be removed from pandas in a future version. Use pandas.concat instead.\n",
      "  metrics = metrics.append(\n"
     ]
    },
    {
     "name": "stdout",
     "output_type": "stream",
     "text": [
      "46/46 [==============================] - 0s 904us/step\n",
      "29/29 [==============================] - 0s 801us/step\n"
     ]
    },
    {
     "name": "stderr",
     "output_type": "stream",
     "text": [
      "C:\\Users\\Nathalie\\AppData\\Local\\Temp\\ipykernel_13344\\3469876962.py:75: FutureWarning: The frame.append method is deprecated and will be removed from pandas in a future version. Use pandas.concat instead.\n",
      "  metrics = metrics.append(\n",
      "C:\\Users\\Nathalie\\AppData\\Local\\Temp\\ipykernel_13344\\3469876962.py:116: FutureWarning: The frame.append method is deprecated and will be removed from pandas in a future version. Use pandas.concat instead.\n",
      "  metrics = metrics.append(\n"
     ]
    },
    {
     "name": "stdout",
     "output_type": "stream",
     "text": [
      "26/26 [==============================] - 0s 861us/step\n"
     ]
    },
    {
     "name": "stderr",
     "output_type": "stream",
     "text": [
      "C:\\Users\\Nathalie\\AppData\\Local\\Temp\\ipykernel_13344\\3469876962.py:116: FutureWarning: The frame.append method is deprecated and will be removed from pandas in a future version. Use pandas.concat instead.\n",
      "  metrics = metrics.append(\n"
     ]
    },
    {
     "name": "stdout",
     "output_type": "stream",
     "text": [
      "43/43 [==============================] - 0s 956us/step\n",
      "27/27 [==============================] - 0s 946us/step\n"
     ]
    },
    {
     "name": "stderr",
     "output_type": "stream",
     "text": [
      "C:\\Users\\Nathalie\\AppData\\Local\\Temp\\ipykernel_13344\\3469876962.py:75: FutureWarning: The frame.append method is deprecated and will be removed from pandas in a future version. Use pandas.concat instead.\n",
      "  metrics = metrics.append(\n",
      "C:\\Users\\Nathalie\\AppData\\Local\\Temp\\ipykernel_13344\\3469876962.py:116: FutureWarning: The frame.append method is deprecated and will be removed from pandas in a future version. Use pandas.concat instead.\n",
      "  metrics = metrics.append(\n"
     ]
    },
    {
     "name": "stdout",
     "output_type": "stream",
     "text": [
      "24/24 [==============================] - 0s 1ms/step\n"
     ]
    },
    {
     "name": "stderr",
     "output_type": "stream",
     "text": [
      "C:\\Users\\Nathalie\\AppData\\Local\\Temp\\ipykernel_13344\\3469876962.py:116: FutureWarning: The frame.append method is deprecated and will be removed from pandas in a future version. Use pandas.concat instead.\n",
      "  metrics = metrics.append(\n"
     ]
    },
    {
     "name": "stdout",
     "output_type": "stream",
     "text": [
      "42/42 [==============================] - 0s 936us/step\n",
      "26/26 [==============================] - 0s 977us/step\n"
     ]
    },
    {
     "name": "stderr",
     "output_type": "stream",
     "text": [
      "C:\\Users\\Nathalie\\AppData\\Local\\Temp\\ipykernel_13344\\3469876962.py:75: FutureWarning: The frame.append method is deprecated and will be removed from pandas in a future version. Use pandas.concat instead.\n",
      "  metrics = metrics.append(\n",
      "C:\\Users\\Nathalie\\AppData\\Local\\Temp\\ipykernel_13344\\3469876962.py:116: FutureWarning: The frame.append method is deprecated and will be removed from pandas in a future version. Use pandas.concat instead.\n",
      "  metrics = metrics.append(\n"
     ]
    },
    {
     "name": "stdout",
     "output_type": "stream",
     "text": [
      "23/23 [==============================] - 0s 822us/step\n"
     ]
    },
    {
     "name": "stderr",
     "output_type": "stream",
     "text": [
      "C:\\Users\\Nathalie\\AppData\\Local\\Temp\\ipykernel_13344\\3469876962.py:116: FutureWarning: The frame.append method is deprecated and will be removed from pandas in a future version. Use pandas.concat instead.\n",
      "  metrics = metrics.append(\n"
     ]
    },
    {
     "name": "stdout",
     "output_type": "stream",
     "text": [
      "38/38 [==============================] - 0s 934us/step\n",
      "24/24 [==============================] - 0s 908us/step\n"
     ]
    },
    {
     "name": "stderr",
     "output_type": "stream",
     "text": [
      "C:\\Users\\Nathalie\\AppData\\Local\\Temp\\ipykernel_13344\\3469876962.py:75: FutureWarning: The frame.append method is deprecated and will be removed from pandas in a future version. Use pandas.concat instead.\n",
      "  metrics = metrics.append(\n",
      "C:\\Users\\Nathalie\\AppData\\Local\\Temp\\ipykernel_13344\\3469876962.py:116: FutureWarning: The frame.append method is deprecated and will be removed from pandas in a future version. Use pandas.concat instead.\n",
      "  metrics = metrics.append(\n"
     ]
    },
    {
     "name": "stdout",
     "output_type": "stream",
     "text": [
      "21/21 [==============================] - 0s 960us/step\n"
     ]
    },
    {
     "name": "stderr",
     "output_type": "stream",
     "text": [
      "C:\\Users\\Nathalie\\AppData\\Local\\Temp\\ipykernel_13344\\3469876962.py:116: FutureWarning: The frame.append method is deprecated and will be removed from pandas in a future version. Use pandas.concat instead.\n",
      "  metrics = metrics.append(\n"
     ]
    },
    {
     "name": "stdout",
     "output_type": "stream",
     "text": [
      "35/35 [==============================] - 0s 941us/step\n",
      "22/22 [==============================] - 0s 1ms/step\n"
     ]
    },
    {
     "name": "stderr",
     "output_type": "stream",
     "text": [
      "C:\\Users\\Nathalie\\AppData\\Local\\Temp\\ipykernel_13344\\3469876962.py:75: FutureWarning: The frame.append method is deprecated and will be removed from pandas in a future version. Use pandas.concat instead.\n",
      "  metrics = metrics.append(\n",
      "C:\\Users\\Nathalie\\AppData\\Local\\Temp\\ipykernel_13344\\3469876962.py:116: FutureWarning: The frame.append method is deprecated and will be removed from pandas in a future version. Use pandas.concat instead.\n",
      "  metrics = metrics.append(\n"
     ]
    },
    {
     "name": "stdout",
     "output_type": "stream",
     "text": [
      "19/19 [==============================] - 0s 842us/step\n"
     ]
    },
    {
     "name": "stderr",
     "output_type": "stream",
     "text": [
      "C:\\Users\\Nathalie\\AppData\\Local\\Temp\\ipykernel_13344\\3469876962.py:116: FutureWarning: The frame.append method is deprecated and will be removed from pandas in a future version. Use pandas.concat instead.\n",
      "  metrics = metrics.append(\n"
     ]
    },
    {
     "name": "stdout",
     "output_type": "stream",
     "text": [
      "33/33 [==============================] - 0s 1ms/step\n",
      "20/20 [==============================] - 0s 917us/step\n"
     ]
    },
    {
     "name": "stderr",
     "output_type": "stream",
     "text": [
      "C:\\Users\\Nathalie\\AppData\\Local\\Temp\\ipykernel_13344\\3469876962.py:75: FutureWarning: The frame.append method is deprecated and will be removed from pandas in a future version. Use pandas.concat instead.\n",
      "  metrics = metrics.append(\n",
      "C:\\Users\\Nathalie\\AppData\\Local\\Temp\\ipykernel_13344\\3469876962.py:116: FutureWarning: The frame.append method is deprecated and will be removed from pandas in a future version. Use pandas.concat instead.\n",
      "  metrics = metrics.append(\n"
     ]
    },
    {
     "name": "stdout",
     "output_type": "stream",
     "text": [
      "18/18 [==============================] - 0s 925us/step\n"
     ]
    },
    {
     "name": "stderr",
     "output_type": "stream",
     "text": [
      "C:\\Users\\Nathalie\\AppData\\Local\\Temp\\ipykernel_13344\\3469876962.py:116: FutureWarning: The frame.append method is deprecated and will be removed from pandas in a future version. Use pandas.concat instead.\n",
      "  metrics = metrics.append(\n"
     ]
    },
    {
     "name": "stdout",
     "output_type": "stream",
     "text": [
      "31/31 [==============================] - 0s 875us/step\n",
      "19/19 [==============================] - 0s 999us/step\n"
     ]
    },
    {
     "name": "stderr",
     "output_type": "stream",
     "text": [
      "C:\\Users\\Nathalie\\AppData\\Local\\Temp\\ipykernel_13344\\3469876962.py:75: FutureWarning: The frame.append method is deprecated and will be removed from pandas in a future version. Use pandas.concat instead.\n",
      "  metrics = metrics.append(\n",
      "C:\\Users\\Nathalie\\AppData\\Local\\Temp\\ipykernel_13344\\3469876962.py:116: FutureWarning: The frame.append method is deprecated and will be removed from pandas in a future version. Use pandas.concat instead.\n",
      "  metrics = metrics.append(\n"
     ]
    },
    {
     "name": "stdout",
     "output_type": "stream",
     "text": [
      "16/16 [==============================] - 0s 935us/step\n"
     ]
    },
    {
     "name": "stderr",
     "output_type": "stream",
     "text": [
      "C:\\Users\\Nathalie\\AppData\\Local\\Temp\\ipykernel_13344\\3469876962.py:116: FutureWarning: The frame.append method is deprecated and will be removed from pandas in a future version. Use pandas.concat instead.\n",
      "  metrics = metrics.append(\n"
     ]
    }
   ],
   "source": [
    "## model fitting and validation for each subgroup\n",
    "\n",
    "\"\"\"\"\n",
    "build dropout prediction model\n",
    "\"\"\"\n",
    "\n",
    "\n",
    "def build_model():\n",
    "    # create model\n",
    "    model = Sequential()\n",
    "    model.add(Dense(23, input_dim=23, activation=\"relu\"))\n",
    "    model.add(Dense(44, activation=\"relu\"))\n",
    "    model.add(Dense(23, activation=\"relu\"))\n",
    "    model.add(Dense(11, activation=\"relu\"))\n",
    "    model.add(Dense(1, activation=\"sigmoid\"))\n",
    "\n",
    "    return model\n",
    "\n",
    "\n",
    "\"\"\"\n",
    "calculate and extract relevant metrics from y and pred\n",
    "return metrics\n",
    "\"\"\"\n",
    "\n",
    "\n",
    "def get_dn_metrics(model, X, y):\n",
    "    yhat_probs = model.predict(X, verbose=0)\n",
    "    yhat_classes = (model.predict(X) > 0.5).astype(\"int32\")\n",
    "    # reduce to 1d array\n",
    "    yhat_probs = yhat_probs[:, 0]\n",
    "    yhat_classes = yhat_classes[:, 0]\n",
    "    a = accuracy_score(y, yhat_classes)\n",
    "    p = precision_score(y, yhat_classes)\n",
    "    r = recall_score(y, yhat_classes)\n",
    "    roc_auc = roc_auc_score(y, yhat_probs)\n",
    "    tn, fp, fn, tp = confusion_matrix(y, yhat_classes).ravel()\n",
    "    fpr = fp / (fp + tn)\n",
    "\n",
    "    return a, p, r, roc_auc, fpr\n",
    "\n",
    "\n",
    "# loop through matrices\n",
    "for i in n:\n",
    "    path = \"gender_measurement/matrix\" + str(i) + \".pkl\"\n",
    "    infile = open(path, \"rb\")\n",
    "    df = pickle.load(infile)\n",
    "    infile.close()\n",
    "    df = df.reset_index()\n",
    "\n",
    "    y_len = len(feature_cols)\n",
    "    X = df[feature_cols].astype(float)\n",
    "    y = df.y\n",
    "    y = y.astype(\"int\")\n",
    "    X_train, X_test, y_train, y_test = train_test_split(\n",
    "        X, y, test_size=0.3, random_state=1\n",
    "    )\n",
    "\n",
    "    model = build_model()\n",
    "\n",
    "    model.compile(loss=\"binary_crossentropy\", optimizer=\"Adam\", metrics=[\"accuracy\"])\n",
    "\n",
    "    model.fit(\n",
    "        x=X_train,\n",
    "        y=y_train,\n",
    "        epochs=10,\n",
    "        batch_size=128,\n",
    "        verbose=0,\n",
    "        validation_data=(X_test, y_test),\n",
    "    )\n",
    "\n",
    "    scores = model.evaluate(x=X_test, y=y_test, verbose=0)\n",
    "\n",
    "    # call function to get metrics and append metrics to df\n",
    "    a, p, r, roc_auc, fpr = get_dn_metrics(model, X_test, y_test)\n",
    "    metrics = metrics.append(\n",
    "        {\n",
    "            \"model\": \"DL\",\n",
    "            \"group\": \"all\",\n",
    "            \"subgroup\": \"all\",\n",
    "            \"Length\": len(df),\n",
    "            \"Sentence\": i,\n",
    "            \"Accuracy\": a,\n",
    "            \"Precision\": p,\n",
    "            \"Recall\": r,\n",
    "            \"AUC\": roc_auc,\n",
    "            \"FPR\": fpr,\n",
    "        },\n",
    "        ignore_index=True,\n",
    "    )\n",
    "\n",
    "    ##\n",
    "    # let the model above predict for each subgroup and save results to evaluate later\n",
    "    group = [\"gender\", \"gender\"]\n",
    "    subgroup = [\"boys\", \"girls\"]\n",
    "    matrice = [\"matrices_forte_boys\", \"matrices_forte_girls\"]\n",
    "\n",
    "    for group, subgroup, matrix in zip(group, subgroup, matrice):\n",
    "        path = (\n",
    "            \"../../02_dropout_prediction/01_keep_it_up/\"\n",
    "            + matrix\n",
    "            + \"/matrix\"\n",
    "            + str(i)\n",
    "            + \".pkl\"\n",
    "        )\n",
    "        infile = open(path, \"rb\")\n",
    "        df = pickle.load(infile)\n",
    "        infile.close()\n",
    "        df = df.reset_index()\n",
    "        y_len = len(feature_cols)\n",
    "        X = df[feature_cols].astype(float)\n",
    "        y = df.y\n",
    "        y = y.astype(\"int\")\n",
    "\n",
    "        # call function to get metrics and append to df\n",
    "        a, p, r, roc_auc, fpr = get_dn_metrics(model, X, y)\n",
    "        metrics = metrics.append(\n",
    "            {\n",
    "                \"model\": \"DL\",\n",
    "                \"group\": group,\n",
    "                \"subgroup\": subgroup,\n",
    "                \"Length\": len(df),\n",
    "                \"Sentence\": i,\n",
    "                \"Accuracy\": a,\n",
    "                \"Precision\": p,\n",
    "                \"Recall\": r,\n",
    "                \"AUC\": roc_auc,\n",
    "                \"FPR\": fpr,\n",
    "            },\n",
    "            ignore_index=True,\n",
    "        )"
   ]
  },
  {
   "cell_type": "code",
   "execution_count": 10,
   "metadata": {},
   "outputs": [],
   "source": [
    "## construct dfs for all groups from metric df\n",
    "grouped = metrics.groupby(metrics.group)\n",
    "df_all = grouped.get_group(\"all\")\n",
    "modell = df_all.groupby(df_all.model)\n",
    "dte = modell.get_group(\"DTE\")\n",
    "knn = modell.get_group(\"KNN\")\n",
    "dl = modell.get_group(\"DL\")"
   ]
  },
  {
   "cell_type": "code",
   "execution_count": 25,
   "metadata": {},
   "outputs": [
    {
     "data": {
      "image/png": "[encoded data removed]",
      "text/plain": [
       "<Figure size 432x288 with 1 Axes>"
      ]
     },
     "metadata": {
      "needs_background": "light"
     },
     "output_type": "display_data"
    }
   ],
   "source": [
    "## plot accuracy by n and model\n",
    "ax = sns.lineplot(data=df_all, x=\"Sentence\", y=\"Accuracy\", hue=\"model\")"
   ]
  },
  {
   "cell_type": "code",
   "execution_count": 26,
   "metadata": {},
   "outputs": [
    {
     "data": {
      "image/png": "[encoded data removed]",
      "text/plain": [
       "<Figure size 432x288 with 1 Axes>"
      ]
     },
     "metadata": {
      "needs_background": "light"
     },
     "output_type": "display_data"
    }
   ],
   "source": [
    "## plot count of sentences by n and model\n",
    "ax = sns.lineplot(data=df_all, x=\"Sentence\", y=\"Length\", hue=\"model\")"
   ]
  },
  {
   "cell_type": "markdown",
   "metadata": {},
   "source": [
    "Evaluate"
   ]
  },
  {
   "cell_type": "code",
   "execution_count": 13,
   "metadata": {},
   "outputs": [
    {
     "data": {
      "text/html": [
       "<div>\n",
       "<style scoped>\n",
       "    .dataframe tbody tr th:only-of-type {\n",
       "        vertical-align: middle;\n",
       "    }\n",
       "\n",
       "    .dataframe tbody tr th {\n",
       "        vertical-align: top;\n",
       "    }\n",
       "\n",
       "    .dataframe thead th {\n",
       "        text-align: right;\n",
       "    }\n",
       "</style>\n",
       "<table border=\"1\" class=\"dataframe\">\n",
       "  <thead>\n",
       "    <tr style=\"text-align: right;\">\n",
       "      <th></th>\n",
       "      <th>model</th>\n",
       "      <th>group</th>\n",
       "      <th>subgroup</th>\n",
       "      <th>Length</th>\n",
       "      <th>Sentence</th>\n",
       "      <th>Accuracy</th>\n",
       "      <th>Precision</th>\n",
       "      <th>Recall</th>\n",
       "      <th>AUC</th>\n",
       "      <th>FPR</th>\n",
       "    </tr>\n",
       "  </thead>\n",
       "  <tbody>\n",
       "    <tr>\n",
       "      <th>0</th>\n",
       "      <td>DTE</td>\n",
       "      <td>all</td>\n",
       "      <td>all</td>\n",
       "      <td>162729</td>\n",
       "      <td>2</td>\n",
       "      <td>0.755075</td>\n",
       "      <td>0.753292</td>\n",
       "      <td>0.867315</td>\n",
       "      <td>0.731193</td>\n",
       "      <td>0.404929</td>\n",
       "    </tr>\n",
       "    <tr>\n",
       "      <th>1</th>\n",
       "      <td>DTE</td>\n",
       "      <td>gender</td>\n",
       "      <td>boys</td>\n",
       "      <td>21725</td>\n",
       "      <td>2</td>\n",
       "      <td>0.806214</td>\n",
       "      <td>0.927061</td>\n",
       "      <td>0.835818</td>\n",
       "      <td>0.74168</td>\n",
       "      <td>0.352459</td>\n",
       "    </tr>\n",
       "    <tr>\n",
       "      <th>2</th>\n",
       "      <td>DTE</td>\n",
       "      <td>gender</td>\n",
       "      <td>girls</td>\n",
       "      <td>23603</td>\n",
       "      <td>2</td>\n",
       "      <td>0.830869</td>\n",
       "      <td>0.938836</td>\n",
       "      <td>0.863489</td>\n",
       "      <td>0.730466</td>\n",
       "      <td>0.402557</td>\n",
       "    </tr>\n",
       "    <tr>\n",
       "      <th>3</th>\n",
       "      <td>DTE</td>\n",
       "      <td>all</td>\n",
       "      <td>all</td>\n",
       "      <td>156555</td>\n",
       "      <td>3</td>\n",
       "      <td>0.784019</td>\n",
       "      <td>0.781639</td>\n",
       "      <td>0.89915</td>\n",
       "      <td>0.750203</td>\n",
       "      <td>0.398744</td>\n",
       "    </tr>\n",
       "    <tr>\n",
       "      <th>4</th>\n",
       "      <td>DTE</td>\n",
       "      <td>gender</td>\n",
       "      <td>boys</td>\n",
       "      <td>21422</td>\n",
       "      <td>3</td>\n",
       "      <td>0.834096</td>\n",
       "      <td>0.940014</td>\n",
       "      <td>0.860695</td>\n",
       "      <td>0.769496</td>\n",
       "      <td>0.321703</td>\n",
       "    </tr>\n",
       "    <tr>\n",
       "      <th>...</th>\n",
       "      <td>...</td>\n",
       "      <td>...</td>\n",
       "      <td>...</td>\n",
       "      <td>...</td>\n",
       "      <td>...</td>\n",
       "      <td>...</td>\n",
       "      <td>...</td>\n",
       "      <td>...</td>\n",
       "      <td>...</td>\n",
       "      <td>...</td>\n",
       "    </tr>\n",
       "    <tr>\n",
       "      <th>526</th>\n",
       "      <td>DL</td>\n",
       "      <td>gender</td>\n",
       "      <td>boys</td>\n",
       "      <td>640</td>\n",
       "      <td>59</td>\n",
       "      <td>0.909375</td>\n",
       "      <td>0.973776</td>\n",
       "      <td>0.928333</td>\n",
       "      <td>0.88225</td>\n",
       "      <td>0.375</td>\n",
       "    </tr>\n",
       "    <tr>\n",
       "      <th>527</th>\n",
       "      <td>DL</td>\n",
       "      <td>gender</td>\n",
       "      <td>girls</td>\n",
       "      <td>552</td>\n",
       "      <td>59</td>\n",
       "      <td>0.913043</td>\n",
       "      <td>0.974257</td>\n",
       "      <td>0.933586</td>\n",
       "      <td>0.865503</td>\n",
       "      <td>0.52</td>\n",
       "    </tr>\n",
       "    <tr>\n",
       "      <th>528</th>\n",
       "      <td>DL</td>\n",
       "      <td>all</td>\n",
       "      <td>all</td>\n",
       "      <td>3209</td>\n",
       "      <td>60</td>\n",
       "      <td>0.858775</td>\n",
       "      <td>0.906372</td>\n",
       "      <td>0.9159</td>\n",
       "      <td>0.896137</td>\n",
       "      <td>0.356436</td>\n",
       "    </tr>\n",
       "    <tr>\n",
       "      <th>529</th>\n",
       "      <td>DL</td>\n",
       "      <td>gender</td>\n",
       "      <td>boys</td>\n",
       "      <td>597</td>\n",
       "      <td>60</td>\n",
       "      <td>0.887772</td>\n",
       "      <td>0.980469</td>\n",
       "      <td>0.898032</td>\n",
       "      <td>0.915639</td>\n",
       "      <td>0.263158</td>\n",
       "    </tr>\n",
       "    <tr>\n",
       "      <th>530</th>\n",
       "      <td>DL</td>\n",
       "      <td>gender</td>\n",
       "      <td>girls</td>\n",
       "      <td>503</td>\n",
       "      <td>60</td>\n",
       "      <td>0.880716</td>\n",
       "      <td>0.981651</td>\n",
       "      <td>0.891667</td>\n",
       "      <td>0.855254</td>\n",
       "      <td>0.347826</td>\n",
       "    </tr>\n",
       "  </tbody>\n",
       "</table>\n",
       "<p>531 rows × 10 columns</p>\n",
       "</div>"
      ],
      "text/plain": [
       "    model   group subgroup  Length Sentence  Accuracy Precision    Recall  \\\n",
       "0     DTE     all      all  162729        2  0.755075  0.753292  0.867315   \n",
       "1     DTE  gender     boys   21725        2  0.806214  0.927061  0.835818   \n",
       "2     DTE  gender    girls   23603        2  0.830869  0.938836  0.863489   \n",
       "3     DTE     all      all  156555        3  0.784019  0.781639   0.89915   \n",
       "4     DTE  gender     boys   21422        3  0.834096  0.940014  0.860695   \n",
       "..    ...     ...      ...     ...      ...       ...       ...       ...   \n",
       "526    DL  gender     boys     640       59  0.909375  0.973776  0.928333   \n",
       "527    DL  gender    girls     552       59  0.913043  0.974257  0.933586   \n",
       "528    DL     all      all    3209       60  0.858775  0.906372    0.9159   \n",
       "529    DL  gender     boys     597       60  0.887772  0.980469  0.898032   \n",
       "530    DL  gender    girls     503       60  0.880716  0.981651  0.891667   \n",
       "\n",
       "          AUC       FPR  \n",
       "0    0.731193  0.404929  \n",
       "1     0.74168  0.352459  \n",
       "2    0.730466  0.402557  \n",
       "3    0.750203  0.398744  \n",
       "4    0.769496  0.321703  \n",
       "..        ...       ...  \n",
       "526   0.88225     0.375  \n",
       "527  0.865503      0.52  \n",
       "528  0.896137  0.356436  \n",
       "529  0.915639  0.263158  \n",
       "530  0.855254  0.347826  \n",
       "\n",
       "[531 rows x 10 columns]"
      ]
     },
     "execution_count": 13,
     "metadata": {},
     "output_type": "execute_result"
    }
   ],
   "source": [
    "metrics"
   ]
  },
  {
   "cell_type": "code",
   "execution_count": 28,
   "metadata": {},
   "outputs": [],
   "source": [
    "grouped = metrics.groupby(metrics.group)\n",
    "df_gender = grouped.get_group(\"gender\")\n",
    "\n",
    "# calculate fairness metrics\n",
    "df_gender = df_gender.drop(columns=[\"group\", \"Accuracy\"])\n",
    "df_gender = pd.pivot_table(\n",
    "    df_gender,\n",
    "    values=[\"Precision\", \"Recall\", \"AUC\", \"FPR\"],\n",
    "    index=[\"model\", \"Sentence\"],\n",
    "    columns=[\"subgroup\"],\n",
    ")\n",
    "df_gender[\"PP\"] = df_gender.Precision.girls - df_gender.Precision.boys\n",
    "df_gender[\"EO\"] = df_gender.Recall.boys - df_gender.Recall.girls\n",
    "df_gender[\"SA\"] = df_gender.AUC.girls - df_gender.AUC.boys\n",
    "df_gender[\"PE\"] = df_gender.FPR.boys - df_gender.FPR.girls\n",
    "df_gender = df_gender.drop(columns=[\"AUC\", \"Precision\", \"Recall\", \"FPR\"])\n",
    "df_gender.columns = df_gender.columns.droplevel(1)\n",
    "df_gender = pd.pivot_table(\n",
    "    df_gender, values=[\"PP\", \"EO\", \"SA\", \"PE\"], index=[\"Sentence\"], columns=[\"model\"]\n",
    ")"
   ]
  },
  {
   "cell_type": "code",
   "execution_count": 24,
   "metadata": {},
   "outputs": [],
   "source": [
    "df_gender.to_pickle('df_gender_220223')"
   ]
  },
  {
   "cell_type": "code",
   "execution_count": 15,
   "metadata": {},
   "outputs": [],
   "source": [
    "\"\"\"\n",
    "functions to format results\n",
    "set two threshols: one at |0.02| in orange and one at |0.05| in red\n",
    "format all negative values in bold\n",
    "\"\"\"\n",
    "\n",
    "\n",
    "def threshold001(v, props=\"\"):\n",
    "    return props if (v > 0.02) or (v < -0.02) else None\n",
    "\n",
    "\n",
    "def threshold005(v, props=\"\"):\n",
    "    return props if (v > 0.05) or (v < -0.05) else None\n",
    "\n",
    "\n",
    "def negativeValue(v, props=\"\"):\n",
    "    return props if (v < 0) else None\n",
    "\n",
    "\n",
    "def showTable(df):\n",
    "    styled = (\n",
    "        df.style.set_properties(color=\"black\", align=\"right\")\n",
    "        .set_properties(**{\"background-color\": \"white\"})\n",
    "        .applymap(threshold001, props=\"color:orange;\")\n",
    "        .applymap(threshold005, props=\"color:red;\")\n",
    "        .applymap(negativeValue, props=\"font-weight:bold;\")\n",
    "    )\n",
    "    return styled"
   ]
  },
  {
   "cell_type": "code",
   "execution_count": 19,
   "metadata": {},
   "outputs": [],
   "source": [
    "test = df_gender\n",
    "met = ['EO','PE','PP','SA']\n",
    "fertig = pd.DataFrame()\n",
    "for x in met:        \n",
    "    a = 0\n",
    "    for i in range(2, 10):\n",
    "        a = a+test[x].DL[i]\n",
    "    a = a/8\n",
    "    temp = pd.DataFrame(\n",
    "        {\n",
    "            'Metrik':[x],\n",
    "            'Model': 'DL',\n",
    "            'Range': '02-9',\n",
    "            'Val': a\n",
    "        }\n",
    "    )\n",
    "    fertig = pd.concat([fertig, temp])\n",
    "\n",
    "    b = 0\n",
    "    for i in range(10, 20):\n",
    "        b = b+test[x].DL[i]\n",
    "    b = b/9\n",
    "    temp = pd.DataFrame(\n",
    "        {\n",
    "            'Metrik':[x],\n",
    "            'Model': 'DL',\n",
    "            'Range': '10-19',\n",
    "            'Val': b\n",
    "        }\n",
    "    )\n",
    "    fertig = pd.concat([fertig, temp])\n",
    "\n",
    "    c = 0\n",
    "    for i in range(20, 30):\n",
    "        c = c+test[x].DL[i]\n",
    "    c = c/9\n",
    "    temp = pd.DataFrame(\n",
    "        {\n",
    "            'Metrik':[x],\n",
    "            'Model': 'DL',\n",
    "            'Range': '20-29',\n",
    "            'Val': c\n",
    "        }\n",
    "    )\n",
    "    fertig = pd.concat([fertig, temp])\n",
    "    \n",
    "    d = 0\n",
    "    for i in range(30, 40):\n",
    "        d = d+test[x].DL[i]\n",
    "    d = d/9\n",
    "    temp = pd.DataFrame(\n",
    "        {\n",
    "            'Metrik':[x],\n",
    "            'Model': 'DL',\n",
    "            'Range': '30-39',\n",
    "            'Val': d\n",
    "        }\n",
    "    )\n",
    "    fertig = pd.concat([fertig, temp])\n",
    "\n",
    "    e = 0\n",
    "    for i in range(40, 50):\n",
    "        e = e+test[x].DL[i]\n",
    "    e = e/9\n",
    "    temp = pd.DataFrame(\n",
    "        {\n",
    "            'Metrik':[x],\n",
    "            'Model': 'DL',\n",
    "            'Range': '40-49',\n",
    "            'Val': e\n",
    "        }\n",
    "    )\n",
    "    fertig = pd.concat([fertig, temp])\n",
    "\n",
    "    f = 0\n",
    "    for i in range(50, 60):\n",
    "        f = f+test[x].DL[i]\n",
    "    f = f/10\n",
    "    temp = pd.DataFrame(\n",
    "        {\n",
    "            'Metrik':[x],\n",
    "            'Model': 'DL',\n",
    "            'Range': '50-60',\n",
    "            'Val': f\n",
    "        }\n",
    "    )\n",
    "    fertig = pd.concat([fertig, temp])\n",
    "\n",
    "met = ['EO','PE','PP','SA']\n",
    "for x in met:        \n",
    "    a = 0\n",
    "    for i in range(2, 10):\n",
    "        a = a+test[x].DTE[i]\n",
    "    a = a/8\n",
    "    temp = pd.DataFrame(\n",
    "        {\n",
    "            'Metrik':[x],\n",
    "            'Model': 'DTE',\n",
    "            'Range': '02-9',\n",
    "            'Val': a\n",
    "        }\n",
    "    )\n",
    "    fertig = pd.concat([fertig, temp])\n",
    "\n",
    "    b = 0\n",
    "    for i in range(10, 20):\n",
    "        b = b+test[x].DTE[i]\n",
    "    b = b/9\n",
    "    temp = pd.DataFrame(\n",
    "        {\n",
    "            'Metrik':[x],\n",
    "            'Model': 'DTE',\n",
    "            'Range': '10-19',\n",
    "            'Val': b\n",
    "        }\n",
    "    )\n",
    "    fertig = pd.concat([fertig, temp])\n",
    "\n",
    "    c = 0\n",
    "    for i in range(20, 30):\n",
    "        c = c+test[x].DTE[i]\n",
    "    c = c/9\n",
    "    temp = pd.DataFrame(\n",
    "        {\n",
    "            'Metrik':[x],\n",
    "            'Model': 'DTE',\n",
    "            'Range': '20-29',\n",
    "            'Val': c\n",
    "        }\n",
    "    )\n",
    "    fertig = pd.concat([fertig, temp])\n",
    "\n",
    "    d = 0\n",
    "    for i in range(30, 40):\n",
    "        d = d+test[x].DTE[i]\n",
    "    d = d/9\n",
    "    temp = pd.DataFrame(\n",
    "        {\n",
    "            'Metrik':[x],\n",
    "            'Model': 'DTE',\n",
    "            'Range': '30-39',\n",
    "            'Val': d\n",
    "        }\n",
    "    )\n",
    "    fertig = pd.concat([fertig, temp])\n",
    "\n",
    "    e = 0\n",
    "    for i in range(40, 50):\n",
    "        e = e+test[x].DTE[i]\n",
    "    e = e/9\n",
    "    temp = pd.DataFrame(\n",
    "        {\n",
    "            'Metrik':[x],\n",
    "            'Model': 'DTE',\n",
    "            'Range': '40-49',\n",
    "            'Val': e\n",
    "        }\n",
    "    )\n",
    "    fertig = pd.concat([fertig, temp])\n",
    "\n",
    "    f = 0\n",
    "    for i in range(50, 60):\n",
    "        f = f+test[x].DTE[i]\n",
    "    f = f/10\n",
    "    temp = pd.DataFrame(\n",
    "        {\n",
    "            'Metrik':[x],\n",
    "            'Model': 'DTE',\n",
    "            'Range': '50-60',\n",
    "            'Val': f\n",
    "        }\n",
    "    )\n",
    "    fertig = pd.concat([fertig, temp])\n",
    "met = ['EO','PE','PP','SA']\n",
    "for x in met:        \n",
    "    a = 0\n",
    "    for i in range(2, 10):\n",
    "        a = a+test[x].KNN[i]\n",
    "    a = a/8\n",
    "    temp = pd.DataFrame(\n",
    "        {\n",
    "            'Metrik':[x],\n",
    "            'Model': 'KNN',\n",
    "            'Range': '02-9',\n",
    "            'Val': a\n",
    "        }\n",
    "    )\n",
    "    fertig = pd.concat([fertig, temp])\n",
    "\n",
    "    b = 0\n",
    "    for i in range(10, 20):\n",
    "        b = b+test[x].KNN[i]\n",
    "    b = b/9\n",
    "    temp = pd.DataFrame(\n",
    "        {\n",
    "            'Metrik':[x],\n",
    "            'Model': 'KNN',\n",
    "            'Range': '10-19',\n",
    "            'Val': b\n",
    "        }\n",
    "    )\n",
    "    fertig = pd.concat([fertig, temp])\n",
    "\n",
    "    c = 0\n",
    "    for i in range(20, 30):\n",
    "        c = c+test[x].KNN[i]\n",
    "    c = c/9\n",
    "    temp = pd.DataFrame(\n",
    "        {\n",
    "            'Metrik':[x],\n",
    "            'Model': 'KNN',\n",
    "            'Range': '20-29',\n",
    "            'Val': c\n",
    "        }\n",
    "    )\n",
    "    fertig = pd.concat([fertig, temp])\n",
    "\n",
    "    d = 0\n",
    "    for i in range(30, 40):\n",
    "        d = d+test[x].KNN[i]\n",
    "    d = d/9\n",
    "    temp = pd.DataFrame(\n",
    "        {\n",
    "            'Metrik':[x],\n",
    "            'Model': 'KNN',\n",
    "            'Range': '30-39',\n",
    "            'Val': d\n",
    "        }\n",
    "    )\n",
    "    fertig = pd.concat([fertig, temp])\n",
    "\n",
    "    e = 0\n",
    "    for i in range(40, 50):\n",
    "        e = e+test[x].KNN[i]\n",
    "    e = e/9\n",
    "    temp = pd.DataFrame(\n",
    "        {\n",
    "            'Metrik':[x],\n",
    "            'Model': 'KNN',\n",
    "            'Range': '40-49',\n",
    "            'Val': e\n",
    "        }\n",
    "    )\n",
    "    fertig = pd.concat([fertig, temp])\n",
    "\n",
    "    f = 0\n",
    "    for i in range(50, 60):\n",
    "        f = f+test[x].KNN[i]\n",
    "    f = f/10\n",
    "    temp = pd.DataFrame(\n",
    "        {\n",
    "            'Metrik':[x],\n",
    "            'Model': 'KNN',\n",
    "            'Range': '50-60',\n",
    "            'Val': f\n",
    "        }\n",
    "    )\n",
    "    fertig = pd.concat([fertig, temp])"
   ]
  },
  {
   "cell_type": "code",
   "execution_count": 20,
   "metadata": {},
   "outputs": [
    {
     "data": {
      "text/html": [
       "<style type=\"text/css\">\n",
       "#T_8d879_row0_col0, #T_8d879_row0_col5, #T_8d879_row0_col9, #T_8d879_row0_col10, #T_8d879_row1_col0, #T_8d879_row1_col4, #T_8d879_row1_col5, #T_8d879_row2_col0, #T_8d879_row2_col5, #T_8d879_row2_col10, #T_8d879_row3_col0, #T_8d879_row3_col1, #T_8d879_row3_col2, #T_8d879_row3_col4, #T_8d879_row3_col10, #T_8d879_row3_col11, #T_8d879_row4_col0, #T_8d879_row4_col1, #T_8d879_row4_col6, #T_8d879_row4_col7, #T_8d879_row4_col8, #T_8d879_row4_col9, #T_8d879_row4_col11, #T_8d879_row5_col0, #T_8d879_row5_col1, #T_8d879_row5_col6, #T_8d879_row5_col7, #T_8d879_row5_col8, #T_8d879_row5_col9 {\n",
       "  color: black;\n",
       "  align: right;\n",
       "  background-color: white;\n",
       "  font-weight: bold;\n",
       "}\n",
       "#T_8d879_row0_col1, #T_8d879_row0_col2, #T_8d879_row0_col3, #T_8d879_row0_col4, #T_8d879_row1_col1, #T_8d879_row1_col2, #T_8d879_row2_col1, #T_8d879_row2_col2, #T_8d879_row2_col4, #T_8d879_row3_col5, #T_8d879_row4_col2, #T_8d879_row5_col2 {\n",
       "  color: black;\n",
       "  align: right;\n",
       "  background-color: white;\n",
       "  color: orange;\n",
       "  font-weight: bold;\n",
       "}\n",
       "#T_8d879_row0_col6, #T_8d879_row0_col7, #T_8d879_row0_col8, #T_8d879_row0_col11, #T_8d879_row1_col3, #T_8d879_row1_col6, #T_8d879_row1_col7, #T_8d879_row1_col8, #T_8d879_row1_col9, #T_8d879_row1_col10, #T_8d879_row1_col11, #T_8d879_row2_col6, #T_8d879_row2_col7, #T_8d879_row2_col8, #T_8d879_row2_col9, #T_8d879_row2_col11, #T_8d879_row3_col3, #T_8d879_row3_col6, #T_8d879_row3_col7, #T_8d879_row3_col8, #T_8d879_row3_col9 {\n",
       "  color: black;\n",
       "  align: right;\n",
       "  background-color: white;\n",
       "}\n",
       "#T_8d879_row2_col3 {\n",
       "  color: black;\n",
       "  align: right;\n",
       "  background-color: white;\n",
       "  color: orange;\n",
       "}\n",
       "#T_8d879_row4_col3, #T_8d879_row4_col4, #T_8d879_row4_col5, #T_8d879_row4_col10, #T_8d879_row5_col3, #T_8d879_row5_col4, #T_8d879_row5_col5, #T_8d879_row5_col10, #T_8d879_row5_col11 {\n",
       "  color: black;\n",
       "  align: right;\n",
       "  background-color: white;\n",
       "  color: orange;\n",
       "  color: red;\n",
       "  font-weight: bold;\n",
       "}\n",
       "</style>\n",
       "<table id=\"T_8d879\">\n",
       "  <thead>\n",
       "    <tr>\n",
       "      <th class=\"blank level0\" >&nbsp;</th>\n",
       "      <th id=\"T_8d879_level0_col0\" class=\"col_heading level0 col0\" colspan=\"12\">Val</th>\n",
       "    </tr>\n",
       "    <tr>\n",
       "      <th class=\"index_name level1\" >Metrik</th>\n",
       "      <th id=\"T_8d879_level1_col0\" class=\"col_heading level1 col0\" colspan=\"3\">EO</th>\n",
       "      <th id=\"T_8d879_level1_col3\" class=\"col_heading level1 col3\" colspan=\"3\">PE</th>\n",
       "      <th id=\"T_8d879_level1_col6\" class=\"col_heading level1 col6\" colspan=\"3\">PP</th>\n",
       "      <th id=\"T_8d879_level1_col9\" class=\"col_heading level1 col9\" colspan=\"3\">SA</th>\n",
       "    </tr>\n",
       "    <tr>\n",
       "      <th class=\"index_name level2\" >Model</th>\n",
       "      <th id=\"T_8d879_level2_col0\" class=\"col_heading level2 col0\" >DL</th>\n",
       "      <th id=\"T_8d879_level2_col1\" class=\"col_heading level2 col1\" >DTE</th>\n",
       "      <th id=\"T_8d879_level2_col2\" class=\"col_heading level2 col2\" >KNN</th>\n",
       "      <th id=\"T_8d879_level2_col3\" class=\"col_heading level2 col3\" >DL</th>\n",
       "      <th id=\"T_8d879_level2_col4\" class=\"col_heading level2 col4\" >DTE</th>\n",
       "      <th id=\"T_8d879_level2_col5\" class=\"col_heading level2 col5\" >KNN</th>\n",
       "      <th id=\"T_8d879_level2_col6\" class=\"col_heading level2 col6\" >DL</th>\n",
       "      <th id=\"T_8d879_level2_col7\" class=\"col_heading level2 col7\" >DTE</th>\n",
       "      <th id=\"T_8d879_level2_col8\" class=\"col_heading level2 col8\" >KNN</th>\n",
       "      <th id=\"T_8d879_level2_col9\" class=\"col_heading level2 col9\" >DL</th>\n",
       "      <th id=\"T_8d879_level2_col10\" class=\"col_heading level2 col10\" >DTE</th>\n",
       "      <th id=\"T_8d879_level2_col11\" class=\"col_heading level2 col11\" >KNN</th>\n",
       "    </tr>\n",
       "    <tr>\n",
       "      <th class=\"index_name level0\" >Range</th>\n",
       "      <th class=\"blank col0\" >&nbsp;</th>\n",
       "      <th class=\"blank col1\" >&nbsp;</th>\n",
       "      <th class=\"blank col2\" >&nbsp;</th>\n",
       "      <th class=\"blank col3\" >&nbsp;</th>\n",
       "      <th class=\"blank col4\" >&nbsp;</th>\n",
       "      <th class=\"blank col5\" >&nbsp;</th>\n",
       "      <th class=\"blank col6\" >&nbsp;</th>\n",
       "      <th class=\"blank col7\" >&nbsp;</th>\n",
       "      <th class=\"blank col8\" >&nbsp;</th>\n",
       "      <th class=\"blank col9\" >&nbsp;</th>\n",
       "      <th class=\"blank col10\" >&nbsp;</th>\n",
       "      <th class=\"blank col11\" >&nbsp;</th>\n",
       "    </tr>\n",
       "  </thead>\n",
       "  <tbody>\n",
       "    <tr>\n",
       "      <th id=\"T_8d879_level0_row0\" class=\"row_heading level0 row0\" >02-9</th>\n",
       "      <td id=\"T_8d879_row0_col0\" class=\"data row0 col0\" >-0.015016</td>\n",
       "      <td id=\"T_8d879_row0_col1\" class=\"data row0 col1\" >-0.027103</td>\n",
       "      <td id=\"T_8d879_row0_col2\" class=\"data row0 col2\" >-0.033867</td>\n",
       "      <td id=\"T_8d879_row0_col3\" class=\"data row0 col3\" >-0.029400</td>\n",
       "      <td id=\"T_8d879_row0_col4\" class=\"data row0 col4\" >-0.048416</td>\n",
       "      <td id=\"T_8d879_row0_col5\" class=\"data row0 col5\" >-0.015933</td>\n",
       "      <td id=\"T_8d879_row0_col6\" class=\"data row0 col6\" >0.009198</td>\n",
       "      <td id=\"T_8d879_row0_col7\" class=\"data row0 col7\" >0.007858</td>\n",
       "      <td id=\"T_8d879_row0_col8\" class=\"data row0 col8\" >0.004933</td>\n",
       "      <td id=\"T_8d879_row0_col9\" class=\"data row0 col9\" >-0.001943</td>\n",
       "      <td id=\"T_8d879_row0_col10\" class=\"data row0 col10\" >-0.010657</td>\n",
       "      <td id=\"T_8d879_row0_col11\" class=\"data row0 col11\" >0.008967</td>\n",
       "    </tr>\n",
       "    <tr>\n",
       "      <th id=\"T_8d879_level0_row1\" class=\"row_heading level0 row1\" >10-19</th>\n",
       "      <td id=\"T_8d879_row1_col0\" class=\"data row1 col0\" >-0.011777</td>\n",
       "      <td id=\"T_8d879_row1_col1\" class=\"data row1 col1\" >-0.022960</td>\n",
       "      <td id=\"T_8d879_row1_col2\" class=\"data row1 col2\" >-0.029960</td>\n",
       "      <td id=\"T_8d879_row1_col3\" class=\"data row1 col3\" >0.004350</td>\n",
       "      <td id=\"T_8d879_row1_col4\" class=\"data row1 col4\" >-0.013842</td>\n",
       "      <td id=\"T_8d879_row1_col5\" class=\"data row1 col5\" >-0.016328</td>\n",
       "      <td id=\"T_8d879_row1_col6\" class=\"data row1 col6\" >0.009924</td>\n",
       "      <td id=\"T_8d879_row1_col7\" class=\"data row1 col7\" >0.009541</td>\n",
       "      <td id=\"T_8d879_row1_col8\" class=\"data row1 col8\" >0.002833</td>\n",
       "      <td id=\"T_8d879_row1_col9\" class=\"data row1 col9\" >0.007470</td>\n",
       "      <td id=\"T_8d879_row1_col10\" class=\"data row1 col10\" >0.004559</td>\n",
       "      <td id=\"T_8d879_row1_col11\" class=\"data row1 col11\" >0.006816</td>\n",
       "    </tr>\n",
       "    <tr>\n",
       "      <th id=\"T_8d879_level0_row2\" class=\"row_heading level0 row2\" >20-29</th>\n",
       "      <td id=\"T_8d879_row2_col0\" class=\"data row2 col0\" >-0.008795</td>\n",
       "      <td id=\"T_8d879_row2_col1\" class=\"data row2 col1\" >-0.021918</td>\n",
       "      <td id=\"T_8d879_row2_col2\" class=\"data row2 col2\" >-0.022822</td>\n",
       "      <td id=\"T_8d879_row2_col3\" class=\"data row2 col3\" >0.021357</td>\n",
       "      <td id=\"T_8d879_row2_col4\" class=\"data row2 col4\" >-0.026902</td>\n",
       "      <td id=\"T_8d879_row2_col5\" class=\"data row2 col5\" >-0.013047</td>\n",
       "      <td id=\"T_8d879_row2_col6\" class=\"data row2 col6\" >0.009849</td>\n",
       "      <td id=\"T_8d879_row2_col7\" class=\"data row2 col7\" >0.007015</td>\n",
       "      <td id=\"T_8d879_row2_col8\" class=\"data row2 col8\" >0.002714</td>\n",
       "      <td id=\"T_8d879_row2_col9\" class=\"data row2 col9\" >0.006759</td>\n",
       "      <td id=\"T_8d879_row2_col10\" class=\"data row2 col10\" >-0.002492</td>\n",
       "      <td id=\"T_8d879_row2_col11\" class=\"data row2 col11\" >0.004887</td>\n",
       "    </tr>\n",
       "    <tr>\n",
       "      <th id=\"T_8d879_level0_row3\" class=\"row_heading level0 row3\" >30-39</th>\n",
       "      <td id=\"T_8d879_row3_col0\" class=\"data row3 col0\" >-0.004901</td>\n",
       "      <td id=\"T_8d879_row3_col1\" class=\"data row3 col1\" >-0.013921</td>\n",
       "      <td id=\"T_8d879_row3_col2\" class=\"data row3 col2\" >-0.014339</td>\n",
       "      <td id=\"T_8d879_row3_col3\" class=\"data row3 col3\" >0.010632</td>\n",
       "      <td id=\"T_8d879_row3_col4\" class=\"data row3 col4\" >-0.016120</td>\n",
       "      <td id=\"T_8d879_row3_col5\" class=\"data row3 col5\" >-0.031835</td>\n",
       "      <td id=\"T_8d879_row3_col6\" class=\"data row3 col6\" >0.006788</td>\n",
       "      <td id=\"T_8d879_row3_col7\" class=\"data row3 col7\" >0.005570</td>\n",
       "      <td id=\"T_8d879_row3_col8\" class=\"data row3 col8\" >0.000366</td>\n",
       "      <td id=\"T_8d879_row3_col9\" class=\"data row3 col9\" >0.007550</td>\n",
       "      <td id=\"T_8d879_row3_col10\" class=\"data row3 col10\" >-0.001100</td>\n",
       "      <td id=\"T_8d879_row3_col11\" class=\"data row3 col11\" >-0.008748</td>\n",
       "    </tr>\n",
       "    <tr>\n",
       "      <th id=\"T_8d879_level0_row4\" class=\"row_heading level0 row4\" >40-49</th>\n",
       "      <td id=\"T_8d879_row4_col0\" class=\"data row4 col0\" >-0.007221</td>\n",
       "      <td id=\"T_8d879_row4_col1\" class=\"data row4 col1\" >-0.009842</td>\n",
       "      <td id=\"T_8d879_row4_col2\" class=\"data row4 col2\" >-0.034711</td>\n",
       "      <td id=\"T_8d879_row4_col3\" class=\"data row4 col3\" >-0.113506</td>\n",
       "      <td id=\"T_8d879_row4_col4\" class=\"data row4 col4\" >-0.119142</td>\n",
       "      <td id=\"T_8d879_row4_col5\" class=\"data row4 col5\" >-0.074386</td>\n",
       "      <td id=\"T_8d879_row4_col6\" class=\"data row4 col6\" >-0.002233</td>\n",
       "      <td id=\"T_8d879_row4_col7\" class=\"data row4 col7\" >-0.002804</td>\n",
       "      <td id=\"T_8d879_row4_col8\" class=\"data row4 col8\" >-0.002707</td>\n",
       "      <td id=\"T_8d879_row4_col9\" class=\"data row4 col9\" >-0.003771</td>\n",
       "      <td id=\"T_8d879_row4_col10\" class=\"data row4 col10\" >-0.054650</td>\n",
       "      <td id=\"T_8d879_row4_col11\" class=\"data row4 col11\" >-0.019838</td>\n",
       "    </tr>\n",
       "    <tr>\n",
       "      <th id=\"T_8d879_level0_row5\" class=\"row_heading level0 row5\" >50-60</th>\n",
       "      <td id=\"T_8d879_row5_col0\" class=\"data row5 col0\" >-0.004527</td>\n",
       "      <td id=\"T_8d879_row5_col1\" class=\"data row5 col1\" >-0.000102</td>\n",
       "      <td id=\"T_8d879_row5_col2\" class=\"data row5 col2\" >-0.023533</td>\n",
       "      <td id=\"T_8d879_row5_col3\" class=\"data row5 col3\" >-0.149066</td>\n",
       "      <td id=\"T_8d879_row5_col4\" class=\"data row5 col4\" >-0.144489</td>\n",
       "      <td id=\"T_8d879_row5_col5\" class=\"data row5 col5\" >-0.125444</td>\n",
       "      <td id=\"T_8d879_row5_col6\" class=\"data row5 col6\" >-0.002730</td>\n",
       "      <td id=\"T_8d879_row5_col7\" class=\"data row5 col7\" >-0.003040</td>\n",
       "      <td id=\"T_8d879_row5_col8\" class=\"data row5 col8\" >-0.006022</td>\n",
       "      <td id=\"T_8d879_row5_col9\" class=\"data row5 col9\" >-0.019730</td>\n",
       "      <td id=\"T_8d879_row5_col10\" class=\"data row5 col10\" >-0.072193</td>\n",
       "      <td id=\"T_8d879_row5_col11\" class=\"data row5 col11\" >-0.050956</td>\n",
       "    </tr>\n",
       "  </tbody>\n",
       "</table>\n"
      ],
      "text/plain": [
       "<pandas.io.formats.style.Styler at 0x1f91cc9cf70>"
      ]
     },
     "execution_count": 20,
     "metadata": {},
     "output_type": "execute_result"
    }
   ],
   "source": [
    "mean_table = pd.pivot_table(fertig, values=['Val'], index=['Range'], columns=['Metrik','Model'])\n",
    "showTable(mean_table)"
   ]
  },
  {
   "cell_type": "code",
   "execution_count": 32,
   "metadata": {},
   "outputs": [],
   "source": [
    "## create a table that is readable\n",
    "# take the mean from ten sentences as one cell\n",
    "\n",
    "met = [\"EO\", \"PE\", \"PP\", \"SA\"]\n",
    "model = [\"DL\", \"DTE\", \"KNN\"]\n",
    "ranges = [\n",
    "    (\"02-9\", 8, 2, 10),\n",
    "    (\"10-19\", 9, 10, 20),\n",
    "    (\"20-29\", 9, 20, 30),\n",
    "    (\"30-39\", 9, 30, 40),\n",
    "    (\"40-49\", 9, 40, 50),\n",
    "    (\"50-60\", 10, 50, 60),\n",
    "]\n",
    "\n",
    "frame_means = pd.DataFrame()\n",
    "\n",
    "# for each metric\n",
    "for m in met:\n",
    "    for mo in model:\n",
    "        for r, div, begin, end in ranges:\n",
    "            s = 0\n",
    "            for i in range(begin, end):\n",
    "                s += df_gender[m][mo][i]\n",
    "            temp = pd.DataFrame(\n",
    "                {\"Metrik\": [m], \"Model\": mo, \"Range\": r, \"Val\": s / div}\n",
    "            )\n",
    "            frame_means = pd.concat([frame_means, temp])\n",
    "\n",
    "# pivot table\n",
    "mean_table = pd.pivot_table(\n",
    "    frame_means, values=[\"Val\"], index=[\"Range\"], columns=[\"Metrik\", \"Model\"]\n",
    ")\n",
    "#showTable(mean_table)"
   ]
  },
  {
   "cell_type": "code",
   "execution_count": 33,
   "metadata": {},
   "outputs": [
    {
     "data": {
      "text/html": [
       "<style type=\"text/css\">\n",
       "#T_ac728_row0_col0, #T_ac728_row0_col5, #T_ac728_row0_col9, #T_ac728_row0_col10, #T_ac728_row1_col0, #T_ac728_row1_col4, #T_ac728_row1_col5, #T_ac728_row2_col0, #T_ac728_row2_col5, #T_ac728_row2_col10, #T_ac728_row3_col0, #T_ac728_row3_col1, #T_ac728_row3_col2, #T_ac728_row3_col4, #T_ac728_row3_col10, #T_ac728_row3_col11, #T_ac728_row4_col0, #T_ac728_row4_col1, #T_ac728_row4_col6, #T_ac728_row4_col7, #T_ac728_row4_col8, #T_ac728_row4_col9, #T_ac728_row4_col11, #T_ac728_row5_col0, #T_ac728_row5_col1, #T_ac728_row5_col6, #T_ac728_row5_col7, #T_ac728_row5_col8, #T_ac728_row5_col9 {\n",
       "  color: black;\n",
       "  align: right;\n",
       "  background-color: white;\n",
       "  font-weight: bold;\n",
       "}\n",
       "#T_ac728_row0_col1, #T_ac728_row0_col2, #T_ac728_row0_col3, #T_ac728_row0_col4, #T_ac728_row1_col1, #T_ac728_row1_col2, #T_ac728_row2_col1, #T_ac728_row2_col2, #T_ac728_row2_col4, #T_ac728_row3_col5, #T_ac728_row4_col2, #T_ac728_row5_col2 {\n",
       "  color: black;\n",
       "  align: right;\n",
       "  background-color: white;\n",
       "  color: orange;\n",
       "  font-weight: bold;\n",
       "}\n",
       "#T_ac728_row0_col6, #T_ac728_row0_col7, #T_ac728_row0_col8, #T_ac728_row0_col11, #T_ac728_row1_col3, #T_ac728_row1_col6, #T_ac728_row1_col7, #T_ac728_row1_col8, #T_ac728_row1_col9, #T_ac728_row1_col10, #T_ac728_row1_col11, #T_ac728_row2_col6, #T_ac728_row2_col7, #T_ac728_row2_col8, #T_ac728_row2_col9, #T_ac728_row2_col11, #T_ac728_row3_col3, #T_ac728_row3_col6, #T_ac728_row3_col7, #T_ac728_row3_col8, #T_ac728_row3_col9 {\n",
       "  color: black;\n",
       "  align: right;\n",
       "  background-color: white;\n",
       "}\n",
       "#T_ac728_row2_col3 {\n",
       "  color: black;\n",
       "  align: right;\n",
       "  background-color: white;\n",
       "  color: orange;\n",
       "}\n",
       "#T_ac728_row4_col3, #T_ac728_row4_col4, #T_ac728_row4_col5, #T_ac728_row4_col10, #T_ac728_row5_col3, #T_ac728_row5_col4, #T_ac728_row5_col5, #T_ac728_row5_col10, #T_ac728_row5_col11 {\n",
       "  color: black;\n",
       "  align: right;\n",
       "  background-color: white;\n",
       "  color: orange;\n",
       "  color: red;\n",
       "  font-weight: bold;\n",
       "}\n",
       "</style>\n",
       "<table id=\"T_ac728\">\n",
       "  <thead>\n",
       "    <tr>\n",
       "      <th class=\"blank level0\" >&nbsp;</th>\n",
       "      <th id=\"T_ac728_level0_col0\" class=\"col_heading level0 col0\" colspan=\"12\">Val</th>\n",
       "    </tr>\n",
       "    <tr>\n",
       "      <th class=\"index_name level1\" >Metrik</th>\n",
       "      <th id=\"T_ac728_level1_col0\" class=\"col_heading level1 col0\" colspan=\"3\">EO</th>\n",
       "      <th id=\"T_ac728_level1_col3\" class=\"col_heading level1 col3\" colspan=\"3\">PE</th>\n",
       "      <th id=\"T_ac728_level1_col6\" class=\"col_heading level1 col6\" colspan=\"3\">PP</th>\n",
       "      <th id=\"T_ac728_level1_col9\" class=\"col_heading level1 col9\" colspan=\"3\">SA</th>\n",
       "    </tr>\n",
       "    <tr>\n",
       "      <th class=\"index_name level2\" >Model</th>\n",
       "      <th id=\"T_ac728_level2_col0\" class=\"col_heading level2 col0\" >DL</th>\n",
       "      <th id=\"T_ac728_level2_col1\" class=\"col_heading level2 col1\" >DTE</th>\n",
       "      <th id=\"T_ac728_level2_col2\" class=\"col_heading level2 col2\" >KNN</th>\n",
       "      <th id=\"T_ac728_level2_col3\" class=\"col_heading level2 col3\" >DL</th>\n",
       "      <th id=\"T_ac728_level2_col4\" class=\"col_heading level2 col4\" >DTE</th>\n",
       "      <th id=\"T_ac728_level2_col5\" class=\"col_heading level2 col5\" >KNN</th>\n",
       "      <th id=\"T_ac728_level2_col6\" class=\"col_heading level2 col6\" >DL</th>\n",
       "      <th id=\"T_ac728_level2_col7\" class=\"col_heading level2 col7\" >DTE</th>\n",
       "      <th id=\"T_ac728_level2_col8\" class=\"col_heading level2 col8\" >KNN</th>\n",
       "      <th id=\"T_ac728_level2_col9\" class=\"col_heading level2 col9\" >DL</th>\n",
       "      <th id=\"T_ac728_level2_col10\" class=\"col_heading level2 col10\" >DTE</th>\n",
       "      <th id=\"T_ac728_level2_col11\" class=\"col_heading level2 col11\" >KNN</th>\n",
       "    </tr>\n",
       "    <tr>\n",
       "      <th class=\"index_name level0\" >Range</th>\n",
       "      <th class=\"blank col0\" >&nbsp;</th>\n",
       "      <th class=\"blank col1\" >&nbsp;</th>\n",
       "      <th class=\"blank col2\" >&nbsp;</th>\n",
       "      <th class=\"blank col3\" >&nbsp;</th>\n",
       "      <th class=\"blank col4\" >&nbsp;</th>\n",
       "      <th class=\"blank col5\" >&nbsp;</th>\n",
       "      <th class=\"blank col6\" >&nbsp;</th>\n",
       "      <th class=\"blank col7\" >&nbsp;</th>\n",
       "      <th class=\"blank col8\" >&nbsp;</th>\n",
       "      <th class=\"blank col9\" >&nbsp;</th>\n",
       "      <th class=\"blank col10\" >&nbsp;</th>\n",
       "      <th class=\"blank col11\" >&nbsp;</th>\n",
       "    </tr>\n",
       "  </thead>\n",
       "  <tbody>\n",
       "    <tr>\n",
       "      <th id=\"T_ac728_level0_row0\" class=\"row_heading level0 row0\" >02-9</th>\n",
       "      <td id=\"T_ac728_row0_col0\" class=\"data row0 col0\" >-0.015016</td>\n",
       "      <td id=\"T_ac728_row0_col1\" class=\"data row0 col1\" >-0.027103</td>\n",
       "      <td id=\"T_ac728_row0_col2\" class=\"data row0 col2\" >-0.033867</td>\n",
       "      <td id=\"T_ac728_row0_col3\" class=\"data row0 col3\" >-0.029400</td>\n",
       "      <td id=\"T_ac728_row0_col4\" class=\"data row0 col4\" >-0.048416</td>\n",
       "      <td id=\"T_ac728_row0_col5\" class=\"data row0 col5\" >-0.015933</td>\n",
       "      <td id=\"T_ac728_row0_col6\" class=\"data row0 col6\" >0.009198</td>\n",
       "      <td id=\"T_ac728_row0_col7\" class=\"data row0 col7\" >0.007858</td>\n",
       "      <td id=\"T_ac728_row0_col8\" class=\"data row0 col8\" >0.004933</td>\n",
       "      <td id=\"T_ac728_row0_col9\" class=\"data row0 col9\" >-0.001943</td>\n",
       "      <td id=\"T_ac728_row0_col10\" class=\"data row0 col10\" >-0.010657</td>\n",
       "      <td id=\"T_ac728_row0_col11\" class=\"data row0 col11\" >0.008967</td>\n",
       "    </tr>\n",
       "    <tr>\n",
       "      <th id=\"T_ac728_level0_row1\" class=\"row_heading level0 row1\" >10-19</th>\n",
       "      <td id=\"T_ac728_row1_col0\" class=\"data row1 col0\" >-0.011777</td>\n",
       "      <td id=\"T_ac728_row1_col1\" class=\"data row1 col1\" >-0.022960</td>\n",
       "      <td id=\"T_ac728_row1_col2\" class=\"data row1 col2\" >-0.029960</td>\n",
       "      <td id=\"T_ac728_row1_col3\" class=\"data row1 col3\" >0.004350</td>\n",
       "      <td id=\"T_ac728_row1_col4\" class=\"data row1 col4\" >-0.013842</td>\n",
       "      <td id=\"T_ac728_row1_col5\" class=\"data row1 col5\" >-0.016328</td>\n",
       "      <td id=\"T_ac728_row1_col6\" class=\"data row1 col6\" >0.009924</td>\n",
       "      <td id=\"T_ac728_row1_col7\" class=\"data row1 col7\" >0.009541</td>\n",
       "      <td id=\"T_ac728_row1_col8\" class=\"data row1 col8\" >0.002833</td>\n",
       "      <td id=\"T_ac728_row1_col9\" class=\"data row1 col9\" >0.007470</td>\n",
       "      <td id=\"T_ac728_row1_col10\" class=\"data row1 col10\" >0.004559</td>\n",
       "      <td id=\"T_ac728_row1_col11\" class=\"data row1 col11\" >0.006816</td>\n",
       "    </tr>\n",
       "    <tr>\n",
       "      <th id=\"T_ac728_level0_row2\" class=\"row_heading level0 row2\" >20-29</th>\n",
       "      <td id=\"T_ac728_row2_col0\" class=\"data row2 col0\" >-0.008795</td>\n",
       "      <td id=\"T_ac728_row2_col1\" class=\"data row2 col1\" >-0.021918</td>\n",
       "      <td id=\"T_ac728_row2_col2\" class=\"data row2 col2\" >-0.022822</td>\n",
       "      <td id=\"T_ac728_row2_col3\" class=\"data row2 col3\" >0.021357</td>\n",
       "      <td id=\"T_ac728_row2_col4\" class=\"data row2 col4\" >-0.026902</td>\n",
       "      <td id=\"T_ac728_row2_col5\" class=\"data row2 col5\" >-0.013047</td>\n",
       "      <td id=\"T_ac728_row2_col6\" class=\"data row2 col6\" >0.009849</td>\n",
       "      <td id=\"T_ac728_row2_col7\" class=\"data row2 col7\" >0.007015</td>\n",
       "      <td id=\"T_ac728_row2_col8\" class=\"data row2 col8\" >0.002714</td>\n",
       "      <td id=\"T_ac728_row2_col9\" class=\"data row2 col9\" >0.006759</td>\n",
       "      <td id=\"T_ac728_row2_col10\" class=\"data row2 col10\" >-0.002492</td>\n",
       "      <td id=\"T_ac728_row2_col11\" class=\"data row2 col11\" >0.004887</td>\n",
       "    </tr>\n",
       "    <tr>\n",
       "      <th id=\"T_ac728_level0_row3\" class=\"row_heading level0 row3\" >30-39</th>\n",
       "      <td id=\"T_ac728_row3_col0\" class=\"data row3 col0\" >-0.004901</td>\n",
       "      <td id=\"T_ac728_row3_col1\" class=\"data row3 col1\" >-0.013921</td>\n",
       "      <td id=\"T_ac728_row3_col2\" class=\"data row3 col2\" >-0.014339</td>\n",
       "      <td id=\"T_ac728_row3_col3\" class=\"data row3 col3\" >0.010632</td>\n",
       "      <td id=\"T_ac728_row3_col4\" class=\"data row3 col4\" >-0.016120</td>\n",
       "      <td id=\"T_ac728_row3_col5\" class=\"data row3 col5\" >-0.031835</td>\n",
       "      <td id=\"T_ac728_row3_col6\" class=\"data row3 col6\" >0.006788</td>\n",
       "      <td id=\"T_ac728_row3_col7\" class=\"data row3 col7\" >0.005570</td>\n",
       "      <td id=\"T_ac728_row3_col8\" class=\"data row3 col8\" >0.000366</td>\n",
       "      <td id=\"T_ac728_row3_col9\" class=\"data row3 col9\" >0.007550</td>\n",
       "      <td id=\"T_ac728_row3_col10\" class=\"data row3 col10\" >-0.001100</td>\n",
       "      <td id=\"T_ac728_row3_col11\" class=\"data row3 col11\" >-0.008748</td>\n",
       "    </tr>\n",
       "    <tr>\n",
       "      <th id=\"T_ac728_level0_row4\" class=\"row_heading level0 row4\" >40-49</th>\n",
       "      <td id=\"T_ac728_row4_col0\" class=\"data row4 col0\" >-0.007221</td>\n",
       "      <td id=\"T_ac728_row4_col1\" class=\"data row4 col1\" >-0.009842</td>\n",
       "      <td id=\"T_ac728_row4_col2\" class=\"data row4 col2\" >-0.034711</td>\n",
       "      <td id=\"T_ac728_row4_col3\" class=\"data row4 col3\" >-0.113506</td>\n",
       "      <td id=\"T_ac728_row4_col4\" class=\"data row4 col4\" >-0.119142</td>\n",
       "      <td id=\"T_ac728_row4_col5\" class=\"data row4 col5\" >-0.074386</td>\n",
       "      <td id=\"T_ac728_row4_col6\" class=\"data row4 col6\" >-0.002233</td>\n",
       "      <td id=\"T_ac728_row4_col7\" class=\"data row4 col7\" >-0.002804</td>\n",
       "      <td id=\"T_ac728_row4_col8\" class=\"data row4 col8\" >-0.002707</td>\n",
       "      <td id=\"T_ac728_row4_col9\" class=\"data row4 col9\" >-0.003771</td>\n",
       "      <td id=\"T_ac728_row4_col10\" class=\"data row4 col10\" >-0.054650</td>\n",
       "      <td id=\"T_ac728_row4_col11\" class=\"data row4 col11\" >-0.019838</td>\n",
       "    </tr>\n",
       "    <tr>\n",
       "      <th id=\"T_ac728_level0_row5\" class=\"row_heading level0 row5\" >50-60</th>\n",
       "      <td id=\"T_ac728_row5_col0\" class=\"data row5 col0\" >-0.004527</td>\n",
       "      <td id=\"T_ac728_row5_col1\" class=\"data row5 col1\" >-0.000102</td>\n",
       "      <td id=\"T_ac728_row5_col2\" class=\"data row5 col2\" >-0.023533</td>\n",
       "      <td id=\"T_ac728_row5_col3\" class=\"data row5 col3\" >-0.149066</td>\n",
       "      <td id=\"T_ac728_row5_col4\" class=\"data row5 col4\" >-0.144489</td>\n",
       "      <td id=\"T_ac728_row5_col5\" class=\"data row5 col5\" >-0.125444</td>\n",
       "      <td id=\"T_ac728_row5_col6\" class=\"data row5 col6\" >-0.002730</td>\n",
       "      <td id=\"T_ac728_row5_col7\" class=\"data row5 col7\" >-0.003040</td>\n",
       "      <td id=\"T_ac728_row5_col8\" class=\"data row5 col8\" >-0.006022</td>\n",
       "      <td id=\"T_ac728_row5_col9\" class=\"data row5 col9\" >-0.019730</td>\n",
       "      <td id=\"T_ac728_row5_col10\" class=\"data row5 col10\" >-0.072193</td>\n",
       "      <td id=\"T_ac728_row5_col11\" class=\"data row5 col11\" >-0.050956</td>\n",
       "    </tr>\n",
       "  </tbody>\n",
       "</table>\n"
      ],
      "text/plain": [
       "<pandas.io.formats.style.Styler at 0x1f91cc9de10>"
      ]
     },
     "execution_count": 33,
     "metadata": {},
     "output_type": "execute_result"
    }
   ],
   "source": [
    "showTable(mean_table)"
   ]
  },
  {
   "cell_type": "code",
   "execution_count": null,
   "metadata": {},
   "outputs": [],
   "source": [
    "# s = showTable(df_gender)\n",
    "# s"
   ]
  },
  {
   "cell_type": "code",
   "execution_count": 21,
   "metadata": {},
   "outputs": [],
   "source": [
    "# save\n",
    "writer = pd.ExcelWriter(\"df_gender_noAnzahlAufg.xlsx\", engine=\"xlsxwriter\")\n",
    "mean_table.to_excel(writer, sheet_name=\"Gender\")\n",
    "writer.save()"
   ]
  }
 ],
 "metadata": {
  "kernelspec": {
   "display_name": "Python 3.10.2 64-bit",
   "language": "python",
   "name": "python3"
  },
  "language_info": {
   "codemirror_mode": {
    "name": "ipython",
    "version": 3
   },
   "file_extension": ".py",
   "mimetype": "text/x-python",
   "name": "python",
   "nbconvert_exporter": "python",
   "pygments_lexer": "ipython3",
   "version": "3.10.2"
  },
  "orig_nbformat": 4,
  "vscode": {
   "interpreter": {
    "hash": "369f2c481f4da34e4445cda3fffd2e751bd1c4d706f27375911949ba6bb62e1c"
   }
  }
 },
 "nbformat": 4,
 "nbformat_minor": 2
}
