{
 "cells": [
  {
   "cell_type": "code",
   "execution_count": null,
   "metadata": {},
   "outputs": [],
   "source": [
    "import pandas as pd\n",
    "import pickle\n",
    "import seaborn as sns\n",
    "import numpy as np\n",
    "import itertools\n",
    "from matplotlib import pyplot as plt\n",
    "from datetime import datetime, timedelta"
   ]
  },
  {
   "attachments": {},
   "cell_type": "markdown",
   "metadata": {},
   "source": [
    "Find out correlations between features and demographic variables to decide about measurement bias mitigation"
   ]
  },
  {
   "cell_type": "code",
   "execution_count": null,
   "metadata": {},
   "outputs": [],
   "source": [
    "# load survey data\n",
    "infile = open(\"../00_data/preprocessed_fairness_data.pkl\", \"rb\")\n",
    "df = pickle.load(infile)\n",
    "infile.close()"
   ]
  },
  {
   "cell_type": "code",
   "execution_count": null,
   "metadata": {},
   "outputs": [],
   "source": [
    "## prepare data frame\n",
    "df_corr = df[\n",
    "    [\n",
    "        \"UserID_y\",\n",
    "        \"AbiEltern\",\n",
    "        \"eigSprache\",\n",
    "        \"Sex__m\",\n",
    "        \"Sex__w\",\n",
    "        \"Buecher\",\n",
    "        \"Erstloesung\",\n",
    "        \"Schussel\",\n",
    "        \"Erfolg\",\n",
    "        \"Schwierigkeit\",\n",
    "        \"ist_Schulzeit\",\n",
    "        \"MehrfachFalsch\",\n",
    "        \"vorher_abgebrochen\",\n",
    "        \"Fehler\",\n",
    "        \"Klassenstufe\",\n",
    "        \"Jahredabei\",\n",
    "        \"AnzahlAufgaben\",\n",
    "        \"Testposition__pruefung\",\n",
    "        \"Testposition__training\",\n",
    "        \"Testposition__version\",\n",
    "        \"Art__GK\",\n",
    "        \"Art__GR\",\n",
    "        \"Art__GZ\",\n",
    "        \"Art__K\",\n",
    "        \"Art__LB\",\n",
    "        \"UserAttribut\",\n",
    "        \"OrderNumber\",\n",
    "        \"steps\",\n",
    "    ]\n",
    "]\n",
    "\n",
    "df_corr = df_corr.drop_duplicates()\n",
    "df_corr = df_corr.drop(columns=[\"UserID_y\"])\n",
    "df_corr[\"AbiEltern\"] = np.where((df_corr.AbiEltern == \"2\"), \"1\", df_corr.AbiEltern)\n",
    "df_corr.AbiEltern = df_corr.AbiEltern.astype(\"float\")\n",
    "df_corr.Buecher = df_corr.Buecher.astype(\"float\")\n",
    "\n",
    "# calculate pearsons correlation coefficient\n",
    "pearsons_c = df_corr.corr(method=\"pearson\")"
   ]
  },
  {
   "cell_type": "code",
   "execution_count": null,
   "metadata": {},
   "outputs": [],
   "source": [
    "# save\n",
    "writer = pd.ExcelWriter(\"correlations.xlsx\", engine=\"xlsxwriter\")\n",
    "pearsons_c.to_excel(writer, sheet_name=\"correlation\")\n",
    "writer.save()"
   ]
  }
 ],
 "metadata": {
  "kernelspec": {
   "display_name": "Python 3.10.2 64-bit",
   "language": "python",
   "name": "python3"
  },
  "language_info": {
   "codemirror_mode": {
    "name": "ipython",
    "version": 3
   },
   "file_extension": ".py",
   "mimetype": "text/x-python",
   "name": "python",
   "nbconvert_exporter": "python",
   "pygments_lexer": "ipython3",
   "version": "3.10.2"
  },
  "orig_nbformat": 4,
  "vscode": {
   "interpreter": {
    "hash": "369f2c481f4da34e4445cda3fffd2e751bd1c4d706f27375911949ba6bb62e1c"
   }
  }
 },
 "nbformat": 4,
 "nbformat_minor": 2
}
