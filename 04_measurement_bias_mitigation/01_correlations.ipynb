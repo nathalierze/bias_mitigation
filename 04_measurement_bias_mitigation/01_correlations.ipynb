{
 "cells": [
  {
   "cell_type": "code",
   "execution_count": null,
   "metadata": {},
   "outputs": [],
   "source": [
    "import pandas as pd\n",
    "import pickle\n",
    "import seaborn as sns\n",
    "import numpy as np\n",
    "import itertools\n",
    "from matplotlib import pyplot as plt\n",
    "from datetime import datetime, timedelta"
   ]
  },
  {
   "attachments": {},
   "cell_type": "markdown",
   "metadata": {},
   "source": [
    "Find out correlations between features and demographic variables to decide about measurement bias mitigation"
   ]
  },
  {
   "cell_type": "code",
   "execution_count": null,
   "metadata": {},
   "outputs": [],
   "source": [
    "## load survey data\n",
    "infile = open('../../02_dropout_prediction/01_keep_it_up/fairness_ready.pkl','rb')\n",
    "df = pickle.load(infile)\n",
    "infile.close()"
   ]
  },
  {
   "cell_type": "code",
   "execution_count": null,
   "metadata": {},
   "outputs": [],
   "source": [
    "## prepare data frame\n",
    "df_corr = df[['UserID_y','AbiEltern','eigSprache','Sex__m', 'Sex__w','Buecher', 'Erstloesung','Schussel','Erfolg', 'Schwierigkeit', 'ist_Schulzeit', 'MehrfachFalsch', 'vorher_abgebrochen','Fehler', 'Klassenstufe', 'Jahredabei', 'AnzahlAufgaben','Testposition__pruefung', 'Testposition__training','Testposition__version', 'Art__GK', 'Art__GR', 'Art__GZ', 'Art__K', 'Art__LB','UserAttribut', 'OrderNumber', 'steps']]\n",
    "df_corr = df_corr.drop_duplicates()\n",
    "df_corr = df_corr.drop(columns=['UserID_y'])\n",
    "df_corr['AbiEltern'] = np.where((df_corr.AbiEltern == '2'),'1',df_corr.AbiEltern)\n",
    "df_corr.AbiEltern = df_corr.AbiEltern.astype('float')\n",
    "df_corr.Buecher = df_corr.Buecher.astype('float')\n",
    "\n",
    "# calculate pearsons correlation coefficient\n",
    "pearsons_c = df_corr.corr(method='pearson')"
   ]
  },
  {
   "cell_type": "code",
   "execution_count": null,
   "metadata": {},
   "outputs": [],
   "source": [
    "# save\n",
    "writer = pd.ExcelWriter('correlations.xlsx', engine='xlsxwriter')\n",
    "pearsons_c.to_excel(writer, sheet_name='correlation')\n",
    "writer.save()"
   ]
  }
 ],
 "metadata": {
  "kernelspec": {
   "display_name": "Python 3.10.2 64-bit",
   "language": "python",
   "name": "python3"
  },
  "language_info": {
   "codemirror_mode": {
    "name": "ipython",
    "version": 3
   },
   "file_extension": ".py",
   "mimetype": "text/x-python",
   "name": "python",
   "nbconvert_exporter": "python",
   "pygments_lexer": "ipython3",
   "version": "3.10.2"
  },
  "orig_nbformat": 4,
  "vscode": {
   "interpreter": {
    "hash": "369f2c481f4da34e4445cda3fffd2e751bd1c4d706f27375911949ba6bb62e1c"
   }
  }
 },
 "nbformat": 4,
 "nbformat_minor": 2
}
