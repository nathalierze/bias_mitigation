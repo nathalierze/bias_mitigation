{
 "cells": [
  {
   "cell_type": "code",
   "execution_count": null,
   "metadata": {},
   "outputs": [],
   "source": [
    "path = \"c:/Users/Nathalie/Nextcloud/LADi/Orthografie Trainer/Code/04_bias_mitigation/\"\n",
    "\n",
    "import sys\n",
    "\n",
    "sys.path.insert(1, path + \"classes\")\n",
    "\n",
    "from DecisionTree_insession import in_session_decision_tree\n",
    "from KNN_insession import in_session_KNN\n",
    "from MLP_insession import in_session_MLP\n",
    "from MetricsClass import Evaluation\n",
    "from Plotting import Plots\n",
    "import numpy as np\n",
    "import pandas as pd\n",
    "import seaborn as sns\n",
    "import warnings\n",
    "import pickle\n",
    "\n",
    "# Ignore the warning message\n",
    "warnings.filterwarnings(\"ignore\", category=FutureWarning)"
   ]
  },
  {
   "attachments": {},
   "cell_type": "markdown",
   "metadata": {},
   "source": [
    "Learning Bias Mitigation: Migration Background <> DTE"
   ]
  },
  {
   "cell_type": "code",
   "execution_count": null,
   "metadata": {},
   "outputs": [],
   "source": [
    "# define feature cols\n",
    "feature_cols = [\n",
    "    \"Erstloesung\",\n",
    "    \"Schussel\",\n",
    "    \"Erfolg\",\n",
    "    \"Schwierigkeit\",\n",
    "    \"ist_Schulzeit\",\n",
    "    \"MehrfachFalsch\",\n",
    "    \"vorher_abgebrochen\",\n",
    "    \"Fehler\",\n",
    "    \"Klassenstufe\",\n",
    "    \"Jahredabei\",\n",
    "    \"AnzahlAufgaben\",\n",
    "    \"Sex__m\",\n",
    "    \"Sex__w\",\n",
    "    \"Testposition__pruefung\",\n",
    "    \"Testposition__training\",\n",
    "    \"Testposition__version\",\n",
    "    \"Art__GK\",\n",
    "    \"Art__GR\",\n",
    "    \"Art__GZ\",\n",
    "    \"Art__K\",\n",
    "    \"Art__LB\",\n",
    "    \"UserAttribut\",\n",
    "    \"OrderNumber\",\n",
    "    \"steps\"\n",
    "]"
   ]
  },
  {
   "cell_type": "code",
   "execution_count": null,
   "metadata": {},
   "outputs": [],
   "source": [
    "DTE = in_session_decision_tree()\n",
    "DTE.set_range(2, 61) \n",
    "DTE.set_majority_group(\"eigSprache\")\n",
    "DTE.set_demographic_category(\"eigSprache\")\n",
    "\n",
    "DTE.load_matrices(\n",
    "    \"06_learning_bias_mitigation/migration/matrix\", \".pkl\", True\n",
    ")\n",
    "\n",
    "DTE.set_feature_cols(\n",
    "    feature_cols\n",
    ")\n",
    "\n",
    "DTE.set_majority_group(\"deutsch\")\n",
    "DTE.set_minority_group(\"migration\")\n",
    "\n",
    "max_depth = [1, 5, 10, 15, 20, 25, 5, 5, 5, 5, 5, 5, 5, 5, 5, 5, 5, 5]\n",
    "min_samples_leaf = [1, 1, 1, 1, 1, 1, 1, 5, 10, 15, 20, 25, 1, 1, 1, 1, 1, 1]\n",
    "min_samples_split = [2, 2, 2, 2, 2, 2, 2, 2, 2, 2, 2, 2, 2, 5, 10, 15, 20, 25]\n",
    "metrics = pd.DataFrame(\n",
    "            columns=[\n",
    "                \"model\",\n",
    "                \"group\",\n",
    "                \"subgroup\",\n",
    "                \"Length\",\n",
    "                \"Sentence\",\n",
    "                \"Accuracy\",\n",
    "                \"Precision\",\n",
    "                \"Recall\",\n",
    "                \"AUC\",\n",
    "                \"FPR\",\n",
    "                \"max_depth\",\n",
    "                \"min_samples_leaf\",\n",
    "                \"min_samples_split\"\n",
    "            ]\n",
    "        )\n",
    "\n",
    "for max_depth, min_samples_leaf,min_samples_split in zip(max_depth,min_samples_leaf,min_samples_split):\n",
    "    metrics_DTE = DTE.loop_matrices(\"migration/matrix\",max_depth,min_samples_leaf,min_samples_split)\n",
    "    metrics_DTE[\"max_depth\"]=max_depth\n",
    "    metrics_DTE[\"min_samples_leaf\"]=min_samples_leaf\n",
    "    metrics_DTE['min_samples_split']=min_samples_split\n",
    "    \n",
    "    metrics = pd.concat([metrics, metrics_DTE])"
   ]
  },
  {
   "attachments": {},
   "cell_type": "markdown",
   "metadata": {},
   "source": [
    "Evaluate"
   ]
  },
  {
   "cell_type": "code",
   "execution_count": null,
   "metadata": {},
   "outputs": [],
   "source": [
    "# evaluate metrics for fairness\n",
    "evaluation_obj = Evaluation(metrics)\n",
    "evaluation_obj.set_demographic_category(\"eigSprache\")\n",
    "evaluation_obj.set_minority_group(\"migration\")\n",
    "evaluation_obj.set_majority_group(\"deutsch\")\n",
    "index_list = [\"max_depth\", \"min_samples_leaf\", \"min_samples_split\", \"Sentence\"]\n",
    "columns=[\"max_depth\", \"min_samples_leaf\", \"min_samples_split\"]\n",
    "\n",
    "df_language = evaluation_obj.evaluate_learning_bias(index_list, columns)\n"
   ]
  },
  {
   "cell_type": "code",
   "execution_count": null,
   "metadata": {},
   "outputs": [],
   "source": [
    "met = ['EO','PE','PP','SA']\n",
    "mean_table = pd.DataFrame()\n",
    "\n",
    "index_ranges = [\n",
    "    (2, 10, \"02-9\"),\n",
    "    (10, 20, \"10-19\"),\n",
    "    (20, 30, \"20-29\"),\n",
    "    (30, 40, \"30-39\"),\n",
    "    (40, 50, \"40-49\"),\n",
    "    (50, 60, \"50-60\")\n",
    "]\n",
    "\n",
    "for (max_depth, min_samples_leaf, min_samples_split) in zip(max_depth, min_samples_leaf, min_samples_split):\n",
    "    for x in met: \n",
    "        for (i_start, i_end, div, index_range) in index_ranges:\n",
    "            range_list = list(range(i_start,i_end))\n",
    "            a=0\n",
    "            for i in range_list:\n",
    "                a = a+df_language[x][max_depth][min_samples_leaf][min_samples_split][i]\n",
    "            a = a/div\n",
    "            temp = pd.DataFrame(\n",
    "                {\n",
    "                    'Metrik':[x],\n",
    "                    'Model': 'DTE',\n",
    "                    'Range': index_range,\n",
    "                    'Val': a,\n",
    "                    'max_depth':max_depth,\n",
    "                    'min_samples_leaf':min_samples_leaf,\n",
    "                    'min_samples_split':min_samples_split\n",
    "                }\n",
    "            )\n",
    "            mean_table = pd.concat([mean_table, temp])\n",
    "\n",
    "\n",
    "## show results table\n",
    "mean_table = pd.pivot_table(\n",
    "    mean_table,\n",
    "    values=[\"Val\"],\n",
    "    index=[\"max_depth\", \"min_samples_leaf\", \"min_samples_split\", \"Range\"],\n",
    "    columns=[\"Metrik\", \"Model\"],\n",
    ")"
   ]
  },
  {
   "cell_type": "code",
   "execution_count": null,
   "metadata": {},
   "outputs": [],
   "source": [
    "# show table\n",
    "table = evaluation_obj.showTable(df_language)\n",
    "table"
   ]
  }
 ],
 "metadata": {
  "kernelspec": {
   "display_name": "Python 3.10.2 64-bit",
   "language": "python",
   "name": "python3"
  },
  "language_info": {
   "codemirror_mode": {
    "name": "ipython",
    "version": 3
   },
   "file_extension": ".py",
   "mimetype": "text/x-python",
   "name": "python",
   "nbconvert_exporter": "python",
   "pygments_lexer": "ipython3",
   "version": "3.10.2"
  },
  "orig_nbformat": 4,
  "vscode": {
   "interpreter": {
    "hash": "369f2c481f4da34e4445cda3fffd2e751bd1c4d706f27375911949ba6bb62e1c"
   }
  }
 },
 "nbformat": 4,
 "nbformat_minor": 2
}
