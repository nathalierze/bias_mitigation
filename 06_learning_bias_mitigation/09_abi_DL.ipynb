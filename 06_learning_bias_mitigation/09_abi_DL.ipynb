{
 "cells": [
  {
   "cell_type": "code",
   "execution_count": null,
   "metadata": {},
   "outputs": [],
   "source": [
    "import pandas as pd\n",
    "import pickle\n",
    "import seaborn as sns\n",
    "import numpy as np\n",
    "from sklearn.tree import DecisionTreeClassifier\n",
    "from sklearn.model_selection import train_test_split \n",
    "from sklearn.neighbors import KNeighborsClassifier\n",
    "from sklearn import tree\n",
    "from matplotlib import pyplot as plt\n",
    "from sklearn.model_selection import cross_val_score, KFold, StratifiedKFold\n",
    "from sklearn.preprocessing import StandardScaler\n",
    "from sklearn.model_selection import train_test_split\n",
    "from sklearn.metrics import log_loss, roc_auc_score, recall_score, precision_score, accuracy_score, plot_roc_curve, plot_confusion_matrix, roc_curve, confusion_matrix\n",
    "import itertools\n",
    "from tensorflow.keras.initializers import Constant, TruncatedNormal\n",
    "from tensorflow.keras.layers import Activation, Dense\n",
    "from tensorflow.keras.models import Sequential\n",
    "from tensorflow.keras.optimizers import Adam, SGD\n",
    "from tensorflow.keras.utils import to_categorical\n",
    "from tensorflow.keras.wrappers.scikit_learn import KerasClassifier\n",
    "from sklearn.preprocessing import LabelEncoder\n",
    "from numpy import mean, absolute\n"
   ]
  },
  {
   "attachments": {},
   "cell_type": "markdown",
   "metadata": {},
   "source": [
    "Learning Bias Mitigation: Parental Education Background <> DL"
   ]
  },
  {
   "cell_type": "code",
   "execution_count": null,
   "metadata": {},
   "outputs": [],
   "source": [
    "## define count of n from temporal models\n",
    "n = list(range(2, 61))"
   ]
  },
  {
   "cell_type": "markdown",
   "metadata": {},
   "source": [
    "Models"
   ]
  },
  {
   "cell_type": "code",
   "execution_count": null,
   "metadata": {},
   "outputs": [],
   "source": [
    "## define metrics dataframe\n",
    "metrics = pd.DataFrame(columns=['model', 'group', 'subgroup','Length', 'Sentence', 'Accuracy','loss', 'optimizer', 'metrics', 'Precision', 'Recall', 'AUC', 'FPR'])"
   ]
  },
  {
   "cell_type": "code",
   "execution_count": null,
   "metadata": {},
   "outputs": [],
   "source": [
    "## define feature cols\n",
    "feature_cols = ['Erstloesung','Schussel','Erfolg', 'Schwierigkeit', 'ist_Schulzeit', 'MehrfachFalsch', 'vorher_abgebrochen','Fehler', 'Klassenstufe', 'Jahredabei', 'AnzahlAufgaben', 'Sex__m', 'Sex__w', 'Testposition__pruefung', 'Testposition__training','Testposition__version', 'Art__GK', 'Art__GR', 'Art__GZ', 'Art__K', 'Art__LB','UserAttribut', 'OrderNumber', 'steps']"
   ]
  },
  {
   "cell_type": "code",
   "execution_count": null,
   "metadata": {},
   "outputs": [],
   "source": [
    "optimizer = ['Adam','Adam','Adam','SGD','SGD','SGD','Adam','Adam','Adam','SGD','SGD','SGD']\n",
    "loss = [\"binary_crossentropy\",'MeanSquaredError','Hinge',\"binary_crossentropy\",'MeanSquaredError','Hinge','binary_crossentropy','MeanSquaredError','Hinge','binary_crossentropy','MeanSquaredError','Hinge']\n",
    "metrics_ = ['Accuracy','Accuracy','Accuracy','Accuracy','Accuracy','Accuracy','AUC','AUC','AUC','AUC','AUC','AUC']\n",
    "\n",
    "\"\"\"\"\n",
    "build dropout prediction model\n",
    "\"\"\"\n",
    "def build_model():\n",
    "\tmodel = Sequential()\n",
    "\tmodel.add(Dense(24, input_dim=24, activation='relu'))\n",
    "\tmodel.add(Dense(48, activation='relu'))\n",
    "\tmodel.add(Dense(24, activation='relu'))\n",
    "\tmodel.add(Dense(12, activation='relu'))\n",
    "\tmodel.add(Dense(1, activation='sigmoid'))\n",
    "\t\t\n",
    "\treturn model\n",
    "\n",
    "\"\"\"\n",
    "calculate and extract relevant metrics from y and pred\n",
    "return metrics\n",
    "\"\"\"\n",
    "def get_dn_metrics(model, X,y):\n",
    "    yhat_probs = model.predict(X, verbose=0)\n",
    "    yhat_classes =  (model.predict(X) > 0.5).astype(\"int32\")\n",
    "    # reduce to 1d array\n",
    "    yhat_probs = yhat_probs[:, 0]\n",
    "    yhat_classes = yhat_classes[:, 0]\n",
    "    a = accuracy_score(y, yhat_classes)\n",
    "    p = precision_score(y, yhat_classes)\n",
    "    r = recall_score(y, yhat_classes)\n",
    "    roc_auc = roc_auc_score(y, yhat_probs)\n",
    "    tn, fp, fn, tp = confusion_matrix(y, yhat_classes).ravel()\n",
    "    fpr = fp/(fp+tn)\n",
    "\n",
    "    return a,p,r,roc_auc,fpr\n",
    "\n",
    "# loop through matrices\n",
    "for (loss, optimizer, metrics_) in zip(loss, optimizer, metrics_):\n",
    "    for i in n:\n",
    "        path='AbiEltern_allsessions/matrix'+str(i)+'.pkl'\n",
    "        infile = open(path,'rb')\n",
    "        df = pickle.load(infile)\n",
    "        infile.close()\n",
    "        df=df.reset_index()\n",
    "\n",
    "        y_len = len(feature_cols)\n",
    "        X = df[feature_cols].astype(float)\n",
    "        y = df.y\n",
    "        y= y.astype('int')\n",
    "        X_train, X_test, y_train, y_test = train_test_split(X, y, test_size=0.3, random_state=1)\n",
    "\n",
    "        model = build_model()\n",
    "\n",
    "        model.compile(\n",
    "            loss=loss,\n",
    "            optimizer=optimizer,\n",
    "            metrics=[metrics_]\n",
    "        )\n",
    "\n",
    "        model.fit(\n",
    "            x=X_train,\n",
    "            y=y_train,\n",
    "            epochs=10,\n",
    "            batch_size=128,\n",
    "            verbose=0,\n",
    "            validation_data=(X_test, y_test)\n",
    "        )\n",
    "\n",
    "        scores = model.evaluate(\n",
    "            x=X_test,\n",
    "            y=y_test,\n",
    "            verbose=0\n",
    "        )\n",
    "\n",
    "        a,p,r,roc_auc,fpr= get_dn_metrics(model, X_test,y_test)\n",
    "        metrics = metrics.append({'model':'DL','group':'all','subgroup':'all','Length':len(df),'Sentence': i, 'Accuracy':a,'loss':loss,'optimizer': optimizer,'metrics': metrics_,'Precision': p, 'Recall':r, 'AUC':roc_auc, 'FPR':fpr}, ignore_index=True)\n",
    "\n",
    "        group = ['abiEltern', 'abiEltern']\n",
    "        subgroup = ['abi', 'keinAbi']\n",
    "        matrice = ['matrices_forte_abi', 'matrices_forte_keinAbi']\n",
    "\n",
    "        for (group, subgroup, matrix) in zip(group, subgroup, matrice):\n",
    "            path= '../../02_dropout_prediction/01_keep_it_up/'+matrix+'/matrix'+str(i)+'.pkl'\n",
    "            infile = open(path,'rb')\n",
    "            df = pickle.load(infile)\n",
    "            infile.close()\n",
    "            df=df.reset_index()\n",
    "            y_len = len(feature_cols)\n",
    "            X = df[feature_cols].astype(float)\n",
    "            y = df.y\n",
    "            y= y.astype('int')\n",
    "\n",
    "            a,p,r,roc_auc,fpr= get_dn_metrics(model, X,y)\n",
    "            metrics = metrics.append({'model':'DL','group':group,'subgroup':subgroup,'Length':len(df),'Sentence': i, 'Accuracy':a,'loss':loss,'optimizer': optimizer,'metrics': metrics_,'Precision': p, 'Recall':r, 'AUC':roc_auc, 'FPR':fpr}, ignore_index=True)"
   ]
  },
  {
   "cell_type": "markdown",
   "metadata": {},
   "source": [
    "Evaluate"
   ]
  },
  {
   "cell_type": "code",
   "execution_count": null,
   "metadata": {},
   "outputs": [],
   "source": [
    "## construct dfs from metric df\n",
    "grouped = metrics.groupby(df.group)\n",
    "df_abiEltern = grouped.get_group(\"abiEltern\")\n",
    "\n",
    "df_abiEltern = df_abiEltern.drop(columns=['group', 'Accuracy','model'])\n",
    "df_abiEltern = pd.pivot_table(df_abiEltern, values=[\"Precision\",\"Recall\",\"AUC\",\"FPR\"], index=['loss', 'optimizer', 'metrics', \"Sentence\"], columns=[\"subgroup\"])\n",
    "df_abiEltern['PP'] = df_abiEltern.Precision.abi-df_abiEltern.Precision.keinAbi\n",
    "df_abiEltern['EO'] = df_abiEltern.Recall.keinAbi-df_abiEltern.Recall.abi\n",
    "df_abiEltern['SA'] = df_abiEltern.AUC.abi-df_abiEltern.AUC.keinAbi\n",
    "df_abiEltern['PE'] = df_abiEltern.FPR.keinAbi-df_abiEltern.FPR.abi\n",
    "df_abiEltern = df_abiEltern.drop(columns=['AUC','Precision','Recall','FPR'])\n",
    "df_abiEltern.columns = df_abiEltern.columns.droplevel(1)\n",
    "df_abiEltern = pd.pivot_table(df_abiEltern, values=[\"PP\",\"EO\",\"SA\",\"PE\"], index=[\"Sentence\"], columns=['loss', 'optimizer', 'metrics'])\n",
    "\n"
   ]
  },
  {
   "cell_type": "code",
   "execution_count": null,
   "metadata": {},
   "outputs": [],
   "source": [
    "## claculate mean of the results and map in data frame\n",
    "met = ['EO','PE','PP','SA']\n",
    "fertig = pd.DataFrame()\n",
    "\n",
    "optimizer = ['Adam','Adam','Adam','SGD','SGD','SGD','Adam','Adam','Adam','SGD','SGD','SGD']\n",
    "loss = [\"binary_crossentropy\",'MeanSquaredError','Hinge',\"binary_crossentropy\",'MeanSquaredError','Hinge','binary_crossentropy','MeanSquaredError','Hinge','binary_crossentropy','MeanSquaredError','Hinge']\n",
    "metrics_ = ['Accuracy','Accuracy','Accuracy','Accuracy','Accuracy','Accuracy','AUC','AUC','AUC','AUC','AUC','AUC']\n",
    "\n",
    "for loss, optimizer, metrics_ in zip(loss, optimizer, metrics_):\n",
    "    for metric in metrics:\n",
    "        for i, j in [(2, 10), (10, 20), (20, 30), (30, 40), (40, 50), (50, 60)]:\n",
    "            a = np.mean(df_abiEltern[metric][loss][optimizer][metrics_][i:j])\n",
    "            temp = pd.DataFrame({\n",
    "                'Metrik': [metric],\n",
    "                'Model': 'DL',\n",
    "                'Range': f'{i:02d}-{j-1:02d}',\n",
    "                'Val': a,\n",
    "                'loss': loss,\n",
    "                'optimizer': optimizer,\n",
    "                'metrics_': metrics_\n",
    "            })\n",
    "            fertig = pd.concat([fertig, temp])"
   ]
  },
  {
   "cell_type": "code",
   "execution_count": null,
   "metadata": {},
   "outputs": [],
   "source": [
    "\"\"\"\n",
    "functions to format results\n",
    "set two threshols: one at |0.02| in orange and one at |0.05| in red\n",
    "format all negative values in bold\n",
    "\"\"\"\n",
    "\n",
    "def threshold001(v, props=''):\n",
    "    return props if (v > 0.02) or (v < -0.02) else None\n",
    "\n",
    "def threshold005(v, props=''):\n",
    "    return props if (v > 0.05) or (v < -0.05) else None\n",
    "\n",
    "def negativeValue(v, props=''):\n",
    "    return props if (v < 0) else None\n",
    "\n",
    "def showTable(df):\n",
    "    styled = df.style.set_properties(color=\"black\", align=\"right\")\\\n",
    "        .set_properties(**{'background-color': 'white'})\\\n",
    "        .applymap(threshold001, props='color:orange;')\\\n",
    "        .applymap(threshold005, props='color:red;')\\\n",
    "        .applymap(negativeValue, props='font-weight:bold;')\n",
    "    return styled"
   ]
  },
  {
   "cell_type": "code",
   "execution_count": null,
   "metadata": {},
   "outputs": [],
   "source": [
    "## show results table\n",
    "mean_table = pd.pivot_table(fertig, values=['Val'], index=['loss', 'optimizer', 'metrics_','Range'], columns=['Metrik','Model'])\n",
    "showTable(mean_table)"
   ]
  },
  {
   "cell_type": "code",
   "execution_count": null,
   "metadata": {},
   "outputs": [],
   "source": [
    "## code to print results of specific measures\n",
    "# grouped = metrics.groupby(metrics.group)\n",
    "# df_all = grouped.get_group(\"all\")\n",
    "# modell = df_all.groupby(df_all.loss)\n",
    "# five = modell.get_group('MeanSquaredError')\n",
    "# n = five.groupby(five.optimizer)\n",
    "# n = n.get_group('Adam')\n",
    "# f = n.groupby(n.metrics)\n",
    "# f = f.get_group('Accuracy')\n",
    "# ax = sns.lineplot(data=f, x='Sentence', y='Accuracy', hue='model')"
   ]
  }
 ],
 "metadata": {
  "kernelspec": {
   "display_name": "Python 3.10.2 64-bit",
   "language": "python",
   "name": "python3"
  },
  "language_info": {
   "codemirror_mode": {
    "name": "ipython",
    "version": 3
   },
   "file_extension": ".py",
   "mimetype": "text/x-python",
   "name": "python",
   "nbconvert_exporter": "python",
   "pygments_lexer": "ipython3",
   "version": "3.10.2"
  },
  "orig_nbformat": 4,
  "vscode": {
   "interpreter": {
    "hash": "369f2c481f4da34e4445cda3fffd2e751bd1c4d706f27375911949ba6bb62e1c"
   }
  }
 },
 "nbformat": 4,
 "nbformat_minor": 2
}
