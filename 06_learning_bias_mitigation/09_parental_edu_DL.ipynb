{
 "cells": [
  {
   "cell_type": "code",
   "execution_count": 7,
   "metadata": {},
   "outputs": [],
   "source": [
    "path = \"c:/Users/Nathalie/Nextcloud/LADi/Orthografie Trainer/Code/04_bias_mitigation/\"\n",
    "\n",
    "import sys\n",
    "\n",
    "sys.path.insert(1, path + \"classes\")\n",
    "\n",
    "from DecisionTree_insession import in_session_decision_tree\n",
    "from KNN_insession import in_session_KNN\n",
    "from MLP_insession import in_session_MLP\n",
    "from MetricsClass import Evaluation\n",
    "from Plotting import Plots\n",
    "import numpy as np\n",
    "\n",
    "import pandas as pd\n",
    "import seaborn as sns\n",
    "import pickle"
   ]
  },
  {
   "attachments": {},
   "cell_type": "markdown",
   "metadata": {},
   "source": [
    "Learning Bias Mitigation: Parental Education Background <> DL"
   ]
  },
  {
   "cell_type": "code",
   "execution_count": 2,
   "metadata": {},
   "outputs": [],
   "source": [
    "## define feature cols\n",
    "feature_cols = [\n",
    "    \"Erstloesung\",\n",
    "    \"Schussel\",\n",
    "    \"Erfolg\",\n",
    "    \"Schwierigkeit\",\n",
    "    \"ist_Schulzeit\",\n",
    "    \"MehrfachFalsch\",\n",
    "    \"vorher_abgebrochen\",\n",
    "    \"Fehler\",\n",
    "    \"Klassenstufe\",\n",
    "    \"Jahredabei\",\n",
    "    \"AnzahlAufgaben\",\n",
    "    \"Sex__m\",\n",
    "    \"Sex__w\",\n",
    "    \"Testposition__pruefung\",\n",
    "    \"Testposition__training\",\n",
    "    \"Testposition__version\",\n",
    "    \"Art__GK\",\n",
    "    \"Art__GR\",\n",
    "    \"Art__GZ\",\n",
    "    \"Art__K\",\n",
    "    \"Art__LB\",\n",
    "    \"UserAttribut\",\n",
    "    \"OrderNumber\",\n",
    "    \"steps\",\n",
    "]"
   ]
  },
  {
   "cell_type": "code",
   "execution_count": 3,
   "metadata": {},
   "outputs": [
    {
     "name": "stdout",
     "output_type": "stream",
     "text": [
      "Created a Mitigation Object\n",
      "Hi ML class\n",
      "64/64 [==============================] - 0s 1ms/step\n"
     ]
    },
    {
     "name": "stderr",
     "output_type": "stream",
     "text": [
      "c:\\Users/Nathalie/Nextcloud/LADi/Orthografie Trainer/Code/04_bias_mitigation/classes\\MLP_insession.py:52: FutureWarning: The frame.append method is deprecated and will be removed from pandas in a future version. Use pandas.concat instead.\n",
      "  self.metrics = self.metrics.append(\n"
     ]
    },
    {
     "name": "stdout",
     "output_type": "stream",
     "text": [
      "252/252 [==============================] - 0s 1ms/step\n"
     ]
    },
    {
     "name": "stderr",
     "output_type": "stream",
     "text": [
      "c:\\Users/Nathalie/Nextcloud/LADi/Orthografie Trainer/Code/04_bias_mitigation/classes\\MLP_insession.py:137: FutureWarning: The frame.append method is deprecated and will be removed from pandas in a future version. Use pandas.concat instead.\n",
      "  self.metrics = self.metrics.append(\n"
     ]
    },
    {
     "name": "stdout",
     "output_type": "stream",
     "text": [
      "696/696 [==============================] - 1s 924us/step\n"
     ]
    },
    {
     "name": "stderr",
     "output_type": "stream",
     "text": [
      "c:\\Users/Nathalie/Nextcloud/LADi/Orthografie Trainer/Code/04_bias_mitigation/classes\\MLP_insession.py:137: FutureWarning: The frame.append method is deprecated and will be removed from pandas in a future version. Use pandas.concat instead.\n",
      "  self.metrics = self.metrics.append(\n"
     ]
    },
    {
     "name": "stdout",
     "output_type": "stream",
     "text": [
      "61/61 [==============================] - 0s 898us/step\n"
     ]
    },
    {
     "name": "stderr",
     "output_type": "stream",
     "text": [
      "c:\\Users/Nathalie/Nextcloud/LADi/Orthografie Trainer/Code/04_bias_mitigation/classes\\MLP_insession.py:52: FutureWarning: The frame.append method is deprecated and will be removed from pandas in a future version. Use pandas.concat instead.\n",
      "  self.metrics = self.metrics.append(\n"
     ]
    },
    {
     "name": "stdout",
     "output_type": "stream",
     "text": [
      "249/249 [==============================] - 0s 912us/step\n"
     ]
    },
    {
     "name": "stderr",
     "output_type": "stream",
     "text": [
      "c:\\Users/Nathalie/Nextcloud/LADi/Orthografie Trainer/Code/04_bias_mitigation/classes\\MLP_insession.py:137: FutureWarning: The frame.append method is deprecated and will be removed from pandas in a future version. Use pandas.concat instead.\n",
      "  self.metrics = self.metrics.append(\n"
     ]
    },
    {
     "name": "stdout",
     "output_type": "stream",
     "text": [
      "687/687 [==============================] - 1s 906us/step\n"
     ]
    },
    {
     "name": "stderr",
     "output_type": "stream",
     "text": [
      "c:\\Users/Nathalie/Nextcloud/LADi/Orthografie Trainer/Code/04_bias_mitigation/classes\\MLP_insession.py:137: FutureWarning: The frame.append method is deprecated and will be removed from pandas in a future version. Use pandas.concat instead.\n",
      "  self.metrics = self.metrics.append(\n"
     ]
    },
    {
     "name": "stdout",
     "output_type": "stream",
     "text": [
      "59/59 [==============================] - 0s 1ms/step\n"
     ]
    },
    {
     "name": "stderr",
     "output_type": "stream",
     "text": [
      "c:\\Users/Nathalie/Nextcloud/LADi/Orthografie Trainer/Code/04_bias_mitigation/classes\\MLP_insession.py:52: FutureWarning: The frame.append method is deprecated and will be removed from pandas in a future version. Use pandas.concat instead.\n",
      "  self.metrics = self.metrics.append(\n"
     ]
    },
    {
     "name": "stdout",
     "output_type": "stream",
     "text": [
      "248/248 [==============================] - 0s 893us/step\n"
     ]
    },
    {
     "name": "stderr",
     "output_type": "stream",
     "text": [
      "c:\\Users/Nathalie/Nextcloud/LADi/Orthografie Trainer/Code/04_bias_mitigation/classes\\MLP_insession.py:137: FutureWarning: The frame.append method is deprecated and will be removed from pandas in a future version. Use pandas.concat instead.\n",
      "  self.metrics = self.metrics.append(\n"
     ]
    },
    {
     "name": "stdout",
     "output_type": "stream",
     "text": [
      "682/682 [==============================] - 1s 985us/step\n"
     ]
    },
    {
     "name": "stderr",
     "output_type": "stream",
     "text": [
      "c:\\Users/Nathalie/Nextcloud/LADi/Orthografie Trainer/Code/04_bias_mitigation/classes\\MLP_insession.py:137: FutureWarning: The frame.append method is deprecated and will be removed from pandas in a future version. Use pandas.concat instead.\n",
      "  self.metrics = self.metrics.append(\n"
     ]
    },
    {
     "name": "stdout",
     "output_type": "stream",
     "text": [
      "64/64 [==============================] - 0s 871us/step\n"
     ]
    },
    {
     "name": "stderr",
     "output_type": "stream",
     "text": [
      "c:\\Users/Nathalie/Nextcloud/LADi/Orthografie Trainer/Code/04_bias_mitigation/classes\\MLP_insession.py:52: FutureWarning: The frame.append method is deprecated and will be removed from pandas in a future version. Use pandas.concat instead.\n",
      "  self.metrics = self.metrics.append(\n"
     ]
    },
    {
     "name": "stdout",
     "output_type": "stream",
     "text": [
      "252/252 [==============================] - 0s 1ms/step\n"
     ]
    },
    {
     "name": "stderr",
     "output_type": "stream",
     "text": [
      "c:\\Users/Nathalie/Nextcloud/LADi/Orthografie Trainer/Code/04_bias_mitigation/classes\\MLP_insession.py:137: FutureWarning: The frame.append method is deprecated and will be removed from pandas in a future version. Use pandas.concat instead.\n",
      "  self.metrics = self.metrics.append(\n"
     ]
    },
    {
     "name": "stdout",
     "output_type": "stream",
     "text": [
      "696/696 [==============================] - 1s 1ms/step\n"
     ]
    },
    {
     "name": "stderr",
     "output_type": "stream",
     "text": [
      "c:\\Users/Nathalie/Nextcloud/LADi/Orthografie Trainer/Code/04_bias_mitigation/classes\\MLP_insession.py:137: FutureWarning: The frame.append method is deprecated and will be removed from pandas in a future version. Use pandas.concat instead.\n",
      "  self.metrics = self.metrics.append(\n"
     ]
    },
    {
     "name": "stdout",
     "output_type": "stream",
     "text": [
      "61/61 [==============================] - 0s 959us/step\n"
     ]
    },
    {
     "name": "stderr",
     "output_type": "stream",
     "text": [
      "c:\\Users/Nathalie/Nextcloud/LADi/Orthografie Trainer/Code/04_bias_mitigation/classes\\MLP_insession.py:52: FutureWarning: The frame.append method is deprecated and will be removed from pandas in a future version. Use pandas.concat instead.\n",
      "  self.metrics = self.metrics.append(\n"
     ]
    },
    {
     "name": "stdout",
     "output_type": "stream",
     "text": [
      "249/249 [==============================] - 0s 1ms/step\n"
     ]
    },
    {
     "name": "stderr",
     "output_type": "stream",
     "text": [
      "c:\\Users/Nathalie/Nextcloud/LADi/Orthografie Trainer/Code/04_bias_mitigation/classes\\MLP_insession.py:137: FutureWarning: The frame.append method is deprecated and will be removed from pandas in a future version. Use pandas.concat instead.\n",
      "  self.metrics = self.metrics.append(\n"
     ]
    },
    {
     "name": "stdout",
     "output_type": "stream",
     "text": [
      "687/687 [==============================] - 1s 958us/step\n"
     ]
    },
    {
     "name": "stderr",
     "output_type": "stream",
     "text": [
      "c:\\Users/Nathalie/Nextcloud/LADi/Orthografie Trainer/Code/04_bias_mitigation/classes\\MLP_insession.py:137: FutureWarning: The frame.append method is deprecated and will be removed from pandas in a future version. Use pandas.concat instead.\n",
      "  self.metrics = self.metrics.append(\n"
     ]
    },
    {
     "name": "stdout",
     "output_type": "stream",
     "text": [
      "59/59 [==============================] - 0s 1ms/step\n"
     ]
    },
    {
     "name": "stderr",
     "output_type": "stream",
     "text": [
      "c:\\Users/Nathalie/Nextcloud/LADi/Orthografie Trainer/Code/04_bias_mitigation/classes\\MLP_insession.py:52: FutureWarning: The frame.append method is deprecated and will be removed from pandas in a future version. Use pandas.concat instead.\n",
      "  self.metrics = self.metrics.append(\n"
     ]
    },
    {
     "name": "stdout",
     "output_type": "stream",
     "text": [
      "248/248 [==============================] - 0s 1ms/step\n"
     ]
    },
    {
     "name": "stderr",
     "output_type": "stream",
     "text": [
      "c:\\Users/Nathalie/Nextcloud/LADi/Orthografie Trainer/Code/04_bias_mitigation/classes\\MLP_insession.py:137: FutureWarning: The frame.append method is deprecated and will be removed from pandas in a future version. Use pandas.concat instead.\n",
      "  self.metrics = self.metrics.append(\n"
     ]
    },
    {
     "name": "stdout",
     "output_type": "stream",
     "text": [
      "682/682 [==============================] - 1s 1ms/step\n"
     ]
    },
    {
     "name": "stderr",
     "output_type": "stream",
     "text": [
      "c:\\Users/Nathalie/Nextcloud/LADi/Orthografie Trainer/Code/04_bias_mitigation/classes\\MLP_insession.py:137: FutureWarning: The frame.append method is deprecated and will be removed from pandas in a future version. Use pandas.concat instead.\n",
      "  self.metrics = self.metrics.append(\n"
     ]
    },
    {
     "name": "stdout",
     "output_type": "stream",
     "text": [
      "64/64 [==============================] - 0s 949us/step\n"
     ]
    },
    {
     "name": "stderr",
     "output_type": "stream",
     "text": [
      "c:\\Users/Nathalie/Nextcloud/LADi/Orthografie Trainer/Code/04_bias_mitigation/classes\\MLP_insession.py:52: FutureWarning: The frame.append method is deprecated and will be removed from pandas in a future version. Use pandas.concat instead.\n",
      "  self.metrics = self.metrics.append(\n"
     ]
    },
    {
     "name": "stdout",
     "output_type": "stream",
     "text": [
      "252/252 [==============================] - 0s 1ms/step\n"
     ]
    },
    {
     "name": "stderr",
     "output_type": "stream",
     "text": [
      "c:\\Users/Nathalie/Nextcloud/LADi/Orthografie Trainer/Code/04_bias_mitigation/classes\\MLP_insession.py:137: FutureWarning: The frame.append method is deprecated and will be removed from pandas in a future version. Use pandas.concat instead.\n",
      "  self.metrics = self.metrics.append(\n"
     ]
    },
    {
     "name": "stdout",
     "output_type": "stream",
     "text": [
      "696/696 [==============================] - 1s 1ms/step\n"
     ]
    },
    {
     "name": "stderr",
     "output_type": "stream",
     "text": [
      "c:\\Users/Nathalie/Nextcloud/LADi/Orthografie Trainer/Code/04_bias_mitigation/classes\\MLP_insession.py:137: FutureWarning: The frame.append method is deprecated and will be removed from pandas in a future version. Use pandas.concat instead.\n",
      "  self.metrics = self.metrics.append(\n"
     ]
    },
    {
     "name": "stdout",
     "output_type": "stream",
     "text": [
      "61/61 [==============================] - 0s 923us/step\n"
     ]
    },
    {
     "name": "stderr",
     "output_type": "stream",
     "text": [
      "c:\\Users/Nathalie/Nextcloud/LADi/Orthografie Trainer/Code/04_bias_mitigation/classes\\MLP_insession.py:52: FutureWarning: The frame.append method is deprecated and will be removed from pandas in a future version. Use pandas.concat instead.\n",
      "  self.metrics = self.metrics.append(\n"
     ]
    },
    {
     "name": "stdout",
     "output_type": "stream",
     "text": [
      "249/249 [==============================] - 0s 992us/step\n"
     ]
    },
    {
     "name": "stderr",
     "output_type": "stream",
     "text": [
      "c:\\Users/Nathalie/Nextcloud/LADi/Orthografie Trainer/Code/04_bias_mitigation/classes\\MLP_insession.py:137: FutureWarning: The frame.append method is deprecated and will be removed from pandas in a future version. Use pandas.concat instead.\n",
      "  self.metrics = self.metrics.append(\n"
     ]
    },
    {
     "name": "stdout",
     "output_type": "stream",
     "text": [
      "687/687 [==============================] - 1s 924us/step\n"
     ]
    },
    {
     "name": "stderr",
     "output_type": "stream",
     "text": [
      "c:\\Users/Nathalie/Nextcloud/LADi/Orthografie Trainer/Code/04_bias_mitigation/classes\\MLP_insession.py:137: FutureWarning: The frame.append method is deprecated and will be removed from pandas in a future version. Use pandas.concat instead.\n",
      "  self.metrics = self.metrics.append(\n"
     ]
    },
    {
     "name": "stdout",
     "output_type": "stream",
     "text": [
      "59/59 [==============================] - 0s 897us/step\n"
     ]
    },
    {
     "name": "stderr",
     "output_type": "stream",
     "text": [
      "c:\\Users/Nathalie/Nextcloud/LADi/Orthografie Trainer/Code/04_bias_mitigation/classes\\MLP_insession.py:52: FutureWarning: The frame.append method is deprecated and will be removed from pandas in a future version. Use pandas.concat instead.\n",
      "  self.metrics = self.metrics.append(\n"
     ]
    },
    {
     "name": "stdout",
     "output_type": "stream",
     "text": [
      "248/248 [==============================] - 0s 906us/step\n"
     ]
    },
    {
     "name": "stderr",
     "output_type": "stream",
     "text": [
      "c:\\Users/Nathalie/Nextcloud/LADi/Orthografie Trainer/Code/04_bias_mitigation/classes\\MLP_insession.py:137: FutureWarning: The frame.append method is deprecated and will be removed from pandas in a future version. Use pandas.concat instead.\n",
      "  self.metrics = self.metrics.append(\n"
     ]
    },
    {
     "name": "stdout",
     "output_type": "stream",
     "text": [
      "682/682 [==============================] - 1s 1ms/step\n"
     ]
    },
    {
     "name": "stderr",
     "output_type": "stream",
     "text": [
      "c:\\Users/Nathalie/Nextcloud/LADi/Orthografie Trainer/Code/04_bias_mitigation/classes\\MLP_insession.py:137: FutureWarning: The frame.append method is deprecated and will be removed from pandas in a future version. Use pandas.concat instead.\n",
      "  self.metrics = self.metrics.append(\n"
     ]
    },
    {
     "name": "stdout",
     "output_type": "stream",
     "text": [
      "64/64 [==============================] - 0s 975us/step\n"
     ]
    },
    {
     "name": "stderr",
     "output_type": "stream",
     "text": [
      "c:\\Users/Nathalie/Nextcloud/LADi/Orthografie Trainer/Code/04_bias_mitigation/classes\\MLP_insession.py:52: FutureWarning: The frame.append method is deprecated and will be removed from pandas in a future version. Use pandas.concat instead.\n",
      "  self.metrics = self.metrics.append(\n"
     ]
    },
    {
     "name": "stdout",
     "output_type": "stream",
     "text": [
      "252/252 [==============================] - 0s 916us/step\n"
     ]
    },
    {
     "name": "stderr",
     "output_type": "stream",
     "text": [
      "c:\\Users/Nathalie/Nextcloud/LADi/Orthografie Trainer/Code/04_bias_mitigation/classes\\MLP_insession.py:137: FutureWarning: The frame.append method is deprecated and will be removed from pandas in a future version. Use pandas.concat instead.\n",
      "  self.metrics = self.metrics.append(\n"
     ]
    },
    {
     "name": "stdout",
     "output_type": "stream",
     "text": [
      "696/696 [==============================] - 1s 936us/step\n"
     ]
    },
    {
     "name": "stderr",
     "output_type": "stream",
     "text": [
      "c:\\Users/Nathalie/Nextcloud/LADi/Orthografie Trainer/Code/04_bias_mitigation/classes\\MLP_insession.py:137: FutureWarning: The frame.append method is deprecated and will be removed from pandas in a future version. Use pandas.concat instead.\n",
      "  self.metrics = self.metrics.append(\n"
     ]
    },
    {
     "name": "stdout",
     "output_type": "stream",
     "text": [
      "61/61 [==============================] - 0s 834us/step\n"
     ]
    },
    {
     "name": "stderr",
     "output_type": "stream",
     "text": [
      "c:\\Users/Nathalie/Nextcloud/LADi/Orthografie Trainer/Code/04_bias_mitigation/classes\\MLP_insession.py:52: FutureWarning: The frame.append method is deprecated and will be removed from pandas in a future version. Use pandas.concat instead.\n",
      "  self.metrics = self.metrics.append(\n"
     ]
    },
    {
     "name": "stdout",
     "output_type": "stream",
     "text": [
      "249/249 [==============================] - 1s 2ms/step\n"
     ]
    },
    {
     "name": "stderr",
     "output_type": "stream",
     "text": [
      "c:\\Users/Nathalie/Nextcloud/LADi/Orthografie Trainer/Code/04_bias_mitigation/classes\\MLP_insession.py:137: FutureWarning: The frame.append method is deprecated and will be removed from pandas in a future version. Use pandas.concat instead.\n",
      "  self.metrics = self.metrics.append(\n"
     ]
    },
    {
     "name": "stdout",
     "output_type": "stream",
     "text": [
      "687/687 [==============================] - 1s 1ms/step\n"
     ]
    },
    {
     "name": "stderr",
     "output_type": "stream",
     "text": [
      "c:\\Users/Nathalie/Nextcloud/LADi/Orthografie Trainer/Code/04_bias_mitigation/classes\\MLP_insession.py:137: FutureWarning: The frame.append method is deprecated and will be removed from pandas in a future version. Use pandas.concat instead.\n",
      "  self.metrics = self.metrics.append(\n"
     ]
    },
    {
     "name": "stdout",
     "output_type": "stream",
     "text": [
      "59/59 [==============================] - 0s 888us/step\n"
     ]
    },
    {
     "name": "stderr",
     "output_type": "stream",
     "text": [
      "c:\\Users/Nathalie/Nextcloud/LADi/Orthografie Trainer/Code/04_bias_mitigation/classes\\MLP_insession.py:52: FutureWarning: The frame.append method is deprecated and will be removed from pandas in a future version. Use pandas.concat instead.\n",
      "  self.metrics = self.metrics.append(\n"
     ]
    },
    {
     "name": "stdout",
     "output_type": "stream",
     "text": [
      "248/248 [==============================] - 0s 1ms/step\n"
     ]
    },
    {
     "name": "stderr",
     "output_type": "stream",
     "text": [
      "c:\\Users/Nathalie/Nextcloud/LADi/Orthografie Trainer/Code/04_bias_mitigation/classes\\MLP_insession.py:137: FutureWarning: The frame.append method is deprecated and will be removed from pandas in a future version. Use pandas.concat instead.\n",
      "  self.metrics = self.metrics.append(\n"
     ]
    },
    {
     "name": "stdout",
     "output_type": "stream",
     "text": [
      "682/682 [==============================] - 1s 986us/step\n"
     ]
    },
    {
     "name": "stderr",
     "output_type": "stream",
     "text": [
      "c:\\Users/Nathalie/Nextcloud/LADi/Orthografie Trainer/Code/04_bias_mitigation/classes\\MLP_insession.py:137: FutureWarning: The frame.append method is deprecated and will be removed from pandas in a future version. Use pandas.concat instead.\n",
      "  self.metrics = self.metrics.append(\n"
     ]
    },
    {
     "name": "stdout",
     "output_type": "stream",
     "text": [
      "64/64 [==============================] - 0s 871us/step\n"
     ]
    },
    {
     "name": "stderr",
     "output_type": "stream",
     "text": [
      "c:\\Users/Nathalie/Nextcloud/LADi/Orthografie Trainer/Code/04_bias_mitigation/classes\\MLP_insession.py:52: FutureWarning: The frame.append method is deprecated and will be removed from pandas in a future version. Use pandas.concat instead.\n",
      "  self.metrics = self.metrics.append(\n"
     ]
    },
    {
     "name": "stdout",
     "output_type": "stream",
     "text": [
      "252/252 [==============================] - 0s 938us/step\n"
     ]
    },
    {
     "name": "stderr",
     "output_type": "stream",
     "text": [
      "c:\\Users/Nathalie/Nextcloud/LADi/Orthografie Trainer/Code/04_bias_mitigation/classes\\MLP_insession.py:137: FutureWarning: The frame.append method is deprecated and will be removed from pandas in a future version. Use pandas.concat instead.\n",
      "  self.metrics = self.metrics.append(\n"
     ]
    },
    {
     "name": "stdout",
     "output_type": "stream",
     "text": [
      "696/696 [==============================] - 1s 971us/step\n"
     ]
    },
    {
     "name": "stderr",
     "output_type": "stream",
     "text": [
      "c:\\Users/Nathalie/Nextcloud/LADi/Orthografie Trainer/Code/04_bias_mitigation/classes\\MLP_insession.py:137: FutureWarning: The frame.append method is deprecated and will be removed from pandas in a future version. Use pandas.concat instead.\n",
      "  self.metrics = self.metrics.append(\n"
     ]
    },
    {
     "name": "stdout",
     "output_type": "stream",
     "text": [
      "61/61 [==============================] - 0s 1ms/step\n"
     ]
    },
    {
     "name": "stderr",
     "output_type": "stream",
     "text": [
      "c:\\Users/Nathalie/Nextcloud/LADi/Orthografie Trainer/Code/04_bias_mitigation/classes\\MLP_insession.py:52: FutureWarning: The frame.append method is deprecated and will be removed from pandas in a future version. Use pandas.concat instead.\n",
      "  self.metrics = self.metrics.append(\n"
     ]
    },
    {
     "name": "stdout",
     "output_type": "stream",
     "text": [
      "249/249 [==============================] - 0s 869us/step\n"
     ]
    },
    {
     "name": "stderr",
     "output_type": "stream",
     "text": [
      "c:\\Users/Nathalie/Nextcloud/LADi/Orthografie Trainer/Code/04_bias_mitigation/classes\\MLP_insession.py:137: FutureWarning: The frame.append method is deprecated and will be removed from pandas in a future version. Use pandas.concat instead.\n",
      "  self.metrics = self.metrics.append(\n"
     ]
    },
    {
     "name": "stdout",
     "output_type": "stream",
     "text": [
      "687/687 [==============================] - 1s 998us/step\n"
     ]
    },
    {
     "name": "stderr",
     "output_type": "stream",
     "text": [
      "c:\\Users/Nathalie/Nextcloud/LADi/Orthografie Trainer/Code/04_bias_mitigation/classes\\MLP_insession.py:137: FutureWarning: The frame.append method is deprecated and will be removed from pandas in a future version. Use pandas.concat instead.\n",
      "  self.metrics = self.metrics.append(\n"
     ]
    },
    {
     "name": "stdout",
     "output_type": "stream",
     "text": [
      "59/59 [==============================] - 0s 882us/step\n"
     ]
    },
    {
     "name": "stderr",
     "output_type": "stream",
     "text": [
      "c:\\Users/Nathalie/Nextcloud/LADi/Orthografie Trainer/Code/04_bias_mitigation/classes\\MLP_insession.py:52: FutureWarning: The frame.append method is deprecated and will be removed from pandas in a future version. Use pandas.concat instead.\n",
      "  self.metrics = self.metrics.append(\n"
     ]
    },
    {
     "name": "stdout",
     "output_type": "stream",
     "text": [
      "248/248 [==============================] - 0s 773us/step\n"
     ]
    },
    {
     "name": "stderr",
     "output_type": "stream",
     "text": [
      "c:\\Users/Nathalie/Nextcloud/LADi/Orthografie Trainer/Code/04_bias_mitigation/classes\\MLP_insession.py:137: FutureWarning: The frame.append method is deprecated and will be removed from pandas in a future version. Use pandas.concat instead.\n",
      "  self.metrics = self.metrics.append(\n"
     ]
    },
    {
     "name": "stdout",
     "output_type": "stream",
     "text": [
      "682/682 [==============================] - 1s 765us/step\n"
     ]
    },
    {
     "name": "stderr",
     "output_type": "stream",
     "text": [
      "c:\\Users/Nathalie/Nextcloud/LADi/Orthografie Trainer/Code/04_bias_mitigation/classes\\MLP_insession.py:137: FutureWarning: The frame.append method is deprecated and will be removed from pandas in a future version. Use pandas.concat instead.\n",
      "  self.metrics = self.metrics.append(\n"
     ]
    },
    {
     "name": "stdout",
     "output_type": "stream",
     "text": [
      "64/64 [==============================] - 0s 946us/step\n"
     ]
    },
    {
     "name": "stderr",
     "output_type": "stream",
     "text": [
      "c:\\Users/Nathalie/Nextcloud/LADi/Orthografie Trainer/Code/04_bias_mitigation/classes\\MLP_insession.py:52: FutureWarning: The frame.append method is deprecated and will be removed from pandas in a future version. Use pandas.concat instead.\n",
      "  self.metrics = self.metrics.append(\n"
     ]
    },
    {
     "name": "stdout",
     "output_type": "stream",
     "text": [
      "252/252 [==============================] - 0s 917us/step\n"
     ]
    },
    {
     "name": "stderr",
     "output_type": "stream",
     "text": [
      "c:\\Users/Nathalie/Nextcloud/LADi/Orthografie Trainer/Code/04_bias_mitigation/classes\\MLP_insession.py:137: FutureWarning: The frame.append method is deprecated and will be removed from pandas in a future version. Use pandas.concat instead.\n",
      "  self.metrics = self.metrics.append(\n"
     ]
    },
    {
     "name": "stdout",
     "output_type": "stream",
     "text": [
      "696/696 [==============================] - 1s 870us/step\n"
     ]
    },
    {
     "name": "stderr",
     "output_type": "stream",
     "text": [
      "c:\\Users/Nathalie/Nextcloud/LADi/Orthografie Trainer/Code/04_bias_mitigation/classes\\MLP_insession.py:137: FutureWarning: The frame.append method is deprecated and will be removed from pandas in a future version. Use pandas.concat instead.\n",
      "  self.metrics = self.metrics.append(\n"
     ]
    },
    {
     "name": "stdout",
     "output_type": "stream",
     "text": [
      "61/61 [==============================] - 0s 984us/step\n"
     ]
    },
    {
     "name": "stderr",
     "output_type": "stream",
     "text": [
      "c:\\Users/Nathalie/Nextcloud/LADi/Orthografie Trainer/Code/04_bias_mitigation/classes\\MLP_insession.py:52: FutureWarning: The frame.append method is deprecated and will be removed from pandas in a future version. Use pandas.concat instead.\n",
      "  self.metrics = self.metrics.append(\n"
     ]
    },
    {
     "name": "stdout",
     "output_type": "stream",
     "text": [
      "249/249 [==============================] - 0s 1ms/step\n"
     ]
    },
    {
     "name": "stderr",
     "output_type": "stream",
     "text": [
      "c:\\Users/Nathalie/Nextcloud/LADi/Orthografie Trainer/Code/04_bias_mitigation/classes\\MLP_insession.py:137: FutureWarning: The frame.append method is deprecated and will be removed from pandas in a future version. Use pandas.concat instead.\n",
      "  self.metrics = self.metrics.append(\n"
     ]
    },
    {
     "name": "stdout",
     "output_type": "stream",
     "text": [
      "687/687 [==============================] - 1s 1ms/step\n"
     ]
    },
    {
     "name": "stderr",
     "output_type": "stream",
     "text": [
      "c:\\Users/Nathalie/Nextcloud/LADi/Orthografie Trainer/Code/04_bias_mitigation/classes\\MLP_insession.py:137: FutureWarning: The frame.append method is deprecated and will be removed from pandas in a future version. Use pandas.concat instead.\n",
      "  self.metrics = self.metrics.append(\n"
     ]
    },
    {
     "name": "stdout",
     "output_type": "stream",
     "text": [
      "59/59 [==============================] - 0s 923us/step\n"
     ]
    },
    {
     "name": "stderr",
     "output_type": "stream",
     "text": [
      "c:\\Users/Nathalie/Nextcloud/LADi/Orthografie Trainer/Code/04_bias_mitigation/classes\\MLP_insession.py:52: FutureWarning: The frame.append method is deprecated and will be removed from pandas in a future version. Use pandas.concat instead.\n",
      "  self.metrics = self.metrics.append(\n"
     ]
    },
    {
     "name": "stdout",
     "output_type": "stream",
     "text": [
      "248/248 [==============================] - 0s 932us/step\n"
     ]
    },
    {
     "name": "stderr",
     "output_type": "stream",
     "text": [
      "c:\\Users/Nathalie/Nextcloud/LADi/Orthografie Trainer/Code/04_bias_mitigation/classes\\MLP_insession.py:137: FutureWarning: The frame.append method is deprecated and will be removed from pandas in a future version. Use pandas.concat instead.\n",
      "  self.metrics = self.metrics.append(\n"
     ]
    },
    {
     "name": "stdout",
     "output_type": "stream",
     "text": [
      "682/682 [==============================] - 1s 897us/step\n"
     ]
    },
    {
     "name": "stderr",
     "output_type": "stream",
     "text": [
      "c:\\Users/Nathalie/Nextcloud/LADi/Orthografie Trainer/Code/04_bias_mitigation/classes\\MLP_insession.py:137: FutureWarning: The frame.append method is deprecated and will be removed from pandas in a future version. Use pandas.concat instead.\n",
      "  self.metrics = self.metrics.append(\n"
     ]
    },
    {
     "name": "stdout",
     "output_type": "stream",
     "text": [
      "64/64 [==============================] - 0s 1ms/step\n"
     ]
    },
    {
     "name": "stderr",
     "output_type": "stream",
     "text": [
      "c:\\Users/Nathalie/Nextcloud/LADi/Orthografie Trainer/Code/04_bias_mitigation/classes\\MLP_insession.py:52: FutureWarning: The frame.append method is deprecated and will be removed from pandas in a future version. Use pandas.concat instead.\n",
      "  self.metrics = self.metrics.append(\n"
     ]
    },
    {
     "name": "stdout",
     "output_type": "stream",
     "text": [
      "252/252 [==============================] - 0s 1ms/step\n"
     ]
    },
    {
     "name": "stderr",
     "output_type": "stream",
     "text": [
      "c:\\Users/Nathalie/Nextcloud/LADi/Orthografie Trainer/Code/04_bias_mitigation/classes\\MLP_insession.py:137: FutureWarning: The frame.append method is deprecated and will be removed from pandas in a future version. Use pandas.concat instead.\n",
      "  self.metrics = self.metrics.append(\n"
     ]
    },
    {
     "name": "stdout",
     "output_type": "stream",
     "text": [
      "696/696 [==============================] - 1s 833us/step\n"
     ]
    },
    {
     "name": "stderr",
     "output_type": "stream",
     "text": [
      "c:\\Users/Nathalie/Nextcloud/LADi/Orthografie Trainer/Code/04_bias_mitigation/classes\\MLP_insession.py:137: FutureWarning: The frame.append method is deprecated and will be removed from pandas in a future version. Use pandas.concat instead.\n",
      "  self.metrics = self.metrics.append(\n"
     ]
    },
    {
     "name": "stdout",
     "output_type": "stream",
     "text": [
      "61/61 [==============================] - 0s 835us/step\n"
     ]
    },
    {
     "name": "stderr",
     "output_type": "stream",
     "text": [
      "c:\\Users/Nathalie/Nextcloud/LADi/Orthografie Trainer/Code/04_bias_mitigation/classes\\MLP_insession.py:52: FutureWarning: The frame.append method is deprecated and will be removed from pandas in a future version. Use pandas.concat instead.\n",
      "  self.metrics = self.metrics.append(\n"
     ]
    },
    {
     "name": "stdout",
     "output_type": "stream",
     "text": [
      "249/249 [==============================] - 0s 938us/step\n"
     ]
    },
    {
     "name": "stderr",
     "output_type": "stream",
     "text": [
      "c:\\Users/Nathalie/Nextcloud/LADi/Orthografie Trainer/Code/04_bias_mitigation/classes\\MLP_insession.py:137: FutureWarning: The frame.append method is deprecated and will be removed from pandas in a future version. Use pandas.concat instead.\n",
      "  self.metrics = self.metrics.append(\n"
     ]
    },
    {
     "name": "stdout",
     "output_type": "stream",
     "text": [
      "687/687 [==============================] - 1s 862us/step\n"
     ]
    },
    {
     "name": "stderr",
     "output_type": "stream",
     "text": [
      "c:\\Users/Nathalie/Nextcloud/LADi/Orthografie Trainer/Code/04_bias_mitigation/classes\\MLP_insession.py:137: FutureWarning: The frame.append method is deprecated and will be removed from pandas in a future version. Use pandas.concat instead.\n",
      "  self.metrics = self.metrics.append(\n"
     ]
    },
    {
     "name": "stdout",
     "output_type": "stream",
     "text": [
      "59/59 [==============================] - 0s 1ms/step\n"
     ]
    },
    {
     "name": "stderr",
     "output_type": "stream",
     "text": [
      "c:\\Users/Nathalie/Nextcloud/LADi/Orthografie Trainer/Code/04_bias_mitigation/classes\\MLP_insession.py:52: FutureWarning: The frame.append method is deprecated and will be removed from pandas in a future version. Use pandas.concat instead.\n",
      "  self.metrics = self.metrics.append(\n"
     ]
    },
    {
     "name": "stdout",
     "output_type": "stream",
     "text": [
      "248/248 [==============================] - 0s 827us/step\n"
     ]
    },
    {
     "name": "stderr",
     "output_type": "stream",
     "text": [
      "c:\\Users/Nathalie/Nextcloud/LADi/Orthografie Trainer/Code/04_bias_mitigation/classes\\MLP_insession.py:137: FutureWarning: The frame.append method is deprecated and will be removed from pandas in a future version. Use pandas.concat instead.\n",
      "  self.metrics = self.metrics.append(\n"
     ]
    },
    {
     "name": "stdout",
     "output_type": "stream",
     "text": [
      "682/682 [==============================] - 1s 972us/step\n"
     ]
    },
    {
     "name": "stderr",
     "output_type": "stream",
     "text": [
      "c:\\Users/Nathalie/Nextcloud/LADi/Orthografie Trainer/Code/04_bias_mitigation/classes\\MLP_insession.py:137: FutureWarning: The frame.append method is deprecated and will be removed from pandas in a future version. Use pandas.concat instead.\n",
      "  self.metrics = self.metrics.append(\n"
     ]
    },
    {
     "name": "stdout",
     "output_type": "stream",
     "text": [
      "64/64 [==============================] - 0s 885us/step\n"
     ]
    },
    {
     "name": "stderr",
     "output_type": "stream",
     "text": [
      "c:\\Users/Nathalie/Nextcloud/LADi/Orthografie Trainer/Code/04_bias_mitigation/classes\\MLP_insession.py:52: FutureWarning: The frame.append method is deprecated and will be removed from pandas in a future version. Use pandas.concat instead.\n",
      "  self.metrics = self.metrics.append(\n"
     ]
    },
    {
     "name": "stdout",
     "output_type": "stream",
     "text": [
      "252/252 [==============================] - 0s 879us/step\n"
     ]
    },
    {
     "name": "stderr",
     "output_type": "stream",
     "text": [
      "c:\\Users/Nathalie/Nextcloud/LADi/Orthografie Trainer/Code/04_bias_mitigation/classes\\MLP_insession.py:137: FutureWarning: The frame.append method is deprecated and will be removed from pandas in a future version. Use pandas.concat instead.\n",
      "  self.metrics = self.metrics.append(\n"
     ]
    },
    {
     "name": "stdout",
     "output_type": "stream",
     "text": [
      "696/696 [==============================] - 1s 877us/step\n"
     ]
    },
    {
     "name": "stderr",
     "output_type": "stream",
     "text": [
      "c:\\Users/Nathalie/Nextcloud/LADi/Orthografie Trainer/Code/04_bias_mitigation/classes\\MLP_insession.py:137: FutureWarning: The frame.append method is deprecated and will be removed from pandas in a future version. Use pandas.concat instead.\n",
      "  self.metrics = self.metrics.append(\n"
     ]
    },
    {
     "name": "stdout",
     "output_type": "stream",
     "text": [
      "61/61 [==============================] - 0s 4ms/step\n"
     ]
    },
    {
     "name": "stderr",
     "output_type": "stream",
     "text": [
      "c:\\Users/Nathalie/Nextcloud/LADi/Orthografie Trainer/Code/04_bias_mitigation/classes\\MLP_insession.py:52: FutureWarning: The frame.append method is deprecated and will be removed from pandas in a future version. Use pandas.concat instead.\n",
      "  self.metrics = self.metrics.append(\n"
     ]
    },
    {
     "name": "stdout",
     "output_type": "stream",
     "text": [
      "249/249 [==============================] - 0s 797us/step\n"
     ]
    },
    {
     "name": "stderr",
     "output_type": "stream",
     "text": [
      "c:\\Users/Nathalie/Nextcloud/LADi/Orthografie Trainer/Code/04_bias_mitigation/classes\\MLP_insession.py:137: FutureWarning: The frame.append method is deprecated and will be removed from pandas in a future version. Use pandas.concat instead.\n",
      "  self.metrics = self.metrics.append(\n"
     ]
    },
    {
     "name": "stdout",
     "output_type": "stream",
     "text": [
      "687/687 [==============================] - 1s 1ms/step\n"
     ]
    },
    {
     "name": "stderr",
     "output_type": "stream",
     "text": [
      "c:\\Users/Nathalie/Nextcloud/LADi/Orthografie Trainer/Code/04_bias_mitigation/classes\\MLP_insession.py:137: FutureWarning: The frame.append method is deprecated and will be removed from pandas in a future version. Use pandas.concat instead.\n",
      "  self.metrics = self.metrics.append(\n"
     ]
    },
    {
     "name": "stdout",
     "output_type": "stream",
     "text": [
      "59/59 [==============================] - 0s 1ms/step\n"
     ]
    },
    {
     "name": "stderr",
     "output_type": "stream",
     "text": [
      "c:\\Users/Nathalie/Nextcloud/LADi/Orthografie Trainer/Code/04_bias_mitigation/classes\\MLP_insession.py:52: FutureWarning: The frame.append method is deprecated and will be removed from pandas in a future version. Use pandas.concat instead.\n",
      "  self.metrics = self.metrics.append(\n"
     ]
    },
    {
     "name": "stdout",
     "output_type": "stream",
     "text": [
      "248/248 [==============================] - 0s 1ms/step\n"
     ]
    },
    {
     "name": "stderr",
     "output_type": "stream",
     "text": [
      "c:\\Users/Nathalie/Nextcloud/LADi/Orthografie Trainer/Code/04_bias_mitigation/classes\\MLP_insession.py:137: FutureWarning: The frame.append method is deprecated and will be removed from pandas in a future version. Use pandas.concat instead.\n",
      "  self.metrics = self.metrics.append(\n"
     ]
    },
    {
     "name": "stdout",
     "output_type": "stream",
     "text": [
      "682/682 [==============================] - 1s 993us/step\n"
     ]
    },
    {
     "name": "stderr",
     "output_type": "stream",
     "text": [
      "c:\\Users/Nathalie/Nextcloud/LADi/Orthografie Trainer/Code/04_bias_mitigation/classes\\MLP_insession.py:137: FutureWarning: The frame.append method is deprecated and will be removed from pandas in a future version. Use pandas.concat instead.\n",
      "  self.metrics = self.metrics.append(\n"
     ]
    },
    {
     "name": "stdout",
     "output_type": "stream",
     "text": [
      "64/64 [==============================] - 0s 971us/step\n"
     ]
    },
    {
     "name": "stderr",
     "output_type": "stream",
     "text": [
      "c:\\Users/Nathalie/Nextcloud/LADi/Orthografie Trainer/Code/04_bias_mitigation/classes\\MLP_insession.py:52: FutureWarning: The frame.append method is deprecated and will be removed from pandas in a future version. Use pandas.concat instead.\n",
      "  self.metrics = self.metrics.append(\n"
     ]
    },
    {
     "name": "stdout",
     "output_type": "stream",
     "text": [
      "252/252 [==============================] - 0s 1ms/step\n"
     ]
    },
    {
     "name": "stderr",
     "output_type": "stream",
     "text": [
      "c:\\Users/Nathalie/Nextcloud/LADi/Orthografie Trainer/Code/04_bias_mitigation/classes\\MLP_insession.py:137: FutureWarning: The frame.append method is deprecated and will be removed from pandas in a future version. Use pandas.concat instead.\n",
      "  self.metrics = self.metrics.append(\n"
     ]
    },
    {
     "name": "stdout",
     "output_type": "stream",
     "text": [
      "696/696 [==============================] - 1s 977us/step\n"
     ]
    },
    {
     "name": "stderr",
     "output_type": "stream",
     "text": [
      "c:\\Users/Nathalie/Nextcloud/LADi/Orthografie Trainer/Code/04_bias_mitigation/classes\\MLP_insession.py:137: FutureWarning: The frame.append method is deprecated and will be removed from pandas in a future version. Use pandas.concat instead.\n",
      "  self.metrics = self.metrics.append(\n"
     ]
    },
    {
     "name": "stdout",
     "output_type": "stream",
     "text": [
      "61/61 [==============================] - 0s 931us/step\n"
     ]
    },
    {
     "name": "stderr",
     "output_type": "stream",
     "text": [
      "c:\\Users/Nathalie/Nextcloud/LADi/Orthografie Trainer/Code/04_bias_mitigation/classes\\MLP_insession.py:52: FutureWarning: The frame.append method is deprecated and will be removed from pandas in a future version. Use pandas.concat instead.\n",
      "  self.metrics = self.metrics.append(\n"
     ]
    },
    {
     "name": "stdout",
     "output_type": "stream",
     "text": [
      "249/249 [==============================] - 0s 911us/step\n"
     ]
    },
    {
     "name": "stderr",
     "output_type": "stream",
     "text": [
      "c:\\Users/Nathalie/Nextcloud/LADi/Orthografie Trainer/Code/04_bias_mitigation/classes\\MLP_insession.py:137: FutureWarning: The frame.append method is deprecated and will be removed from pandas in a future version. Use pandas.concat instead.\n",
      "  self.metrics = self.metrics.append(\n"
     ]
    },
    {
     "name": "stdout",
     "output_type": "stream",
     "text": [
      "687/687 [==============================] - 1s 1ms/step\n"
     ]
    },
    {
     "name": "stderr",
     "output_type": "stream",
     "text": [
      "c:\\Users/Nathalie/Nextcloud/LADi/Orthografie Trainer/Code/04_bias_mitigation/classes\\MLP_insession.py:137: FutureWarning: The frame.append method is deprecated and will be removed from pandas in a future version. Use pandas.concat instead.\n",
      "  self.metrics = self.metrics.append(\n"
     ]
    },
    {
     "name": "stdout",
     "output_type": "stream",
     "text": [
      "59/59 [==============================] - 0s 1ms/step\n"
     ]
    },
    {
     "name": "stderr",
     "output_type": "stream",
     "text": [
      "c:\\Users/Nathalie/Nextcloud/LADi/Orthografie Trainer/Code/04_bias_mitigation/classes\\MLP_insession.py:52: FutureWarning: The frame.append method is deprecated and will be removed from pandas in a future version. Use pandas.concat instead.\n",
      "  self.metrics = self.metrics.append(\n"
     ]
    },
    {
     "name": "stdout",
     "output_type": "stream",
     "text": [
      "248/248 [==============================] - 0s 1ms/step\n"
     ]
    },
    {
     "name": "stderr",
     "output_type": "stream",
     "text": [
      "c:\\Users/Nathalie/Nextcloud/LADi/Orthografie Trainer/Code/04_bias_mitigation/classes\\MLP_insession.py:137: FutureWarning: The frame.append method is deprecated and will be removed from pandas in a future version. Use pandas.concat instead.\n",
      "  self.metrics = self.metrics.append(\n"
     ]
    },
    {
     "name": "stdout",
     "output_type": "stream",
     "text": [
      "682/682 [==============================] - 1s 1ms/step\n"
     ]
    },
    {
     "name": "stderr",
     "output_type": "stream",
     "text": [
      "c:\\Users/Nathalie/Nextcloud/LADi/Orthografie Trainer/Code/04_bias_mitigation/classes\\MLP_insession.py:137: FutureWarning: The frame.append method is deprecated and will be removed from pandas in a future version. Use pandas.concat instead.\n",
      "  self.metrics = self.metrics.append(\n"
     ]
    },
    {
     "name": "stdout",
     "output_type": "stream",
     "text": [
      "64/64 [==============================] - 0s 973us/step\n"
     ]
    },
    {
     "name": "stderr",
     "output_type": "stream",
     "text": [
      "c:\\Users/Nathalie/Nextcloud/LADi/Orthografie Trainer/Code/04_bias_mitigation/classes\\MLP_insession.py:52: FutureWarning: The frame.append method is deprecated and will be removed from pandas in a future version. Use pandas.concat instead.\n",
      "  self.metrics = self.metrics.append(\n"
     ]
    },
    {
     "name": "stdout",
     "output_type": "stream",
     "text": [
      "252/252 [==============================] - 0s 870us/step\n"
     ]
    },
    {
     "name": "stderr",
     "output_type": "stream",
     "text": [
      "c:\\Users/Nathalie/Nextcloud/LADi/Orthografie Trainer/Code/04_bias_mitigation/classes\\MLP_insession.py:137: FutureWarning: The frame.append method is deprecated and will be removed from pandas in a future version. Use pandas.concat instead.\n",
      "  self.metrics = self.metrics.append(\n"
     ]
    },
    {
     "name": "stdout",
     "output_type": "stream",
     "text": [
      "696/696 [==============================] - 1s 1ms/step\n"
     ]
    },
    {
     "name": "stderr",
     "output_type": "stream",
     "text": [
      "c:\\Users/Nathalie/Nextcloud/LADi/Orthografie Trainer/Code/04_bias_mitigation/classes\\MLP_insession.py:137: FutureWarning: The frame.append method is deprecated and will be removed from pandas in a future version. Use pandas.concat instead.\n",
      "  self.metrics = self.metrics.append(\n"
     ]
    },
    {
     "name": "stdout",
     "output_type": "stream",
     "text": [
      "61/61 [==============================] - 0s 2ms/step\n"
     ]
    },
    {
     "name": "stderr",
     "output_type": "stream",
     "text": [
      "c:\\Users/Nathalie/Nextcloud/LADi/Orthografie Trainer/Code/04_bias_mitigation/classes\\MLP_insession.py:52: FutureWarning: The frame.append method is deprecated and will be removed from pandas in a future version. Use pandas.concat instead.\n",
      "  self.metrics = self.metrics.append(\n"
     ]
    },
    {
     "name": "stdout",
     "output_type": "stream",
     "text": [
      "249/249 [==============================] - 0s 976us/step\n"
     ]
    },
    {
     "name": "stderr",
     "output_type": "stream",
     "text": [
      "c:\\Users/Nathalie/Nextcloud/LADi/Orthografie Trainer/Code/04_bias_mitigation/classes\\MLP_insession.py:137: FutureWarning: The frame.append method is deprecated and will be removed from pandas in a future version. Use pandas.concat instead.\n",
      "  self.metrics = self.metrics.append(\n"
     ]
    },
    {
     "name": "stdout",
     "output_type": "stream",
     "text": [
      "687/687 [==============================] - 1s 793us/step\n"
     ]
    },
    {
     "name": "stderr",
     "output_type": "stream",
     "text": [
      "c:\\Users/Nathalie/Nextcloud/LADi/Orthografie Trainer/Code/04_bias_mitigation/classes\\MLP_insession.py:137: FutureWarning: The frame.append method is deprecated and will be removed from pandas in a future version. Use pandas.concat instead.\n",
      "  self.metrics = self.metrics.append(\n"
     ]
    },
    {
     "name": "stdout",
     "output_type": "stream",
     "text": [
      "59/59 [==============================] - 0s 861us/step\n"
     ]
    },
    {
     "name": "stderr",
     "output_type": "stream",
     "text": [
      "c:\\Users/Nathalie/Nextcloud/LADi/Orthografie Trainer/Code/04_bias_mitigation/classes\\MLP_insession.py:52: FutureWarning: The frame.append method is deprecated and will be removed from pandas in a future version. Use pandas.concat instead.\n",
      "  self.metrics = self.metrics.append(\n"
     ]
    },
    {
     "name": "stdout",
     "output_type": "stream",
     "text": [
      "248/248 [==============================] - 0s 1ms/step\n"
     ]
    },
    {
     "name": "stderr",
     "output_type": "stream",
     "text": [
      "c:\\Users/Nathalie/Nextcloud/LADi/Orthografie Trainer/Code/04_bias_mitigation/classes\\MLP_insession.py:137: FutureWarning: The frame.append method is deprecated and will be removed from pandas in a future version. Use pandas.concat instead.\n",
      "  self.metrics = self.metrics.append(\n"
     ]
    },
    {
     "name": "stdout",
     "output_type": "stream",
     "text": [
      "682/682 [==============================] - 1s 1ms/step\n"
     ]
    },
    {
     "name": "stderr",
     "output_type": "stream",
     "text": [
      "c:\\Users/Nathalie/Nextcloud/LADi/Orthografie Trainer/Code/04_bias_mitigation/classes\\MLP_insession.py:137: FutureWarning: The frame.append method is deprecated and will be removed from pandas in a future version. Use pandas.concat instead.\n",
      "  self.metrics = self.metrics.append(\n"
     ]
    },
    {
     "name": "stdout",
     "output_type": "stream",
     "text": [
      "64/64 [==============================] - 0s 1ms/step\n"
     ]
    },
    {
     "name": "stderr",
     "output_type": "stream",
     "text": [
      "c:\\Users/Nathalie/Nextcloud/LADi/Orthografie Trainer/Code/04_bias_mitigation/classes\\MLP_insession.py:52: FutureWarning: The frame.append method is deprecated and will be removed from pandas in a future version. Use pandas.concat instead.\n",
      "  self.metrics = self.metrics.append(\n"
     ]
    },
    {
     "name": "stdout",
     "output_type": "stream",
     "text": [
      "252/252 [==============================] - 0s 899us/step\n"
     ]
    },
    {
     "name": "stderr",
     "output_type": "stream",
     "text": [
      "c:\\Users/Nathalie/Nextcloud/LADi/Orthografie Trainer/Code/04_bias_mitigation/classes\\MLP_insession.py:137: FutureWarning: The frame.append method is deprecated and will be removed from pandas in a future version. Use pandas.concat instead.\n",
      "  self.metrics = self.metrics.append(\n"
     ]
    },
    {
     "name": "stdout",
     "output_type": "stream",
     "text": [
      "696/696 [==============================] - 1s 1ms/step\n"
     ]
    },
    {
     "name": "stderr",
     "output_type": "stream",
     "text": [
      "c:\\Users/Nathalie/Nextcloud/LADi/Orthografie Trainer/Code/04_bias_mitigation/classes\\MLP_insession.py:137: FutureWarning: The frame.append method is deprecated and will be removed from pandas in a future version. Use pandas.concat instead.\n",
      "  self.metrics = self.metrics.append(\n"
     ]
    },
    {
     "name": "stdout",
     "output_type": "stream",
     "text": [
      "61/61 [==============================] - 0s 935us/step\n"
     ]
    },
    {
     "name": "stderr",
     "output_type": "stream",
     "text": [
      "c:\\Users/Nathalie/Nextcloud/LADi/Orthografie Trainer/Code/04_bias_mitigation/classes\\MLP_insession.py:52: FutureWarning: The frame.append method is deprecated and will be removed from pandas in a future version. Use pandas.concat instead.\n",
      "  self.metrics = self.metrics.append(\n"
     ]
    },
    {
     "name": "stdout",
     "output_type": "stream",
     "text": [
      "249/249 [==============================] - 0s 1ms/step\n"
     ]
    },
    {
     "name": "stderr",
     "output_type": "stream",
     "text": [
      "c:\\Users/Nathalie/Nextcloud/LADi/Orthografie Trainer/Code/04_bias_mitigation/classes\\MLP_insession.py:137: FutureWarning: The frame.append method is deprecated and will be removed from pandas in a future version. Use pandas.concat instead.\n",
      "  self.metrics = self.metrics.append(\n"
     ]
    },
    {
     "name": "stdout",
     "output_type": "stream",
     "text": [
      "687/687 [==============================] - 1s 934us/step\n"
     ]
    },
    {
     "name": "stderr",
     "output_type": "stream",
     "text": [
      "c:\\Users/Nathalie/Nextcloud/LADi/Orthografie Trainer/Code/04_bias_mitigation/classes\\MLP_insession.py:137: FutureWarning: The frame.append method is deprecated and will be removed from pandas in a future version. Use pandas.concat instead.\n",
      "  self.metrics = self.metrics.append(\n"
     ]
    },
    {
     "name": "stdout",
     "output_type": "stream",
     "text": [
      "59/59 [==============================] - 0s 1ms/step\n"
     ]
    },
    {
     "name": "stderr",
     "output_type": "stream",
     "text": [
      "c:\\Users/Nathalie/Nextcloud/LADi/Orthografie Trainer/Code/04_bias_mitigation/classes\\MLP_insession.py:52: FutureWarning: The frame.append method is deprecated and will be removed from pandas in a future version. Use pandas.concat instead.\n",
      "  self.metrics = self.metrics.append(\n"
     ]
    },
    {
     "name": "stdout",
     "output_type": "stream",
     "text": [
      "248/248 [==============================] - 0s 1ms/step\n"
     ]
    },
    {
     "name": "stderr",
     "output_type": "stream",
     "text": [
      "c:\\Users/Nathalie/Nextcloud/LADi/Orthografie Trainer/Code/04_bias_mitigation/classes\\MLP_insession.py:137: FutureWarning: The frame.append method is deprecated and will be removed from pandas in a future version. Use pandas.concat instead.\n",
      "  self.metrics = self.metrics.append(\n"
     ]
    },
    {
     "name": "stdout",
     "output_type": "stream",
     "text": [
      "682/682 [==============================] - 1s 1ms/step\n"
     ]
    },
    {
     "name": "stderr",
     "output_type": "stream",
     "text": [
      "c:\\Users/Nathalie/Nextcloud/LADi/Orthografie Trainer/Code/04_bias_mitigation/classes\\MLP_insession.py:137: FutureWarning: The frame.append method is deprecated and will be removed from pandas in a future version. Use pandas.concat instead.\n",
      "  self.metrics = self.metrics.append(\n"
     ]
    },
    {
     "name": "stdout",
     "output_type": "stream",
     "text": [
      "64/64 [==============================] - 0s 1ms/step\n"
     ]
    },
    {
     "name": "stderr",
     "output_type": "stream",
     "text": [
      "c:\\Users/Nathalie/Nextcloud/LADi/Orthografie Trainer/Code/04_bias_mitigation/classes\\MLP_insession.py:52: FutureWarning: The frame.append method is deprecated and will be removed from pandas in a future version. Use pandas.concat instead.\n",
      "  self.metrics = self.metrics.append(\n"
     ]
    },
    {
     "name": "stdout",
     "output_type": "stream",
     "text": [
      "252/252 [==============================] - 0s 2ms/step\n"
     ]
    },
    {
     "name": "stderr",
     "output_type": "stream",
     "text": [
      "c:\\Users/Nathalie/Nextcloud/LADi/Orthografie Trainer/Code/04_bias_mitigation/classes\\MLP_insession.py:137: FutureWarning: The frame.append method is deprecated and will be removed from pandas in a future version. Use pandas.concat instead.\n",
      "  self.metrics = self.metrics.append(\n"
     ]
    },
    {
     "name": "stdout",
     "output_type": "stream",
     "text": [
      "696/696 [==============================] - 1s 1ms/step\n"
     ]
    },
    {
     "name": "stderr",
     "output_type": "stream",
     "text": [
      "c:\\Users/Nathalie/Nextcloud/LADi/Orthografie Trainer/Code/04_bias_mitigation/classes\\MLP_insession.py:137: FutureWarning: The frame.append method is deprecated and will be removed from pandas in a future version. Use pandas.concat instead.\n",
      "  self.metrics = self.metrics.append(\n"
     ]
    },
    {
     "name": "stdout",
     "output_type": "stream",
     "text": [
      "61/61 [==============================] - 0s 900us/step\n"
     ]
    },
    {
     "name": "stderr",
     "output_type": "stream",
     "text": [
      "c:\\Users/Nathalie/Nextcloud/LADi/Orthografie Trainer/Code/04_bias_mitigation/classes\\MLP_insession.py:52: FutureWarning: The frame.append method is deprecated and will be removed from pandas in a future version. Use pandas.concat instead.\n",
      "  self.metrics = self.metrics.append(\n"
     ]
    },
    {
     "name": "stdout",
     "output_type": "stream",
     "text": [
      "249/249 [==============================] - 0s 846us/step\n"
     ]
    },
    {
     "name": "stderr",
     "output_type": "stream",
     "text": [
      "c:\\Users/Nathalie/Nextcloud/LADi/Orthografie Trainer/Code/04_bias_mitigation/classes\\MLP_insession.py:137: FutureWarning: The frame.append method is deprecated and will be removed from pandas in a future version. Use pandas.concat instead.\n",
      "  self.metrics = self.metrics.append(\n"
     ]
    },
    {
     "name": "stdout",
     "output_type": "stream",
     "text": [
      "687/687 [==============================] - 1s 1ms/step\n"
     ]
    },
    {
     "name": "stderr",
     "output_type": "stream",
     "text": [
      "c:\\Users/Nathalie/Nextcloud/LADi/Orthografie Trainer/Code/04_bias_mitigation/classes\\MLP_insession.py:137: FutureWarning: The frame.append method is deprecated and will be removed from pandas in a future version. Use pandas.concat instead.\n",
      "  self.metrics = self.metrics.append(\n"
     ]
    },
    {
     "name": "stdout",
     "output_type": "stream",
     "text": [
      "59/59 [==============================] - 0s 902us/step\n"
     ]
    },
    {
     "name": "stderr",
     "output_type": "stream",
     "text": [
      "c:\\Users/Nathalie/Nextcloud/LADi/Orthografie Trainer/Code/04_bias_mitigation/classes\\MLP_insession.py:52: FutureWarning: The frame.append method is deprecated and will be removed from pandas in a future version. Use pandas.concat instead.\n",
      "  self.metrics = self.metrics.append(\n"
     ]
    },
    {
     "name": "stdout",
     "output_type": "stream",
     "text": [
      "248/248 [==============================] - 0s 966us/step\n"
     ]
    },
    {
     "name": "stderr",
     "output_type": "stream",
     "text": [
      "c:\\Users/Nathalie/Nextcloud/LADi/Orthografie Trainer/Code/04_bias_mitigation/classes\\MLP_insession.py:137: FutureWarning: The frame.append method is deprecated and will be removed from pandas in a future version. Use pandas.concat instead.\n",
      "  self.metrics = self.metrics.append(\n"
     ]
    },
    {
     "name": "stdout",
     "output_type": "stream",
     "text": [
      "682/682 [==============================] - 1s 1ms/step\n"
     ]
    },
    {
     "name": "stderr",
     "output_type": "stream",
     "text": [
      "c:\\Users/Nathalie/Nextcloud/LADi/Orthografie Trainer/Code/04_bias_mitigation/classes\\MLP_insession.py:137: FutureWarning: The frame.append method is deprecated and will be removed from pandas in a future version. Use pandas.concat instead.\n",
      "  self.metrics = self.metrics.append(\n"
     ]
    }
   ],
   "source": [
    "MLP = in_session_MLP()\n",
    "MLP.set_range(2, 5)  \n",
    "\n",
    "MLP.set_majority_group(\"AbiEltern\")\n",
    "MLP.set_demographic_category(\"AbiEltern\")\n",
    "\n",
    "MLP.load_matrices(\n",
    "    \"06_learning_bias_mitigation/parental_education/matrix\", \".pkl\", True\n",
    ")\n",
    "MLP.set_feature_cols(\n",
    "    feature_cols\n",
    ")\n",
    "MLP.set_majority_group(\"keinAbi\")\n",
    "MLP.set_minority_group(\"abi\")\n",
    "\n",
    "optimizer = [\n",
    "    \"Adam\",\n",
    "    \"Adam\",\n",
    "    \"Adam\",\n",
    "    \"SGD\",\n",
    "    \"SGD\",\n",
    "    \"SGD\",\n",
    "    \"Adam\",\n",
    "    \"Adam\",\n",
    "    \"Adam\",\n",
    "    \"SGD\",\n",
    "    \"SGD\",\n",
    "    \"SGD\",\n",
    "]\n",
    "loss = [\n",
    "    \"binary_crossentropy\",\n",
    "    \"MeanSquaredError\",\n",
    "    \"Hinge\",\n",
    "    \"binary_crossentropy\",\n",
    "    \"MeanSquaredError\",\n",
    "    \"Hinge\",\n",
    "    \"binary_crossentropy\",\n",
    "    \"MeanSquaredError\",\n",
    "    \"Hinge\",\n",
    "    \"binary_crossentropy\",\n",
    "    \"MeanSquaredError\",\n",
    "    \"Hinge\",\n",
    "]\n",
    "metrics_ = [\n",
    "    \"Accuracy\",\n",
    "    \"Accuracy\",\n",
    "    \"Accuracy\",\n",
    "    \"Accuracy\",\n",
    "    \"Accuracy\",\n",
    "    \"Accuracy\",\n",
    "    \"AUC\",\n",
    "    \"AUC\",\n",
    "    \"AUC\",\n",
    "    \"AUC\",\n",
    "    \"AUC\",\n",
    "    \"AUC\",\n",
    "]\n",
    "\n",
    "metrics = pd.DataFrame(\n",
    "            columns=[\n",
    "                \"model\",\n",
    "                \"group\",\n",
    "                \"subgroup\",\n",
    "                \"Length\",\n",
    "                \"Sentence\",\n",
    "                \"Accuracy\",\n",
    "                \"Precision\",\n",
    "                \"Recall\",\n",
    "                \"AUC\",\n",
    "                \"FPR\",\n",
    "                \"optimizer\",\n",
    "                \"loss\",\n",
    "                \"metrics\"\n",
    "            ]\n",
    "        )\n",
    "\n",
    "for optimizer, loss, metrics_ in zip(optimizer,loss,metrics_):\n",
    "    metrics_MLP = MLP.loop_matrices(\"parental_education/matrix\",optimizer,loss,metrics_,24,24)\n",
    "    metrics_MLP[\"optimizer\"] = optimizer\n",
    "    metrics_MLP['loss'] = loss\n",
    "    metrics_MLP['metrics'] = metrics_\n",
    "\n",
    "    metrics = pd.concat([metrics,metrics_MLP])"
   ]
  },
  {
   "cell_type": "markdown",
   "metadata": {},
   "source": [
    "Evaluate"
   ]
  },
  {
   "cell_type": "code",
   "execution_count": 4,
   "metadata": {},
   "outputs": [
    {
     "name": "stdout",
     "output_type": "stream",
     "text": [
      "Created a Mitigation Object\n"
     ]
    }
   ],
   "source": [
    "# evaluate metrics for fairness\n",
    "evaluation_obj = Evaluation(metrics)\n",
    "evaluation_obj.set_demographic_category(\"AbiEltern\")\n",
    "evaluation_obj.set_minority_group(\"abi\")\n",
    "evaluation_obj.set_majority_group(\"keinAbi\")\n",
    "index_list = [\"loss\", \"optimizer\", \"metrics\", \"Sentence\"]\n",
    "columns=[\"loss\", \"optimizer\", \"metrics\"]\n",
    "\n",
    "df_abi = evaluation_obj.evaluate_learning_bias(index_list, columns)"
   ]
  },
  {
   "cell_type": "code",
   "execution_count": 15,
   "metadata": {},
   "outputs": [],
   "source": [
    "optimizer = [\n",
    "    \"Adam\",\n",
    "    \"Adam\",\n",
    "    \"Adam\",\n",
    "    \"SGD\",\n",
    "    \"SGD\",\n",
    "    \"SGD\",\n",
    "    \"Adam\",\n",
    "    \"Adam\",\n",
    "    \"Adam\",\n",
    "    \"SGD\",\n",
    "    \"SGD\",\n",
    "    \"SGD\",\n",
    "]\n",
    "loss = [\n",
    "    \"binary_crossentropy\",\n",
    "    \"MeanSquaredError\",\n",
    "    \"Hinge\",\n",
    "    \"binary_crossentropy\",\n",
    "    \"MeanSquaredError\",\n",
    "    \"Hinge\",\n",
    "    \"binary_crossentropy\",\n",
    "    \"MeanSquaredError\",\n",
    "    \"Hinge\",\n",
    "    \"binary_crossentropy\",\n",
    "    \"MeanSquaredError\",\n",
    "    \"Hinge\",\n",
    "]\n",
    "metrics_ = [\n",
    "    \"Accuracy\",\n",
    "    \"Accuracy\",\n",
    "    \"Accuracy\",\n",
    "    \"Accuracy\",\n",
    "    \"Accuracy\",\n",
    "    \"Accuracy\",\n",
    "    \"AUC\",\n",
    "    \"AUC\",\n",
    "    \"AUC\",\n",
    "    \"AUC\",\n",
    "    \"AUC\",\n",
    "    \"AUC\",\n",
    "]"
   ]
  },
  {
   "cell_type": "code",
   "execution_count": 16,
   "metadata": {},
   "outputs": [],
   "source": [
    "## claculate mean of the results and map in data frame\n",
    "met = [\"EO\", \"PE\", \"PP\", \"SA\"]\n",
    "mean_table = pd.DataFrame()\n",
    "index_ranges = [\n",
    "    (2, 10, 8,\"02-9\"),\n",
    "    (10, 20, 9,\"10-19\"),\n",
    "    (20, 30, 9,\"20-29\"),\n",
    "    (30, 40, 9,\"30-39\"),\n",
    "    (40, 50, 9,\"40-49\"),\n",
    "    (50, 60, 10,\"50-60\")\n",
    "]\n",
    "\n",
    "for loss, optimizer, metrics_ in zip(loss, optimizer, metrics_):\n",
    "    for x in met:\n",
    "        for (i_start, i_end, div, index_range) in index_ranges:\n",
    "            a=0\n",
    "            for i in range(i_start, i_end):\n",
    "                a = a+df_abi[x][loss][optimizer][metrics_][i]\n",
    "            a = a/div\n",
    "            temp = pd.DataFrame(\n",
    "                {\n",
    "                    \"Metrik\": [x],\n",
    "                    \"Model\": \"DL\",\n",
    "                    \"Range\": index_range,\n",
    "                    \"Val\": a,\n",
    "                    \"loss\": loss,\n",
    "                    \"optimizer\": optimizer,\n",
    "                    \"metrics_\": metrics_,\n",
    "                }\n",
    "            )\n",
    "\n",
    "            mean_table = pd.concat([mean_table, temp])\n",
    "\n",
    "## show results table\n",
    "mean_table = pd.pivot_table(\n",
    "    mean_table,\n",
    "    values=[\"Val\"],\n",
    "    index=[\"loss\", \"optimizer\", \"metrics_\", \"Range\"],\n",
    "    columns=[\"Metrik\", \"Model\"]\n",
    ")"
   ]
  },
  {
   "cell_type": "code",
   "execution_count": null,
   "metadata": {},
   "outputs": [],
   "source": [
    "# show table\n",
    "table = evaluation_obj.showTable(mean_table)\n",
    "table"
   ]
  }
 ],
 "metadata": {
  "kernelspec": {
   "display_name": "Python 3.10.2 64-bit",
   "language": "python",
   "name": "python3"
  },
  "language_info": {
   "codemirror_mode": {
    "name": "ipython",
    "version": 3
   },
   "file_extension": ".py",
   "mimetype": "text/x-python",
   "name": "python",
   "nbconvert_exporter": "python",
   "pygments_lexer": "ipython3",
   "version": "3.10.2"
  },
  "orig_nbformat": 4,
  "vscode": {
   "interpreter": {
    "hash": "369f2c481f4da34e4445cda3fffd2e751bd1c4d706f27375911949ba6bb62e1c"
   }
  }
 },
 "nbformat": 4,
 "nbformat_minor": 2
}
