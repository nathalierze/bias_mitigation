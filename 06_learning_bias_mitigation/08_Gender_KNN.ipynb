{
 "cells": [
  {
   "cell_type": "code",
   "execution_count": null,
   "metadata": {},
   "outputs": [],
   "source": [
    "import pandas as pd\n",
    "import pickle\n",
    "import seaborn as sns\n",
    "import numpy as np\n",
    "from sklearn.tree import DecisionTreeClassifier\n",
    "from sklearn.model_selection import train_test_split \n",
    "from sklearn.neighbors import KNeighborsClassifier\n",
    "from sklearn import tree\n",
    "from matplotlib import pyplot as plt\n",
    "from sklearn.model_selection import cross_val_score, KFold, StratifiedKFold\n",
    "from sklearn.preprocessing import StandardScaler\n",
    "from sklearn.model_selection import train_test_split\n",
    "from sklearn.metrics import log_loss, roc_auc_score, recall_score, precision_score, accuracy_score, plot_roc_curve, plot_confusion_matrix, roc_curve, confusion_matrix\n",
    "import itertools\n",
    "from tensorflow.keras.initializers import Constant, TruncatedNormal\n",
    "from tensorflow.keras.layers import Activation, Dense\n",
    "from tensorflow.keras.models import Sequential\n",
    "from tensorflow.keras.optimizers import Adam\n",
    "from tensorflow.keras.utils import to_categorical\n",
    "from tensorflow.keras.wrappers.scikit_learn import KerasClassifier\n",
    "from sklearn.preprocessing import LabelEncoder\n",
    "from numpy import mean, absolute\n",
    "\n",
    "# Oversampling and under sampling\n",
    "from imblearn.over_sampling import RandomOverSampler, SMOTE\n",
    "from imblearn.under_sampling import RandomUnderSampler, NearMiss\n",
    "from collections import Counter"
   ]
  },
  {
   "attachments": {},
   "cell_type": "markdown",
   "metadata": {},
   "source": [
    "Learning Bias Mitigation: Gender <> KNN"
   ]
  },
  {
   "cell_type": "code",
   "execution_count": null,
   "metadata": {},
   "outputs": [],
   "source": [
    "## define count of n from temporal models\n",
    "n = list(range(2, 61))"
   ]
  },
  {
   "cell_type": "markdown",
   "metadata": {},
   "source": [
    "Models"
   ]
  },
  {
   "cell_type": "code",
   "execution_count": null,
   "metadata": {},
   "outputs": [],
   "source": [
    "## define metrics dataframe\n",
    "metrics = pd.DataFrame(columns=['model', 'group', 'subgroup','Length', 'Sentence', 'Accuracy','n_neighbors', 'weights', 'Precision', 'Recall', 'AUC', 'FPR'])"
   ]
  },
  {
   "cell_type": "code",
   "execution_count": null,
   "metadata": {},
   "outputs": [],
   "source": [
    "## define feature cols\n",
    "feature_cols = ['Erstloesung','Schussel','Erfolg', 'Schwierigkeit', 'ist_Schulzeit', 'MehrfachFalsch', 'vorher_abgebrochen','Fehler', 'Klassenstufe', 'Jahredabei', 'AnzahlAufgaben', 'Sex__m', 'Sex__w', 'Testposition__pruefung', 'Testposition__training','Testposition__version', 'Art__GK', 'Art__GR', 'Art__GZ', 'Art__K', 'Art__LB','UserAttribut', 'OrderNumber', 'steps']\n"
   ]
  },
  {
   "cell_type": "code",
   "execution_count": null,
   "metadata": {},
   "outputs": [],
   "source": [
    "\"\"\"\n",
    "calculate and extract relevant metrics from y and pred\n",
    "return metrics\n",
    "\"\"\"\n",
    "def get_metrics(clf,X,y,cv,pred):\n",
    "    a = accuracy_score(y,pred)\n",
    "    p = precision_score(y,pred)\n",
    "    r = recall_score(y,pred)\n",
    "\n",
    "    roc_auc = roc_auc_score(y,pred)\n",
    "    tn, fp, fn, tp = confusion_matrix(y, pred).ravel()\n",
    "    fpr = fp/(fp+tn)\n",
    "\n",
    "    return a,p,r,roc_auc,fpr"
   ]
  },
  {
   "cell_type": "code",
   "execution_count": null,
   "metadata": {},
   "outputs": [],
   "source": [
    "n_neighbors=[2,3,4,5,6,7,8,9,10,2,3,4,5,6,7,8,9,10]\n",
    "weights=['uniform','uniform','uniform','uniform','uniform','uniform','uniform','uniform','uniform','distance','distance','distance','distance','distance','distance','distance','distance','distance']\n",
    "\n",
    "## build model for different parameters\n",
    "for (n_neighbors, weights) in zip(n_neighbors, weights):\n",
    "    for i in n:\n",
    "        path='gender_allsessions/matrix'+str(i)+'.pkl'\n",
    "        infile = open(path,'rb')\n",
    "        df = pickle.load(infile)\n",
    "        infile.close()\n",
    "        df=df.reset_index()\n",
    "        X = df[feature_cols]\n",
    "        y = df.y\n",
    "        y= y.astype('int')\n",
    "        X_train, X_test, y_train, y_test = train_test_split(X, y, test_size=0.3, random_state=1)\n",
    "        k = 5\n",
    "        cv = KFold(n_splits=k, random_state=None)\n",
    "\n",
    "        # fit\n",
    "        knn = KNeighborsClassifier(n_neighbors=n_neighbors, weights=weights)\n",
    "        knn = knn.fit(X_train, y_train)\n",
    "        pred = knn.predict(X_test)\n",
    "\n",
    "        a,p,r,roc_auc,fpr = get_metrics(knn,X_test,y_test,cv,pred)\n",
    "        metrics = metrics.append({'model':'KNN','group':'all','subgroup':'all','Length':len(df),'Sentence': i, 'Accuracy':a,'n_neighbors':n_neighbors, 'weights':weights, 'Precision': p, 'Recall':r, 'AUC':roc_auc, 'FPR':fpr}, ignore_index=True)\n",
    "\n",
    "        group = ['gender', 'gender']\n",
    "        subgroup = ['boys', 'girls']\n",
    "        matrice = ['matrices_forte_boys', 'matrices_forte_girls']\n",
    "\n",
    "        for (group, subgroup, matrix) in zip(group, subgroup, matrice):\n",
    "            path= '../../02_dropout_prediction/01_keep_it_up/'+matrix+'/matrix'+str(i)+'.pkl'\n",
    "            infile = open(path,'rb')\n",
    "            df = pickle.load(infile)\n",
    "            infile.close()\n",
    "            df=df.reset_index()\n",
    "            X = df[feature_cols]\n",
    "            y = df.y\n",
    "            y= y.astype('int')\n",
    "            pred = knn.predict(X)\n",
    "\n",
    "            a,p,r,roc_auc,fpr = get_metrics(knn,X,y,cv,pred)\n",
    "            metrics = metrics.append({'model':'KNN','group':group,'subgroup':subgroup,'Length':len(df),'Sentence': i, 'Accuracy':a,'n_neighbors':n_neighbors, 'weights':weights, 'Precision': p, 'Recall':r, 'AUC':roc_auc, 'FPR':fpr}, ignore_index=True)"
   ]
  },
  {
   "cell_type": "markdown",
   "metadata": {},
   "source": [
    "Evaluate"
   ]
  },
  {
   "cell_type": "code",
   "execution_count": null,
   "metadata": {},
   "outputs": [],
   "source": [
    "## construct dfs from metric df\n",
    "grouped = metrics.groupby(df.group)\n",
    "df_gender = grouped.get_group(\"gender\")\n",
    "\n",
    "df_gender = df_gender.drop(columns=['group', 'Accuracy'])\n",
    "df_gender = pd.pivot_table(df_gender, values=[\"Precision\",\"Recall\",\"AUC\",\"FPR\"], index=['n_neighbors', 'weights', \"Sentence\"], columns=[\"subgroup\"])\n",
    "df_gender['PP'] = df_gender.Precision.girls-df_gender.Precision.boys\n",
    "df_gender['EO'] = df_gender.Recall.boys-df_gender.Recall.girls\n",
    "df_gender['SA'] = df_gender.AUC.girls-df_gender.AUC.boys\n",
    "df_gender['PE'] = df_gender.FPR.boys-df_gender.FPR.girls\n",
    "df_gender = df_gender.drop(columns=['AUC','Precision','Recall','FPR'])\n",
    "df_gender.columns = df_gender.columns.droplevel(1)\n",
    "df_gender = pd.pivot_table(df_gender, values=[\"PP\",\"EO\",\"SA\",\"PE\"], index=[\"Sentence\"], columns=['n_neighbors', 'weights'])\n",
    "\n"
   ]
  },
  {
   "cell_type": "code",
   "execution_count": null,
   "metadata": {},
   "outputs": [],
   "source": [
    "## claculate mean of the results and map in data frame\n",
    "met = ['EO', 'PE', 'PP', 'SA']\n",
    "fertig = pd.DataFrame()\n",
    "n_neighbors=[2,3,4,5,6,7,8,9,10,2,3,4,5,6,7,8,9,10]\n",
    "weights=['uniform','uniform','uniform','uniform','uniform','uniform','uniform','uniform','uniform','distance','distance','distance','distance','distance','distance','distance','distance','distance']\n",
    "\n",
    "for n, w in zip(n_neighbors, weights):\n",
    "    for x in met:\n",
    "        for r in [(2, 10), (10, 20), (20, 30), (30, 40), (40, 50), (50, 60)]:\n",
    "            values = np.mean(df_gender[x][n][w][r[0]:r[1]])\n",
    "            temp = pd.DataFrame({\n",
    "                'Metrik': [x],\n",
    "                'Model': 'KNN',\n",
    "                'Range': '{}-{}'.format(r[0], r[1]-1),\n",
    "                'Val': values,\n",
    "                'n_neighbors': n,\n",
    "                'weights': w\n",
    "            })\n",
    "            fertig = fertig.append(temp, ignore_index=True)"
   ]
  },
  {
   "cell_type": "code",
   "execution_count": null,
   "metadata": {},
   "outputs": [],
   "source": [
    "\"\"\"\n",
    "functions to format results\n",
    "set two threshols: one at |0.02| in orange and one at |0.05| in red\n",
    "format all negative values in bold\n",
    "\"\"\"\n",
    "def threshold001(v, props=''):\n",
    "    return props if (v > 0.02) or (v < -0.02) else None\n",
    "\n",
    "def threshold005(v, props=''):\n",
    "    return props if (v > 0.05) or (v < -0.05) else None\n",
    "\n",
    "def negativeValue(v, props=''):\n",
    "    return props if (v < 0) else None\n",
    "\n",
    "def showTable(df):\n",
    "    styled = df.style.set_properties(color=\"black\", align=\"right\")\\\n",
    "        .set_properties(**{'background-color': 'white'})\\\n",
    "        .applymap(threshold001, props='color:orange;')\\\n",
    "        .applymap(threshold005, props='color:red;')\\\n",
    "        .applymap(negativeValue, props='font-weight:bold;')\n",
    "    return styled"
   ]
  },
  {
   "cell_type": "code",
   "execution_count": null,
   "metadata": {},
   "outputs": [],
   "source": [
    "## show results table\n",
    "mean_table = pd.pivot_table(fertig, values=['Val'], index=['n_neighbors', 'weights','Range'], columns=['Metrik','Model'])\n",
    "showTable(mean_table)"
   ]
  },
  {
   "cell_type": "code",
   "execution_count": null,
   "metadata": {},
   "outputs": [],
   "source": [
    "## code to print results of specific measures\n",
    "# grouped = metrics.groupby(metrics.group)\n",
    "# df_all = grouped.get_group(\"all\")\n",
    "# modell = df_all.groupby(df_all.n_neighbors)\n",
    "# five = modell.get_group(3)\n",
    "# n = five.groupby(five.weights)\n",
    "# f = n.get_group(\"distance\")\n",
    "# ax = sns.lineplot(data=f, x='Sentence', y='Accuracy', hue='model')"
   ]
  }
 ],
 "metadata": {
  "kernelspec": {
   "display_name": "Python 3.10.2 64-bit",
   "language": "python",
   "name": "python3"
  },
  "language_info": {
   "codemirror_mode": {
    "name": "ipython",
    "version": 3
   },
   "file_extension": ".py",
   "mimetype": "text/x-python",
   "name": "python",
   "nbconvert_exporter": "python",
   "pygments_lexer": "ipython3",
   "version": "3.10.2"
  },
  "orig_nbformat": 4,
  "vscode": {
   "interpreter": {
    "hash": "369f2c481f4da34e4445cda3fffd2e751bd1c4d706f27375911949ba6bb62e1c"
   }
  }
 },
 "nbformat": 4,
 "nbformat_minor": 2
}
